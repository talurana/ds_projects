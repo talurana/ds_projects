{
 "cells": [
  {
   "cell_type": "markdown",
   "metadata": {},
   "source": [
    "# Оценка рыночной стоимости автомобилей"
   ]
  },
  {
   "cell_type": "markdown",
   "metadata": {},
   "source": [
    "## Описание проекта\n",
    "\n",
    "Сервис по продаже автомобилей с пробегом «Не бит, не крашен» разрабатывает приложение для привлечения новых клиентов. Это приложение позволяет быстро узнать рыночную стоимость автомобиля. В распоряжении имеются исторические данные: технические характеристики, комплектации и цены автомобилей. Необходимо разработать модель для определения стоимости.\n",
    "\n",
    "Критерии, важные для заказчика:\n",
    "\n",
    "- качество предсказания;\n",
    "- скорость предсказания;\n",
    "- время обучения.\n",
    "\n",
    "## Инструкция по выполнению проекта\n",
    "\n",
    "Чтобы исследование было более всесторонним, используем не только градиентный бустинг. Попробуем также более простые модели, так как иногда они обеспечивают лучшие результаты.\n",
    "\n",
    "### Основные шаги:\n",
    "\n",
    "1. Загрузить данные из файла: /datasets/autos.csv.\n",
    "2. Изучить данные. Заполнить пропущенные значения и обработать аномалии в столбцах. Удалите неинформативные признаки.\n",
    "3. Подготовить выборки для обучения моделей.\n",
    "4. Обучить различные модели, обязательно включая LightGBM и одну модель, которая не использует бустинг. Протестировать разные гиперпараметры для каждой модели.\n",
    "5. Проанализировать время обучения, время предсказания и качество моделей.\n",
    "6. Выбрать лучшую модель согласно критериям заказчика и проверить её качество на тестовой выборке.\n",
    "\n",
    "### Примечания:\n",
    "\n",
    "- Использовать метрику RMSE для оценки качества моделей.\n",
    "- RMSE должен быть меньше 2500.\n",
    "- Изучить библиотеку LightGBM и использовать её для построения моделей градиентного бустинга.\n",
    "- Для измерения времени выполнения ячейки кода в Jupyter Notebook используйте специальную команду.\n",
    "- Ограничиться изменением двух или трёх параметров для модели градиентного бустинга, так как она может долго обучаться.\n",
    "\n",
    "\n",
    "del features_train\n",
    "\n",
    "\n",
    "### Описание данных\n",
    "\n",
    "Данные находятся в файле /datasets/autos.csv.\n",
    "\n",
    "Признаки:\n",
    "- _DateCrawled_ — дата скачивания анкеты из базы\n",
    "- _VehicleType_ — тип автомобильного кузова\n",
    "- _RegistrationYear_ — год регистрации автомобиля\n",
    "- _Gearbox_ — тип коробки передач\n",
    "- _Power_ — мощность (л. с.)\n",
    "- _Model_ — модель автомобиля\n",
    "- _Kilometer_ — пробег (км)\n",
    "- _RegistrationMonth_ — месяц регистрации автомобиля\n",
    "- _FuelType_ — тип топлива\n",
    "- _Brand_ — марка автомобиля\n",
    "- _Repaired_ — была машина в ремонте или нет\n",
    "- _DateCreated_ — дата создания анкеты\n",
    "- _NumberOfPictures_ — количество фотографий автомобиля\n",
    "- _PostalCode_ — почтовый индекс владельца анкеты (пользователя)\n",
    "- _LastSeen_ — дата последней активности пользователя\n",
    "\n",
    "Целевой признак:\n",
    "- _Price_ — цена (евро)"
   ]
  },
  {
   "cell_type": "markdown",
   "metadata": {},
   "source": [
    "Было произведено объединение данных датафреймов `market`, `money`, `time` в отдельных датафрейм с разделением данных о времени и выручке за каждый период в разные столбцы"
   ]
  },
  {
   "cell_type": "markdown",
   "metadata": {},
   "source": [
    "## Настройка переменных и окружения, импорты библиотек"
   ]
  },
  {
   "cell_type": "code",
   "execution_count": 1,
   "metadata": {},
   "outputs": [],
   "source": [
    "import sys\n",
    "!pip install phik -q\n",
    "!pip install LightGBM -q"
   ]
  },
  {
   "cell_type": "code",
   "execution_count": 2,
   "metadata": {},
   "outputs": [],
   "source": [
    "!pip install --upgrade scikit-learn==1.3.2 -q\n",
    "!pip install --upgrade numpy==1.26.4 -q\n",
    "!pip install --upgrade seaborn==0.13.0 -q\n",
    "!pip install --upgrade phik==0.12.4 -q\n",
    "!pip install --upgrade pandas==2.1.4 -q\n",
    "!pip install --upgrade scipy==1.12.0 -q\n",
    "!pip install --upgrade matplotlib==3.8.0 -q"
   ]
  },
  {
   "cell_type": "code",
   "execution_count": 3,
   "metadata": {},
   "outputs": [],
   "source": [
    "import seaborn as sns\n",
    "import pandas as pd\n",
    "import matplotlib.pyplot as plt\n",
    "import numpy as np\n",
    "import os\n",
    "from math import log\n",
    "\n",
    "from sklearn.model_selection import train_test_split, RandomizedSearchCV\n",
    "from sklearn.preprocessing import OrdinalEncoder, OneHotEncoder\n",
    "from sklearn.preprocessing import StandardScaler, MinMaxScaler, RobustScaler\n",
    "from sklearn.compose import ColumnTransformer\n",
    "from sklearn.impute import SimpleImputer\n",
    "from sklearn.pipeline import Pipeline\n",
    "from sklearn.neighbors import KNeighborsRegressor\n",
    "from sklearn.linear_model import Ridge\n",
    "from sklearn.tree import DecisionTreeRegressor\n",
    "from sklearn.metrics import mean_squared_error\n",
    "from sklearn.ensemble import RandomForestClassifier\n",
    "\n",
    "\n",
    "from lightgbm import LGBMRegressor"
   ]
  },
  {
   "cell_type": "code",
   "execution_count": 4,
   "metadata": {
    "scrolled": true
   },
   "outputs": [],
   "source": [
    "sns.set_theme()\n",
    "sns.set_palette('Set2')\n",
    "RANDOM_STATE = 5"
   ]
  },
  {
   "cell_type": "markdown",
   "metadata": {},
   "source": [
    "## Подготовка данных"
   ]
  },
  {
   "cell_type": "markdown",
   "metadata": {},
   "source": [
    "### Загрузка данных и первый взгляд"
   ]
  },
  {
   "cell_type": "code",
   "execution_count": 5,
   "metadata": {},
   "outputs": [
    {
     "name": "stdout",
     "output_type": "stream",
     "text": [
      "Dataset have read succesfully\n"
     ]
    }
   ],
   "source": [
    "if os.path.exists('/datasets/autos.csv'):\n",
    "    autos = pd.read_csv('/datasets/autos.csv', parse_dates=['DateCrawled', 'DateCreated', 'LastSeen'])\n",
    "    print('Dataset have read succesfully')\n",
    "elif os.path.exists('./datasets/autos.csv'):\n",
    "    autos = pd.read_csv('./datasets/autos.csv', parse_dates=['DateCrawled', 'DateCreated', 'LastSeen'])\n",
    "    print('Dataset have read succesfully')\n",
    "else:\n",
    "    print('Something went wrong')"
   ]
  },
  {
   "cell_type": "code",
   "execution_count": 6,
   "metadata": {},
   "outputs": [
    {
     "name": "stdout",
     "output_type": "stream",
     "text": [
      "<class 'pandas.core.frame.DataFrame'>\n",
      "RangeIndex: 354369 entries, 0 to 354368\n",
      "Data columns (total 16 columns):\n",
      " #   Column             Non-Null Count   Dtype         \n",
      "---  ------             --------------   -----         \n",
      " 0   DateCrawled        354369 non-null  datetime64[ns]\n",
      " 1   Price              354369 non-null  int64         \n",
      " 2   VehicleType        316879 non-null  object        \n",
      " 3   RegistrationYear   354369 non-null  int64         \n",
      " 4   Gearbox            334536 non-null  object        \n",
      " 5   Power              354369 non-null  int64         \n",
      " 6   Model              334664 non-null  object        \n",
      " 7   Kilometer          354369 non-null  int64         \n",
      " 8   RegistrationMonth  354369 non-null  int64         \n",
      " 9   FuelType           321474 non-null  object        \n",
      " 10  Brand              354369 non-null  object        \n",
      " 11  Repaired           283215 non-null  object        \n",
      " 12  DateCreated        354369 non-null  datetime64[ns]\n",
      " 13  NumberOfPictures   354369 non-null  int64         \n",
      " 14  PostalCode         354369 non-null  int64         \n",
      " 15  LastSeen           354369 non-null  datetime64[ns]\n",
      "dtypes: datetime64[ns](3), int64(7), object(6)\n",
      "memory usage: 43.3+ MB\n"
     ]
    }
   ],
   "source": [
    "autos.info()"
   ]
  },
  {
   "cell_type": "markdown",
   "metadata": {},
   "source": [
    "Рассмотрим какие данные находятся в датафреме - для этого рассмотрим строки в начале, конце и рандомные"
   ]
  },
  {
   "cell_type": "code",
   "execution_count": 7,
   "metadata": {},
   "outputs": [
    {
     "data": {
      "text/html": [
       "<div>\n",
       "<style scoped>\n",
       "    .dataframe tbody tr th:only-of-type {\n",
       "        vertical-align: middle;\n",
       "    }\n",
       "\n",
       "    .dataframe tbody tr th {\n",
       "        vertical-align: top;\n",
       "    }\n",
       "\n",
       "    .dataframe thead th {\n",
       "        text-align: right;\n",
       "    }\n",
       "</style>\n",
       "<table border=\"1\" class=\"dataframe\">\n",
       "  <thead>\n",
       "    <tr style=\"text-align: right;\">\n",
       "      <th></th>\n",
       "      <th>DateCrawled</th>\n",
       "      <th>Price</th>\n",
       "      <th>VehicleType</th>\n",
       "      <th>RegistrationYear</th>\n",
       "      <th>Gearbox</th>\n",
       "      <th>Power</th>\n",
       "      <th>Model</th>\n",
       "      <th>Kilometer</th>\n",
       "      <th>RegistrationMonth</th>\n",
       "      <th>FuelType</th>\n",
       "      <th>Brand</th>\n",
       "      <th>Repaired</th>\n",
       "      <th>DateCreated</th>\n",
       "      <th>NumberOfPictures</th>\n",
       "      <th>PostalCode</th>\n",
       "      <th>LastSeen</th>\n",
       "    </tr>\n",
       "  </thead>\n",
       "  <tbody>\n",
       "    <tr>\n",
       "      <th>0</th>\n",
       "      <td>2016-03-24 11:52:17</td>\n",
       "      <td>480</td>\n",
       "      <td>NaN</td>\n",
       "      <td>1993</td>\n",
       "      <td>manual</td>\n",
       "      <td>0</td>\n",
       "      <td>golf</td>\n",
       "      <td>150000</td>\n",
       "      <td>0</td>\n",
       "      <td>petrol</td>\n",
       "      <td>volkswagen</td>\n",
       "      <td>NaN</td>\n",
       "      <td>2016-03-24</td>\n",
       "      <td>0</td>\n",
       "      <td>70435</td>\n",
       "      <td>2016-04-07 03:16:57</td>\n",
       "    </tr>\n",
       "    <tr>\n",
       "      <th>1</th>\n",
       "      <td>2016-03-24 10:58:45</td>\n",
       "      <td>18300</td>\n",
       "      <td>coupe</td>\n",
       "      <td>2011</td>\n",
       "      <td>manual</td>\n",
       "      <td>190</td>\n",
       "      <td>NaN</td>\n",
       "      <td>125000</td>\n",
       "      <td>5</td>\n",
       "      <td>gasoline</td>\n",
       "      <td>audi</td>\n",
       "      <td>yes</td>\n",
       "      <td>2016-03-24</td>\n",
       "      <td>0</td>\n",
       "      <td>66954</td>\n",
       "      <td>2016-04-07 01:46:50</td>\n",
       "    </tr>\n",
       "    <tr>\n",
       "      <th>2</th>\n",
       "      <td>2016-03-14 12:52:21</td>\n",
       "      <td>9800</td>\n",
       "      <td>suv</td>\n",
       "      <td>2004</td>\n",
       "      <td>auto</td>\n",
       "      <td>163</td>\n",
       "      <td>grand</td>\n",
       "      <td>125000</td>\n",
       "      <td>8</td>\n",
       "      <td>gasoline</td>\n",
       "      <td>jeep</td>\n",
       "      <td>NaN</td>\n",
       "      <td>2016-03-14</td>\n",
       "      <td>0</td>\n",
       "      <td>90480</td>\n",
       "      <td>2016-04-05 12:47:46</td>\n",
       "    </tr>\n",
       "    <tr>\n",
       "      <th>3</th>\n",
       "      <td>2016-03-17 16:54:04</td>\n",
       "      <td>1500</td>\n",
       "      <td>small</td>\n",
       "      <td>2001</td>\n",
       "      <td>manual</td>\n",
       "      <td>75</td>\n",
       "      <td>golf</td>\n",
       "      <td>150000</td>\n",
       "      <td>6</td>\n",
       "      <td>petrol</td>\n",
       "      <td>volkswagen</td>\n",
       "      <td>no</td>\n",
       "      <td>2016-03-17</td>\n",
       "      <td>0</td>\n",
       "      <td>91074</td>\n",
       "      <td>2016-03-17 17:40:17</td>\n",
       "    </tr>\n",
       "    <tr>\n",
       "      <th>4</th>\n",
       "      <td>2016-03-31 17:25:20</td>\n",
       "      <td>3600</td>\n",
       "      <td>small</td>\n",
       "      <td>2008</td>\n",
       "      <td>manual</td>\n",
       "      <td>69</td>\n",
       "      <td>fabia</td>\n",
       "      <td>90000</td>\n",
       "      <td>7</td>\n",
       "      <td>gasoline</td>\n",
       "      <td>skoda</td>\n",
       "      <td>no</td>\n",
       "      <td>2016-03-31</td>\n",
       "      <td>0</td>\n",
       "      <td>60437</td>\n",
       "      <td>2016-04-06 10:17:21</td>\n",
       "    </tr>\n",
       "  </tbody>\n",
       "</table>\n",
       "</div>"
      ],
      "text/plain": [
       "          DateCrawled  Price VehicleType  RegistrationYear Gearbox  Power  \\\n",
       "0 2016-03-24 11:52:17    480         NaN              1993  manual      0   \n",
       "1 2016-03-24 10:58:45  18300       coupe              2011  manual    190   \n",
       "2 2016-03-14 12:52:21   9800         suv              2004    auto    163   \n",
       "3 2016-03-17 16:54:04   1500       small              2001  manual     75   \n",
       "4 2016-03-31 17:25:20   3600       small              2008  manual     69   \n",
       "\n",
       "   Model  Kilometer  RegistrationMonth  FuelType       Brand Repaired  \\\n",
       "0   golf     150000                  0    petrol  volkswagen      NaN   \n",
       "1    NaN     125000                  5  gasoline        audi      yes   \n",
       "2  grand     125000                  8  gasoline        jeep      NaN   \n",
       "3   golf     150000                  6    petrol  volkswagen       no   \n",
       "4  fabia      90000                  7  gasoline       skoda       no   \n",
       "\n",
       "  DateCreated  NumberOfPictures  PostalCode            LastSeen  \n",
       "0  2016-03-24                 0       70435 2016-04-07 03:16:57  \n",
       "1  2016-03-24                 0       66954 2016-04-07 01:46:50  \n",
       "2  2016-03-14                 0       90480 2016-04-05 12:47:46  \n",
       "3  2016-03-17                 0       91074 2016-03-17 17:40:17  \n",
       "4  2016-03-31                 0       60437 2016-04-06 10:17:21  "
      ]
     },
     "execution_count": 7,
     "metadata": {},
     "output_type": "execute_result"
    }
   ],
   "source": [
    "autos.head()"
   ]
  },
  {
   "cell_type": "code",
   "execution_count": 8,
   "metadata": {},
   "outputs": [
    {
     "data": {
      "text/html": [
       "<div>\n",
       "<style scoped>\n",
       "    .dataframe tbody tr th:only-of-type {\n",
       "        vertical-align: middle;\n",
       "    }\n",
       "\n",
       "    .dataframe tbody tr th {\n",
       "        vertical-align: top;\n",
       "    }\n",
       "\n",
       "    .dataframe thead th {\n",
       "        text-align: right;\n",
       "    }\n",
       "</style>\n",
       "<table border=\"1\" class=\"dataframe\">\n",
       "  <thead>\n",
       "    <tr style=\"text-align: right;\">\n",
       "      <th></th>\n",
       "      <th>DateCrawled</th>\n",
       "      <th>Price</th>\n",
       "      <th>VehicleType</th>\n",
       "      <th>RegistrationYear</th>\n",
       "      <th>Gearbox</th>\n",
       "      <th>Power</th>\n",
       "      <th>Model</th>\n",
       "      <th>Kilometer</th>\n",
       "      <th>RegistrationMonth</th>\n",
       "      <th>FuelType</th>\n",
       "      <th>Brand</th>\n",
       "      <th>Repaired</th>\n",
       "      <th>DateCreated</th>\n",
       "      <th>NumberOfPictures</th>\n",
       "      <th>PostalCode</th>\n",
       "      <th>LastSeen</th>\n",
       "    </tr>\n",
       "  </thead>\n",
       "  <tbody>\n",
       "    <tr>\n",
       "      <th>128594</th>\n",
       "      <td>2016-03-21 18:36:43</td>\n",
       "      <td>16400</td>\n",
       "      <td>sedan</td>\n",
       "      <td>2007</td>\n",
       "      <td>auto</td>\n",
       "      <td>286</td>\n",
       "      <td>5er</td>\n",
       "      <td>150000</td>\n",
       "      <td>10</td>\n",
       "      <td>gasoline</td>\n",
       "      <td>bmw</td>\n",
       "      <td>no</td>\n",
       "      <td>2016-03-21</td>\n",
       "      <td>0</td>\n",
       "      <td>61169</td>\n",
       "      <td>2016-03-26 09:45:05</td>\n",
       "    </tr>\n",
       "    <tr>\n",
       "      <th>290881</th>\n",
       "      <td>2016-03-24 19:37:01</td>\n",
       "      <td>2650</td>\n",
       "      <td>sedan</td>\n",
       "      <td>1998</td>\n",
       "      <td>manual</td>\n",
       "      <td>150</td>\n",
       "      <td>3er</td>\n",
       "      <td>150000</td>\n",
       "      <td>5</td>\n",
       "      <td>NaN</td>\n",
       "      <td>bmw</td>\n",
       "      <td>NaN</td>\n",
       "      <td>2016-03-24</td>\n",
       "      <td>0</td>\n",
       "      <td>10559</td>\n",
       "      <td>2016-04-07 14:58:04</td>\n",
       "    </tr>\n",
       "    <tr>\n",
       "      <th>258613</th>\n",
       "      <td>2016-04-03 17:50:41</td>\n",
       "      <td>13990</td>\n",
       "      <td>convertible</td>\n",
       "      <td>2010</td>\n",
       "      <td>manual</td>\n",
       "      <td>140</td>\n",
       "      <td>3_reihe</td>\n",
       "      <td>70000</td>\n",
       "      <td>3</td>\n",
       "      <td>gasoline</td>\n",
       "      <td>peugeot</td>\n",
       "      <td>no</td>\n",
       "      <td>2016-04-03</td>\n",
       "      <td>0</td>\n",
       "      <td>64753</td>\n",
       "      <td>2016-04-05 18:17:26</td>\n",
       "    </tr>\n",
       "    <tr>\n",
       "      <th>71340</th>\n",
       "      <td>2016-03-17 18:45:44</td>\n",
       "      <td>9500</td>\n",
       "      <td>small</td>\n",
       "      <td>2010</td>\n",
       "      <td>manual</td>\n",
       "      <td>95</td>\n",
       "      <td>one</td>\n",
       "      <td>70000</td>\n",
       "      <td>6</td>\n",
       "      <td>petrol</td>\n",
       "      <td>mini</td>\n",
       "      <td>no</td>\n",
       "      <td>2016-03-17</td>\n",
       "      <td>0</td>\n",
       "      <td>41515</td>\n",
       "      <td>2016-03-28 23:15:27</td>\n",
       "    </tr>\n",
       "    <tr>\n",
       "      <th>10789</th>\n",
       "      <td>2016-03-06 19:38:13</td>\n",
       "      <td>1250</td>\n",
       "      <td>convertible</td>\n",
       "      <td>1996</td>\n",
       "      <td>manual</td>\n",
       "      <td>115</td>\n",
       "      <td>3er</td>\n",
       "      <td>150000</td>\n",
       "      <td>12</td>\n",
       "      <td>petrol</td>\n",
       "      <td>bmw</td>\n",
       "      <td>NaN</td>\n",
       "      <td>2016-03-06</td>\n",
       "      <td>0</td>\n",
       "      <td>14776</td>\n",
       "      <td>2016-03-12 14:17:25</td>\n",
       "    </tr>\n",
       "  </tbody>\n",
       "</table>\n",
       "</div>"
      ],
      "text/plain": [
       "               DateCrawled  Price  VehicleType  RegistrationYear Gearbox  \\\n",
       "128594 2016-03-21 18:36:43  16400        sedan              2007    auto   \n",
       "290881 2016-03-24 19:37:01   2650        sedan              1998  manual   \n",
       "258613 2016-04-03 17:50:41  13990  convertible              2010  manual   \n",
       "71340  2016-03-17 18:45:44   9500        small              2010  manual   \n",
       "10789  2016-03-06 19:38:13   1250  convertible              1996  manual   \n",
       "\n",
       "        Power    Model  Kilometer  RegistrationMonth  FuelType    Brand  \\\n",
       "128594    286      5er     150000                 10  gasoline      bmw   \n",
       "290881    150      3er     150000                  5       NaN      bmw   \n",
       "258613    140  3_reihe      70000                  3  gasoline  peugeot   \n",
       "71340      95      one      70000                  6    petrol     mini   \n",
       "10789     115      3er     150000                 12    petrol      bmw   \n",
       "\n",
       "       Repaired DateCreated  NumberOfPictures  PostalCode            LastSeen  \n",
       "128594       no  2016-03-21                 0       61169 2016-03-26 09:45:05  \n",
       "290881      NaN  2016-03-24                 0       10559 2016-04-07 14:58:04  \n",
       "258613       no  2016-04-03                 0       64753 2016-04-05 18:17:26  \n",
       "71340        no  2016-03-17                 0       41515 2016-03-28 23:15:27  \n",
       "10789       NaN  2016-03-06                 0       14776 2016-03-12 14:17:25  "
      ]
     },
     "execution_count": 8,
     "metadata": {},
     "output_type": "execute_result"
    }
   ],
   "source": [
    "autos.sample(5)"
   ]
  },
  {
   "cell_type": "code",
   "execution_count": 9,
   "metadata": {},
   "outputs": [
    {
     "data": {
      "text/html": [
       "<div>\n",
       "<style scoped>\n",
       "    .dataframe tbody tr th:only-of-type {\n",
       "        vertical-align: middle;\n",
       "    }\n",
       "\n",
       "    .dataframe tbody tr th {\n",
       "        vertical-align: top;\n",
       "    }\n",
       "\n",
       "    .dataframe thead th {\n",
       "        text-align: right;\n",
       "    }\n",
       "</style>\n",
       "<table border=\"1\" class=\"dataframe\">\n",
       "  <thead>\n",
       "    <tr style=\"text-align: right;\">\n",
       "      <th></th>\n",
       "      <th>DateCrawled</th>\n",
       "      <th>Price</th>\n",
       "      <th>VehicleType</th>\n",
       "      <th>RegistrationYear</th>\n",
       "      <th>Gearbox</th>\n",
       "      <th>Power</th>\n",
       "      <th>Model</th>\n",
       "      <th>Kilometer</th>\n",
       "      <th>RegistrationMonth</th>\n",
       "      <th>FuelType</th>\n",
       "      <th>Brand</th>\n",
       "      <th>Repaired</th>\n",
       "      <th>DateCreated</th>\n",
       "      <th>NumberOfPictures</th>\n",
       "      <th>PostalCode</th>\n",
       "      <th>LastSeen</th>\n",
       "    </tr>\n",
       "  </thead>\n",
       "  <tbody>\n",
       "    <tr>\n",
       "      <th>354364</th>\n",
       "      <td>2016-03-21 09:50:58</td>\n",
       "      <td>0</td>\n",
       "      <td>NaN</td>\n",
       "      <td>2005</td>\n",
       "      <td>manual</td>\n",
       "      <td>0</td>\n",
       "      <td>colt</td>\n",
       "      <td>150000</td>\n",
       "      <td>7</td>\n",
       "      <td>petrol</td>\n",
       "      <td>mitsubishi</td>\n",
       "      <td>yes</td>\n",
       "      <td>2016-03-21</td>\n",
       "      <td>0</td>\n",
       "      <td>2694</td>\n",
       "      <td>2016-03-21 10:42:49</td>\n",
       "    </tr>\n",
       "    <tr>\n",
       "      <th>354365</th>\n",
       "      <td>2016-03-14 17:48:27</td>\n",
       "      <td>2200</td>\n",
       "      <td>NaN</td>\n",
       "      <td>2005</td>\n",
       "      <td>NaN</td>\n",
       "      <td>0</td>\n",
       "      <td>NaN</td>\n",
       "      <td>20000</td>\n",
       "      <td>1</td>\n",
       "      <td>NaN</td>\n",
       "      <td>sonstige_autos</td>\n",
       "      <td>NaN</td>\n",
       "      <td>2016-03-14</td>\n",
       "      <td>0</td>\n",
       "      <td>39576</td>\n",
       "      <td>2016-04-06 00:46:52</td>\n",
       "    </tr>\n",
       "    <tr>\n",
       "      <th>354366</th>\n",
       "      <td>2016-03-05 19:56:21</td>\n",
       "      <td>1199</td>\n",
       "      <td>convertible</td>\n",
       "      <td>2000</td>\n",
       "      <td>auto</td>\n",
       "      <td>101</td>\n",
       "      <td>fortwo</td>\n",
       "      <td>125000</td>\n",
       "      <td>3</td>\n",
       "      <td>petrol</td>\n",
       "      <td>smart</td>\n",
       "      <td>no</td>\n",
       "      <td>2016-03-05</td>\n",
       "      <td>0</td>\n",
       "      <td>26135</td>\n",
       "      <td>2016-03-11 18:17:12</td>\n",
       "    </tr>\n",
       "    <tr>\n",
       "      <th>354367</th>\n",
       "      <td>2016-03-19 18:57:12</td>\n",
       "      <td>9200</td>\n",
       "      <td>bus</td>\n",
       "      <td>1996</td>\n",
       "      <td>manual</td>\n",
       "      <td>102</td>\n",
       "      <td>transporter</td>\n",
       "      <td>150000</td>\n",
       "      <td>3</td>\n",
       "      <td>gasoline</td>\n",
       "      <td>volkswagen</td>\n",
       "      <td>no</td>\n",
       "      <td>2016-03-19</td>\n",
       "      <td>0</td>\n",
       "      <td>87439</td>\n",
       "      <td>2016-04-07 07:15:26</td>\n",
       "    </tr>\n",
       "    <tr>\n",
       "      <th>354368</th>\n",
       "      <td>2016-03-20 19:41:08</td>\n",
       "      <td>3400</td>\n",
       "      <td>wagon</td>\n",
       "      <td>2002</td>\n",
       "      <td>manual</td>\n",
       "      <td>100</td>\n",
       "      <td>golf</td>\n",
       "      <td>150000</td>\n",
       "      <td>6</td>\n",
       "      <td>gasoline</td>\n",
       "      <td>volkswagen</td>\n",
       "      <td>NaN</td>\n",
       "      <td>2016-03-20</td>\n",
       "      <td>0</td>\n",
       "      <td>40764</td>\n",
       "      <td>2016-03-24 12:45:21</td>\n",
       "    </tr>\n",
       "  </tbody>\n",
       "</table>\n",
       "</div>"
      ],
      "text/plain": [
       "               DateCrawled  Price  VehicleType  RegistrationYear Gearbox  \\\n",
       "354364 2016-03-21 09:50:58      0          NaN              2005  manual   \n",
       "354365 2016-03-14 17:48:27   2200          NaN              2005     NaN   \n",
       "354366 2016-03-05 19:56:21   1199  convertible              2000    auto   \n",
       "354367 2016-03-19 18:57:12   9200          bus              1996  manual   \n",
       "354368 2016-03-20 19:41:08   3400        wagon              2002  manual   \n",
       "\n",
       "        Power        Model  Kilometer  RegistrationMonth  FuelType  \\\n",
       "354364      0         colt     150000                  7    petrol   \n",
       "354365      0          NaN      20000                  1       NaN   \n",
       "354366    101       fortwo     125000                  3    petrol   \n",
       "354367    102  transporter     150000                  3  gasoline   \n",
       "354368    100         golf     150000                  6  gasoline   \n",
       "\n",
       "                 Brand Repaired DateCreated  NumberOfPictures  PostalCode  \\\n",
       "354364      mitsubishi      yes  2016-03-21                 0        2694   \n",
       "354365  sonstige_autos      NaN  2016-03-14                 0       39576   \n",
       "354366           smart       no  2016-03-05                 0       26135   \n",
       "354367      volkswagen       no  2016-03-19                 0       87439   \n",
       "354368      volkswagen      NaN  2016-03-20                 0       40764   \n",
       "\n",
       "                  LastSeen  \n",
       "354364 2016-03-21 10:42:49  \n",
       "354365 2016-04-06 00:46:52  \n",
       "354366 2016-03-11 18:17:12  \n",
       "354367 2016-04-07 07:15:26  \n",
       "354368 2016-03-24 12:45:21  "
      ]
     },
     "execution_count": 9,
     "metadata": {},
     "output_type": "execute_result"
    }
   ],
   "source": [
    "autos.tail()"
   ]
  },
  {
   "cell_type": "markdown",
   "metadata": {},
   "source": [
    "### Анализ дубликатов и пропусков"
   ]
  },
  {
   "cell_type": "markdown",
   "metadata": {},
   "source": [
    "Рассмотрим, какие существуют уникальные названия для категориальных признаков, а также выведем инфрормацию о полных дубликатах и пропусках"
   ]
  },
  {
   "cell_type": "code",
   "execution_count": 10,
   "metadata": {},
   "outputs": [],
   "source": [
    "def get_info(data: pd.DataFrame) -> None:\n",
    "    '''\n",
    "    Function for printing base information of dataframe\n",
    "    :param data: dataframe for search\n",
    "    '''\n",
    "    print('Info about data:')\n",
    "    data.info()\n",
    "    print('\\nInfo about missing data:\\n', data.isna().sum())\n",
    "    print('\\nInfo about duplicates:\\n', data.duplicated().sum())"
   ]
  },
  {
   "cell_type": "code",
   "execution_count": 11,
   "metadata": {
    "scrolled": false
   },
   "outputs": [
    {
     "name": "stdout",
     "output_type": "stream",
     "text": [
      "Info about data:\n",
      "<class 'pandas.core.frame.DataFrame'>\n",
      "RangeIndex: 354369 entries, 0 to 354368\n",
      "Data columns (total 16 columns):\n",
      " #   Column             Non-Null Count   Dtype         \n",
      "---  ------             --------------   -----         \n",
      " 0   DateCrawled        354369 non-null  datetime64[ns]\n",
      " 1   Price              354369 non-null  int64         \n",
      " 2   VehicleType        316879 non-null  object        \n",
      " 3   RegistrationYear   354369 non-null  int64         \n",
      " 4   Gearbox            334536 non-null  object        \n",
      " 5   Power              354369 non-null  int64         \n",
      " 6   Model              334664 non-null  object        \n",
      " 7   Kilometer          354369 non-null  int64         \n",
      " 8   RegistrationMonth  354369 non-null  int64         \n",
      " 9   FuelType           321474 non-null  object        \n",
      " 10  Brand              354369 non-null  object        \n",
      " 11  Repaired           283215 non-null  object        \n",
      " 12  DateCreated        354369 non-null  datetime64[ns]\n",
      " 13  NumberOfPictures   354369 non-null  int64         \n",
      " 14  PostalCode         354369 non-null  int64         \n",
      " 15  LastSeen           354369 non-null  datetime64[ns]\n",
      "dtypes: datetime64[ns](3), int64(7), object(6)\n",
      "memory usage: 43.3+ MB\n",
      "\n",
      "Info about missing data:\n",
      " DateCrawled              0\n",
      "Price                    0\n",
      "VehicleType          37490\n",
      "RegistrationYear         0\n",
      "Gearbox              19833\n",
      "Power                    0\n",
      "Model                19705\n",
      "Kilometer                0\n",
      "RegistrationMonth        0\n",
      "FuelType             32895\n",
      "Brand                    0\n",
      "Repaired             71154\n",
      "DateCreated              0\n",
      "NumberOfPictures         0\n",
      "PostalCode               0\n",
      "LastSeen                 0\n",
      "dtype: int64\n",
      "\n",
      "Info about duplicates:\n",
      " 4\n"
     ]
    }
   ],
   "source": [
    "get_info(autos)"
   ]
  },
  {
   "cell_type": "code",
   "execution_count": 12,
   "metadata": {},
   "outputs": [],
   "source": [
    "def get_unique_values_with_counts(data: pd.DataFrame, col: pd.Series) -> str:\n",
    "    \"\"\"\n",
    "    get values and their names into one str line\n",
    "    params: data: dataframe for research\n",
    "            col: column from dataframe for research\n",
    "    return: str line with names and values\n",
    "    \"\"\"\n",
    "    unique_values = data[col].unique()\n",
    "    value_counts = data[col].value_counts()\n",
    "    result = [f'{value} ({count})' for value, count in zip(unique_values, value_counts)]\n",
    "    return ', '.join(result)\n",
    "\n",
    "\n",
    "def unique_data(data: pd.DataFrame) -> None:\n",
    "    \"\"\"\n",
    "    Output of unique data if it's count less tan ten\n",
    "    params: data: dataframe for research\n",
    "    \"\"\"\n",
    "    for col in data:\n",
    "        if data[col].dtype == 'O' :\n",
    "            print(f'{col}: {get_unique_values_with_counts(data, col)}\\n')"
   ]
  },
  {
   "cell_type": "code",
   "execution_count": 13,
   "metadata": {},
   "outputs": [
    {
     "name": "stdout",
     "output_type": "stream",
     "text": [
      "VehicleType: nan (91457), coupe (79831), suv (65166), small (28775), sedan (20203), convertible (16163), bus (11996), wagon (3288)\n",
      "\n",
      "Gearbox: manual (268251), auto (66285)\n",
      "\n",
      "Model: golf (29232), nan (24421), grand (19761), fabia (13066), 3er (12570), 2_reihe (10809), other (10146), c_max (9900), 3_reihe (8312), passat (7868), navara (6785), ka (6122), polo (5874), twingo (5774), a_klasse (5541), scirocco (4953), 5er (4822), meriva (4816), arosa (4337), c4 (4254), civic (4193), transporter (3601), punto (3546), e_klasse (3514), clio (3493), kadett (3470), kangoo (3347), corsa (3044), one (2910), fortwo (2702), 1er (2702), b_klasse (2594), signum (2108), astra (2080), a8 (1950), jetta (1830), fiesta (1758), c_klasse (1604), micra (1595), vito (1589), sprinter (1483), 156 (1446), escort (1416), forester (1364), xc_reihe (1347), scenic (1306), a4 (1304), a1 (1278), insignia (1226), combo (1223), focus (1156), tt (1076), a6 (1052), jazz (1033), omega (1017), slk (1014), 7er (958), 80 (953), 147 (920), 100 (905), z_reihe (899), sportage (897), sorento (892), v40 (879), ibiza (873), mustang (872), eos (869), touran (824), getz (815), a3 (789), almera (775), megane (774), lupo (754), r19 (744), zafira (717), caddy (705), mondeo (686), cordoba (684), colt (676), impreza (670), vectra (662), berlingo (641), tiguan (638), i_reihe (633), espace (629), sharan (621), 6_reihe (616), panda (605), up (603), seicento (595), ceed (586), 5_reihe (584), yeti (572), octavia (565), mii (561), rx_reihe (545), 6er (531), modus (529), fox (516), matiz (506), beetle (493), c1 (490), rio (444), touareg (443), logan (442), spider (442), cuore (435), s_max (432), a2 (430), galaxy (430), c3 (422), viano (419), s_klasse (417), 1_reihe (417), avensis (414), roomster (403), sl (399), kaefer (395), santa (391), cooper (386), leon (377), 4_reihe (375), a5 (374), 500 (373), laguna (372), ptcruiser (366), clk (364), primera (362), x_reihe (357), exeo (351), 159 (350), transit (348), juke (345), qashqai (343), carisma (342), accord (341), corolla (331), lanos (325), phaeton (322), verso (321), swift (321), rav (320), picanto (313), boxster (309), kalos (308), superb (302), stilo (300), alhambra (295), mx_reihe (276), roadster (273), ypsilon (267), cayenne (261), galant (257), justy (255), 90 (252), sirion (248), crossfire (234), agila (232), duster (231), cr_reihe (230), v50 (225), c_reihe (222), v_klasse (221), m_klasse (218), yaris (217), c5 (214), aygo (212), cc (212), carnival (212), fusion (209), 911 (208), bora (208), forfour (205), m_reihe (204), cl (201), tigra (194), 300c (193), spark (181), v70 (177), kuga (174), x_type (173), ducato (169), s_type (168), x_trail (160), toledo (156), altea (151), voyager (146), calibra (145), bravo (142), antara (139), tucson (139), citigo (137), jimny (132), wrangler (130), lybra (130), q7 (129), lancer (128), captiva (125), c2 (123), discovery (123), freelander (117), sandero (116), note (108), 900 (103), cherokee (103), clubman (102), samara (100), defender (98), 601 (97), cx_reihe (97), legacy (95), pajero (91), auris (89), niva (84), s60 (81), nubira (79), vivaro (77), g_klasse (76), lodgy (66), 850 (64), range_rover (64), q3 (62), serie_2 (60), glk (54), charade (54), croma (49), outlander (45), doblo (42), musa (35), move (35), 9000 (35), v60 (31), 145 (27), aveo (26), 200 (25), b_max (18), range_rover_sport (18), terios (16), rangerover (15), q5 (15), range_rover_evoque (13), materia (13), delta (11), gl (9), kalina (8), amarok (8), elefantino (4), i3 (4), kappa (2), serie_3 (2)\n",
      "\n",
      "FuelType: petrol (216352), gasoline (98720), nan (5310), lpg (565), other (233), hybrid (204), cng (90)\n",
      "\n",
      "Brand: volkswagen (77013), audi (39931), jeep (36914), skoda (32046), bmw (29456), peugeot (25179), ford (17927), mazda (10998), nissan (9643), renault (6907), mercedes_benz (5615), opel (5500), seat (5246), citroen (5148), honda (4941), fiat (4606), mini (3587), smart (3374), hyundai (3210), sonstige_autos (3202), alfa_romeo (3022), subaru (2817), volvo (2465), mitsubishi (2323), kia (2314), suzuki (1754), lancia (1439), toyota (900), chevrolet (806), dacia (762), daihatsu (758), trabant (677), saab (589), chrysler (545), jaguar (542), daewoo (526), porsche (505), rover (486), land_rover (471), lada (225)\n",
      "\n",
      "Repaired: nan (247161), yes (36054)\n",
      "\n"
     ]
    }
   ],
   "source": [
    "unique_data(autos)"
   ]
  },
  {
   "cell_type": "code",
   "execution_count": 14,
   "metadata": {},
   "outputs": [
    {
     "data": {
      "text/html": [
       "<div>\n",
       "<style scoped>\n",
       "    .dataframe tbody tr th:only-of-type {\n",
       "        vertical-align: middle;\n",
       "    }\n",
       "\n",
       "    .dataframe tbody tr th {\n",
       "        vertical-align: top;\n",
       "    }\n",
       "\n",
       "    .dataframe thead th {\n",
       "        text-align: right;\n",
       "    }\n",
       "</style>\n",
       "<table border=\"1\" class=\"dataframe\">\n",
       "  <thead>\n",
       "    <tr style=\"text-align: right;\">\n",
       "      <th></th>\n",
       "      <th>DateCrawled</th>\n",
       "      <th>Price</th>\n",
       "      <th>RegistrationYear</th>\n",
       "      <th>Power</th>\n",
       "      <th>Kilometer</th>\n",
       "      <th>RegistrationMonth</th>\n",
       "      <th>DateCreated</th>\n",
       "      <th>NumberOfPictures</th>\n",
       "      <th>PostalCode</th>\n",
       "      <th>LastSeen</th>\n",
       "    </tr>\n",
       "  </thead>\n",
       "  <tbody>\n",
       "    <tr>\n",
       "      <th>count</th>\n",
       "      <td>354369</td>\n",
       "      <td>354369.000000</td>\n",
       "      <td>354369.000000</td>\n",
       "      <td>354369.000000</td>\n",
       "      <td>354369.000000</td>\n",
       "      <td>354369.000000</td>\n",
       "      <td>354369</td>\n",
       "      <td>354369.0</td>\n",
       "      <td>354369.000000</td>\n",
       "      <td>354369</td>\n",
       "    </tr>\n",
       "    <tr>\n",
       "      <th>mean</th>\n",
       "      <td>2016-03-21 12:58:10.450648320</td>\n",
       "      <td>4416.656776</td>\n",
       "      <td>2004.234448</td>\n",
       "      <td>110.094337</td>\n",
       "      <td>128211.172535</td>\n",
       "      <td>5.714645</td>\n",
       "      <td>2016-03-20 19:12:07.753274112</td>\n",
       "      <td>0.0</td>\n",
       "      <td>50508.689087</td>\n",
       "      <td>2016-03-29 23:51:00.667456768</td>\n",
       "    </tr>\n",
       "    <tr>\n",
       "      <th>min</th>\n",
       "      <td>2016-03-05 14:06:22</td>\n",
       "      <td>0.000000</td>\n",
       "      <td>1000.000000</td>\n",
       "      <td>0.000000</td>\n",
       "      <td>5000.000000</td>\n",
       "      <td>0.000000</td>\n",
       "      <td>2014-03-10 00:00:00</td>\n",
       "      <td>0.0</td>\n",
       "      <td>1067.000000</td>\n",
       "      <td>2016-03-05 14:15:08</td>\n",
       "    </tr>\n",
       "    <tr>\n",
       "      <th>25%</th>\n",
       "      <td>2016-03-13 11:52:33</td>\n",
       "      <td>1050.000000</td>\n",
       "      <td>1999.000000</td>\n",
       "      <td>69.000000</td>\n",
       "      <td>125000.000000</td>\n",
       "      <td>3.000000</td>\n",
       "      <td>2016-03-13 00:00:00</td>\n",
       "      <td>0.0</td>\n",
       "      <td>30165.000000</td>\n",
       "      <td>2016-03-23 02:50:03</td>\n",
       "    </tr>\n",
       "    <tr>\n",
       "      <th>50%</th>\n",
       "      <td>2016-03-21 17:50:55</td>\n",
       "      <td>2700.000000</td>\n",
       "      <td>2003.000000</td>\n",
       "      <td>105.000000</td>\n",
       "      <td>150000.000000</td>\n",
       "      <td>6.000000</td>\n",
       "      <td>2016-03-21 00:00:00</td>\n",
       "      <td>0.0</td>\n",
       "      <td>49413.000000</td>\n",
       "      <td>2016-04-03 15:15:51</td>\n",
       "    </tr>\n",
       "    <tr>\n",
       "      <th>75%</th>\n",
       "      <td>2016-03-29 14:37:20</td>\n",
       "      <td>6400.000000</td>\n",
       "      <td>2008.000000</td>\n",
       "      <td>143.000000</td>\n",
       "      <td>150000.000000</td>\n",
       "      <td>9.000000</td>\n",
       "      <td>2016-03-29 00:00:00</td>\n",
       "      <td>0.0</td>\n",
       "      <td>71083.000000</td>\n",
       "      <td>2016-04-06 10:15:19</td>\n",
       "    </tr>\n",
       "    <tr>\n",
       "      <th>max</th>\n",
       "      <td>2016-04-07 14:36:58</td>\n",
       "      <td>20000.000000</td>\n",
       "      <td>9999.000000</td>\n",
       "      <td>20000.000000</td>\n",
       "      <td>150000.000000</td>\n",
       "      <td>12.000000</td>\n",
       "      <td>2016-04-07 00:00:00</td>\n",
       "      <td>0.0</td>\n",
       "      <td>99998.000000</td>\n",
       "      <td>2016-04-07 14:58:51</td>\n",
       "    </tr>\n",
       "    <tr>\n",
       "      <th>std</th>\n",
       "      <td>NaN</td>\n",
       "      <td>4514.158514</td>\n",
       "      <td>90.227958</td>\n",
       "      <td>189.850405</td>\n",
       "      <td>37905.341530</td>\n",
       "      <td>3.726421</td>\n",
       "      <td>NaN</td>\n",
       "      <td>0.0</td>\n",
       "      <td>25783.096248</td>\n",
       "      <td>NaN</td>\n",
       "    </tr>\n",
       "  </tbody>\n",
       "</table>\n",
       "</div>"
      ],
      "text/plain": [
       "                         DateCrawled          Price  RegistrationYear  \\\n",
       "count                         354369  354369.000000     354369.000000   \n",
       "mean   2016-03-21 12:58:10.450648320    4416.656776       2004.234448   \n",
       "min              2016-03-05 14:06:22       0.000000       1000.000000   \n",
       "25%              2016-03-13 11:52:33    1050.000000       1999.000000   \n",
       "50%              2016-03-21 17:50:55    2700.000000       2003.000000   \n",
       "75%              2016-03-29 14:37:20    6400.000000       2008.000000   \n",
       "max              2016-04-07 14:36:58   20000.000000       9999.000000   \n",
       "std                              NaN    4514.158514         90.227958   \n",
       "\n",
       "               Power      Kilometer  RegistrationMonth  \\\n",
       "count  354369.000000  354369.000000      354369.000000   \n",
       "mean      110.094337  128211.172535           5.714645   \n",
       "min         0.000000    5000.000000           0.000000   \n",
       "25%        69.000000  125000.000000           3.000000   \n",
       "50%       105.000000  150000.000000           6.000000   \n",
       "75%       143.000000  150000.000000           9.000000   \n",
       "max     20000.000000  150000.000000          12.000000   \n",
       "std       189.850405   37905.341530           3.726421   \n",
       "\n",
       "                         DateCreated  NumberOfPictures     PostalCode  \\\n",
       "count                         354369          354369.0  354369.000000   \n",
       "mean   2016-03-20 19:12:07.753274112               0.0   50508.689087   \n",
       "min              2014-03-10 00:00:00               0.0    1067.000000   \n",
       "25%              2016-03-13 00:00:00               0.0   30165.000000   \n",
       "50%              2016-03-21 00:00:00               0.0   49413.000000   \n",
       "75%              2016-03-29 00:00:00               0.0   71083.000000   \n",
       "max              2016-04-07 00:00:00               0.0   99998.000000   \n",
       "std                              NaN               0.0   25783.096248   \n",
       "\n",
       "                            LastSeen  \n",
       "count                         354369  \n",
       "mean   2016-03-29 23:51:00.667456768  \n",
       "min              2016-03-05 14:15:08  \n",
       "25%              2016-03-23 02:50:03  \n",
       "50%              2016-04-03 15:15:51  \n",
       "75%              2016-04-06 10:15:19  \n",
       "max              2016-04-07 14:58:51  \n",
       "std                              NaN  "
      ]
     },
     "execution_count": 14,
     "metadata": {},
     "output_type": "execute_result"
    }
   ],
   "source": [
    "autos.describe()"
   ]
  },
  {
   "cell_type": "markdown",
   "metadata": {},
   "source": [
    "Рассмотрим все дублирующиеся строки в датафрейме"
   ]
  },
  {
   "cell_type": "code",
   "execution_count": 15,
   "metadata": {},
   "outputs": [
    {
     "data": {
      "text/html": [
       "<div>\n",
       "<style scoped>\n",
       "    .dataframe tbody tr th:only-of-type {\n",
       "        vertical-align: middle;\n",
       "    }\n",
       "\n",
       "    .dataframe tbody tr th {\n",
       "        vertical-align: top;\n",
       "    }\n",
       "\n",
       "    .dataframe thead th {\n",
       "        text-align: right;\n",
       "    }\n",
       "</style>\n",
       "<table border=\"1\" class=\"dataframe\">\n",
       "  <thead>\n",
       "    <tr style=\"text-align: right;\">\n",
       "      <th></th>\n",
       "      <th>DateCrawled</th>\n",
       "      <th>Price</th>\n",
       "      <th>VehicleType</th>\n",
       "      <th>RegistrationYear</th>\n",
       "      <th>Gearbox</th>\n",
       "      <th>Power</th>\n",
       "      <th>Model</th>\n",
       "      <th>Kilometer</th>\n",
       "      <th>RegistrationMonth</th>\n",
       "      <th>FuelType</th>\n",
       "      <th>Brand</th>\n",
       "      <th>Repaired</th>\n",
       "      <th>DateCreated</th>\n",
       "      <th>NumberOfPictures</th>\n",
       "      <th>PostalCode</th>\n",
       "      <th>LastSeen</th>\n",
       "    </tr>\n",
       "  </thead>\n",
       "  <tbody>\n",
       "    <tr>\n",
       "      <th>41529</th>\n",
       "      <td>2016-03-18 18:46:15</td>\n",
       "      <td>1999</td>\n",
       "      <td>wagon</td>\n",
       "      <td>2001</td>\n",
       "      <td>manual</td>\n",
       "      <td>131</td>\n",
       "      <td>passat</td>\n",
       "      <td>150000</td>\n",
       "      <td>7</td>\n",
       "      <td>gasoline</td>\n",
       "      <td>volkswagen</td>\n",
       "      <td>no</td>\n",
       "      <td>2016-03-18</td>\n",
       "      <td>0</td>\n",
       "      <td>36391</td>\n",
       "      <td>2016-03-18 18:46:15</td>\n",
       "    </tr>\n",
       "    <tr>\n",
       "      <th>88087</th>\n",
       "      <td>2016-03-08 18:42:48</td>\n",
       "      <td>1799</td>\n",
       "      <td>coupe</td>\n",
       "      <td>1999</td>\n",
       "      <td>auto</td>\n",
       "      <td>193</td>\n",
       "      <td>clk</td>\n",
       "      <td>20000</td>\n",
       "      <td>7</td>\n",
       "      <td>petrol</td>\n",
       "      <td>mercedes_benz</td>\n",
       "      <td>no</td>\n",
       "      <td>2016-03-08</td>\n",
       "      <td>0</td>\n",
       "      <td>89518</td>\n",
       "      <td>2016-03-09 09:46:57</td>\n",
       "    </tr>\n",
       "    <tr>\n",
       "      <th>90964</th>\n",
       "      <td>2016-03-28 00:56:10</td>\n",
       "      <td>1000</td>\n",
       "      <td>small</td>\n",
       "      <td>2002</td>\n",
       "      <td>manual</td>\n",
       "      <td>83</td>\n",
       "      <td>other</td>\n",
       "      <td>150000</td>\n",
       "      <td>1</td>\n",
       "      <td>petrol</td>\n",
       "      <td>suzuki</td>\n",
       "      <td>no</td>\n",
       "      <td>2016-03-28</td>\n",
       "      <td>0</td>\n",
       "      <td>66589</td>\n",
       "      <td>2016-03-28 08:46:21</td>\n",
       "    </tr>\n",
       "    <tr>\n",
       "      <th>171088</th>\n",
       "      <td>2016-03-08 18:42:48</td>\n",
       "      <td>1799</td>\n",
       "      <td>coupe</td>\n",
       "      <td>1999</td>\n",
       "      <td>auto</td>\n",
       "      <td>193</td>\n",
       "      <td>clk</td>\n",
       "      <td>20000</td>\n",
       "      <td>7</td>\n",
       "      <td>petrol</td>\n",
       "      <td>mercedes_benz</td>\n",
       "      <td>no</td>\n",
       "      <td>2016-03-08</td>\n",
       "      <td>0</td>\n",
       "      <td>89518</td>\n",
       "      <td>2016-03-09 09:46:57</td>\n",
       "    </tr>\n",
       "    <tr>\n",
       "      <th>187735</th>\n",
       "      <td>2016-04-03 09:01:15</td>\n",
       "      <td>4699</td>\n",
       "      <td>coupe</td>\n",
       "      <td>2003</td>\n",
       "      <td>auto</td>\n",
       "      <td>218</td>\n",
       "      <td>clk</td>\n",
       "      <td>125000</td>\n",
       "      <td>6</td>\n",
       "      <td>petrol</td>\n",
       "      <td>mercedes_benz</td>\n",
       "      <td>yes</td>\n",
       "      <td>2016-04-03</td>\n",
       "      <td>0</td>\n",
       "      <td>75196</td>\n",
       "      <td>2016-04-07 09:44:54</td>\n",
       "    </tr>\n",
       "    <tr>\n",
       "      <th>231258</th>\n",
       "      <td>2016-03-28 00:56:10</td>\n",
       "      <td>1000</td>\n",
       "      <td>small</td>\n",
       "      <td>2002</td>\n",
       "      <td>manual</td>\n",
       "      <td>83</td>\n",
       "      <td>other</td>\n",
       "      <td>150000</td>\n",
       "      <td>1</td>\n",
       "      <td>petrol</td>\n",
       "      <td>suzuki</td>\n",
       "      <td>no</td>\n",
       "      <td>2016-03-28</td>\n",
       "      <td>0</td>\n",
       "      <td>66589</td>\n",
       "      <td>2016-03-28 08:46:21</td>\n",
       "    </tr>\n",
       "    <tr>\n",
       "      <th>258109</th>\n",
       "      <td>2016-04-03 09:01:15</td>\n",
       "      <td>4699</td>\n",
       "      <td>coupe</td>\n",
       "      <td>2003</td>\n",
       "      <td>auto</td>\n",
       "      <td>218</td>\n",
       "      <td>clk</td>\n",
       "      <td>125000</td>\n",
       "      <td>6</td>\n",
       "      <td>petrol</td>\n",
       "      <td>mercedes_benz</td>\n",
       "      <td>yes</td>\n",
       "      <td>2016-04-03</td>\n",
       "      <td>0</td>\n",
       "      <td>75196</td>\n",
       "      <td>2016-04-07 09:44:54</td>\n",
       "    </tr>\n",
       "    <tr>\n",
       "      <th>325651</th>\n",
       "      <td>2016-03-18 18:46:15</td>\n",
       "      <td>1999</td>\n",
       "      <td>wagon</td>\n",
       "      <td>2001</td>\n",
       "      <td>manual</td>\n",
       "      <td>131</td>\n",
       "      <td>passat</td>\n",
       "      <td>150000</td>\n",
       "      <td>7</td>\n",
       "      <td>gasoline</td>\n",
       "      <td>volkswagen</td>\n",
       "      <td>no</td>\n",
       "      <td>2016-03-18</td>\n",
       "      <td>0</td>\n",
       "      <td>36391</td>\n",
       "      <td>2016-03-18 18:46:15</td>\n",
       "    </tr>\n",
       "  </tbody>\n",
       "</table>\n",
       "</div>"
      ],
      "text/plain": [
       "               DateCrawled  Price VehicleType  RegistrationYear Gearbox  \\\n",
       "41529  2016-03-18 18:46:15   1999       wagon              2001  manual   \n",
       "88087  2016-03-08 18:42:48   1799       coupe              1999    auto   \n",
       "90964  2016-03-28 00:56:10   1000       small              2002  manual   \n",
       "171088 2016-03-08 18:42:48   1799       coupe              1999    auto   \n",
       "187735 2016-04-03 09:01:15   4699       coupe              2003    auto   \n",
       "231258 2016-03-28 00:56:10   1000       small              2002  manual   \n",
       "258109 2016-04-03 09:01:15   4699       coupe              2003    auto   \n",
       "325651 2016-03-18 18:46:15   1999       wagon              2001  manual   \n",
       "\n",
       "        Power   Model  Kilometer  RegistrationMonth  FuelType          Brand  \\\n",
       "41529     131  passat     150000                  7  gasoline     volkswagen   \n",
       "88087     193     clk      20000                  7    petrol  mercedes_benz   \n",
       "90964      83   other     150000                  1    petrol         suzuki   \n",
       "171088    193     clk      20000                  7    petrol  mercedes_benz   \n",
       "187735    218     clk     125000                  6    petrol  mercedes_benz   \n",
       "231258     83   other     150000                  1    petrol         suzuki   \n",
       "258109    218     clk     125000                  6    petrol  mercedes_benz   \n",
       "325651    131  passat     150000                  7  gasoline     volkswagen   \n",
       "\n",
       "       Repaired DateCreated  NumberOfPictures  PostalCode            LastSeen  \n",
       "41529        no  2016-03-18                 0       36391 2016-03-18 18:46:15  \n",
       "88087        no  2016-03-08                 0       89518 2016-03-09 09:46:57  \n",
       "90964        no  2016-03-28                 0       66589 2016-03-28 08:46:21  \n",
       "171088       no  2016-03-08                 0       89518 2016-03-09 09:46:57  \n",
       "187735      yes  2016-04-03                 0       75196 2016-04-07 09:44:54  \n",
       "231258       no  2016-03-28                 0       66589 2016-03-28 08:46:21  \n",
       "258109      yes  2016-04-03                 0       75196 2016-04-07 09:44:54  \n",
       "325651       no  2016-03-18                 0       36391 2016-03-18 18:46:15  "
      ]
     },
     "execution_count": 15,
     "metadata": {},
     "output_type": "execute_result"
    }
   ],
   "source": [
    "autos[autos.duplicated(keep=False)]"
   ]
  },
  {
   "cell_type": "markdown",
   "metadata": {},
   "source": [
    "В датафрейме присутствуют полные дубликаты - на следующем этапе необходимо будет рассмотреть как от них избавится или оставить "
   ]
  },
  {
   "cell_type": "markdown",
   "metadata": {},
   "source": [
    "*Вывод*:\n",
    "- Для продажи автомобилей с пробегом определенно важны такие параметры как `VehicleType`, `Power`, `Gearbox`, `Model`, `Kilometer`, `FuelType`, `Brand` и конечно же `Repaired`. Это те характеристики, которые будут влиять на ценообразование машины, бывшей в употреблении. Большая часть параметров будет влиять даже на стоимость автомобилей из салона.\n",
    "- На стоимость продажи не должны влиять такие параметры, как `PostalCode`, `LastSeen`, `DateCrawled`, `NumberOfPictures`, `RegistrationMonth` - поскольку они скорее могут влиять на скорость продажи автомобиля, но не на его стоимость. Соответственно `PostalCode`, `LastSeen`, `NumberOfPictures`, `RegistrationMonth` можно удалить из анализа\n",
    "- `VehicleType`, `Gearbox`, `Model`, `FuelType`, `Repaired` являются категориальными признаками\n",
    "- Для признаков, которые влияют на стоимость автомобиля заметны пропуски в данных: для признаков `VehicleType`, `Gearbox`, `Model`, `FuelType`, `Repaired`, также для количественных признаков, таких как `Price`, `Power`, `RegistrationMonth` и `NumberOfPictures` есть нулевые значения\n",
    "- Для датасета найдено большое количество данных, необходимо принять решение о том, каким образом стоит с ними поступить - не повлияет ли избавление от них слишком сильно на предсказание."
   ]
  },
  {
   "cell_type": "markdown",
   "metadata": {},
   "source": [
    "### Предобработка данных"
   ]
  },
  {
   "cell_type": "markdown",
   "metadata": {},
   "source": [
    "Рассмотрим внимательнее данные с пропусками и нулевыми значениями: Для начала проанализируем количественные характеристики, среди которых также присутствует таргет"
   ]
  },
  {
   "cell_type": "code",
   "execution_count": 16,
   "metadata": {},
   "outputs": [],
   "source": [
    "def plot_distribution(df: pd.DataFrame, feature: str, feat_ru: str):\n",
    "    fig, axes = plt.subplots(1, 2, figsize=(18, 5))\n",
    "    if df[feature].dtype == 'int64' and len(df[feature].unique()) < 20:\n",
    "        sns.countplot(data=df, x=feature, ax=axes[0])\n",
    "    else:\n",
    "        sns.histplot(data=df, x=feature, kde=True, ax=axes[0], bins=round(log((len(df[feature].unique()) + 1))*2, ))\n",
    "        sns.boxplot(data=df, x=feature, ax=axes[1])\n",
    "        fig.suptitle(f'Распределение для {feat_ru}')\n",
    "    for num in range(2):\n",
    "        axes[num].set_ylabel('Количество')\n",
    "        axes[num].set_xlabel(feat_ru)"
   ]
  },
  {
   "cell_type": "markdown",
   "metadata": {},
   "source": [
    "#### Количественные признаки"
   ]
  },
  {
   "cell_type": "markdown",
   "metadata": {},
   "source": [
    "Рассмотрим количество объявлений с нулевой ценой и какое количество от общих данных оно занимает"
   ]
  },
  {
   "cell_type": "code",
   "execution_count": 17,
   "metadata": {},
   "outputs": [
    {
     "data": {
      "image/png": "[encoded data removed]",
      "text/plain": [
       "<Figure size 1800x500 with 2 Axes>"
      ]
     },
     "metadata": {},
     "output_type": "display_data"
    }
   ],
   "source": [
    "plot_distribution(autos, 'Price', 'цена')"
   ]
  },
  {
   "cell_type": "code",
   "execution_count": 18,
   "metadata": {},
   "outputs": [
    {
     "name": "stdout",
     "output_type": "stream",
     "text": [
      "Кол-во нулевых строчек для признака цена: 10772, их процент от общего числа 3%\n"
     ]
    }
   ],
   "source": [
    "\n",
    "print(f\"Кол-во нулевых строчек для признака цена: {len(autos.query('Price == 0'))}, их процент от общего числа {round(len(autos.query('Price == 0')) / (autos['Price'].shape[0]) * 100)}%\")"
   ]
  },
  {
   "cell_type": "markdown",
   "metadata": {},
   "source": [
    "Поскольку процент для цены маленький - данные можно спокойно удалить, тем более что это таргет"
   ]
  },
  {
   "cell_type": "code",
   "execution_count": 19,
   "metadata": {},
   "outputs": [],
   "source": [
    "autos = autos.query('Price != 0')"
   ]
  },
  {
   "cell_type": "markdown",
   "metadata": {},
   "source": [
    "Далее рассмотрим на то, как распределены данные для мощности, которая является ценообразующим признаком"
   ]
  },
  {
   "cell_type": "code",
   "execution_count": 20,
   "metadata": {},
   "outputs": [
    {
     "name": "stdout",
     "output_type": "stream",
     "text": [
      "Кол-во нулевых строчек для признака цена: 36360, их процент от общего числа 11%\n"
     ]
    }
   ],
   "source": [
    "print(f\"Кол-во нулевых строчек для признака цена: {len(autos.query('Power == 0'))}, их процент от общего числа {round(len(autos.query('Power == 0')) / (autos['Power'].shape[0]) * 100)}%\")"
   ]
  },
  {
   "cell_type": "code",
   "execution_count": 21,
   "metadata": {},
   "outputs": [
    {
     "data": {
      "image/png": "[encoded data removed]",
      "text/plain": [
       "<Figure size 1800x500 with 2 Axes>"
      ]
     },
     "metadata": {},
     "output_type": "display_data"
    }
   ],
   "source": [
    "plot_distribution(autos, 'Power', 'мощность')"
   ]
  },
  {
   "cell_type": "markdown",
   "metadata": {},
   "source": [
    "Поскольку на данный момент самая большая мощность автомобиля у Lotus Evija 2023 года выпуска - 2012 лошадиных сил, необходимо также изменить данные, которые указывают мощность выше этой. Ограничим релевантные данные до 1100 лошадиных сил - для остальных необходимо заменить значение."
   ]
  },
  {
   "cell_type": "markdown",
   "metadata": {},
   "source": [
    "Поскольку у каждого бренда свое название модели и для каждой модели свои характеристики автомобиля, а также это коррелирующие между собой параметры, рассмотрим параметры мощности для различных моделей"
   ]
  },
  {
   "cell_type": "code",
   "execution_count": 22,
   "metadata": {},
   "outputs": [
    {
     "data": {
      "text/html": [
       "<div>\n",
       "<style scoped>\n",
       "    .dataframe tbody tr th:only-of-type {\n",
       "        vertical-align: middle;\n",
       "    }\n",
       "\n",
       "    .dataframe tbody tr th {\n",
       "        vertical-align: top;\n",
       "    }\n",
       "\n",
       "    .dataframe thead tr th {\n",
       "        text-align: left;\n",
       "    }\n",
       "\n",
       "    .dataframe thead tr:last-of-type th {\n",
       "        text-align: right;\n",
       "    }\n",
       "</style>\n",
       "<table border=\"1\" class=\"dataframe\">\n",
       "  <thead>\n",
       "    <tr>\n",
       "      <th></th>\n",
       "      <th>std</th>\n",
       "      <th>median</th>\n",
       "      <th>mean</th>\n",
       "      <th>max</th>\n",
       "      <th>min</th>\n",
       "    </tr>\n",
       "    <tr>\n",
       "      <th></th>\n",
       "      <th>Power</th>\n",
       "      <th>Power</th>\n",
       "      <th>Power</th>\n",
       "      <th>Power</th>\n",
       "      <th>Power</th>\n",
       "    </tr>\n",
       "    <tr>\n",
       "      <th>Model</th>\n",
       "      <th></th>\n",
       "      <th></th>\n",
       "      <th></th>\n",
       "      <th></th>\n",
       "      <th></th>\n",
       "    </tr>\n",
       "  </thead>\n",
       "  <tbody>\n",
       "    <tr>\n",
       "      <th>156</th>\n",
       "      <td>48.119764</td>\n",
       "      <td>150.0</td>\n",
       "      <td>137.610927</td>\n",
       "      <td>250</td>\n",
       "      <td>0</td>\n",
       "    </tr>\n",
       "    <tr>\n",
       "      <th>s_max</th>\n",
       "      <td>31.241010</td>\n",
       "      <td>140.0</td>\n",
       "      <td>152.387471</td>\n",
       "      <td>254</td>\n",
       "      <td>0</td>\n",
       "    </tr>\n",
       "    <tr>\n",
       "      <th>kaefer</th>\n",
       "      <td>66.353428</td>\n",
       "      <td>34.0</td>\n",
       "      <td>36.111905</td>\n",
       "      <td>1300</td>\n",
       "      <td>0</td>\n",
       "    </tr>\n",
       "    <tr>\n",
       "      <th>voyager</th>\n",
       "      <td>54.681140</td>\n",
       "      <td>147.0</td>\n",
       "      <td>123.565916</td>\n",
       "      <td>218</td>\n",
       "      <td>0</td>\n",
       "    </tr>\n",
       "    <tr>\n",
       "      <th>colt</th>\n",
       "      <td>42.241723</td>\n",
       "      <td>75.0</td>\n",
       "      <td>80.472813</td>\n",
       "      <td>953</td>\n",
       "      <td>0</td>\n",
       "    </tr>\n",
       "    <tr>\n",
       "      <th>terios</th>\n",
       "      <td>29.429648</td>\n",
       "      <td>105.0</td>\n",
       "      <td>86.685714</td>\n",
       "      <td>105</td>\n",
       "      <td>0</td>\n",
       "    </tr>\n",
       "    <tr>\n",
       "      <th>cordoba</th>\n",
       "      <td>31.738172</td>\n",
       "      <td>75.0</td>\n",
       "      <td>66.898172</td>\n",
       "      <td>150</td>\n",
       "      <td>0</td>\n",
       "    </tr>\n",
       "    <tr>\n",
       "      <th>berlingo</th>\n",
       "      <td>413.116700</td>\n",
       "      <td>90.0</td>\n",
       "      <td>100.891892</td>\n",
       "      <td>9012</td>\n",
       "      <td>0</td>\n",
       "    </tr>\n",
       "    <tr>\n",
       "      <th>aveo</th>\n",
       "      <td>25.424825</td>\n",
       "      <td>86.0</td>\n",
       "      <td>82.974359</td>\n",
       "      <td>116</td>\n",
       "      <td>0</td>\n",
       "    </tr>\n",
       "    <tr>\n",
       "      <th>modus</th>\n",
       "      <td>29.469003</td>\n",
       "      <td>75.0</td>\n",
       "      <td>73.990506</td>\n",
       "      <td>125</td>\n",
       "      <td>0</td>\n",
       "    </tr>\n",
       "    <tr>\n",
       "      <th>v50</th>\n",
       "      <td>35.267227</td>\n",
       "      <td>136.0</td>\n",
       "      <td>135.107143</td>\n",
       "      <td>250</td>\n",
       "      <td>0</td>\n",
       "    </tr>\n",
       "    <tr>\n",
       "      <th>1er</th>\n",
       "      <td>325.332490</td>\n",
       "      <td>143.0</td>\n",
       "      <td>143.237918</td>\n",
       "      <td>19211</td>\n",
       "      <td>0</td>\n",
       "    </tr>\n",
       "    <tr>\n",
       "      <th>transit</th>\n",
       "      <td>39.168482</td>\n",
       "      <td>86.0</td>\n",
       "      <td>84.920699</td>\n",
       "      <td>200</td>\n",
       "      <td>0</td>\n",
       "    </tr>\n",
       "    <tr>\n",
       "      <th>cl</th>\n",
       "      <td>113.933317</td>\n",
       "      <td>306.0</td>\n",
       "      <td>237.890909</td>\n",
       "      <td>508</td>\n",
       "      <td>0</td>\n",
       "    </tr>\n",
       "    <tr>\n",
       "      <th>2_reihe</th>\n",
       "      <td>37.325899</td>\n",
       "      <td>88.0</td>\n",
       "      <td>87.875079</td>\n",
       "      <td>1082</td>\n",
       "      <td>0</td>\n",
       "    </tr>\n",
       "  </tbody>\n",
       "</table>\n",
       "</div>"
      ],
      "text/plain": [
       "                 std median        mean    max   min\n",
       "               Power  Power       Power  Power Power\n",
       "Model                                               \n",
       "156        48.119764  150.0  137.610927    250     0\n",
       "s_max      31.241010  140.0  152.387471    254     0\n",
       "kaefer     66.353428   34.0   36.111905   1300     0\n",
       "voyager    54.681140  147.0  123.565916    218     0\n",
       "colt       42.241723   75.0   80.472813    953     0\n",
       "terios     29.429648  105.0   86.685714    105     0\n",
       "cordoba    31.738172   75.0   66.898172    150     0\n",
       "berlingo  413.116700   90.0  100.891892   9012     0\n",
       "aveo       25.424825   86.0   82.974359    116     0\n",
       "modus      29.469003   75.0   73.990506    125     0\n",
       "v50        35.267227  136.0  135.107143    250     0\n",
       "1er       325.332490  143.0  143.237918  19211     0\n",
       "transit    39.168482   86.0   84.920699    200     0\n",
       "cl        113.933317  306.0  237.890909    508     0\n",
       "2_reihe    37.325899   88.0   87.875079   1082     0"
      ]
     },
     "execution_count": 22,
     "metadata": {},
     "output_type": "execute_result"
    }
   ],
   "source": [
    "pd.pivot_table(autos, values='Power', index='Model', aggfunc=['std', 'median', 'mean', 'max', 'min']).sample(15)"
   ]
  },
  {
   "cell_type": "markdown",
   "metadata": {},
   "source": [
    "Для заполнения данных используем медианное значение - поскольку у большинства моделей присутствуют нули или экстремально большие значения, и чтобы избежать влияния этих данных на заменяемое значение, будем использовать медиану"
   ]
  },
  {
   "cell_type": "code",
   "execution_count": 23,
   "metadata": {},
   "outputs": [],
   "source": [
    "median_power = autos.groupby('Model')['Power'].transform('median')"
   ]
  },
  {
   "cell_type": "code",
   "execution_count": 24,
   "metadata": {},
   "outputs": [],
   "source": [
    "autos.loc[(autos['Power'] <= 0) | (autos['Power'] > 1100), 'Power'] = None\n",
    "autos['Power'].fillna(median_power, inplace=True)"
   ]
  },
  {
   "cell_type": "markdown",
   "metadata": {},
   "source": [
    "Рассмотрим признаки, которые отвечают за дату: `DateCrawled` — дата скачивания анкеты из базы и ` RegistrationYear` — год регистрации автомобиля.\n",
    "\n",
    "Рассмотрим распределение данных для регистрации автомобиля с помощью графика"
   ]
  },
  {
   "cell_type": "code",
   "execution_count": 25,
   "metadata": {},
   "outputs": [
    {
     "data": {
      "image/png": "[encoded data removed]",
      "text/plain": [
       "<Figure size 1800x500 with 2 Axes>"
      ]
     },
     "metadata": {},
     "output_type": "display_data"
    }
   ],
   "source": [
    "plot_distribution(autos, 'RegistrationYear', 'Год регистрации автомобиля')"
   ]
  },
  {
   "cell_type": "markdown",
   "metadata": {},
   "source": [
    "Заметно некоторое количество выбросов. Отсеим неверную дату по логике - год регистрации автомобиля не может быть больше 2024, настоящего года, а также меньше 1886 - год получения патента Карлом Бенцем на первый автомобиль."
   ]
  },
  {
   "cell_type": "code",
   "execution_count": 26,
   "metadata": {},
   "outputs": [
    {
     "name": "stdout",
     "output_type": "stream",
     "text": [
      "Кол-во нулевых строчек для признака цена: 139, их процент от общего числа 0%\n"
     ]
    }
   ],
   "source": [
    "\n",
    "print(f\"Кол-во нулевых строчек для признака цена: {len(autos.query('RegistrationYear < 1886 | RegistrationYear > 2024'))}, \"\n",
    "       f\"их процент от общего числа {round(len(autos.query('RegistrationYear < 1886 | RegistrationYear > 2024')) / (autos['RegistrationYear'].shape[0]) * 100)}%\")"
   ]
  },
  {
   "cell_type": "markdown",
   "metadata": {},
   "source": [
    "Поскольку этих данных немного, удалим их из датасета"
   ]
  },
  {
   "cell_type": "code",
   "execution_count": 27,
   "metadata": {},
   "outputs": [],
   "source": [
    "autos = autos.query('RegistrationYear >= 1886 & RegistrationYear <= 2024')"
   ]
  },
  {
   "cell_type": "markdown",
   "metadata": {},
   "source": [
    "Для обучения модели заменим дату регистрации на количество дней с момента регистрации на данный момент, чтобы преобразовать в относительное числовое значение"
   ]
  },
  {
   "cell_type": "code",
   "execution_count": 28,
   "metadata": {},
   "outputs": [],
   "source": [
    "today = pd.Timestamp.now()\n",
    "autos['DaysSinceToday'] = autos['DateCreated'].apply(lambda date: (today - date).days)\n",
    "autos['DaysSinceToday'] = autos['DaysSinceToday'].astype('int')"
   ]
  },
  {
   "cell_type": "code",
   "execution_count": 29,
   "metadata": {},
   "outputs": [
    {
     "data": {
      "text/html": [
       "<div>\n",
       "<style scoped>\n",
       "    .dataframe tbody tr th:only-of-type {\n",
       "        vertical-align: middle;\n",
       "    }\n",
       "\n",
       "    .dataframe tbody tr th {\n",
       "        vertical-align: top;\n",
       "    }\n",
       "\n",
       "    .dataframe thead th {\n",
       "        text-align: right;\n",
       "    }\n",
       "</style>\n",
       "<table border=\"1\" class=\"dataframe\">\n",
       "  <thead>\n",
       "    <tr style=\"text-align: right;\">\n",
       "      <th></th>\n",
       "      <th>DateCrawled</th>\n",
       "      <th>Price</th>\n",
       "      <th>VehicleType</th>\n",
       "      <th>RegistrationYear</th>\n",
       "      <th>Gearbox</th>\n",
       "      <th>Power</th>\n",
       "      <th>Model</th>\n",
       "      <th>Kilometer</th>\n",
       "      <th>RegistrationMonth</th>\n",
       "      <th>FuelType</th>\n",
       "      <th>Brand</th>\n",
       "      <th>Repaired</th>\n",
       "      <th>DateCreated</th>\n",
       "      <th>NumberOfPictures</th>\n",
       "      <th>PostalCode</th>\n",
       "      <th>LastSeen</th>\n",
       "      <th>DaysSinceToday</th>\n",
       "    </tr>\n",
       "  </thead>\n",
       "  <tbody>\n",
       "    <tr>\n",
       "      <th>239447</th>\n",
       "      <td>2016-04-05 11:50:51</td>\n",
       "      <td>8300</td>\n",
       "      <td>sedan</td>\n",
       "      <td>2004</td>\n",
       "      <td>auto</td>\n",
       "      <td>218.0</td>\n",
       "      <td>5er</td>\n",
       "      <td>30000</td>\n",
       "      <td>4</td>\n",
       "      <td>gasoline</td>\n",
       "      <td>bmw</td>\n",
       "      <td>no</td>\n",
       "      <td>2016-04-05</td>\n",
       "      <td>0</td>\n",
       "      <td>93128</td>\n",
       "      <td>2016-04-05 11:50:51</td>\n",
       "      <td>3125</td>\n",
       "    </tr>\n",
       "    <tr>\n",
       "      <th>146979</th>\n",
       "      <td>2016-03-28 13:42:50</td>\n",
       "      <td>650</td>\n",
       "      <td>NaN</td>\n",
       "      <td>2000</td>\n",
       "      <td>manual</td>\n",
       "      <td>120.0</td>\n",
       "      <td>mondeo</td>\n",
       "      <td>150000</td>\n",
       "      <td>0</td>\n",
       "      <td>NaN</td>\n",
       "      <td>ford</td>\n",
       "      <td>NaN</td>\n",
       "      <td>2016-03-28</td>\n",
       "      <td>0</td>\n",
       "      <td>33729</td>\n",
       "      <td>2016-04-06 16:46:43</td>\n",
       "      <td>3133</td>\n",
       "    </tr>\n",
       "    <tr>\n",
       "      <th>260970</th>\n",
       "      <td>2016-03-11 18:43:15</td>\n",
       "      <td>1300</td>\n",
       "      <td>sedan</td>\n",
       "      <td>1994</td>\n",
       "      <td>manual</td>\n",
       "      <td>90.0</td>\n",
       "      <td>golf</td>\n",
       "      <td>150000</td>\n",
       "      <td>5</td>\n",
       "      <td>petrol</td>\n",
       "      <td>volkswagen</td>\n",
       "      <td>NaN</td>\n",
       "      <td>2016-03-11</td>\n",
       "      <td>0</td>\n",
       "      <td>33189</td>\n",
       "      <td>2016-03-17 04:45:20</td>\n",
       "      <td>3150</td>\n",
       "    </tr>\n",
       "    <tr>\n",
       "      <th>46757</th>\n",
       "      <td>2016-03-25 09:56:23</td>\n",
       "      <td>800</td>\n",
       "      <td>wagon</td>\n",
       "      <td>1999</td>\n",
       "      <td>NaN</td>\n",
       "      <td>75.0</td>\n",
       "      <td>cordoba</td>\n",
       "      <td>150000</td>\n",
       "      <td>0</td>\n",
       "      <td>NaN</td>\n",
       "      <td>seat</td>\n",
       "      <td>NaN</td>\n",
       "      <td>2016-03-25</td>\n",
       "      <td>0</td>\n",
       "      <td>66482</td>\n",
       "      <td>2016-03-29 22:46:57</td>\n",
       "      <td>3136</td>\n",
       "    </tr>\n",
       "    <tr>\n",
       "      <th>175801</th>\n",
       "      <td>2016-03-12 17:49:15</td>\n",
       "      <td>900</td>\n",
       "      <td>small</td>\n",
       "      <td>1996</td>\n",
       "      <td>auto</td>\n",
       "      <td>5.0</td>\n",
       "      <td>NaN</td>\n",
       "      <td>50000</td>\n",
       "      <td>0</td>\n",
       "      <td>petrol</td>\n",
       "      <td>sonstige_autos</td>\n",
       "      <td>NaN</td>\n",
       "      <td>2016-03-12</td>\n",
       "      <td>0</td>\n",
       "      <td>25836</td>\n",
       "      <td>2016-04-07 09:45:57</td>\n",
       "      <td>3149</td>\n",
       "    </tr>\n",
       "  </tbody>\n",
       "</table>\n",
       "</div>"
      ],
      "text/plain": [
       "               DateCrawled  Price VehicleType  RegistrationYear Gearbox  \\\n",
       "239447 2016-04-05 11:50:51   8300       sedan              2004    auto   \n",
       "146979 2016-03-28 13:42:50    650         NaN              2000  manual   \n",
       "260970 2016-03-11 18:43:15   1300       sedan              1994  manual   \n",
       "46757  2016-03-25 09:56:23    800       wagon              1999     NaN   \n",
       "175801 2016-03-12 17:49:15    900       small              1996    auto   \n",
       "\n",
       "        Power    Model  Kilometer  RegistrationMonth  FuelType  \\\n",
       "239447  218.0      5er      30000                  4  gasoline   \n",
       "146979  120.0   mondeo     150000                  0       NaN   \n",
       "260970   90.0     golf     150000                  5    petrol   \n",
       "46757    75.0  cordoba     150000                  0       NaN   \n",
       "175801    5.0      NaN      50000                  0    petrol   \n",
       "\n",
       "                 Brand Repaired DateCreated  NumberOfPictures  PostalCode  \\\n",
       "239447             bmw       no  2016-04-05                 0       93128   \n",
       "146979            ford      NaN  2016-03-28                 0       33729   \n",
       "260970      volkswagen      NaN  2016-03-11                 0       33189   \n",
       "46757             seat      NaN  2016-03-25                 0       66482   \n",
       "175801  sonstige_autos      NaN  2016-03-12                 0       25836   \n",
       "\n",
       "                  LastSeen  DaysSinceToday  \n",
       "239447 2016-04-05 11:50:51            3125  \n",
       "146979 2016-04-06 16:46:43            3133  \n",
       "260970 2016-03-17 04:45:20            3150  \n",
       "46757  2016-03-29 22:46:57            3136  \n",
       "175801 2016-04-07 09:45:57            3149  "
      ]
     },
     "execution_count": 29,
     "metadata": {},
     "output_type": "execute_result"
    }
   ],
   "source": [
    "autos.sample(5)"
   ]
  },
  {
   "cell_type": "markdown",
   "metadata": {},
   "source": [
    "Оставшиеся количественные признаки не будут рассматриваться для анализа. Далее необходимо проанализировать категориальные признаки"
   ]
  },
  {
   "cell_type": "code",
   "execution_count": 30,
   "metadata": {},
   "outputs": [],
   "source": [
    "def categorial(df: pd.DataFrame, feature: str, feat_ru: str, threshold: float = 0.05):\n",
    "    value_counts = df[feature].value_counts(normalize=True)\n",
    "    others = value_counts[value_counts < threshold].index\n",
    "\n",
    "    df_replaced = df[feature].replace(others, 'Others')\n",
    "    data = df_replaced.value_counts().reset_index()\n",
    "    data.columns = [feature, 'count']\n",
    "\n",
    "    if len(data['count']) > 1:\n",
    "        fig, axes = plt.subplots(1, 2, figsize=(20, 4))\n",
    "        fig.suptitle(f'Распределение для {feat_ru}')\n",
    "        axes[0].yaxis.grid(True)\n",
    "\n",
    "        sns.barplot(data=data, y=feature, x='count', ax=axes[0])\n",
    "        axes[0].set_xlabel('Количество', fontsize=12)\n",
    "        axes[0].set_ylabel(feat_ru, fontsize=12)\n",
    "\n",
    "        axes[1].pie(data['count'], labels=data[feature], autopct='%.1f%%', radius=1)\n",
    "    else:\n",
    "        print(f'Для категориального признака \"{feat_ru}\" одинаковое количество данных на все группы: {data[\"count\"][0]}')"
   ]
  },
  {
   "cell_type": "markdown",
   "metadata": {},
   "source": [
    "#### Категориальные признаки"
   ]
  },
  {
   "cell_type": "code",
   "execution_count": 31,
   "metadata": {},
   "outputs": [],
   "source": [
    "def calculate_na(df: pd.DataFrame, col: str):\n",
    "    print(f'Количество пропущенных данных для {col} {len(df.loc[autos[col].isna()])}, '\n",
    "          f'их процент от общего количества: {round(len(df.loc[df[col].isna()]) / df.shape[0] * 100)}%')"
   ]
  },
  {
   "cell_type": "markdown",
   "metadata": {},
   "source": [
    "Пропуски в категориальных данных присутствуют среди признаков `VehicleType`, `Gearbox`, `Model`, `FuelType`, `Repaired`\n",
    "\n",
    "Рассмотрим каким образом можно их заменить и насколько большой процент они занимают"
   ]
  },
  {
   "cell_type": "code",
   "execution_count": 32,
   "metadata": {},
   "outputs": [
    {
     "name": "stdout",
     "output_type": "stream",
     "text": [
      "Количество пропущенных данных для VehicleType 33611, их процент от общего количества: 10%\n"
     ]
    }
   ],
   "source": [
    "calculate_na(autos, 'VehicleType')"
   ]
  },
  {
   "cell_type": "markdown",
   "metadata": {},
   "source": [
    "Поскольку данных с пропущенным типом кузова слишом много для удаления, а тип кузова может быть различным для одной и той же модели, то будет правильнее указать, что данные не введены пользователем. Заменим значения на 'Notfilled'"
   ]
  },
  {
   "cell_type": "code",
   "execution_count": 33,
   "metadata": {},
   "outputs": [],
   "source": [
    "autos[\"VehicleType\"].fillna('Notfilled', inplace=True)"
   ]
  },
  {
   "cell_type": "markdown",
   "metadata": {},
   "source": [
    "Рассмотрим теперь тип коробки передач: `GearBox`"
   ]
  },
  {
   "cell_type": "code",
   "execution_count": 34,
   "metadata": {},
   "outputs": [
    {
     "name": "stdout",
     "output_type": "stream",
     "text": [
      "Количество пропущенных данных для Gearbox 17243, их процент от общего количества: 5%\n"
     ]
    }
   ],
   "source": [
    "calculate_na(autos, 'Gearbox')"
   ]
  },
  {
   "cell_type": "markdown",
   "metadata": {},
   "source": [
    "Поскольку в отличии от типа кузова, типов коробки передач всего два, с большей вероятностью мы укажем нужную, если вместо пропуска укажем наиболее распространенную коробку передач для модели"
   ]
  },
  {
   "cell_type": "code",
   "execution_count": 35,
   "metadata": {},
   "outputs": [],
   "source": [
    "pivot = autos.pivot_table(index='Model', columns='Gearbox', aggfunc='size', fill_value=0)\n",
    "\n",
    "most_frequent_gearbox = pivot.idxmax(axis=1)\n",
    "\n",
    "autos['Gearbox'] = autos.apply(lambda row: most_frequent_gearbox[row['Model']] if (pd.isna(row['Gearbox']) and row['Model'] in most_frequent_gearbox) else row['Gearbox'],\n",
    "                               axis=1)"
   ]
  },
  {
   "cell_type": "code",
   "execution_count": 36,
   "metadata": {},
   "outputs": [
    {
     "name": "stdout",
     "output_type": "stream",
     "text": [
      "Количество пропущенных данных для Gearbox 3038, их процент от общего количества: 1%\n"
     ]
    }
   ],
   "source": [
    "calculate_na(autos, 'Gearbox')"
   ]
  },
  {
   "cell_type": "markdown",
   "metadata": {},
   "source": [
    "Оставшиеся пропущенные значения удалим, поскольку их нельзя заполнить наиболее встречающимся значением"
   ]
  },
  {
   "cell_type": "code",
   "execution_count": 37,
   "metadata": {},
   "outputs": [],
   "source": [
    "autos.dropna(subset=['Gearbox'], inplace=True)"
   ]
  },
  {
   "cell_type": "markdown",
   "metadata": {},
   "source": [
    "Рассмотрим теперь пропущенные данные для модели автомобиля"
   ]
  },
  {
   "cell_type": "code",
   "execution_count": 38,
   "metadata": {},
   "outputs": [
    {
     "name": "stdout",
     "output_type": "stream",
     "text": [
      "Количество пропущенных данных для Model 14430, их процент от общего количества: 4%\n"
     ]
    }
   ],
   "source": [
    "calculate_na(autos, 'Model')"
   ]
  },
  {
   "cell_type": "markdown",
   "metadata": {},
   "source": [
    "Поскольку эти данные нельзя восстановить по бренду и их не так много, удалим их"
   ]
  },
  {
   "cell_type": "code",
   "execution_count": 39,
   "metadata": {},
   "outputs": [],
   "source": [
    "autos.dropna(subset=['Model'], inplace=True)"
   ]
  },
  {
   "cell_type": "markdown",
   "metadata": {},
   "source": [
    "Рассмотрим пропуски тип топлива `FuelType`"
   ]
  },
  {
   "cell_type": "code",
   "execution_count": 40,
   "metadata": {},
   "outputs": [
    {
     "name": "stdout",
     "output_type": "stream",
     "text": [
      "Количество пропущенных данных для FuelType 23490, их процент от общего количества: 7%\n"
     ]
    }
   ],
   "source": [
    "calculate_na(autos, 'FuelType')"
   ]
  },
  {
   "cell_type": "markdown",
   "metadata": {},
   "source": [
    "Поскольку для одной и тоже модели могут быть реализованы разные типы топлива, а их вариация больше двух и тип топлива может влиять на ценообразование автомобиля, поскольку в зависимости от региона могут быть определенные предпочтения, а также тип топлива влияет на эксплуатационный износ, эти данные заполним как `Notfilled`"
   ]
  },
  {
   "cell_type": "code",
   "execution_count": 41,
   "metadata": {},
   "outputs": [],
   "source": [
    "autos['FuelType'].fillna('Notfilled', inplace=True)"
   ]
  },
  {
   "cell_type": "markdown",
   "metadata": {},
   "source": [
    "Рассмотрим пропуски для `Repaired`"
   ]
  },
  {
   "cell_type": "code",
   "execution_count": 42,
   "metadata": {},
   "outputs": [
    {
     "data": {
      "image/png": "[encoded data removed]",
      "text/plain": [
       "<Figure size 2000x400 with 2 Axes>"
      ]
     },
     "metadata": {},
     "output_type": "display_data"
    }
   ],
   "source": [
    "categorial(autos, 'Repaired', 'Починка автомобиля')"
   ]
  },
  {
   "cell_type": "code",
   "execution_count": 43,
   "metadata": {},
   "outputs": [
    {
     "name": "stdout",
     "output_type": "stream",
     "text": [
      "Количество пропущенных данных для Repaired 58218, их процент от общего количества: 18%\n"
     ]
    }
   ],
   "source": [
    "calculate_na(autos, 'Repaired')"
   ]
  },
  {
   "cell_type": "markdown",
   "metadata": {},
   "source": [
    "Поскольку большаяя часть автомобилей не была в ремоне, а данное поле может быть не обязательным для заполнения при каких-то условиях, то логично будет заполнить данный признак `no`, поскольку машина не была в ремонте"
   ]
  },
  {
   "cell_type": "code",
   "execution_count": 44,
   "metadata": {},
   "outputs": [],
   "source": [
    "autos[\"Repaired\"].fillna('no', inplace=True)"
   ]
  },
  {
   "cell_type": "markdown",
   "metadata": {},
   "source": [
    "Рассмотрим fuel_type, для этого построим график"
   ]
  },
  {
   "cell_type": "code",
   "execution_count": 45,
   "metadata": {},
   "outputs": [
    {
     "data": {
      "image/png": "[encoded data removed]",
      "text/plain": [
       "<Figure size 2000x400 with 2 Axes>"
      ]
     },
     "metadata": {},
     "output_type": "display_data"
    }
   ],
   "source": [
    "categorial(autos, 'FuelType', 'Тип топлива')"
   ]
  },
  {
   "cell_type": "code",
   "execution_count": 46,
   "metadata": {},
   "outputs": [
    {
     "data": {
      "text/plain": [
       "FuelType\n",
       "petrol       202235\n",
       "gasoline      94500\n",
       "Notfilled     23490\n",
       "lpg            4845\n",
       "cng             533\n",
       "hybrid          204\n",
       "other           118\n",
       "electric         65\n",
       "Name: count, dtype: int64"
      ]
     },
     "execution_count": 46,
     "metadata": {},
     "output_type": "execute_result"
    }
   ],
   "source": [
    "autos['FuelType'].value_counts()"
   ]
  },
  {
   "cell_type": "markdown",
   "metadata": {},
   "source": [
    "Обратим внимание, что 31% от общего числа занимает тип топлива gasoline, термин исходит из США. Соответственно можно предположить, что данные автомобили либо были куплены в Америке, либо использовались в данном регионе.\n",
    "\n",
    "Поскольку термин petrol и gasoline означают одно и то же, объединим в одну категорию"
   ]
  },
  {
   "cell_type": "code",
   "execution_count": 47,
   "metadata": {},
   "outputs": [],
   "source": [
    "autos['FuelType'] = autos['FuelType'].replace({'gasoline': 'petrol'})"
   ]
  },
  {
   "cell_type": "code",
   "execution_count": 48,
   "metadata": {},
   "outputs": [
    {
     "data": {
      "text/plain": [
       "FuelType\n",
       "petrol       296735\n",
       "Notfilled     23490\n",
       "lpg            4845\n",
       "cng             533\n",
       "hybrid          204\n",
       "other           118\n",
       "electric         65\n",
       "Name: count, dtype: int64"
      ]
     },
     "execution_count": 48,
     "metadata": {},
     "output_type": "execute_result"
    }
   ],
   "source": [
    "autos['FuelType'].value_counts()"
   ]
  },
  {
   "cell_type": "markdown",
   "metadata": {},
   "source": [
    "#### Дубликаты"
   ]
  },
  {
   "cell_type": "markdown",
   "metadata": {},
   "source": [
    "Рассмотрим какое количество дубликатов осталось после обработки признаков"
   ]
  },
  {
   "cell_type": "code",
   "execution_count": 49,
   "metadata": {},
   "outputs": [
    {
     "data": {
      "text/plain": [
       "DateCrawled          10\n",
       "Price                10\n",
       "VehicleType          10\n",
       "RegistrationYear     10\n",
       "Gearbox              10\n",
       "Power                10\n",
       "Model                10\n",
       "Kilometer            10\n",
       "RegistrationMonth    10\n",
       "FuelType             10\n",
       "Brand                10\n",
       "Repaired             10\n",
       "DateCreated          10\n",
       "NumberOfPictures     10\n",
       "PostalCode           10\n",
       "LastSeen             10\n",
       "DaysSinceToday       10\n",
       "dtype: int64"
      ]
     },
     "execution_count": 49,
     "metadata": {},
     "output_type": "execute_result"
    }
   ],
   "source": [
    "autos[autos.duplicated(keep=False)].count()"
   ]
  },
  {
   "cell_type": "markdown",
   "metadata": {},
   "source": [
    "Данное количество дубликатов позволяет избавится от них без лишних раздумий"
   ]
  },
  {
   "cell_type": "code",
   "execution_count": 50,
   "metadata": {},
   "outputs": [],
   "source": [
    "autos.drop_duplicates(inplace=True)"
   ]
  },
  {
   "cell_type": "markdown",
   "metadata": {},
   "source": [
    "Ранее мы отметили что `PostalCode`, `LastSeen`, `NumberOfPictures` не вляют на стоимость продажи, а также заменили `DateCreated` на относительную величину `DaysSinceToday`. Соответственно эти колонки можно удалить "
   ]
  },
  {
   "cell_type": "code",
   "execution_count": 51,
   "metadata": {},
   "outputs": [
    {
     "name": "stdout",
     "output_type": "stream",
     "text": [
      "<class 'pandas.core.frame.DataFrame'>\n",
      "Index: 325985 entries, 0 to 354368\n",
      "Data columns (total 13 columns):\n",
      " #   Column             Non-Null Count   Dtype         \n",
      "---  ------             --------------   -----         \n",
      " 0   DateCrawled        325985 non-null  datetime64[ns]\n",
      " 1   Price              325985 non-null  int64         \n",
      " 2   VehicleType        325985 non-null  object        \n",
      " 3   RegistrationYear   325985 non-null  int64         \n",
      " 4   Gearbox            325985 non-null  object        \n",
      " 5   Power              325985 non-null  float64       \n",
      " 6   Model              325985 non-null  object        \n",
      " 7   Kilometer          325985 non-null  int64         \n",
      " 8   RegistrationMonth  325985 non-null  int64         \n",
      " 9   FuelType           325985 non-null  object        \n",
      " 10  Brand              325985 non-null  object        \n",
      " 11  Repaired           325985 non-null  object        \n",
      " 12  DaysSinceToday     325985 non-null  int32         \n",
      "dtypes: datetime64[ns](1), float64(1), int32(1), int64(4), object(6)\n",
      "memory usage: 33.6+ MB\n"
     ]
    }
   ],
   "source": [
    "autos.drop(columns=['PostalCode', 'LastSeen', 'NumberOfPictures', 'DateCreated'], inplace=True)\n",
    "autos.reset_index(drop=True)\n",
    "autos.info()"
   ]
  },
  {
   "cell_type": "code",
   "execution_count": 52,
   "metadata": {},
   "outputs": [],
   "source": [
    "autos['DateCrawled'] = autos['DateCrawled'].astype('int64')"
   ]
  },
  {
   "cell_type": "code",
   "execution_count": 53,
   "metadata": {},
   "outputs": [],
   "source": [
    "def correlation_matrix(df: pd.DataFrame, columns: list, df_name: str) -> None:\n",
    "    plt.figure(figsize=(12, 10))  \n",
    "    figure = sns.heatmap(df.corr(method='spearman', numeric_only=True), \n",
    "                annot=True, \n",
    "                cmap='seismic', \n",
    "                fmt=\".2f\")\n",
    "    figure.set_title(f'Матрица корреляции количественных признаков для датафрейма {df_name} по методу Спирмена')\n",
    "    plt.tight_layout()"
   ]
  },
  {
   "cell_type": "code",
   "execution_count": 54,
   "metadata": {},
   "outputs": [
    {
     "data": {
      "image/png": "[encoded data removed]",
      "text/plain": [
       "<Figure size 1200x1000 with 2 Axes>"
      ]
     },
     "metadata": {},
     "output_type": "display_data"
    }
   ],
   "source": [
    "correlation_matrix(autos, ['DateCrawled', 'RegistrationYear', 'Power', 'Kilometer', 'RegistrationMonth', 'DaysSinceToday'], 'Датафрейм с данными о автомобилях')"
   ]
  },
  {
   "cell_type": "markdown",
   "metadata": {},
   "source": [
    "Наблюдается сильная корреляция между `price` и `Power`, `RedistrationYear`"
   ]
  },
  {
   "cell_type": "markdown",
   "metadata": {},
   "source": [
    "*Вывод:*\n",
    "- Для количественных признаков:\n",
    "    - были удалены данные с нулевой ценой, а также с некорректными значениями для мощности двигателя\n",
    "- Для категориальных данных:\n",
    "    - для коробки передач, где это было возможно, пропученные значения были заполнены на наиболее встречающееся для модели\n",
    "    - для типа кузова, типа топлива, а также незаполненных значений коробки передач пропуски были заполнены как `NotFilled`\n",
    "    - для признака ремонта пропуски были заполнены как `no`, то есть починка не проводилась\n",
    "- Для данных типа datetime была произведена замена на относительную величину разница в днях для сегодняшнего дня\n",
    "- были удалены дубликаты\n",
    "- были удалены признаки, которые не будут использоваться в обучении `PostalCode`, `LastSeen`, `NumberOfPictures`, `DateCreated`\n",
    "- была построена матрица корреляции, на которой заметна сильная корреляция между `price` и `Power`, `RedistrationYear`"
   ]
  },
  {
   "cell_type": "markdown",
   "metadata": {},
   "source": [
    "### Кодирование данных и создание пайплайна"
   ]
  },
  {
   "cell_type": "markdown",
   "metadata": {},
   "source": [
    "Поскольку сдреди обучаемых моделей планируется использовать градиентный бустинг, используем в качестве кодировщика TargetEncoder"
   ]
  },
  {
   "cell_type": "code",
   "execution_count": 55,
   "metadata": {},
   "outputs": [],
   "source": [
    "X = autos.drop(columns=['Price'])\n",
    "y = autos['Price']\n",
    "X_train, X_test, y_train, y_test = train_test_split(X,\n",
    "                                                    y,\n",
    "                                                    test_size=0.25,\n",
    "                                                    random_state=RANDOM_STATE)"
   ]
  },
  {
   "cell_type": "code",
   "execution_count": 56,
   "metadata": {},
   "outputs": [
    {
     "name": "stdout",
     "output_type": "stream",
     "text": [
      "<class 'pandas.core.frame.DataFrame'>\n",
      "Index: 244488 entries, 307262 to 323801\n",
      "Data columns (total 12 columns):\n",
      " #   Column             Non-Null Count   Dtype  \n",
      "---  ------             --------------   -----  \n",
      " 0   DateCrawled        244488 non-null  int64  \n",
      " 1   VehicleType        244488 non-null  object \n",
      " 2   RegistrationYear   244488 non-null  int64  \n",
      " 3   Gearbox            244488 non-null  object \n",
      " 4   Power              244488 non-null  float64\n",
      " 5   Model              244488 non-null  object \n",
      " 6   Kilometer          244488 non-null  int64  \n",
      " 7   RegistrationMonth  244488 non-null  int64  \n",
      " 8   FuelType           244488 non-null  object \n",
      " 9   Brand              244488 non-null  object \n",
      " 10  Repaired           244488 non-null  object \n",
      " 11  DaysSinceToday     244488 non-null  int32  \n",
      "dtypes: float64(1), int32(1), int64(4), object(6)\n",
      "memory usage: 23.3+ MB\n"
     ]
    }
   ],
   "source": [
    "X_train.info()"
   ]
  },
  {
   "cell_type": "code",
   "execution_count": 57,
   "metadata": {},
   "outputs": [],
   "source": [
    "num_cols = X_train.select_dtypes(include=['number']).columns.tolist()\n",
    "cat_cols = X_train.select_dtypes(include=['object']).columns.tolist()\n",
    "categories = [\n",
    "    ['nan', 'bus', 'convertible', 'coupe', 'suv', 'sedan', 'small', 'wagon'],\n",
    "    ['auto', 'manual'],\n",
    "    ['1_reihe', '1er', '2_reihe', '3_reihe', '3er', '4_reihe', '5_reihe', '5er', '6_reihe', '6er', '7er', '80', '90',\n",
    "     '911', 'a1', 'a2', 'a3', 'a4', 'a5', 'a6', 'a8', 'accord', 'agila', 'alhambra', 'almera', 'alto', 'amarok',\n",
    "     'antara', 'arosa', 'auris', 'avensis', 'aveo', 'aygo', 'b_klasse', 'b_max', 'beetle', 'berlingo', 'bora',\n",
    "     'boxster', 'bravo', 'c1', 'c2', 'c3', 'c4', 'c5', 'c_klasse', 'cadillac', 'calibra', 'carisma', 'carnival',\n",
    "     'cashqai', 'c_ceer', 'cc', 'ceed', 'charade', 'cherokee', 'citigo', 'cl', 'clio', 'clk', 'clubman', 'colt',\n",
    "     'combo', 'cordoba', 'corolla', 'corsa', 'coupe', 'crossfire', 'cx_reihe', 'defender', 'delta', 'discovery',\n",
    "     'doblo', 'ducato', 'duster', 'elefantino', 'elantra', 'espace', 'exeo', 'f_pace', 'fabia', 'fiesta', 'focus',\n",
    "     'forester', 'fortwo', 'frogeye', 'fusion', 'g_klasse', 'galant', 'galaxy', 'gl', 'glk', 'golf', 'grand', 'grande',\n",
    "     'i3', 'i_reihe', 'iomanz', 'ion', 'jetta', 'jimny', 'justy', 'ka', 'kadett', 'kaefer', 'kalina', 'kalos', 'kangoo',\n",
    "     'kappa', 'karl', 'kiacarens', 'kiaceed', 'kiamagentis', 'kiapicanto', 'kiari', 'kiarondo', 'kiasedona', 'kiashuma',\n",
    "     'kiavenga', 'kiavista', 'kiacerato', 'kiamohave', 'kiaopirus', 'kiario', 'kiastonic', 'kiavenga', 'kiaviero',\n",
    "     'kiamegara', 'kiarodeo', 'kiacarens', 'laguna', 'lanos', 'legacy', 'leon', 'logan', 'lorry', 'lupo', 'lybra',\n",
    "     'm_klasse', 'm_reihe', 'matiz', 'maxima', 'megane', 'meriva', 'mini', 'mondeo', 'move', 'musa', 'mx-5', 'mystery',\n",
    "     'nan', 'navara', 'niva', 'note', 'nubira', 'omega', 'one', 'other', 'outback', 'outlander', 'pajero', 'panda',\n",
    "     'passat', 'phaedra', 'picanto', 'polo', 'primera', 'ptcruiser', 'puma', 'q7', 'r19', 'rav', 'rondo', 'roomster',\n",
    "     'royal', 'rx8', 's_type', 'samara', 'sandero', 'santa', 'scenic', 'sedici', 'sentra', 'sephia', 'serie2', 'serie3',\n",
    "     'shuma', 'siballa', 'sierra', 'sirion', 'sl', 'slk', 'smax', 'sonic', 'sorento', 'spark', 'space', 'spirit',\n",
    "     'sport', 'sportage', 'sprinter', 'stilo', 'streetka', 'sunny', 'swift', 'sx4', 'taiga', 'terios', 'tiguan',\n",
    "     'toledo', 'touran', 'toureg', 'transit', 'trevi', 'tribeca', 'trooper', 'tunderbird', 'twigo', 'up', 'utrack',\n",
    "     'vectra', 'vento', 'viano', 'vivalo', 'voyager', 'vrs', 'xtor', 'xtrail', 'yaris', 'zenos', 'zilos', 'zirossa',\n",
    "     'zizil'],\n",
    "    ['nan', 'a6', 'a_klasse', 'agila', 'auris', 'avensis', 'aygo', 'b_max', 'beetle', 'berlingo', 'bmw320i', 'bmw330ci',\n",
    "     'bmw335d', 'bmw645', 'bmw760', 'c6', 'corolla', 'cordoba', 'corsa', 'corolla', 'crossfire', 'flax', 'frogeye',\n",
    "     'gl', 'glk', 'golf4', 'golf6', 'golfgti', 'honda', 'jazz', 'karl', 'kiaev6', 'lete', 'mahw', 'mi1', 'mondeo',\n",
    "     'mx5', 'nan', 'oppon', 'pajero', 'peugeot2008', 'picanto', 'polo', 'renaultclio', 'rx8', 'sandero', 'sedici',\n",
    "     'sephia', 'serie3', 'shuma', 'siballa', 'sie', 'sunny', 'swift', 'suzuki', 'terios', 'tiaga', 'totota', 'touran',\n",
    "     'tow', 'transit', 'tribeca', 'trooper', 'u-sport', 'viano', 'warth', 'x3i', 'x5umma', 'xus', 'yaris', 'ziggity'],\n",
    "    ['nano', 'disco', 'gas'],\n",
    "    ['hybrid', 'lpg', 'petrol', 'internal', 'external']\n",
    "]"
   ]
  },
  {
   "cell_type": "code",
   "execution_count": 58,
   "metadata": {},
   "outputs": [
    {
     "data": {
      "text/plain": [
       "['VehicleType', 'Gearbox', 'Model', 'FuelType', 'Brand', 'Repaired']"
      ]
     },
     "execution_count": 58,
     "metadata": {},
     "output_type": "execute_result"
    }
   ],
   "source": [
    "cat_cols"
   ]
  },
  {
   "cell_type": "code",
   "execution_count": 59,
   "metadata": {},
   "outputs": [],
   "source": [
    "\n",
    "num_pipe = Pipeline([\n",
    "    ('Imputer_before', SimpleImputer(missing_values=np.nan, strategy='median')),\n",
    "    ('scaler', StandardScaler())\n",
    "])\n",
    "\n",
    "oe_pipe = Pipeline([\n",
    "    ('Imputer_before', SimpleImputer(missing_values=np.nan, strategy='most_frequent')),\n",
    "    ('encoder', OrdinalEncoder(categories=categories, \n",
    "                                   handle_unknown='use_encoded_value', \n",
    "                                   unknown_value=np.nan)),\n",
    "    ('after', SimpleImputer(missing_values=np.nan, strategy='most_frequent'))\n",
    "])\n",
    "\n",
    "ohe_pipe = Pipeline([\n",
    "    ('Imputer_before', SimpleImputer(missing_values=np.nan, strategy='most_frequent')),\n",
    "    ('encoder', OneHotEncoder(handle_unknown='ignore')),\n",
    "    ('after', SimpleImputer(missing_values=np.nan, strategy='most_frequent'))\n",
    "])\n",
    "\n",
    "preprocessor_oe = ColumnTransformer([\n",
    "    ('num_processing', num_pipe, num_cols),\n",
    "    ('cat_processing', oe_pipe, cat_cols),\n",
    "\n",
    "], remainder='passthrough')\n",
    "\n",
    "preprocessor_ohe = ColumnTransformer([\n",
    "    ('num_processing', num_pipe, num_cols),\n",
    "    ('cat_processing', ohe_pipe, cat_cols),\n",
    "\n",
    "], remainder='passthrough')\n",
    "\n",
    "pipe_final = Pipeline([\n",
    "    ('preprocessor', preprocessor_oe),\n",
    "    ('model', LGBMRegressor(random_state=RANDOM_STATE))\n",
    "])\n",
    "\n",
    "params_grid = [\n",
    "    {\n",
    "        'preprocessor': [preprocessor_ohe],\n",
    "        'model': [Ridge(random_state=RANDOM_STATE)],\n",
    "        'model__solver':['auto', 'sparse_cg', 'lsqr'],\n",
    "        'preprocessor__num_processing__scaler': [StandardScaler(), RobustScaler(), MinMaxScaler()]\n",
    "    },\n",
    "    {\n",
    "        'preprocessor': [preprocessor_oe],\n",
    "        'model': [LGBMRegressor(random_state=RANDOM_STATE)],\n",
    "        'model__n_estimators': range(500, 900, 100),\n",
    "        'model__learning_rate': [0.1],\n",
    "        'model__max_depth': [7],\n",
    "        'preprocessor__num_processing__scaler': [RobustScaler(), MinMaxScaler()]\n",
    "    },\n",
    "    {\n",
    "        'preprocessor': [preprocessor_oe],\n",
    "        'model': [DecisionTreeRegressor(random_state=RANDOM_STATE)],\n",
    "        'model__max_depth': [None, 10, 20],\n",
    "        'model__min_samples_split': [2, 10],\n",
    "        'model__min_samples_leaf': [1, 10],\n",
    "    }\n",
    "]"
   ]
  },
  {
   "cell_type": "markdown",
   "metadata": {},
   "source": [
    "Был собран пайплайн для основных простых типов моделей, а также градиентного бустинга в модели LGBMRegressor"
   ]
  },
  {
   "cell_type": "markdown",
   "metadata": {},
   "source": [
    "## Обучение моделей"
   ]
  },
  {
   "cell_type": "code",
   "execution_count": 60,
   "metadata": {},
   "outputs": [
    {
     "name": "stderr",
     "output_type": "stream",
     "text": [
      "c:\\Users\\taras\\anaconda3\\envs\\practicum\\lib\\site-packages\\sklearn\\impute\\_base.py:558: UserWarning: Skipping features without any observed values: [3 4 5]. At least one non-missing value is needed for imputation with strategy='most_frequent'.\n",
      "  warnings.warn(\n"
     ]
    },
    {
     "name": "stdout",
     "output_type": "stream",
     "text": [
      "[LightGBM] [Warning] Accuracy may be bad since you didn't explicitly set num_leaves OR 2^max_depth > num_leaves. (num_leaves=31).\n",
      "[LightGBM] [Warning] Accuracy may be bad since you didn't explicitly set num_leaves OR 2^max_depth > num_leaves. (num_leaves=31).\n",
      "[LightGBM] [Info] Auto-choosing row-wise multi-threading, the overhead of testing was 0.012070 seconds.\n",
      "You can set `force_row_wise=true` to remove the overhead.\n",
      "And if memory is not enough, you can set `force_col_wise=true`.\n",
      "[LightGBM] [Info] Total Bins 857\n",
      "[LightGBM] [Info] Number of data points in the train set: 244488, number of used features: 9\n",
      "[LightGBM] [Info] Start training from score 4621.633716\n",
      "[LightGBM] [Warning] No further splits with positive gain, best gain: -inf\n",
      "[LightGBM] [Warning] No further splits with positive gain, best gain: -inf\n",
      "[LightGBM] [Warning] No further splits with positive gain, best gain: -inf\n",
      "[LightGBM] [Warning] No further splits with positive gain, best gain: -inf\n",
      "[LightGBM] [Warning] No further splits with positive gain, best gain: -inf\n",
      "[LightGBM] [Warning] No further splits with positive gain, best gain: -inf\n",
      "[LightGBM] [Warning] No further splits with positive gain, best gain: -inf\n",
      "[LightGBM] [Warning] No further splits with positive gain, best gain: -inf\n",
      "[LightGBM] [Warning] No further splits with positive gain, best gain: -inf\n",
      "[LightGBM] [Warning] No further splits with positive gain, best gain: -inf\n",
      "[LightGBM] [Warning] No further splits with positive gain, best gain: -inf\n",
      "[LightGBM] [Warning] No further splits with positive gain, best gain: -inf\n",
      "[LightGBM] [Warning] No further splits with positive gain, best gain: -inf\n",
      "[LightGBM] [Warning] No further splits with positive gain, best gain: -inf\n",
      "[LightGBM] [Warning] No further splits with positive gain, best gain: -inf\n",
      "[LightGBM] [Warning] No further splits with positive gain, best gain: -inf\n",
      "[LightGBM] [Warning] No further splits with positive gain, best gain: -inf\n",
      "[LightGBM] [Warning] No further splits with positive gain, best gain: -inf\n",
      "[LightGBM] [Warning] No further splits with positive gain, best gain: -inf\n",
      "[LightGBM] [Warning] No further splits with positive gain, best gain: -inf\n",
      "[LightGBM] [Warning] No further splits with positive gain, best gain: -inf\n",
      "[LightGBM] [Warning] No further splits with positive gain, best gain: -inf\n",
      "[LightGBM] [Warning] No further splits with positive gain, best gain: -inf\n",
      "[LightGBM] [Warning] No further splits with positive gain, best gain: -inf\n",
      "[LightGBM] [Warning] No further splits with positive gain, best gain: -inf\n",
      "[LightGBM] [Warning] No further splits with positive gain, best gain: -inf\n",
      "[LightGBM] [Warning] No further splits with positive gain, best gain: -inf\n",
      "[LightGBM] [Warning] No further splits with positive gain, best gain: -inf\n",
      "[LightGBM] [Warning] No further splits with positive gain, best gain: -inf\n",
      "[LightGBM] [Warning] No further splits with positive gain, best gain: -inf\n",
      "[LightGBM] [Warning] No further splits with positive gain, best gain: -inf\n",
      "[LightGBM] [Warning] No further splits with positive gain, best gain: -inf\n",
      "[LightGBM] [Warning] No further splits with positive gain, best gain: -inf\n",
      "[LightGBM] [Warning] No further splits with positive gain, best gain: -inf\n",
      "[LightGBM] [Warning] No further splits with positive gain, best gain: -inf\n",
      "[LightGBM] [Warning] No further splits with positive gain, best gain: -inf\n",
      "[LightGBM] [Warning] No further splits with positive gain, best gain: -inf\n",
      "[LightGBM] [Warning] No further splits with positive gain, best gain: -inf\n",
      "[LightGBM] [Warning] No further splits with positive gain, best gain: -inf\n",
      "[LightGBM] [Warning] No further splits with positive gain, best gain: -inf\n",
      "[LightGBM] [Warning] No further splits with positive gain, best gain: -inf\n",
      "[LightGBM] [Warning] No further splits with positive gain, best gain: -inf\n",
      "[LightGBM] [Warning] No further splits with positive gain, best gain: -inf\n",
      "[LightGBM] [Warning] No further splits with positive gain, best gain: -inf\n",
      "[LightGBM] [Warning] No further splits with positive gain, best gain: -inf\n",
      "[LightGBM] [Warning] No further splits with positive gain, best gain: -inf\n",
      "[LightGBM] [Warning] No further splits with positive gain, best gain: -inf\n",
      "[LightGBM] [Warning] No further splits with positive gain, best gain: -inf\n",
      "[LightGBM] [Warning] No further splits with positive gain, best gain: -inf\n",
      "[LightGBM] [Warning] No further splits with positive gain, best gain: -inf\n",
      "[LightGBM] [Warning] No further splits with positive gain, best gain: -inf\n",
      "[LightGBM] [Warning] No further splits with positive gain, best gain: -inf\n",
      "[LightGBM] [Warning] No further splits with positive gain, best gain: -inf\n",
      "[LightGBM] [Warning] No further splits with positive gain, best gain: -inf\n",
      "[LightGBM] [Warning] No further splits with positive gain, best gain: -inf\n",
      "[LightGBM] [Warning] No further splits with positive gain, best gain: -inf\n",
      "[LightGBM] [Warning] No further splits with positive gain, best gain: -inf\n",
      "[LightGBM] [Warning] No further splits with positive gain, best gain: -inf\n",
      "[LightGBM] [Warning] No further splits with positive gain, best gain: -inf\n",
      "[LightGBM] [Warning] No further splits with positive gain, best gain: -inf\n",
      "[LightGBM] [Warning] No further splits with positive gain, best gain: -inf\n",
      "[LightGBM] [Warning] No further splits with positive gain, best gain: -inf\n",
      "[LightGBM] [Warning] No further splits with positive gain, best gain: -inf\n",
      "[LightGBM] [Warning] No further splits with positive gain, best gain: -inf\n",
      "[LightGBM] [Warning] No further splits with positive gain, best gain: -inf\n",
      "[LightGBM] [Warning] No further splits with positive gain, best gain: -inf\n",
      "[LightGBM] [Warning] No further splits with positive gain, best gain: -inf\n"
     ]
    },
    {
     "data": {
      "text/html": [
       "<style>#sk-container-id-1 {color: black;}#sk-container-id-1 pre{padding: 0;}#sk-container-id-1 div.sk-toggleable {background-color: white;}#sk-container-id-1 label.sk-toggleable__label {cursor: pointer;display: block;width: 100%;margin-bottom: 0;padding: 0.3em;box-sizing: border-box;text-align: center;}#sk-container-id-1 label.sk-toggleable__label-arrow:before {content: \"▸\";float: left;margin-right: 0.25em;color: #696969;}#sk-container-id-1 label.sk-toggleable__label-arrow:hover:before {color: black;}#sk-container-id-1 div.sk-estimator:hover label.sk-toggleable__label-arrow:before {color: black;}#sk-container-id-1 div.sk-toggleable__content {max-height: 0;max-width: 0;overflow: hidden;text-align: left;background-color: #f0f8ff;}#sk-container-id-1 div.sk-toggleable__content pre {margin: 0.2em;color: black;border-radius: 0.25em;background-color: #f0f8ff;}#sk-container-id-1 input.sk-toggleable__control:checked~div.sk-toggleable__content {max-height: 200px;max-width: 100%;overflow: auto;}#sk-container-id-1 input.sk-toggleable__control:checked~label.sk-toggleable__label-arrow:before {content: \"▾\";}#sk-container-id-1 div.sk-estimator input.sk-toggleable__control:checked~label.sk-toggleable__label {background-color: #d4ebff;}#sk-container-id-1 div.sk-label input.sk-toggleable__control:checked~label.sk-toggleable__label {background-color: #d4ebff;}#sk-container-id-1 input.sk-hidden--visually {border: 0;clip: rect(1px 1px 1px 1px);clip: rect(1px, 1px, 1px, 1px);height: 1px;margin: -1px;overflow: hidden;padding: 0;position: absolute;width: 1px;}#sk-container-id-1 div.sk-estimator {font-family: monospace;background-color: #f0f8ff;border: 1px dotted black;border-radius: 0.25em;box-sizing: border-box;margin-bottom: 0.5em;}#sk-container-id-1 div.sk-estimator:hover {background-color: #d4ebff;}#sk-container-id-1 div.sk-parallel-item::after {content: \"\";width: 100%;border-bottom: 1px solid gray;flex-grow: 1;}#sk-container-id-1 div.sk-label:hover label.sk-toggleable__label {background-color: #d4ebff;}#sk-container-id-1 div.sk-serial::before {content: \"\";position: absolute;border-left: 1px solid gray;box-sizing: border-box;top: 0;bottom: 0;left: 50%;z-index: 0;}#sk-container-id-1 div.sk-serial {display: flex;flex-direction: column;align-items: center;background-color: white;padding-right: 0.2em;padding-left: 0.2em;position: relative;}#sk-container-id-1 div.sk-item {position: relative;z-index: 1;}#sk-container-id-1 div.sk-parallel {display: flex;align-items: stretch;justify-content: center;background-color: white;position: relative;}#sk-container-id-1 div.sk-item::before, #sk-container-id-1 div.sk-parallel-item::before {content: \"\";position: absolute;border-left: 1px solid gray;box-sizing: border-box;top: 0;bottom: 0;left: 50%;z-index: -1;}#sk-container-id-1 div.sk-parallel-item {display: flex;flex-direction: column;z-index: 1;position: relative;background-color: white;}#sk-container-id-1 div.sk-parallel-item:first-child::after {align-self: flex-end;width: 50%;}#sk-container-id-1 div.sk-parallel-item:last-child::after {align-self: flex-start;width: 50%;}#sk-container-id-1 div.sk-parallel-item:only-child::after {width: 0;}#sk-container-id-1 div.sk-dashed-wrapped {border: 1px dashed gray;margin: 0 0.4em 0.5em 0.4em;box-sizing: border-box;padding-bottom: 0.4em;background-color: white;}#sk-container-id-1 div.sk-label label {font-family: monospace;font-weight: bold;display: inline-block;line-height: 1.2em;}#sk-container-id-1 div.sk-label-container {text-align: center;}#sk-container-id-1 div.sk-container {/* jupyter's `normalize.less` sets `[hidden] { display: none; }` but bootstrap.min.css set `[hidden] { display: none !important; }` so we also need the `!important` here to be able to override the default hidden behavior on the sphinx rendered scikit-learn.org. See: https://github.com/scikit-learn/scikit-learn/issues/21755 */display: inline-block !important;position: relative;}#sk-container-id-1 div.sk-text-repr-fallback {display: none;}</style><div id=\"sk-container-id-1\" class=\"sk-top-container\"><div class=\"sk-text-repr-fallback\"><pre>RandomizedSearchCV(estimator=Pipeline(steps=[(&#x27;preprocessor&#x27;,\n",
       "                                              ColumnTransformer(remainder=&#x27;passthrough&#x27;,\n",
       "                                                                transformers=[(&#x27;num_processing&#x27;,\n",
       "                                                                               Pipeline(steps=[(&#x27;Imputer_before&#x27;,\n",
       "                                                                                                SimpleImputer(strategy=&#x27;median&#x27;)),\n",
       "                                                                                               (&#x27;scaler&#x27;,\n",
       "                                                                                                StandardScaler())]),\n",
       "                                                                               [&#x27;DateCrawled&#x27;,\n",
       "                                                                                &#x27;RegistrationYear&#x27;,\n",
       "                                                                                &#x27;Power&#x27;,\n",
       "                                                                                &#x27;Kilometer&#x27;,\n",
       "                                                                                &#x27;RegistrationMonth&#x27;,\n",
       "                                                                                &#x27;DaysSinceToday&#x27;]),\n",
       "                                                                              (&#x27;cat_processing&#x27;,\n",
       "                                                                               Pipeli...\n",
       "                                                                                                                                        &#x27;glk&#x27;,\n",
       "                                                                                                                                        &#x27;golf4&#x27;,\n",
       "                                                                                                                                        &#x27;golf6&#x27;,\n",
       "                                                                                                                                        &#x27;golfgti&#x27;,\n",
       "                                                                                                                                        &#x27;honda&#x27;,\n",
       "                                                                                                                                        &#x27;jazz&#x27;, ...],\n",
       "                                                                                                                                       [&#x27;nano&#x27;,\n",
       "                                                                                                                                        &#x27;disco&#x27;,\n",
       "                                                                                                                                        &#x27;gas&#x27;],\n",
       "                                                                                                                                       [&#x27;hybrid&#x27;,\n",
       "                                                                                                                                        &#x27;lpg&#x27;,\n",
       "                                                                                                                                        &#x27;petrol&#x27;,\n",
       "                                                                                                                                        &#x27;internal&#x27;,\n",
       "                                                                                                                                        &#x27;external&#x27;]],\n",
       "                                                                                                                           handle_unknown=&#x27;use_encoded_value&#x27;,\n",
       "                                                                                                                           unknown_value=nan)),\n",
       "                                                                                                           (&#x27;after&#x27;,\n",
       "                                                                                                            SimpleImputer(strategy=&#x27;most_frequent&#x27;))]),\n",
       "                                                                                           [&#x27;VehicleType&#x27;,\n",
       "                                                                                            &#x27;Gearbox&#x27;,\n",
       "                                                                                            &#x27;Model&#x27;,\n",
       "                                                                                            &#x27;FuelType&#x27;,\n",
       "                                                                                            &#x27;Brand&#x27;,\n",
       "                                                                                            &#x27;Repaired&#x27;])])]}],\n",
       "                   random_state=5, scoring=&#x27;neg_root_mean_squared_error&#x27;)</pre><b>In a Jupyter environment, please rerun this cell to show the HTML representation or trust the notebook. <br />On GitHub, the HTML representation is unable to render, please try loading this page with nbviewer.org.</b></div><div class=\"sk-container\" hidden><div class=\"sk-item sk-dashed-wrapped\"><div class=\"sk-label-container\"><div class=\"sk-label sk-toggleable\"><input class=\"sk-toggleable__control sk-hidden--visually\" id=\"sk-estimator-id-1\" type=\"checkbox\" ><label for=\"sk-estimator-id-1\" class=\"sk-toggleable__label sk-toggleable__label-arrow\">RandomizedSearchCV</label><div class=\"sk-toggleable__content\"><pre>RandomizedSearchCV(estimator=Pipeline(steps=[(&#x27;preprocessor&#x27;,\n",
       "                                              ColumnTransformer(remainder=&#x27;passthrough&#x27;,\n",
       "                                                                transformers=[(&#x27;num_processing&#x27;,\n",
       "                                                                               Pipeline(steps=[(&#x27;Imputer_before&#x27;,\n",
       "                                                                                                SimpleImputer(strategy=&#x27;median&#x27;)),\n",
       "                                                                                               (&#x27;scaler&#x27;,\n",
       "                                                                                                StandardScaler())]),\n",
       "                                                                               [&#x27;DateCrawled&#x27;,\n",
       "                                                                                &#x27;RegistrationYear&#x27;,\n",
       "                                                                                &#x27;Power&#x27;,\n",
       "                                                                                &#x27;Kilometer&#x27;,\n",
       "                                                                                &#x27;RegistrationMonth&#x27;,\n",
       "                                                                                &#x27;DaysSinceToday&#x27;]),\n",
       "                                                                              (&#x27;cat_processing&#x27;,\n",
       "                                                                               Pipeli...\n",
       "                                                                                                                                        &#x27;glk&#x27;,\n",
       "                                                                                                                                        &#x27;golf4&#x27;,\n",
       "                                                                                                                                        &#x27;golf6&#x27;,\n",
       "                                                                                                                                        &#x27;golfgti&#x27;,\n",
       "                                                                                                                                        &#x27;honda&#x27;,\n",
       "                                                                                                                                        &#x27;jazz&#x27;, ...],\n",
       "                                                                                                                                       [&#x27;nano&#x27;,\n",
       "                                                                                                                                        &#x27;disco&#x27;,\n",
       "                                                                                                                                        &#x27;gas&#x27;],\n",
       "                                                                                                                                       [&#x27;hybrid&#x27;,\n",
       "                                                                                                                                        &#x27;lpg&#x27;,\n",
       "                                                                                                                                        &#x27;petrol&#x27;,\n",
       "                                                                                                                                        &#x27;internal&#x27;,\n",
       "                                                                                                                                        &#x27;external&#x27;]],\n",
       "                                                                                                                           handle_unknown=&#x27;use_encoded_value&#x27;,\n",
       "                                                                                                                           unknown_value=nan)),\n",
       "                                                                                                           (&#x27;after&#x27;,\n",
       "                                                                                                            SimpleImputer(strategy=&#x27;most_frequent&#x27;))]),\n",
       "                                                                                           [&#x27;VehicleType&#x27;,\n",
       "                                                                                            &#x27;Gearbox&#x27;,\n",
       "                                                                                            &#x27;Model&#x27;,\n",
       "                                                                                            &#x27;FuelType&#x27;,\n",
       "                                                                                            &#x27;Brand&#x27;,\n",
       "                                                                                            &#x27;Repaired&#x27;])])]}],\n",
       "                   random_state=5, scoring=&#x27;neg_root_mean_squared_error&#x27;)</pre></div></div></div><div class=\"sk-parallel\"><div class=\"sk-parallel-item\"><div class=\"sk-item\"><div class=\"sk-label-container\"><div class=\"sk-label sk-toggleable\"><input class=\"sk-toggleable__control sk-hidden--visually\" id=\"sk-estimator-id-2\" type=\"checkbox\" ><label for=\"sk-estimator-id-2\" class=\"sk-toggleable__label sk-toggleable__label-arrow\">estimator: Pipeline</label><div class=\"sk-toggleable__content\"><pre>Pipeline(steps=[(&#x27;preprocessor&#x27;,\n",
       "                 ColumnTransformer(remainder=&#x27;passthrough&#x27;,\n",
       "                                   transformers=[(&#x27;num_processing&#x27;,\n",
       "                                                  Pipeline(steps=[(&#x27;Imputer_before&#x27;,\n",
       "                                                                   SimpleImputer(strategy=&#x27;median&#x27;)),\n",
       "                                                                  (&#x27;scaler&#x27;,\n",
       "                                                                   StandardScaler())]),\n",
       "                                                  [&#x27;DateCrawled&#x27;,\n",
       "                                                   &#x27;RegistrationYear&#x27;, &#x27;Power&#x27;,\n",
       "                                                   &#x27;Kilometer&#x27;,\n",
       "                                                   &#x27;RegistrationMonth&#x27;,\n",
       "                                                   &#x27;DaysSinceToday&#x27;]),\n",
       "                                                 (&#x27;cat_processing&#x27;,\n",
       "                                                  Pipeline(steps=[(&#x27;Imputer_before&#x27;,\n",
       "                                                                   S...\n",
       "                                                                                               &#x27;frogeye&#x27;,\n",
       "                                                                                               &#x27;gl&#x27;,\n",
       "                                                                                               &#x27;glk&#x27;,\n",
       "                                                                                               &#x27;golf4&#x27;,\n",
       "                                                                                               &#x27;golf6&#x27;,\n",
       "                                                                                               &#x27;golfgti&#x27;,\n",
       "                                                                                               &#x27;honda&#x27;,\n",
       "                                                                                               &#x27;jazz&#x27;, ...],\n",
       "                                                                                              [&#x27;nano&#x27;,\n",
       "                                                                                               &#x27;disco&#x27;,\n",
       "                                                                                               &#x27;gas&#x27;],\n",
       "                                                                                              [&#x27;hybrid&#x27;,\n",
       "                                                                                               &#x27;lpg&#x27;,\n",
       "                                                                                               &#x27;petrol&#x27;,\n",
       "                                                                                               &#x27;internal&#x27;,\n",
       "                                                                                               &#x27;external&#x27;]],\n",
       "                                                                                  handle_unknown=&#x27;use_encoded_value&#x27;,\n",
       "                                                                                  unknown_value=nan)),\n",
       "                                                                  (&#x27;after&#x27;,\n",
       "                                                                   SimpleImputer(strategy=&#x27;most_frequent&#x27;))]),\n",
       "                                                  [&#x27;VehicleType&#x27;, &#x27;Gearbox&#x27;,\n",
       "                                                   &#x27;Model&#x27;, &#x27;FuelType&#x27;, &#x27;Brand&#x27;,\n",
       "                                                   &#x27;Repaired&#x27;])])),\n",
       "                (&#x27;model&#x27;, LGBMRegressor(random_state=5))])</pre></div></div></div><div class=\"sk-serial\"><div class=\"sk-item\"><div class=\"sk-serial\"><div class=\"sk-item sk-dashed-wrapped\"><div class=\"sk-label-container\"><div class=\"sk-label sk-toggleable\"><input class=\"sk-toggleable__control sk-hidden--visually\" id=\"sk-estimator-id-3\" type=\"checkbox\" ><label for=\"sk-estimator-id-3\" class=\"sk-toggleable__label sk-toggleable__label-arrow\">preprocessor: ColumnTransformer</label><div class=\"sk-toggleable__content\"><pre>ColumnTransformer(remainder=&#x27;passthrough&#x27;,\n",
       "                  transformers=[(&#x27;num_processing&#x27;,\n",
       "                                 Pipeline(steps=[(&#x27;Imputer_before&#x27;,\n",
       "                                                  SimpleImputer(strategy=&#x27;median&#x27;)),\n",
       "                                                 (&#x27;scaler&#x27;, StandardScaler())]),\n",
       "                                 [&#x27;DateCrawled&#x27;, &#x27;RegistrationYear&#x27;, &#x27;Power&#x27;,\n",
       "                                  &#x27;Kilometer&#x27;, &#x27;RegistrationMonth&#x27;,\n",
       "                                  &#x27;DaysSinceToday&#x27;]),\n",
       "                                (&#x27;cat_processing&#x27;,\n",
       "                                 Pipeline(steps=[(&#x27;Imputer_before&#x27;,\n",
       "                                                  SimpleImputer(strategy=&#x27;most_freq...\n",
       "                                                                              &#x27;cordoba&#x27;,\n",
       "                                                                              &#x27;corsa&#x27;,\n",
       "                                                                              &#x27;corolla&#x27;,\n",
       "                                                                              &#x27;crossfire&#x27;,\n",
       "                                                                              &#x27;flax&#x27;,\n",
       "                                                                              &#x27;frogeye&#x27;,\n",
       "                                                                              &#x27;gl&#x27;,\n",
       "                                                                              &#x27;glk&#x27;,\n",
       "                                                                              &#x27;golf4&#x27;,\n",
       "                                                                              &#x27;golf6&#x27;,\n",
       "                                                                              &#x27;golfgti&#x27;,\n",
       "                                                                              &#x27;honda&#x27;,\n",
       "                                                                              &#x27;jazz&#x27;, ...],\n",
       "                                                                             [&#x27;nano&#x27;,\n",
       "                                                                              &#x27;disco&#x27;,\n",
       "                                                                              &#x27;gas&#x27;],\n",
       "                                                                             [&#x27;hybrid&#x27;,\n",
       "                                                                              &#x27;lpg&#x27;,\n",
       "                                                                              &#x27;petrol&#x27;,\n",
       "                                                                              &#x27;internal&#x27;,\n",
       "                                                                              &#x27;external&#x27;]],\n",
       "                                                                 handle_unknown=&#x27;use_encoded_value&#x27;,\n",
       "                                                                 unknown_value=nan)),\n",
       "                                                 (&#x27;after&#x27;,\n",
       "                                                  SimpleImputer(strategy=&#x27;most_frequent&#x27;))]),\n",
       "                                 [&#x27;VehicleType&#x27;, &#x27;Gearbox&#x27;, &#x27;Model&#x27;, &#x27;FuelType&#x27;,\n",
       "                                  &#x27;Brand&#x27;, &#x27;Repaired&#x27;])])</pre></div></div></div><div class=\"sk-parallel\"><div class=\"sk-parallel-item\"><div class=\"sk-item\"><div class=\"sk-label-container\"><div class=\"sk-label sk-toggleable\"><input class=\"sk-toggleable__control sk-hidden--visually\" id=\"sk-estimator-id-4\" type=\"checkbox\" ><label for=\"sk-estimator-id-4\" class=\"sk-toggleable__label sk-toggleable__label-arrow\">num_processing</label><div class=\"sk-toggleable__content\"><pre>[&#x27;DateCrawled&#x27;, &#x27;RegistrationYear&#x27;, &#x27;Power&#x27;, &#x27;Kilometer&#x27;, &#x27;RegistrationMonth&#x27;, &#x27;DaysSinceToday&#x27;]</pre></div></div></div><div class=\"sk-serial\"><div class=\"sk-item\"><div class=\"sk-serial\"><div class=\"sk-item\"><div class=\"sk-estimator sk-toggleable\"><input class=\"sk-toggleable__control sk-hidden--visually\" id=\"sk-estimator-id-5\" type=\"checkbox\" ><label for=\"sk-estimator-id-5\" class=\"sk-toggleable__label sk-toggleable__label-arrow\">SimpleImputer</label><div class=\"sk-toggleable__content\"><pre>SimpleImputer(strategy=&#x27;median&#x27;)</pre></div></div></div><div class=\"sk-item\"><div class=\"sk-estimator sk-toggleable\"><input class=\"sk-toggleable__control sk-hidden--visually\" id=\"sk-estimator-id-6\" type=\"checkbox\" ><label for=\"sk-estimator-id-6\" class=\"sk-toggleable__label sk-toggleable__label-arrow\">StandardScaler</label><div class=\"sk-toggleable__content\"><pre>StandardScaler()</pre></div></div></div></div></div></div></div></div><div class=\"sk-parallel-item\"><div class=\"sk-item\"><div class=\"sk-label-container\"><div class=\"sk-label sk-toggleable\"><input class=\"sk-toggleable__control sk-hidden--visually\" id=\"sk-estimator-id-7\" type=\"checkbox\" ><label for=\"sk-estimator-id-7\" class=\"sk-toggleable__label sk-toggleable__label-arrow\">cat_processing</label><div class=\"sk-toggleable__content\"><pre>[&#x27;VehicleType&#x27;, &#x27;Gearbox&#x27;, &#x27;Model&#x27;, &#x27;FuelType&#x27;, &#x27;Brand&#x27;, &#x27;Repaired&#x27;]</pre></div></div></div><div class=\"sk-serial\"><div class=\"sk-item\"><div class=\"sk-serial\"><div class=\"sk-item\"><div class=\"sk-estimator sk-toggleable\"><input class=\"sk-toggleable__control sk-hidden--visually\" id=\"sk-estimator-id-8\" type=\"checkbox\" ><label for=\"sk-estimator-id-8\" class=\"sk-toggleable__label sk-toggleable__label-arrow\">SimpleImputer</label><div class=\"sk-toggleable__content\"><pre>SimpleImputer(strategy=&#x27;most_frequent&#x27;)</pre></div></div></div><div class=\"sk-item\"><div class=\"sk-estimator sk-toggleable\"><input class=\"sk-toggleable__control sk-hidden--visually\" id=\"sk-estimator-id-9\" type=\"checkbox\" ><label for=\"sk-estimator-id-9\" class=\"sk-toggleable__label sk-toggleable__label-arrow\">OrdinalEncoder</label><div class=\"sk-toggleable__content\"><pre>OrdinalEncoder(categories=[[&#x27;nan&#x27;, &#x27;bus&#x27;, &#x27;convertible&#x27;, &#x27;coupe&#x27;, &#x27;suv&#x27;,\n",
       "                            &#x27;sedan&#x27;, &#x27;small&#x27;, &#x27;wagon&#x27;],\n",
       "                           [&#x27;auto&#x27;, &#x27;manual&#x27;],\n",
       "                           [&#x27;1_reihe&#x27;, &#x27;1er&#x27;, &#x27;2_reihe&#x27;, &#x27;3_reihe&#x27;, &#x27;3er&#x27;,\n",
       "                            &#x27;4_reihe&#x27;, &#x27;5_reihe&#x27;, &#x27;5er&#x27;, &#x27;6_reihe&#x27;, &#x27;6er&#x27;,\n",
       "                            &#x27;7er&#x27;, &#x27;80&#x27;, &#x27;90&#x27;, &#x27;911&#x27;, &#x27;a1&#x27;, &#x27;a2&#x27;, &#x27;a3&#x27;, &#x27;a4&#x27;,\n",
       "                            &#x27;a5&#x27;, &#x27;a6&#x27;, &#x27;a8&#x27;, &#x27;accord&#x27;, &#x27;agila&#x27;, &#x27;alhambra&#x27;,\n",
       "                            &#x27;almera&#x27;, &#x27;alto&#x27;, &#x27;amarok&#x27;, &#x27;antara&#x27;, &#x27;arosa&#x27;,\n",
       "                            &#x27;auris&#x27;, ...],\n",
       "                           [&#x27;nan&#x27;, &#x27;a6&#x27;, &#x27;a...&#x27;,\n",
       "                            &#x27;avensis&#x27;, &#x27;aygo&#x27;, &#x27;b_max&#x27;, &#x27;beetle&#x27;, &#x27;berlingo&#x27;,\n",
       "                            &#x27;bmw320i&#x27;, &#x27;bmw330ci&#x27;, &#x27;bmw335d&#x27;, &#x27;bmw645&#x27;,\n",
       "                            &#x27;bmw760&#x27;, &#x27;c6&#x27;, &#x27;corolla&#x27;, &#x27;cordoba&#x27;, &#x27;corsa&#x27;,\n",
       "                            &#x27;corolla&#x27;, &#x27;crossfire&#x27;, &#x27;flax&#x27;, &#x27;frogeye&#x27;, &#x27;gl&#x27;,\n",
       "                            &#x27;glk&#x27;, &#x27;golf4&#x27;, &#x27;golf6&#x27;, &#x27;golfgti&#x27;, &#x27;honda&#x27;, &#x27;jazz&#x27;, ...],\n",
       "                           [&#x27;nano&#x27;, &#x27;disco&#x27;, &#x27;gas&#x27;],\n",
       "                           [&#x27;hybrid&#x27;, &#x27;lpg&#x27;, &#x27;petrol&#x27;, &#x27;internal&#x27;, &#x27;external&#x27;]],\n",
       "               handle_unknown=&#x27;use_encoded_value&#x27;, unknown_value=nan)</pre></div></div></div><div class=\"sk-item\"><div class=\"sk-estimator sk-toggleable\"><input class=\"sk-toggleable__control sk-hidden--visually\" id=\"sk-estimator-id-10\" type=\"checkbox\" ><label for=\"sk-estimator-id-10\" class=\"sk-toggleable__label sk-toggleable__label-arrow\">SimpleImputer</label><div class=\"sk-toggleable__content\"><pre>SimpleImputer(strategy=&#x27;most_frequent&#x27;)</pre></div></div></div></div></div></div></div></div><div class=\"sk-parallel-item\"><div class=\"sk-item\"><div class=\"sk-label-container\"><div class=\"sk-label sk-toggleable\"><input class=\"sk-toggleable__control sk-hidden--visually\" id=\"sk-estimator-id-11\" type=\"checkbox\" ><label for=\"sk-estimator-id-11\" class=\"sk-toggleable__label sk-toggleable__label-arrow\">remainder</label><div class=\"sk-toggleable__content\"><pre></pre></div></div></div><div class=\"sk-serial\"><div class=\"sk-item\"><div class=\"sk-estimator sk-toggleable\"><input class=\"sk-toggleable__control sk-hidden--visually\" id=\"sk-estimator-id-12\" type=\"checkbox\" ><label for=\"sk-estimator-id-12\" class=\"sk-toggleable__label sk-toggleable__label-arrow\">passthrough</label><div class=\"sk-toggleable__content\"><pre>passthrough</pre></div></div></div></div></div></div></div></div><div class=\"sk-item\"><div class=\"sk-estimator sk-toggleable\"><input class=\"sk-toggleable__control sk-hidden--visually\" id=\"sk-estimator-id-13\" type=\"checkbox\" ><label for=\"sk-estimator-id-13\" class=\"sk-toggleable__label sk-toggleable__label-arrow\">LGBMRegressor</label><div class=\"sk-toggleable__content\"><pre>LGBMRegressor(random_state=5)</pre></div></div></div></div></div></div></div></div></div></div></div></div>"
      ],
      "text/plain": [
       "RandomizedSearchCV(estimator=Pipeline(steps=[('preprocessor',\n",
       "                                              ColumnTransformer(remainder='passthrough',\n",
       "                                                                transformers=[('num_processing',\n",
       "                                                                               Pipeline(steps=[('Imputer_before',\n",
       "                                                                                                SimpleImputer(strategy='median')),\n",
       "                                                                                               ('scaler',\n",
       "                                                                                                StandardScaler())]),\n",
       "                                                                               ['DateCrawled',\n",
       "                                                                                'RegistrationYear',\n",
       "                                                                                'Power',\n",
       "                                                                                'Kilometer',\n",
       "                                                                                'RegistrationMonth',\n",
       "                                                                                'DaysSinceToday']),\n",
       "                                                                              ('cat_processing',\n",
       "                                                                               Pipeli...\n",
       "                                                                                                                                        'glk',\n",
       "                                                                                                                                        'golf4',\n",
       "                                                                                                                                        'golf6',\n",
       "                                                                                                                                        'golfgti',\n",
       "                                                                                                                                        'honda',\n",
       "                                                                                                                                        'jazz', ...],\n",
       "                                                                                                                                       ['nano',\n",
       "                                                                                                                                        'disco',\n",
       "                                                                                                                                        'gas'],\n",
       "                                                                                                                                       ['hybrid',\n",
       "                                                                                                                                        'lpg',\n",
       "                                                                                                                                        'petrol',\n",
       "                                                                                                                                        'internal',\n",
       "                                                                                                                                        'external']],\n",
       "                                                                                                                           handle_unknown='use_encoded_value',\n",
       "                                                                                                                           unknown_value=nan)),\n",
       "                                                                                                           ('after',\n",
       "                                                                                                            SimpleImputer(strategy='most_frequent'))]),\n",
       "                                                                                           ['VehicleType',\n",
       "                                                                                            'Gearbox',\n",
       "                                                                                            'Model',\n",
       "                                                                                            'FuelType',\n",
       "                                                                                            'Brand',\n",
       "                                                                                            'Repaired'])])]}],\n",
       "                   random_state=5, scoring='neg_root_mean_squared_error')"
      ]
     },
     "execution_count": 60,
     "metadata": {},
     "output_type": "execute_result"
    }
   ],
   "source": [
    "rs_search = RandomizedSearchCV(pipe_final,\n",
    "                               params_grid,\n",
    "                               scoring='neg_root_mean_squared_error',\n",
    "                               n_jobs=-1,\n",
    "                               random_state=RANDOM_STATE,\n",
    "                               n_iter=10\n",
    "                               )\n",
    "rs_search.fit(X_train, y_train)"
   ]
  },
  {
   "cell_type": "code",
   "execution_count": 61,
   "metadata": {},
   "outputs": [
    {
     "data": {
      "text/html": [
       "<style>#sk-container-id-2 {color: black;}#sk-container-id-2 pre{padding: 0;}#sk-container-id-2 div.sk-toggleable {background-color: white;}#sk-container-id-2 label.sk-toggleable__label {cursor: pointer;display: block;width: 100%;margin-bottom: 0;padding: 0.3em;box-sizing: border-box;text-align: center;}#sk-container-id-2 label.sk-toggleable__label-arrow:before {content: \"▸\";float: left;margin-right: 0.25em;color: #696969;}#sk-container-id-2 label.sk-toggleable__label-arrow:hover:before {color: black;}#sk-container-id-2 div.sk-estimator:hover label.sk-toggleable__label-arrow:before {color: black;}#sk-container-id-2 div.sk-toggleable__content {max-height: 0;max-width: 0;overflow: hidden;text-align: left;background-color: #f0f8ff;}#sk-container-id-2 div.sk-toggleable__content pre {margin: 0.2em;color: black;border-radius: 0.25em;background-color: #f0f8ff;}#sk-container-id-2 input.sk-toggleable__control:checked~div.sk-toggleable__content {max-height: 200px;max-width: 100%;overflow: auto;}#sk-container-id-2 input.sk-toggleable__control:checked~label.sk-toggleable__label-arrow:before {content: \"▾\";}#sk-container-id-2 div.sk-estimator input.sk-toggleable__control:checked~label.sk-toggleable__label {background-color: #d4ebff;}#sk-container-id-2 div.sk-label input.sk-toggleable__control:checked~label.sk-toggleable__label {background-color: #d4ebff;}#sk-container-id-2 input.sk-hidden--visually {border: 0;clip: rect(1px 1px 1px 1px);clip: rect(1px, 1px, 1px, 1px);height: 1px;margin: -1px;overflow: hidden;padding: 0;position: absolute;width: 1px;}#sk-container-id-2 div.sk-estimator {font-family: monospace;background-color: #f0f8ff;border: 1px dotted black;border-radius: 0.25em;box-sizing: border-box;margin-bottom: 0.5em;}#sk-container-id-2 div.sk-estimator:hover {background-color: #d4ebff;}#sk-container-id-2 div.sk-parallel-item::after {content: \"\";width: 100%;border-bottom: 1px solid gray;flex-grow: 1;}#sk-container-id-2 div.sk-label:hover label.sk-toggleable__label {background-color: #d4ebff;}#sk-container-id-2 div.sk-serial::before {content: \"\";position: absolute;border-left: 1px solid gray;box-sizing: border-box;top: 0;bottom: 0;left: 50%;z-index: 0;}#sk-container-id-2 div.sk-serial {display: flex;flex-direction: column;align-items: center;background-color: white;padding-right: 0.2em;padding-left: 0.2em;position: relative;}#sk-container-id-2 div.sk-item {position: relative;z-index: 1;}#sk-container-id-2 div.sk-parallel {display: flex;align-items: stretch;justify-content: center;background-color: white;position: relative;}#sk-container-id-2 div.sk-item::before, #sk-container-id-2 div.sk-parallel-item::before {content: \"\";position: absolute;border-left: 1px solid gray;box-sizing: border-box;top: 0;bottom: 0;left: 50%;z-index: -1;}#sk-container-id-2 div.sk-parallel-item {display: flex;flex-direction: column;z-index: 1;position: relative;background-color: white;}#sk-container-id-2 div.sk-parallel-item:first-child::after {align-self: flex-end;width: 50%;}#sk-container-id-2 div.sk-parallel-item:last-child::after {align-self: flex-start;width: 50%;}#sk-container-id-2 div.sk-parallel-item:only-child::after {width: 0;}#sk-container-id-2 div.sk-dashed-wrapped {border: 1px dashed gray;margin: 0 0.4em 0.5em 0.4em;box-sizing: border-box;padding-bottom: 0.4em;background-color: white;}#sk-container-id-2 div.sk-label label {font-family: monospace;font-weight: bold;display: inline-block;line-height: 1.2em;}#sk-container-id-2 div.sk-label-container {text-align: center;}#sk-container-id-2 div.sk-container {/* jupyter's `normalize.less` sets `[hidden] { display: none; }` but bootstrap.min.css set `[hidden] { display: none !important; }` so we also need the `!important` here to be able to override the default hidden behavior on the sphinx rendered scikit-learn.org. See: https://github.com/scikit-learn/scikit-learn/issues/21755 */display: inline-block !important;position: relative;}#sk-container-id-2 div.sk-text-repr-fallback {display: none;}</style><div id=\"sk-container-id-2\" class=\"sk-top-container\"><div class=\"sk-text-repr-fallback\"><pre>Pipeline(steps=[(&#x27;preprocessor&#x27;,\n",
       "                 ColumnTransformer(remainder=&#x27;passthrough&#x27;,\n",
       "                                   transformers=[(&#x27;num_processing&#x27;,\n",
       "                                                  Pipeline(steps=[(&#x27;Imputer_before&#x27;,\n",
       "                                                                   SimpleImputer(strategy=&#x27;median&#x27;)),\n",
       "                                                                  (&#x27;scaler&#x27;,\n",
       "                                                                   RobustScaler())]),\n",
       "                                                  [&#x27;DateCrawled&#x27;,\n",
       "                                                   &#x27;RegistrationYear&#x27;, &#x27;Power&#x27;,\n",
       "                                                   &#x27;Kilometer&#x27;,\n",
       "                                                   &#x27;RegistrationMonth&#x27;,\n",
       "                                                   &#x27;DaysSinceToday&#x27;]),\n",
       "                                                 (&#x27;cat_processing&#x27;,\n",
       "                                                  Pipeline(steps=[(&#x27;Imputer_before&#x27;,\n",
       "                                                                   Sim...\n",
       "                                                                                               &#x27;golf6&#x27;,\n",
       "                                                                                               &#x27;golfgti&#x27;,\n",
       "                                                                                               &#x27;honda&#x27;,\n",
       "                                                                                               &#x27;jazz&#x27;, ...],\n",
       "                                                                                              [&#x27;nano&#x27;,\n",
       "                                                                                               &#x27;disco&#x27;,\n",
       "                                                                                               &#x27;gas&#x27;],\n",
       "                                                                                              [&#x27;hybrid&#x27;,\n",
       "                                                                                               &#x27;lpg&#x27;,\n",
       "                                                                                               &#x27;petrol&#x27;,\n",
       "                                                                                               &#x27;internal&#x27;,\n",
       "                                                                                               &#x27;external&#x27;]],\n",
       "                                                                                  handle_unknown=&#x27;use_encoded_value&#x27;,\n",
       "                                                                                  unknown_value=nan)),\n",
       "                                                                  (&#x27;after&#x27;,\n",
       "                                                                   SimpleImputer(strategy=&#x27;most_frequent&#x27;))]),\n",
       "                                                  [&#x27;VehicleType&#x27;, &#x27;Gearbox&#x27;,\n",
       "                                                   &#x27;Model&#x27;, &#x27;FuelType&#x27;, &#x27;Brand&#x27;,\n",
       "                                                   &#x27;Repaired&#x27;])])),\n",
       "                (&#x27;model&#x27;,\n",
       "                 LGBMRegressor(max_depth=7, n_estimators=700, random_state=5))])</pre><b>In a Jupyter environment, please rerun this cell to show the HTML representation or trust the notebook. <br />On GitHub, the HTML representation is unable to render, please try loading this page with nbviewer.org.</b></div><div class=\"sk-container\" hidden><div class=\"sk-item sk-dashed-wrapped\"><div class=\"sk-label-container\"><div class=\"sk-label sk-toggleable\"><input class=\"sk-toggleable__control sk-hidden--visually\" id=\"sk-estimator-id-14\" type=\"checkbox\" ><label for=\"sk-estimator-id-14\" class=\"sk-toggleable__label sk-toggleable__label-arrow\">Pipeline</label><div class=\"sk-toggleable__content\"><pre>Pipeline(steps=[(&#x27;preprocessor&#x27;,\n",
       "                 ColumnTransformer(remainder=&#x27;passthrough&#x27;,\n",
       "                                   transformers=[(&#x27;num_processing&#x27;,\n",
       "                                                  Pipeline(steps=[(&#x27;Imputer_before&#x27;,\n",
       "                                                                   SimpleImputer(strategy=&#x27;median&#x27;)),\n",
       "                                                                  (&#x27;scaler&#x27;,\n",
       "                                                                   RobustScaler())]),\n",
       "                                                  [&#x27;DateCrawled&#x27;,\n",
       "                                                   &#x27;RegistrationYear&#x27;, &#x27;Power&#x27;,\n",
       "                                                   &#x27;Kilometer&#x27;,\n",
       "                                                   &#x27;RegistrationMonth&#x27;,\n",
       "                                                   &#x27;DaysSinceToday&#x27;]),\n",
       "                                                 (&#x27;cat_processing&#x27;,\n",
       "                                                  Pipeline(steps=[(&#x27;Imputer_before&#x27;,\n",
       "                                                                   Sim...\n",
       "                                                                                               &#x27;golf6&#x27;,\n",
       "                                                                                               &#x27;golfgti&#x27;,\n",
       "                                                                                               &#x27;honda&#x27;,\n",
       "                                                                                               &#x27;jazz&#x27;, ...],\n",
       "                                                                                              [&#x27;nano&#x27;,\n",
       "                                                                                               &#x27;disco&#x27;,\n",
       "                                                                                               &#x27;gas&#x27;],\n",
       "                                                                                              [&#x27;hybrid&#x27;,\n",
       "                                                                                               &#x27;lpg&#x27;,\n",
       "                                                                                               &#x27;petrol&#x27;,\n",
       "                                                                                               &#x27;internal&#x27;,\n",
       "                                                                                               &#x27;external&#x27;]],\n",
       "                                                                                  handle_unknown=&#x27;use_encoded_value&#x27;,\n",
       "                                                                                  unknown_value=nan)),\n",
       "                                                                  (&#x27;after&#x27;,\n",
       "                                                                   SimpleImputer(strategy=&#x27;most_frequent&#x27;))]),\n",
       "                                                  [&#x27;VehicleType&#x27;, &#x27;Gearbox&#x27;,\n",
       "                                                   &#x27;Model&#x27;, &#x27;FuelType&#x27;, &#x27;Brand&#x27;,\n",
       "                                                   &#x27;Repaired&#x27;])])),\n",
       "                (&#x27;model&#x27;,\n",
       "                 LGBMRegressor(max_depth=7, n_estimators=700, random_state=5))])</pre></div></div></div><div class=\"sk-serial\"><div class=\"sk-item sk-dashed-wrapped\"><div class=\"sk-label-container\"><div class=\"sk-label sk-toggleable\"><input class=\"sk-toggleable__control sk-hidden--visually\" id=\"sk-estimator-id-15\" type=\"checkbox\" ><label for=\"sk-estimator-id-15\" class=\"sk-toggleable__label sk-toggleable__label-arrow\">preprocessor: ColumnTransformer</label><div class=\"sk-toggleable__content\"><pre>ColumnTransformer(remainder=&#x27;passthrough&#x27;,\n",
       "                  transformers=[(&#x27;num_processing&#x27;,\n",
       "                                 Pipeline(steps=[(&#x27;Imputer_before&#x27;,\n",
       "                                                  SimpleImputer(strategy=&#x27;median&#x27;)),\n",
       "                                                 (&#x27;scaler&#x27;, RobustScaler())]),\n",
       "                                 [&#x27;DateCrawled&#x27;, &#x27;RegistrationYear&#x27;, &#x27;Power&#x27;,\n",
       "                                  &#x27;Kilometer&#x27;, &#x27;RegistrationMonth&#x27;,\n",
       "                                  &#x27;DaysSinceToday&#x27;]),\n",
       "                                (&#x27;cat_processing&#x27;,\n",
       "                                 Pipeline(steps=[(&#x27;Imputer_before&#x27;,\n",
       "                                                  SimpleImputer(strategy=&#x27;most_freque...\n",
       "                                                                              &#x27;cordoba&#x27;,\n",
       "                                                                              &#x27;corsa&#x27;,\n",
       "                                                                              &#x27;corolla&#x27;,\n",
       "                                                                              &#x27;crossfire&#x27;,\n",
       "                                                                              &#x27;flax&#x27;,\n",
       "                                                                              &#x27;frogeye&#x27;,\n",
       "                                                                              &#x27;gl&#x27;,\n",
       "                                                                              &#x27;glk&#x27;,\n",
       "                                                                              &#x27;golf4&#x27;,\n",
       "                                                                              &#x27;golf6&#x27;,\n",
       "                                                                              &#x27;golfgti&#x27;,\n",
       "                                                                              &#x27;honda&#x27;,\n",
       "                                                                              &#x27;jazz&#x27;, ...],\n",
       "                                                                             [&#x27;nano&#x27;,\n",
       "                                                                              &#x27;disco&#x27;,\n",
       "                                                                              &#x27;gas&#x27;],\n",
       "                                                                             [&#x27;hybrid&#x27;,\n",
       "                                                                              &#x27;lpg&#x27;,\n",
       "                                                                              &#x27;petrol&#x27;,\n",
       "                                                                              &#x27;internal&#x27;,\n",
       "                                                                              &#x27;external&#x27;]],\n",
       "                                                                 handle_unknown=&#x27;use_encoded_value&#x27;,\n",
       "                                                                 unknown_value=nan)),\n",
       "                                                 (&#x27;after&#x27;,\n",
       "                                                  SimpleImputer(strategy=&#x27;most_frequent&#x27;))]),\n",
       "                                 [&#x27;VehicleType&#x27;, &#x27;Gearbox&#x27;, &#x27;Model&#x27;, &#x27;FuelType&#x27;,\n",
       "                                  &#x27;Brand&#x27;, &#x27;Repaired&#x27;])])</pre></div></div></div><div class=\"sk-parallel\"><div class=\"sk-parallel-item\"><div class=\"sk-item\"><div class=\"sk-label-container\"><div class=\"sk-label sk-toggleable\"><input class=\"sk-toggleable__control sk-hidden--visually\" id=\"sk-estimator-id-16\" type=\"checkbox\" ><label for=\"sk-estimator-id-16\" class=\"sk-toggleable__label sk-toggleable__label-arrow\">num_processing</label><div class=\"sk-toggleable__content\"><pre>[&#x27;DateCrawled&#x27;, &#x27;RegistrationYear&#x27;, &#x27;Power&#x27;, &#x27;Kilometer&#x27;, &#x27;RegistrationMonth&#x27;, &#x27;DaysSinceToday&#x27;]</pre></div></div></div><div class=\"sk-serial\"><div class=\"sk-item\"><div class=\"sk-serial\"><div class=\"sk-item\"><div class=\"sk-estimator sk-toggleable\"><input class=\"sk-toggleable__control sk-hidden--visually\" id=\"sk-estimator-id-17\" type=\"checkbox\" ><label for=\"sk-estimator-id-17\" class=\"sk-toggleable__label sk-toggleable__label-arrow\">SimpleImputer</label><div class=\"sk-toggleable__content\"><pre>SimpleImputer(strategy=&#x27;median&#x27;)</pre></div></div></div><div class=\"sk-item\"><div class=\"sk-estimator sk-toggleable\"><input class=\"sk-toggleable__control sk-hidden--visually\" id=\"sk-estimator-id-18\" type=\"checkbox\" ><label for=\"sk-estimator-id-18\" class=\"sk-toggleable__label sk-toggleable__label-arrow\">RobustScaler</label><div class=\"sk-toggleable__content\"><pre>RobustScaler()</pre></div></div></div></div></div></div></div></div><div class=\"sk-parallel-item\"><div class=\"sk-item\"><div class=\"sk-label-container\"><div class=\"sk-label sk-toggleable\"><input class=\"sk-toggleable__control sk-hidden--visually\" id=\"sk-estimator-id-19\" type=\"checkbox\" ><label for=\"sk-estimator-id-19\" class=\"sk-toggleable__label sk-toggleable__label-arrow\">cat_processing</label><div class=\"sk-toggleable__content\"><pre>[&#x27;VehicleType&#x27;, &#x27;Gearbox&#x27;, &#x27;Model&#x27;, &#x27;FuelType&#x27;, &#x27;Brand&#x27;, &#x27;Repaired&#x27;]</pre></div></div></div><div class=\"sk-serial\"><div class=\"sk-item\"><div class=\"sk-serial\"><div class=\"sk-item\"><div class=\"sk-estimator sk-toggleable\"><input class=\"sk-toggleable__control sk-hidden--visually\" id=\"sk-estimator-id-20\" type=\"checkbox\" ><label for=\"sk-estimator-id-20\" class=\"sk-toggleable__label sk-toggleable__label-arrow\">SimpleImputer</label><div class=\"sk-toggleable__content\"><pre>SimpleImputer(strategy=&#x27;most_frequent&#x27;)</pre></div></div></div><div class=\"sk-item\"><div class=\"sk-estimator sk-toggleable\"><input class=\"sk-toggleable__control sk-hidden--visually\" id=\"sk-estimator-id-21\" type=\"checkbox\" ><label for=\"sk-estimator-id-21\" class=\"sk-toggleable__label sk-toggleable__label-arrow\">OrdinalEncoder</label><div class=\"sk-toggleable__content\"><pre>OrdinalEncoder(categories=[[&#x27;nan&#x27;, &#x27;bus&#x27;, &#x27;convertible&#x27;, &#x27;coupe&#x27;, &#x27;suv&#x27;,\n",
       "                            &#x27;sedan&#x27;, &#x27;small&#x27;, &#x27;wagon&#x27;],\n",
       "                           [&#x27;auto&#x27;, &#x27;manual&#x27;],\n",
       "                           [&#x27;1_reihe&#x27;, &#x27;1er&#x27;, &#x27;2_reihe&#x27;, &#x27;3_reihe&#x27;, &#x27;3er&#x27;,\n",
       "                            &#x27;4_reihe&#x27;, &#x27;5_reihe&#x27;, &#x27;5er&#x27;, &#x27;6_reihe&#x27;, &#x27;6er&#x27;,\n",
       "                            &#x27;7er&#x27;, &#x27;80&#x27;, &#x27;90&#x27;, &#x27;911&#x27;, &#x27;a1&#x27;, &#x27;a2&#x27;, &#x27;a3&#x27;, &#x27;a4&#x27;,\n",
       "                            &#x27;a5&#x27;, &#x27;a6&#x27;, &#x27;a8&#x27;, &#x27;accord&#x27;, &#x27;agila&#x27;, &#x27;alhambra&#x27;,\n",
       "                            &#x27;almera&#x27;, &#x27;alto&#x27;, &#x27;amarok&#x27;, &#x27;antara&#x27;, &#x27;arosa&#x27;,\n",
       "                            &#x27;auris&#x27;, ...],\n",
       "                           [&#x27;nan&#x27;, &#x27;a6&#x27;, &#x27;a...&#x27;,\n",
       "                            &#x27;avensis&#x27;, &#x27;aygo&#x27;, &#x27;b_max&#x27;, &#x27;beetle&#x27;, &#x27;berlingo&#x27;,\n",
       "                            &#x27;bmw320i&#x27;, &#x27;bmw330ci&#x27;, &#x27;bmw335d&#x27;, &#x27;bmw645&#x27;,\n",
       "                            &#x27;bmw760&#x27;, &#x27;c6&#x27;, &#x27;corolla&#x27;, &#x27;cordoba&#x27;, &#x27;corsa&#x27;,\n",
       "                            &#x27;corolla&#x27;, &#x27;crossfire&#x27;, &#x27;flax&#x27;, &#x27;frogeye&#x27;, &#x27;gl&#x27;,\n",
       "                            &#x27;glk&#x27;, &#x27;golf4&#x27;, &#x27;golf6&#x27;, &#x27;golfgti&#x27;, &#x27;honda&#x27;, &#x27;jazz&#x27;, ...],\n",
       "                           [&#x27;nano&#x27;, &#x27;disco&#x27;, &#x27;gas&#x27;],\n",
       "                           [&#x27;hybrid&#x27;, &#x27;lpg&#x27;, &#x27;petrol&#x27;, &#x27;internal&#x27;, &#x27;external&#x27;]],\n",
       "               handle_unknown=&#x27;use_encoded_value&#x27;, unknown_value=nan)</pre></div></div></div><div class=\"sk-item\"><div class=\"sk-estimator sk-toggleable\"><input class=\"sk-toggleable__control sk-hidden--visually\" id=\"sk-estimator-id-22\" type=\"checkbox\" ><label for=\"sk-estimator-id-22\" class=\"sk-toggleable__label sk-toggleable__label-arrow\">SimpleImputer</label><div class=\"sk-toggleable__content\"><pre>SimpleImputer(strategy=&#x27;most_frequent&#x27;)</pre></div></div></div></div></div></div></div></div><div class=\"sk-parallel-item\"><div class=\"sk-item\"><div class=\"sk-label-container\"><div class=\"sk-label sk-toggleable\"><input class=\"sk-toggleable__control sk-hidden--visually\" id=\"sk-estimator-id-23\" type=\"checkbox\" ><label for=\"sk-estimator-id-23\" class=\"sk-toggleable__label sk-toggleable__label-arrow\">remainder</label><div class=\"sk-toggleable__content\"><pre>[]</pre></div></div></div><div class=\"sk-serial\"><div class=\"sk-item\"><div class=\"sk-estimator sk-toggleable\"><input class=\"sk-toggleable__control sk-hidden--visually\" id=\"sk-estimator-id-24\" type=\"checkbox\" ><label for=\"sk-estimator-id-24\" class=\"sk-toggleable__label sk-toggleable__label-arrow\">passthrough</label><div class=\"sk-toggleable__content\"><pre>passthrough</pre></div></div></div></div></div></div></div></div><div class=\"sk-item\"><div class=\"sk-estimator sk-toggleable\"><input class=\"sk-toggleable__control sk-hidden--visually\" id=\"sk-estimator-id-25\" type=\"checkbox\" ><label for=\"sk-estimator-id-25\" class=\"sk-toggleable__label sk-toggleable__label-arrow\">LGBMRegressor</label><div class=\"sk-toggleable__content\"><pre>LGBMRegressor(max_depth=7, n_estimators=700, random_state=5)</pre></div></div></div></div></div></div></div>"
      ],
      "text/plain": [
       "Pipeline(steps=[('preprocessor',\n",
       "                 ColumnTransformer(remainder='passthrough',\n",
       "                                   transformers=[('num_processing',\n",
       "                                                  Pipeline(steps=[('Imputer_before',\n",
       "                                                                   SimpleImputer(strategy='median')),\n",
       "                                                                  ('scaler',\n",
       "                                                                   RobustScaler())]),\n",
       "                                                  ['DateCrawled',\n",
       "                                                   'RegistrationYear', 'Power',\n",
       "                                                   'Kilometer',\n",
       "                                                   'RegistrationMonth',\n",
       "                                                   'DaysSinceToday']),\n",
       "                                                 ('cat_processing',\n",
       "                                                  Pipeline(steps=[('Imputer_before',\n",
       "                                                                   Sim...\n",
       "                                                                                               'golf6',\n",
       "                                                                                               'golfgti',\n",
       "                                                                                               'honda',\n",
       "                                                                                               'jazz', ...],\n",
       "                                                                                              ['nano',\n",
       "                                                                                               'disco',\n",
       "                                                                                               'gas'],\n",
       "                                                                                              ['hybrid',\n",
       "                                                                                               'lpg',\n",
       "                                                                                               'petrol',\n",
       "                                                                                               'internal',\n",
       "                                                                                               'external']],\n",
       "                                                                                  handle_unknown='use_encoded_value',\n",
       "                                                                                  unknown_value=nan)),\n",
       "                                                                  ('after',\n",
       "                                                                   SimpleImputer(strategy='most_frequent'))]),\n",
       "                                                  ['VehicleType', 'Gearbox',\n",
       "                                                   'Model', 'FuelType', 'Brand',\n",
       "                                                   'Repaired'])])),\n",
       "                ('model',\n",
       "                 LGBMRegressor(max_depth=7, n_estimators=700, random_state=5))])"
      ]
     },
     "execution_count": 61,
     "metadata": {},
     "output_type": "execute_result"
    }
   ],
   "source": [
    "rs_search.best_estimator_"
   ]
  },
  {
   "cell_type": "code",
   "execution_count": 62,
   "metadata": {},
   "outputs": [],
   "source": [
    "best_decision = rs_search.best_estimator_\n",
    "best_model = best_decision.named_steps['model']\n",
    "best_params = rs_search.best_params_"
   ]
  },
  {
   "cell_type": "code",
   "execution_count": 63,
   "metadata": {},
   "outputs": [
    {
     "data": {
      "text/html": [
       "<div>\n",
       "<style scoped>\n",
       "    .dataframe tbody tr th:only-of-type {\n",
       "        vertical-align: middle;\n",
       "    }\n",
       "\n",
       "    .dataframe tbody tr th {\n",
       "        vertical-align: top;\n",
       "    }\n",
       "\n",
       "    .dataframe thead th {\n",
       "        text-align: right;\n",
       "    }\n",
       "</style>\n",
       "<table border=\"1\" class=\"dataframe\">\n",
       "  <thead>\n",
       "    <tr style=\"text-align: right;\">\n",
       "      <th></th>\n",
       "      <th>mean_fit_time</th>\n",
       "      <th>std_fit_time</th>\n",
       "      <th>mean_score_time</th>\n",
       "      <th>std_score_time</th>\n",
       "      <th>param_preprocessor__num_processing__scaler</th>\n",
       "      <th>param_preprocessor</th>\n",
       "      <th>param_model__n_estimators</th>\n",
       "      <th>param_model__max_depth</th>\n",
       "      <th>param_model__learning_rate</th>\n",
       "      <th>param_model</th>\n",
       "      <th>...</th>\n",
       "      <th>param_model__solver</th>\n",
       "      <th>params</th>\n",
       "      <th>split0_test_score</th>\n",
       "      <th>split1_test_score</th>\n",
       "      <th>split2_test_score</th>\n",
       "      <th>split3_test_score</th>\n",
       "      <th>split4_test_score</th>\n",
       "      <th>mean_test_score</th>\n",
       "      <th>std_test_score</th>\n",
       "      <th>rank_test_score</th>\n",
       "    </tr>\n",
       "  </thead>\n",
       "  <tbody>\n",
       "    <tr>\n",
       "      <th>7</th>\n",
       "      <td>55.655268</td>\n",
       "      <td>6.758940</td>\n",
       "      <td>0.915116</td>\n",
       "      <td>0.119712</td>\n",
       "      <td>RobustScaler()</td>\n",
       "      <td>ColumnTransformer(remainder='passthrough',\\n  ...</td>\n",
       "      <td>700</td>\n",
       "      <td>7</td>\n",
       "      <td>0.1</td>\n",
       "      <td>LGBMRegressor(random_state=5)</td>\n",
       "      <td>...</td>\n",
       "      <td>NaN</td>\n",
       "      <td>{'preprocessor__num_processing__scaler': Robus...</td>\n",
       "      <td>-1799.985010</td>\n",
       "      <td>-1785.055907</td>\n",
       "      <td>-1784.671442</td>\n",
       "      <td>-1767.494157</td>\n",
       "      <td>-1799.369819</td>\n",
       "      <td>-1787.315267</td>\n",
       "      <td>11.923133</td>\n",
       "      <td>1</td>\n",
       "    </tr>\n",
       "    <tr>\n",
       "      <th>0</th>\n",
       "      <td>112.465857</td>\n",
       "      <td>12.061397</td>\n",
       "      <td>1.600819</td>\n",
       "      <td>1.314572</td>\n",
       "      <td>RobustScaler()</td>\n",
       "      <td>ColumnTransformer(remainder='passthrough',\\n  ...</td>\n",
       "      <td>600</td>\n",
       "      <td>7</td>\n",
       "      <td>0.1</td>\n",
       "      <td>LGBMRegressor(random_state=5)</td>\n",
       "      <td>...</td>\n",
       "      <td>NaN</td>\n",
       "      <td>{'preprocessor__num_processing__scaler': Robus...</td>\n",
       "      <td>-1806.659198</td>\n",
       "      <td>-1792.334272</td>\n",
       "      <td>-1789.667338</td>\n",
       "      <td>-1773.335484</td>\n",
       "      <td>-1805.209800</td>\n",
       "      <td>-1793.441219</td>\n",
       "      <td>12.107209</td>\n",
       "      <td>2</td>\n",
       "    </tr>\n",
       "    <tr>\n",
       "      <th>5</th>\n",
       "      <td>37.115845</td>\n",
       "      <td>4.009717</td>\n",
       "      <td>1.048096</td>\n",
       "      <td>0.109544</td>\n",
       "      <td>MinMaxScaler()</td>\n",
       "      <td>ColumnTransformer(remainder='passthrough',\\n  ...</td>\n",
       "      <td>500</td>\n",
       "      <td>7</td>\n",
       "      <td>0.1</td>\n",
       "      <td>LGBMRegressor(random_state=5)</td>\n",
       "      <td>...</td>\n",
       "      <td>NaN</td>\n",
       "      <td>{'preprocessor__num_processing__scaler': MinMa...</td>\n",
       "      <td>-1818.149203</td>\n",
       "      <td>-1797.660254</td>\n",
       "      <td>-1791.657907</td>\n",
       "      <td>-1780.945827</td>\n",
       "      <td>-1811.508433</td>\n",
       "      <td>-1799.984325</td>\n",
       "      <td>13.416131</td>\n",
       "      <td>3</td>\n",
       "    </tr>\n",
       "    <tr>\n",
       "      <th>1</th>\n",
       "      <td>27.170087</td>\n",
       "      <td>2.012574</td>\n",
       "      <td>0.940517</td>\n",
       "      <td>0.624075</td>\n",
       "      <td>NaN</td>\n",
       "      <td>ColumnTransformer(remainder='passthrough',\\n  ...</td>\n",
       "      <td>NaN</td>\n",
       "      <td>20</td>\n",
       "      <td>NaN</td>\n",
       "      <td>DecisionTreeRegressor(random_state=5)</td>\n",
       "      <td>...</td>\n",
       "      <td>NaN</td>\n",
       "      <td>{'preprocessor': ColumnTransformer(remainder='...</td>\n",
       "      <td>-2006.642959</td>\n",
       "      <td>-1993.655958</td>\n",
       "      <td>-1998.410811</td>\n",
       "      <td>-1992.122299</td>\n",
       "      <td>-1984.929633</td>\n",
       "      <td>-1995.152332</td>\n",
       "      <td>7.191328</td>\n",
       "      <td>4</td>\n",
       "    </tr>\n",
       "    <tr>\n",
       "      <th>9</th>\n",
       "      <td>6.398464</td>\n",
       "      <td>0.292877</td>\n",
       "      <td>0.383929</td>\n",
       "      <td>0.041660</td>\n",
       "      <td>NaN</td>\n",
       "      <td>ColumnTransformer(remainder='passthrough',\\n  ...</td>\n",
       "      <td>NaN</td>\n",
       "      <td>None</td>\n",
       "      <td>NaN</td>\n",
       "      <td>DecisionTreeRegressor(random_state=5)</td>\n",
       "      <td>...</td>\n",
       "      <td>NaN</td>\n",
       "      <td>{'preprocessor': ColumnTransformer(remainder='...</td>\n",
       "      <td>-2009.241922</td>\n",
       "      <td>-1996.984429</td>\n",
       "      <td>-2001.721964</td>\n",
       "      <td>-1994.464874</td>\n",
       "      <td>-1988.643662</td>\n",
       "      <td>-1998.211370</td>\n",
       "      <td>6.943774</td>\n",
       "      <td>5</td>\n",
       "    </tr>\n",
       "    <tr>\n",
       "      <th>2</th>\n",
       "      <td>11.479530</td>\n",
       "      <td>4.820953</td>\n",
       "      <td>1.076377</td>\n",
       "      <td>0.867377</td>\n",
       "      <td>NaN</td>\n",
       "      <td>ColumnTransformer(remainder='passthrough',\\n  ...</td>\n",
       "      <td>NaN</td>\n",
       "      <td>10</td>\n",
       "      <td>NaN</td>\n",
       "      <td>DecisionTreeRegressor(random_state=5)</td>\n",
       "      <td>...</td>\n",
       "      <td>NaN</td>\n",
       "      <td>{'preprocessor': ColumnTransformer(remainder='...</td>\n",
       "      <td>-2085.957686</td>\n",
       "      <td>-2060.604877</td>\n",
       "      <td>-2054.985167</td>\n",
       "      <td>-2063.784208</td>\n",
       "      <td>-2054.889046</td>\n",
       "      <td>-2064.044197</td>\n",
       "      <td>11.471533</td>\n",
       "      <td>6</td>\n",
       "    </tr>\n",
       "    <tr>\n",
       "      <th>3</th>\n",
       "      <td>6.424909</td>\n",
       "      <td>0.312538</td>\n",
       "      <td>0.398613</td>\n",
       "      <td>0.038016</td>\n",
       "      <td>NaN</td>\n",
       "      <td>ColumnTransformer(remainder='passthrough',\\n  ...</td>\n",
       "      <td>NaN</td>\n",
       "      <td>10</td>\n",
       "      <td>NaN</td>\n",
       "      <td>DecisionTreeRegressor(random_state=5)</td>\n",
       "      <td>...</td>\n",
       "      <td>NaN</td>\n",
       "      <td>{'preprocessor': ColumnTransformer(remainder='...</td>\n",
       "      <td>-2101.964910</td>\n",
       "      <td>-2066.639101</td>\n",
       "      <td>-2068.347514</td>\n",
       "      <td>-2070.347889</td>\n",
       "      <td>-2070.034083</td>\n",
       "      <td>-2075.466699</td>\n",
       "      <td>13.315254</td>\n",
       "      <td>7</td>\n",
       "    </tr>\n",
       "    <tr>\n",
       "      <th>4</th>\n",
       "      <td>7.728718</td>\n",
       "      <td>0.065979</td>\n",
       "      <td>0.362469</td>\n",
       "      <td>0.024587</td>\n",
       "      <td>NaN</td>\n",
       "      <td>ColumnTransformer(remainder='passthrough',\\n  ...</td>\n",
       "      <td>NaN</td>\n",
       "      <td>20</td>\n",
       "      <td>NaN</td>\n",
       "      <td>DecisionTreeRegressor(random_state=5)</td>\n",
       "      <td>...</td>\n",
       "      <td>NaN</td>\n",
       "      <td>{'preprocessor': ColumnTransformer(remainder='...</td>\n",
       "      <td>-2171.556188</td>\n",
       "      <td>-2155.155035</td>\n",
       "      <td>-2137.847670</td>\n",
       "      <td>-2153.007325</td>\n",
       "      <td>-2143.625696</td>\n",
       "      <td>-2152.238383</td>\n",
       "      <td>11.519954</td>\n",
       "      <td>8</td>\n",
       "    </tr>\n",
       "    <tr>\n",
       "      <th>8</th>\n",
       "      <td>14.514148</td>\n",
       "      <td>5.222370</td>\n",
       "      <td>0.503743</td>\n",
       "      <td>0.251692</td>\n",
       "      <td>NaN</td>\n",
       "      <td>ColumnTransformer(remainder='passthrough',\\n  ...</td>\n",
       "      <td>NaN</td>\n",
       "      <td>20</td>\n",
       "      <td>NaN</td>\n",
       "      <td>DecisionTreeRegressor(random_state=5)</td>\n",
       "      <td>...</td>\n",
       "      <td>NaN</td>\n",
       "      <td>{'preprocessor': ColumnTransformer(remainder='...</td>\n",
       "      <td>-2311.145454</td>\n",
       "      <td>-2329.270742</td>\n",
       "      <td>-2292.522778</td>\n",
       "      <td>-2321.716668</td>\n",
       "      <td>-2326.816078</td>\n",
       "      <td>-2316.294344</td>\n",
       "      <td>13.417107</td>\n",
       "      <td>9</td>\n",
       "    </tr>\n",
       "    <tr>\n",
       "      <th>6</th>\n",
       "      <td>6.044782</td>\n",
       "      <td>0.204362</td>\n",
       "      <td>0.294769</td>\n",
       "      <td>0.011946</td>\n",
       "      <td>MinMaxScaler()</td>\n",
       "      <td>ColumnTransformer(remainder='passthrough',\\n  ...</td>\n",
       "      <td>NaN</td>\n",
       "      <td>NaN</td>\n",
       "      <td>NaN</td>\n",
       "      <td>Ridge(random_state=5)</td>\n",
       "      <td>...</td>\n",
       "      <td>auto</td>\n",
       "      <td>{'preprocessor__num_processing__scaler': MinMa...</td>\n",
       "      <td>-2694.096997</td>\n",
       "      <td>-2680.517427</td>\n",
       "      <td>-2663.228149</td>\n",
       "      <td>-2672.595335</td>\n",
       "      <td>-2678.075165</td>\n",
       "      <td>-2677.702615</td>\n",
       "      <td>10.123558</td>\n",
       "      <td>10</td>\n",
       "    </tr>\n",
       "  </tbody>\n",
       "</table>\n",
       "<p>10 rows × 22 columns</p>\n",
       "</div>"
      ],
      "text/plain": [
       "   mean_fit_time  std_fit_time  mean_score_time  std_score_time  \\\n",
       "7      55.655268      6.758940         0.915116        0.119712   \n",
       "0     112.465857     12.061397         1.600819        1.314572   \n",
       "5      37.115845      4.009717         1.048096        0.109544   \n",
       "1      27.170087      2.012574         0.940517        0.624075   \n",
       "9       6.398464      0.292877         0.383929        0.041660   \n",
       "2      11.479530      4.820953         1.076377        0.867377   \n",
       "3       6.424909      0.312538         0.398613        0.038016   \n",
       "4       7.728718      0.065979         0.362469        0.024587   \n",
       "8      14.514148      5.222370         0.503743        0.251692   \n",
       "6       6.044782      0.204362         0.294769        0.011946   \n",
       "\n",
       "  param_preprocessor__num_processing__scaler  \\\n",
       "7                             RobustScaler()   \n",
       "0                             RobustScaler()   \n",
       "5                             MinMaxScaler()   \n",
       "1                                        NaN   \n",
       "9                                        NaN   \n",
       "2                                        NaN   \n",
       "3                                        NaN   \n",
       "4                                        NaN   \n",
       "8                                        NaN   \n",
       "6                             MinMaxScaler()   \n",
       "\n",
       "                                  param_preprocessor  \\\n",
       "7  ColumnTransformer(remainder='passthrough',\\n  ...   \n",
       "0  ColumnTransformer(remainder='passthrough',\\n  ...   \n",
       "5  ColumnTransformer(remainder='passthrough',\\n  ...   \n",
       "1  ColumnTransformer(remainder='passthrough',\\n  ...   \n",
       "9  ColumnTransformer(remainder='passthrough',\\n  ...   \n",
       "2  ColumnTransformer(remainder='passthrough',\\n  ...   \n",
       "3  ColumnTransformer(remainder='passthrough',\\n  ...   \n",
       "4  ColumnTransformer(remainder='passthrough',\\n  ...   \n",
       "8  ColumnTransformer(remainder='passthrough',\\n  ...   \n",
       "6  ColumnTransformer(remainder='passthrough',\\n  ...   \n",
       "\n",
       "  param_model__n_estimators param_model__max_depth param_model__learning_rate  \\\n",
       "7                       700                      7                        0.1   \n",
       "0                       600                      7                        0.1   \n",
       "5                       500                      7                        0.1   \n",
       "1                       NaN                     20                        NaN   \n",
       "9                       NaN                   None                        NaN   \n",
       "2                       NaN                     10                        NaN   \n",
       "3                       NaN                     10                        NaN   \n",
       "4                       NaN                     20                        NaN   \n",
       "8                       NaN                     20                        NaN   \n",
       "6                       NaN                    NaN                        NaN   \n",
       "\n",
       "                             param_model  ... param_model__solver  \\\n",
       "7          LGBMRegressor(random_state=5)  ...                 NaN   \n",
       "0          LGBMRegressor(random_state=5)  ...                 NaN   \n",
       "5          LGBMRegressor(random_state=5)  ...                 NaN   \n",
       "1  DecisionTreeRegressor(random_state=5)  ...                 NaN   \n",
       "9  DecisionTreeRegressor(random_state=5)  ...                 NaN   \n",
       "2  DecisionTreeRegressor(random_state=5)  ...                 NaN   \n",
       "3  DecisionTreeRegressor(random_state=5)  ...                 NaN   \n",
       "4  DecisionTreeRegressor(random_state=5)  ...                 NaN   \n",
       "8  DecisionTreeRegressor(random_state=5)  ...                 NaN   \n",
       "6                  Ridge(random_state=5)  ...                auto   \n",
       "\n",
       "                                              params split0_test_score  \\\n",
       "7  {'preprocessor__num_processing__scaler': Robus...      -1799.985010   \n",
       "0  {'preprocessor__num_processing__scaler': Robus...      -1806.659198   \n",
       "5  {'preprocessor__num_processing__scaler': MinMa...      -1818.149203   \n",
       "1  {'preprocessor': ColumnTransformer(remainder='...      -2006.642959   \n",
       "9  {'preprocessor': ColumnTransformer(remainder='...      -2009.241922   \n",
       "2  {'preprocessor': ColumnTransformer(remainder='...      -2085.957686   \n",
       "3  {'preprocessor': ColumnTransformer(remainder='...      -2101.964910   \n",
       "4  {'preprocessor': ColumnTransformer(remainder='...      -2171.556188   \n",
       "8  {'preprocessor': ColumnTransformer(remainder='...      -2311.145454   \n",
       "6  {'preprocessor__num_processing__scaler': MinMa...      -2694.096997   \n",
       "\n",
       "  split1_test_score  split2_test_score  split3_test_score  split4_test_score  \\\n",
       "7      -1785.055907       -1784.671442       -1767.494157       -1799.369819   \n",
       "0      -1792.334272       -1789.667338       -1773.335484       -1805.209800   \n",
       "5      -1797.660254       -1791.657907       -1780.945827       -1811.508433   \n",
       "1      -1993.655958       -1998.410811       -1992.122299       -1984.929633   \n",
       "9      -1996.984429       -2001.721964       -1994.464874       -1988.643662   \n",
       "2      -2060.604877       -2054.985167       -2063.784208       -2054.889046   \n",
       "3      -2066.639101       -2068.347514       -2070.347889       -2070.034083   \n",
       "4      -2155.155035       -2137.847670       -2153.007325       -2143.625696   \n",
       "8      -2329.270742       -2292.522778       -2321.716668       -2326.816078   \n",
       "6      -2680.517427       -2663.228149       -2672.595335       -2678.075165   \n",
       "\n",
       "   mean_test_score  std_test_score  rank_test_score  \n",
       "7     -1787.315267       11.923133                1  \n",
       "0     -1793.441219       12.107209                2  \n",
       "5     -1799.984325       13.416131                3  \n",
       "1     -1995.152332        7.191328                4  \n",
       "9     -1998.211370        6.943774                5  \n",
       "2     -2064.044197       11.471533                6  \n",
       "3     -2075.466699       13.315254                7  \n",
       "4     -2152.238383       11.519954                8  \n",
       "8     -2316.294344       13.417107                9  \n",
       "6     -2677.702615       10.123558               10  \n",
       "\n",
       "[10 rows x 22 columns]"
      ]
     },
     "execution_count": 63,
     "metadata": {},
     "output_type": "execute_result"
    }
   ],
   "source": [
    "results = pd.DataFrame(rs_search.cv_results_).sort_values(by='rank_test_score', ascending=True).head(10)\n",
    "results"
   ]
  },
  {
   "cell_type": "code",
   "execution_count": 64,
   "metadata": {},
   "outputs": [
    {
     "name": "stdout",
     "output_type": "stream",
     "text": [
      "Лучшая модель и её параметры:\n",
      "\n",
      " Pipeline(steps=[('preprocessor',\n",
      "                 ColumnTransformer(remainder='passthrough',\n",
      "                                   transformers=[('num_processing',\n",
      "                                                  Pipeline(steps=[('Imputer_before',\n",
      "                                                                   SimpleImputer(strategy='median')),\n",
      "                                                                  ('scaler',\n",
      "                                                                   RobustScaler())]),\n",
      "                                                  ['DateCrawled',\n",
      "                                                   'RegistrationYear', 'Power',\n",
      "                                                   'Kilometer',\n",
      "                                                   'RegistrationMonth',\n",
      "                                                   'DaysSinceToday']),\n",
      "                                                 ('cat_processing',\n",
      "                                                  Pipeline(steps=[('Imputer_before',\n",
      "                                                                   Sim...\n",
      "                                                                                               'golf6',\n",
      "                                                                                               'golfgti',\n",
      "                                                                                               'honda',\n",
      "                                                                                               'jazz', ...],\n",
      "                                                                                              ['nano',\n",
      "                                                                                               'disco',\n",
      "                                                                                               'gas'],\n",
      "                                                                                              ['hybrid',\n",
      "                                                                                               'lpg',\n",
      "                                                                                               'petrol',\n",
      "                                                                                               'internal',\n",
      "                                                                                               'external']],\n",
      "                                                                                  handle_unknown='use_encoded_value',\n",
      "                                                                                  unknown_value=nan)),\n",
      "                                                                  ('after',\n",
      "                                                                   SimpleImputer(strategy='most_frequent'))]),\n",
      "                                                  ['VehicleType', 'Gearbox',\n",
      "                                                   'Model', 'FuelType', 'Brand',\n",
      "                                                   'Repaired'])])),\n",
      "                ('model',\n",
      "                 LGBMRegressor(max_depth=7, n_estimators=700, random_state=5))])\n",
      "Метрика precision лучшей модели по кросс-валидации на обучающих данных: -1787.32\n"
     ]
    }
   ],
   "source": [
    "print('Лучшая модель и её параметры:\\n\\n', best_decision)\n",
    "print(f'Метрика precision лучшей модели по кросс-валидации на обучающих данных: {round(rs_search.best_score_, 2)}')"
   ]
  },
  {
   "cell_type": "markdown",
   "metadata": {},
   "source": [
    "Основываясь на результатах кросс-валидации, метрика RMSE первых трех моделей отличается незначительно, однако третья модель показыает меньшее время для обучения (mean_fit_time=22.958248) и вычисления метрики качества (mean_score_time = 1.744146) при метрике (mean_test_score=1801.118467). Следовательно, именно эта модель подходит лучше, чем остальные, оценим ее время предсказания."
   ]
  },
  {
   "cell_type": "code",
   "execution_count": 65,
   "metadata": {},
   "outputs": [],
   "source": [
    "chosen_params = rs_search.cv_results_['params'][7]"
   ]
  },
  {
   "cell_type": "code",
   "execution_count": 66,
   "metadata": {},
   "outputs": [
    {
     "data": {
      "text/html": [
       "<style>#sk-container-id-3 {color: black;}#sk-container-id-3 pre{padding: 0;}#sk-container-id-3 div.sk-toggleable {background-color: white;}#sk-container-id-3 label.sk-toggleable__label {cursor: pointer;display: block;width: 100%;margin-bottom: 0;padding: 0.3em;box-sizing: border-box;text-align: center;}#sk-container-id-3 label.sk-toggleable__label-arrow:before {content: \"▸\";float: left;margin-right: 0.25em;color: #696969;}#sk-container-id-3 label.sk-toggleable__label-arrow:hover:before {color: black;}#sk-container-id-3 div.sk-estimator:hover label.sk-toggleable__label-arrow:before {color: black;}#sk-container-id-3 div.sk-toggleable__content {max-height: 0;max-width: 0;overflow: hidden;text-align: left;background-color: #f0f8ff;}#sk-container-id-3 div.sk-toggleable__content pre {margin: 0.2em;color: black;border-radius: 0.25em;background-color: #f0f8ff;}#sk-container-id-3 input.sk-toggleable__control:checked~div.sk-toggleable__content {max-height: 200px;max-width: 100%;overflow: auto;}#sk-container-id-3 input.sk-toggleable__control:checked~label.sk-toggleable__label-arrow:before {content: \"▾\";}#sk-container-id-3 div.sk-estimator input.sk-toggleable__control:checked~label.sk-toggleable__label {background-color: #d4ebff;}#sk-container-id-3 div.sk-label input.sk-toggleable__control:checked~label.sk-toggleable__label {background-color: #d4ebff;}#sk-container-id-3 input.sk-hidden--visually {border: 0;clip: rect(1px 1px 1px 1px);clip: rect(1px, 1px, 1px, 1px);height: 1px;margin: -1px;overflow: hidden;padding: 0;position: absolute;width: 1px;}#sk-container-id-3 div.sk-estimator {font-family: monospace;background-color: #f0f8ff;border: 1px dotted black;border-radius: 0.25em;box-sizing: border-box;margin-bottom: 0.5em;}#sk-container-id-3 div.sk-estimator:hover {background-color: #d4ebff;}#sk-container-id-3 div.sk-parallel-item::after {content: \"\";width: 100%;border-bottom: 1px solid gray;flex-grow: 1;}#sk-container-id-3 div.sk-label:hover label.sk-toggleable__label {background-color: #d4ebff;}#sk-container-id-3 div.sk-serial::before {content: \"\";position: absolute;border-left: 1px solid gray;box-sizing: border-box;top: 0;bottom: 0;left: 50%;z-index: 0;}#sk-container-id-3 div.sk-serial {display: flex;flex-direction: column;align-items: center;background-color: white;padding-right: 0.2em;padding-left: 0.2em;position: relative;}#sk-container-id-3 div.sk-item {position: relative;z-index: 1;}#sk-container-id-3 div.sk-parallel {display: flex;align-items: stretch;justify-content: center;background-color: white;position: relative;}#sk-container-id-3 div.sk-item::before, #sk-container-id-3 div.sk-parallel-item::before {content: \"\";position: absolute;border-left: 1px solid gray;box-sizing: border-box;top: 0;bottom: 0;left: 50%;z-index: -1;}#sk-container-id-3 div.sk-parallel-item {display: flex;flex-direction: column;z-index: 1;position: relative;background-color: white;}#sk-container-id-3 div.sk-parallel-item:first-child::after {align-self: flex-end;width: 50%;}#sk-container-id-3 div.sk-parallel-item:last-child::after {align-self: flex-start;width: 50%;}#sk-container-id-3 div.sk-parallel-item:only-child::after {width: 0;}#sk-container-id-3 div.sk-dashed-wrapped {border: 1px dashed gray;margin: 0 0.4em 0.5em 0.4em;box-sizing: border-box;padding-bottom: 0.4em;background-color: white;}#sk-container-id-3 div.sk-label label {font-family: monospace;font-weight: bold;display: inline-block;line-height: 1.2em;}#sk-container-id-3 div.sk-label-container {text-align: center;}#sk-container-id-3 div.sk-container {/* jupyter's `normalize.less` sets `[hidden] { display: none; }` but bootstrap.min.css set `[hidden] { display: none !important; }` so we also need the `!important` here to be able to override the default hidden behavior on the sphinx rendered scikit-learn.org. See: https://github.com/scikit-learn/scikit-learn/issues/21755 */display: inline-block !important;position: relative;}#sk-container-id-3 div.sk-text-repr-fallback {display: none;}</style><div id=\"sk-container-id-3\" class=\"sk-top-container\"><div class=\"sk-text-repr-fallback\"><pre>Pipeline(steps=[(&#x27;preprocessor&#x27;,\n",
       "                 ColumnTransformer(remainder=&#x27;passthrough&#x27;,\n",
       "                                   transformers=[(&#x27;num_processing&#x27;,\n",
       "                                                  Pipeline(steps=[(&#x27;Imputer_before&#x27;,\n",
       "                                                                   SimpleImputer(strategy=&#x27;median&#x27;)),\n",
       "                                                                  (&#x27;scaler&#x27;,\n",
       "                                                                   RobustScaler())]),\n",
       "                                                  [&#x27;DateCrawled&#x27;,\n",
       "                                                   &#x27;RegistrationYear&#x27;, &#x27;Power&#x27;,\n",
       "                                                   &#x27;Kilometer&#x27;,\n",
       "                                                   &#x27;RegistrationMonth&#x27;,\n",
       "                                                   &#x27;DaysSinceToday&#x27;]),\n",
       "                                                 (&#x27;cat_processing&#x27;,\n",
       "                                                  Pipeline(steps=[(&#x27;Imputer_before&#x27;,\n",
       "                                                                   Sim...\n",
       "                                                                                               &#x27;golf6&#x27;,\n",
       "                                                                                               &#x27;golfgti&#x27;,\n",
       "                                                                                               &#x27;honda&#x27;,\n",
       "                                                                                               &#x27;jazz&#x27;, ...],\n",
       "                                                                                              [&#x27;nano&#x27;,\n",
       "                                                                                               &#x27;disco&#x27;,\n",
       "                                                                                               &#x27;gas&#x27;],\n",
       "                                                                                              [&#x27;hybrid&#x27;,\n",
       "                                                                                               &#x27;lpg&#x27;,\n",
       "                                                                                               &#x27;petrol&#x27;,\n",
       "                                                                                               &#x27;internal&#x27;,\n",
       "                                                                                               &#x27;external&#x27;]],\n",
       "                                                                                  handle_unknown=&#x27;use_encoded_value&#x27;,\n",
       "                                                                                  unknown_value=nan)),\n",
       "                                                                  (&#x27;after&#x27;,\n",
       "                                                                   SimpleImputer(strategy=&#x27;most_frequent&#x27;))]),\n",
       "                                                  [&#x27;VehicleType&#x27;, &#x27;Gearbox&#x27;,\n",
       "                                                   &#x27;Model&#x27;, &#x27;FuelType&#x27;, &#x27;Brand&#x27;,\n",
       "                                                   &#x27;Repaired&#x27;])])),\n",
       "                (&#x27;model&#x27;,\n",
       "                 LGBMRegressor(max_depth=6, n_estimators=500, random_state=5))])</pre><b>In a Jupyter environment, please rerun this cell to show the HTML representation or trust the notebook. <br />On GitHub, the HTML representation is unable to render, please try loading this page with nbviewer.org.</b></div><div class=\"sk-container\" hidden><div class=\"sk-item sk-dashed-wrapped\"><div class=\"sk-label-container\"><div class=\"sk-label sk-toggleable\"><input class=\"sk-toggleable__control sk-hidden--visually\" id=\"sk-estimator-id-26\" type=\"checkbox\" ><label for=\"sk-estimator-id-26\" class=\"sk-toggleable__label sk-toggleable__label-arrow\">Pipeline</label><div class=\"sk-toggleable__content\"><pre>Pipeline(steps=[(&#x27;preprocessor&#x27;,\n",
       "                 ColumnTransformer(remainder=&#x27;passthrough&#x27;,\n",
       "                                   transformers=[(&#x27;num_processing&#x27;,\n",
       "                                                  Pipeline(steps=[(&#x27;Imputer_before&#x27;,\n",
       "                                                                   SimpleImputer(strategy=&#x27;median&#x27;)),\n",
       "                                                                  (&#x27;scaler&#x27;,\n",
       "                                                                   RobustScaler())]),\n",
       "                                                  [&#x27;DateCrawled&#x27;,\n",
       "                                                   &#x27;RegistrationYear&#x27;, &#x27;Power&#x27;,\n",
       "                                                   &#x27;Kilometer&#x27;,\n",
       "                                                   &#x27;RegistrationMonth&#x27;,\n",
       "                                                   &#x27;DaysSinceToday&#x27;]),\n",
       "                                                 (&#x27;cat_processing&#x27;,\n",
       "                                                  Pipeline(steps=[(&#x27;Imputer_before&#x27;,\n",
       "                                                                   Sim...\n",
       "                                                                                               &#x27;golf6&#x27;,\n",
       "                                                                                               &#x27;golfgti&#x27;,\n",
       "                                                                                               &#x27;honda&#x27;,\n",
       "                                                                                               &#x27;jazz&#x27;, ...],\n",
       "                                                                                              [&#x27;nano&#x27;,\n",
       "                                                                                               &#x27;disco&#x27;,\n",
       "                                                                                               &#x27;gas&#x27;],\n",
       "                                                                                              [&#x27;hybrid&#x27;,\n",
       "                                                                                               &#x27;lpg&#x27;,\n",
       "                                                                                               &#x27;petrol&#x27;,\n",
       "                                                                                               &#x27;internal&#x27;,\n",
       "                                                                                               &#x27;external&#x27;]],\n",
       "                                                                                  handle_unknown=&#x27;use_encoded_value&#x27;,\n",
       "                                                                                  unknown_value=nan)),\n",
       "                                                                  (&#x27;after&#x27;,\n",
       "                                                                   SimpleImputer(strategy=&#x27;most_frequent&#x27;))]),\n",
       "                                                  [&#x27;VehicleType&#x27;, &#x27;Gearbox&#x27;,\n",
       "                                                   &#x27;Model&#x27;, &#x27;FuelType&#x27;, &#x27;Brand&#x27;,\n",
       "                                                   &#x27;Repaired&#x27;])])),\n",
       "                (&#x27;model&#x27;,\n",
       "                 LGBMRegressor(max_depth=6, n_estimators=500, random_state=5))])</pre></div></div></div><div class=\"sk-serial\"><div class=\"sk-item sk-dashed-wrapped\"><div class=\"sk-label-container\"><div class=\"sk-label sk-toggleable\"><input class=\"sk-toggleable__control sk-hidden--visually\" id=\"sk-estimator-id-27\" type=\"checkbox\" ><label for=\"sk-estimator-id-27\" class=\"sk-toggleable__label sk-toggleable__label-arrow\">preprocessor: ColumnTransformer</label><div class=\"sk-toggleable__content\"><pre>ColumnTransformer(remainder=&#x27;passthrough&#x27;,\n",
       "                  transformers=[(&#x27;num_processing&#x27;,\n",
       "                                 Pipeline(steps=[(&#x27;Imputer_before&#x27;,\n",
       "                                                  SimpleImputer(strategy=&#x27;median&#x27;)),\n",
       "                                                 (&#x27;scaler&#x27;, RobustScaler())]),\n",
       "                                 [&#x27;DateCrawled&#x27;, &#x27;RegistrationYear&#x27;, &#x27;Power&#x27;,\n",
       "                                  &#x27;Kilometer&#x27;, &#x27;RegistrationMonth&#x27;,\n",
       "                                  &#x27;DaysSinceToday&#x27;]),\n",
       "                                (&#x27;cat_processing&#x27;,\n",
       "                                 Pipeline(steps=[(&#x27;Imputer_before&#x27;,\n",
       "                                                  SimpleImputer(strategy=&#x27;most_freque...\n",
       "                                                                              &#x27;cordoba&#x27;,\n",
       "                                                                              &#x27;corsa&#x27;,\n",
       "                                                                              &#x27;corolla&#x27;,\n",
       "                                                                              &#x27;crossfire&#x27;,\n",
       "                                                                              &#x27;flax&#x27;,\n",
       "                                                                              &#x27;frogeye&#x27;,\n",
       "                                                                              &#x27;gl&#x27;,\n",
       "                                                                              &#x27;glk&#x27;,\n",
       "                                                                              &#x27;golf4&#x27;,\n",
       "                                                                              &#x27;golf6&#x27;,\n",
       "                                                                              &#x27;golfgti&#x27;,\n",
       "                                                                              &#x27;honda&#x27;,\n",
       "                                                                              &#x27;jazz&#x27;, ...],\n",
       "                                                                             [&#x27;nano&#x27;,\n",
       "                                                                              &#x27;disco&#x27;,\n",
       "                                                                              &#x27;gas&#x27;],\n",
       "                                                                             [&#x27;hybrid&#x27;,\n",
       "                                                                              &#x27;lpg&#x27;,\n",
       "                                                                              &#x27;petrol&#x27;,\n",
       "                                                                              &#x27;internal&#x27;,\n",
       "                                                                              &#x27;external&#x27;]],\n",
       "                                                                 handle_unknown=&#x27;use_encoded_value&#x27;,\n",
       "                                                                 unknown_value=nan)),\n",
       "                                                 (&#x27;after&#x27;,\n",
       "                                                  SimpleImputer(strategy=&#x27;most_frequent&#x27;))]),\n",
       "                                 [&#x27;VehicleType&#x27;, &#x27;Gearbox&#x27;, &#x27;Model&#x27;, &#x27;FuelType&#x27;,\n",
       "                                  &#x27;Brand&#x27;, &#x27;Repaired&#x27;])])</pre></div></div></div><div class=\"sk-parallel\"><div class=\"sk-parallel-item\"><div class=\"sk-item\"><div class=\"sk-label-container\"><div class=\"sk-label sk-toggleable\"><input class=\"sk-toggleable__control sk-hidden--visually\" id=\"sk-estimator-id-28\" type=\"checkbox\" ><label for=\"sk-estimator-id-28\" class=\"sk-toggleable__label sk-toggleable__label-arrow\">num_processing</label><div class=\"sk-toggleable__content\"><pre>[&#x27;DateCrawled&#x27;, &#x27;RegistrationYear&#x27;, &#x27;Power&#x27;, &#x27;Kilometer&#x27;, &#x27;RegistrationMonth&#x27;, &#x27;DaysSinceToday&#x27;]</pre></div></div></div><div class=\"sk-serial\"><div class=\"sk-item\"><div class=\"sk-serial\"><div class=\"sk-item\"><div class=\"sk-estimator sk-toggleable\"><input class=\"sk-toggleable__control sk-hidden--visually\" id=\"sk-estimator-id-29\" type=\"checkbox\" ><label for=\"sk-estimator-id-29\" class=\"sk-toggleable__label sk-toggleable__label-arrow\">SimpleImputer</label><div class=\"sk-toggleable__content\"><pre>SimpleImputer(strategy=&#x27;median&#x27;)</pre></div></div></div><div class=\"sk-item\"><div class=\"sk-estimator sk-toggleable\"><input class=\"sk-toggleable__control sk-hidden--visually\" id=\"sk-estimator-id-30\" type=\"checkbox\" ><label for=\"sk-estimator-id-30\" class=\"sk-toggleable__label sk-toggleable__label-arrow\">RobustScaler</label><div class=\"sk-toggleable__content\"><pre>RobustScaler()</pre></div></div></div></div></div></div></div></div><div class=\"sk-parallel-item\"><div class=\"sk-item\"><div class=\"sk-label-container\"><div class=\"sk-label sk-toggleable\"><input class=\"sk-toggleable__control sk-hidden--visually\" id=\"sk-estimator-id-31\" type=\"checkbox\" ><label for=\"sk-estimator-id-31\" class=\"sk-toggleable__label sk-toggleable__label-arrow\">cat_processing</label><div class=\"sk-toggleable__content\"><pre>[&#x27;VehicleType&#x27;, &#x27;Gearbox&#x27;, &#x27;Model&#x27;, &#x27;FuelType&#x27;, &#x27;Brand&#x27;, &#x27;Repaired&#x27;]</pre></div></div></div><div class=\"sk-serial\"><div class=\"sk-item\"><div class=\"sk-serial\"><div class=\"sk-item\"><div class=\"sk-estimator sk-toggleable\"><input class=\"sk-toggleable__control sk-hidden--visually\" id=\"sk-estimator-id-32\" type=\"checkbox\" ><label for=\"sk-estimator-id-32\" class=\"sk-toggleable__label sk-toggleable__label-arrow\">SimpleImputer</label><div class=\"sk-toggleable__content\"><pre>SimpleImputer(strategy=&#x27;most_frequent&#x27;)</pre></div></div></div><div class=\"sk-item\"><div class=\"sk-estimator sk-toggleable\"><input class=\"sk-toggleable__control sk-hidden--visually\" id=\"sk-estimator-id-33\" type=\"checkbox\" ><label for=\"sk-estimator-id-33\" class=\"sk-toggleable__label sk-toggleable__label-arrow\">OrdinalEncoder</label><div class=\"sk-toggleable__content\"><pre>OrdinalEncoder(categories=[[&#x27;nan&#x27;, &#x27;bus&#x27;, &#x27;convertible&#x27;, &#x27;coupe&#x27;, &#x27;suv&#x27;,\n",
       "                            &#x27;sedan&#x27;, &#x27;small&#x27;, &#x27;wagon&#x27;],\n",
       "                           [&#x27;auto&#x27;, &#x27;manual&#x27;],\n",
       "                           [&#x27;1_reihe&#x27;, &#x27;1er&#x27;, &#x27;2_reihe&#x27;, &#x27;3_reihe&#x27;, &#x27;3er&#x27;,\n",
       "                            &#x27;4_reihe&#x27;, &#x27;5_reihe&#x27;, &#x27;5er&#x27;, &#x27;6_reihe&#x27;, &#x27;6er&#x27;,\n",
       "                            &#x27;7er&#x27;, &#x27;80&#x27;, &#x27;90&#x27;, &#x27;911&#x27;, &#x27;a1&#x27;, &#x27;a2&#x27;, &#x27;a3&#x27;, &#x27;a4&#x27;,\n",
       "                            &#x27;a5&#x27;, &#x27;a6&#x27;, &#x27;a8&#x27;, &#x27;accord&#x27;, &#x27;agila&#x27;, &#x27;alhambra&#x27;,\n",
       "                            &#x27;almera&#x27;, &#x27;alto&#x27;, &#x27;amarok&#x27;, &#x27;antara&#x27;, &#x27;arosa&#x27;,\n",
       "                            &#x27;auris&#x27;, ...],\n",
       "                           [&#x27;nan&#x27;, &#x27;a6&#x27;, &#x27;a...&#x27;,\n",
       "                            &#x27;avensis&#x27;, &#x27;aygo&#x27;, &#x27;b_max&#x27;, &#x27;beetle&#x27;, &#x27;berlingo&#x27;,\n",
       "                            &#x27;bmw320i&#x27;, &#x27;bmw330ci&#x27;, &#x27;bmw335d&#x27;, &#x27;bmw645&#x27;,\n",
       "                            &#x27;bmw760&#x27;, &#x27;c6&#x27;, &#x27;corolla&#x27;, &#x27;cordoba&#x27;, &#x27;corsa&#x27;,\n",
       "                            &#x27;corolla&#x27;, &#x27;crossfire&#x27;, &#x27;flax&#x27;, &#x27;frogeye&#x27;, &#x27;gl&#x27;,\n",
       "                            &#x27;glk&#x27;, &#x27;golf4&#x27;, &#x27;golf6&#x27;, &#x27;golfgti&#x27;, &#x27;honda&#x27;, &#x27;jazz&#x27;, ...],\n",
       "                           [&#x27;nano&#x27;, &#x27;disco&#x27;, &#x27;gas&#x27;],\n",
       "                           [&#x27;hybrid&#x27;, &#x27;lpg&#x27;, &#x27;petrol&#x27;, &#x27;internal&#x27;, &#x27;external&#x27;]],\n",
       "               handle_unknown=&#x27;use_encoded_value&#x27;, unknown_value=nan)</pre></div></div></div><div class=\"sk-item\"><div class=\"sk-estimator sk-toggleable\"><input class=\"sk-toggleable__control sk-hidden--visually\" id=\"sk-estimator-id-34\" type=\"checkbox\" ><label for=\"sk-estimator-id-34\" class=\"sk-toggleable__label sk-toggleable__label-arrow\">SimpleImputer</label><div class=\"sk-toggleable__content\"><pre>SimpleImputer(strategy=&#x27;most_frequent&#x27;)</pre></div></div></div></div></div></div></div></div><div class=\"sk-parallel-item\"><div class=\"sk-item\"><div class=\"sk-label-container\"><div class=\"sk-label sk-toggleable\"><input class=\"sk-toggleable__control sk-hidden--visually\" id=\"sk-estimator-id-35\" type=\"checkbox\" ><label for=\"sk-estimator-id-35\" class=\"sk-toggleable__label sk-toggleable__label-arrow\">remainder</label><div class=\"sk-toggleable__content\"><pre></pre></div></div></div><div class=\"sk-serial\"><div class=\"sk-item\"><div class=\"sk-estimator sk-toggleable\"><input class=\"sk-toggleable__control sk-hidden--visually\" id=\"sk-estimator-id-36\" type=\"checkbox\" ><label for=\"sk-estimator-id-36\" class=\"sk-toggleable__label sk-toggleable__label-arrow\">passthrough</label><div class=\"sk-toggleable__content\"><pre>passthrough</pre></div></div></div></div></div></div></div></div><div class=\"sk-item\"><div class=\"sk-estimator sk-toggleable\"><input class=\"sk-toggleable__control sk-hidden--visually\" id=\"sk-estimator-id-37\" type=\"checkbox\" ><label for=\"sk-estimator-id-37\" class=\"sk-toggleable__label sk-toggleable__label-arrow\">LGBMRegressor</label><div class=\"sk-toggleable__content\"><pre>LGBMRegressor(max_depth=6, n_estimators=500, random_state=5)</pre></div></div></div></div></div></div></div>"
      ],
      "text/plain": [
       "Pipeline(steps=[('preprocessor',\n",
       "                 ColumnTransformer(remainder='passthrough',\n",
       "                                   transformers=[('num_processing',\n",
       "                                                  Pipeline(steps=[('Imputer_before',\n",
       "                                                                   SimpleImputer(strategy='median')),\n",
       "                                                                  ('scaler',\n",
       "                                                                   RobustScaler())]),\n",
       "                                                  ['DateCrawled',\n",
       "                                                   'RegistrationYear', 'Power',\n",
       "                                                   'Kilometer',\n",
       "                                                   'RegistrationMonth',\n",
       "                                                   'DaysSinceToday']),\n",
       "                                                 ('cat_processing',\n",
       "                                                  Pipeline(steps=[('Imputer_before',\n",
       "                                                                   Sim...\n",
       "                                                                                               'golf6',\n",
       "                                                                                               'golfgti',\n",
       "                                                                                               'honda',\n",
       "                                                                                               'jazz', ...],\n",
       "                                                                                              ['nano',\n",
       "                                                                                               'disco',\n",
       "                                                                                               'gas'],\n",
       "                                                                                              ['hybrid',\n",
       "                                                                                               'lpg',\n",
       "                                                                                               'petrol',\n",
       "                                                                                               'internal',\n",
       "                                                                                               'external']],\n",
       "                                                                                  handle_unknown='use_encoded_value',\n",
       "                                                                                  unknown_value=nan)),\n",
       "                                                                  ('after',\n",
       "                                                                   SimpleImputer(strategy='most_frequent'))]),\n",
       "                                                  ['VehicleType', 'Gearbox',\n",
       "                                                   'Model', 'FuelType', 'Brand',\n",
       "                                                   'Repaired'])])),\n",
       "                ('model',\n",
       "                 LGBMRegressor(max_depth=6, n_estimators=500, random_state=5))])"
      ]
     },
     "execution_count": 66,
     "metadata": {},
     "output_type": "execute_result"
    }
   ],
   "source": [
    "new_preprocessor = ColumnTransformer([\n",
    "    ('num_processing', Pipeline([\n",
    "        ('Imputer_before', SimpleImputer(missing_values=np.nan, strategy='median')),\n",
    "        ('scaler', RobustScaler())\n",
    "    ]), num_cols),\n",
    "    ('cat_processing', Pipeline([\n",
    "        ('Imputer_before', SimpleImputer(missing_values=np.nan, strategy='most_frequent')),\n",
    "        ('encoder', OrdinalEncoder(categories=categories, \n",
    "                                   handle_unknown='use_encoded_value', \n",
    "                                   unknown_value=np.nan)),\n",
    "        ('after', SimpleImputer(missing_values=np.nan, strategy='most_frequent'))\n",
    "    ]), cat_cols)\n",
    "], remainder='passthrough')\n",
    "\n",
    "pipe_alternative = Pipeline([\n",
    "    ('preprocessor', new_preprocessor), \n",
    "    ('model',  LGBMRegressor(max_depth=6, n_estimators=500, random_state=5, learning_rate=0.1))\n",
    "])\n",
    "\n",
    "pipe_alternative"
   ]
  },
  {
   "cell_type": "code",
   "execution_count": 67,
   "metadata": {},
   "outputs": [
    {
     "name": "stderr",
     "output_type": "stream",
     "text": [
      "c:\\Users\\taras\\anaconda3\\envs\\practicum\\lib\\site-packages\\sklearn\\impute\\_base.py:558: UserWarning: Skipping features without any observed values: [3 4 5]. At least one non-missing value is needed for imputation with strategy='most_frequent'.\n",
      "  warnings.warn(\n"
     ]
    },
    {
     "name": "stdout",
     "output_type": "stream",
     "text": [
      "[LightGBM] [Warning] Accuracy may be bad since you didn't explicitly set num_leaves OR 2^max_depth > num_leaves. (num_leaves=31).\n",
      "[LightGBM] [Warning] Accuracy may be bad since you didn't explicitly set num_leaves OR 2^max_depth > num_leaves. (num_leaves=31).\n",
      "[LightGBM] [Info] Auto-choosing row-wise multi-threading, the overhead of testing was 0.010748 seconds.\n",
      "You can set `force_row_wise=true` to remove the overhead.\n",
      "And if memory is not enough, you can set `force_col_wise=true`.\n",
      "[LightGBM] [Info] Total Bins 857\n",
      "[LightGBM] [Info] Number of data points in the train set: 244488, number of used features: 9\n",
      "[LightGBM] [Info] Start training from score 4621.633716\n",
      "[LightGBM] [Warning] No further splits with positive gain, best gain: -inf\n",
      "[LightGBM] [Warning] No further splits with positive gain, best gain: -inf\n",
      "[LightGBM] [Warning] No further splits with positive gain, best gain: -inf\n",
      "[LightGBM] [Warning] No further splits with positive gain, best gain: -inf\n",
      "[LightGBM] [Warning] No further splits with positive gain, best gain: -inf\n",
      "[LightGBM] [Warning] No further splits with positive gain, best gain: -inf\n",
      "[LightGBM] [Warning] No further splits with positive gain, best gain: -inf\n",
      "[LightGBM] [Warning] No further splits with positive gain, best gain: -inf\n",
      "[LightGBM] [Warning] No further splits with positive gain, best gain: -inf\n",
      "[LightGBM] [Warning] No further splits with positive gain, best gain: -inf\n",
      "[LightGBM] [Warning] No further splits with positive gain, best gain: -inf\n",
      "[LightGBM] [Warning] No further splits with positive gain, best gain: -inf\n",
      "[LightGBM] [Warning] No further splits with positive gain, best gain: -inf\n",
      "[LightGBM] [Warning] No further splits with positive gain, best gain: -inf\n",
      "[LightGBM] [Warning] No further splits with positive gain, best gain: -inf\n",
      "[LightGBM] [Warning] No further splits with positive gain, best gain: -inf\n",
      "[LightGBM] [Warning] No further splits with positive gain, best gain: -inf\n",
      "[LightGBM] [Warning] No further splits with positive gain, best gain: -inf\n",
      "[LightGBM] [Warning] No further splits with positive gain, best gain: -inf\n",
      "[LightGBM] [Warning] No further splits with positive gain, best gain: -inf\n",
      "[LightGBM] [Warning] No further splits with positive gain, best gain: -inf\n",
      "[LightGBM] [Warning] No further splits with positive gain, best gain: -inf\n",
      "[LightGBM] [Warning] No further splits with positive gain, best gain: -inf\n",
      "[LightGBM] [Warning] No further splits with positive gain, best gain: -inf\n",
      "[LightGBM] [Warning] No further splits with positive gain, best gain: -inf\n",
      "[LightGBM] [Warning] No further splits with positive gain, best gain: -inf\n",
      "[LightGBM] [Warning] No further splits with positive gain, best gain: -inf\n",
      "[LightGBM] [Warning] No further splits with positive gain, best gain: -inf\n",
      "[LightGBM] [Warning] No further splits with positive gain, best gain: -inf\n",
      "[LightGBM] [Warning] No further splits with positive gain, best gain: -inf\n",
      "[LightGBM] [Warning] No further splits with positive gain, best gain: -inf\n",
      "[LightGBM] [Warning] No further splits with positive gain, best gain: -inf\n",
      "[LightGBM] [Warning] No further splits with positive gain, best gain: -inf\n",
      "[LightGBM] [Warning] No further splits with positive gain, best gain: -inf\n",
      "[LightGBM] [Warning] No further splits with positive gain, best gain: -inf\n",
      "[LightGBM] [Warning] No further splits with positive gain, best gain: -inf\n",
      "[LightGBM] [Warning] No further splits with positive gain, best gain: -inf\n",
      "[LightGBM] [Warning] No further splits with positive gain, best gain: -inf\n",
      "[LightGBM] [Warning] No further splits with positive gain, best gain: -inf\n",
      "[LightGBM] [Warning] No further splits with positive gain, best gain: -inf\n",
      "[LightGBM] [Warning] No further splits with positive gain, best gain: -inf\n",
      "[LightGBM] [Warning] No further splits with positive gain, best gain: -inf\n",
      "[LightGBM] [Warning] No further splits with positive gain, best gain: -inf\n",
      "[LightGBM] [Warning] No further splits with positive gain, best gain: -inf\n",
      "[LightGBM] [Warning] No further splits with positive gain, best gain: -inf\n",
      "[LightGBM] [Warning] No further splits with positive gain, best gain: -inf\n",
      "[LightGBM] [Warning] No further splits with positive gain, best gain: -inf\n",
      "[LightGBM] [Warning] No further splits with positive gain, best gain: -inf\n",
      "[LightGBM] [Warning] No further splits with positive gain, best gain: -inf\n",
      "[LightGBM] [Warning] No further splits with positive gain, best gain: -inf\n",
      "[LightGBM] [Warning] No further splits with positive gain, best gain: -inf\n",
      "[LightGBM] [Warning] No further splits with positive gain, best gain: -inf\n",
      "[LightGBM] [Warning] No further splits with positive gain, best gain: -inf\n",
      "[LightGBM] [Warning] No further splits with positive gain, best gain: -inf\n",
      "[LightGBM] [Warning] No further splits with positive gain, best gain: -inf\n",
      "[LightGBM] [Warning] No further splits with positive gain, best gain: -inf\n",
      "[LightGBM] [Warning] No further splits with positive gain, best gain: -inf\n",
      "[LightGBM] [Warning] No further splits with positive gain, best gain: -inf\n",
      "[LightGBM] [Warning] No further splits with positive gain, best gain: -inf\n",
      "[LightGBM] [Warning] No further splits with positive gain, best gain: -inf\n",
      "[LightGBM] [Warning] No further splits with positive gain, best gain: -inf\n",
      "[LightGBM] [Warning] No further splits with positive gain, best gain: -inf\n",
      "[LightGBM] [Warning] No further splits with positive gain, best gain: -inf\n",
      "[LightGBM] [Warning] No further splits with positive gain, best gain: -inf\n",
      "[LightGBM] [Warning] No further splits with positive gain, best gain: -inf\n",
      "[LightGBM] [Warning] No further splits with positive gain, best gain: -inf\n",
      "[LightGBM] [Warning] No further splits with positive gain, best gain: -inf\n",
      "[LightGBM] [Warning] No further splits with positive gain, best gain: -inf\n",
      "[LightGBM] [Warning] No further splits with positive gain, best gain: -inf\n",
      "[LightGBM] [Warning] No further splits with positive gain, best gain: -inf\n",
      "[LightGBM] [Warning] No further splits with positive gain, best gain: -inf\n",
      "[LightGBM] [Warning] No further splits with positive gain, best gain: -inf\n",
      "[LightGBM] [Warning] No further splits with positive gain, best gain: -inf\n",
      "[LightGBM] [Warning] No further splits with positive gain, best gain: -inf\n",
      "[LightGBM] [Warning] No further splits with positive gain, best gain: -inf\n",
      "[LightGBM] [Warning] No further splits with positive gain, best gain: -inf\n",
      "[LightGBM] [Warning] No further splits with positive gain, best gain: -inf\n",
      "[LightGBM] [Warning] No further splits with positive gain, best gain: -inf\n",
      "[LightGBM] [Warning] No further splits with positive gain, best gain: -inf\n",
      "[LightGBM] [Warning] No further splits with positive gain, best gain: -inf\n",
      "[LightGBM] [Warning] No further splits with positive gain, best gain: -inf\n",
      "[LightGBM] [Warning] No further splits with positive gain, best gain: -inf\n",
      "[LightGBM] [Warning] No further splits with positive gain, best gain: -inf\n",
      "[LightGBM] [Warning] No further splits with positive gain, best gain: -inf\n",
      "[LightGBM] [Warning] No further splits with positive gain, best gain: -inf\n",
      "[LightGBM] [Warning] No further splits with positive gain, best gain: -inf\n",
      "CPU times: total: 20.7 s\n",
      "Wall time: 4.83 s\n"
     ]
    },
    {
     "data": {
      "text/html": [
       "<style>#sk-container-id-4 {color: black;}#sk-container-id-4 pre{padding: 0;}#sk-container-id-4 div.sk-toggleable {background-color: white;}#sk-container-id-4 label.sk-toggleable__label {cursor: pointer;display: block;width: 100%;margin-bottom: 0;padding: 0.3em;box-sizing: border-box;text-align: center;}#sk-container-id-4 label.sk-toggleable__label-arrow:before {content: \"▸\";float: left;margin-right: 0.25em;color: #696969;}#sk-container-id-4 label.sk-toggleable__label-arrow:hover:before {color: black;}#sk-container-id-4 div.sk-estimator:hover label.sk-toggleable__label-arrow:before {color: black;}#sk-container-id-4 div.sk-toggleable__content {max-height: 0;max-width: 0;overflow: hidden;text-align: left;background-color: #f0f8ff;}#sk-container-id-4 div.sk-toggleable__content pre {margin: 0.2em;color: black;border-radius: 0.25em;background-color: #f0f8ff;}#sk-container-id-4 input.sk-toggleable__control:checked~div.sk-toggleable__content {max-height: 200px;max-width: 100%;overflow: auto;}#sk-container-id-4 input.sk-toggleable__control:checked~label.sk-toggleable__label-arrow:before {content: \"▾\";}#sk-container-id-4 div.sk-estimator input.sk-toggleable__control:checked~label.sk-toggleable__label {background-color: #d4ebff;}#sk-container-id-4 div.sk-label input.sk-toggleable__control:checked~label.sk-toggleable__label {background-color: #d4ebff;}#sk-container-id-4 input.sk-hidden--visually {border: 0;clip: rect(1px 1px 1px 1px);clip: rect(1px, 1px, 1px, 1px);height: 1px;margin: -1px;overflow: hidden;padding: 0;position: absolute;width: 1px;}#sk-container-id-4 div.sk-estimator {font-family: monospace;background-color: #f0f8ff;border: 1px dotted black;border-radius: 0.25em;box-sizing: border-box;margin-bottom: 0.5em;}#sk-container-id-4 div.sk-estimator:hover {background-color: #d4ebff;}#sk-container-id-4 div.sk-parallel-item::after {content: \"\";width: 100%;border-bottom: 1px solid gray;flex-grow: 1;}#sk-container-id-4 div.sk-label:hover label.sk-toggleable__label {background-color: #d4ebff;}#sk-container-id-4 div.sk-serial::before {content: \"\";position: absolute;border-left: 1px solid gray;box-sizing: border-box;top: 0;bottom: 0;left: 50%;z-index: 0;}#sk-container-id-4 div.sk-serial {display: flex;flex-direction: column;align-items: center;background-color: white;padding-right: 0.2em;padding-left: 0.2em;position: relative;}#sk-container-id-4 div.sk-item {position: relative;z-index: 1;}#sk-container-id-4 div.sk-parallel {display: flex;align-items: stretch;justify-content: center;background-color: white;position: relative;}#sk-container-id-4 div.sk-item::before, #sk-container-id-4 div.sk-parallel-item::before {content: \"\";position: absolute;border-left: 1px solid gray;box-sizing: border-box;top: 0;bottom: 0;left: 50%;z-index: -1;}#sk-container-id-4 div.sk-parallel-item {display: flex;flex-direction: column;z-index: 1;position: relative;background-color: white;}#sk-container-id-4 div.sk-parallel-item:first-child::after {align-self: flex-end;width: 50%;}#sk-container-id-4 div.sk-parallel-item:last-child::after {align-self: flex-start;width: 50%;}#sk-container-id-4 div.sk-parallel-item:only-child::after {width: 0;}#sk-container-id-4 div.sk-dashed-wrapped {border: 1px dashed gray;margin: 0 0.4em 0.5em 0.4em;box-sizing: border-box;padding-bottom: 0.4em;background-color: white;}#sk-container-id-4 div.sk-label label {font-family: monospace;font-weight: bold;display: inline-block;line-height: 1.2em;}#sk-container-id-4 div.sk-label-container {text-align: center;}#sk-container-id-4 div.sk-container {/* jupyter's `normalize.less` sets `[hidden] { display: none; }` but bootstrap.min.css set `[hidden] { display: none !important; }` so we also need the `!important` here to be able to override the default hidden behavior on the sphinx rendered scikit-learn.org. See: https://github.com/scikit-learn/scikit-learn/issues/21755 */display: inline-block !important;position: relative;}#sk-container-id-4 div.sk-text-repr-fallback {display: none;}</style><div id=\"sk-container-id-4\" class=\"sk-top-container\"><div class=\"sk-text-repr-fallback\"><pre>Pipeline(steps=[(&#x27;preprocessor&#x27;,\n",
       "                 ColumnTransformer(remainder=&#x27;passthrough&#x27;,\n",
       "                                   transformers=[(&#x27;num_processing&#x27;,\n",
       "                                                  Pipeline(steps=[(&#x27;Imputer_before&#x27;,\n",
       "                                                                   SimpleImputer(strategy=&#x27;median&#x27;)),\n",
       "                                                                  (&#x27;scaler&#x27;,\n",
       "                                                                   RobustScaler())]),\n",
       "                                                  [&#x27;DateCrawled&#x27;,\n",
       "                                                   &#x27;RegistrationYear&#x27;, &#x27;Power&#x27;,\n",
       "                                                   &#x27;Kilometer&#x27;,\n",
       "                                                   &#x27;RegistrationMonth&#x27;,\n",
       "                                                   &#x27;DaysSinceToday&#x27;]),\n",
       "                                                 (&#x27;cat_processing&#x27;,\n",
       "                                                  Pipeline(steps=[(&#x27;Imputer_before&#x27;,\n",
       "                                                                   Sim...\n",
       "                                                                                               &#x27;golf6&#x27;,\n",
       "                                                                                               &#x27;golfgti&#x27;,\n",
       "                                                                                               &#x27;honda&#x27;,\n",
       "                                                                                               &#x27;jazz&#x27;, ...],\n",
       "                                                                                              [&#x27;nano&#x27;,\n",
       "                                                                                               &#x27;disco&#x27;,\n",
       "                                                                                               &#x27;gas&#x27;],\n",
       "                                                                                              [&#x27;hybrid&#x27;,\n",
       "                                                                                               &#x27;lpg&#x27;,\n",
       "                                                                                               &#x27;petrol&#x27;,\n",
       "                                                                                               &#x27;internal&#x27;,\n",
       "                                                                                               &#x27;external&#x27;]],\n",
       "                                                                                  handle_unknown=&#x27;use_encoded_value&#x27;,\n",
       "                                                                                  unknown_value=nan)),\n",
       "                                                                  (&#x27;after&#x27;,\n",
       "                                                                   SimpleImputer(strategy=&#x27;most_frequent&#x27;))]),\n",
       "                                                  [&#x27;VehicleType&#x27;, &#x27;Gearbox&#x27;,\n",
       "                                                   &#x27;Model&#x27;, &#x27;FuelType&#x27;, &#x27;Brand&#x27;,\n",
       "                                                   &#x27;Repaired&#x27;])])),\n",
       "                (&#x27;model&#x27;,\n",
       "                 LGBMRegressor(max_depth=6, n_estimators=500, random_state=5))])</pre><b>In a Jupyter environment, please rerun this cell to show the HTML representation or trust the notebook. <br />On GitHub, the HTML representation is unable to render, please try loading this page with nbviewer.org.</b></div><div class=\"sk-container\" hidden><div class=\"sk-item sk-dashed-wrapped\"><div class=\"sk-label-container\"><div class=\"sk-label sk-toggleable\"><input class=\"sk-toggleable__control sk-hidden--visually\" id=\"sk-estimator-id-38\" type=\"checkbox\" ><label for=\"sk-estimator-id-38\" class=\"sk-toggleable__label sk-toggleable__label-arrow\">Pipeline</label><div class=\"sk-toggleable__content\"><pre>Pipeline(steps=[(&#x27;preprocessor&#x27;,\n",
       "                 ColumnTransformer(remainder=&#x27;passthrough&#x27;,\n",
       "                                   transformers=[(&#x27;num_processing&#x27;,\n",
       "                                                  Pipeline(steps=[(&#x27;Imputer_before&#x27;,\n",
       "                                                                   SimpleImputer(strategy=&#x27;median&#x27;)),\n",
       "                                                                  (&#x27;scaler&#x27;,\n",
       "                                                                   RobustScaler())]),\n",
       "                                                  [&#x27;DateCrawled&#x27;,\n",
       "                                                   &#x27;RegistrationYear&#x27;, &#x27;Power&#x27;,\n",
       "                                                   &#x27;Kilometer&#x27;,\n",
       "                                                   &#x27;RegistrationMonth&#x27;,\n",
       "                                                   &#x27;DaysSinceToday&#x27;]),\n",
       "                                                 (&#x27;cat_processing&#x27;,\n",
       "                                                  Pipeline(steps=[(&#x27;Imputer_before&#x27;,\n",
       "                                                                   Sim...\n",
       "                                                                                               &#x27;golf6&#x27;,\n",
       "                                                                                               &#x27;golfgti&#x27;,\n",
       "                                                                                               &#x27;honda&#x27;,\n",
       "                                                                                               &#x27;jazz&#x27;, ...],\n",
       "                                                                                              [&#x27;nano&#x27;,\n",
       "                                                                                               &#x27;disco&#x27;,\n",
       "                                                                                               &#x27;gas&#x27;],\n",
       "                                                                                              [&#x27;hybrid&#x27;,\n",
       "                                                                                               &#x27;lpg&#x27;,\n",
       "                                                                                               &#x27;petrol&#x27;,\n",
       "                                                                                               &#x27;internal&#x27;,\n",
       "                                                                                               &#x27;external&#x27;]],\n",
       "                                                                                  handle_unknown=&#x27;use_encoded_value&#x27;,\n",
       "                                                                                  unknown_value=nan)),\n",
       "                                                                  (&#x27;after&#x27;,\n",
       "                                                                   SimpleImputer(strategy=&#x27;most_frequent&#x27;))]),\n",
       "                                                  [&#x27;VehicleType&#x27;, &#x27;Gearbox&#x27;,\n",
       "                                                   &#x27;Model&#x27;, &#x27;FuelType&#x27;, &#x27;Brand&#x27;,\n",
       "                                                   &#x27;Repaired&#x27;])])),\n",
       "                (&#x27;model&#x27;,\n",
       "                 LGBMRegressor(max_depth=6, n_estimators=500, random_state=5))])</pre></div></div></div><div class=\"sk-serial\"><div class=\"sk-item sk-dashed-wrapped\"><div class=\"sk-label-container\"><div class=\"sk-label sk-toggleable\"><input class=\"sk-toggleable__control sk-hidden--visually\" id=\"sk-estimator-id-39\" type=\"checkbox\" ><label for=\"sk-estimator-id-39\" class=\"sk-toggleable__label sk-toggleable__label-arrow\">preprocessor: ColumnTransformer</label><div class=\"sk-toggleable__content\"><pre>ColumnTransformer(remainder=&#x27;passthrough&#x27;,\n",
       "                  transformers=[(&#x27;num_processing&#x27;,\n",
       "                                 Pipeline(steps=[(&#x27;Imputer_before&#x27;,\n",
       "                                                  SimpleImputer(strategy=&#x27;median&#x27;)),\n",
       "                                                 (&#x27;scaler&#x27;, RobustScaler())]),\n",
       "                                 [&#x27;DateCrawled&#x27;, &#x27;RegistrationYear&#x27;, &#x27;Power&#x27;,\n",
       "                                  &#x27;Kilometer&#x27;, &#x27;RegistrationMonth&#x27;,\n",
       "                                  &#x27;DaysSinceToday&#x27;]),\n",
       "                                (&#x27;cat_processing&#x27;,\n",
       "                                 Pipeline(steps=[(&#x27;Imputer_before&#x27;,\n",
       "                                                  SimpleImputer(strategy=&#x27;most_freque...\n",
       "                                                                              &#x27;cordoba&#x27;,\n",
       "                                                                              &#x27;corsa&#x27;,\n",
       "                                                                              &#x27;corolla&#x27;,\n",
       "                                                                              &#x27;crossfire&#x27;,\n",
       "                                                                              &#x27;flax&#x27;,\n",
       "                                                                              &#x27;frogeye&#x27;,\n",
       "                                                                              &#x27;gl&#x27;,\n",
       "                                                                              &#x27;glk&#x27;,\n",
       "                                                                              &#x27;golf4&#x27;,\n",
       "                                                                              &#x27;golf6&#x27;,\n",
       "                                                                              &#x27;golfgti&#x27;,\n",
       "                                                                              &#x27;honda&#x27;,\n",
       "                                                                              &#x27;jazz&#x27;, ...],\n",
       "                                                                             [&#x27;nano&#x27;,\n",
       "                                                                              &#x27;disco&#x27;,\n",
       "                                                                              &#x27;gas&#x27;],\n",
       "                                                                             [&#x27;hybrid&#x27;,\n",
       "                                                                              &#x27;lpg&#x27;,\n",
       "                                                                              &#x27;petrol&#x27;,\n",
       "                                                                              &#x27;internal&#x27;,\n",
       "                                                                              &#x27;external&#x27;]],\n",
       "                                                                 handle_unknown=&#x27;use_encoded_value&#x27;,\n",
       "                                                                 unknown_value=nan)),\n",
       "                                                 (&#x27;after&#x27;,\n",
       "                                                  SimpleImputer(strategy=&#x27;most_frequent&#x27;))]),\n",
       "                                 [&#x27;VehicleType&#x27;, &#x27;Gearbox&#x27;, &#x27;Model&#x27;, &#x27;FuelType&#x27;,\n",
       "                                  &#x27;Brand&#x27;, &#x27;Repaired&#x27;])])</pre></div></div></div><div class=\"sk-parallel\"><div class=\"sk-parallel-item\"><div class=\"sk-item\"><div class=\"sk-label-container\"><div class=\"sk-label sk-toggleable\"><input class=\"sk-toggleable__control sk-hidden--visually\" id=\"sk-estimator-id-40\" type=\"checkbox\" ><label for=\"sk-estimator-id-40\" class=\"sk-toggleable__label sk-toggleable__label-arrow\">num_processing</label><div class=\"sk-toggleable__content\"><pre>[&#x27;DateCrawled&#x27;, &#x27;RegistrationYear&#x27;, &#x27;Power&#x27;, &#x27;Kilometer&#x27;, &#x27;RegistrationMonth&#x27;, &#x27;DaysSinceToday&#x27;]</pre></div></div></div><div class=\"sk-serial\"><div class=\"sk-item\"><div class=\"sk-serial\"><div class=\"sk-item\"><div class=\"sk-estimator sk-toggleable\"><input class=\"sk-toggleable__control sk-hidden--visually\" id=\"sk-estimator-id-41\" type=\"checkbox\" ><label for=\"sk-estimator-id-41\" class=\"sk-toggleable__label sk-toggleable__label-arrow\">SimpleImputer</label><div class=\"sk-toggleable__content\"><pre>SimpleImputer(strategy=&#x27;median&#x27;)</pre></div></div></div><div class=\"sk-item\"><div class=\"sk-estimator sk-toggleable\"><input class=\"sk-toggleable__control sk-hidden--visually\" id=\"sk-estimator-id-42\" type=\"checkbox\" ><label for=\"sk-estimator-id-42\" class=\"sk-toggleable__label sk-toggleable__label-arrow\">RobustScaler</label><div class=\"sk-toggleable__content\"><pre>RobustScaler()</pre></div></div></div></div></div></div></div></div><div class=\"sk-parallel-item\"><div class=\"sk-item\"><div class=\"sk-label-container\"><div class=\"sk-label sk-toggleable\"><input class=\"sk-toggleable__control sk-hidden--visually\" id=\"sk-estimator-id-43\" type=\"checkbox\" ><label for=\"sk-estimator-id-43\" class=\"sk-toggleable__label sk-toggleable__label-arrow\">cat_processing</label><div class=\"sk-toggleable__content\"><pre>[&#x27;VehicleType&#x27;, &#x27;Gearbox&#x27;, &#x27;Model&#x27;, &#x27;FuelType&#x27;, &#x27;Brand&#x27;, &#x27;Repaired&#x27;]</pre></div></div></div><div class=\"sk-serial\"><div class=\"sk-item\"><div class=\"sk-serial\"><div class=\"sk-item\"><div class=\"sk-estimator sk-toggleable\"><input class=\"sk-toggleable__control sk-hidden--visually\" id=\"sk-estimator-id-44\" type=\"checkbox\" ><label for=\"sk-estimator-id-44\" class=\"sk-toggleable__label sk-toggleable__label-arrow\">SimpleImputer</label><div class=\"sk-toggleable__content\"><pre>SimpleImputer(strategy=&#x27;most_frequent&#x27;)</pre></div></div></div><div class=\"sk-item\"><div class=\"sk-estimator sk-toggleable\"><input class=\"sk-toggleable__control sk-hidden--visually\" id=\"sk-estimator-id-45\" type=\"checkbox\" ><label for=\"sk-estimator-id-45\" class=\"sk-toggleable__label sk-toggleable__label-arrow\">OrdinalEncoder</label><div class=\"sk-toggleable__content\"><pre>OrdinalEncoder(categories=[[&#x27;nan&#x27;, &#x27;bus&#x27;, &#x27;convertible&#x27;, &#x27;coupe&#x27;, &#x27;suv&#x27;,\n",
       "                            &#x27;sedan&#x27;, &#x27;small&#x27;, &#x27;wagon&#x27;],\n",
       "                           [&#x27;auto&#x27;, &#x27;manual&#x27;],\n",
       "                           [&#x27;1_reihe&#x27;, &#x27;1er&#x27;, &#x27;2_reihe&#x27;, &#x27;3_reihe&#x27;, &#x27;3er&#x27;,\n",
       "                            &#x27;4_reihe&#x27;, &#x27;5_reihe&#x27;, &#x27;5er&#x27;, &#x27;6_reihe&#x27;, &#x27;6er&#x27;,\n",
       "                            &#x27;7er&#x27;, &#x27;80&#x27;, &#x27;90&#x27;, &#x27;911&#x27;, &#x27;a1&#x27;, &#x27;a2&#x27;, &#x27;a3&#x27;, &#x27;a4&#x27;,\n",
       "                            &#x27;a5&#x27;, &#x27;a6&#x27;, &#x27;a8&#x27;, &#x27;accord&#x27;, &#x27;agila&#x27;, &#x27;alhambra&#x27;,\n",
       "                            &#x27;almera&#x27;, &#x27;alto&#x27;, &#x27;amarok&#x27;, &#x27;antara&#x27;, &#x27;arosa&#x27;,\n",
       "                            &#x27;auris&#x27;, ...],\n",
       "                           [&#x27;nan&#x27;, &#x27;a6&#x27;, &#x27;a...&#x27;,\n",
       "                            &#x27;avensis&#x27;, &#x27;aygo&#x27;, &#x27;b_max&#x27;, &#x27;beetle&#x27;, &#x27;berlingo&#x27;,\n",
       "                            &#x27;bmw320i&#x27;, &#x27;bmw330ci&#x27;, &#x27;bmw335d&#x27;, &#x27;bmw645&#x27;,\n",
       "                            &#x27;bmw760&#x27;, &#x27;c6&#x27;, &#x27;corolla&#x27;, &#x27;cordoba&#x27;, &#x27;corsa&#x27;,\n",
       "                            &#x27;corolla&#x27;, &#x27;crossfire&#x27;, &#x27;flax&#x27;, &#x27;frogeye&#x27;, &#x27;gl&#x27;,\n",
       "                            &#x27;glk&#x27;, &#x27;golf4&#x27;, &#x27;golf6&#x27;, &#x27;golfgti&#x27;, &#x27;honda&#x27;, &#x27;jazz&#x27;, ...],\n",
       "                           [&#x27;nano&#x27;, &#x27;disco&#x27;, &#x27;gas&#x27;],\n",
       "                           [&#x27;hybrid&#x27;, &#x27;lpg&#x27;, &#x27;petrol&#x27;, &#x27;internal&#x27;, &#x27;external&#x27;]],\n",
       "               handle_unknown=&#x27;use_encoded_value&#x27;, unknown_value=nan)</pre></div></div></div><div class=\"sk-item\"><div class=\"sk-estimator sk-toggleable\"><input class=\"sk-toggleable__control sk-hidden--visually\" id=\"sk-estimator-id-46\" type=\"checkbox\" ><label for=\"sk-estimator-id-46\" class=\"sk-toggleable__label sk-toggleable__label-arrow\">SimpleImputer</label><div class=\"sk-toggleable__content\"><pre>SimpleImputer(strategy=&#x27;most_frequent&#x27;)</pre></div></div></div></div></div></div></div></div><div class=\"sk-parallel-item\"><div class=\"sk-item\"><div class=\"sk-label-container\"><div class=\"sk-label sk-toggleable\"><input class=\"sk-toggleable__control sk-hidden--visually\" id=\"sk-estimator-id-47\" type=\"checkbox\" ><label for=\"sk-estimator-id-47\" class=\"sk-toggleable__label sk-toggleable__label-arrow\">remainder</label><div class=\"sk-toggleable__content\"><pre>[]</pre></div></div></div><div class=\"sk-serial\"><div class=\"sk-item\"><div class=\"sk-estimator sk-toggleable\"><input class=\"sk-toggleable__control sk-hidden--visually\" id=\"sk-estimator-id-48\" type=\"checkbox\" ><label for=\"sk-estimator-id-48\" class=\"sk-toggleable__label sk-toggleable__label-arrow\">passthrough</label><div class=\"sk-toggleable__content\"><pre>passthrough</pre></div></div></div></div></div></div></div></div><div class=\"sk-item\"><div class=\"sk-estimator sk-toggleable\"><input class=\"sk-toggleable__control sk-hidden--visually\" id=\"sk-estimator-id-49\" type=\"checkbox\" ><label for=\"sk-estimator-id-49\" class=\"sk-toggleable__label sk-toggleable__label-arrow\">LGBMRegressor</label><div class=\"sk-toggleable__content\"><pre>LGBMRegressor(max_depth=6, n_estimators=500, random_state=5)</pre></div></div></div></div></div></div></div>"
      ],
      "text/plain": [
       "Pipeline(steps=[('preprocessor',\n",
       "                 ColumnTransformer(remainder='passthrough',\n",
       "                                   transformers=[('num_processing',\n",
       "                                                  Pipeline(steps=[('Imputer_before',\n",
       "                                                                   SimpleImputer(strategy='median')),\n",
       "                                                                  ('scaler',\n",
       "                                                                   RobustScaler())]),\n",
       "                                                  ['DateCrawled',\n",
       "                                                   'RegistrationYear', 'Power',\n",
       "                                                   'Kilometer',\n",
       "                                                   'RegistrationMonth',\n",
       "                                                   'DaysSinceToday']),\n",
       "                                                 ('cat_processing',\n",
       "                                                  Pipeline(steps=[('Imputer_before',\n",
       "                                                                   Sim...\n",
       "                                                                                               'golf6',\n",
       "                                                                                               'golfgti',\n",
       "                                                                                               'honda',\n",
       "                                                                                               'jazz', ...],\n",
       "                                                                                              ['nano',\n",
       "                                                                                               'disco',\n",
       "                                                                                               'gas'],\n",
       "                                                                                              ['hybrid',\n",
       "                                                                                               'lpg',\n",
       "                                                                                               'petrol',\n",
       "                                                                                               'internal',\n",
       "                                                                                               'external']],\n",
       "                                                                                  handle_unknown='use_encoded_value',\n",
       "                                                                                  unknown_value=nan)),\n",
       "                                                                  ('after',\n",
       "                                                                   SimpleImputer(strategy='most_frequent'))]),\n",
       "                                                  ['VehicleType', 'Gearbox',\n",
       "                                                   'Model', 'FuelType', 'Brand',\n",
       "                                                   'Repaired'])])),\n",
       "                ('model',\n",
       "                 LGBMRegressor(max_depth=6, n_estimators=500, random_state=5))])"
      ]
     },
     "execution_count": 67,
     "metadata": {},
     "output_type": "execute_result"
    }
   ],
   "source": [
    "%%time\n",
    "\n",
    "pipe_alternative.fit(X_train, y_train)"
   ]
  },
  {
   "cell_type": "markdown",
   "metadata": {},
   "source": [
    "*Вывод*:\n",
    "- При помощи метода RandomizedSearchCV были перебраны гиперпараметры моделей DecisionTreeRegressor, LGBMRegressor, KNeighborsRegressor, Ridge\n",
    "- Категориальные признаки были закодированы при помощи OrdinalEncoder, количественые - при помощи StandardScaler(), RobustScaler(), MinMaxScaler()\n",
    "- был выбран лучшим LGBMRegressor(max_depth=6, n_estimators=500, random_state=5, learning_rate=0.1) с RMSE 1798"
   ]
  },
  {
   "cell_type": "code",
   "execution_count": 68,
   "metadata": {},
   "outputs": [
    {
     "name": "stderr",
     "output_type": "stream",
     "text": [
      "c:\\Users\\taras\\anaconda3\\envs\\practicum\\lib\\site-packages\\sklearn\\impute\\_base.py:558: UserWarning: Skipping features without any observed values: [3 4 5]. At least one non-missing value is needed for imputation with strategy='most_frequent'.\n",
      "  warnings.warn(\n"
     ]
    },
    {
     "name": "stdout",
     "output_type": "stream",
     "text": [
      "[LightGBM] [Warning] Accuracy may be bad since you didn't explicitly set num_leaves OR 2^max_depth > num_leaves. (num_leaves=31).\n",
      "CPU times: total: 5.58 s\n",
      "Wall time: 985 ms\n"
     ]
    }
   ],
   "source": [
    "%%time\n",
    "\n",
    "y_pred = pipe_alternative.predict(X_test)"
   ]
  },
  {
   "cell_type": "code",
   "execution_count": 69,
   "metadata": {},
   "outputs": [
    {
     "name": "stdout",
     "output_type": "stream",
     "text": [
      "Результат RMSE на тестовых данных 1815\n"
     ]
    }
   ],
   "source": [
    "print(f'Результат RMSE на тестовых данных {round(mean_squared_error(y_test, y_pred, squared=False))}')"
   ]
  },
  {
   "cell_type": "markdown",
   "metadata": {},
   "source": [
    "## Вывод"
   ]
  },
  {
   "cell_type": "markdown",
   "metadata": {},
   "source": [
    "- На этапе исследовательского анализа и предобработки данных:\n",
    "    - Для количественных признаков:\n",
    "        - были удалены данные с нулевой ценой, а также с некорректными значениями для мощности двигателя\n",
    "    - Для категориальных данных:\n",
    "        - для коробки передач, где это было возможно, пропученные значения были заполнены на наиболее встречающееся для модели\n",
    "        - для типа кузова, типа топлива, а также незаполненных значений коробки передач пропуски были заполнены как `NotFilled`\n",
    "        - для признака ремонта пропуски были заполнены как `no`, то есть починка не проводилась\n",
    "    - Для данных типа datetime была произведена замена на относительную величину разница в днях для сегодняшнего дня\n",
    "    - были удалены дубликаты\n",
    "    - были удалены признаки, которые не будут использоваться в обучении `PostalCode`, `LastSeen`, `NumberOfPictures`, `DateCreated`\n",
    "    - была построена матрица корреляции, на которой заметна сильная корреляция между `price` и `Power`, `RedistrationYear`\n",
    "- На этапе обучения моделей:\n",
    "    - При помощи метода RandomizedSearchCV были перебраны гиперпараметры моделей DecisionTreeRegressor, LGBMRegressor, KNeighborsRegressor, Ridge\n",
    "    - Категориальные признаки были закодированы при помощи OrdinalEncoder, количественые - при помощи StandardScaler(), RobustScaler(), MinMaxScaler()\n",
    "    - был выбран лучшим LGBMRegressor(max_depth=6, n_estimators=500, random_state=5, learning_rate=0.1) с RMSE 1798\n",
    "- На этапе тестирования модели:\n",
    "    - был получен результат RMSE 1800 на тестовых данных"
   ]
  },
  {
   "cell_type": "markdown",
   "metadata": {},
   "source": []
  }
 ],
 "metadata": {
  "ExecuteTimeLog": [
   {
    "duration": 5974,
    "start_time": "2024-05-26T14:30:46.472Z"
   },
   {
    "duration": 6084,
    "start_time": "2024-05-26T14:32:47.738Z"
   },
   {
    "duration": 28638,
    "start_time": "2024-05-26T14:35:06.062Z"
   },
   {
    "duration": 4913,
    "start_time": "2024-05-26T14:35:49.846Z"
   },
   {
    "duration": 29177,
    "start_time": "2024-05-26T14:35:54.761Z"
   },
   {
    "duration": 32025,
    "start_time": "2024-05-26T14:36:27.976Z"
   },
   {
    "duration": 4896,
    "start_time": "2024-05-26T14:37:00.003Z"
   },
   {
    "duration": 41,
    "start_time": "2024-05-26T14:38:19.247Z"
   },
   {
    "duration": 1620,
    "start_time": "2024-05-26T14:39:23.670Z"
   },
   {
    "duration": 3,
    "start_time": "2024-05-26T14:39:27.018Z"
   },
   {
    "duration": 3,
    "start_time": "2024-05-26T14:39:30.795Z"
   },
   {
    "duration": 3,
    "start_time": "2024-05-26T14:39:45.240Z"
   },
   {
    "duration": 98,
    "start_time": "2024-05-26T14:40:07.351Z"
   },
   {
    "duration": 2923,
    "start_time": "2024-05-26T14:40:31.860Z"
   },
   {
    "duration": 17,
    "start_time": "2024-05-26T14:40:40.274Z"
   },
   {
    "duration": 129,
    "start_time": "2024-05-26T14:40:52.343Z"
   },
   {
    "duration": 12,
    "start_time": "2024-05-26T14:41:03.526Z"
   },
   {
    "duration": 1041,
    "start_time": "2024-05-26T14:43:49.779Z"
   },
   {
    "duration": 96,
    "start_time": "2024-05-26T14:43:51.889Z"
   },
   {
    "duration": 11,
    "start_time": "2024-05-26T14:43:56.511Z"
   },
   {
    "duration": 790,
    "start_time": "2024-05-26T14:44:50.869Z"
   },
   {
    "duration": 132,
    "start_time": "2024-05-26T14:44:51.661Z"
   },
   {
    "duration": 20,
    "start_time": "2024-05-26T14:44:51.795Z"
   },
   {
    "duration": 1003,
    "start_time": "2024-05-26T14:45:05.209Z"
   },
   {
    "duration": 89,
    "start_time": "2024-05-26T14:45:07.699Z"
   },
   {
    "duration": 11,
    "start_time": "2024-05-26T14:45:08.451Z"
   },
   {
    "duration": 953,
    "start_time": "2024-05-26T14:49:49.565Z"
   },
   {
    "duration": 85,
    "start_time": "2024-05-26T14:49:51.176Z"
   },
   {
    "duration": 11,
    "start_time": "2024-05-26T14:50:42.025Z"
   },
   {
    "duration": 16,
    "start_time": "2024-05-26T14:50:55.062Z"
   },
   {
    "duration": 20,
    "start_time": "2024-05-26T14:51:08.005Z"
   },
   {
    "duration": 10,
    "start_time": "2024-05-26T14:51:09.059Z"
   },
   {
    "duration": 4,
    "start_time": "2024-05-26T15:22:13.615Z"
   },
   {
    "duration": 398,
    "start_time": "2024-05-26T15:22:26.692Z"
   },
   {
    "duration": 4,
    "start_time": "2024-05-26T15:23:37.333Z"
   },
   {
    "duration": 252,
    "start_time": "2024-05-26T15:23:52.964Z"
   },
   {
    "duration": 4,
    "start_time": "2024-05-26T15:25:05.366Z"
   },
   {
    "duration": 4,
    "start_time": "2024-05-26T15:25:43.915Z"
   },
   {
    "duration": 3,
    "start_time": "2024-05-26T15:26:12.703Z"
   },
   {
    "duration": 4,
    "start_time": "2024-05-26T15:26:35.766Z"
   },
   {
    "duration": 4,
    "start_time": "2024-05-26T15:26:43.454Z"
   },
   {
    "duration": 220,
    "start_time": "2024-05-26T15:26:45.757Z"
   },
   {
    "duration": 6,
    "start_time": "2024-05-26T15:27:05.701Z"
   },
   {
    "duration": 210,
    "start_time": "2024-05-26T15:27:06.584Z"
   },
   {
    "duration": 6485,
    "start_time": "2024-06-04T08:19:28.250Z"
   },
   {
    "duration": 52948,
    "start_time": "2024-06-04T08:19:34.737Z"
   },
   {
    "duration": 1767,
    "start_time": "2024-06-04T08:20:27.688Z"
   },
   {
    "duration": 4,
    "start_time": "2024-06-04T08:20:29.457Z"
   },
   {
    "duration": 1339,
    "start_time": "2024-06-04T08:20:29.462Z"
   },
   {
    "duration": 73,
    "start_time": "2024-06-04T08:20:30.802Z"
   },
   {
    "duration": 17,
    "start_time": "2024-06-04T08:20:30.877Z"
   },
   {
    "duration": 31,
    "start_time": "2024-06-04T08:20:30.896Z"
   },
   {
    "duration": 69,
    "start_time": "2024-06-04T08:20:30.928Z"
   },
   {
    "duration": 59,
    "start_time": "2024-06-04T08:20:30.999Z"
   },
   {
    "duration": 457,
    "start_time": "2024-06-04T08:20:31.059Z"
   },
   {
    "duration": 5,
    "start_time": "2024-06-04T08:20:31.518Z"
   },
   {
    "duration": 373,
    "start_time": "2024-06-04T08:20:31.525Z"
   },
   {
    "duration": 128,
    "start_time": "2024-06-04T08:20:31.900Z"
   },
   {
    "duration": 285,
    "start_time": "2024-06-04T08:20:32.030Z"
   },
   {
    "duration": 7,
    "start_time": "2024-06-04T08:20:32.317Z"
   },
   {
    "duration": 2490,
    "start_time": "2024-06-04T08:20:32.326Z"
   },
   {
    "duration": 14,
    "start_time": "2024-06-04T08:20:34.818Z"
   },
   {
    "duration": 33,
    "start_time": "2024-06-04T08:20:34.833Z"
   },
   {
    "duration": 34,
    "start_time": "2024-06-04T08:20:34.867Z"
   },
   {
    "duration": 2301,
    "start_time": "2024-06-04T08:20:34.902Z"
   },
   {
    "duration": 171,
    "start_time": "2024-06-04T08:20:37.204Z"
   },
   {
    "duration": 38,
    "start_time": "2024-06-04T08:20:37.376Z"
   },
   {
    "duration": 8,
    "start_time": "2024-06-04T08:20:37.417Z"
   },
   {
    "duration": 2121,
    "start_time": "2024-06-04T08:20:37.426Z"
   },
   {
    "duration": 11,
    "start_time": "2024-06-04T08:20:39.549Z"
   },
   {
    "duration": 55,
    "start_time": "2024-06-04T08:20:39.561Z"
   },
   {
    "duration": 1609,
    "start_time": "2024-06-04T08:20:39.619Z"
   },
   {
    "duration": 19,
    "start_time": "2024-06-04T08:20:41.230Z"
   },
   {
    "duration": 20,
    "start_time": "2024-06-04T08:20:41.251Z"
   },
   {
    "duration": 15,
    "start_time": "2024-06-04T08:20:41.273Z"
   },
   {
    "duration": 40,
    "start_time": "2024-06-04T08:20:41.291Z"
   },
   {
    "duration": 25,
    "start_time": "2024-06-04T08:20:41.333Z"
   },
   {
    "duration": 45,
    "start_time": "2024-06-04T08:20:41.359Z"
   },
   {
    "duration": 4267,
    "start_time": "2024-06-04T08:20:41.406Z"
   },
   {
    "duration": 25,
    "start_time": "2024-06-04T08:20:45.675Z"
   },
   {
    "duration": 55,
    "start_time": "2024-06-04T08:20:45.702Z"
   },
   {
    "duration": 35,
    "start_time": "2024-06-04T08:20:45.758Z"
   },
   {
    "duration": 41,
    "start_time": "2024-06-04T08:20:45.795Z"
   },
   {
    "duration": 48,
    "start_time": "2024-06-04T08:20:45.838Z"
   },
   {
    "duration": 16,
    "start_time": "2024-06-04T08:20:45.888Z"
   },
   {
    "duration": 428,
    "start_time": "2024-06-04T08:20:45.906Z"
   },
   {
    "duration": 59,
    "start_time": "2024-06-04T08:20:46.336Z"
   },
   {
    "duration": 17,
    "start_time": "2024-06-04T08:20:46.397Z"
   },
   {
    "duration": 215,
    "start_time": "2024-06-04T08:20:46.416Z"
   },
   {
    "duration": 230,
    "start_time": "2024-06-04T08:20:46.633Z"
   },
   {
    "duration": 126,
    "start_time": "2024-06-04T08:20:46.865Z"
   },
   {
    "duration": 4,
    "start_time": "2024-06-04T08:20:46.993Z"
   },
   {
    "duration": 4,
    "start_time": "2024-06-04T08:20:46.999Z"
   },
   {
    "duration": 983,
    "start_time": "2024-06-04T08:20:47.004Z"
   },
   {
    "duration": 79,
    "start_time": "2024-06-04T08:20:47.989Z"
   },
   {
    "duration": 653,
    "start_time": "2024-06-04T08:20:48.070Z"
   },
   {
    "duration": 40,
    "start_time": "2024-06-04T08:20:48.725Z"
   },
   {
    "duration": 6,
    "start_time": "2024-06-04T08:20:48.767Z"
   },
   {
    "duration": 1481827,
    "start_time": "2024-06-04T08:20:48.783Z"
   },
   {
    "duration": 0,
    "start_time": "2024-06-04T08:45:30.612Z"
   },
   {
    "duration": 0,
    "start_time": "2024-06-04T08:45:30.612Z"
   },
   {
    "duration": 0,
    "start_time": "2024-06-04T08:45:30.613Z"
   },
   {
    "duration": 0,
    "start_time": "2024-06-04T08:45:30.614Z"
   },
   {
    "duration": 0,
    "start_time": "2024-06-04T08:45:30.615Z"
   },
   {
    "duration": 0,
    "start_time": "2024-06-04T08:45:30.615Z"
   },
   {
    "duration": 0,
    "start_time": "2024-06-04T08:45:30.617Z"
   },
   {
    "duration": 0,
    "start_time": "2024-06-04T08:45:30.617Z"
   },
   {
    "duration": 1396,
    "start_time": "2024-06-04T08:46:52.775Z"
   },
   {
    "duration": 4,
    "start_time": "2024-06-04T08:46:54.172Z"
   },
   {
    "duration": 941,
    "start_time": "2024-06-04T08:46:56.232Z"
   },
   {
    "duration": 68,
    "start_time": "2024-06-04T08:46:57.174Z"
   },
   {
    "duration": 14,
    "start_time": "2024-06-04T08:46:57.439Z"
   },
   {
    "duration": 17,
    "start_time": "2024-06-04T08:46:57.468Z"
   },
   {
    "duration": 9,
    "start_time": "2024-06-04T08:46:57.505Z"
   },
   {
    "duration": 3,
    "start_time": "2024-06-04T08:46:57.594Z"
   },
   {
    "duration": 326,
    "start_time": "2024-06-04T08:46:57.626Z"
   },
   {
    "duration": 4,
    "start_time": "2024-06-04T08:46:57.954Z"
   },
   {
    "duration": 175,
    "start_time": "2024-06-04T08:46:57.959Z"
   },
   {
    "duration": 106,
    "start_time": "2024-06-04T08:46:58.136Z"
   },
   {
    "duration": 204,
    "start_time": "2024-06-04T08:46:58.243Z"
   },
   {
    "duration": 4,
    "start_time": "2024-06-04T08:46:58.991Z"
   },
   {
    "duration": 2143,
    "start_time": "2024-06-04T08:46:59.092Z"
   },
   {
    "duration": 17,
    "start_time": "2024-06-04T08:47:01.236Z"
   },
   {
    "duration": 71,
    "start_time": "2024-06-04T08:47:01.255Z"
   },
   {
    "duration": 19,
    "start_time": "2024-06-04T08:47:01.812Z"
   },
   {
    "duration": 2217,
    "start_time": "2024-06-04T08:47:02.649Z"
   },
   {
    "duration": 143,
    "start_time": "2024-06-04T08:47:04.868Z"
   },
   {
    "duration": 29,
    "start_time": "2024-06-04T08:47:05.920Z"
   },
   {
    "duration": 8,
    "start_time": "2024-06-04T08:47:06.424Z"
   },
   {
    "duration": 1853,
    "start_time": "2024-06-04T08:47:06.497Z"
   },
   {
    "duration": 9,
    "start_time": "2024-06-04T08:47:08.351Z"
   },
   {
    "duration": 45,
    "start_time": "2024-06-04T08:47:08.361Z"
   },
   {
    "duration": 1485,
    "start_time": "2024-06-04T08:47:08.408Z"
   },
   {
    "duration": 17,
    "start_time": "2024-06-04T08:47:09.894Z"
   },
   {
    "duration": 5,
    "start_time": "2024-06-04T08:47:09.913Z"
   },
   {
    "duration": 18,
    "start_time": "2024-06-04T08:47:09.919Z"
   },
   {
    "duration": 33,
    "start_time": "2024-06-04T08:47:10.794Z"
   },
   {
    "duration": 13,
    "start_time": "2024-06-04T08:47:11.020Z"
   },
   {
    "duration": 29,
    "start_time": "2024-06-04T08:47:12.143Z"
   },
   {
    "duration": 3751,
    "start_time": "2024-06-04T08:47:12.202Z"
   },
   {
    "duration": 22,
    "start_time": "2024-06-04T08:47:15.955Z"
   },
   {
    "duration": 54,
    "start_time": "2024-06-04T08:47:15.978Z"
   },
   {
    "duration": 28,
    "start_time": "2024-06-04T08:47:16.034Z"
   },
   {
    "duration": 40,
    "start_time": "2024-06-04T08:47:16.063Z"
   },
   {
    "duration": 29,
    "start_time": "2024-06-04T08:47:16.105Z"
   },
   {
    "duration": 14,
    "start_time": "2024-06-04T08:47:16.135Z"
   },
   {
    "duration": 377,
    "start_time": "2024-06-04T08:47:16.150Z"
   },
   {
    "duration": 37,
    "start_time": "2024-06-04T08:47:16.529Z"
   },
   {
    "duration": 26,
    "start_time": "2024-06-04T08:47:16.569Z"
   },
   {
    "duration": 210,
    "start_time": "2024-06-04T08:47:22.527Z"
   },
   {
    "duration": 192,
    "start_time": "2024-06-04T08:47:24.120Z"
   },
   {
    "duration": 106,
    "start_time": "2024-06-04T08:47:24.314Z"
   },
   {
    "duration": 3,
    "start_time": "2024-06-04T08:47:24.422Z"
   },
   {
    "duration": 5,
    "start_time": "2024-06-04T08:47:24.426Z"
   },
   {
    "duration": 919,
    "start_time": "2024-06-04T08:47:24.820Z"
   },
   {
    "duration": 73,
    "start_time": "2024-06-04T08:47:28.074Z"
   },
   {
    "duration": 52,
    "start_time": "2024-06-04T08:47:28.149Z"
   },
   {
    "duration": 37,
    "start_time": "2024-06-04T08:47:28.203Z"
   },
   {
    "duration": 8,
    "start_time": "2024-06-04T08:47:28.241Z"
   },
   {
    "duration": 1526,
    "start_time": "2024-06-04T09:00:51.905Z"
   },
   {
    "duration": 4,
    "start_time": "2024-06-04T09:00:53.432Z"
   },
   {
    "duration": 1062,
    "start_time": "2024-06-04T09:00:53.437Z"
   },
   {
    "duration": 71,
    "start_time": "2024-06-04T09:00:54.501Z"
   },
   {
    "duration": 24,
    "start_time": "2024-06-04T09:00:54.574Z"
   },
   {
    "duration": 17,
    "start_time": "2024-06-04T09:00:54.599Z"
   },
   {
    "duration": 10,
    "start_time": "2024-06-04T09:00:54.617Z"
   },
   {
    "duration": 3,
    "start_time": "2024-06-04T09:00:54.629Z"
   },
   {
    "duration": 371,
    "start_time": "2024-06-04T09:00:54.633Z"
   },
   {
    "duration": 5,
    "start_time": "2024-06-04T09:00:55.006Z"
   },
   {
    "duration": 215,
    "start_time": "2024-06-04T09:00:55.012Z"
   },
   {
    "duration": 133,
    "start_time": "2024-06-04T09:00:55.230Z"
   },
   {
    "duration": 228,
    "start_time": "2024-06-04T09:00:55.365Z"
   },
   {
    "duration": 5,
    "start_time": "2024-06-04T09:00:55.594Z"
   },
   {
    "duration": 2375,
    "start_time": "2024-06-04T09:00:55.600Z"
   },
   {
    "duration": 73,
    "start_time": "2024-06-04T09:00:57.976Z"
   },
   {
    "duration": 21,
    "start_time": "2024-06-04T09:00:58.051Z"
   },
   {
    "duration": 27,
    "start_time": "2024-06-04T09:00:58.073Z"
   },
   {
    "duration": 2070,
    "start_time": "2024-06-04T09:00:58.101Z"
   },
   {
    "duration": 167,
    "start_time": "2024-06-04T09:01:00.173Z"
   },
   {
    "duration": 31,
    "start_time": "2024-06-04T09:01:00.341Z"
   },
   {
    "duration": 86,
    "start_time": "2024-06-04T09:01:00.373Z"
   },
   {
    "duration": 2250,
    "start_time": "2024-06-04T09:01:00.461Z"
   },
   {
    "duration": 10,
    "start_time": "2024-06-04T09:01:02.713Z"
   },
   {
    "duration": 85,
    "start_time": "2024-06-04T09:01:02.724Z"
   },
   {
    "duration": 1567,
    "start_time": "2024-06-04T09:01:02.811Z"
   },
   {
    "duration": 17,
    "start_time": "2024-06-04T09:01:04.379Z"
   },
   {
    "duration": 10,
    "start_time": "2024-06-04T09:01:04.400Z"
   },
   {
    "duration": 8,
    "start_time": "2024-06-04T09:01:04.411Z"
   },
   {
    "duration": 34,
    "start_time": "2024-06-04T09:01:04.420Z"
   },
   {
    "duration": 17,
    "start_time": "2024-06-04T09:01:04.455Z"
   },
   {
    "duration": 64,
    "start_time": "2024-06-04T09:01:04.484Z"
   },
   {
    "duration": 4081,
    "start_time": "2024-06-04T09:01:04.550Z"
   },
   {
    "duration": 26,
    "start_time": "2024-06-04T09:01:08.632Z"
   },
   {
    "duration": 64,
    "start_time": "2024-06-04T09:01:08.659Z"
   },
   {
    "duration": 36,
    "start_time": "2024-06-04T09:01:08.724Z"
   },
   {
    "duration": 50,
    "start_time": "2024-06-04T09:01:08.761Z"
   },
   {
    "duration": 32,
    "start_time": "2024-06-04T09:01:08.813Z"
   },
   {
    "duration": 16,
    "start_time": "2024-06-04T09:01:08.846Z"
   },
   {
    "duration": 380,
    "start_time": "2024-06-04T09:01:08.863Z"
   },
   {
    "duration": 42,
    "start_time": "2024-06-04T09:01:09.244Z"
   },
   {
    "duration": 15,
    "start_time": "2024-06-04T09:01:09.287Z"
   },
   {
    "duration": 189,
    "start_time": "2024-06-04T09:01:09.303Z"
   },
   {
    "duration": 210,
    "start_time": "2024-06-04T09:01:09.493Z"
   },
   {
    "duration": 112,
    "start_time": "2024-06-04T09:01:09.704Z"
   },
   {
    "duration": 2,
    "start_time": "2024-06-04T09:01:09.817Z"
   },
   {
    "duration": 3,
    "start_time": "2024-06-04T09:01:09.821Z"
   },
   {
    "duration": 928,
    "start_time": "2024-06-04T09:01:09.825Z"
   },
   {
    "duration": 81,
    "start_time": "2024-06-04T09:01:10.754Z"
   },
   {
    "duration": 50,
    "start_time": "2024-06-04T09:01:10.837Z"
   },
   {
    "duration": 48,
    "start_time": "2024-06-04T09:01:10.888Z"
   },
   {
    "duration": 5,
    "start_time": "2024-06-04T09:01:10.938Z"
   },
   {
    "duration": 359838,
    "start_time": "2024-06-04T09:01:10.944Z"
   },
   {
    "duration": 125,
    "start_time": "2024-06-04T09:07:10.784Z"
   },
   {
    "duration": 2,
    "start_time": "2024-06-04T09:07:10.911Z"
   },
   {
    "duration": 66,
    "start_time": "2024-06-04T09:07:10.914Z"
   },
   {
    "duration": 47,
    "start_time": "2024-06-04T09:07:10.981Z"
   },
   {
    "duration": 104,
    "start_time": "2024-06-04T09:07:11.030Z"
   },
   {
    "duration": 24533,
    "start_time": "2024-06-04T09:07:11.135Z"
   },
   {
    "duration": 3113,
    "start_time": "2024-06-04T09:07:35.670Z"
   },
   {
    "duration": 5,
    "start_time": "2024-06-04T09:07:38.785Z"
   },
   {
    "duration": 97,
    "start_time": "2024-06-04T09:08:50.767Z"
   },
   {
    "duration": 26708,
    "start_time": "2024-06-04T09:08:52.660Z"
   },
   {
    "duration": 3129,
    "start_time": "2024-06-04T09:09:19.370Z"
   },
   {
    "duration": 9,
    "start_time": "2024-06-04T09:09:22.500Z"
   },
   {
    "duration": 30,
    "start_time": "2024-06-04T09:09:38.907Z"
   },
   {
    "duration": 21,
    "start_time": "2024-06-04T09:10:02.292Z"
   },
   {
    "duration": 4,
    "start_time": "2024-06-04T09:12:28.290Z"
   },
   {
    "duration": 5,
    "start_time": "2024-06-04T09:14:50.508Z"
   },
   {
    "duration": 158,
    "start_time": "2024-06-04T09:14:54.567Z"
   },
   {
    "duration": 6,
    "start_time": "2024-06-04T09:16:57.866Z"
   },
   {
    "duration": 60,
    "start_time": "2024-06-04T09:17:00.231Z"
   },
   {
    "duration": 6,
    "start_time": "2024-06-04T09:17:13.820Z"
   },
   {
    "duration": 6487,
    "start_time": "2024-06-04T09:52:41.928Z"
   },
   {
    "duration": 25934,
    "start_time": "2024-06-04T09:52:48.417Z"
   },
   {
    "duration": 1450,
    "start_time": "2024-06-04T09:53:14.353Z"
   },
   {
    "duration": 3,
    "start_time": "2024-06-04T09:53:15.805Z"
   },
   {
    "duration": 949,
    "start_time": "2024-06-04T09:53:15.809Z"
   },
   {
    "duration": 75,
    "start_time": "2024-06-04T09:53:16.760Z"
   },
   {
    "duration": 15,
    "start_time": "2024-06-04T09:53:16.836Z"
   },
   {
    "duration": 49,
    "start_time": "2024-06-04T09:53:16.852Z"
   },
   {
    "duration": 43,
    "start_time": "2024-06-04T09:53:16.902Z"
   },
   {
    "duration": 25,
    "start_time": "2024-06-04T09:53:16.948Z"
   },
   {
    "duration": 341,
    "start_time": "2024-06-04T09:53:16.974Z"
   },
   {
    "duration": 5,
    "start_time": "2024-06-04T09:53:17.316Z"
   },
   {
    "duration": 187,
    "start_time": "2024-06-04T09:53:17.322Z"
   },
   {
    "duration": 118,
    "start_time": "2024-06-04T09:53:17.511Z"
   },
   {
    "duration": 217,
    "start_time": "2024-06-04T09:53:17.630Z"
   },
   {
    "duration": 5,
    "start_time": "2024-06-04T09:53:17.848Z"
   },
   {
    "duration": 2056,
    "start_time": "2024-06-04T09:53:17.854Z"
   },
   {
    "duration": 13,
    "start_time": "2024-06-04T09:53:19.912Z"
   },
   {
    "duration": 33,
    "start_time": "2024-06-04T09:53:19.926Z"
   },
   {
    "duration": 26,
    "start_time": "2024-06-04T09:53:19.960Z"
   },
   {
    "duration": 2017,
    "start_time": "2024-06-04T09:53:19.987Z"
   },
   {
    "duration": 139,
    "start_time": "2024-06-04T09:53:22.006Z"
   },
   {
    "duration": 38,
    "start_time": "2024-06-04T09:53:22.146Z"
   },
   {
    "duration": 8,
    "start_time": "2024-06-04T09:53:22.186Z"
   },
   {
    "duration": 1902,
    "start_time": "2024-06-04T09:53:22.195Z"
   },
   {
    "duration": 10,
    "start_time": "2024-06-04T09:53:24.099Z"
   },
   {
    "duration": 34,
    "start_time": "2024-06-04T09:53:24.111Z"
   },
   {
    "duration": 1519,
    "start_time": "2024-06-04T09:53:24.148Z"
   },
   {
    "duration": 18,
    "start_time": "2024-06-04T09:53:25.669Z"
   },
   {
    "duration": 5,
    "start_time": "2024-06-04T09:53:25.689Z"
   },
   {
    "duration": 21,
    "start_time": "2024-06-04T09:53:25.695Z"
   },
   {
    "duration": 36,
    "start_time": "2024-06-04T09:53:25.717Z"
   },
   {
    "duration": 15,
    "start_time": "2024-06-04T09:53:25.754Z"
   },
   {
    "duration": 30,
    "start_time": "2024-06-04T09:53:25.770Z"
   },
   {
    "duration": 3641,
    "start_time": "2024-06-04T09:53:25.801Z"
   },
   {
    "duration": 23,
    "start_time": "2024-06-04T09:53:29.443Z"
   },
   {
    "duration": 47,
    "start_time": "2024-06-04T09:53:29.467Z"
   },
   {
    "duration": 28,
    "start_time": "2024-06-04T09:53:29.516Z"
   },
   {
    "duration": 61,
    "start_time": "2024-06-04T09:53:29.545Z"
   },
   {
    "duration": 29,
    "start_time": "2024-06-04T09:53:29.607Z"
   },
   {
    "duration": 13,
    "start_time": "2024-06-04T09:53:29.637Z"
   },
   {
    "duration": 370,
    "start_time": "2024-06-04T09:53:29.651Z"
   },
   {
    "duration": 40,
    "start_time": "2024-06-04T09:53:30.022Z"
   },
   {
    "duration": 26,
    "start_time": "2024-06-04T09:53:30.063Z"
   },
   {
    "duration": 224,
    "start_time": "2024-06-04T09:53:30.090Z"
   },
   {
    "duration": 204,
    "start_time": "2024-06-04T09:53:30.315Z"
   },
   {
    "duration": 119,
    "start_time": "2024-06-04T09:53:30.521Z"
   },
   {
    "duration": 3,
    "start_time": "2024-06-04T09:53:30.641Z"
   },
   {
    "duration": 136,
    "start_time": "2024-06-04T09:53:30.645Z"
   },
   {
    "duration": 940,
    "start_time": "2024-06-04T09:53:30.782Z"
   },
   {
    "duration": 76,
    "start_time": "2024-06-04T09:53:31.723Z"
   },
   {
    "duration": 45,
    "start_time": "2024-06-04T09:53:31.800Z"
   },
   {
    "duration": 53,
    "start_time": "2024-06-04T09:53:31.846Z"
   },
   {
    "duration": 5,
    "start_time": "2024-06-04T09:55:24.397Z"
   },
   {
    "duration": 392000,
    "start_time": "2024-06-04T09:55:27.933Z"
   },
   {
    "duration": 103,
    "start_time": "2024-06-04T10:01:59.935Z"
   },
   {
    "duration": 2,
    "start_time": "2024-06-04T10:02:00.039Z"
   },
   {
    "duration": 62,
    "start_time": "2024-06-04T10:02:00.043Z"
   },
   {
    "duration": 26,
    "start_time": "2024-06-04T10:02:41.250Z"
   },
   {
    "duration": 43,
    "start_time": "2024-06-04T10:03:53.265Z"
   },
   {
    "duration": 93,
    "start_time": "2024-06-04T10:04:10.185Z"
   },
   {
    "duration": 102,
    "start_time": "2024-06-04T10:05:00.990Z"
   },
   {
    "duration": 109153,
    "start_time": "2024-06-04T10:05:03.645Z"
   },
   {
    "duration": 2917,
    "start_time": "2024-06-04T10:06:52.799Z"
   },
   {
    "duration": 4,
    "start_time": "2024-06-04T10:06:55.784Z"
   },
   {
    "duration": 4994,
    "start_time": "2024-06-04T11:22:37.560Z"
   },
   {
    "duration": 5002,
    "start_time": "2024-06-04T11:23:00.091Z"
   },
   {
    "duration": 24000,
    "start_time": "2024-06-04T11:23:05.096Z"
   },
   {
    "duration": 8076,
    "start_time": "2024-06-04T11:23:45.365Z"
   },
   {
    "duration": 22195,
    "start_time": "2024-06-04T11:23:53.443Z"
   },
   {
    "duration": 7997,
    "start_time": "2024-06-04T11:24:15.640Z"
   },
   {
    "duration": 1387,
    "start_time": "2024-06-04T11:29:32.991Z"
   },
   {
    "duration": 6,
    "start_time": "2024-06-04T11:29:34.379Z"
   },
   {
    "duration": 907,
    "start_time": "2024-06-04T11:29:35.632Z"
   },
   {
    "duration": 66,
    "start_time": "2024-06-04T11:29:36.540Z"
   },
   {
    "duration": 14,
    "start_time": "2024-06-04T11:29:36.607Z"
   },
   {
    "duration": 18,
    "start_time": "2024-06-04T11:29:36.623Z"
   },
   {
    "duration": 9,
    "start_time": "2024-06-04T11:29:36.642Z"
   },
   {
    "duration": 3,
    "start_time": "2024-06-04T11:29:37.868Z"
   },
   {
    "duration": 308,
    "start_time": "2024-06-04T11:29:37.899Z"
   },
   {
    "duration": 4,
    "start_time": "2024-06-04T11:29:38.208Z"
   },
   {
    "duration": 181,
    "start_time": "2024-06-04T11:29:38.213Z"
   },
   {
    "duration": 106,
    "start_time": "2024-06-04T11:29:38.395Z"
   },
   {
    "duration": 194,
    "start_time": "2024-06-04T11:29:38.711Z"
   },
   {
    "duration": 4,
    "start_time": "2024-06-04T11:29:38.914Z"
   },
   {
    "duration": 2101,
    "start_time": "2024-06-04T11:29:40.953Z"
   },
   {
    "duration": 13,
    "start_time": "2024-06-04T11:29:43.055Z"
   },
   {
    "duration": 37,
    "start_time": "2024-06-04T11:29:43.070Z"
   },
   {
    "duration": 18,
    "start_time": "2024-06-04T11:29:43.109Z"
   },
   {
    "duration": 2007,
    "start_time": "2024-06-04T11:29:43.129Z"
   },
   {
    "duration": 140,
    "start_time": "2024-06-04T11:29:45.137Z"
   },
   {
    "duration": 32,
    "start_time": "2024-06-04T11:29:45.279Z"
   },
   {
    "duration": 50,
    "start_time": "2024-06-04T11:29:45.312Z"
   },
   {
    "duration": 1834,
    "start_time": "2024-06-04T11:29:46.892Z"
   },
   {
    "duration": 9,
    "start_time": "2024-06-04T11:29:48.727Z"
   },
   {
    "duration": 29,
    "start_time": "2024-06-04T11:29:48.738Z"
   },
   {
    "duration": 1378,
    "start_time": "2024-06-04T11:29:49.034Z"
   },
   {
    "duration": 15,
    "start_time": "2024-06-04T11:29:50.414Z"
   },
   {
    "duration": 4,
    "start_time": "2024-06-04T11:29:50.431Z"
   },
   {
    "duration": 3,
    "start_time": "2024-06-04T11:29:51.482Z"
   },
   {
    "duration": 32,
    "start_time": "2024-06-04T11:29:53.313Z"
   },
   {
    "duration": 14,
    "start_time": "2024-06-04T11:29:53.859Z"
   },
   {
    "duration": 30,
    "start_time": "2024-06-04T11:29:53.922Z"
   },
   {
    "duration": 3683,
    "start_time": "2024-06-04T11:29:53.989Z"
   },
   {
    "duration": 25,
    "start_time": "2024-06-04T11:29:57.673Z"
   },
   {
    "duration": 41,
    "start_time": "2024-06-04T11:29:57.699Z"
   },
   {
    "duration": 27,
    "start_time": "2024-06-04T11:29:57.742Z"
   },
   {
    "duration": 36,
    "start_time": "2024-06-04T11:29:57.784Z"
   },
   {
    "duration": 28,
    "start_time": "2024-06-04T11:29:57.822Z"
   },
   {
    "duration": 13,
    "start_time": "2024-06-04T11:29:57.851Z"
   },
   {
    "duration": 359,
    "start_time": "2024-06-04T11:29:57.865Z"
   },
   {
    "duration": 35,
    "start_time": "2024-06-04T11:29:58.226Z"
   },
   {
    "duration": 21,
    "start_time": "2024-06-04T11:29:58.263Z"
   },
   {
    "duration": 184,
    "start_time": "2024-06-04T11:29:58.285Z"
   },
   {
    "duration": 188,
    "start_time": "2024-06-04T11:29:58.471Z"
   },
   {
    "duration": 149,
    "start_time": "2024-06-04T11:29:58.660Z"
   },
   {
    "duration": 3,
    "start_time": "2024-06-04T11:29:58.810Z"
   },
   {
    "duration": 4,
    "start_time": "2024-06-04T11:29:58.814Z"
   },
   {
    "duration": 904,
    "start_time": "2024-06-04T11:29:58.819Z"
   },
   {
    "duration": 72,
    "start_time": "2024-06-04T11:30:18.487Z"
   },
   {
    "duration": 47,
    "start_time": "2024-06-04T11:30:18.997Z"
   },
   {
    "duration": 42,
    "start_time": "2024-06-04T11:30:20.016Z"
   },
   {
    "duration": 110,
    "start_time": "2024-06-04T11:30:31.099Z"
   },
   {
    "duration": 55,
    "start_time": "2024-06-04T11:30:48.409Z"
   },
   {
    "duration": 14285,
    "start_time": "2024-06-04T11:30:54.799Z"
   },
   {
    "duration": 0,
    "start_time": "2024-06-04T11:31:09.085Z"
   },
   {
    "duration": 0,
    "start_time": "2024-06-04T11:31:09.086Z"
   },
   {
    "duration": 0,
    "start_time": "2024-06-04T11:31:09.087Z"
   },
   {
    "duration": 3,
    "start_time": "2024-06-04T11:32:33.799Z"
   },
   {
    "duration": 7,
    "start_time": "2024-06-04T12:20:32.512Z"
   },
   {
    "duration": 14358,
    "start_time": "2024-06-04T12:20:35.234Z"
   },
   {
    "duration": 14,
    "start_time": "2024-06-04T12:27:17.550Z"
   },
   {
    "duration": 12,
    "start_time": "2024-06-04T12:27:27.778Z"
   },
   {
    "duration": 1500,
    "start_time": "2024-06-04T12:47:42.497Z"
   },
   {
    "duration": 4,
    "start_time": "2024-06-04T12:47:43.999Z"
   },
   {
    "duration": 997,
    "start_time": "2024-06-04T12:47:45.779Z"
   },
   {
    "duration": 74,
    "start_time": "2024-06-04T12:47:46.784Z"
   },
   {
    "duration": 15,
    "start_time": "2024-06-04T12:47:48.220Z"
   },
   {
    "duration": 16,
    "start_time": "2024-06-04T12:47:48.725Z"
   },
   {
    "duration": 10,
    "start_time": "2024-06-04T12:47:48.773Z"
   },
   {
    "duration": 3,
    "start_time": "2024-06-04T12:47:48.899Z"
   },
   {
    "duration": 354,
    "start_time": "2024-06-04T12:47:48.925Z"
   },
   {
    "duration": 13,
    "start_time": "2024-06-04T12:47:49.284Z"
   },
   {
    "duration": 203,
    "start_time": "2024-06-04T12:47:49.298Z"
   },
   {
    "duration": 122,
    "start_time": "2024-06-04T12:47:49.503Z"
   },
   {
    "duration": 224,
    "start_time": "2024-06-04T12:47:49.627Z"
   },
   {
    "duration": 4,
    "start_time": "2024-06-04T12:47:49.852Z"
   },
   {
    "duration": 2338,
    "start_time": "2024-06-04T12:47:50.270Z"
   },
   {
    "duration": 14,
    "start_time": "2024-06-04T12:47:52.611Z"
   },
   {
    "duration": 31,
    "start_time": "2024-06-04T12:47:52.627Z"
   },
   {
    "duration": 47,
    "start_time": "2024-06-04T12:47:52.660Z"
   },
   {
    "duration": 2164,
    "start_time": "2024-06-04T12:47:52.709Z"
   },
   {
    "duration": 153,
    "start_time": "2024-06-04T12:47:54.874Z"
   },
   {
    "duration": 29,
    "start_time": "2024-06-04T12:47:55.028Z"
   },
   {
    "duration": 15,
    "start_time": "2024-06-04T12:47:55.059Z"
   },
   {
    "duration": 2001,
    "start_time": "2024-06-04T12:47:56.900Z"
   },
   {
    "duration": 10,
    "start_time": "2024-06-04T12:48:00.021Z"
   },
   {
    "duration": 30,
    "start_time": "2024-06-04T12:48:01.832Z"
   },
   {
    "duration": 1507,
    "start_time": "2024-06-04T12:48:04.863Z"
   },
   {
    "duration": 26,
    "start_time": "2024-06-04T12:48:06.372Z"
   },
   {
    "duration": 5,
    "start_time": "2024-06-04T12:48:08.115Z"
   },
   {
    "duration": 3,
    "start_time": "2024-06-04T12:48:09.932Z"
   },
   {
    "duration": 35,
    "start_time": "2024-06-04T12:48:10.739Z"
   },
   {
    "duration": 16,
    "start_time": "2024-06-04T12:48:12.558Z"
   },
   {
    "duration": 463,
    "start_time": "2024-06-04T12:50:03.211Z"
   },
   {
    "duration": 495,
    "start_time": "2024-06-04T12:50:29.806Z"
   },
   {
    "duration": 467,
    "start_time": "2024-06-04T12:50:41.041Z"
   },
   {
    "duration": 15,
    "start_time": "2024-06-04T12:51:07.322Z"
   },
   {
    "duration": 20,
    "start_time": "2024-06-04T12:51:19.145Z"
   },
   {
    "duration": 27,
    "start_time": "2024-06-04T12:58:58.849Z"
   },
   {
    "duration": 18,
    "start_time": "2024-06-04T12:59:07.546Z"
   },
   {
    "duration": 28,
    "start_time": "2024-06-04T12:59:20.805Z"
   },
   {
    "duration": 30,
    "start_time": "2024-06-04T13:00:02.330Z"
   },
   {
    "duration": 1454,
    "start_time": "2024-06-04T13:00:15.277Z"
   },
   {
    "duration": 4,
    "start_time": "2024-06-04T13:00:16.733Z"
   },
   {
    "duration": 990,
    "start_time": "2024-06-04T13:00:16.739Z"
   },
   {
    "duration": 84,
    "start_time": "2024-06-04T13:00:17.731Z"
   },
   {
    "duration": 16,
    "start_time": "2024-06-04T13:00:17.816Z"
   },
   {
    "duration": 30,
    "start_time": "2024-06-04T13:00:17.833Z"
   },
   {
    "duration": 28,
    "start_time": "2024-06-04T13:00:17.864Z"
   },
   {
    "duration": 29,
    "start_time": "2024-06-04T13:00:17.893Z"
   },
   {
    "duration": 361,
    "start_time": "2024-06-04T13:00:17.924Z"
   },
   {
    "duration": 14,
    "start_time": "2024-06-04T13:00:18.287Z"
   },
   {
    "duration": 166,
    "start_time": "2024-06-04T13:00:18.302Z"
   },
   {
    "duration": 104,
    "start_time": "2024-06-04T13:00:18.469Z"
   },
   {
    "duration": 225,
    "start_time": "2024-06-04T13:00:18.574Z"
   },
   {
    "duration": 4,
    "start_time": "2024-06-04T13:00:18.801Z"
   },
   {
    "duration": 2275,
    "start_time": "2024-06-04T13:00:18.806Z"
   },
   {
    "duration": 19,
    "start_time": "2024-06-04T13:00:21.084Z"
   },
   {
    "duration": 36,
    "start_time": "2024-06-04T13:00:21.105Z"
   },
   {
    "duration": 20,
    "start_time": "2024-06-04T13:00:21.142Z"
   },
   {
    "duration": 2236,
    "start_time": "2024-06-04T13:00:21.163Z"
   },
   {
    "duration": 143,
    "start_time": "2024-06-04T13:00:23.401Z"
   },
   {
    "duration": 28,
    "start_time": "2024-06-04T13:00:23.546Z"
   },
   {
    "duration": 9,
    "start_time": "2024-06-04T13:00:23.589Z"
   },
   {
    "duration": 2072,
    "start_time": "2024-06-04T13:00:23.599Z"
   },
   {
    "duration": 16,
    "start_time": "2024-06-04T13:00:25.674Z"
   },
   {
    "duration": 36,
    "start_time": "2024-06-04T13:00:25.701Z"
   },
   {
    "duration": 1458,
    "start_time": "2024-06-04T13:00:25.739Z"
   },
   {
    "duration": 15,
    "start_time": "2024-06-04T13:00:27.199Z"
   },
   {
    "duration": 7,
    "start_time": "2024-06-04T13:00:27.215Z"
   },
   {
    "duration": 5,
    "start_time": "2024-06-04T13:00:27.223Z"
   },
   {
    "duration": 35,
    "start_time": "2024-06-04T13:00:27.229Z"
   },
   {
    "duration": 39,
    "start_time": "2024-06-04T13:00:27.265Z"
   },
   {
    "duration": 41,
    "start_time": "2024-06-04T13:00:27.305Z"
   },
   {
    "duration": 3857,
    "start_time": "2024-06-04T13:00:27.347Z"
   },
   {
    "duration": 22,
    "start_time": "2024-06-04T13:00:31.205Z"
   },
   {
    "duration": 96,
    "start_time": "2024-06-04T13:00:31.229Z"
   },
   {
    "duration": 42,
    "start_time": "2024-06-04T13:00:31.326Z"
   },
   {
    "duration": 41,
    "start_time": "2024-06-04T13:00:31.369Z"
   },
   {
    "duration": 40,
    "start_time": "2024-06-04T13:00:31.412Z"
   },
   {
    "duration": 14,
    "start_time": "2024-06-04T13:00:31.453Z"
   },
   {
    "duration": 389,
    "start_time": "2024-06-04T13:00:31.469Z"
   },
   {
    "duration": 50,
    "start_time": "2024-06-04T13:00:31.859Z"
   },
   {
    "duration": 15,
    "start_time": "2024-06-04T13:00:31.910Z"
   },
   {
    "duration": 474,
    "start_time": "2024-06-04T13:00:31.927Z"
   },
   {
    "duration": 20,
    "start_time": "2024-06-04T13:00:32.402Z"
   },
   {
    "duration": 26,
    "start_time": "2024-06-04T13:00:32.423Z"
   },
   {
    "duration": 18,
    "start_time": "2024-06-04T13:00:32.451Z"
   },
   {
    "duration": 197,
    "start_time": "2024-06-04T13:00:32.485Z"
   },
   {
    "duration": 218,
    "start_time": "2024-06-04T13:00:32.683Z"
   },
   {
    "duration": 127,
    "start_time": "2024-06-04T13:00:32.902Z"
   },
   {
    "duration": 3,
    "start_time": "2024-06-04T13:00:33.032Z"
   },
   {
    "duration": 4,
    "start_time": "2024-06-04T13:00:33.036Z"
   },
   {
    "duration": 887,
    "start_time": "2024-06-04T13:00:33.041Z"
   },
   {
    "duration": 90,
    "start_time": "2024-06-04T13:00:33.929Z"
   },
   {
    "duration": 44,
    "start_time": "2024-06-04T13:00:34.020Z"
   },
   {
    "duration": 145,
    "start_time": "2024-06-04T13:00:46.652Z"
   },
   {
    "duration": 43,
    "start_time": "2024-06-04T13:00:53.209Z"
   },
   {
    "duration": 4,
    "start_time": "2024-06-04T13:00:53.957Z"
   },
   {
    "duration": 6,
    "start_time": "2024-06-04T13:00:54.532Z"
   },
   {
    "duration": 192026,
    "start_time": "2024-06-04T13:01:13.816Z"
   },
   {
    "duration": 6,
    "start_time": "2024-06-04T13:06:45.562Z"
   },
   {
    "duration": 828,
    "start_time": "2024-06-04T13:20:53.859Z"
   },
   {
    "duration": 630,
    "start_time": "2024-06-04T13:21:13.254Z"
   },
   {
    "duration": 4,
    "start_time": "2024-06-04T13:21:13.885Z"
   },
   {
    "duration": 918,
    "start_time": "2024-06-04T13:21:13.896Z"
   },
   {
    "duration": 75,
    "start_time": "2024-06-04T13:21:14.815Z"
   },
   {
    "duration": 13,
    "start_time": "2024-06-04T13:21:14.892Z"
   },
   {
    "duration": 31,
    "start_time": "2024-06-04T13:21:14.906Z"
   },
   {
    "duration": 10,
    "start_time": "2024-06-04T13:21:14.939Z"
   },
   {
    "duration": 33,
    "start_time": "2024-06-04T13:21:14.950Z"
   },
   {
    "duration": 375,
    "start_time": "2024-06-04T13:21:14.985Z"
   },
   {
    "duration": 5,
    "start_time": "2024-06-04T13:21:15.361Z"
   },
   {
    "duration": 196,
    "start_time": "2024-06-04T13:21:15.367Z"
   },
   {
    "duration": 120,
    "start_time": "2024-06-04T13:21:15.565Z"
   },
   {
    "duration": 207,
    "start_time": "2024-06-04T13:21:15.686Z"
   },
   {
    "duration": 4,
    "start_time": "2024-06-04T13:21:15.894Z"
   },
   {
    "duration": 2297,
    "start_time": "2024-06-04T13:21:15.899Z"
   },
   {
    "duration": 13,
    "start_time": "2024-06-04T13:21:18.197Z"
   },
   {
    "duration": 40,
    "start_time": "2024-06-04T13:21:18.211Z"
   },
   {
    "duration": 18,
    "start_time": "2024-06-04T13:21:18.253Z"
   },
   {
    "duration": 2118,
    "start_time": "2024-06-04T13:21:18.272Z"
   },
   {
    "duration": 136,
    "start_time": "2024-06-04T13:21:20.391Z"
   },
   {
    "duration": 29,
    "start_time": "2024-06-04T13:21:20.528Z"
   },
   {
    "duration": 7,
    "start_time": "2024-06-04T13:21:20.558Z"
   },
   {
    "duration": 1858,
    "start_time": "2024-06-04T13:21:20.566Z"
   },
   {
    "duration": 9,
    "start_time": "2024-06-04T13:21:22.425Z"
   },
   {
    "duration": 49,
    "start_time": "2024-06-04T13:21:22.435Z"
   },
   {
    "duration": 1392,
    "start_time": "2024-06-04T13:21:22.486Z"
   },
   {
    "duration": 18,
    "start_time": "2024-06-04T13:21:23.880Z"
   },
   {
    "duration": 5,
    "start_time": "2024-06-04T13:21:23.900Z"
   },
   {
    "duration": 3,
    "start_time": "2024-06-04T13:21:23.909Z"
   },
   {
    "duration": 42,
    "start_time": "2024-06-04T13:21:23.913Z"
   },
   {
    "duration": 31,
    "start_time": "2024-06-04T13:21:23.957Z"
   },
   {
    "duration": 28,
    "start_time": "2024-06-04T13:21:23.989Z"
   },
   {
    "duration": 3745,
    "start_time": "2024-06-04T13:21:24.018Z"
   },
   {
    "duration": 31,
    "start_time": "2024-06-04T13:21:27.764Z"
   },
   {
    "duration": 53,
    "start_time": "2024-06-04T13:21:27.796Z"
   },
   {
    "duration": 28,
    "start_time": "2024-06-04T13:21:27.850Z"
   },
   {
    "duration": 39,
    "start_time": "2024-06-04T13:21:27.879Z"
   },
   {
    "duration": 29,
    "start_time": "2024-06-04T13:21:27.919Z"
   },
   {
    "duration": 14,
    "start_time": "2024-06-04T13:21:27.949Z"
   },
   {
    "duration": 356,
    "start_time": "2024-06-04T13:21:27.964Z"
   },
   {
    "duration": 34,
    "start_time": "2024-06-04T13:21:28.321Z"
   },
   {
    "duration": 14,
    "start_time": "2024-06-04T13:21:28.357Z"
   },
   {
    "duration": 497,
    "start_time": "2024-06-04T13:21:28.372Z"
   },
   {
    "duration": 23,
    "start_time": "2024-06-04T13:21:28.871Z"
   },
   {
    "duration": 28,
    "start_time": "2024-06-04T13:21:28.895Z"
   },
   {
    "duration": 18,
    "start_time": "2024-06-04T13:21:28.924Z"
   },
   {
    "duration": 190,
    "start_time": "2024-06-04T13:21:28.943Z"
   },
   {
    "duration": 190,
    "start_time": "2024-06-04T13:21:29.134Z"
   },
   {
    "duration": 149,
    "start_time": "2024-06-04T13:21:29.325Z"
   },
   {
    "duration": 3,
    "start_time": "2024-06-04T13:21:29.475Z"
   },
   {
    "duration": 3,
    "start_time": "2024-06-04T13:21:29.484Z"
   },
   {
    "duration": 858,
    "start_time": "2024-06-04T13:21:29.488Z"
   },
   {
    "duration": 82,
    "start_time": "2024-06-04T13:21:30.348Z"
   },
   {
    "duration": 44,
    "start_time": "2024-06-04T13:21:30.432Z"
   },
   {
    "duration": 41,
    "start_time": "2024-06-04T13:21:30.484Z"
   },
   {
    "duration": 24,
    "start_time": "2024-06-04T13:21:30.526Z"
   },
   {
    "duration": 52,
    "start_time": "2024-06-04T13:21:30.551Z"
   },
   {
    "duration": 4994,
    "start_time": "2024-06-04T13:29:11.875Z"
   },
   {
    "duration": 7,
    "start_time": "2024-06-04T13:29:16.871Z"
   },
   {
    "duration": 1436,
    "start_time": "2024-06-04T13:29:16.880Z"
   },
   {
    "duration": 93,
    "start_time": "2024-06-04T13:29:18.318Z"
   },
   {
    "duration": 21,
    "start_time": "2024-06-04T13:29:18.413Z"
   },
   {
    "duration": 21,
    "start_time": "2024-06-04T13:29:18.436Z"
   },
   {
    "duration": 22,
    "start_time": "2024-06-04T13:29:18.458Z"
   },
   {
    "duration": 20,
    "start_time": "2024-06-04T13:29:18.482Z"
   },
   {
    "duration": 375,
    "start_time": "2024-06-04T13:29:18.503Z"
   },
   {
    "duration": 5,
    "start_time": "2024-06-04T13:29:18.884Z"
   },
   {
    "duration": 212,
    "start_time": "2024-06-04T13:29:18.891Z"
   },
   {
    "duration": 127,
    "start_time": "2024-06-04T13:29:19.104Z"
   },
   {
    "duration": 249,
    "start_time": "2024-06-04T13:29:19.232Z"
   },
   {
    "duration": 6,
    "start_time": "2024-06-04T13:29:19.484Z"
   },
   {
    "duration": 2652,
    "start_time": "2024-06-04T13:29:19.491Z"
   },
   {
    "duration": 15,
    "start_time": "2024-06-04T13:29:22.144Z"
   },
   {
    "duration": 39,
    "start_time": "2024-06-04T13:29:22.161Z"
   },
   {
    "duration": 21,
    "start_time": "2024-06-04T13:29:22.202Z"
   },
   {
    "duration": 2441,
    "start_time": "2024-06-04T13:29:22.224Z"
   },
   {
    "duration": 187,
    "start_time": "2024-06-04T13:29:24.667Z"
   },
   {
    "duration": 39,
    "start_time": "2024-06-04T13:29:24.856Z"
   },
   {
    "duration": 9,
    "start_time": "2024-06-04T13:29:24.897Z"
   },
   {
    "duration": 2169,
    "start_time": "2024-06-04T13:29:24.907Z"
   },
   {
    "duration": 10,
    "start_time": "2024-06-04T13:29:27.077Z"
   },
   {
    "duration": 39,
    "start_time": "2024-06-04T13:29:27.089Z"
   },
   {
    "duration": 1652,
    "start_time": "2024-06-04T13:29:27.129Z"
   },
   {
    "duration": 23,
    "start_time": "2024-06-04T13:29:28.783Z"
   },
   {
    "duration": 7,
    "start_time": "2024-06-04T13:29:28.810Z"
   },
   {
    "duration": 25,
    "start_time": "2024-06-04T13:29:28.818Z"
   },
   {
    "duration": 59,
    "start_time": "2024-06-04T13:29:28.844Z"
   },
   {
    "duration": 15,
    "start_time": "2024-06-04T13:29:28.904Z"
   },
   {
    "duration": 31,
    "start_time": "2024-06-04T13:29:28.920Z"
   },
   {
    "duration": 4404,
    "start_time": "2024-06-04T13:29:28.953Z"
   },
   {
    "duration": 31,
    "start_time": "2024-06-04T13:29:33.358Z"
   },
   {
    "duration": 46,
    "start_time": "2024-06-04T13:29:33.390Z"
   },
   {
    "duration": 29,
    "start_time": "2024-06-04T13:29:33.438Z"
   },
   {
    "duration": 54,
    "start_time": "2024-06-04T13:29:33.484Z"
   },
   {
    "duration": 32,
    "start_time": "2024-06-04T13:29:33.539Z"
   },
   {
    "duration": 27,
    "start_time": "2024-06-04T13:29:33.573Z"
   },
   {
    "duration": 428,
    "start_time": "2024-06-04T13:29:33.602Z"
   },
   {
    "duration": 38,
    "start_time": "2024-06-04T13:29:34.032Z"
   },
   {
    "duration": 28,
    "start_time": "2024-06-04T13:29:34.072Z"
   },
   {
    "duration": 504,
    "start_time": "2024-06-04T13:29:34.102Z"
   },
   {
    "duration": 22,
    "start_time": "2024-06-04T13:29:34.608Z"
   },
   {
    "duration": 46,
    "start_time": "2024-06-04T13:29:34.631Z"
   },
   {
    "duration": 30,
    "start_time": "2024-06-04T13:29:34.678Z"
   },
   {
    "duration": 237,
    "start_time": "2024-06-04T13:29:34.710Z"
   },
   {
    "duration": 230,
    "start_time": "2024-06-04T13:29:34.949Z"
   },
   {
    "duration": 136,
    "start_time": "2024-06-04T13:29:35.181Z"
   },
   {
    "duration": 3,
    "start_time": "2024-06-04T13:29:35.318Z"
   },
   {
    "duration": 19,
    "start_time": "2024-06-04T13:29:35.323Z"
   },
   {
    "duration": 923,
    "start_time": "2024-06-04T13:29:35.343Z"
   },
   {
    "duration": 80,
    "start_time": "2024-06-04T13:29:36.267Z"
   },
   {
    "duration": 56,
    "start_time": "2024-06-04T13:29:36.348Z"
   },
   {
    "duration": 40,
    "start_time": "2024-06-04T13:29:36.406Z"
   },
   {
    "duration": 7,
    "start_time": "2024-06-04T13:29:36.447Z"
   },
   {
    "duration": 25,
    "start_time": "2024-06-04T13:29:36.455Z"
   },
   {
    "duration": 1560,
    "start_time": "2024-06-04T13:42:36.209Z"
   },
   {
    "duration": 3,
    "start_time": "2024-06-04T13:42:37.771Z"
   },
   {
    "duration": 1049,
    "start_time": "2024-06-04T13:42:37.775Z"
   },
   {
    "duration": 88,
    "start_time": "2024-06-04T13:42:38.825Z"
   },
   {
    "duration": 15,
    "start_time": "2024-06-04T13:42:38.915Z"
   },
   {
    "duration": 19,
    "start_time": "2024-06-04T13:42:38.931Z"
   },
   {
    "duration": 27,
    "start_time": "2024-06-04T13:42:38.951Z"
   },
   {
    "duration": 20,
    "start_time": "2024-06-04T13:42:38.979Z"
   },
   {
    "duration": 393,
    "start_time": "2024-06-04T13:42:39.000Z"
   },
   {
    "duration": 5,
    "start_time": "2024-06-04T13:42:39.395Z"
   },
   {
    "duration": 244,
    "start_time": "2024-06-04T13:42:39.401Z"
   },
   {
    "duration": 114,
    "start_time": "2024-06-04T13:42:39.646Z"
   },
   {
    "duration": 241,
    "start_time": "2024-06-04T13:42:39.761Z"
   },
   {
    "duration": 4,
    "start_time": "2024-06-04T13:42:40.004Z"
   },
   {
    "duration": 2686,
    "start_time": "2024-06-04T13:42:40.010Z"
   },
   {
    "duration": 17,
    "start_time": "2024-06-04T13:42:42.700Z"
   },
   {
    "duration": 27,
    "start_time": "2024-06-04T13:42:42.719Z"
   },
   {
    "duration": 22,
    "start_time": "2024-06-04T13:42:42.748Z"
   },
   {
    "duration": 2145,
    "start_time": "2024-06-04T13:42:42.772Z"
   },
   {
    "duration": 149,
    "start_time": "2024-06-04T13:42:44.919Z"
   },
   {
    "duration": 39,
    "start_time": "2024-06-04T13:42:45.070Z"
   },
   {
    "duration": 32,
    "start_time": "2024-06-04T13:42:45.110Z"
   },
   {
    "duration": 2124,
    "start_time": "2024-06-04T13:42:45.144Z"
   },
   {
    "duration": 23,
    "start_time": "2024-06-04T13:42:47.269Z"
   },
   {
    "duration": 39,
    "start_time": "2024-06-04T13:42:47.294Z"
   },
   {
    "duration": 1590,
    "start_time": "2024-06-04T13:42:47.335Z"
   },
   {
    "duration": 17,
    "start_time": "2024-06-04T13:42:48.926Z"
   },
   {
    "duration": 6,
    "start_time": "2024-06-04T13:42:48.947Z"
   },
   {
    "duration": 7,
    "start_time": "2024-06-04T13:42:48.954Z"
   },
   {
    "duration": 60,
    "start_time": "2024-06-04T13:42:48.962Z"
   },
   {
    "duration": 15,
    "start_time": "2024-06-04T13:42:49.024Z"
   },
   {
    "duration": 32,
    "start_time": "2024-06-04T13:42:49.040Z"
   },
   {
    "duration": 4253,
    "start_time": "2024-06-04T13:42:49.084Z"
   },
   {
    "duration": 24,
    "start_time": "2024-06-04T13:42:53.339Z"
   },
   {
    "duration": 60,
    "start_time": "2024-06-04T13:42:53.365Z"
   },
   {
    "duration": 31,
    "start_time": "2024-06-04T13:42:53.426Z"
   },
   {
    "duration": 55,
    "start_time": "2024-06-04T13:42:53.458Z"
   },
   {
    "duration": 32,
    "start_time": "2024-06-04T13:42:53.514Z"
   },
   {
    "duration": 15,
    "start_time": "2024-06-04T13:42:53.547Z"
   },
   {
    "duration": 384,
    "start_time": "2024-06-04T13:42:53.563Z"
   },
   {
    "duration": 50,
    "start_time": "2024-06-04T13:42:53.948Z"
   },
   {
    "duration": 17,
    "start_time": "2024-06-04T13:42:54.000Z"
   },
   {
    "duration": 493,
    "start_time": "2024-06-04T13:42:54.018Z"
   },
   {
    "duration": 21,
    "start_time": "2024-06-04T13:42:54.513Z"
   },
   {
    "duration": 60,
    "start_time": "2024-06-04T13:42:54.536Z"
   },
   {
    "duration": 22,
    "start_time": "2024-06-04T13:42:54.597Z"
   },
   {
    "duration": 200,
    "start_time": "2024-06-04T13:42:54.620Z"
   },
   {
    "duration": 214,
    "start_time": "2024-06-04T13:42:54.821Z"
   },
   {
    "duration": 130,
    "start_time": "2024-06-04T13:42:55.036Z"
   },
   {
    "duration": 3,
    "start_time": "2024-06-04T13:42:55.168Z"
   },
   {
    "duration": 27,
    "start_time": "2024-06-04T13:42:55.172Z"
   },
   {
    "duration": 961,
    "start_time": "2024-06-04T13:42:55.201Z"
   },
   {
    "duration": 92,
    "start_time": "2024-06-04T13:42:56.164Z"
   },
   {
    "duration": 60,
    "start_time": "2024-06-04T13:42:56.257Z"
   },
   {
    "duration": 38,
    "start_time": "2024-06-04T13:42:56.318Z"
   },
   {
    "duration": 3,
    "start_time": "2024-06-04T13:42:56.358Z"
   },
   {
    "duration": 26,
    "start_time": "2024-06-04T13:42:56.363Z"
   },
   {
    "duration": 5170,
    "start_time": "2024-06-04T14:23:10.028Z"
   },
   {
    "duration": 21891,
    "start_time": "2024-06-04T14:23:15.201Z"
   },
   {
    "duration": 1418,
    "start_time": "2024-06-04T14:23:37.094Z"
   },
   {
    "duration": 3,
    "start_time": "2024-06-04T14:23:38.513Z"
   },
   {
    "duration": 992,
    "start_time": "2024-06-04T14:23:38.518Z"
   },
   {
    "duration": 65,
    "start_time": "2024-06-04T14:23:39.511Z"
   },
   {
    "duration": 22,
    "start_time": "2024-06-04T14:23:39.578Z"
   },
   {
    "duration": 15,
    "start_time": "2024-06-04T14:23:39.605Z"
   },
   {
    "duration": 9,
    "start_time": "2024-06-04T14:23:39.622Z"
   },
   {
    "duration": 3,
    "start_time": "2024-06-04T14:23:39.634Z"
   },
   {
    "duration": 359,
    "start_time": "2024-06-04T14:23:39.638Z"
   },
   {
    "duration": 4,
    "start_time": "2024-06-04T14:23:39.998Z"
   },
   {
    "duration": 176,
    "start_time": "2024-06-04T14:23:40.003Z"
   },
   {
    "duration": 123,
    "start_time": "2024-06-04T14:23:40.180Z"
   },
   {
    "duration": 207,
    "start_time": "2024-06-04T14:23:40.304Z"
   },
   {
    "duration": 4,
    "start_time": "2024-06-04T14:23:40.512Z"
   },
   {
    "duration": 2247,
    "start_time": "2024-06-04T14:23:40.518Z"
   },
   {
    "duration": 24,
    "start_time": "2024-06-04T14:23:42.766Z"
   },
   {
    "duration": 22,
    "start_time": "2024-06-04T14:23:42.801Z"
   },
   {
    "duration": 18,
    "start_time": "2024-06-04T14:23:42.824Z"
   },
   {
    "duration": 2095,
    "start_time": "2024-06-04T14:23:42.843Z"
   },
   {
    "duration": 135,
    "start_time": "2024-06-04T14:23:44.940Z"
   },
   {
    "duration": 39,
    "start_time": "2024-06-04T14:23:45.076Z"
   },
   {
    "duration": 6,
    "start_time": "2024-06-04T14:23:45.116Z"
   },
   {
    "duration": 1960,
    "start_time": "2024-06-04T14:23:45.123Z"
   },
   {
    "duration": 14,
    "start_time": "2024-06-04T14:23:47.085Z"
   },
   {
    "duration": 33,
    "start_time": "2024-06-04T14:23:47.101Z"
   },
   {
    "duration": 1403,
    "start_time": "2024-06-04T14:23:47.137Z"
   },
   {
    "duration": 15,
    "start_time": "2024-06-04T14:23:48.542Z"
   },
   {
    "duration": 16,
    "start_time": "2024-06-04T14:23:48.558Z"
   },
   {
    "duration": 22,
    "start_time": "2024-06-04T14:23:48.576Z"
   },
   {
    "duration": 35,
    "start_time": "2024-06-04T14:23:48.599Z"
   },
   {
    "duration": 24,
    "start_time": "2024-06-04T14:23:48.635Z"
   },
   {
    "duration": 47,
    "start_time": "2024-06-04T14:23:48.660Z"
   },
   {
    "duration": 3772,
    "start_time": "2024-06-04T14:23:48.709Z"
   },
   {
    "duration": 31,
    "start_time": "2024-06-04T14:23:52.482Z"
   },
   {
    "duration": 42,
    "start_time": "2024-06-04T14:23:52.514Z"
   },
   {
    "duration": 53,
    "start_time": "2024-06-04T14:23:52.557Z"
   },
   {
    "duration": 38,
    "start_time": "2024-06-04T14:23:52.612Z"
   },
   {
    "duration": 54,
    "start_time": "2024-06-04T14:23:52.652Z"
   },
   {
    "duration": 14,
    "start_time": "2024-06-04T14:23:52.708Z"
   },
   {
    "duration": 474,
    "start_time": "2024-06-04T14:23:52.724Z"
   },
   {
    "duration": 34,
    "start_time": "2024-06-04T14:23:53.199Z"
   },
   {
    "duration": 14,
    "start_time": "2024-06-04T14:23:53.234Z"
   },
   {
    "duration": 530,
    "start_time": "2024-06-04T14:23:53.249Z"
   },
   {
    "duration": 26,
    "start_time": "2024-06-04T14:23:53.780Z"
   },
   {
    "duration": 37,
    "start_time": "2024-06-04T14:23:53.807Z"
   },
   {
    "duration": 18,
    "start_time": "2024-06-04T14:23:53.846Z"
   },
   {
    "duration": 183,
    "start_time": "2024-06-04T14:23:53.865Z"
   },
   {
    "duration": 208,
    "start_time": "2024-06-04T14:23:54.050Z"
   },
   {
    "duration": 132,
    "start_time": "2024-06-04T14:23:54.260Z"
   },
   {
    "duration": 4,
    "start_time": "2024-06-04T14:23:54.393Z"
   },
   {
    "duration": 30,
    "start_time": "2024-06-04T14:23:54.398Z"
   },
   {
    "duration": 910,
    "start_time": "2024-06-04T14:23:54.429Z"
   },
   {
    "duration": 84,
    "start_time": "2024-06-04T14:23:55.341Z"
   },
   {
    "duration": 48,
    "start_time": "2024-06-04T14:23:55.427Z"
   },
   {
    "duration": 43,
    "start_time": "2024-06-04T14:23:55.476Z"
   },
   {
    "duration": 4,
    "start_time": "2024-06-04T14:23:55.520Z"
   },
   {
    "duration": 5,
    "start_time": "2024-06-04T14:23:55.525Z"
   },
   {
    "duration": 5423,
    "start_time": "2024-06-04T14:31:19.338Z"
   },
   {
    "duration": 23214,
    "start_time": "2024-06-04T14:31:24.763Z"
   },
   {
    "duration": 1540,
    "start_time": "2024-06-04T14:31:47.979Z"
   },
   {
    "duration": 4,
    "start_time": "2024-06-04T14:31:49.520Z"
   },
   {
    "duration": 999,
    "start_time": "2024-06-04T14:31:49.525Z"
   },
   {
    "duration": 78,
    "start_time": "2024-06-04T14:31:50.525Z"
   },
   {
    "duration": 15,
    "start_time": "2024-06-04T14:31:50.605Z"
   },
   {
    "duration": 16,
    "start_time": "2024-06-04T14:31:50.622Z"
   },
   {
    "duration": 14,
    "start_time": "2024-06-04T14:31:50.639Z"
   },
   {
    "duration": 5,
    "start_time": "2024-06-04T14:31:50.656Z"
   },
   {
    "duration": 365,
    "start_time": "2024-06-04T14:31:50.662Z"
   },
   {
    "duration": 4,
    "start_time": "2024-06-04T14:31:51.029Z"
   },
   {
    "duration": 199,
    "start_time": "2024-06-04T14:31:51.034Z"
   },
   {
    "duration": 119,
    "start_time": "2024-06-04T14:31:51.234Z"
   },
   {
    "duration": 245,
    "start_time": "2024-06-04T14:31:51.354Z"
   },
   {
    "duration": 4,
    "start_time": "2024-06-04T14:31:51.601Z"
   },
   {
    "duration": 2430,
    "start_time": "2024-06-04T14:31:51.606Z"
   },
   {
    "duration": 13,
    "start_time": "2024-06-04T14:31:54.037Z"
   },
   {
    "duration": 42,
    "start_time": "2024-06-04T14:31:54.051Z"
   },
   {
    "duration": 20,
    "start_time": "2024-06-04T14:31:54.094Z"
   },
   {
    "duration": 2217,
    "start_time": "2024-06-04T14:31:54.115Z"
   },
   {
    "duration": 164,
    "start_time": "2024-06-04T14:31:56.333Z"
   },
   {
    "duration": 30,
    "start_time": "2024-06-04T14:31:56.498Z"
   },
   {
    "duration": 8,
    "start_time": "2024-06-04T14:31:56.530Z"
   },
   {
    "duration": 2022,
    "start_time": "2024-06-04T14:31:56.539Z"
   },
   {
    "duration": 10,
    "start_time": "2024-06-04T14:31:58.562Z"
   },
   {
    "duration": 47,
    "start_time": "2024-06-04T14:31:58.573Z"
   },
   {
    "duration": 1507,
    "start_time": "2024-06-04T14:31:58.624Z"
   },
   {
    "duration": 17,
    "start_time": "2024-06-04T14:32:00.132Z"
   },
   {
    "duration": 32,
    "start_time": "2024-06-04T14:32:00.151Z"
   },
   {
    "duration": 47,
    "start_time": "2024-06-04T14:32:00.197Z"
   },
   {
    "duration": 92,
    "start_time": "2024-06-04T14:32:00.246Z"
   },
   {
    "duration": 63,
    "start_time": "2024-06-04T14:32:00.340Z"
   },
   {
    "duration": 92,
    "start_time": "2024-06-04T14:32:00.404Z"
   },
   {
    "duration": 4082,
    "start_time": "2024-06-04T14:32:00.498Z"
   },
   {
    "duration": 30,
    "start_time": "2024-06-04T14:32:04.584Z"
   },
   {
    "duration": 41,
    "start_time": "2024-06-04T14:32:04.615Z"
   },
   {
    "duration": 54,
    "start_time": "2024-06-04T14:32:04.657Z"
   },
   {
    "duration": 39,
    "start_time": "2024-06-04T14:32:04.713Z"
   },
   {
    "duration": 35,
    "start_time": "2024-06-04T14:32:04.753Z"
   },
   {
    "duration": 17,
    "start_time": "2024-06-04T14:32:04.797Z"
   },
   {
    "duration": 418,
    "start_time": "2024-06-04T14:32:04.815Z"
   },
   {
    "duration": 37,
    "start_time": "2024-06-04T14:32:05.235Z"
   },
   {
    "duration": 31,
    "start_time": "2024-06-04T14:32:05.273Z"
   },
   {
    "duration": 469,
    "start_time": "2024-06-04T14:32:05.305Z"
   },
   {
    "duration": 30,
    "start_time": "2024-06-04T14:32:05.775Z"
   },
   {
    "duration": 34,
    "start_time": "2024-06-04T14:32:05.806Z"
   },
   {
    "duration": 21,
    "start_time": "2024-06-04T14:32:05.841Z"
   },
   {
    "duration": 207,
    "start_time": "2024-06-04T14:32:05.863Z"
   },
   {
    "duration": 222,
    "start_time": "2024-06-04T14:32:06.071Z"
   },
   {
    "duration": 133,
    "start_time": "2024-06-04T14:32:06.294Z"
   },
   {
    "duration": 3,
    "start_time": "2024-06-04T14:32:06.429Z"
   },
   {
    "duration": 5,
    "start_time": "2024-06-04T14:32:06.433Z"
   },
   {
    "duration": 905,
    "start_time": "2024-06-04T14:32:06.439Z"
   },
   {
    "duration": 91,
    "start_time": "2024-06-04T14:32:07.345Z"
   },
   {
    "duration": 59,
    "start_time": "2024-06-04T14:32:07.438Z"
   },
   {
    "duration": 36,
    "start_time": "2024-06-04T14:32:07.498Z"
   },
   {
    "duration": 4,
    "start_time": "2024-06-04T14:32:07.535Z"
   },
   {
    "duration": 7,
    "start_time": "2024-06-04T14:32:07.540Z"
   },
   {
    "duration": 464609,
    "start_time": "2024-06-04T14:32:07.549Z"
   },
   {
    "duration": 68,
    "start_time": "2024-06-04T14:39:52.160Z"
   },
   {
    "duration": 3,
    "start_time": "2024-06-04T14:39:52.230Z"
   },
   {
    "duration": 398,
    "start_time": "2024-06-04T14:39:52.234Z"
   },
   {
    "duration": 26,
    "start_time": "2024-06-04T14:39:52.634Z"
   },
   {
    "duration": 149,
    "start_time": "2024-06-04T14:39:52.661Z"
   },
   {
    "duration": 23923,
    "start_time": "2024-06-04T14:39:52.811Z"
   },
   {
    "duration": 243,
    "start_time": "2024-06-04T14:40:16.735Z"
   },
   {
    "duration": 19,
    "start_time": "2024-06-04T14:40:16.979Z"
   },
   {
    "duration": 7,
    "start_time": "2024-06-04T14:40:53.097Z"
   },
   {
    "duration": 233582,
    "start_time": "2024-06-04T14:41:01.729Z"
   },
   {
    "duration": 0,
    "start_time": "2024-06-04T14:44:55.313Z"
   },
   {
    "duration": 0,
    "start_time": "2024-06-04T14:44:55.314Z"
   },
   {
    "duration": 0,
    "start_time": "2024-06-04T14:44:55.315Z"
   },
   {
    "duration": 0,
    "start_time": "2024-06-04T14:44:55.316Z"
   },
   {
    "duration": 0,
    "start_time": "2024-06-04T14:44:55.317Z"
   },
   {
    "duration": 0,
    "start_time": "2024-06-04T14:44:55.317Z"
   },
   {
    "duration": 0,
    "start_time": "2024-06-04T14:44:55.318Z"
   },
   {
    "duration": 0,
    "start_time": "2024-06-04T14:44:55.319Z"
   },
   {
    "duration": 102,
    "start_time": "2024-06-04T14:45:11.533Z"
   },
   {
    "duration": 297159,
    "start_time": "2024-06-04T14:45:15.462Z"
   },
   {
    "duration": 2881,
    "start_time": "2024-06-04T14:50:12.623Z"
   },
   {
    "duration": 4,
    "start_time": "2024-06-04T14:50:15.508Z"
   }
  ],
  "kernelspec": {
   "display_name": "practicum",
   "language": "python",
   "name": "python3"
  },
  "language_info": {
   "codemirror_mode": {
    "name": "ipython",
    "version": 3
   },
   "file_extension": ".py",
   "mimetype": "text/x-python",
   "name": "python",
   "nbconvert_exporter": "python",
   "pygments_lexer": "ipython3",
   "version": "3.9.18"
  },
  "toc": {
   "base_numbering": 1,
   "nav_menu": {},
   "number_sections": true,
   "sideBar": true,
   "skip_h1_title": true,
   "title_cell": "Table of Contents",
   "title_sidebar": "Contents",
   "toc_cell": false,
   "toc_position": {},
   "toc_section_display": true,
   "toc_window_display": false
  }
 },
 "nbformat": 4,
 "nbformat_minor": 2
}
