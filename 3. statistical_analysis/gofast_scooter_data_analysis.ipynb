{
 "cells": [
  {
   "cell_type": "markdown",
   "id": "a5d3e24b",
   "metadata": {},
   "source": [
    "# Исследование данных сервиса аренды самокатов\n",
    "\n",
    "В роли аналитика для популярного сервиса аренды самокатов GoFast, вам поручено исследовать данные, связанные с использованием сервиса в различных городах. Ваша задача — провести анализ и проверить несколько гипотез, что может способствовать росту бизнеса.\n",
    "\n",
    "Пользователи GoFast совершают поездки по городу с помощью мобильного приложения, которое предоставляет два варианта использования:\n",
    "- без подписки\n",
    "    - абонентская плата отсутствует;\n",
    "    - стоимость одной минуты поездки — 8 рублей;\n",
    "    - стоимость старта (начала поездки) — 50 рублей;\n",
    "- с подпиской Ultra\n",
    "    - абонентская плата — 199 рублей в месяц;\n",
    "    - стоимость одной минуты поездки — 6 рублей;\n",
    "    - стоимость старта — бесплатно.\n",
    "\n",
    "# Описание данных\n",
    "\n",
    "В основных данных есть информация о пользователях, их поездках и подписках.\n",
    "\n",
    "Пользователи — `users_go.csv`\n",
    "\n",
    "| Переменная | описание |\n",
    "| ---- | ---- |\n",
    "| user_id | уникальный идентификатор пользователя |\n",
    "| name | имя пользователя |\n",
    "| age | возраст |\n",
    "| city | город |\n",
    "| subscription_type | тип подписки (free, ultra) |\n",
    "\n",
    "Поездки — `rides_go.csv`\n",
    "\n",
    "| Переменная | описание |\n",
    "| ---- | ---- |\n",
    "| user_id | уникальный идентификатор пользователя |\n",
    "| distance | расстояние, которое пользователь проехал в текущей сессии (в метрах) |\n",
    "| duration | продолжительность сессии (в минутах) — время с того момента, как пользователь нажал кнопку «Начать поездку» до момента, как он нажал кнопку «Завершить поездку» |\n",
    "| date | дата совершения поездки |\n",
    "\n",
    "\t\n",
    "Подписки — `subscriptions_go.csv`\n",
    "\n",
    "| Переменная | описание |\n",
    "| ---- | ---- |\n",
    "| subscription_type | тип подписки |\n",
    "| minute_price | стоимость одной минуты поездки по данной подписке |\n",
    "| start_ride_price | стоимость начала поездки |\n",
    "| subscription_fee | стоимость ежемесячного платежа |"
   ]
  },
  {
   "cell_type": "code",
   "execution_count": 1,
   "id": "9d287a99",
   "metadata": {},
   "outputs": [],
   "source": [
    "import pandas as pd\n",
    "import seaborn as sns\n",
    "import matplotlib.pyplot as plt\n",
    "import numpy as np\n",
    "import scipy.stats as st\n",
    "from scipy.stats import binom"
   ]
  },
  {
   "cell_type": "markdown",
   "id": "86970ec6",
   "metadata": {},
   "source": [
    "#### Шаг 1. Загрузка данных"
   ]
  },
  {
   "cell_type": "markdown",
   "id": "6cb4b881",
   "metadata": {},
   "source": [
    "##### Считайте CSV-файлы с данными с помощью библиотеки pandas и сохраните их в датафреймы. Пути к файлам:\n",
    "- ```/datasets/users_go.csv```\n",
    "- ```/datasets/rides_go.csv```\n",
    "- ```/datasets/subscriptions_go.csv```\n",
    "\n",
    "\n",
    "##### Выведите первые строки каждого набора данных. Изучите общую информацию о каждом датафрейме."
   ]
  },
  {
   "cell_type": "code",
   "execution_count": 2,
   "id": "4cba17cd",
   "metadata": {},
   "outputs": [],
   "source": [
    "users = pd.read_csv('/datasets/users_go.csv')\n",
    "rides = pd.read_csv('/datasets/rides_go.csv', parse_dates=['date'], dayfirst=True)\n",
    "subscriptions = pd.read_csv('/datasets/subscriptions_go.csv')"
   ]
  },
  {
   "cell_type": "markdown",
   "id": "5ef8c64b",
   "metadata": {},
   "source": [
    "Выведем всю информацию о датафреймах в порядке информация о пользователях, о поездках и подписках соответственно"
   ]
  },
  {
   "cell_type": "code",
   "execution_count": 3,
   "id": "d4077937",
   "metadata": {},
   "outputs": [],
   "source": [
    "sns.set_theme()"
   ]
  },
  {
   "cell_type": "markdown",
   "id": "c56ba99f",
   "metadata": {},
   "source": [
    "Параллельно с этим еще рассмотрим количество пустых значений. Для вывода всей информации напишем функцию, которая будет выводить все необходимые данные, а так же рассмотрим первые 10 строчек каждого датафрейма"
   ]
  },
  {
   "cell_type": "code",
   "execution_count": 4,
   "id": "d9d79d63",
   "metadata": {},
   "outputs": [],
   "source": [
    "def histogramm_and_info(data: pd.DataFrame):\n",
    "    print('Info about data:')\n",
    "    data.info()\n",
    "    print('\\nInfo about missing data:\\n', data.isna().sum())"
   ]
  },
  {
   "cell_type": "code",
   "execution_count": 5,
   "id": "1dc5b5dd",
   "metadata": {},
   "outputs": [
    {
     "name": "stdout",
     "output_type": "stream",
     "text": [
      "Info about data:\n",
      "<class 'pandas.core.frame.DataFrame'>\n",
      "RangeIndex: 1565 entries, 0 to 1564\n",
      "Data columns (total 5 columns):\n",
      " #   Column             Non-Null Count  Dtype \n",
      "---  ------             --------------  ----- \n",
      " 0   user_id            1565 non-null   int64 \n",
      " 1   name               1565 non-null   object\n",
      " 2   age                1565 non-null   int64 \n",
      " 3   city               1565 non-null   object\n",
      " 4   subscription_type  1565 non-null   object\n",
      "dtypes: int64(2), object(3)\n",
      "memory usage: 61.3+ KB\n",
      "\n",
      "Info about missing data:\n",
      " user_id              0\n",
      "name                 0\n",
      "age                  0\n",
      "city                 0\n",
      "subscription_type    0\n",
      "dtype: int64\n"
     ]
    }
   ],
   "source": [
    "histogramm_and_info(users)"
   ]
  },
  {
   "cell_type": "code",
   "execution_count": 6,
   "id": "38e6c9b4",
   "metadata": {},
   "outputs": [
    {
     "data": {
      "text/html": [
       "<div>\n",
       "<style scoped>\n",
       "    .dataframe tbody tr th:only-of-type {\n",
       "        vertical-align: middle;\n",
       "    }\n",
       "\n",
       "    .dataframe tbody tr th {\n",
       "        vertical-align: top;\n",
       "    }\n",
       "\n",
       "    .dataframe thead th {\n",
       "        text-align: right;\n",
       "    }\n",
       "</style>\n",
       "<table border=\"1\" class=\"dataframe\">\n",
       "  <thead>\n",
       "    <tr style=\"text-align: right;\">\n",
       "      <th></th>\n",
       "      <th>user_id</th>\n",
       "      <th>name</th>\n",
       "      <th>age</th>\n",
       "      <th>city</th>\n",
       "      <th>subscription_type</th>\n",
       "    </tr>\n",
       "  </thead>\n",
       "  <tbody>\n",
       "    <tr>\n",
       "      <th>0</th>\n",
       "      <td>1</td>\n",
       "      <td>Кира</td>\n",
       "      <td>22</td>\n",
       "      <td>Тюмень</td>\n",
       "      <td>ultra</td>\n",
       "    </tr>\n",
       "    <tr>\n",
       "      <th>1</th>\n",
       "      <td>2</td>\n",
       "      <td>Станислав</td>\n",
       "      <td>31</td>\n",
       "      <td>Омск</td>\n",
       "      <td>ultra</td>\n",
       "    </tr>\n",
       "    <tr>\n",
       "      <th>2</th>\n",
       "      <td>3</td>\n",
       "      <td>Алексей</td>\n",
       "      <td>20</td>\n",
       "      <td>Москва</td>\n",
       "      <td>ultra</td>\n",
       "    </tr>\n",
       "    <tr>\n",
       "      <th>3</th>\n",
       "      <td>4</td>\n",
       "      <td>Константин</td>\n",
       "      <td>26</td>\n",
       "      <td>Ростов-на-Дону</td>\n",
       "      <td>ultra</td>\n",
       "    </tr>\n",
       "    <tr>\n",
       "      <th>4</th>\n",
       "      <td>5</td>\n",
       "      <td>Адель</td>\n",
       "      <td>28</td>\n",
       "      <td>Омск</td>\n",
       "      <td>ultra</td>\n",
       "    </tr>\n",
       "    <tr>\n",
       "      <th>5</th>\n",
       "      <td>6</td>\n",
       "      <td>Регина</td>\n",
       "      <td>25</td>\n",
       "      <td>Краснодар</td>\n",
       "      <td>ultra</td>\n",
       "    </tr>\n",
       "    <tr>\n",
       "      <th>6</th>\n",
       "      <td>7</td>\n",
       "      <td>Игорь</td>\n",
       "      <td>23</td>\n",
       "      <td>Омск</td>\n",
       "      <td>ultra</td>\n",
       "    </tr>\n",
       "    <tr>\n",
       "      <th>7</th>\n",
       "      <td>8</td>\n",
       "      <td>Юрий</td>\n",
       "      <td>23</td>\n",
       "      <td>Краснодар</td>\n",
       "      <td>ultra</td>\n",
       "    </tr>\n",
       "    <tr>\n",
       "      <th>8</th>\n",
       "      <td>9</td>\n",
       "      <td>Ян</td>\n",
       "      <td>21</td>\n",
       "      <td>Пятигорск</td>\n",
       "      <td>ultra</td>\n",
       "    </tr>\n",
       "    <tr>\n",
       "      <th>9</th>\n",
       "      <td>10</td>\n",
       "      <td>Валерий</td>\n",
       "      <td>18</td>\n",
       "      <td>Екатеринбург</td>\n",
       "      <td>ultra</td>\n",
       "    </tr>\n",
       "  </tbody>\n",
       "</table>\n",
       "</div>"
      ],
      "text/plain": [
       "   user_id        name  age            city subscription_type\n",
       "0        1        Кира   22          Тюмень             ultra\n",
       "1        2   Станислав   31            Омск             ultra\n",
       "2        3     Алексей   20          Москва             ultra\n",
       "3        4  Константин   26  Ростов-на-Дону             ultra\n",
       "4        5       Адель   28            Омск             ultra\n",
       "5        6      Регина   25       Краснодар             ultra\n",
       "6        7       Игорь   23            Омск             ultra\n",
       "7        8        Юрий   23       Краснодар             ultra\n",
       "8        9          Ян   21       Пятигорск             ultra\n",
       "9       10     Валерий   18    Екатеринбург             ultra"
      ]
     },
     "execution_count": 6,
     "metadata": {},
     "output_type": "execute_result"
    }
   ],
   "source": [
    "users.head(10)"
   ]
  },
  {
   "cell_type": "code",
   "execution_count": 7,
   "id": "fbc57efa",
   "metadata": {},
   "outputs": [
    {
     "name": "stdout",
     "output_type": "stream",
     "text": [
      "Info about data:\n",
      "<class 'pandas.core.frame.DataFrame'>\n",
      "RangeIndex: 18068 entries, 0 to 18067\n",
      "Data columns (total 4 columns):\n",
      " #   Column    Non-Null Count  Dtype         \n",
      "---  ------    --------------  -----         \n",
      " 0   user_id   18068 non-null  int64         \n",
      " 1   distance  18068 non-null  float64       \n",
      " 2   duration  18068 non-null  float64       \n",
      " 3   date      18068 non-null  datetime64[ns]\n",
      "dtypes: datetime64[ns](1), float64(2), int64(1)\n",
      "memory usage: 564.8 KB\n",
      "\n",
      "Info about missing data:\n",
      " user_id     0\n",
      "distance    0\n",
      "duration    0\n",
      "date        0\n",
      "dtype: int64\n"
     ]
    }
   ],
   "source": [
    "histogramm_and_info(rides)"
   ]
  },
  {
   "cell_type": "code",
   "execution_count": 8,
   "id": "9e37678c",
   "metadata": {},
   "outputs": [
    {
     "data": {
      "text/html": [
       "<div>\n",
       "<style scoped>\n",
       "    .dataframe tbody tr th:only-of-type {\n",
       "        vertical-align: middle;\n",
       "    }\n",
       "\n",
       "    .dataframe tbody tr th {\n",
       "        vertical-align: top;\n",
       "    }\n",
       "\n",
       "    .dataframe thead th {\n",
       "        text-align: right;\n",
       "    }\n",
       "</style>\n",
       "<table border=\"1\" class=\"dataframe\">\n",
       "  <thead>\n",
       "    <tr style=\"text-align: right;\">\n",
       "      <th></th>\n",
       "      <th>user_id</th>\n",
       "      <th>distance</th>\n",
       "      <th>duration</th>\n",
       "      <th>date</th>\n",
       "    </tr>\n",
       "  </thead>\n",
       "  <tbody>\n",
       "    <tr>\n",
       "      <th>0</th>\n",
       "      <td>1</td>\n",
       "      <td>4409.919140</td>\n",
       "      <td>25.599769</td>\n",
       "      <td>2021-01-01</td>\n",
       "    </tr>\n",
       "    <tr>\n",
       "      <th>1</th>\n",
       "      <td>1</td>\n",
       "      <td>2617.592153</td>\n",
       "      <td>15.816871</td>\n",
       "      <td>2021-01-18</td>\n",
       "    </tr>\n",
       "    <tr>\n",
       "      <th>2</th>\n",
       "      <td>1</td>\n",
       "      <td>754.159807</td>\n",
       "      <td>6.232113</td>\n",
       "      <td>2021-04-20</td>\n",
       "    </tr>\n",
       "    <tr>\n",
       "      <th>3</th>\n",
       "      <td>1</td>\n",
       "      <td>2694.783254</td>\n",
       "      <td>18.511000</td>\n",
       "      <td>2021-08-11</td>\n",
       "    </tr>\n",
       "    <tr>\n",
       "      <th>4</th>\n",
       "      <td>1</td>\n",
       "      <td>4028.687306</td>\n",
       "      <td>26.265803</td>\n",
       "      <td>2021-08-28</td>\n",
       "    </tr>\n",
       "    <tr>\n",
       "      <th>5</th>\n",
       "      <td>1</td>\n",
       "      <td>2770.890808</td>\n",
       "      <td>16.650138</td>\n",
       "      <td>2021-10-09</td>\n",
       "    </tr>\n",
       "    <tr>\n",
       "      <th>6</th>\n",
       "      <td>1</td>\n",
       "      <td>3039.020292</td>\n",
       "      <td>14.927879</td>\n",
       "      <td>2021-10-19</td>\n",
       "    </tr>\n",
       "    <tr>\n",
       "      <th>7</th>\n",
       "      <td>1</td>\n",
       "      <td>2842.118050</td>\n",
       "      <td>23.117468</td>\n",
       "      <td>2021-11-06</td>\n",
       "    </tr>\n",
       "    <tr>\n",
       "      <th>8</th>\n",
       "      <td>1</td>\n",
       "      <td>3412.690668</td>\n",
       "      <td>15.238072</td>\n",
       "      <td>2021-11-14</td>\n",
       "    </tr>\n",
       "    <tr>\n",
       "      <th>9</th>\n",
       "      <td>1</td>\n",
       "      <td>748.690645</td>\n",
       "      <td>15.041884</td>\n",
       "      <td>2021-11-22</td>\n",
       "    </tr>\n",
       "  </tbody>\n",
       "</table>\n",
       "</div>"
      ],
      "text/plain": [
       "   user_id     distance   duration       date\n",
       "0        1  4409.919140  25.599769 2021-01-01\n",
       "1        1  2617.592153  15.816871 2021-01-18\n",
       "2        1   754.159807   6.232113 2021-04-20\n",
       "3        1  2694.783254  18.511000 2021-08-11\n",
       "4        1  4028.687306  26.265803 2021-08-28\n",
       "5        1  2770.890808  16.650138 2021-10-09\n",
       "6        1  3039.020292  14.927879 2021-10-19\n",
       "7        1  2842.118050  23.117468 2021-11-06\n",
       "8        1  3412.690668  15.238072 2021-11-14\n",
       "9        1   748.690645  15.041884 2021-11-22"
      ]
     },
     "execution_count": 8,
     "metadata": {},
     "output_type": "execute_result"
    }
   ],
   "source": [
    "rides.head(10)"
   ]
  },
  {
   "cell_type": "code",
   "execution_count": 9,
   "id": "00bb618d",
   "metadata": {},
   "outputs": [
    {
     "name": "stdout",
     "output_type": "stream",
     "text": [
      "Info about data:\n",
      "<class 'pandas.core.frame.DataFrame'>\n",
      "RangeIndex: 2 entries, 0 to 1\n",
      "Data columns (total 4 columns):\n",
      " #   Column             Non-Null Count  Dtype \n",
      "---  ------             --------------  ----- \n",
      " 0   subscription_type  2 non-null      object\n",
      " 1   minute_price       2 non-null      int64 \n",
      " 2   start_ride_price   2 non-null      int64 \n",
      " 3   subscription_fee   2 non-null      int64 \n",
      "dtypes: int64(3), object(1)\n",
      "memory usage: 192.0+ bytes\n",
      "\n",
      "Info about missing data:\n",
      " subscription_type    0\n",
      "minute_price         0\n",
      "start_ride_price     0\n",
      "subscription_fee     0\n",
      "dtype: int64\n"
     ]
    }
   ],
   "source": [
    "histogramm_and_info(subscriptions)"
   ]
  },
  {
   "cell_type": "code",
   "execution_count": 10,
   "id": "06206f7c",
   "metadata": {},
   "outputs": [
    {
     "data": {
      "text/html": [
       "<div>\n",
       "<style scoped>\n",
       "    .dataframe tbody tr th:only-of-type {\n",
       "        vertical-align: middle;\n",
       "    }\n",
       "\n",
       "    .dataframe tbody tr th {\n",
       "        vertical-align: top;\n",
       "    }\n",
       "\n",
       "    .dataframe thead th {\n",
       "        text-align: right;\n",
       "    }\n",
       "</style>\n",
       "<table border=\"1\" class=\"dataframe\">\n",
       "  <thead>\n",
       "    <tr style=\"text-align: right;\">\n",
       "      <th></th>\n",
       "      <th>subscription_type</th>\n",
       "      <th>minute_price</th>\n",
       "      <th>start_ride_price</th>\n",
       "      <th>subscription_fee</th>\n",
       "    </tr>\n",
       "  </thead>\n",
       "  <tbody>\n",
       "    <tr>\n",
       "      <th>0</th>\n",
       "      <td>free</td>\n",
       "      <td>8</td>\n",
       "      <td>50</td>\n",
       "      <td>0</td>\n",
       "    </tr>\n",
       "    <tr>\n",
       "      <th>1</th>\n",
       "      <td>ultra</td>\n",
       "      <td>6</td>\n",
       "      <td>0</td>\n",
       "      <td>199</td>\n",
       "    </tr>\n",
       "  </tbody>\n",
       "</table>\n",
       "</div>"
      ],
      "text/plain": [
       "  subscription_type  minute_price  start_ride_price  subscription_fee\n",
       "0              free             8                50                 0\n",
       "1             ultra             6                 0               199"
      ]
     },
     "execution_count": 10,
     "metadata": {},
     "output_type": "execute_result"
    }
   ],
   "source": [
    "subscriptions.head(10)"
   ]
  },
  {
   "cell_type": "markdown",
   "id": "0d7c80d1",
   "metadata": {},
   "source": [
    "После первичного анализа с датафремами мы можем сделать следующие выводы:\n",
    "- имеется три датафрема\n",
    "    - ``users`` - в котором хранится персональная информация о пользователях\n",
    "    - ``rides`` - в котором хранится информация о всех поездках, где пользователь идентифицирован через `user_id`\n",
    "    - ``subscriptions`` - в нем хранится информация о стоимости минуты поездки, старта начала и подписки в зависимости от типа подписки. Связан с `users` через ключ `subscription_type`\n",
    "- датафремы имеют разное количество строк, поскольку хранят различные области данных"
   ]
  },
  {
   "cell_type": "markdown",
   "id": "00d19e57",
   "metadata": {},
   "source": [
    "#### Шаг 2. Предобработка данных"
   ]
  },
  {
   "cell_type": "markdown",
   "id": "49b6b458",
   "metadata": {},
   "source": [
    "##### Приведите столбец ```date``` к типу даты pandas.\n",
    "##### Создайте новый столбец с номером месяца на основе столбца ```date```.\n",
    "##### Проверьте наличие пропущенных значений и дубликатов в датафреймах. Обработайте их, если такие значения присутствуют."
   ]
  },
  {
   "cell_type": "markdown",
   "id": "a3ff5e44",
   "metadata": {},
   "source": [
    "Для приведения типа данных столбца `date` из датафрейма `rides` к соответствующему типу данных мы воспользовались параметрами `parse_dates=['date'], dayfirst=True` для правильного форматирования при изначальной загрузке датафрейма"
   ]
  },
  {
   "cell_type": "code",
   "execution_count": 11,
   "id": "6e862285",
   "metadata": {},
   "outputs": [
    {
     "data": {
      "text/html": [
       "<div>\n",
       "<style scoped>\n",
       "    .dataframe tbody tr th:only-of-type {\n",
       "        vertical-align: middle;\n",
       "    }\n",
       "\n",
       "    .dataframe tbody tr th {\n",
       "        vertical-align: top;\n",
       "    }\n",
       "\n",
       "    .dataframe thead th {\n",
       "        text-align: right;\n",
       "    }\n",
       "</style>\n",
       "<table border=\"1\" class=\"dataframe\">\n",
       "  <thead>\n",
       "    <tr style=\"text-align: right;\">\n",
       "      <th></th>\n",
       "      <th>user_id</th>\n",
       "      <th>distance</th>\n",
       "      <th>duration</th>\n",
       "      <th>date</th>\n",
       "    </tr>\n",
       "  </thead>\n",
       "  <tbody>\n",
       "    <tr>\n",
       "      <th>0</th>\n",
       "      <td>1</td>\n",
       "      <td>4409.919140</td>\n",
       "      <td>25.599769</td>\n",
       "      <td>2021-01-01</td>\n",
       "    </tr>\n",
       "    <tr>\n",
       "      <th>1</th>\n",
       "      <td>1</td>\n",
       "      <td>2617.592153</td>\n",
       "      <td>15.816871</td>\n",
       "      <td>2021-01-18</td>\n",
       "    </tr>\n",
       "    <tr>\n",
       "      <th>2</th>\n",
       "      <td>1</td>\n",
       "      <td>754.159807</td>\n",
       "      <td>6.232113</td>\n",
       "      <td>2021-04-20</td>\n",
       "    </tr>\n",
       "    <tr>\n",
       "      <th>3</th>\n",
       "      <td>1</td>\n",
       "      <td>2694.783254</td>\n",
       "      <td>18.511000</td>\n",
       "      <td>2021-08-11</td>\n",
       "    </tr>\n",
       "    <tr>\n",
       "      <th>4</th>\n",
       "      <td>1</td>\n",
       "      <td>4028.687306</td>\n",
       "      <td>26.265803</td>\n",
       "      <td>2021-08-28</td>\n",
       "    </tr>\n",
       "  </tbody>\n",
       "</table>\n",
       "</div>"
      ],
      "text/plain": [
       "   user_id     distance   duration       date\n",
       "0        1  4409.919140  25.599769 2021-01-01\n",
       "1        1  2617.592153  15.816871 2021-01-18\n",
       "2        1   754.159807   6.232113 2021-04-20\n",
       "3        1  2694.783254  18.511000 2021-08-11\n",
       "4        1  4028.687306  26.265803 2021-08-28"
      ]
     },
     "execution_count": 11,
     "metadata": {},
     "output_type": "execute_result"
    }
   ],
   "source": [
    "rides.head()"
   ]
  },
  {
   "cell_type": "code",
   "execution_count": 12,
   "id": "a7fb183e",
   "metadata": {},
   "outputs": [
    {
     "name": "stdout",
     "output_type": "stream",
     "text": [
      "<class 'pandas.core.frame.DataFrame'>\n",
      "RangeIndex: 18068 entries, 0 to 18067\n",
      "Data columns (total 4 columns):\n",
      " #   Column    Non-Null Count  Dtype         \n",
      "---  ------    --------------  -----         \n",
      " 0   user_id   18068 non-null  int64         \n",
      " 1   distance  18068 non-null  float64       \n",
      " 2   duration  18068 non-null  float64       \n",
      " 3   date      18068 non-null  datetime64[ns]\n",
      "dtypes: datetime64[ns](1), float64(2), int64(1)\n",
      "memory usage: 564.8 KB\n"
     ]
    }
   ],
   "source": [
    "rides.info()"
   ]
  },
  {
   "cell_type": "markdown",
   "id": "c0ef9efb",
   "metadata": {},
   "source": [
    "Как мы видим, формат для столбца `date` - datatime64[ns]. Это подходящий для дат формат. Теперь создадим стоблец, в котором будут храниться данные с номером месяца поездки."
   ]
  },
  {
   "cell_type": "code",
   "execution_count": 13,
   "id": "b768cc6b",
   "metadata": {},
   "outputs": [],
   "source": [
    "rides['month'] = pd.DatetimeIndex(rides['date']).month"
   ]
  },
  {
   "cell_type": "markdown",
   "id": "234974bf",
   "metadata": {},
   "source": [
    "Удостоверимся, что добавление столбца произошло корректно и выведем первые 10 строчек датафрема, а также рассмотрим какие месяцы и годы имеются в датафрейме `rides`"
   ]
  },
  {
   "cell_type": "code",
   "execution_count": 14,
   "id": "67105f35",
   "metadata": {},
   "outputs": [
    {
     "data": {
      "text/plain": [
       "[1, 2, 3, 4, 5, 6, 7, 8, 9, 10, 11, 12]"
      ]
     },
     "execution_count": 14,
     "metadata": {},
     "output_type": "execute_result"
    }
   ],
   "source": [
    "sorted(rides['month'].unique())"
   ]
  },
  {
   "cell_type": "code",
   "execution_count": 15,
   "id": "930e6221",
   "metadata": {},
   "outputs": [
    {
     "data": {
      "text/plain": [
       "Int64Index([2021], dtype='int64', name='date')"
      ]
     },
     "execution_count": 15,
     "metadata": {},
     "output_type": "execute_result"
    }
   ],
   "source": [
    "pd.DatetimeIndex(rides['date']).year.unique()"
   ]
  },
  {
   "cell_type": "markdown",
   "id": "6544ec80",
   "metadata": {},
   "source": [
    "В датафреме присутствуют данные за 2021 год, которые включают в себя все месяцы"
   ]
  },
  {
   "cell_type": "code",
   "execution_count": 16,
   "id": "f816a678",
   "metadata": {},
   "outputs": [
    {
     "data": {
      "text/html": [
       "<div>\n",
       "<style scoped>\n",
       "    .dataframe tbody tr th:only-of-type {\n",
       "        vertical-align: middle;\n",
       "    }\n",
       "\n",
       "    .dataframe tbody tr th {\n",
       "        vertical-align: top;\n",
       "    }\n",
       "\n",
       "    .dataframe thead th {\n",
       "        text-align: right;\n",
       "    }\n",
       "</style>\n",
       "<table border=\"1\" class=\"dataframe\">\n",
       "  <thead>\n",
       "    <tr style=\"text-align: right;\">\n",
       "      <th></th>\n",
       "      <th>user_id</th>\n",
       "      <th>distance</th>\n",
       "      <th>duration</th>\n",
       "      <th>date</th>\n",
       "      <th>month</th>\n",
       "    </tr>\n",
       "  </thead>\n",
       "  <tbody>\n",
       "    <tr>\n",
       "      <th>0</th>\n",
       "      <td>1</td>\n",
       "      <td>4409.919140</td>\n",
       "      <td>25.599769</td>\n",
       "      <td>2021-01-01</td>\n",
       "      <td>1</td>\n",
       "    </tr>\n",
       "    <tr>\n",
       "      <th>1</th>\n",
       "      <td>1</td>\n",
       "      <td>2617.592153</td>\n",
       "      <td>15.816871</td>\n",
       "      <td>2021-01-18</td>\n",
       "      <td>1</td>\n",
       "    </tr>\n",
       "    <tr>\n",
       "      <th>2</th>\n",
       "      <td>1</td>\n",
       "      <td>754.159807</td>\n",
       "      <td>6.232113</td>\n",
       "      <td>2021-04-20</td>\n",
       "      <td>4</td>\n",
       "    </tr>\n",
       "    <tr>\n",
       "      <th>3</th>\n",
       "      <td>1</td>\n",
       "      <td>2694.783254</td>\n",
       "      <td>18.511000</td>\n",
       "      <td>2021-08-11</td>\n",
       "      <td>8</td>\n",
       "    </tr>\n",
       "    <tr>\n",
       "      <th>4</th>\n",
       "      <td>1</td>\n",
       "      <td>4028.687306</td>\n",
       "      <td>26.265803</td>\n",
       "      <td>2021-08-28</td>\n",
       "      <td>8</td>\n",
       "    </tr>\n",
       "    <tr>\n",
       "      <th>5</th>\n",
       "      <td>1</td>\n",
       "      <td>2770.890808</td>\n",
       "      <td>16.650138</td>\n",
       "      <td>2021-10-09</td>\n",
       "      <td>10</td>\n",
       "    </tr>\n",
       "    <tr>\n",
       "      <th>6</th>\n",
       "      <td>1</td>\n",
       "      <td>3039.020292</td>\n",
       "      <td>14.927879</td>\n",
       "      <td>2021-10-19</td>\n",
       "      <td>10</td>\n",
       "    </tr>\n",
       "    <tr>\n",
       "      <th>7</th>\n",
       "      <td>1</td>\n",
       "      <td>2842.118050</td>\n",
       "      <td>23.117468</td>\n",
       "      <td>2021-11-06</td>\n",
       "      <td>11</td>\n",
       "    </tr>\n",
       "    <tr>\n",
       "      <th>8</th>\n",
       "      <td>1</td>\n",
       "      <td>3412.690668</td>\n",
       "      <td>15.238072</td>\n",
       "      <td>2021-11-14</td>\n",
       "      <td>11</td>\n",
       "    </tr>\n",
       "    <tr>\n",
       "      <th>9</th>\n",
       "      <td>1</td>\n",
       "      <td>748.690645</td>\n",
       "      <td>15.041884</td>\n",
       "      <td>2021-11-22</td>\n",
       "      <td>11</td>\n",
       "    </tr>\n",
       "  </tbody>\n",
       "</table>\n",
       "</div>"
      ],
      "text/plain": [
       "   user_id     distance   duration       date  month\n",
       "0        1  4409.919140  25.599769 2021-01-01      1\n",
       "1        1  2617.592153  15.816871 2021-01-18      1\n",
       "2        1   754.159807   6.232113 2021-04-20      4\n",
       "3        1  2694.783254  18.511000 2021-08-11      8\n",
       "4        1  4028.687306  26.265803 2021-08-28      8\n",
       "5        1  2770.890808  16.650138 2021-10-09     10\n",
       "6        1  3039.020292  14.927879 2021-10-19     10\n",
       "7        1  2842.118050  23.117468 2021-11-06     11\n",
       "8        1  3412.690668  15.238072 2021-11-14     11\n",
       "9        1   748.690645  15.041884 2021-11-22     11"
      ]
     },
     "execution_count": 16,
     "metadata": {},
     "output_type": "execute_result"
    }
   ],
   "source": [
    "rides.head(10)"
   ]
  },
  {
   "cell_type": "markdown",
   "id": "37afe556",
   "metadata": {},
   "source": [
    "Для каждого датафрейма уже проверили отсутствие пропусков, но еще раз проверим их отсутствие и проверим наличие дубликатов в датафремах при помощи функции."
   ]
  },
  {
   "cell_type": "code",
   "execution_count": 17,
   "id": "226e6143",
   "metadata": {},
   "outputs": [],
   "source": [
    "def duplicates_nulls(data: pd.DataFrame):\n",
    "    print('Info about missing data:\\n', data.isna().sum())\n",
    "    duplicated_data = int(data.duplicated().sum())\n",
    "    print('\\nInfo about duplicates:\\n', duplicated_data)\n",
    "    if duplicated_data != 0:\n",
    "        percent = duplicated_data / len(data)\n",
    "        print(f'Percent of duplicated data is {round(percent * 100, 2)}%')\n",
    "    print()"
   ]
  },
  {
   "cell_type": "markdown",
   "id": "525fb1cb",
   "metadata": {},
   "source": [
    "Проверка для датафреймов `rides`, `users`, `subscriptions`"
   ]
  },
  {
   "cell_type": "code",
   "execution_count": 18,
   "id": "e38f89d8",
   "metadata": {},
   "outputs": [
    {
     "name": "stdout",
     "output_type": "stream",
     "text": [
      "Info about rides\n",
      "Info about missing data:\n",
      " user_id     0\n",
      "distance    0\n",
      "duration    0\n",
      "date        0\n",
      "month       0\n",
      "dtype: int64\n",
      "\n",
      "Info about duplicates:\n",
      " 0\n",
      "\n",
      "Info about users\n",
      "Info about missing data:\n",
      " user_id              0\n",
      "name                 0\n",
      "age                  0\n",
      "city                 0\n",
      "subscription_type    0\n",
      "dtype: int64\n",
      "\n",
      "Info about duplicates:\n",
      " 31\n",
      "Percent of duplicated data is 1.98%\n",
      "\n",
      "Info about subscriptions\n",
      "Info about missing data:\n",
      " subscription_type    0\n",
      "minute_price         0\n",
      "start_ride_price     0\n",
      "subscription_fee     0\n",
      "dtype: int64\n",
      "\n",
      "Info about duplicates:\n",
      " 0\n",
      "\n"
     ]
    }
   ],
   "source": [
    "dataframes = {'rides': rides, 'users': users, 'subscriptions': subscriptions}\n",
    "for data_name, data in dataframes.items():\n",
    "    print(f'Info about {data_name}')\n",
    "    duplicates_nulls(data)"
   ]
  },
  {
   "cell_type": "markdown",
   "id": "516912d1",
   "metadata": {},
   "source": [
    "Проверка для датафрейма `users` показала наличие 31 дупликата, однако процент данных от общего количества мал, поэтому мы можем спокойно от них избавиться"
   ]
  },
  {
   "cell_type": "code",
   "execution_count": 19,
   "id": "0817c206",
   "metadata": {},
   "outputs": [],
   "source": [
    "users = users.drop_duplicates().reset_index(drop=True)"
   ]
  },
  {
   "cell_type": "code",
   "execution_count": 20,
   "id": "cbade231",
   "metadata": {},
   "outputs": [
    {
     "data": {
      "text/plain": [
       "0"
      ]
     },
     "execution_count": 20,
     "metadata": {},
     "output_type": "execute_result"
    }
   ],
   "source": [
    "users.duplicated().sum()"
   ]
  },
  {
   "cell_type": "markdown",
   "id": "a55ad4b6",
   "metadata": {},
   "source": [
    "Вывод:\n",
    "- было проверено наличие пропусков, которые отстутствуют во всех датафреймах\n",
    "- было проверено наличие дубликатов, которые обнаружены в датафрейме `users` в количестве 31 штуки, однако процент дубликатов от общего количества данных в `users` составил 2%, поэтому повторяющиеся строки были удалены\n",
    "- в датафреме `rides` присутствует дата поездки, что учитывалось при загрузке данных в начале. Было проанализированно, что `rides` содержит в себе данные за 2021 год за каждый месяц"
   ]
  },
  {
   "cell_type": "markdown",
   "id": "1f10b839",
   "metadata": {},
   "source": [
    "#### Шаг 3. Исследовательский анализ данных"
   ]
  },
  {
   "cell_type": "markdown",
   "id": "12607673",
   "metadata": {},
   "source": [
    "Опишите и визуализируйте общую информацию о пользователях и поездках:\n",
    "- частота встречаемости городов;\n",
    "- соотношение пользователей с подпиской и без подписки;\n",
    "- возраст пользователей;\n",
    "- расстояние, которое пользователь преодолел за одну поездку;\n",
    "- продолжительность поездок."
   ]
  },
  {
   "cell_type": "markdown",
   "id": "058d0868",
   "metadata": {},
   "source": [
    "Для начала проанализируем частоту встречаемости городов. Для этого реализуем список уникальных значений и вычислим их процент от общего числа. Города у нас расположены в датафрейме `users` в столбце `city`"
   ]
  },
  {
   "cell_type": "code",
   "execution_count": 21,
   "id": "9a702b60",
   "metadata": {},
   "outputs": [
    {
     "data": {
      "text/html": [
       "<div>\n",
       "<style scoped>\n",
       "    .dataframe tbody tr th:only-of-type {\n",
       "        vertical-align: middle;\n",
       "    }\n",
       "\n",
       "    .dataframe tbody tr th {\n",
       "        vertical-align: top;\n",
       "    }\n",
       "\n",
       "    .dataframe thead th {\n",
       "        text-align: right;\n",
       "    }\n",
       "</style>\n",
       "<table border=\"1\" class=\"dataframe\">\n",
       "  <thead>\n",
       "    <tr style=\"text-align: right;\">\n",
       "      <th></th>\n",
       "      <th>number_of_users</th>\n",
       "      <th>city</th>\n",
       "    </tr>\n",
       "  </thead>\n",
       "  <tbody>\n",
       "    <tr>\n",
       "      <th>0</th>\n",
       "      <td>219</td>\n",
       "      <td>Пятигорск</td>\n",
       "    </tr>\n",
       "    <tr>\n",
       "      <th>1</th>\n",
       "      <td>204</td>\n",
       "      <td>Екатеринбург</td>\n",
       "    </tr>\n",
       "    <tr>\n",
       "      <th>2</th>\n",
       "      <td>198</td>\n",
       "      <td>Ростов-на-Дону</td>\n",
       "    </tr>\n",
       "    <tr>\n",
       "      <th>3</th>\n",
       "      <td>193</td>\n",
       "      <td>Краснодар</td>\n",
       "    </tr>\n",
       "    <tr>\n",
       "      <th>4</th>\n",
       "      <td>189</td>\n",
       "      <td>Сочи</td>\n",
       "    </tr>\n",
       "    <tr>\n",
       "      <th>5</th>\n",
       "      <td>183</td>\n",
       "      <td>Омск</td>\n",
       "    </tr>\n",
       "    <tr>\n",
       "      <th>6</th>\n",
       "      <td>180</td>\n",
       "      <td>Тюмень</td>\n",
       "    </tr>\n",
       "    <tr>\n",
       "      <th>7</th>\n",
       "      <td>168</td>\n",
       "      <td>Москва</td>\n",
       "    </tr>\n",
       "  </tbody>\n",
       "</table>\n",
       "</div>"
      ],
      "text/plain": [
       "   number_of_users            city\n",
       "0              219       Пятигорск\n",
       "1              204    Екатеринбург\n",
       "2              198  Ростов-на-Дону\n",
       "3              193       Краснодар\n",
       "4              189            Сочи\n",
       "5              183            Омск\n",
       "6              180          Тюмень\n",
       "7              168          Москва"
      ]
     },
     "execution_count": 21,
     "metadata": {},
     "output_type": "execute_result"
    }
   ],
   "source": [
    "city_freq = (users['city'].value_counts()).to_frame()\n",
    "city_freq.columns = ['number_of_users']\n",
    "city_freq['city'] = city_freq.index\n",
    "city_freq = city_freq.reset_index(drop=True)\n",
    "city_freq"
   ]
  },
  {
   "cell_type": "code",
   "execution_count": 22,
   "id": "80af27e3",
   "metadata": {
    "scrolled": false
   },
   "outputs": [
    {
     "data": {
      "image/png": "[encoded data removed]",
      "text/plain": [
       "<Figure size 864x432 with 1 Axes>"
      ]
     },
     "metadata": {},
     "output_type": "display_data"
    }
   ],
   "source": [
    "sns.catplot(data=city_freq, x='city', y='number_of_users', height=6, aspect=2, kind='bar');\n",
    "plt.title('Частота встречаемости городов')\n",
    "plt.xlabel(\"Название города\")\n",
    "plt.ylabel(\"Количество пользователей\")\n",
    "plt.show()"
   ]
  },
  {
   "cell_type": "markdown",
   "id": "788d17ec",
   "metadata": {},
   "source": [
    "Теперь необходимо рассчитать соотношение пользователей с подпиской и без подписки. Для этого нам необходимо рассчитать количество пользователей с подпиской и без нее, а далее вычислить как они относятся друг к другу. Для начала рассмотрим какие вообще значения содержаться в столбце `subscription_type` в датафрейме `users`"
   ]
  },
  {
   "cell_type": "code",
   "execution_count": 23,
   "id": "b03f76fe",
   "metadata": {},
   "outputs": [
    {
     "data": {
      "text/plain": [
       "array(['ultra', 'free'], dtype=object)"
      ]
     },
     "execution_count": 23,
     "metadata": {},
     "output_type": "execute_result"
    }
   ],
   "source": [
    "users['subscription_type'].unique()"
   ]
  },
  {
   "cell_type": "markdown",
   "id": "6125387f",
   "metadata": {},
   "source": [
    "Есть два значения в стоблце - `ultra` и `free`, отвечающие для наличие подписки и ее отсутствие соответственно. Рассчитаем теперь отношение двух групп пользователей друг к другу и какую часть они занимают от общего числа пользователей."
   ]
  },
  {
   "cell_type": "code",
   "execution_count": 24,
   "id": "cfc4170c",
   "metadata": {},
   "outputs": [
    {
     "data": {
      "text/html": [
       "<div>\n",
       "<style scoped>\n",
       "    .dataframe tbody tr th:only-of-type {\n",
       "        vertical-align: middle;\n",
       "    }\n",
       "\n",
       "    .dataframe tbody tr th {\n",
       "        vertical-align: top;\n",
       "    }\n",
       "\n",
       "    .dataframe thead th {\n",
       "        text-align: right;\n",
       "    }\n",
       "</style>\n",
       "<table border=\"1\" class=\"dataframe\">\n",
       "  <thead>\n",
       "    <tr style=\"text-align: right;\">\n",
       "      <th></th>\n",
       "      <th>count</th>\n",
       "      <th>part</th>\n",
       "    </tr>\n",
       "  </thead>\n",
       "  <tbody>\n",
       "    <tr>\n",
       "      <th>free</th>\n",
       "      <td>835</td>\n",
       "      <td>0.544329</td>\n",
       "    </tr>\n",
       "    <tr>\n",
       "      <th>ultra</th>\n",
       "      <td>699</td>\n",
       "      <td>0.455671</td>\n",
       "    </tr>\n",
       "  </tbody>\n",
       "</table>\n",
       "</div>"
      ],
      "text/plain": [
       "       count      part\n",
       "free     835  0.544329\n",
       "ultra    699  0.455671"
      ]
     },
     "execution_count": 24,
     "metadata": {},
     "output_type": "execute_result"
    }
   ],
   "source": [
    "subscription_values = users['subscription_type'].value_counts().to_frame()\n",
    "subscription_values.columns = ['count']\n",
    "subscription_values['part'] = subscription_values['count'] / len(users['subscription_type'])\n",
    "subscription_values"
   ]
  },
  {
   "cell_type": "code",
   "execution_count": 25,
   "id": "f02c8c7b",
   "metadata": {},
   "outputs": [
    {
     "data": {
      "image/png": "[encoded data removed]",
      "text/plain": [
       "<Figure size 720x432 with 1 Axes>"
      ]
     },
     "metadata": {},
     "output_type": "display_data"
    }
   ],
   "source": [
    "fig, ax = plt.subplots(figsize=(10, 6))\n",
    "ax.pie(subscription_values['part'], labels=subscription_values.index, autopct='%.0f%%', radius=1)\n",
    "ax.set_title('Распределение типов подписки среди пользователей');"
   ]
  },
  {
   "cell_type": "code",
   "execution_count": 26,
   "id": "f458cead",
   "metadata": {},
   "outputs": [
    {
     "data": {
      "text/plain": [
       "1.19"
      ]
     },
     "execution_count": 26,
     "metadata": {},
     "output_type": "execute_result"
    }
   ],
   "source": [
    "ratio = round(subscription_values.loc['free', 'count'] / subscription_values.loc['ultra', 'count'], 2)\n",
    "ratio"
   ]
  },
  {
   "cell_type": "markdown",
   "id": "60565c13",
   "metadata": {},
   "source": [
    "При помощи круговой диаграммы можно легко отследить соотношение пользователей с подпиской и без нее. Так же было найдено отношение количества пользователей без подписки к пользователям с подпиской и это значение составляет 1,19"
   ]
  },
  {
   "cell_type": "markdown",
   "id": "f5049206",
   "metadata": {},
   "source": [
    "Рассмотрим возраст пользователей. Для этого построим диаграмму распределения по возрастам"
   ]
  },
  {
   "cell_type": "code",
   "execution_count": 27,
   "id": "d94f119b",
   "metadata": {},
   "outputs": [
    {
     "data": {
      "image/png": "[encoded data removed]",
      "text/plain": [
       "<Figure size 1152x576 with 1 Axes>"
      ]
     },
     "metadata": {},
     "output_type": "display_data"
    }
   ],
   "source": [
    "sns.displot(users['age'], kde=True, height=8, aspect=2);\n",
    "plt.title('Распределение возрастов пользователей');\n",
    "plt.xlabel(\"Возраст\")\n",
    "plt.ylabel(\"Количество пользователей\")\n",
    "plt.show()"
   ]
  },
  {
   "cell_type": "markdown",
   "id": "eab38e8d",
   "metadata": {},
   "source": [
    "Данное распределение очень похоже на нормальное, наибольшее количество пользователей среди молодого поколения - макимум пользователей наблюдается среди людей 25 лет. Однако сервисом не пользуются люди старше 40 и младше 13 лет. Целевая аудитория находится в диапазоне 13 - 40 лет."
   ]
  },
  {
   "cell_type": "markdown",
   "id": "0e4aad87",
   "metadata": {},
   "source": [
    "Теперь необходимо рассчитать расстояние, которое пользователь преодолел за одну поездку. Для этого оценим среднее расстояние и медианное расстояние для всех пользователей, а затем произведем группировку по конкретным пользователям."
   ]
  },
  {
   "cell_type": "code",
   "execution_count": 28,
   "id": "3d21dbe2",
   "metadata": {},
   "outputs": [
    {
     "data": {
      "text/plain": [
       "3070.66"
      ]
     },
     "execution_count": 28,
     "metadata": {},
     "output_type": "execute_result"
    }
   ],
   "source": [
    "distance_avg = round(rides['distance'].mean(), 2)\n",
    "distance_avg"
   ]
  },
  {
   "cell_type": "code",
   "execution_count": 29,
   "id": "fc6ce48b",
   "metadata": {},
   "outputs": [
    {
     "data": {
      "text/plain": [
       "3133.61"
      ]
     },
     "execution_count": 29,
     "metadata": {},
     "output_type": "execute_result"
    }
   ],
   "source": [
    "distance_median = round(rides['distance'].median(), 2)\n",
    "distance_median"
   ]
  },
  {
   "cell_type": "code",
   "execution_count": 30,
   "id": "5f5fe5e0",
   "metadata": {},
   "outputs": [
    {
     "data": {
      "text/plain": [
       "count    18068.000000\n",
       "mean      3070.659976\n",
       "std       1116.831209\n",
       "min          0.855683\n",
       "25%       2543.226360\n",
       "50%       3133.609994\n",
       "75%       3776.222735\n",
       "max       7211.007745\n",
       "Name: distance, dtype: float64"
      ]
     },
     "execution_count": 30,
     "metadata": {},
     "output_type": "execute_result"
    }
   ],
   "source": [
    "rides['distance'].describe()"
   ]
  },
  {
   "cell_type": "code",
   "execution_count": 31,
   "id": "cdff1b24",
   "metadata": {},
   "outputs": [
    {
     "data": {
      "image/png": "[encoded data removed]",
      "text/plain": [
       "<Figure size 1152x576 with 1 Axes>"
      ]
     },
     "metadata": {},
     "output_type": "display_data"
    }
   ],
   "source": [
    "sns.displot(rides['distance'], kde=True, height=8, aspect=2);\n",
    "plt.title('Распределение дистанции поездки');\n",
    "plt.xlabel('Расстояние за одну поездку, метр');\n",
    "plt.ylabel('Количество поездок');"
   ]
  },
  {
   "cell_type": "markdown",
   "id": "f5ac22ad",
   "metadata": {},
   "source": [
    "Средняя дистанция у пользователей 3070.66 метров, это значение близко к медианному значению, равному 3133.61 метров. Построив гистограмму распредления по длине дистанции у пользователей, мы действительно можем заметить, что они преодолевают в основном дистанцию в 3100 метров."
   ]
  },
  {
   "cell_type": "markdown",
   "id": "ad9a51c7",
   "metadata": {},
   "source": [
    "Рассмотрим какая средняя продолжительность поездок для пользователей и так же построим диаграмму распределение среднего времени поездки у каждого пользователя."
   ]
  },
  {
   "cell_type": "code",
   "execution_count": 32,
   "id": "040fb3b8",
   "metadata": {},
   "outputs": [
    {
     "data": {
      "text/plain": [
       "17.81"
      ]
     },
     "execution_count": 32,
     "metadata": {},
     "output_type": "execute_result"
    }
   ],
   "source": [
    "duration_avg = round(rides['duration'].mean(), 2)\n",
    "duration_avg"
   ]
  },
  {
   "cell_type": "code",
   "execution_count": 33,
   "id": "25d8ba56",
   "metadata": {},
   "outputs": [
    {
     "data": {
      "text/plain": [
       "17.68"
      ]
     },
     "execution_count": 33,
     "metadata": {},
     "output_type": "execute_result"
    }
   ],
   "source": [
    "duration_median = round(rides['duration'].median(), 2)\n",
    "duration_median"
   ]
  },
  {
   "cell_type": "code",
   "execution_count": 34,
   "id": "0a7a5e8f",
   "metadata": {},
   "outputs": [
    {
     "data": {
      "text/plain": [
       "count    18068.000000\n",
       "mean        17.805011\n",
       "std          6.091051\n",
       "min          0.500000\n",
       "25%         13.597563\n",
       "50%         17.678395\n",
       "75%         21.724800\n",
       "max         40.823963\n",
       "Name: duration, dtype: float64"
      ]
     },
     "execution_count": 34,
     "metadata": {},
     "output_type": "execute_result"
    }
   ],
   "source": [
    "rides['duration'].describe()"
   ]
  },
  {
   "cell_type": "code",
   "execution_count": 35,
   "id": "a457b28a",
   "metadata": {},
   "outputs": [
    {
     "data": {
      "image/png": "[encoded data removed]",
      "text/plain": [
       "<Figure size 1152x576 with 1 Axes>"
      ]
     },
     "metadata": {},
     "output_type": "display_data"
    }
   ],
   "source": [
    "sns.displot(rides['duration'], kde=True, height=8, aspect=2);\n",
    "plt.title('Распределение длительности поездки');\n",
    "plt.xlabel('Длительность одной поездки, минуты');\n",
    "plt.ylabel('Количество поездок');"
   ]
  },
  {
   "cell_type": "markdown",
   "id": "2b1a09c7",
   "metadata": {},
   "source": [
    "Средняя длительность поездки у пользователей 17.81 минут, это значение близко к медианному значению, равному 17.68 минут. Построив гистограмму распредления по длительности поездки у пользователей, мы действительно можем заметить, что большее количество пользователей тратят в основном 18 минут на поездку."
   ]
  },
  {
   "cell_type": "markdown",
   "id": "d851670d",
   "metadata": {},
   "source": [
    "**Вывод**:\n",
    "- Количество пользователей в городах находится в диапазоне от 168 до 220. Самый популярный город у сервиса это Пятигорск, тогда как самый непопулярный - Москва. Количество пользователей в городах друг от друга различаются не слишком сильно, а распределены довольно равномерно относительно друг друга\n",
    "- В сервисе есть два типа подписки: платная и бесплатная. Количество пользователей без платной подписки больше в 1.19 раз, их количество составляет 835 пользователей, тогда как с подпиской ultra - 699. Пользователи с бесплатной подпиской составляют 54% от общего числа, а пользователи второй категории 46%\n",
    "- Основные пользователи сервиса - молодые люди в восрасте от 13 до 40 лет. Большее количество пользователей имеют возраст в районе 25 лет и распределение возрастов похоже на нормальное распределение\n",
    "- Средняя дистанция у пользователей 3070.66 метров, это значение близко к медианному значению, равному 3133.61 метров. Построив гистограмму распредления по длине дистанции у пользователей, мы можем заметить, что эти значения различаются из-за небольшого пика в районе 800 метров. Однако мксимальный пик достигается около 3100 метров\n",
    "- Средняя длительность поездки у пользователей 17.81 минут, это значение близко к медианному значению, равному 17.68 минут. Построив гистограмму распредления по длительности поездки у пользователей, мы действительно можем заметить, что большее количество пользователей тратят в около 18 минут на поездку. Распредение имеет нормальную форму с небольшим выбросом в районе нуля."
   ]
  },
  {
   "cell_type": "markdown",
   "id": "ac815d29",
   "metadata": {
    "collapsed": true
   },
   "source": [
    "#### Шаг 4. Объединение данных"
   ]
  },
  {
   "cell_type": "markdown",
   "id": "54706346",
   "metadata": {},
   "source": [
    "##### Объедините данные о пользователях, поездках и подписках в один датафрейм. Для этого воспользуйтесь методом merge().\n",
    "##### Создайте ещё два датафрейма из датафрейма, созданного на этапе 4.1:\n",
    "- c данными о пользователях без подписки;\n",
    "- с данными о пользователях с подпиской.\n",
    "\n",
    "##### Визуализируйте информацию о расстоянии и времени поездок для пользователей обеих категорий."
   ]
  },
  {
   "cell_type": "code",
   "execution_count": 36,
   "id": "c60d5f01",
   "metadata": {},
   "outputs": [],
   "source": [
    "data = users.merge(rides, on='user_id').merge(subscriptions, on='subscription_type')"
   ]
  },
  {
   "cell_type": "code",
   "execution_count": 37,
   "id": "6bf976f0",
   "metadata": {},
   "outputs": [
    {
     "name": "stdout",
     "output_type": "stream",
     "text": [
      "Объединение произошло без потерь или дубликатов\n"
     ]
    }
   ],
   "source": [
    "if len(rides) == len(data):\n",
    "    print('Объединение произошло без потерь или дубликатов')\n",
    "else:\n",
    "    print('При объединении произошла ошибка')"
   ]
  },
  {
   "cell_type": "code",
   "execution_count": 38,
   "id": "28876384",
   "metadata": {},
   "outputs": [
    {
     "data": {
      "text/plain": [
       "18068"
      ]
     },
     "execution_count": 38,
     "metadata": {},
     "output_type": "execute_result"
    }
   ],
   "source": [
    "len(data)"
   ]
  },
  {
   "cell_type": "markdown",
   "id": "aac4609d",
   "metadata": {},
   "source": [
    "Создадим датафрейм с пользователями имеющими платную подписку"
   ]
  },
  {
   "cell_type": "code",
   "execution_count": 39,
   "id": "5361a485",
   "metadata": {},
   "outputs": [],
   "source": [
    "data_with_sub = data.query('subscription_type == \"ultra\"')"
   ]
  },
  {
   "cell_type": "markdown",
   "id": "b668d73a",
   "metadata": {},
   "source": [
    "И так же создадим датафрейм с пользователями, пользующимися сервисом бесплатно"
   ]
  },
  {
   "cell_type": "code",
   "execution_count": 40,
   "id": "f53632b4",
   "metadata": {},
   "outputs": [],
   "source": [
    "data_without_sub = data.query('subscription_type == \"free\"')"
   ]
  },
  {
   "cell_type": "markdown",
   "id": "73785652",
   "metadata": {},
   "source": [
    "Проделаем те же операции, что и для этого: посчитаем среднее, медиану, а также постоим диаграмму распределение. Для удобства реализацию выполним при помощи функции"
   ]
  },
  {
   "cell_type": "code",
   "execution_count": 41,
   "id": "530e77bd",
   "metadata": {},
   "outputs": [],
   "source": [
    "def data_info(parametr: str, data: pd.DataFrame, info: str):\n",
    "    print(f'Info about: {info}')\n",
    "    print(f'Mean of {parametr} is {round(data[parametr].mean(), 2)}')\n",
    "    print(f'Median of {parametr} is {round(data[parametr].median(), 2)}')\n",
    "    print(data[parametr].describe())"
   ]
  },
  {
   "cell_type": "code",
   "execution_count": 42,
   "id": "cc5ab5c9",
   "metadata": {},
   "outputs": [
    {
     "name": "stdout",
     "output_type": "stream",
     "text": [
      "Info about: Users without subscription\n",
      "Mean of distance is 3045.5\n",
      "Median of distance is 3114.65\n",
      "count    11568.000000\n",
      "mean      3045.495282\n",
      "std       1246.173806\n",
      "min          0.855683\n",
      "25%       2366.562689\n",
      "50%       3114.648465\n",
      "75%       3905.697894\n",
      "max       7211.007745\n",
      "Name: distance, dtype: float64\n"
     ]
    }
   ],
   "source": [
    "data_info('distance', data_without_sub, 'Users without subscription')"
   ]
  },
  {
   "cell_type": "code",
   "execution_count": 43,
   "id": "affa46ad",
   "metadata": {},
   "outputs": [
    {
     "name": "stdout",
     "output_type": "stream",
     "text": [
      "Info about: Users with subscription\n",
      "Mean of distance is 3115.45\n",
      "Median of distance is 3148.64\n",
      "count    6500.000000\n",
      "mean     3115.445388\n",
      "std       836.895330\n",
      "min       244.210438\n",
      "25%      2785.444017\n",
      "50%      3148.637229\n",
      "75%      3560.574425\n",
      "max      5699.769662\n",
      "Name: distance, dtype: float64\n"
     ]
    }
   ],
   "source": [
    "data_info('distance', data_with_sub, 'Users with subscription')"
   ]
  },
  {
   "cell_type": "code",
   "execution_count": 44,
   "id": "4265eb30",
   "metadata": {},
   "outputs": [
    {
     "data": {
      "image/png": "[encoded data removed]",
      "text/plain": [
       "<Figure size 1267.17x576 with 1 Axes>"
      ]
     },
     "metadata": {},
     "output_type": "display_data"
    }
   ],
   "source": [
    "sns.displot(data, x='distance', hue='subscription_type', kde=True, height=8, aspect=2);\n",
    "plt.title('Распределение дистанции в зависимости от типа подписки');\n",
    "plt.ylabel('Количество поездок');\n",
    "plt.xlabel('Дистанция, метр');"
   ]
  },
  {
   "cell_type": "markdown",
   "id": "e4829355",
   "metadata": {},
   "source": [
    "Пользователи без подписки совершают большее количество поездок по сравнению с пользователями с подпиской `ultra`. Для пользователей с подпиской `ultra` распределение похоже на нормальное, имеется выброс в районе 1000 метров и 4100 метров. Для пользователец без подписки нет настолько яркого максимума, однако среднее и медианное значение не сильно отмличаются от пользователй с подпиской и составляет 3045.5 и 3114.65 соответственно. Для пользователей с подпиской эти значения являются 3115.45 и 3148.64 для среднего и медианного значений соответственно."
   ]
  },
  {
   "cell_type": "code",
   "execution_count": 45,
   "id": "c83a0284",
   "metadata": {
    "scrolled": false
   },
   "outputs": [
    {
     "name": "stdout",
     "output_type": "stream",
     "text": [
      "Info about: Users with subscription\n",
      "Mean of duration is 18.54\n",
      "Median of duration is 18.18\n",
      "count    6500.000000\n",
      "mean       18.541985\n",
      "std         5.572048\n",
      "min         3.760353\n",
      "25%        14.524654\n",
      "50%        18.178153\n",
      "75%        21.884129\n",
      "max        40.823963\n",
      "Name: duration, dtype: float64\n"
     ]
    }
   ],
   "source": [
    "data_info('duration', data_with_sub, 'Users with subscription')"
   ]
  },
  {
   "cell_type": "code",
   "execution_count": 46,
   "id": "8193d288",
   "metadata": {
    "scrolled": true
   },
   "outputs": [
    {
     "name": "stdout",
     "output_type": "stream",
     "text": [
      "Info about: Users without subscription\n",
      "Mean of duration is 17.39\n",
      "Median of duration is 17.33\n",
      "count    11568.000000\n",
      "mean        17.390909\n",
      "std          6.326803\n",
      "min          0.500000\n",
      "25%         12.958437\n",
      "50%         17.326890\n",
      "75%         21.594071\n",
      "max         34.948498\n",
      "Name: duration, dtype: float64\n"
     ]
    }
   ],
   "source": [
    "data_info('duration', data_without_sub, 'Users without subscription')"
   ]
  },
  {
   "cell_type": "code",
   "execution_count": 47,
   "id": "941e74e6",
   "metadata": {},
   "outputs": [
    {
     "data": {
      "image/png": "[encoded data removed]",
      "text/plain": [
       "<Figure size 1267.17x576 with 1 Axes>"
      ]
     },
     "metadata": {},
     "output_type": "display_data"
    }
   ],
   "source": [
    "sns.displot(data, x='duration', hue='subscription_type', kde=True, height=8, aspect=2);\n",
    "plt.title('Распределение длительности поездки в зависимости от типа подписки');\n",
    "plt.ylabel('Количество поездок');\n",
    "plt.xlabel('Длительность, мин');"
   ]
  },
  {
   "cell_type": "markdown",
   "id": "7c9ccb46",
   "metadata": {},
   "source": [
    "На распределении длительности поездок так же отчетливо видно, что поездок без подкписки совершается больше, чем поездок с подпиской. По форме оба распределения напоминают нормальное распределение, однако для бесплатных подписок заметен выброс в районе нуля - 1 минуты поездки. Средние и медианные значения для пользователей без подписки и с подпиской составляют 17.39 и 17.33 минуты и 18.54 и 18.18 минут.\n",
    "\n",
    "То есть разница между длительностью около 1 минуты для среднего и медианного значений."
   ]
  },
  {
   "cell_type": "markdown",
   "id": "07b25203",
   "metadata": {},
   "source": [
    "**Вывод**\n",
    "\n",
    "Оценивая полученнные результаты, можно сделать вывод, что люди с подпиской совершают более длительнеы и дальние поездки, в отличие от пользователей без нее. Однако средние значения отличаются друг от друга не так сильно для этих групп пользователй. Так же пользователи с подпиской совершают примерно в два раза больше поездок, чем пользователи с бесплатной подпиской."
   ]
  },
  {
   "cell_type": "markdown",
   "id": "2cd312bd",
   "metadata": {},
   "source": [
    "#### Шаг 5. Подсчёт выручки"
   ]
  },
  {
   "cell_type": "markdown",
   "id": "d6642b76",
   "metadata": {},
   "source": [
    "##### Создайте датафрейм с агрегированными данными о поездках на основе датафрейма с объединёнными данными из шага 4: найдите суммарное расстояние, количество поездок и суммарное время для каждого пользователя за каждый месяц.\n"
   ]
  },
  {
   "cell_type": "code",
   "execution_count": 48,
   "id": "3afcfc18",
   "metadata": {},
   "outputs": [],
   "source": [
    "data['duration'] = np.ceil(data['duration'])"
   ]
  },
  {
   "cell_type": "code",
   "execution_count": 49,
   "id": "3c4a0b70",
   "metadata": {},
   "outputs": [
    {
     "data": {
      "text/html": [
       "<div>\n",
       "<style scoped>\n",
       "    .dataframe tbody tr th:only-of-type {\n",
       "        vertical-align: middle;\n",
       "    }\n",
       "\n",
       "    .dataframe tbody tr th {\n",
       "        vertical-align: top;\n",
       "    }\n",
       "\n",
       "    .dataframe thead th {\n",
       "        text-align: right;\n",
       "    }\n",
       "</style>\n",
       "<table border=\"1\" class=\"dataframe\">\n",
       "  <thead>\n",
       "    <tr style=\"text-align: right;\">\n",
       "      <th></th>\n",
       "      <th>user_id</th>\n",
       "      <th>month</th>\n",
       "      <th>distance_sum</th>\n",
       "      <th>count_rides</th>\n",
       "      <th>duration_sum</th>\n",
       "    </tr>\n",
       "  </thead>\n",
       "  <tbody>\n",
       "    <tr>\n",
       "      <th>0</th>\n",
       "      <td>1</td>\n",
       "      <td>1</td>\n",
       "      <td>7027.511294</td>\n",
       "      <td>2</td>\n",
       "      <td>42.0</td>\n",
       "    </tr>\n",
       "    <tr>\n",
       "      <th>1</th>\n",
       "      <td>1</td>\n",
       "      <td>4</td>\n",
       "      <td>754.159807</td>\n",
       "      <td>1</td>\n",
       "      <td>7.0</td>\n",
       "    </tr>\n",
       "    <tr>\n",
       "      <th>2</th>\n",
       "      <td>1</td>\n",
       "      <td>8</td>\n",
       "      <td>6723.470560</td>\n",
       "      <td>2</td>\n",
       "      <td>46.0</td>\n",
       "    </tr>\n",
       "    <tr>\n",
       "      <th>3</th>\n",
       "      <td>1</td>\n",
       "      <td>10</td>\n",
       "      <td>5809.911100</td>\n",
       "      <td>2</td>\n",
       "      <td>32.0</td>\n",
       "    </tr>\n",
       "    <tr>\n",
       "      <th>4</th>\n",
       "      <td>1</td>\n",
       "      <td>11</td>\n",
       "      <td>7003.499363</td>\n",
       "      <td>3</td>\n",
       "      <td>56.0</td>\n",
       "    </tr>\n",
       "  </tbody>\n",
       "</table>\n",
       "</div>"
      ],
      "text/plain": [
       "   user_id  month  distance_sum  count_rides  duration_sum\n",
       "0        1      1   7027.511294            2          42.0\n",
       "1        1      4    754.159807            1           7.0\n",
       "2        1      8   6723.470560            2          46.0\n",
       "3        1     10   5809.911100            2          32.0\n",
       "4        1     11   7003.499363            3          56.0"
      ]
     },
     "execution_count": 49,
     "metadata": {},
     "output_type": "execute_result"
    }
   ],
   "source": [
    "data_agg = data.groupby(['user_id', 'month']).agg({'distance': ['sum', 'count'], \n",
    "                                                   'duration': 'sum'}).reset_index()\n",
    "data_agg.columns = ['user_id', 'month', 'distance_sum', 'count_rides', 'duration_sum']\n",
    "data_agg.head()"
   ]
  },
  {
   "cell_type": "markdown",
   "id": "0565e8eb",
   "metadata": {},
   "source": [
    "##### В этот же датафрейм добавьте столбец с помесячной выручкой, которую принёс каждый пользователь. Для этого обратитесь к информации об условиях оплаты для подписчиков и тех, у кого нет подписки. Продолжительность каждой поездки в каждой строке исходного датафрейма для подсчёта стоимости округляется до следующего целого числа: например, значения 25.3, 25.5 и 26.0 должны быть преобразованы к 26."
   ]
  },
  {
   "cell_type": "code",
   "execution_count": 50,
   "id": "8b31ec0d",
   "metadata": {},
   "outputs": [
    {
     "data": {
      "text/plain": [
       "11331"
      ]
     },
     "execution_count": 50,
     "metadata": {},
     "output_type": "execute_result"
    }
   ],
   "source": [
    "len(data_agg)"
   ]
  },
  {
   "cell_type": "markdown",
   "id": "6e314ad8",
   "metadata": {},
   "source": [
    "Добавим так же столбец `revenue` с выручкой, который принес каждый пользователь, для этого добавим тип подписки для каждого пользователя в датафрейме `data_prices` "
   ]
  },
  {
   "cell_type": "code",
   "execution_count": 51,
   "id": "3f7feb8d",
   "metadata": {},
   "outputs": [],
   "source": [
    "data_prices = data_agg.merge(users[['user_id', 'subscription_type']], on='user_id', how='inner')\n",
    "data_prices = data_prices.merge(subscriptions[['subscription_type', 'minute_price', 'start_ride_price', 'subscription_fee']],\n",
    "                               on='subscription_type', how='inner')"
   ]
  },
  {
   "cell_type": "code",
   "execution_count": 52,
   "id": "02364c45",
   "metadata": {},
   "outputs": [
    {
     "data": {
      "text/plain": [
       "11331"
      ]
     },
     "execution_count": 52,
     "metadata": {},
     "output_type": "execute_result"
    }
   ],
   "source": [
    "len(data_prices)"
   ]
  },
  {
   "cell_type": "markdown",
   "id": "ca620fd3",
   "metadata": {},
   "source": [
    "Для рассчета выручки используем данные о расценках в зависимости от подписки из таблицы `subscriptions`"
   ]
  },
  {
   "cell_type": "code",
   "execution_count": 53,
   "id": "9493e433",
   "metadata": {},
   "outputs": [],
   "source": [
    "data_prices['revenue'] = (data_prices['minute_price'] * data_prices['duration_sum'] \n",
    "                          + data_prices['start_ride_price'] * data_prices['count_rides'] \n",
    "                          + data_prices['subscription_fee'])"
   ]
  },
  {
   "cell_type": "code",
   "execution_count": 54,
   "id": "a5f5a198",
   "metadata": {},
   "outputs": [
    {
     "data": {
      "text/html": [
       "<div>\n",
       "<style scoped>\n",
       "    .dataframe tbody tr th:only-of-type {\n",
       "        vertical-align: middle;\n",
       "    }\n",
       "\n",
       "    .dataframe tbody tr th {\n",
       "        vertical-align: top;\n",
       "    }\n",
       "\n",
       "    .dataframe thead th {\n",
       "        text-align: right;\n",
       "    }\n",
       "</style>\n",
       "<table border=\"1\" class=\"dataframe\">\n",
       "  <thead>\n",
       "    <tr style=\"text-align: right;\">\n",
       "      <th></th>\n",
       "      <th>user_id</th>\n",
       "      <th>month</th>\n",
       "      <th>distance_sum</th>\n",
       "      <th>count_rides</th>\n",
       "      <th>duration_sum</th>\n",
       "      <th>subscription_type</th>\n",
       "      <th>minute_price</th>\n",
       "      <th>start_ride_price</th>\n",
       "      <th>subscription_fee</th>\n",
       "      <th>revenue</th>\n",
       "    </tr>\n",
       "  </thead>\n",
       "  <tbody>\n",
       "    <tr>\n",
       "      <th>0</th>\n",
       "      <td>1</td>\n",
       "      <td>1</td>\n",
       "      <td>7027.511294</td>\n",
       "      <td>2</td>\n",
       "      <td>42.0</td>\n",
       "      <td>ultra</td>\n",
       "      <td>6</td>\n",
       "      <td>0</td>\n",
       "      <td>199</td>\n",
       "      <td>451.0</td>\n",
       "    </tr>\n",
       "    <tr>\n",
       "      <th>1</th>\n",
       "      <td>1</td>\n",
       "      <td>4</td>\n",
       "      <td>754.159807</td>\n",
       "      <td>1</td>\n",
       "      <td>7.0</td>\n",
       "      <td>ultra</td>\n",
       "      <td>6</td>\n",
       "      <td>0</td>\n",
       "      <td>199</td>\n",
       "      <td>241.0</td>\n",
       "    </tr>\n",
       "    <tr>\n",
       "      <th>2</th>\n",
       "      <td>1</td>\n",
       "      <td>8</td>\n",
       "      <td>6723.470560</td>\n",
       "      <td>2</td>\n",
       "      <td>46.0</td>\n",
       "      <td>ultra</td>\n",
       "      <td>6</td>\n",
       "      <td>0</td>\n",
       "      <td>199</td>\n",
       "      <td>475.0</td>\n",
       "    </tr>\n",
       "    <tr>\n",
       "      <th>3</th>\n",
       "      <td>1</td>\n",
       "      <td>10</td>\n",
       "      <td>5809.911100</td>\n",
       "      <td>2</td>\n",
       "      <td>32.0</td>\n",
       "      <td>ultra</td>\n",
       "      <td>6</td>\n",
       "      <td>0</td>\n",
       "      <td>199</td>\n",
       "      <td>391.0</td>\n",
       "    </tr>\n",
       "    <tr>\n",
       "      <th>4</th>\n",
       "      <td>1</td>\n",
       "      <td>11</td>\n",
       "      <td>7003.499363</td>\n",
       "      <td>3</td>\n",
       "      <td>56.0</td>\n",
       "      <td>ultra</td>\n",
       "      <td>6</td>\n",
       "      <td>0</td>\n",
       "      <td>199</td>\n",
       "      <td>535.0</td>\n",
       "    </tr>\n",
       "  </tbody>\n",
       "</table>\n",
       "</div>"
      ],
      "text/plain": [
       "   user_id  month  distance_sum  count_rides  duration_sum subscription_type  \\\n",
       "0        1      1   7027.511294            2          42.0             ultra   \n",
       "1        1      4    754.159807            1           7.0             ultra   \n",
       "2        1      8   6723.470560            2          46.0             ultra   \n",
       "3        1     10   5809.911100            2          32.0             ultra   \n",
       "4        1     11   7003.499363            3          56.0             ultra   \n",
       "\n",
       "   minute_price  start_ride_price  subscription_fee  revenue  \n",
       "0             6                 0               199    451.0  \n",
       "1             6                 0               199    241.0  \n",
       "2             6                 0               199    475.0  \n",
       "3             6                 0               199    391.0  \n",
       "4             6                 0               199    535.0  "
      ]
     },
     "execution_count": 54,
     "metadata": {},
     "output_type": "execute_result"
    }
   ],
   "source": [
    "data_prices.head()"
   ]
  },
  {
   "cell_type": "markdown",
   "id": "2be6d716",
   "metadata": {},
   "source": [
    "**Вывод**\n",
    "\n",
    "В данном месте было произведено агрегированние суммарного расстояния, количества поездок и суммарной длительности для каждого пользователя в каждом месяце. Для рассчета выручки по пользователю было применено объединие датафремов и далее рассчет через арифметические действия. \n",
    "\n",
    "Данные готовы к проверке гипотез и статистическим тестам."
   ]
  },
  {
   "cell_type": "markdown",
   "id": "3f574794",
   "metadata": {},
   "source": [
    "#### Шаг 6. Проверка гипотез"
   ]
  },
  {
   "cell_type": "markdown",
   "id": "9226fa38",
   "metadata": {},
   "source": [
    "Продакт-менеджеры сервиса хотят увеличить количество пользователей с подпиской. Для этого они будут проводить различные акции, но сначала нужно выяснить несколько важных моментов.\n",
    "##### Важно понять, тратят ли пользователи с подпиской больше времени на поездки? Если да, то пользователи с подпиской могут быть «выгоднее» для компании. Проверьте гипотезу. Используйте исходные данные о продолжительности каждой сессии — отдельно для подписчиков и тех, у кого нет подписки."
   ]
  },
  {
   "cell_type": "markdown",
   "id": "69212b0d",
   "metadata": {},
   "source": [
    "Для начала проверим гипотезу о том, что пользователи с подпиской проводят больше времени в поездке. Тогда наша нулевая гипотеза звучит так \n",
    "\n",
    "- H_0: Пользователи с подпиской проводят одинаковое времени в поездке, что и пользователи без подписки. \n",
    "\n",
    "Альтернативная гипотеза будет звучать так \n",
    "\n",
    "- H_1: Пользователи  с подпиской проводят больше времени, чем пользователи без подписки.\n",
    "\n",
    "Проведем тест с использованием гипотезы о равенстве двух генеральных совокупностей."
   ]
  },
  {
   "cell_type": "code",
   "execution_count": 55,
   "id": "362f9118",
   "metadata": {},
   "outputs": [
    {
     "name": "stdout",
     "output_type": "stream",
     "text": [
      "Подтверждена альтернативная теория\n"
     ]
    }
   ],
   "source": [
    "alpha = 0.05\n",
    "\n",
    "result_theory_1 = st.ttest_ind(data_with_sub['duration'], data_without_sub['duration'], alternative='greater')\n",
    "if result_theory_1.pvalue > alpha:\n",
    "    print(f'Нулевая теория подтверждена')\n",
    "else:\n",
    "    print(f'Подтверждена альтернативная теория')"
   ]
  },
  {
   "cell_type": "markdown",
   "id": "b9796ab9",
   "metadata": {},
   "source": [
    "Соответственно мы получили результат, говорящий о том, что пользователи с подпиской проводят больше времени, чем пользователи без подписки"
   ]
  },
  {
   "cell_type": "markdown",
   "id": "c909f452",
   "metadata": {},
   "source": [
    "##### Расстояние одной поездки в 3130 метров — оптимальное с точки зрения износа самоката. Можно ли сказать, что среднее расстояние, которое проезжают пользователи с подпиской за одну поездку, не превышает 3130 метров? Проверьте гипотезу и сделайте выводы.\n",
    "\n",
    "Теперь проверим, является ли среднее расстояние для пользователей с подпиской меньше 3130 метров за одну поездку. Для этого сформулируем две гипотезы:\n",
    "\n",
    "- Нулевая гипотеза Н_0: Среднее расстояние равно 3130 метров за одну поездку\n",
    "- Альтернативная гипотеза Н_1: Среднее расстояние превышает 3130 метров за одну поездку"
   ]
  },
  {
   "cell_type": "code",
   "execution_count": 56,
   "id": "5a42a66d",
   "metadata": {},
   "outputs": [
    {
     "name": "stdout",
     "output_type": "stream",
     "text": [
      "Нулевая теория подтверждена\n"
     ]
    }
   ],
   "source": [
    "optimal_distance = 3130\n",
    "\n",
    "result_theory_2 = st.ttest_1samp(data_with_sub['distance'], optimal_distance, alternative='greater')\n",
    "\n",
    "if result_theory_2.pvalue > alpha:\n",
    "    print('Нулевая теория подтверждена')\n",
    "else:\n",
    "    print('Подтверждена альтернативная теория')"
   ]
  },
  {
   "cell_type": "markdown",
   "id": "6bfa9ad9",
   "metadata": {},
   "source": [
    "В итоге мы получили результат, что в среднем поездка для пользователей с подпиской равно или не превышает 3130 метров."
   ]
  },
  {
   "cell_type": "markdown",
   "id": "b6c77e21",
   "metadata": {},
   "source": [
    "##### Проверьте гипотезу о том, будет ли помесячная выручка от пользователей с подпиской по месяцам выше, чем выручка от пользователей без подписки. Сделайте вывод."
   ]
  },
  {
   "cell_type": "markdown",
   "id": "001d8dd7",
   "metadata": {},
   "source": [
    "Для проверки этой гипотезы разобьем созданый нам датафрейм с подсчетом выручки на два и при помощи гипотезы о равенстве двух генеральных совокупностей рассчитаем, будет ли помесячная выручка от пользователей с подпиской по месяцам выше, чем от пользователей без подписки.\n",
    "\n",
    "Для этого сформулируем нулевую и альтернативные теории:\n",
    "- H_0: Помесячная выручка не зависит от вида подписки\n",
    "- Н_1: Помесячная выручка от пользователей с подпиской выше, чем от пользователей без подписки"
   ]
  },
  {
   "cell_type": "code",
   "execution_count": 57,
   "id": "24ab0308",
   "metadata": {},
   "outputs": [
    {
     "name": "stdout",
     "output_type": "stream",
     "text": [
      "Подтверждена альтернативная теория\n"
     ]
    }
   ],
   "source": [
    "result_theory_3 = st.ttest_ind(data_prices.query('subscription_type == \"ultra\"')['revenue'], \n",
    "                               data_prices.query('subscription_type == \"free\"')['revenue'], \n",
    "                               alternative='greater')\n",
    "\n",
    "if result_theory_3.pvalue > alpha:\n",
    "    print('Нулевая теория подтверждена')\n",
    "else:\n",
    "    print('Подтверждена альтернативная теория')"
   ]
  },
  {
   "cell_type": "markdown",
   "id": "458b979e",
   "metadata": {},
   "source": [
    "В итоге мы получили результат, что помесячная выручка от пользователей с подпиской выше, чем от пользователей без подписки"
   ]
  },
  {
   "cell_type": "markdown",
   "id": "7592e41d",
   "metadata": {},
   "source": [
    "##### Представьте такую ситуацию: техническая команда сервиса обновила сервера, с которыми взаимодействует мобильное приложение. Она надеется, что из-за этого количество обращений в техподдержку значимо снизилось. Некоторый файл содержит для каждого пользователя данные о количестве обращений до обновления и после него. Какой тест вам понадобился бы для проверки этой гипотезы?"
   ]
  },
  {
   "cell_type": "markdown",
   "id": "1b92fb7c",
   "metadata": {},
   "source": [
    "Гипотеза о равенстве средних для зависимых (парных) выборок\n",
    "\n",
    "При помощи `st.ttest_rel`"
   ]
  },
  {
   "cell_type": "markdown",
   "id": "4cad42fe",
   "metadata": {},
   "source": [
    "**Вывод**:\n",
    "На этом шаге было проверено 3 гипотезы:\n",
    "- тратят ли пользователи с подпиской больше времени на поездки: Действительно, пользователи с подпиской тратят больше времени на поездки, чем пользователи с бесплатной подпиской\n",
    "- среднее расстояние, которое проезжают пользователи с подпиской за одну поездку, не превышает 3130 метров: Гипотеза подтвердилась - пользователи с подпиской проезжают 3130 или меньше метров за одну поездку\n",
    "- будет ли помесячная выручка от пользователей с подпиской по месяцам выше, чем выручка от пользователей без подписки: да, помесячная выручка от пользователей с подпиской выше, чем от пользователей без подписки. Соответственно для сервиса более выгодны пользователи с подпиской, чем вторая категория пользователей"
   ]
  },
  {
   "cell_type": "markdown",
   "id": "098245ca",
   "metadata": {},
   "source": [
    "#### Шаг 7. Распределения"
   ]
  },
  {
   "cell_type": "markdown",
   "id": "c0cab33a",
   "metadata": {},
   "source": [
    "##### Отделу маркетинга GoFast поставили задачу: нужно провести акцию с раздачей промокодов на один бесплатный месяц подписки, в рамках которой как минимум 100 существующих клиентов должны продлить эту подписку. То есть по завершении периода действия подписки пользователь может либо отказаться от неё, либо продлить, совершив соответствующий платёж. \n",
    "Эта акция уже проводилась ранее и по итогу выяснилось, что после бесплатного пробного периода подписку продлевают 10 % пользователей. Выясните, какое минимальное количество промокодов нужно разослать, чтобы вероятность не выполнить план была примерно 5 %. Подберите параметры распределения, описывающего эту ситуацию, постройте график распределения и сформулируйте ответ на вопрос о количестве промокодов."
   ]
  },
  {
   "cell_type": "code",
   "execution_count": 58,
   "id": "b0cf5bae",
   "metadata": {},
   "outputs": [],
   "source": [
    "n, x = 100, 100\n",
    "p = 0.1\n",
    "result = binom.cdf(x, n, p)\n",
    "\n",
    "while result >= 0.05:\n",
    "    result = binom.cdf(x, n, p)\n",
    "    n += 1"
   ]
  },
  {
   "cell_type": "code",
   "execution_count": 59,
   "id": "afe8cebc",
   "metadata": {},
   "outputs": [
    {
     "name": "stderr",
     "output_type": "stream",
     "text": [
      "/opt/conda/lib/python3.9/site-packages/scipy/stats/_discrete_distns.py:78: RuntimeWarning: divide by zero encountered in _binom_pdf\n",
      "  return _boost._binom_pdf(x, n, p)\n"
     ]
    }
   ],
   "source": [
    "distr = []\n",
    "for k in range(0, n + 1):\n",
    "    chance = binom.pmf(k, n, p)\n",
    "    distr.append(chance)"
   ]
  },
  {
   "cell_type": "code",
   "execution_count": 60,
   "id": "48a52ace",
   "metadata": {},
   "outputs": [
    {
     "name": "stdout",
     "output_type": "stream",
     "text": [
      "Вероятность не выполнить план 5.0% при количестве высланных промокодов 1173\n"
     ]
    },
    {
     "data": {
      "image/png": "[encoded data removed]",
      "text/plain": [
       "<Figure size 432x288 with 1 Axes>"
      ]
     },
     "metadata": {},
     "output_type": "display_data"
    }
   ],
   "source": [
    "plt.bar(range(0, n + 1), distr)\n",
    "plt.title('distribution of probability')\n",
    "print(f'Вероятность не выполнить план {round(result * 100, 1)}% при количестве высланных промокодов {n}')"
   ]
  },
  {
   "cell_type": "markdown",
   "id": "702fda6a",
   "metadata": {},
   "source": [
    "Соответственно отделу маркетинга нужно выслать от 1173 промокодов, чтобы выполнить план"
   ]
  },
  {
   "cell_type": "markdown",
   "id": "1589378e",
   "metadata": {},
   "source": [
    "##### Отдел маркетинга рассылает клиентам push-уведомления в мобильном приложении. Клиенты могут открыть его или не открывать. Известно, что уведомления открывают около 40 % получивших клиентов. Отдел планирует разослать 1 млн уведомлений. С помощью аппроксимации постройте примерный график распределения и оцените вероятность того, что уведомление откроют не более 399,5 тыс. пользователей."
   ]
  },
  {
   "cell_type": "markdown",
   "id": "67bad0be",
   "metadata": {},
   "source": [
    "Эта ситуация тоже описывается биномиальным распределением. Но считать каждое отдельное значение достаточно долго. Вы можете воспользоваться нормальной аппроксимацией биномиального распределения и `cdf()` для быстрой оценки."
   ]
  },
  {
   "cell_type": "code",
   "execution_count": 61,
   "id": "75e0c861",
   "metadata": {},
   "outputs": [],
   "source": [
    "from math import sqrt\n",
    "\n",
    "n = 10**6\n",
    "p = 0.4\n",
    "\n",
    "mu = n * p\n",
    "sigma = sqrt(n * p * (1 - p))\n",
    "\n",
    "distr_2 = st.norm(mu, sigma) \n",
    "\n",
    "result_2 = distr_2.cdf(399500)"
   ]
  },
  {
   "cell_type": "code",
   "execution_count": 62,
   "id": "4d3b1516",
   "metadata": {},
   "outputs": [
    {
     "name": "stdout",
     "output_type": "stream",
     "text": [
      "Вероятность 0.154, что уведомление откроют не более 399,5 тыс. пользователей.\n"
     ]
    }
   ],
   "source": [
    "print(f'Вероятность {round(result_2, 3)}, что уведомление откроют не более 399,5 тыс. пользователей.')"
   ]
  },
  {
   "cell_type": "code",
   "execution_count": 63,
   "id": "e1498a86",
   "metadata": {},
   "outputs": [
    {
     "data": {
      "image/png": "[encoded data removed]",
      "text/plain": [
       "<Figure size 432x288 with 1 Axes>"
      ]
     },
     "metadata": {},
     "output_type": "display_data"
    }
   ],
   "source": [
    "x = np.linspace(mu - 3*sigma, mu + 3*sigma, 100)\n",
    "plt.plot(x, st.norm.pdf(x, mu, sigma))\n",
    "plt.title('distribution of probability');"
   ]
  },
  {
   "cell_type": "markdown",
   "id": "53c1411a",
   "metadata": {},
   "source": [
    "Вероятность того, что уведомление откроют не более 399,5 тыс. пользователей 15,4%."
   ]
  },
  {
   "cell_type": "markdown",
   "id": "07579b17",
   "metadata": {},
   "source": [
    "**Итоговый вывод:**\n",
    "\n",
    "В ходе проделанной работы было выполнено:\n",
    " - Предварительный анализ данных трех датафремов, подсчет пропусков и дубликатов данных. В результате в таблице rides былоудален 31 дубликат, составлявший 2 процента от общего числа поездок\n",
    " - Исследовательский анализ данных в ходе которого было выяснено:\n",
    "     - Количество пользователей в городах находится в диапазоне от 168 до 220. Самый популярный город у сервиса это Пятигорск, тогда как самый непопулярный - Москва. Количество пользователей в городах друг от друга различаются не слишком сильно, а распределены довольно равномерно относительно друг друга\n",
    "    - В сервисе есть два типа подписки: платная и бесплатная. Количество пользователей без платной подписки больше в 1.19 раз, их количество составляет 835 пользователей, тогда как с подпиской ultra - 699. Пользователи с бесплатной подпиской составляют 54% от общего числа, а пользователи второй категории 46%\n",
    "    - Основные пользователи сервиса - молодые люди в восрасте от 13 до 40 лет. Большее количество пользователей имеют возраст в районе 25 лет и распределение возрастов похоже на нормальное распределение\n",
    "    - Средняя дистанция у пользователей 3070.66 метров, это значение близко к медианному значению, равному 3133.61 метров. Построив гистограмму распредления по длине дистанции у пользователей, мы можем заметить, что эти значения различаются из-за небольшого пика в районе 800 метров. Однако мксимальный пик достигается около 3100 метров\n",
    "    - Средняя длительность поездки у пользователей 17.81 минут, это значение близко к медианному значению, равному 17.68 минут. Построив гистограмму распредления по длительности поездки у пользователей, мы действительно можем заметить, что большее количество пользователей тратят в около 18 минут на поездку. Распредение имеет нормальную форму с небольшим выбросом в районе нуля.\n",
    " - Была создана таблица с агрегированными данными, объединенная по пользователям и месяцам, куда были добавлены данные о подписках пользователей и полученной выгоды\n",
    " - Было проверено три гипотезы и получены по ним результаты:\n",
    "     - тратят ли пользователи с подпиской больше времени на поездки: Действительно, пользователи с подпиской тратят больше времени на поездки, чем пользователи с бесплатной подпиской\n",
    "    - среднее расстояние, которое проезжают пользователи с подпиской за одну поездку, не превышает 3130 метров: Гипотеза подтвердилась - пользователи с подпиской проезжают 3130 или меньше метров за одну поездку\n",
    "    - будет ли помесячная выручка от пользователей с подпиской по месяцам выше, чем выручка от пользователей без подписки: да, помесячная выручка от пользователей с подпиской выше, чем от пользователей без подписки. Соответственно для сервиса более выгодны пользователи с подпиской, чем вторая категория пользователей\n",
    "  - Отделу маркетинга GoFast поставили задачу: нужно провести акцию с раздачей промокодов на один бесплатный месяц подписки, в рамках которой как минимум 100 существующих клиентов должны продлить эту подписку - для этого необходимо разослать от 1137 промокодов\n",
    "  - Для push-уведомлений вероятность того, что уведомление откроют не более 399,5 тыс. пользователей 15,4% при отправке 1 млн уведомлений.\n",
    "  \n",
    " **Итоговый вывод**\n",
    " - Пользователи с подпиской тратят больше времени в поездках, но это значение не сильно отличается от пользователей без подписки. Однако пользователи с подпиской будут более выгодны для компании за счет того, что статистически они приносят больше выручки помесячно.\n",
    " - Пользователи с подпиской более выгодны за счет того, что они проездают меньше или равное оптимальное расстояние для предотвращения износа самоката"
   ]
  },
  {
   "cell_type": "markdown",
   "id": "a7063bf1",
   "metadata": {},
   "source": [
    "**Рекомендации:**\n",
    " - Возможно стоит изменить способ хранения данных о стоимости подписки - в таблице хранятся нули там, где должны хранится пустые значения. \n",
    " - Вероятно стоит увеличить вариации подписок -тем самым дать больше вариантов оплаты для пользователей и как следствие увеличить выручку"
   ]
  },
  {
   "cell_type": "code",
   "execution_count": null,
   "id": "b57a1664",
   "metadata": {},
   "outputs": [],
   "source": []
  },
  {
   "cell_type": "code",
   "execution_count": null,
   "id": "dcdd13f5",
   "metadata": {},
   "outputs": [],
   "source": []
  }
 ],
 "metadata": {
  "ExecuteTimeLog": [
   {
    "duration": 45,
    "start_time": "2024-02-03T20:36:58.764Z"
   },
   {
    "duration": 413,
    "start_time": "2024-02-03T20:37:02.112Z"
   },
   {
    "duration": 186,
    "start_time": "2024-02-03T20:37:02.990Z"
   },
   {
    "duration": 11,
    "start_time": "2024-02-03T20:38:19.347Z"
   },
   {
    "duration": 10,
    "start_time": "2024-02-03T20:39:11.236Z"
   },
   {
    "duration": 10,
    "start_time": "2024-02-03T20:39:29.850Z"
   },
   {
    "duration": 10,
    "start_time": "2024-02-03T21:13:53.577Z"
   },
   {
    "duration": 7,
    "start_time": "2024-02-03T21:14:13.784Z"
   },
   {
    "duration": 5,
    "start_time": "2024-02-03T21:14:40.800Z"
   },
   {
    "duration": 622,
    "start_time": "2024-02-03T21:15:25.775Z"
   },
   {
    "duration": 217,
    "start_time": "2024-02-03T21:15:35.177Z"
   },
   {
    "duration": 370,
    "start_time": "2024-02-06T13:47:32.596Z"
   },
   {
    "duration": 196,
    "start_time": "2024-02-06T13:47:36.255Z"
   },
   {
    "duration": 9,
    "start_time": "2024-02-06T13:47:42.012Z"
   },
   {
    "duration": 9,
    "start_time": "2024-02-06T13:47:45.944Z"
   },
   {
    "duration": 832,
    "start_time": "2024-02-06T13:48:55.666Z"
   },
   {
    "duration": 68,
    "start_time": "2024-02-06T13:51:22.567Z"
   },
   {
    "duration": 119,
    "start_time": "2024-02-06T13:53:16.360Z"
   },
   {
    "duration": 216,
    "start_time": "2024-02-06T13:53:49.185Z"
   },
   {
    "duration": 161,
    "start_time": "2024-02-06T14:00:20.078Z"
   },
   {
    "duration": 103,
    "start_time": "2024-02-06T14:00:25.118Z"
   },
   {
    "duration": 7,
    "start_time": "2024-02-06T14:00:30.898Z"
   },
   {
    "duration": 2,
    "start_time": "2024-02-06T14:00:51.725Z"
   },
   {
    "duration": 7,
    "start_time": "2024-02-06T14:00:55.023Z"
   },
   {
    "duration": 2,
    "start_time": "2024-02-06T14:01:13.715Z"
   },
   {
    "duration": 12,
    "start_time": "2024-02-06T14:01:16.370Z"
   },
   {
    "duration": 11,
    "start_time": "2024-02-06T14:01:26.076Z"
   },
   {
    "duration": 11,
    "start_time": "2024-02-06T14:01:52.252Z"
   },
   {
    "duration": 23,
    "start_time": "2024-02-06T14:02:06.129Z"
   },
   {
    "duration": 13,
    "start_time": "2024-02-06T14:02:15.141Z"
   },
   {
    "duration": 11,
    "start_time": "2024-02-06T14:02:29.665Z"
   },
   {
    "duration": 9,
    "start_time": "2024-02-06T14:03:10.316Z"
   },
   {
    "duration": 188,
    "start_time": "2024-02-06T14:03:20.840Z"
   },
   {
    "duration": 2147,
    "start_time": "2024-02-06T14:04:53.789Z"
   },
   {
    "duration": 2568,
    "start_time": "2024-02-06T14:11:30.023Z"
   },
   {
    "duration": 245,
    "start_time": "2024-02-06T14:13:49.289Z"
   },
   {
    "duration": 614,
    "start_time": "2024-02-06T14:16:55.068Z"
   },
   {
    "duration": 100,
    "start_time": "2024-02-06T14:17:17.014Z"
   },
   {
    "duration": 13,
    "start_time": "2024-02-06T14:17:22.592Z"
   },
   {
    "duration": 502,
    "start_time": "2024-02-06T14:18:30.563Z"
   },
   {
    "duration": 526,
    "start_time": "2024-02-06T14:20:08.457Z"
   },
   {
    "duration": 649,
    "start_time": "2024-02-06T14:20:35.994Z"
   },
   {
    "duration": 266,
    "start_time": "2024-02-06T14:21:29.294Z"
   },
   {
    "duration": 276,
    "start_time": "2024-02-06T14:23:32.269Z"
   },
   {
    "duration": 266,
    "start_time": "2024-02-06T14:23:42.736Z"
   },
   {
    "duration": 262,
    "start_time": "2024-02-06T14:23:53.087Z"
   },
   {
    "duration": 258,
    "start_time": "2024-02-06T14:24:18.829Z"
   },
   {
    "duration": 333,
    "start_time": "2024-02-06T14:24:24.949Z"
   },
   {
    "duration": 103,
    "start_time": "2024-02-06T14:25:25.622Z"
   },
   {
    "duration": 2,
    "start_time": "2024-02-06T14:25:34.233Z"
   },
   {
    "duration": 264,
    "start_time": "2024-02-06T14:25:34.891Z"
   },
   {
    "duration": 1139,
    "start_time": "2024-02-06T14:25:50.133Z"
   },
   {
    "duration": 3,
    "start_time": "2024-02-06T14:26:42.710Z"
   },
   {
    "duration": 137,
    "start_time": "2024-02-06T14:26:43.312Z"
   },
   {
    "duration": 10,
    "start_time": "2024-02-06T14:26:46.804Z"
   },
   {
    "duration": 7,
    "start_time": "2024-02-06T14:26:47.224Z"
   },
   {
    "duration": 834,
    "start_time": "2024-02-06T14:26:47.948Z"
   },
   {
    "duration": 9,
    "start_time": "2024-02-06T14:26:52.204Z"
   },
   {
    "duration": 5,
    "start_time": "2024-02-06T14:26:52.566Z"
   },
   {
    "duration": 320,
    "start_time": "2024-02-06T14:27:12.921Z"
   },
   {
    "duration": 201,
    "start_time": "2024-02-06T14:27:39.396Z"
   },
   {
    "duration": 3,
    "start_time": "2024-02-06T14:28:25.735Z"
   },
   {
    "duration": 112,
    "start_time": "2024-02-06T14:28:26.032Z"
   },
   {
    "duration": 68,
    "start_time": "2024-02-06T14:29:28.812Z"
   },
   {
    "duration": 4,
    "start_time": "2024-02-06T14:29:32.979Z"
   },
   {
    "duration": 159,
    "start_time": "2024-02-06T14:29:33.255Z"
   },
   {
    "duration": 3,
    "start_time": "2024-02-06T14:29:52.509Z"
   },
   {
    "duration": 143,
    "start_time": "2024-02-06T14:29:52.765Z"
   },
   {
    "duration": 9,
    "start_time": "2024-02-06T14:29:55.960Z"
   },
   {
    "duration": 5,
    "start_time": "2024-02-06T14:29:56.428Z"
   },
   {
    "duration": 858,
    "start_time": "2024-02-06T14:29:57.037Z"
   },
   {
    "duration": 8,
    "start_time": "2024-02-06T14:30:02.738Z"
   },
   {
    "duration": 5,
    "start_time": "2024-02-06T14:30:03.054Z"
   },
   {
    "duration": 349,
    "start_time": "2024-02-06T14:30:03.684Z"
   },
   {
    "duration": 4,
    "start_time": "2024-02-06T14:35:45.154Z"
   },
   {
    "duration": 146,
    "start_time": "2024-02-06T14:35:55.861Z"
   },
   {
    "duration": 904,
    "start_time": "2024-02-06T14:36:22.264Z"
   },
   {
    "duration": 3,
    "start_time": "2024-02-06T14:36:30.798Z"
   },
   {
    "duration": 9,
    "start_time": "2024-02-06T14:36:32.134Z"
   },
   {
    "duration": 156,
    "start_time": "2024-02-06T14:36:45.064Z"
   },
   {
    "duration": 3,
    "start_time": "2024-02-06T14:36:51.213Z"
   },
   {
    "duration": 161,
    "start_time": "2024-02-06T14:36:51.589Z"
   },
   {
    "duration": 4,
    "start_time": "2024-02-06T14:37:35.195Z"
   },
   {
    "duration": 150,
    "start_time": "2024-02-06T14:37:35.718Z"
   },
   {
    "duration": 3,
    "start_time": "2024-02-06T14:38:35.989Z"
   },
   {
    "duration": 153,
    "start_time": "2024-02-06T14:38:36.293Z"
   },
   {
    "duration": 3,
    "start_time": "2024-02-06T14:38:43.773Z"
   },
   {
    "duration": 147,
    "start_time": "2024-02-06T14:38:44.268Z"
   },
   {
    "duration": 3,
    "start_time": "2024-02-06T14:39:19.282Z"
   },
   {
    "duration": 145,
    "start_time": "2024-02-06T14:39:19.561Z"
   },
   {
    "duration": 3,
    "start_time": "2024-02-06T14:39:26.793Z"
   },
   {
    "duration": 153,
    "start_time": "2024-02-06T14:39:27.139Z"
   },
   {
    "duration": 4,
    "start_time": "2024-02-06T14:40:32.798Z"
   },
   {
    "duration": 164,
    "start_time": "2024-02-06T14:40:33.095Z"
   },
   {
    "duration": 3,
    "start_time": "2024-02-06T14:40:53.226Z"
   },
   {
    "duration": 149,
    "start_time": "2024-02-06T14:40:53.976Z"
   },
   {
    "duration": 3,
    "start_time": "2024-02-06T14:41:01.507Z"
   },
   {
    "duration": 154,
    "start_time": "2024-02-06T14:41:01.775Z"
   },
   {
    "duration": 3,
    "start_time": "2024-02-06T14:41:12.486Z"
   },
   {
    "duration": 225,
    "start_time": "2024-02-06T14:41:12.776Z"
   },
   {
    "duration": 870,
    "start_time": "2024-02-06T14:41:21.936Z"
   },
   {
    "duration": 350,
    "start_time": "2024-02-06T14:41:29.692Z"
   },
   {
    "duration": 358,
    "start_time": "2024-02-06T14:41:41.633Z"
   },
   {
    "duration": 9,
    "start_time": "2024-02-06T14:52:45.946Z"
   },
   {
    "duration": 7,
    "start_time": "2024-02-06T14:52:58.965Z"
   },
   {
    "duration": 451,
    "start_time": "2024-02-06T14:53:00.078Z"
   },
   {
    "duration": 771,
    "start_time": "2024-02-06T14:53:14.824Z"
   },
   {
    "duration": 31,
    "start_time": "2024-02-06T14:53:22.522Z"
   },
   {
    "duration": 66,
    "start_time": "2024-02-06T14:53:43.773Z"
   },
   {
    "duration": 756,
    "start_time": "2024-02-06T14:53:48.937Z"
   },
   {
    "duration": 64,
    "start_time": "2024-02-06T14:54:36.891Z"
   },
   {
    "duration": 812,
    "start_time": "2024-02-06T14:54:56.973Z"
   },
   {
    "duration": 9,
    "start_time": "2024-02-06T14:55:36.115Z"
   },
   {
    "duration": 7,
    "start_time": "2024-02-06T14:57:49.509Z"
   },
   {
    "duration": 9,
    "start_time": "2024-02-06T14:58:15.640Z"
   },
   {
    "duration": 10,
    "start_time": "2024-02-06T15:01:12.717Z"
   },
   {
    "duration": 8,
    "start_time": "2024-02-06T15:01:47.358Z"
   },
   {
    "duration": 3,
    "start_time": "2024-02-06T15:19:03.185Z"
   },
   {
    "duration": 9,
    "start_time": "2024-02-06T15:19:07.069Z"
   },
   {
    "duration": 6,
    "start_time": "2024-02-06T15:19:12.873Z"
   },
   {
    "duration": 2,
    "start_time": "2024-02-06T15:20:07.414Z"
   },
   {
    "duration": 9,
    "start_time": "2024-02-06T15:20:18.543Z"
   },
   {
    "duration": 2,
    "start_time": "2024-02-06T15:20:27.125Z"
   },
   {
    "duration": 10,
    "start_time": "2024-02-06T15:20:28.009Z"
   },
   {
    "duration": 8,
    "start_time": "2024-02-06T15:20:48.724Z"
   },
   {
    "duration": 7,
    "start_time": "2024-02-06T15:20:55.309Z"
   },
   {
    "duration": 7,
    "start_time": "2024-02-06T15:21:53.689Z"
   },
   {
    "duration": 2,
    "start_time": "2024-02-06T15:24:40.746Z"
   },
   {
    "duration": 8,
    "start_time": "2024-02-06T15:24:56.960Z"
   },
   {
    "duration": 3,
    "start_time": "2024-02-06T15:25:08.034Z"
   },
   {
    "duration": 3,
    "start_time": "2024-02-06T15:25:15.786Z"
   },
   {
    "duration": 8,
    "start_time": "2024-02-06T15:25:16.448Z"
   },
   {
    "duration": 8,
    "start_time": "2024-02-06T15:25:51.490Z"
   },
   {
    "duration": 156,
    "start_time": "2024-02-06T15:26:12.097Z"
   },
   {
    "duration": 21,
    "start_time": "2024-02-06T15:29:06.114Z"
   },
   {
    "duration": 8,
    "start_time": "2024-02-06T15:29:14.293Z"
   },
   {
    "duration": 22,
    "start_time": "2024-02-06T15:29:31.375Z"
   },
   {
    "duration": 8,
    "start_time": "2024-02-06T15:32:07.933Z"
   },
   {
    "duration": 13,
    "start_time": "2024-02-06T15:34:28.592Z"
   },
   {
    "duration": 3,
    "start_time": "2024-02-06T15:35:08.448Z"
   },
   {
    "duration": 12,
    "start_time": "2024-02-06T15:35:09.183Z"
   },
   {
    "duration": 5,
    "start_time": "2024-02-06T15:35:26.973Z"
   },
   {
    "duration": 3,
    "start_time": "2024-02-06T15:38:10.911Z"
   },
   {
    "duration": 12,
    "start_time": "2024-02-06T15:38:11.840Z"
   },
   {
    "duration": 3,
    "start_time": "2024-02-06T15:38:27.772Z"
   },
   {
    "duration": 3,
    "start_time": "2024-02-06T15:38:39.756Z"
   },
   {
    "duration": 13,
    "start_time": "2024-02-06T15:38:40.596Z"
   },
   {
    "duration": 3,
    "start_time": "2024-02-06T15:39:15.456Z"
   },
   {
    "duration": 15,
    "start_time": "2024-02-06T15:39:16.311Z"
   },
   {
    "duration": 4,
    "start_time": "2024-02-06T15:39:35.871Z"
   },
   {
    "duration": 16,
    "start_time": "2024-02-06T15:39:36.563Z"
   },
   {
    "duration": 3,
    "start_time": "2024-02-06T15:39:41.288Z"
   },
   {
    "duration": 14,
    "start_time": "2024-02-06T15:39:44.258Z"
   },
   {
    "duration": 3,
    "start_time": "2024-02-06T15:39:54.938Z"
   },
   {
    "duration": 13,
    "start_time": "2024-02-06T15:39:55.704Z"
   },
   {
    "duration": 116,
    "start_time": "2024-02-06T15:41:06.190Z"
   },
   {
    "duration": 3,
    "start_time": "2024-02-06T15:41:11.350Z"
   },
   {
    "duration": 13,
    "start_time": "2024-02-06T15:41:12.520Z"
   },
   {
    "duration": 3,
    "start_time": "2024-02-06T15:41:25.000Z"
   },
   {
    "duration": 13,
    "start_time": "2024-02-06T15:41:26.951Z"
   },
   {
    "duration": 3,
    "start_time": "2024-02-06T15:42:03.613Z"
   },
   {
    "duration": 12,
    "start_time": "2024-02-06T15:42:04.646Z"
   },
   {
    "duration": 7,
    "start_time": "2024-02-06T15:43:07.677Z"
   },
   {
    "duration": 11,
    "start_time": "2024-02-06T15:43:10.450Z"
   },
   {
    "duration": 7,
    "start_time": "2024-02-06T15:43:37.059Z"
   },
   {
    "duration": 5,
    "start_time": "2024-02-06T15:43:44.415Z"
   },
   {
    "duration": 9,
    "start_time": "2024-02-06T15:44:03.837Z"
   },
   {
    "duration": 6,
    "start_time": "2024-02-06T15:44:08.442Z"
   },
   {
    "duration": 6,
    "start_time": "2024-02-06T15:44:13.678Z"
   },
   {
    "duration": 6,
    "start_time": "2024-02-06T15:44:15.958Z"
   },
   {
    "duration": 11,
    "start_time": "2024-02-06T15:44:21.973Z"
   },
   {
    "duration": 11,
    "start_time": "2024-02-06T15:46:11.358Z"
   },
   {
    "duration": 4,
    "start_time": "2024-02-06T15:46:27.694Z"
   },
   {
    "duration": 372,
    "start_time": "2024-02-06T15:46:52.397Z"
   },
   {
    "duration": 671,
    "start_time": "2024-02-06T15:46:52.771Z"
   },
   {
    "duration": 2,
    "start_time": "2024-02-06T15:46:53.443Z"
   },
   {
    "duration": 71,
    "start_time": "2024-02-06T15:46:53.446Z"
   },
   {
    "duration": 4,
    "start_time": "2024-02-06T15:46:53.518Z"
   },
   {
    "duration": 168,
    "start_time": "2024-02-06T15:46:53.523Z"
   },
   {
    "duration": 792,
    "start_time": "2024-02-06T15:46:53.693Z"
   },
   {
    "duration": 353,
    "start_time": "2024-02-06T15:46:54.486Z"
   },
   {
    "duration": 8,
    "start_time": "2024-02-06T15:46:54.840Z"
   },
   {
    "duration": 14,
    "start_time": "2024-02-06T15:46:54.849Z"
   },
   {
    "duration": 3,
    "start_time": "2024-02-06T15:46:54.864Z"
   },
   {
    "duration": 8,
    "start_time": "2024-02-06T15:46:54.868Z"
   },
   {
    "duration": 13,
    "start_time": "2024-02-06T15:46:54.877Z"
   },
   {
    "duration": 16,
    "start_time": "2024-02-06T15:46:54.892Z"
   },
   {
    "duration": 17,
    "start_time": "2024-02-06T15:46:54.909Z"
   },
   {
    "duration": 5,
    "start_time": "2024-02-06T15:46:59.894Z"
   },
   {
    "duration": 4,
    "start_time": "2024-02-06T15:47:30.032Z"
   },
   {
    "duration": 6,
    "start_time": "2024-02-06T15:47:30.377Z"
   },
   {
    "duration": 1432,
    "start_time": "2024-02-07T21:48:31.173Z"
   },
   {
    "duration": 302,
    "start_time": "2024-02-07T21:48:32.607Z"
   },
   {
    "duration": 4,
    "start_time": "2024-02-07T21:48:32.911Z"
   },
   {
    "duration": 207,
    "start_time": "2024-02-07T21:48:32.916Z"
   },
   {
    "duration": 1022,
    "start_time": "2024-02-07T21:48:33.125Z"
   },
   {
    "duration": 478,
    "start_time": "2024-02-07T21:48:34.148Z"
   },
   {
    "duration": 12,
    "start_time": "2024-02-07T21:48:34.628Z"
   },
   {
    "duration": 10,
    "start_time": "2024-02-07T21:48:34.641Z"
   },
   {
    "duration": 24,
    "start_time": "2024-02-07T21:48:34.653Z"
   },
   {
    "duration": 12,
    "start_time": "2024-02-07T21:48:34.678Z"
   },
   {
    "duration": 5,
    "start_time": "2024-02-07T21:48:34.691Z"
   },
   {
    "duration": 17,
    "start_time": "2024-02-07T21:48:34.697Z"
   },
   {
    "duration": 4,
    "start_time": "2024-02-07T21:48:34.716Z"
   },
   {
    "duration": 2,
    "start_time": "2024-02-07T21:48:40.513Z"
   },
   {
    "duration": 7,
    "start_time": "2024-02-07T21:59:04.593Z"
   },
   {
    "duration": 6,
    "start_time": "2024-02-07T22:00:00.217Z"
   },
   {
    "duration": 6,
    "start_time": "2024-02-07T22:03:50.486Z"
   },
   {
    "duration": 133,
    "start_time": "2024-02-07T22:17:08.200Z"
   },
   {
    "duration": 102,
    "start_time": "2024-02-07T22:17:46.095Z"
   },
   {
    "duration": 6,
    "start_time": "2024-02-07T22:17:50.545Z"
   },
   {
    "duration": 218,
    "start_time": "2024-02-07T22:19:15.769Z"
   },
   {
    "duration": 312,
    "start_time": "2024-02-07T22:27:55.731Z"
   },
   {
    "duration": 262,
    "start_time": "2024-02-07T22:28:16.985Z"
   },
   {
    "duration": 15,
    "start_time": "2024-02-07T22:30:08.479Z"
   },
   {
    "duration": 13,
    "start_time": "2024-02-07T22:31:07.376Z"
   },
   {
    "duration": 5,
    "start_time": "2024-02-07T22:31:46.771Z"
   },
   {
    "duration": 5,
    "start_time": "2024-02-07T22:32:11.836Z"
   },
   {
    "duration": 9,
    "start_time": "2024-02-07T22:32:20.544Z"
   },
   {
    "duration": 7,
    "start_time": "2024-02-07T22:33:49.428Z"
   },
   {
    "duration": 9,
    "start_time": "2024-02-07T22:34:04.765Z"
   },
   {
    "duration": 4,
    "start_time": "2024-02-07T22:34:25.601Z"
   },
   {
    "duration": 6,
    "start_time": "2024-02-07T22:34:38.254Z"
   },
   {
    "duration": 6,
    "start_time": "2024-02-07T22:34:49.587Z"
   },
   {
    "duration": 8,
    "start_time": "2024-02-07T22:37:30.293Z"
   },
   {
    "duration": 10,
    "start_time": "2024-02-07T22:37:46.760Z"
   },
   {
    "duration": 10,
    "start_time": "2024-02-07T22:40:35.359Z"
   },
   {
    "duration": 9,
    "start_time": "2024-02-07T22:40:53.356Z"
   },
   {
    "duration": 10,
    "start_time": "2024-02-07T22:41:19.552Z"
   },
   {
    "duration": 438,
    "start_time": "2024-02-07T22:41:43.521Z"
   },
   {
    "duration": 10,
    "start_time": "2024-02-07T22:41:50.642Z"
   },
   {
    "duration": 11,
    "start_time": "2024-02-07T22:42:59.314Z"
   },
   {
    "duration": 10,
    "start_time": "2024-02-07T22:43:09.397Z"
   },
   {
    "duration": 6,
    "start_time": "2024-02-07T22:43:38.690Z"
   },
   {
    "duration": 12,
    "start_time": "2024-02-07T22:44:34.587Z"
   },
   {
    "duration": 343,
    "start_time": "2024-02-07T22:44:47.296Z"
   },
   {
    "duration": 418,
    "start_time": "2024-02-07T22:50:32.719Z"
   },
   {
    "duration": 375,
    "start_time": "2024-02-07T22:50:39.185Z"
   },
   {
    "duration": 387,
    "start_time": "2024-02-07T22:53:14.894Z"
   },
   {
    "duration": 400,
    "start_time": "2024-02-07T22:53:37.778Z"
   },
   {
    "duration": 384,
    "start_time": "2024-02-07T22:53:48.966Z"
   },
   {
    "duration": 436,
    "start_time": "2024-02-07T22:53:56.127Z"
   },
   {
    "duration": 422,
    "start_time": "2024-02-07T22:54:05.437Z"
   },
   {
    "duration": 409,
    "start_time": "2024-02-07T22:54:37.626Z"
   },
   {
    "duration": 410,
    "start_time": "2024-02-07T22:54:49.356Z"
   },
   {
    "duration": 443,
    "start_time": "2024-02-07T22:54:58.913Z"
   },
   {
    "duration": 361,
    "start_time": "2024-02-07T22:55:19.527Z"
   },
   {
    "duration": 12,
    "start_time": "2024-02-07T22:55:23.747Z"
   },
   {
    "duration": 330,
    "start_time": "2024-02-07T22:55:28.774Z"
   },
   {
    "duration": 413,
    "start_time": "2024-02-07T22:55:40.818Z"
   },
   {
    "duration": 428,
    "start_time": "2024-02-07T22:56:40.618Z"
   },
   {
    "duration": 364,
    "start_time": "2024-02-07T22:56:54.480Z"
   },
   {
    "duration": 310,
    "start_time": "2024-02-07T22:57:44.567Z"
   },
   {
    "duration": 380,
    "start_time": "2024-02-07T22:58:33.772Z"
   },
   {
    "duration": 312,
    "start_time": "2024-02-07T22:59:54.463Z"
   },
   {
    "duration": 375,
    "start_time": "2024-02-07T22:59:59.390Z"
   },
   {
    "duration": 384,
    "start_time": "2024-02-07T23:01:50.549Z"
   },
   {
    "duration": 3,
    "start_time": "2024-02-07T23:02:41.106Z"
   },
   {
    "duration": 1160,
    "start_time": "2024-02-07T23:03:04.629Z"
   },
   {
    "duration": 77,
    "start_time": "2024-02-07T23:03:05.791Z"
   },
   {
    "duration": 3,
    "start_time": "2024-02-07T23:03:05.870Z"
   },
   {
    "duration": 6,
    "start_time": "2024-02-07T23:03:05.875Z"
   },
   {
    "duration": 257,
    "start_time": "2024-02-07T23:03:05.883Z"
   },
   {
    "duration": 1056,
    "start_time": "2024-02-07T23:03:06.141Z"
   },
   {
    "duration": 565,
    "start_time": "2024-02-07T23:03:07.199Z"
   },
   {
    "duration": 12,
    "start_time": "2024-02-07T23:03:07.765Z"
   },
   {
    "duration": 18,
    "start_time": "2024-02-07T23:03:07.778Z"
   },
   {
    "duration": 5,
    "start_time": "2024-02-07T23:03:07.798Z"
   },
   {
    "duration": 11,
    "start_time": "2024-02-07T23:03:07.805Z"
   },
   {
    "duration": 33,
    "start_time": "2024-02-07T23:03:07.818Z"
   },
   {
    "duration": 21,
    "start_time": "2024-02-07T23:03:07.852Z"
   },
   {
    "duration": 5,
    "start_time": "2024-02-07T23:03:07.875Z"
   },
   {
    "duration": 6,
    "start_time": "2024-02-07T23:03:07.882Z"
   },
   {
    "duration": 6,
    "start_time": "2024-02-07T23:03:07.889Z"
   },
   {
    "duration": 402,
    "start_time": "2024-02-07T23:03:07.896Z"
   },
   {
    "duration": 1152,
    "start_time": "2024-02-07T23:03:37.978Z"
   },
   {
    "duration": 74,
    "start_time": "2024-02-07T23:03:39.132Z"
   },
   {
    "duration": 5,
    "start_time": "2024-02-07T23:03:39.208Z"
   },
   {
    "duration": 230,
    "start_time": "2024-02-07T23:03:39.215Z"
   },
   {
    "duration": 994,
    "start_time": "2024-02-07T23:03:39.447Z"
   },
   {
    "duration": 469,
    "start_time": "2024-02-07T23:03:40.443Z"
   },
   {
    "duration": 11,
    "start_time": "2024-02-07T23:03:40.914Z"
   },
   {
    "duration": 11,
    "start_time": "2024-02-07T23:03:40.927Z"
   },
   {
    "duration": 33,
    "start_time": "2024-02-07T23:03:40.940Z"
   },
   {
    "duration": 11,
    "start_time": "2024-02-07T23:03:40.975Z"
   },
   {
    "duration": 12,
    "start_time": "2024-02-07T23:03:40.987Z"
   },
   {
    "duration": 18,
    "start_time": "2024-02-07T23:03:41.001Z"
   },
   {
    "duration": 5,
    "start_time": "2024-02-07T23:03:41.020Z"
   },
   {
    "duration": 6,
    "start_time": "2024-02-07T23:03:41.026Z"
   },
   {
    "duration": 6,
    "start_time": "2024-02-07T23:03:41.034Z"
   },
   {
    "duration": 1178,
    "start_time": "2024-02-07T23:04:32.981Z"
   },
   {
    "duration": 75,
    "start_time": "2024-02-07T23:04:34.161Z"
   },
   {
    "duration": 4,
    "start_time": "2024-02-07T23:04:34.237Z"
   },
   {
    "duration": 10,
    "start_time": "2024-02-07T23:04:34.242Z"
   },
   {
    "duration": 239,
    "start_time": "2024-02-07T23:04:34.255Z"
   },
   {
    "duration": 1067,
    "start_time": "2024-02-07T23:04:34.496Z"
   },
   {
    "duration": 558,
    "start_time": "2024-02-07T23:04:35.565Z"
   },
   {
    "duration": 12,
    "start_time": "2024-02-07T23:04:36.124Z"
   },
   {
    "duration": 14,
    "start_time": "2024-02-07T23:04:36.137Z"
   },
   {
    "duration": 20,
    "start_time": "2024-02-07T23:04:36.153Z"
   },
   {
    "duration": 10,
    "start_time": "2024-02-07T23:04:36.174Z"
   },
   {
    "duration": 13,
    "start_time": "2024-02-07T23:04:36.186Z"
   },
   {
    "duration": 40,
    "start_time": "2024-02-07T23:04:36.201Z"
   },
   {
    "duration": 12,
    "start_time": "2024-02-07T23:04:36.244Z"
   },
   {
    "duration": 8,
    "start_time": "2024-02-07T23:04:36.258Z"
   },
   {
    "duration": 8,
    "start_time": "2024-02-07T23:04:36.267Z"
   },
   {
    "duration": 6,
    "start_time": "2024-02-07T23:04:45.362Z"
   },
   {
    "duration": 377,
    "start_time": "2024-02-07T23:04:45.875Z"
   },
   {
    "duration": 4,
    "start_time": "2024-02-07T23:07:22.980Z"
   },
   {
    "duration": 332,
    "start_time": "2024-02-07T23:07:23.513Z"
   },
   {
    "duration": 4,
    "start_time": "2024-02-07T23:07:33.184Z"
   },
   {
    "duration": 216,
    "start_time": "2024-02-07T23:07:33.562Z"
   },
   {
    "duration": 4,
    "start_time": "2024-02-07T23:09:15.070Z"
   },
   {
    "duration": 7,
    "start_time": "2024-02-07T23:13:53.472Z"
   },
   {
    "duration": 8,
    "start_time": "2024-02-07T23:14:45.818Z"
   },
   {
    "duration": 8,
    "start_time": "2024-02-07T23:14:54.085Z"
   },
   {
    "duration": 5,
    "start_time": "2024-02-07T23:17:17.574Z"
   },
   {
    "duration": 10,
    "start_time": "2024-02-07T23:17:50.421Z"
   },
   {
    "duration": 9,
    "start_time": "2024-02-07T23:18:07.576Z"
   },
   {
    "duration": 8,
    "start_time": "2024-02-07T23:18:14.856Z"
   },
   {
    "duration": 321,
    "start_time": "2024-02-07T23:18:30.257Z"
   },
   {
    "duration": 12,
    "start_time": "2024-02-07T23:19:04.778Z"
   },
   {
    "duration": 11,
    "start_time": "2024-02-07T23:19:13.158Z"
   },
   {
    "duration": 385,
    "start_time": "2024-02-07T23:19:15.344Z"
   },
   {
    "duration": 10,
    "start_time": "2024-02-07T23:19:40.646Z"
   },
   {
    "duration": 7,
    "start_time": "2024-02-07T23:20:06.862Z"
   },
   {
    "duration": 7,
    "start_time": "2024-02-07T23:20:15.839Z"
   },
   {
    "duration": 9,
    "start_time": "2024-02-07T23:22:05.022Z"
   },
   {
    "duration": 3,
    "start_time": "2024-02-07T23:22:19.395Z"
   },
   {
    "duration": 4,
    "start_time": "2024-02-07T23:22:24.885Z"
   },
   {
    "duration": 6,
    "start_time": "2024-02-07T23:23:20.809Z"
   },
   {
    "duration": 9,
    "start_time": "2024-02-07T23:23:27.951Z"
   },
   {
    "duration": 4,
    "start_time": "2024-02-07T23:23:33.834Z"
   },
   {
    "duration": 62,
    "start_time": "2024-02-07T23:27:31.140Z"
   },
   {
    "duration": 57,
    "start_time": "2024-02-07T23:27:48.326Z"
   },
   {
    "duration": 61,
    "start_time": "2024-02-07T23:28:09.118Z"
   },
   {
    "duration": 105,
    "start_time": "2024-02-07T23:28:52.692Z"
   },
   {
    "duration": 82,
    "start_time": "2024-02-07T23:28:57.012Z"
   },
   {
    "duration": 9,
    "start_time": "2024-02-07T23:29:52.956Z"
   },
   {
    "duration": 81,
    "start_time": "2024-02-07T23:30:17.867Z"
   },
   {
    "duration": 81,
    "start_time": "2024-02-07T23:30:27.327Z"
   },
   {
    "duration": 79,
    "start_time": "2024-02-07T23:31:51.245Z"
   },
   {
    "duration": 73,
    "start_time": "2024-02-07T23:32:28.628Z"
   },
   {
    "duration": 70,
    "start_time": "2024-02-07T23:33:54.510Z"
   },
   {
    "duration": 140,
    "start_time": "2024-02-07T23:34:04.122Z"
   },
   {
    "duration": 74,
    "start_time": "2024-02-07T23:34:11.605Z"
   },
   {
    "duration": 9,
    "start_time": "2024-02-07T23:36:44.493Z"
   },
   {
    "duration": 4,
    "start_time": "2024-02-07T23:36:49.595Z"
   },
   {
    "duration": 75,
    "start_time": "2024-02-07T23:38:37.659Z"
   },
   {
    "duration": 392,
    "start_time": "2024-02-07T23:40:50.043Z"
   },
   {
    "duration": 387,
    "start_time": "2024-02-07T23:40:54.845Z"
   },
   {
    "duration": 373,
    "start_time": "2024-02-07T23:41:43.591Z"
   },
   {
    "duration": 475,
    "start_time": "2024-02-07T23:42:12.972Z"
   },
   {
    "duration": 449,
    "start_time": "2024-02-07T23:42:19.177Z"
   },
   {
    "duration": 534,
    "start_time": "2024-02-07T23:42:24.940Z"
   },
   {
    "duration": 458,
    "start_time": "2024-02-07T23:42:31.908Z"
   },
   {
    "duration": 480,
    "start_time": "2024-02-07T23:42:59.651Z"
   },
   {
    "duration": 465,
    "start_time": "2024-02-07T23:43:03.973Z"
   },
   {
    "duration": 463,
    "start_time": "2024-02-07T23:45:48.531Z"
   },
   {
    "duration": 3,
    "start_time": "2024-02-07T23:52:20.629Z"
   },
   {
    "duration": 4,
    "start_time": "2024-02-07T23:52:29.761Z"
   },
   {
    "duration": 4,
    "start_time": "2024-02-07T23:52:58.512Z"
   },
   {
    "duration": 5,
    "start_time": "2024-02-07T23:53:06.602Z"
   },
   {
    "duration": 9,
    "start_time": "2024-02-07T23:54:25.314Z"
   },
   {
    "duration": 13,
    "start_time": "2024-02-07T23:55:54.395Z"
   },
   {
    "duration": 9,
    "start_time": "2024-02-07T23:56:13.465Z"
   },
   {
    "duration": 16,
    "start_time": "2024-02-07T23:57:11.797Z"
   },
   {
    "duration": 15,
    "start_time": "2024-02-07T23:57:35.406Z"
   },
   {
    "duration": 246,
    "start_time": "2024-02-07T23:57:59.223Z"
   },
   {
    "duration": 488,
    "start_time": "2024-02-08T00:01:04.832Z"
   },
   {
    "duration": 4,
    "start_time": "2024-02-08T00:02:15.771Z"
   },
   {
    "duration": 5,
    "start_time": "2024-02-08T00:02:28.210Z"
   },
   {
    "duration": 520,
    "start_time": "2024-02-08T00:10:30.513Z"
   },
   {
    "duration": 5,
    "start_time": "2024-02-08T00:14:40.399Z"
   },
   {
    "duration": 5,
    "start_time": "2024-02-08T00:15:24.509Z"
   },
   {
    "duration": 6,
    "start_time": "2024-02-08T00:15:52.420Z"
   },
   {
    "duration": 514,
    "start_time": "2024-02-08T00:16:19.035Z"
   },
   {
    "duration": 491,
    "start_time": "2024-02-08T00:16:25.336Z"
   },
   {
    "duration": 479,
    "start_time": "2024-02-08T00:16:31.211Z"
   },
   {
    "duration": 467,
    "start_time": "2024-02-08T00:20:32.593Z"
   },
   {
    "duration": 455,
    "start_time": "2024-02-08T00:20:44.274Z"
   },
   {
    "duration": 10,
    "start_time": "2024-02-08T00:26:10.932Z"
   },
   {
    "duration": 23,
    "start_time": "2024-02-08T00:26:18.936Z"
   },
   {
    "duration": 20,
    "start_time": "2024-02-08T00:27:07.742Z"
   },
   {
    "duration": 22,
    "start_time": "2024-02-08T00:27:19.191Z"
   },
   {
    "duration": 20,
    "start_time": "2024-02-08T00:27:58.088Z"
   },
   {
    "duration": 15,
    "start_time": "2024-02-08T00:28:05.221Z"
   },
   {
    "duration": 19,
    "start_time": "2024-02-08T00:28:05.238Z"
   },
   {
    "duration": 30,
    "start_time": "2024-02-08T00:29:10.195Z"
   },
   {
    "duration": 17,
    "start_time": "2024-02-08T00:29:28.928Z"
   },
   {
    "duration": 28,
    "start_time": "2024-02-08T00:29:36.096Z"
   },
   {
    "duration": 28,
    "start_time": "2024-02-08T00:30:11.760Z"
   },
   {
    "duration": 7,
    "start_time": "2024-02-08T00:31:09.196Z"
   },
   {
    "duration": 7,
    "start_time": "2024-02-08T00:32:10.093Z"
   },
   {
    "duration": 6,
    "start_time": "2024-02-08T00:32:54.900Z"
   },
   {
    "duration": 5,
    "start_time": "2024-02-08T00:35:59.511Z"
   },
   {
    "duration": 473,
    "start_time": "2024-02-08T00:36:00.564Z"
   },
   {
    "duration": 2240,
    "start_time": "2024-02-08T00:36:05.454Z"
   },
   {
    "duration": 1258,
    "start_time": "2024-02-08T00:36:09.426Z"
   },
   {
    "duration": 4,
    "start_time": "2024-02-08T00:36:27.015Z"
   },
   {
    "duration": 417,
    "start_time": "2024-02-08T00:36:27.349Z"
   },
   {
    "duration": 1914,
    "start_time": "2024-02-08T00:36:31.522Z"
   },
   {
    "duration": 132,
    "start_time": "2024-02-08T00:36:43.029Z"
   },
   {
    "duration": 411,
    "start_time": "2024-02-08T00:36:43.364Z"
   },
   {
    "duration": 6,
    "start_time": "2024-02-08T00:36:54.220Z"
   },
   {
    "duration": 439,
    "start_time": "2024-02-08T00:36:54.833Z"
   },
   {
    "duration": 1791,
    "start_time": "2024-02-08T00:36:58.555Z"
   },
   {
    "duration": 1257,
    "start_time": "2024-02-08T00:37:11.077Z"
   },
   {
    "duration": 11,
    "start_time": "2024-02-08T00:41:04.636Z"
   },
   {
    "duration": 415,
    "start_time": "2024-02-08T00:41:05.180Z"
   },
   {
    "duration": 4,
    "start_time": "2024-02-08T00:41:25.081Z"
   },
   {
    "duration": 446,
    "start_time": "2024-02-08T00:41:28.577Z"
   },
   {
    "duration": 4,
    "start_time": "2024-02-08T00:41:52.866Z"
   },
   {
    "duration": 86,
    "start_time": "2024-02-08T00:45:50.952Z"
   },
   {
    "duration": 5,
    "start_time": "2024-02-08T00:45:56.075Z"
   },
   {
    "duration": 498,
    "start_time": "2024-02-08T00:46:45.789Z"
   },
   {
    "duration": 75,
    "start_time": "2024-02-08T00:51:04.777Z"
   },
   {
    "duration": 6,
    "start_time": "2024-02-08T00:51:09.896Z"
   },
   {
    "duration": 4,
    "start_time": "2024-02-08T00:51:33.854Z"
   },
   {
    "duration": 501,
    "start_time": "2024-02-08T00:51:34.245Z"
   },
   {
    "duration": 508,
    "start_time": "2024-02-08T00:51:49.256Z"
   },
   {
    "duration": 498,
    "start_time": "2024-02-08T00:51:57.919Z"
   },
   {
    "duration": 517,
    "start_time": "2024-02-08T00:52:07.626Z"
   },
   {
    "duration": 498,
    "start_time": "2024-02-08T00:52:34.049Z"
   },
   {
    "duration": 490,
    "start_time": "2024-02-08T00:52:58.056Z"
   },
   {
    "duration": 7,
    "start_time": "2024-02-08T00:54:18.984Z"
   },
   {
    "duration": 6,
    "start_time": "2024-02-08T00:54:19.579Z"
   },
   {
    "duration": 4,
    "start_time": "2024-02-08T00:54:20.215Z"
   },
   {
    "duration": 626,
    "start_time": "2024-02-08T00:54:20.623Z"
   },
   {
    "duration": 515,
    "start_time": "2024-02-08T00:54:21.251Z"
   },
   {
    "duration": 486,
    "start_time": "2024-02-08T00:54:21.768Z"
   },
   {
    "duration": 462,
    "start_time": "2024-02-08T00:54:54.298Z"
   },
   {
    "duration": 1215,
    "start_time": "2024-02-08T01:04:37.536Z"
   },
   {
    "duration": 76,
    "start_time": "2024-02-08T01:04:38.753Z"
   },
   {
    "duration": 3,
    "start_time": "2024-02-08T01:04:38.831Z"
   },
   {
    "duration": 8,
    "start_time": "2024-02-08T01:04:38.835Z"
   },
   {
    "duration": 444,
    "start_time": "2024-02-08T01:04:38.845Z"
   },
   {
    "duration": 1324,
    "start_time": "2024-02-08T01:04:39.290Z"
   },
   {
    "duration": 1218,
    "start_time": "2024-02-08T01:04:40.616Z"
   },
   {
    "duration": 11,
    "start_time": "2024-02-08T01:04:41.835Z"
   },
   {
    "duration": 21,
    "start_time": "2024-02-08T01:04:41.847Z"
   },
   {
    "duration": 5,
    "start_time": "2024-02-08T01:04:41.872Z"
   },
   {
    "duration": 9,
    "start_time": "2024-02-08T01:04:41.878Z"
   },
   {
    "duration": 4,
    "start_time": "2024-02-08T01:04:41.889Z"
   },
   {
    "duration": 20,
    "start_time": "2024-02-08T01:04:41.894Z"
   },
   {
    "duration": 4,
    "start_time": "2024-02-08T01:04:41.917Z"
   },
   {
    "duration": 5,
    "start_time": "2024-02-08T01:04:41.923Z"
   },
   {
    "duration": 44,
    "start_time": "2024-02-08T01:04:41.930Z"
   },
   {
    "duration": 385,
    "start_time": "2024-02-08T01:04:41.975Z"
   },
   {
    "duration": 4,
    "start_time": "2024-02-08T01:04:42.361Z"
   },
   {
    "duration": 10,
    "start_time": "2024-02-08T01:04:42.373Z"
   },
   {
    "duration": 155,
    "start_time": "2024-02-08T01:04:42.385Z"
   },
   {
    "duration": 5,
    "start_time": "2024-02-08T01:04:42.541Z"
   },
   {
    "duration": 488,
    "start_time": "2024-02-08T01:04:42.547Z"
   },
   {
    "duration": 5,
    "start_time": "2024-02-08T01:04:43.036Z"
   },
   {
    "duration": 7,
    "start_time": "2024-02-08T01:04:43.042Z"
   },
   {
    "duration": 543,
    "start_time": "2024-02-08T01:04:43.050Z"
   },
   {
    "duration": 4,
    "start_time": "2024-02-08T01:04:43.595Z"
   },
   {
    "duration": 8,
    "start_time": "2024-02-08T01:04:43.600Z"
   },
   {
    "duration": 542,
    "start_time": "2024-02-08T01:04:43.609Z"
   },
   {
    "duration": 21,
    "start_time": "2024-02-08T01:04:44.152Z"
   },
   {
    "duration": 7,
    "start_time": "2024-02-08T01:04:44.175Z"
   },
   {
    "duration": 6,
    "start_time": "2024-02-08T01:04:44.184Z"
   },
   {
    "duration": 7,
    "start_time": "2024-02-08T01:04:44.191Z"
   },
   {
    "duration": 527,
    "start_time": "2024-02-08T01:04:44.199Z"
   },
   {
    "duration": 512,
    "start_time": "2024-02-08T01:04:44.727Z"
   },
   {
    "duration": 510,
    "start_time": "2024-02-08T01:04:45.240Z"
   },
   {
    "duration": 482,
    "start_time": "2024-02-08T01:04:45.752Z"
   },
   {
    "duration": 1286,
    "start_time": "2024-02-08T15:06:39.178Z"
   },
   {
    "duration": 190,
    "start_time": "2024-02-08T15:06:40.467Z"
   },
   {
    "duration": 3,
    "start_time": "2024-02-08T15:06:40.659Z"
   },
   {
    "duration": 8,
    "start_time": "2024-02-08T15:06:40.664Z"
   },
   {
    "duration": 511,
    "start_time": "2024-02-08T15:06:40.674Z"
   },
   {
    "duration": 1271,
    "start_time": "2024-02-08T15:06:41.187Z"
   },
   {
    "duration": 1030,
    "start_time": "2024-02-08T15:06:42.459Z"
   },
   {
    "duration": 11,
    "start_time": "2024-02-08T15:06:43.490Z"
   },
   {
    "duration": 10,
    "start_time": "2024-02-08T15:06:43.502Z"
   },
   {
    "duration": 23,
    "start_time": "2024-02-08T15:06:43.514Z"
   },
   {
    "duration": 15,
    "start_time": "2024-02-08T15:06:43.538Z"
   },
   {
    "duration": 11,
    "start_time": "2024-02-08T15:06:43.555Z"
   },
   {
    "duration": 19,
    "start_time": "2024-02-08T15:06:43.567Z"
   },
   {
    "duration": 4,
    "start_time": "2024-02-08T15:06:43.589Z"
   },
   {
    "duration": 19,
    "start_time": "2024-02-08T15:06:43.595Z"
   },
   {
    "duration": 20,
    "start_time": "2024-02-08T15:06:43.615Z"
   },
   {
    "duration": 363,
    "start_time": "2024-02-08T15:06:43.636Z"
   },
   {
    "duration": 4,
    "start_time": "2024-02-08T15:06:44.001Z"
   },
   {
    "duration": 34,
    "start_time": "2024-02-08T15:06:44.006Z"
   },
   {
    "duration": 149,
    "start_time": "2024-02-08T15:06:44.042Z"
   },
   {
    "duration": 4,
    "start_time": "2024-02-08T15:06:44.192Z"
   },
   {
    "duration": 452,
    "start_time": "2024-02-08T15:06:44.198Z"
   },
   {
    "duration": 17,
    "start_time": "2024-02-08T15:06:44.651Z"
   },
   {
    "duration": 15,
    "start_time": "2024-02-08T15:06:44.670Z"
   },
   {
    "duration": 485,
    "start_time": "2024-02-08T15:06:44.687Z"
   },
   {
    "duration": 4,
    "start_time": "2024-02-08T15:06:45.174Z"
   },
   {
    "duration": 56,
    "start_time": "2024-02-08T15:06:45.179Z"
   },
   {
    "duration": 468,
    "start_time": "2024-02-08T15:06:45.237Z"
   },
   {
    "duration": 13,
    "start_time": "2024-02-08T15:06:45.707Z"
   },
   {
    "duration": 19,
    "start_time": "2024-02-08T15:06:45.721Z"
   },
   {
    "duration": 27,
    "start_time": "2024-02-08T15:06:45.742Z"
   },
   {
    "duration": 17,
    "start_time": "2024-02-08T15:06:45.770Z"
   },
   {
    "duration": 503,
    "start_time": "2024-02-08T15:06:45.788Z"
   },
   {
    "duration": 493,
    "start_time": "2024-02-08T15:06:46.293Z"
   },
   {
    "duration": 474,
    "start_time": "2024-02-08T15:06:46.787Z"
   },
   {
    "duration": 471,
    "start_time": "2024-02-08T15:06:47.263Z"
   },
   {
    "duration": 19,
    "start_time": "2024-02-08T15:07:01.527Z"
   },
   {
    "duration": 18,
    "start_time": "2024-02-08T15:10:19.186Z"
   },
   {
    "duration": 483,
    "start_time": "2024-02-08T15:15:16.716Z"
   },
   {
    "duration": 351,
    "start_time": "2024-02-08T15:15:25.372Z"
   },
   {
    "duration": 357,
    "start_time": "2024-02-08T15:15:53.848Z"
   },
   {
    "duration": 367,
    "start_time": "2024-02-08T15:16:00.559Z"
   },
   {
    "duration": 21,
    "start_time": "2024-02-08T15:16:15.637Z"
   },
   {
    "duration": 20,
    "start_time": "2024-02-08T15:16:28.617Z"
   },
   {
    "duration": 2026,
    "start_time": "2024-02-08T15:20:24.070Z"
   },
   {
    "duration": 1310,
    "start_time": "2024-02-08T15:20:34.599Z"
   },
   {
    "duration": 21,
    "start_time": "2024-02-08T15:21:04.363Z"
   },
   {
    "duration": 75,
    "start_time": "2024-02-08T15:38:49.702Z"
   },
   {
    "duration": 4,
    "start_time": "2024-02-08T15:47:53.960Z"
   },
   {
    "duration": 1608,
    "start_time": "2024-02-08T15:48:50.900Z"
   },
   {
    "duration": 3,
    "start_time": "2024-02-08T15:49:08.812Z"
   },
   {
    "duration": 1361,
    "start_time": "2024-02-08T15:49:09.232Z"
   },
   {
    "duration": 10,
    "start_time": "2024-02-08T15:52:23.033Z"
   },
   {
    "duration": 19,
    "start_time": "2024-02-08T15:52:42.939Z"
   },
   {
    "duration": 16,
    "start_time": "2024-02-08T15:52:45.010Z"
   },
   {
    "duration": 4,
    "start_time": "2024-02-08T15:52:45.909Z"
   },
   {
    "duration": 1347,
    "start_time": "2024-02-08T15:52:46.763Z"
   },
   {
    "duration": 9,
    "start_time": "2024-02-08T15:52:48.112Z"
   },
   {
    "duration": 17,
    "start_time": "2024-02-08T15:53:49.887Z"
   },
   {
    "duration": 3,
    "start_time": "2024-02-08T15:53:50.746Z"
   },
   {
    "duration": 1364,
    "start_time": "2024-02-08T15:53:51.100Z"
   },
   {
    "duration": 8,
    "start_time": "2024-02-08T15:53:52.466Z"
   },
   {
    "duration": 14,
    "start_time": "2024-02-08T15:54:25.746Z"
   },
   {
    "duration": 3,
    "start_time": "2024-02-08T15:54:27.649Z"
   },
   {
    "duration": 1402,
    "start_time": "2024-02-08T15:54:28.421Z"
   },
   {
    "duration": 10,
    "start_time": "2024-02-08T15:54:29.825Z"
   },
   {
    "duration": 16,
    "start_time": "2024-02-08T15:58:11.210Z"
   },
   {
    "duration": 3,
    "start_time": "2024-02-08T15:58:12.288Z"
   },
   {
    "duration": 1533,
    "start_time": "2024-02-08T15:58:12.738Z"
   },
   {
    "duration": 10,
    "start_time": "2024-02-08T15:58:14.273Z"
   },
   {
    "duration": 9,
    "start_time": "2024-02-08T15:59:02.845Z"
   },
   {
    "duration": 1099,
    "start_time": "2024-02-08T15:59:15.246Z"
   },
   {
    "duration": 71,
    "start_time": "2024-02-08T15:59:16.346Z"
   },
   {
    "duration": 3,
    "start_time": "2024-02-08T15:59:16.418Z"
   },
   {
    "duration": 28,
    "start_time": "2024-02-08T15:59:16.422Z"
   },
   {
    "duration": 462,
    "start_time": "2024-02-08T15:59:16.452Z"
   },
   {
    "duration": 1228,
    "start_time": "2024-02-08T15:59:16.915Z"
   },
   {
    "duration": 1060,
    "start_time": "2024-02-08T15:59:18.144Z"
   },
   {
    "duration": 10,
    "start_time": "2024-02-08T15:59:19.205Z"
   },
   {
    "duration": 25,
    "start_time": "2024-02-08T15:59:19.216Z"
   },
   {
    "duration": 17,
    "start_time": "2024-02-08T15:59:19.243Z"
   },
   {
    "duration": 24,
    "start_time": "2024-02-08T15:59:19.261Z"
   },
   {
    "duration": 3,
    "start_time": "2024-02-08T15:59:19.287Z"
   },
   {
    "duration": 20,
    "start_time": "2024-02-08T15:59:19.292Z"
   },
   {
    "duration": 5,
    "start_time": "2024-02-08T15:59:19.315Z"
   },
   {
    "duration": 5,
    "start_time": "2024-02-08T15:59:19.321Z"
   },
   {
    "duration": 9,
    "start_time": "2024-02-08T15:59:19.328Z"
   },
   {
    "duration": 352,
    "start_time": "2024-02-08T15:59:19.339Z"
   },
   {
    "duration": 4,
    "start_time": "2024-02-08T15:59:19.693Z"
   },
   {
    "duration": 8,
    "start_time": "2024-02-08T15:59:19.698Z"
   },
   {
    "duration": 151,
    "start_time": "2024-02-08T15:59:19.708Z"
   },
   {
    "duration": 4,
    "start_time": "2024-02-08T15:59:19.861Z"
   },
   {
    "duration": 416,
    "start_time": "2024-02-08T15:59:19.866Z"
   },
   {
    "duration": 4,
    "start_time": "2024-02-08T15:59:20.284Z"
   },
   {
    "duration": 7,
    "start_time": "2024-02-08T15:59:20.289Z"
   },
   {
    "duration": 473,
    "start_time": "2024-02-08T15:59:20.298Z"
   },
   {
    "duration": 4,
    "start_time": "2024-02-08T15:59:20.772Z"
   },
   {
    "duration": 7,
    "start_time": "2024-02-08T15:59:20.778Z"
   },
   {
    "duration": 500,
    "start_time": "2024-02-08T15:59:20.787Z"
   },
   {
    "duration": 14,
    "start_time": "2024-02-08T15:59:21.288Z"
   },
   {
    "duration": 7,
    "start_time": "2024-02-08T15:59:21.303Z"
   },
   {
    "duration": 16,
    "start_time": "2024-02-08T15:59:21.311Z"
   },
   {
    "duration": 4,
    "start_time": "2024-02-08T15:59:21.333Z"
   },
   {
    "duration": 443,
    "start_time": "2024-02-08T15:59:21.338Z"
   },
   {
    "duration": 489,
    "start_time": "2024-02-08T15:59:21.782Z"
   },
   {
    "duration": 430,
    "start_time": "2024-02-08T15:59:22.273Z"
   },
   {
    "duration": 483,
    "start_time": "2024-02-08T15:59:22.704Z"
   },
   {
    "duration": 20,
    "start_time": "2024-02-08T15:59:23.189Z"
   },
   {
    "duration": 33,
    "start_time": "2024-02-08T15:59:23.210Z"
   },
   {
    "duration": 41,
    "start_time": "2024-02-08T15:59:23.244Z"
   },
   {
    "duration": 1476,
    "start_time": "2024-02-08T15:59:23.287Z"
   },
   {
    "duration": 9,
    "start_time": "2024-02-08T15:59:24.767Z"
   },
   {
    "duration": 654,
    "start_time": "2024-02-08T23:12:06.626Z"
   },
   {
    "duration": 678,
    "start_time": "2024-02-08T23:12:12.731Z"
   },
   {
    "duration": 200,
    "start_time": "2024-02-08T23:12:13.411Z"
   },
   {
    "duration": 3,
    "start_time": "2024-02-08T23:12:13.612Z"
   },
   {
    "duration": 4,
    "start_time": "2024-02-08T23:12:13.617Z"
   },
   {
    "duration": 466,
    "start_time": "2024-02-08T23:12:13.622Z"
   },
   {
    "duration": 1377,
    "start_time": "2024-02-08T23:12:14.090Z"
   },
   {
    "duration": 1158,
    "start_time": "2024-02-08T23:12:15.469Z"
   },
   {
    "duration": 10,
    "start_time": "2024-02-08T23:12:16.628Z"
   },
   {
    "duration": 10,
    "start_time": "2024-02-08T23:12:16.639Z"
   },
   {
    "duration": 4,
    "start_time": "2024-02-08T23:12:16.651Z"
   },
   {
    "duration": 13,
    "start_time": "2024-02-08T23:12:16.657Z"
   },
   {
    "duration": 3,
    "start_time": "2024-02-08T23:12:16.671Z"
   },
   {
    "duration": 39,
    "start_time": "2024-02-08T23:12:16.676Z"
   },
   {
    "duration": 4,
    "start_time": "2024-02-08T23:12:16.716Z"
   },
   {
    "duration": 5,
    "start_time": "2024-02-08T23:12:16.722Z"
   },
   {
    "duration": 8,
    "start_time": "2024-02-08T23:12:16.729Z"
   },
   {
    "duration": 344,
    "start_time": "2024-02-08T23:12:16.739Z"
   },
   {
    "duration": 4,
    "start_time": "2024-02-08T23:12:17.084Z"
   },
   {
    "duration": 12,
    "start_time": "2024-02-08T23:12:17.089Z"
   },
   {
    "duration": 145,
    "start_time": "2024-02-08T23:12:17.102Z"
   },
   {
    "duration": 4,
    "start_time": "2024-02-08T23:12:17.248Z"
   },
   {
    "duration": 489,
    "start_time": "2024-02-08T23:12:17.253Z"
   },
   {
    "duration": 5,
    "start_time": "2024-02-08T23:12:17.743Z"
   },
   {
    "duration": 6,
    "start_time": "2024-02-08T23:12:17.749Z"
   },
   {
    "duration": 511,
    "start_time": "2024-02-08T23:12:17.756Z"
   },
   {
    "duration": 4,
    "start_time": "2024-02-08T23:12:18.269Z"
   },
   {
    "duration": 6,
    "start_time": "2024-02-08T23:12:18.275Z"
   },
   {
    "duration": 489,
    "start_time": "2024-02-08T23:12:18.284Z"
   },
   {
    "duration": 13,
    "start_time": "2024-02-08T23:12:18.775Z"
   },
   {
    "duration": 7,
    "start_time": "2024-02-08T23:12:18.790Z"
   },
   {
    "duration": 22,
    "start_time": "2024-02-08T23:12:18.798Z"
   },
   {
    "duration": 4,
    "start_time": "2024-02-08T23:12:18.825Z"
   },
   {
    "duration": 474,
    "start_time": "2024-02-08T23:12:18.830Z"
   },
   {
    "duration": 472,
    "start_time": "2024-02-08T23:12:19.314Z"
   },
   {
    "duration": 491,
    "start_time": "2024-02-08T23:12:19.787Z"
   },
   {
    "duration": 501,
    "start_time": "2024-02-08T23:12:20.279Z"
   },
   {
    "duration": 21,
    "start_time": "2024-02-08T23:12:20.781Z"
   },
   {
    "duration": 31,
    "start_time": "2024-02-08T23:12:20.803Z"
   },
   {
    "duration": 4,
    "start_time": "2024-02-08T23:12:20.835Z"
   },
   {
    "duration": 1524,
    "start_time": "2024-02-08T23:12:20.841Z"
   },
   {
    "duration": 10,
    "start_time": "2024-02-08T23:12:22.367Z"
   },
   {
    "duration": 13,
    "start_time": "2024-02-08T23:12:22.378Z"
   },
   {
    "duration": 184,
    "start_time": "2024-02-08T23:15:12.057Z"
   },
   {
    "duration": 5,
    "start_time": "2024-02-08T23:16:51.151Z"
   },
   {
    "duration": 5,
    "start_time": "2024-02-08T23:18:00.436Z"
   },
   {
    "duration": 6,
    "start_time": "2024-02-08T23:18:05.137Z"
   },
   {
    "duration": 5,
    "start_time": "2024-02-08T23:35:34.277Z"
   },
   {
    "duration": 15,
    "start_time": "2024-02-09T00:19:18.855Z"
   },
   {
    "duration": 22,
    "start_time": "2024-02-09T00:19:53.310Z"
   },
   {
    "duration": 13,
    "start_time": "2024-02-09T00:43:56.222Z"
   },
   {
    "duration": 1646,
    "start_time": "2024-02-09T00:44:15.416Z"
   },
   {
    "duration": 1738,
    "start_time": "2024-02-09T00:44:26.356Z"
   },
   {
    "duration": 10,
    "start_time": "2024-02-09T00:45:14.240Z"
   },
   {
    "duration": 1733,
    "start_time": "2024-02-09T00:45:35.220Z"
   },
   {
    "duration": 141,
    "start_time": "2024-02-09T00:46:05.298Z"
   },
   {
    "duration": 560,
    "start_time": "2024-02-09T00:46:13.991Z"
   },
   {
    "duration": 135,
    "start_time": "2024-02-09T00:47:36.478Z"
   },
   {
    "duration": 525,
    "start_time": "2024-02-09T00:47:49.529Z"
   },
   {
    "duration": 1750,
    "start_time": "2024-02-09T00:49:15.532Z"
   },
   {
    "duration": 1918,
    "start_time": "2024-02-09T00:53:31.851Z"
   },
   {
    "duration": 10248,
    "start_time": "2024-02-09T00:56:02.889Z"
   },
   {
    "duration": 10543,
    "start_time": "2024-02-09T00:57:35.061Z"
   },
   {
    "duration": 10147,
    "start_time": "2024-02-09T00:58:25.640Z"
   },
   {
    "duration": 8734,
    "start_time": "2024-02-09T00:58:40.104Z"
   },
   {
    "duration": 1448,
    "start_time": "2024-02-09T00:58:52.632Z"
   },
   {
    "duration": 1212,
    "start_time": "2024-02-09T00:59:10.667Z"
   },
   {
    "duration": 446,
    "start_time": "2024-02-09T01:00:49.328Z"
   },
   {
    "duration": 149,
    "start_time": "2024-02-09T01:01:05.914Z"
   },
   {
    "duration": 142,
    "start_time": "2024-02-09T01:01:19.012Z"
   },
   {
    "duration": 8,
    "start_time": "2024-02-09T01:01:42.799Z"
   },
   {
    "duration": 1139,
    "start_time": "2024-02-09T01:02:06.546Z"
   },
   {
    "duration": 1334,
    "start_time": "2024-02-09T01:02:47.771Z"
   },
   {
    "duration": 8319,
    "start_time": "2024-02-09T01:05:25.263Z"
   },
   {
    "duration": 8260,
    "start_time": "2024-02-09T01:05:42.228Z"
   },
   {
    "duration": 4,
    "start_time": "2024-02-09T01:06:34.384Z"
   },
   {
    "duration": 159,
    "start_time": "2024-02-09T01:07:36.829Z"
   },
   {
    "duration": 17,
    "start_time": "2024-02-09T01:07:48.984Z"
   },
   {
    "duration": 551,
    "start_time": "2024-02-09T01:08:01.739Z"
   },
   {
    "duration": 8291,
    "start_time": "2024-02-09T01:08:34.974Z"
   },
   {
    "duration": 8248,
    "start_time": "2024-02-09T01:08:46.576Z"
   },
   {
    "duration": 20,
    "start_time": "2024-02-09T01:09:03.202Z"
   },
   {
    "duration": 8,
    "start_time": "2024-02-09T01:09:41.351Z"
   },
   {
    "duration": 310,
    "start_time": "2024-02-09T01:09:45.840Z"
   },
   {
    "duration": 217,
    "start_time": "2024-02-09T01:10:46.471Z"
   },
   {
    "duration": 1415,
    "start_time": "2024-02-09T01:10:55.520Z"
   },
   {
    "duration": 1191,
    "start_time": "2024-02-09T01:11:14.406Z"
   },
   {
    "duration": 1454,
    "start_time": "2024-02-09T01:11:42.491Z"
   },
   {
    "duration": 235,
    "start_time": "2024-02-09T01:14:39.413Z"
   },
   {
    "duration": 635,
    "start_time": "2024-02-09T01:14:52.602Z"
   },
   {
    "duration": 451,
    "start_time": "2024-02-09T01:15:12.914Z"
   },
   {
    "duration": 10912,
    "start_time": "2024-02-09T01:16:19.539Z"
   },
   {
    "duration": 14,
    "start_time": "2024-02-09T01:16:30.453Z"
   },
   {
    "duration": 40,
    "start_time": "2024-02-09T01:16:30.469Z"
   },
   {
    "duration": 197,
    "start_time": "2024-02-09T01:16:30.511Z"
   },
   {
    "duration": 11271,
    "start_time": "2024-02-09T01:16:43.635Z"
   },
   {
    "duration": 1466,
    "start_time": "2024-02-09T01:16:54.908Z"
   },
   {
    "duration": 7948,
    "start_time": "2024-02-09T01:17:28.521Z"
   },
   {
    "duration": 1347,
    "start_time": "2024-02-09T01:17:36.471Z"
   },
   {
    "duration": 11,
    "start_time": "2024-02-09T01:22:48.363Z"
   },
   {
    "duration": 10,
    "start_time": "2024-02-09T01:23:07.124Z"
   },
   {
    "duration": 9,
    "start_time": "2024-02-09T01:23:12.007Z"
   },
   {
    "duration": 4,
    "start_time": "2024-02-09T01:23:29.911Z"
   },
   {
    "duration": 8,
    "start_time": "2024-02-09T01:24:44.541Z"
   },
   {
    "duration": 5,
    "start_time": "2024-02-09T01:24:48.394Z"
   },
   {
    "duration": 8,
    "start_time": "2024-02-09T01:24:50.095Z"
   },
   {
    "duration": 161,
    "start_time": "2024-02-09T01:25:03.858Z"
   },
   {
    "duration": 4,
    "start_time": "2024-02-09T01:27:50.469Z"
   },
   {
    "duration": 4,
    "start_time": "2024-02-09T01:28:38.071Z"
   },
   {
    "duration": 4,
    "start_time": "2024-02-09T01:28:50.798Z"
   },
   {
    "duration": 9,
    "start_time": "2024-02-09T01:30:45.395Z"
   },
   {
    "duration": 163,
    "start_time": "2024-02-09T01:30:54.207Z"
   },
   {
    "duration": 174,
    "start_time": "2024-02-09T01:31:36.915Z"
   },
   {
    "duration": 166,
    "start_time": "2024-02-09T01:31:43.371Z"
   },
   {
    "duration": 4,
    "start_time": "2024-02-09T01:32:12.982Z"
   },
   {
    "duration": 1188,
    "start_time": "2024-02-09T01:33:50.679Z"
   },
   {
    "duration": 86,
    "start_time": "2024-02-09T01:33:51.871Z"
   },
   {
    "duration": 3,
    "start_time": "2024-02-09T01:33:51.958Z"
   },
   {
    "duration": 4,
    "start_time": "2024-02-09T01:33:51.963Z"
   },
   {
    "duration": 470,
    "start_time": "2024-02-09T01:33:51.969Z"
   },
   {
    "duration": 1333,
    "start_time": "2024-02-09T01:33:52.441Z"
   },
   {
    "duration": 1248,
    "start_time": "2024-02-09T01:33:53.776Z"
   },
   {
    "duration": 10,
    "start_time": "2024-02-09T01:33:55.027Z"
   },
   {
    "duration": 10,
    "start_time": "2024-02-09T01:33:55.039Z"
   },
   {
    "duration": 5,
    "start_time": "2024-02-09T01:33:55.053Z"
   },
   {
    "duration": 10,
    "start_time": "2024-02-09T01:33:55.060Z"
   },
   {
    "duration": 4,
    "start_time": "2024-02-09T01:33:55.071Z"
   },
   {
    "duration": 58,
    "start_time": "2024-02-09T01:33:55.076Z"
   },
   {
    "duration": 5,
    "start_time": "2024-02-09T01:33:55.136Z"
   },
   {
    "duration": 6,
    "start_time": "2024-02-09T01:33:55.143Z"
   },
   {
    "duration": 10,
    "start_time": "2024-02-09T01:33:55.151Z"
   },
   {
    "duration": 428,
    "start_time": "2024-02-09T01:33:55.162Z"
   },
   {
    "duration": 4,
    "start_time": "2024-02-09T01:33:55.592Z"
   },
   {
    "duration": 19,
    "start_time": "2024-02-09T01:33:55.597Z"
   },
   {
    "duration": 181,
    "start_time": "2024-02-09T01:33:55.618Z"
   },
   {
    "duration": 16,
    "start_time": "2024-02-09T01:33:55.801Z"
   },
   {
    "duration": 452,
    "start_time": "2024-02-09T01:33:55.821Z"
   },
   {
    "duration": 4,
    "start_time": "2024-02-09T01:33:56.275Z"
   },
   {
    "duration": 9,
    "start_time": "2024-02-09T01:33:56.281Z"
   },
   {
    "duration": 504,
    "start_time": "2024-02-09T01:33:56.292Z"
   },
   {
    "duration": 4,
    "start_time": "2024-02-09T01:33:56.798Z"
   },
   {
    "duration": 16,
    "start_time": "2024-02-09T01:33:56.804Z"
   },
   {
    "duration": 491,
    "start_time": "2024-02-09T01:33:56.830Z"
   },
   {
    "duration": 15,
    "start_time": "2024-02-09T01:33:57.322Z"
   },
   {
    "duration": 9,
    "start_time": "2024-02-09T01:33:57.338Z"
   },
   {
    "duration": 16,
    "start_time": "2024-02-09T01:33:57.348Z"
   },
   {
    "duration": 4,
    "start_time": "2024-02-09T01:33:57.366Z"
   },
   {
    "duration": 521,
    "start_time": "2024-02-09T01:33:57.371Z"
   },
   {
    "duration": 516,
    "start_time": "2024-02-09T01:33:57.894Z"
   },
   {
    "duration": 475,
    "start_time": "2024-02-09T01:33:58.414Z"
   },
   {
    "duration": 484,
    "start_time": "2024-02-09T01:33:58.891Z"
   },
   {
    "duration": 21,
    "start_time": "2024-02-09T01:33:59.376Z"
   },
   {
    "duration": 34,
    "start_time": "2024-02-09T01:33:59.398Z"
   },
   {
    "duration": 3,
    "start_time": "2024-02-09T01:33:59.434Z"
   },
   {
    "duration": 1610,
    "start_time": "2024-02-09T01:33:59.438Z"
   },
   {
    "duration": 10,
    "start_time": "2024-02-09T01:34:01.050Z"
   },
   {
    "duration": 25,
    "start_time": "2024-02-09T01:34:01.062Z"
   },
   {
    "duration": 21,
    "start_time": "2024-02-09T01:34:01.088Z"
   },
   {
    "duration": 26,
    "start_time": "2024-02-09T01:34:01.111Z"
   },
   {
    "duration": 49,
    "start_time": "2024-02-09T01:34:01.139Z"
   },
   {
    "duration": 8537,
    "start_time": "2024-02-09T01:34:01.190Z"
   },
   {
    "duration": 1297,
    "start_time": "2024-02-09T01:34:09.729Z"
   },
   {
    "duration": 5,
    "start_time": "2024-02-09T01:34:11.028Z"
   },
   {
    "duration": 4,
    "start_time": "2024-02-09T01:34:11.034Z"
   },
   {
    "duration": 172,
    "start_time": "2024-02-09T01:34:11.040Z"
   },
   {
    "duration": 1351,
    "start_time": "2024-02-09T07:17:27.265Z"
   },
   {
    "duration": 208,
    "start_time": "2024-02-09T07:17:28.619Z"
   },
   {
    "duration": 4,
    "start_time": "2024-02-09T07:17:28.829Z"
   },
   {
    "duration": 6,
    "start_time": "2024-02-09T07:17:28.835Z"
   },
   {
    "duration": 529,
    "start_time": "2024-02-09T07:17:28.842Z"
   },
   {
    "duration": 1423,
    "start_time": "2024-02-09T07:17:29.372Z"
   },
   {
    "duration": 1198,
    "start_time": "2024-02-09T07:17:30.797Z"
   },
   {
    "duration": 21,
    "start_time": "2024-02-09T07:17:31.996Z"
   },
   {
    "duration": 13,
    "start_time": "2024-02-09T07:17:32.018Z"
   },
   {
    "duration": 7,
    "start_time": "2024-02-09T07:17:32.035Z"
   },
   {
    "duration": 13,
    "start_time": "2024-02-09T07:17:32.044Z"
   },
   {
    "duration": 9,
    "start_time": "2024-02-09T07:17:32.058Z"
   },
   {
    "duration": 17,
    "start_time": "2024-02-09T07:17:32.068Z"
   },
   {
    "duration": 28,
    "start_time": "2024-02-09T07:17:32.087Z"
   },
   {
    "duration": 6,
    "start_time": "2024-02-09T07:17:32.116Z"
   },
   {
    "duration": 10,
    "start_time": "2024-02-09T07:17:32.124Z"
   },
   {
    "duration": 368,
    "start_time": "2024-02-09T07:17:32.136Z"
   },
   {
    "duration": 12,
    "start_time": "2024-02-09T07:17:32.506Z"
   },
   {
    "duration": 14,
    "start_time": "2024-02-09T07:17:32.519Z"
   },
   {
    "duration": 155,
    "start_time": "2024-02-09T07:17:32.534Z"
   },
   {
    "duration": 5,
    "start_time": "2024-02-09T07:17:32.690Z"
   },
   {
    "duration": 493,
    "start_time": "2024-02-09T07:17:32.696Z"
   },
   {
    "duration": 4,
    "start_time": "2024-02-09T07:17:33.191Z"
   },
   {
    "duration": 24,
    "start_time": "2024-02-09T07:17:33.197Z"
   },
   {
    "duration": 463,
    "start_time": "2024-02-09T07:17:33.223Z"
   },
   {
    "duration": 6,
    "start_time": "2024-02-09T07:17:33.688Z"
   },
   {
    "duration": 23,
    "start_time": "2024-02-09T07:17:33.695Z"
   },
   {
    "duration": 544,
    "start_time": "2024-02-09T07:17:33.724Z"
   },
   {
    "duration": 16,
    "start_time": "2024-02-09T07:17:34.269Z"
   },
   {
    "duration": 8,
    "start_time": "2024-02-09T07:17:34.287Z"
   },
   {
    "duration": 21,
    "start_time": "2024-02-09T07:17:34.297Z"
   },
   {
    "duration": 18,
    "start_time": "2024-02-09T07:17:34.319Z"
   },
   {
    "duration": 541,
    "start_time": "2024-02-09T07:17:34.339Z"
   },
   {
    "duration": 512,
    "start_time": "2024-02-09T07:17:34.882Z"
   },
   {
    "duration": 496,
    "start_time": "2024-02-09T07:17:35.396Z"
   },
   {
    "duration": 475,
    "start_time": "2024-02-09T07:17:35.894Z"
   },
   {
    "duration": 20,
    "start_time": "2024-02-09T07:17:36.371Z"
   },
   {
    "duration": 34,
    "start_time": "2024-02-09T07:17:36.392Z"
   },
   {
    "duration": 3,
    "start_time": "2024-02-09T07:17:36.428Z"
   },
   {
    "duration": 1499,
    "start_time": "2024-02-09T07:17:36.433Z"
   },
   {
    "duration": 10,
    "start_time": "2024-02-09T07:17:37.934Z"
   },
   {
    "duration": 11,
    "start_time": "2024-02-09T07:17:37.946Z"
   },
   {
    "duration": 8,
    "start_time": "2024-02-09T07:17:37.959Z"
   },
   {
    "duration": 4,
    "start_time": "2024-02-09T07:17:37.968Z"
   },
   {
    "duration": 22,
    "start_time": "2024-02-09T07:17:37.973Z"
   },
   {
    "duration": 7983,
    "start_time": "2024-02-09T07:17:37.996Z"
   },
   {
    "duration": 1217,
    "start_time": "2024-02-09T07:17:45.981Z"
   },
   {
    "duration": 5,
    "start_time": "2024-02-09T07:17:47.199Z"
   },
   {
    "duration": 10,
    "start_time": "2024-02-09T07:17:47.205Z"
   },
   {
    "duration": 165,
    "start_time": "2024-02-09T07:17:47.216Z"
   },
   {
    "duration": 13,
    "start_time": "2024-02-09T07:27:47.036Z"
   },
   {
    "duration": 16,
    "start_time": "2024-02-09T07:28:20.277Z"
   },
   {
    "duration": 18,
    "start_time": "2024-02-09T07:29:56.338Z"
   },
   {
    "duration": 10860,
    "start_time": "2024-02-09T07:32:58.532Z"
   },
   {
    "duration": 1451,
    "start_time": "2024-02-09T07:33:09.394Z"
   },
   {
    "duration": 1123,
    "start_time": "2024-02-09T07:36:30.133Z"
   },
   {
    "duration": 75,
    "start_time": "2024-02-09T07:36:31.259Z"
   },
   {
    "duration": 3,
    "start_time": "2024-02-09T07:36:31.335Z"
   },
   {
    "duration": 41,
    "start_time": "2024-02-09T07:36:31.340Z"
   },
   {
    "duration": 445,
    "start_time": "2024-02-09T07:36:31.383Z"
   },
   {
    "duration": 1224,
    "start_time": "2024-02-09T07:36:31.830Z"
   },
   {
    "duration": 1145,
    "start_time": "2024-02-09T07:36:33.056Z"
   },
   {
    "duration": 15,
    "start_time": "2024-02-09T07:36:34.203Z"
   },
   {
    "duration": 10,
    "start_time": "2024-02-09T07:36:34.220Z"
   },
   {
    "duration": 5,
    "start_time": "2024-02-09T07:36:34.232Z"
   },
   {
    "duration": 11,
    "start_time": "2024-02-09T07:36:34.238Z"
   },
   {
    "duration": 4,
    "start_time": "2024-02-09T07:36:34.251Z"
   },
   {
    "duration": 16,
    "start_time": "2024-02-09T07:36:34.256Z"
   },
   {
    "duration": 42,
    "start_time": "2024-02-09T07:36:34.274Z"
   },
   {
    "duration": 5,
    "start_time": "2024-02-09T07:36:34.318Z"
   },
   {
    "duration": 10,
    "start_time": "2024-02-09T07:36:34.324Z"
   },
   {
    "duration": 353,
    "start_time": "2024-02-09T07:36:34.336Z"
   },
   {
    "duration": 4,
    "start_time": "2024-02-09T07:36:34.691Z"
   },
   {
    "duration": 21,
    "start_time": "2024-02-09T07:36:34.697Z"
   },
   {
    "duration": 163,
    "start_time": "2024-02-09T07:36:34.720Z"
   },
   {
    "duration": 5,
    "start_time": "2024-02-09T07:36:34.885Z"
   },
   {
    "duration": 463,
    "start_time": "2024-02-09T07:36:34.892Z"
   },
   {
    "duration": 4,
    "start_time": "2024-02-09T07:36:35.357Z"
   },
   {
    "duration": 14,
    "start_time": "2024-02-09T07:36:35.363Z"
   },
   {
    "duration": 486,
    "start_time": "2024-02-09T07:36:35.378Z"
   },
   {
    "duration": 6,
    "start_time": "2024-02-09T07:36:35.865Z"
   },
   {
    "duration": 13,
    "start_time": "2024-02-09T07:36:35.872Z"
   },
   {
    "duration": 518,
    "start_time": "2024-02-09T07:36:35.889Z"
   },
   {
    "duration": 17,
    "start_time": "2024-02-09T07:36:36.409Z"
   },
   {
    "duration": 7,
    "start_time": "2024-02-09T07:36:36.428Z"
   },
   {
    "duration": 6,
    "start_time": "2024-02-09T07:36:36.436Z"
   },
   {
    "duration": 5,
    "start_time": "2024-02-09T07:36:36.444Z"
   },
   {
    "duration": 508,
    "start_time": "2024-02-09T07:36:36.450Z"
   },
   {
    "duration": 503,
    "start_time": "2024-02-09T07:36:36.959Z"
   },
   {
    "duration": 483,
    "start_time": "2024-02-09T07:36:37.463Z"
   },
   {
    "duration": 467,
    "start_time": "2024-02-09T07:36:37.947Z"
   },
   {
    "duration": 20,
    "start_time": "2024-02-09T07:36:38.416Z"
   },
   {
    "duration": 23,
    "start_time": "2024-02-09T07:36:38.438Z"
   },
   {
    "duration": 4,
    "start_time": "2024-02-09T07:36:38.462Z"
   },
   {
    "duration": 1532,
    "start_time": "2024-02-09T07:36:38.467Z"
   },
   {
    "duration": 10,
    "start_time": "2024-02-09T07:36:40.000Z"
   },
   {
    "duration": 16,
    "start_time": "2024-02-09T07:36:40.015Z"
   },
   {
    "duration": 7,
    "start_time": "2024-02-09T07:36:40.032Z"
   },
   {
    "duration": 17,
    "start_time": "2024-02-09T07:36:40.041Z"
   },
   {
    "duration": 33,
    "start_time": "2024-02-09T07:36:40.059Z"
   },
   {
    "duration": 8068,
    "start_time": "2024-02-09T07:36:40.094Z"
   },
   {
    "duration": 1210,
    "start_time": "2024-02-09T07:36:48.164Z"
   },
   {
    "duration": 4,
    "start_time": "2024-02-09T07:36:49.376Z"
   },
   {
    "duration": 6,
    "start_time": "2024-02-09T07:36:49.381Z"
   },
   {
    "duration": 166,
    "start_time": "2024-02-09T07:36:49.389Z"
   },
   {
    "duration": 44,
    "start_time": "2024-02-09T11:38:27.470Z"
   },
   {
    "duration": 4,
    "start_time": "2024-02-09T11:38:27.970Z"
   },
   {
    "duration": 1248,
    "start_time": "2024-02-09T11:38:45.542Z"
   },
   {
    "duration": 198,
    "start_time": "2024-02-09T11:38:46.792Z"
   },
   {
    "duration": 3,
    "start_time": "2024-02-09T11:38:47.728Z"
   },
   {
    "duration": 3,
    "start_time": "2024-02-09T11:38:49.026Z"
   },
   {
    "duration": 11,
    "start_time": "2024-02-09T11:38:49.956Z"
   },
   {
    "duration": 10,
    "start_time": "2024-02-09T11:38:51.186Z"
   },
   {
    "duration": 10,
    "start_time": "2024-02-09T11:38:52.736Z"
   },
   {
    "duration": 120,
    "start_time": "2024-02-09T11:43:35.145Z"
   },
   {
    "duration": 77,
    "start_time": "2024-02-09T11:43:40.653Z"
   },
   {
    "duration": 4,
    "start_time": "2024-02-09T11:46:22.032Z"
   },
   {
    "duration": 10,
    "start_time": "2024-02-09T11:46:22.943Z"
   },
   {
    "duration": 4,
    "start_time": "2024-02-09T11:46:39.454Z"
   },
   {
    "duration": 10,
    "start_time": "2024-02-09T11:46:40.364Z"
   },
   {
    "duration": 3,
    "start_time": "2024-02-09T11:46:51.632Z"
   },
   {
    "duration": 14,
    "start_time": "2024-02-09T11:46:52.111Z"
   },
   {
    "duration": 13,
    "start_time": "2024-02-09T11:46:56.091Z"
   },
   {
    "duration": 17,
    "start_time": "2024-02-09T11:47:02.853Z"
   },
   {
    "duration": 2,
    "start_time": "2024-02-09T11:48:00.718Z"
   },
   {
    "duration": 11,
    "start_time": "2024-02-09T11:48:05.373Z"
   },
   {
    "duration": 10,
    "start_time": "2024-02-09T11:48:15.015Z"
   },
   {
    "duration": 9,
    "start_time": "2024-02-09T11:48:18.925Z"
   },
   {
    "duration": 10,
    "start_time": "2024-02-09T11:48:22.535Z"
   },
   {
    "duration": 8,
    "start_time": "2024-02-09T11:48:40.468Z"
   },
   {
    "duration": 25,
    "start_time": "2024-02-09T11:49:07.740Z"
   },
   {
    "duration": 7,
    "start_time": "2024-02-09T11:49:34.082Z"
   },
   {
    "duration": 3,
    "start_time": "2024-02-09T11:50:12.511Z"
   },
   {
    "duration": 16,
    "start_time": "2024-02-09T11:50:12.881Z"
   },
   {
    "duration": 8,
    "start_time": "2024-02-09T11:50:13.257Z"
   },
   {
    "duration": 13,
    "start_time": "2024-02-09T11:50:13.583Z"
   },
   {
    "duration": 10,
    "start_time": "2024-02-09T11:50:13.944Z"
   },
   {
    "duration": 13,
    "start_time": "2024-02-09T11:50:15.294Z"
   },
   {
    "duration": 1199,
    "start_time": "2024-02-09T11:57:37.916Z"
   },
   {
    "duration": 1047,
    "start_time": "2024-02-09T11:57:54.884Z"
   },
   {
    "duration": 70,
    "start_time": "2024-02-09T11:57:55.933Z"
   },
   {
    "duration": 3,
    "start_time": "2024-02-09T11:57:56.004Z"
   },
   {
    "duration": 34,
    "start_time": "2024-02-09T11:57:56.009Z"
   },
   {
    "duration": 24,
    "start_time": "2024-02-09T11:57:56.045Z"
   },
   {
    "duration": 32,
    "start_time": "2024-02-09T11:57:56.070Z"
   },
   {
    "duration": 23,
    "start_time": "2024-02-09T11:57:56.103Z"
   },
   {
    "duration": 36,
    "start_time": "2024-02-09T11:57:56.127Z"
   },
   {
    "duration": 30,
    "start_time": "2024-02-09T11:57:56.165Z"
   },
   {
    "duration": 24,
    "start_time": "2024-02-09T11:57:56.197Z"
   },
   {
    "duration": 29,
    "start_time": "2024-02-09T11:57:56.222Z"
   },
   {
    "duration": 29,
    "start_time": "2024-02-09T11:57:56.252Z"
   },
   {
    "duration": 37,
    "start_time": "2024-02-09T11:57:56.282Z"
   },
   {
    "duration": 20,
    "start_time": "2024-02-09T11:57:56.321Z"
   },
   {
    "duration": 25,
    "start_time": "2024-02-09T11:57:56.343Z"
   },
   {
    "duration": 34,
    "start_time": "2024-02-09T11:57:56.369Z"
   },
   {
    "duration": 30,
    "start_time": "2024-02-09T11:57:56.405Z"
   },
   {
    "duration": 16,
    "start_time": "2024-02-09T11:57:56.436Z"
   },
   {
    "duration": 37,
    "start_time": "2024-02-09T11:57:56.454Z"
   },
   {
    "duration": 37,
    "start_time": "2024-02-09T11:57:56.492Z"
   },
   {
    "duration": 383,
    "start_time": "2024-02-09T11:57:56.530Z"
   },
   {
    "duration": 3,
    "start_time": "2024-02-09T11:57:56.915Z"
   },
   {
    "duration": 33,
    "start_time": "2024-02-09T11:57:56.919Z"
   },
   {
    "duration": 78,
    "start_time": "2024-02-09T11:57:56.953Z"
   },
   {
    "duration": 4,
    "start_time": "2024-02-09T11:57:57.032Z"
   },
   {
    "duration": 430,
    "start_time": "2024-02-09T11:57:57.037Z"
   },
   {
    "duration": 5,
    "start_time": "2024-02-09T11:57:57.469Z"
   },
   {
    "duration": 48,
    "start_time": "2024-02-09T11:57:57.478Z"
   },
   {
    "duration": 428,
    "start_time": "2024-02-09T11:57:57.528Z"
   },
   {
    "duration": 5,
    "start_time": "2024-02-09T11:57:57.958Z"
   },
   {
    "duration": 27,
    "start_time": "2024-02-09T11:57:57.965Z"
   },
   {
    "duration": 499,
    "start_time": "2024-02-09T11:57:57.994Z"
   },
   {
    "duration": 14,
    "start_time": "2024-02-09T11:57:58.495Z"
   },
   {
    "duration": 7,
    "start_time": "2024-02-09T11:57:58.510Z"
   },
   {
    "duration": 6,
    "start_time": "2024-02-09T11:57:58.519Z"
   },
   {
    "duration": 4,
    "start_time": "2024-02-09T11:57:58.544Z"
   },
   {
    "duration": 466,
    "start_time": "2024-02-09T11:57:58.549Z"
   },
   {
    "duration": 465,
    "start_time": "2024-02-09T11:57:59.017Z"
   },
   {
    "duration": 526,
    "start_time": "2024-02-09T11:57:59.484Z"
   },
   {
    "duration": 479,
    "start_time": "2024-02-09T11:58:00.011Z"
   },
   {
    "duration": 58,
    "start_time": "2024-02-09T11:58:00.492Z"
   },
   {
    "duration": 136,
    "start_time": "2024-02-09T11:58:00.551Z"
   },
   {
    "duration": 21,
    "start_time": "2024-02-09T11:58:00.688Z"
   },
   {
    "duration": 1397,
    "start_time": "2024-02-09T11:58:00.710Z"
   },
   {
    "duration": 79,
    "start_time": "2024-02-09T11:58:02.108Z"
   },
   {
    "duration": 255,
    "start_time": "2024-02-09T11:58:02.188Z"
   },
   {
    "duration": 146,
    "start_time": "2024-02-09T11:58:02.445Z"
   },
   {
    "duration": 105,
    "start_time": "2024-02-09T11:58:02.593Z"
   },
   {
    "duration": 238,
    "start_time": "2024-02-09T11:58:02.700Z"
   },
   {
    "duration": 7317,
    "start_time": "2024-02-09T11:58:02.940Z"
   },
   {
    "duration": 990,
    "start_time": "2024-02-09T11:58:10.259Z"
   },
   {
    "duration": 4,
    "start_time": "2024-02-09T11:58:11.251Z"
   },
   {
    "duration": 16,
    "start_time": "2024-02-09T11:58:11.257Z"
   },
   {
    "duration": 154,
    "start_time": "2024-02-09T11:58:11.275Z"
   },
   {
    "duration": 4,
    "start_time": "2024-02-09T11:58:58.883Z"
   },
   {
    "duration": 6,
    "start_time": "2024-02-09T11:59:45.981Z"
   },
   {
    "duration": 79,
    "start_time": "2024-02-09T12:00:33.227Z"
   },
   {
    "duration": 86,
    "start_time": "2024-02-09T12:01:19.495Z"
   },
   {
    "duration": 9,
    "start_time": "2024-02-09T12:08:46.678Z"
   },
   {
    "duration": 447,
    "start_time": "2024-02-09T12:08:57.942Z"
   },
   {
    "duration": 320,
    "start_time": "2024-02-09T12:10:48.545Z"
   },
   {
    "duration": 70,
    "start_time": "2024-02-09T12:13:04.075Z"
   },
   {
    "duration": 65,
    "start_time": "2024-02-09T12:14:20.425Z"
   },
   {
    "duration": 417,
    "start_time": "2024-02-09T12:15:27.035Z"
   },
   {
    "duration": 7,
    "start_time": "2024-02-09T12:16:11.804Z"
   },
   {
    "duration": 95,
    "start_time": "2024-02-09T12:17:17.424Z"
   },
   {
    "duration": 10,
    "start_time": "2024-02-09T12:17:31.203Z"
   },
   {
    "duration": 597,
    "start_time": "2024-02-09T12:17:53.589Z"
   },
   {
    "duration": 9,
    "start_time": "2024-02-09T12:20:32.537Z"
   },
   {
    "duration": 578,
    "start_time": "2024-02-09T12:20:56.602Z"
   },
   {
    "duration": 596,
    "start_time": "2024-02-09T12:21:42.900Z"
   },
   {
    "duration": 673,
    "start_time": "2024-02-09T12:21:50.914Z"
   },
   {
    "duration": 598,
    "start_time": "2024-02-09T12:21:57.499Z"
   },
   {
    "duration": 618,
    "start_time": "2024-02-09T12:22:51.260Z"
   },
   {
    "duration": 667,
    "start_time": "2024-02-09T12:23:29.031Z"
   },
   {
    "duration": 4,
    "start_time": "2024-02-09T12:36:32.409Z"
   },
   {
    "duration": 1072,
    "start_time": "2024-02-09T12:36:50.768Z"
   },
   {
    "duration": 70,
    "start_time": "2024-02-09T12:36:51.842Z"
   },
   {
    "duration": 2,
    "start_time": "2024-02-09T12:36:51.914Z"
   },
   {
    "duration": 44,
    "start_time": "2024-02-09T12:36:51.918Z"
   },
   {
    "duration": 47,
    "start_time": "2024-02-09T12:36:51.965Z"
   },
   {
    "duration": 35,
    "start_time": "2024-02-09T12:36:52.014Z"
   },
   {
    "duration": 44,
    "start_time": "2024-02-09T12:36:52.051Z"
   },
   {
    "duration": 20,
    "start_time": "2024-02-09T12:36:52.096Z"
   },
   {
    "duration": 57,
    "start_time": "2024-02-09T12:36:52.117Z"
   },
   {
    "duration": 28,
    "start_time": "2024-02-09T12:36:52.176Z"
   },
   {
    "duration": 36,
    "start_time": "2024-02-09T12:36:52.205Z"
   },
   {
    "duration": 23,
    "start_time": "2024-02-09T12:36:52.243Z"
   },
   {
    "duration": 24,
    "start_time": "2024-02-09T12:36:52.267Z"
   },
   {
    "duration": 25,
    "start_time": "2024-02-09T12:36:52.293Z"
   },
   {
    "duration": 19,
    "start_time": "2024-02-09T12:36:52.320Z"
   },
   {
    "duration": 16,
    "start_time": "2024-02-09T12:36:52.340Z"
   },
   {
    "duration": 11,
    "start_time": "2024-02-09T12:36:52.358Z"
   },
   {
    "duration": 15,
    "start_time": "2024-02-09T12:36:52.370Z"
   },
   {
    "duration": 4,
    "start_time": "2024-02-09T12:36:52.387Z"
   },
   {
    "duration": 6,
    "start_time": "2024-02-09T12:36:52.392Z"
   },
   {
    "duration": 48,
    "start_time": "2024-02-09T12:36:52.399Z"
   },
   {
    "duration": 353,
    "start_time": "2024-02-09T12:36:52.448Z"
   },
   {
    "duration": 4,
    "start_time": "2024-02-09T12:36:52.802Z"
   },
   {
    "duration": 13,
    "start_time": "2024-02-09T12:36:52.807Z"
   },
   {
    "duration": 78,
    "start_time": "2024-02-09T12:36:52.821Z"
   },
   {
    "duration": 3,
    "start_time": "2024-02-09T12:36:52.901Z"
   },
   {
    "duration": 470,
    "start_time": "2024-02-09T12:36:52.905Z"
   },
   {
    "duration": 4,
    "start_time": "2024-02-09T12:36:53.376Z"
   },
   {
    "duration": 19,
    "start_time": "2024-02-09T12:36:53.381Z"
   },
   {
    "duration": 13,
    "start_time": "2024-02-09T12:36:53.402Z"
   },
   {
    "duration": 678,
    "start_time": "2024-02-09T12:36:53.417Z"
   },
   {
    "duration": 4,
    "start_time": "2024-02-09T12:36:54.096Z"
   },
   {
    "duration": 20,
    "start_time": "2024-02-09T12:36:54.101Z"
   },
   {
    "duration": 30,
    "start_time": "2024-02-09T12:36:54.122Z"
   },
   {
    "duration": 643,
    "start_time": "2024-02-09T12:36:54.153Z"
   },
   {
    "duration": 13,
    "start_time": "2024-02-09T12:36:54.798Z"
   },
   {
    "duration": 35,
    "start_time": "2024-02-09T12:36:54.813Z"
   },
   {
    "duration": 45,
    "start_time": "2024-02-09T12:36:54.850Z"
   },
   {
    "duration": 49,
    "start_time": "2024-02-09T12:36:54.896Z"
   },
   {
    "duration": 18,
    "start_time": "2024-02-09T12:36:54.947Z"
   },
   {
    "duration": 468,
    "start_time": "2024-02-09T12:36:54.969Z"
   },
   {
    "duration": 466,
    "start_time": "2024-02-09T12:36:55.439Z"
   },
   {
    "duration": 513,
    "start_time": "2024-02-09T12:36:55.906Z"
   },
   {
    "duration": 479,
    "start_time": "2024-02-09T12:36:56.420Z"
   },
   {
    "duration": 18,
    "start_time": "2024-02-09T12:36:56.900Z"
   },
   {
    "duration": 36,
    "start_time": "2024-02-09T12:36:56.919Z"
   },
   {
    "duration": 3,
    "start_time": "2024-02-09T12:36:56.956Z"
   },
   {
    "duration": 1444,
    "start_time": "2024-02-09T12:36:56.960Z"
   },
   {
    "duration": 9,
    "start_time": "2024-02-09T12:36:58.405Z"
   },
   {
    "duration": 14,
    "start_time": "2024-02-09T12:36:58.415Z"
   },
   {
    "duration": 9,
    "start_time": "2024-02-09T12:36:58.430Z"
   },
   {
    "duration": 10,
    "start_time": "2024-02-09T12:36:58.440Z"
   },
   {
    "duration": 22,
    "start_time": "2024-02-09T12:36:58.451Z"
   },
   {
    "duration": 7109,
    "start_time": "2024-02-09T12:36:58.475Z"
   },
   {
    "duration": 1108,
    "start_time": "2024-02-09T12:37:05.586Z"
   },
   {
    "duration": 4,
    "start_time": "2024-02-09T12:37:06.696Z"
   },
   {
    "duration": 15,
    "start_time": "2024-02-09T12:37:06.701Z"
   },
   {
    "duration": 159,
    "start_time": "2024-02-09T12:37:06.717Z"
   },
   {
    "duration": 4,
    "start_time": "2024-02-09T12:37:25.266Z"
   },
   {
    "duration": 3,
    "start_time": "2024-02-09T12:37:38.630Z"
   },
   {
    "duration": 4,
    "start_time": "2024-02-09T12:38:03.419Z"
   },
   {
    "duration": 3,
    "start_time": "2024-02-09T12:38:13.228Z"
   },
   {
    "duration": 3,
    "start_time": "2024-02-09T12:38:38.892Z"
   },
   {
    "duration": 3,
    "start_time": "2024-02-09T12:40:44.269Z"
   },
   {
    "duration": 676,
    "start_time": "2024-02-09T12:40:46.817Z"
   },
   {
    "duration": 646,
    "start_time": "2024-02-09T12:41:40.525Z"
   },
   {
    "duration": 630,
    "start_time": "2024-02-09T12:41:45.769Z"
   },
   {
    "duration": 4,
    "start_time": "2024-02-09T12:43:58.030Z"
   },
   {
    "duration": 665,
    "start_time": "2024-02-09T12:44:12.414Z"
   },
   {
    "duration": 799,
    "start_time": "2024-02-09T12:45:20.700Z"
   },
   {
    "duration": 599,
    "start_time": "2024-02-09T12:45:56.183Z"
   },
   {
    "duration": 614,
    "start_time": "2024-02-09T12:46:12.069Z"
   },
   {
    "duration": 4,
    "start_time": "2024-02-09T12:46:22.838Z"
   },
   {
    "duration": 581,
    "start_time": "2024-02-09T12:46:23.890Z"
   },
   {
    "duration": 657,
    "start_time": "2024-02-09T12:46:28.313Z"
   },
   {
    "duration": 615,
    "start_time": "2024-02-09T12:46:33.766Z"
   },
   {
    "duration": 72,
    "start_time": "2024-02-09T12:46:51.261Z"
   },
   {
    "duration": 745,
    "start_time": "2024-02-09T12:46:54.338Z"
   },
   {
    "duration": 5,
    "start_time": "2024-02-09T12:50:50.094Z"
   },
   {
    "duration": 4,
    "start_time": "2024-02-09T12:50:58.544Z"
   },
   {
    "duration": 19,
    "start_time": "2024-02-09T12:51:02.533Z"
   },
   {
    "duration": 17,
    "start_time": "2024-02-09T12:51:20.855Z"
   },
   {
    "duration": 93,
    "start_time": "2024-02-09T12:52:31.796Z"
   },
   {
    "duration": 9826,
    "start_time": "2024-02-09T12:54:54.660Z"
   },
   {
    "duration": 1282,
    "start_time": "2024-02-09T12:55:04.488Z"
   },
   {
    "duration": 1056,
    "start_time": "2024-02-09T12:58:06.068Z"
   },
   {
    "duration": 70,
    "start_time": "2024-02-09T12:58:07.126Z"
   },
   {
    "duration": 3,
    "start_time": "2024-02-09T12:58:07.197Z"
   },
   {
    "duration": 27,
    "start_time": "2024-02-09T12:58:07.201Z"
   },
   {
    "duration": 27,
    "start_time": "2024-02-09T12:58:07.229Z"
   },
   {
    "duration": 49,
    "start_time": "2024-02-09T12:58:07.257Z"
   },
   {
    "duration": 41,
    "start_time": "2024-02-09T12:58:07.307Z"
   },
   {
    "duration": 26,
    "start_time": "2024-02-09T12:58:07.349Z"
   },
   {
    "duration": 31,
    "start_time": "2024-02-09T12:58:07.377Z"
   },
   {
    "duration": 25,
    "start_time": "2024-02-09T12:58:07.411Z"
   },
   {
    "duration": 27,
    "start_time": "2024-02-09T12:58:07.438Z"
   },
   {
    "duration": 18,
    "start_time": "2024-02-09T12:58:07.467Z"
   },
   {
    "duration": 14,
    "start_time": "2024-02-09T12:58:07.486Z"
   },
   {
    "duration": 20,
    "start_time": "2024-02-09T12:58:07.501Z"
   },
   {
    "duration": 20,
    "start_time": "2024-02-09T12:58:07.522Z"
   },
   {
    "duration": 20,
    "start_time": "2024-02-09T12:58:07.543Z"
   },
   {
    "duration": 22,
    "start_time": "2024-02-09T12:58:07.564Z"
   },
   {
    "duration": 32,
    "start_time": "2024-02-09T12:58:07.587Z"
   },
   {
    "duration": 14,
    "start_time": "2024-02-09T12:58:07.621Z"
   },
   {
    "duration": 32,
    "start_time": "2024-02-09T12:58:07.637Z"
   },
   {
    "duration": 28,
    "start_time": "2024-02-09T12:58:07.670Z"
   },
   {
    "duration": 385,
    "start_time": "2024-02-09T12:58:07.699Z"
   },
   {
    "duration": 3,
    "start_time": "2024-02-09T12:58:08.085Z"
   },
   {
    "duration": 17,
    "start_time": "2024-02-09T12:58:08.090Z"
   },
   {
    "duration": 84,
    "start_time": "2024-02-09T12:58:08.108Z"
   },
   {
    "duration": 3,
    "start_time": "2024-02-09T12:58:08.194Z"
   },
   {
    "duration": 468,
    "start_time": "2024-02-09T12:58:08.199Z"
   },
   {
    "duration": 3,
    "start_time": "2024-02-09T12:58:08.671Z"
   },
   {
    "duration": 20,
    "start_time": "2024-02-09T12:58:08.676Z"
   },
   {
    "duration": 30,
    "start_time": "2024-02-09T12:58:08.697Z"
   },
   {
    "duration": 650,
    "start_time": "2024-02-09T12:58:08.728Z"
   },
   {
    "duration": 4,
    "start_time": "2024-02-09T12:58:09.380Z"
   },
   {
    "duration": 30,
    "start_time": "2024-02-09T12:58:09.385Z"
   },
   {
    "duration": 26,
    "start_time": "2024-02-09T12:58:09.416Z"
   },
   {
    "duration": 625,
    "start_time": "2024-02-09T12:58:09.444Z"
   },
   {
    "duration": 18,
    "start_time": "2024-02-09T12:58:10.071Z"
   },
   {
    "duration": 3,
    "start_time": "2024-02-09T12:58:10.090Z"
   },
   {
    "duration": 16,
    "start_time": "2024-02-09T12:58:10.094Z"
   },
   {
    "duration": 18,
    "start_time": "2024-02-09T12:58:10.111Z"
   },
   {
    "duration": 11,
    "start_time": "2024-02-09T12:58:10.131Z"
   },
   {
    "duration": 625,
    "start_time": "2024-02-09T12:58:10.143Z"
   },
   {
    "duration": 713,
    "start_time": "2024-02-09T12:58:10.770Z"
   },
   {
    "duration": 595,
    "start_time": "2024-02-09T12:58:11.485Z"
   },
   {
    "duration": 617,
    "start_time": "2024-02-09T12:58:12.081Z"
   },
   {
    "duration": 18,
    "start_time": "2024-02-09T12:58:12.700Z"
   },
   {
    "duration": 31,
    "start_time": "2024-02-09T12:58:12.719Z"
   },
   {
    "duration": 3,
    "start_time": "2024-02-09T12:58:12.751Z"
   },
   {
    "duration": 1389,
    "start_time": "2024-02-09T12:58:12.755Z"
   },
   {
    "duration": 9,
    "start_time": "2024-02-09T12:58:14.145Z"
   },
   {
    "duration": 27,
    "start_time": "2024-02-09T12:58:14.155Z"
   },
   {
    "duration": 14,
    "start_time": "2024-02-09T12:58:14.184Z"
   },
   {
    "duration": 28,
    "start_time": "2024-02-09T12:58:14.199Z"
   },
   {
    "duration": 9657,
    "start_time": "2024-02-09T12:58:14.228Z"
   },
   {
    "duration": 1237,
    "start_time": "2024-02-09T12:58:23.886Z"
   },
   {
    "duration": 4,
    "start_time": "2024-02-09T12:58:25.124Z"
   },
   {
    "duration": 15,
    "start_time": "2024-02-09T12:58:25.129Z"
   },
   {
    "duration": 181,
    "start_time": "2024-02-09T12:58:25.145Z"
   },
   {
    "duration": 1486,
    "start_time": "2024-02-12T07:18:32.270Z"
   },
   {
    "duration": 166,
    "start_time": "2024-02-12T07:18:33.758Z"
   },
   {
    "duration": 0,
    "start_time": "2024-02-12T07:18:33.927Z"
   },
   {
    "duration": 0,
    "start_time": "2024-02-12T07:18:33.928Z"
   },
   {
    "duration": 1,
    "start_time": "2024-02-12T07:18:33.929Z"
   },
   {
    "duration": 0,
    "start_time": "2024-02-12T07:18:33.930Z"
   },
   {
    "duration": 0,
    "start_time": "2024-02-12T07:18:33.931Z"
   },
   {
    "duration": 0,
    "start_time": "2024-02-12T07:18:33.933Z"
   },
   {
    "duration": 0,
    "start_time": "2024-02-12T07:18:33.934Z"
   },
   {
    "duration": 0,
    "start_time": "2024-02-12T07:18:33.935Z"
   },
   {
    "duration": 0,
    "start_time": "2024-02-12T07:18:33.936Z"
   },
   {
    "duration": 0,
    "start_time": "2024-02-12T07:18:33.937Z"
   },
   {
    "duration": 0,
    "start_time": "2024-02-12T07:18:33.939Z"
   },
   {
    "duration": 0,
    "start_time": "2024-02-12T07:18:33.940Z"
   },
   {
    "duration": 0,
    "start_time": "2024-02-12T07:18:33.941Z"
   },
   {
    "duration": 0,
    "start_time": "2024-02-12T07:18:33.941Z"
   },
   {
    "duration": 0,
    "start_time": "2024-02-12T07:18:33.943Z"
   },
   {
    "duration": 0,
    "start_time": "2024-02-12T07:18:33.944Z"
   },
   {
    "duration": 0,
    "start_time": "2024-02-12T07:18:33.973Z"
   },
   {
    "duration": 0,
    "start_time": "2024-02-12T07:18:33.974Z"
   },
   {
    "duration": 0,
    "start_time": "2024-02-12T07:18:33.975Z"
   },
   {
    "duration": 0,
    "start_time": "2024-02-12T07:18:33.976Z"
   },
   {
    "duration": 0,
    "start_time": "2024-02-12T07:18:33.977Z"
   },
   {
    "duration": 0,
    "start_time": "2024-02-12T07:18:33.978Z"
   },
   {
    "duration": 0,
    "start_time": "2024-02-12T07:18:33.979Z"
   },
   {
    "duration": 0,
    "start_time": "2024-02-12T07:18:33.980Z"
   },
   {
    "duration": 0,
    "start_time": "2024-02-12T07:18:33.981Z"
   },
   {
    "duration": 0,
    "start_time": "2024-02-12T07:18:33.982Z"
   },
   {
    "duration": 0,
    "start_time": "2024-02-12T07:18:33.984Z"
   },
   {
    "duration": 0,
    "start_time": "2024-02-12T07:18:33.985Z"
   },
   {
    "duration": 0,
    "start_time": "2024-02-12T07:18:33.986Z"
   },
   {
    "duration": 0,
    "start_time": "2024-02-12T07:18:33.987Z"
   },
   {
    "duration": 0,
    "start_time": "2024-02-12T07:18:33.988Z"
   },
   {
    "duration": 0,
    "start_time": "2024-02-12T07:18:33.989Z"
   },
   {
    "duration": 0,
    "start_time": "2024-02-12T07:18:33.990Z"
   },
   {
    "duration": 0,
    "start_time": "2024-02-12T07:18:33.991Z"
   },
   {
    "duration": 0,
    "start_time": "2024-02-12T07:18:33.992Z"
   },
   {
    "duration": 0,
    "start_time": "2024-02-12T07:18:33.993Z"
   },
   {
    "duration": 0,
    "start_time": "2024-02-12T07:18:33.994Z"
   },
   {
    "duration": 0,
    "start_time": "2024-02-12T07:18:34.004Z"
   },
   {
    "duration": 0,
    "start_time": "2024-02-12T07:18:34.005Z"
   },
   {
    "duration": 0,
    "start_time": "2024-02-12T07:18:34.006Z"
   },
   {
    "duration": 0,
    "start_time": "2024-02-12T07:18:34.008Z"
   },
   {
    "duration": 0,
    "start_time": "2024-02-12T07:18:34.010Z"
   },
   {
    "duration": 1,
    "start_time": "2024-02-12T07:18:34.011Z"
   },
   {
    "duration": 0,
    "start_time": "2024-02-12T07:18:34.013Z"
   },
   {
    "duration": 0,
    "start_time": "2024-02-12T07:18:34.073Z"
   },
   {
    "duration": 0,
    "start_time": "2024-02-12T07:18:34.074Z"
   },
   {
    "duration": 0,
    "start_time": "2024-02-12T07:18:34.076Z"
   },
   {
    "duration": 0,
    "start_time": "2024-02-12T07:18:34.077Z"
   },
   {
    "duration": 0,
    "start_time": "2024-02-12T07:18:34.079Z"
   },
   {
    "duration": 0,
    "start_time": "2024-02-12T07:18:34.080Z"
   },
   {
    "duration": 0,
    "start_time": "2024-02-12T07:18:34.082Z"
   },
   {
    "duration": 0,
    "start_time": "2024-02-12T07:18:34.083Z"
   },
   {
    "duration": 0,
    "start_time": "2024-02-12T07:18:34.085Z"
   },
   {
    "duration": 0,
    "start_time": "2024-02-12T07:18:34.086Z"
   },
   {
    "duration": 0,
    "start_time": "2024-02-12T07:18:34.087Z"
   },
   {
    "duration": 0,
    "start_time": "2024-02-12T07:18:34.088Z"
   },
   {
    "duration": 0,
    "start_time": "2024-02-12T07:18:34.089Z"
   },
   {
    "duration": 0,
    "start_time": "2024-02-12T07:18:34.090Z"
   },
   {
    "duration": 0,
    "start_time": "2024-02-12T07:18:34.091Z"
   },
   {
    "duration": 0,
    "start_time": "2024-02-12T07:18:34.092Z"
   },
   {
    "duration": 0,
    "start_time": "2024-02-12T07:18:34.094Z"
   },
   {
    "duration": 1192,
    "start_time": "2024-02-12T07:19:03.843Z"
   },
   {
    "duration": 271,
    "start_time": "2024-02-12T07:19:05.038Z"
   },
   {
    "duration": 3,
    "start_time": "2024-02-12T07:19:05.311Z"
   },
   {
    "duration": 7,
    "start_time": "2024-02-12T07:19:05.316Z"
   },
   {
    "duration": 19,
    "start_time": "2024-02-12T07:19:05.324Z"
   },
   {
    "duration": 11,
    "start_time": "2024-02-12T07:19:05.344Z"
   },
   {
    "duration": 24,
    "start_time": "2024-02-12T07:19:05.356Z"
   },
   {
    "duration": 13,
    "start_time": "2024-02-12T07:19:05.381Z"
   },
   {
    "duration": 35,
    "start_time": "2024-02-12T07:19:05.395Z"
   },
   {
    "duration": 11,
    "start_time": "2024-02-12T07:19:05.433Z"
   },
   {
    "duration": 14,
    "start_time": "2024-02-12T07:19:05.446Z"
   },
   {
    "duration": 21,
    "start_time": "2024-02-12T07:19:05.461Z"
   },
   {
    "duration": 11,
    "start_time": "2024-02-12T07:19:05.484Z"
   },
   {
    "duration": 6,
    "start_time": "2024-02-12T07:19:05.496Z"
   },
   {
    "duration": 7,
    "start_time": "2024-02-12T07:19:05.504Z"
   },
   {
    "duration": 11,
    "start_time": "2024-02-12T07:19:05.513Z"
   },
   {
    "duration": 5,
    "start_time": "2024-02-12T07:19:05.525Z"
   },
   {
    "duration": 21,
    "start_time": "2024-02-12T07:19:05.531Z"
   },
   {
    "duration": 21,
    "start_time": "2024-02-12T07:19:05.554Z"
   },
   {
    "duration": 15,
    "start_time": "2024-02-12T07:19:05.576Z"
   },
   {
    "duration": 11,
    "start_time": "2024-02-12T07:19:05.592Z"
   },
   {
    "duration": 421,
    "start_time": "2024-02-12T07:19:05.605Z"
   },
   {
    "duration": 5,
    "start_time": "2024-02-12T07:19:06.027Z"
   },
   {
    "duration": 12,
    "start_time": "2024-02-12T07:19:06.033Z"
   },
   {
    "duration": 100,
    "start_time": "2024-02-12T07:19:06.047Z"
   },
   {
    "duration": 4,
    "start_time": "2024-02-12T07:19:06.149Z"
   },
   {
    "duration": 499,
    "start_time": "2024-02-12T07:19:06.154Z"
   },
   {
    "duration": 16,
    "start_time": "2024-02-12T07:19:06.657Z"
   },
   {
    "duration": 6,
    "start_time": "2024-02-12T07:19:06.674Z"
   },
   {
    "duration": 9,
    "start_time": "2024-02-12T07:19:06.682Z"
   },
   {
    "duration": 698,
    "start_time": "2024-02-12T07:19:06.692Z"
   },
   {
    "duration": 5,
    "start_time": "2024-02-12T07:19:07.391Z"
   },
   {
    "duration": 13,
    "start_time": "2024-02-12T07:19:07.397Z"
   },
   {
    "duration": 10,
    "start_time": "2024-02-12T07:19:07.411Z"
   },
   {
    "duration": 751,
    "start_time": "2024-02-12T07:19:07.422Z"
   },
   {
    "duration": 16,
    "start_time": "2024-02-12T07:19:08.174Z"
   },
   {
    "duration": 3,
    "start_time": "2024-02-12T07:19:08.192Z"
   },
   {
    "duration": 7,
    "start_time": "2024-02-12T07:19:08.197Z"
   },
   {
    "duration": 11,
    "start_time": "2024-02-12T07:19:08.205Z"
   },
   {
    "duration": 8,
    "start_time": "2024-02-12T07:19:08.218Z"
   },
   {
    "duration": 4,
    "start_time": "2024-02-12T07:19:08.228Z"
   },
   {
    "duration": 14,
    "start_time": "2024-02-12T07:19:08.233Z"
   },
   {
    "duration": 30,
    "start_time": "2024-02-12T07:19:08.249Z"
   },
   {
    "duration": 1409,
    "start_time": "2024-02-12T07:19:08.280Z"
   },
   {
    "duration": 8,
    "start_time": "2024-02-12T07:19:09.691Z"
   },
   {
    "duration": 13,
    "start_time": "2024-02-12T07:19:09.700Z"
   },
   {
    "duration": 1266,
    "start_time": "2024-02-12T07:19:09.714Z"
   },
   {
    "duration": 4,
    "start_time": "2024-02-12T07:19:10.982Z"
   },
   {
    "duration": 26,
    "start_time": "2024-02-12T07:19:10.987Z"
   },
   {
    "duration": 9,
    "start_time": "2024-02-12T07:19:11.015Z"
   },
   {
    "duration": 15,
    "start_time": "2024-02-12T07:19:11.026Z"
   },
   {
    "duration": 25,
    "start_time": "2024-02-12T07:19:11.043Z"
   },
   {
    "duration": 11,
    "start_time": "2024-02-12T07:19:11.070Z"
   },
   {
    "duration": 12,
    "start_time": "2024-02-12T07:19:11.082Z"
   },
   {
    "duration": 9,
    "start_time": "2024-02-12T07:19:11.095Z"
   },
   {
    "duration": 6,
    "start_time": "2024-02-12T07:19:11.105Z"
   },
   {
    "duration": 16,
    "start_time": "2024-02-12T07:19:11.113Z"
   },
   {
    "duration": 146,
    "start_time": "2024-02-12T07:19:11.130Z"
   },
   {
    "duration": 198,
    "start_time": "2024-02-12T07:19:11.278Z"
   },
   {
    "duration": 1701,
    "start_time": "2024-02-12T07:19:11.478Z"
   },
   {
    "duration": 4,
    "start_time": "2024-02-12T07:19:13.181Z"
   },
   {
    "duration": 8,
    "start_time": "2024-02-12T07:19:13.187Z"
   },
   {
    "duration": 179,
    "start_time": "2024-02-12T07:19:13.196Z"
   },
   {
    "duration": 7,
    "start_time": "2024-02-12T07:22:49.832Z"
   }
  ],
  "kernelspec": {
   "display_name": "Python 3 (ipykernel)",
   "language": "python",
   "name": "python3"
  },
  "language_info": {
   "codemirror_mode": {
    "name": "ipython",
    "version": 3
   },
   "file_extension": ".py",
   "mimetype": "text/x-python",
   "name": "python",
   "nbconvert_exporter": "python",
   "pygments_lexer": "ipython3",
   "version": "3.9.5"
  },
  "toc": {
   "base_numbering": 1,
   "nav_menu": {},
   "number_sections": true,
   "sideBar": true,
   "skip_h1_title": true,
   "title_cell": "Table of Contents",
   "title_sidebar": "Contents",
   "toc_cell": false,
   "toc_position": {},
   "toc_section_display": true,
   "toc_window_display": false
  }
 },
 "nbformat": 4,
 "nbformat_minor": 5
}
