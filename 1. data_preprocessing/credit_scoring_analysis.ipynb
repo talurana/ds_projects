{
 "cells": [
  {
   "cell_type": "markdown",
   "id": "cc230d59",
   "metadata": {
    "deletable": false,
    "editable": false,
    "id": "c81daeeb"
   },
   "source": [
    "# Исследование надежности заемщиков\n"
   ]
  },
  {
   "cell_type": "markdown",
   "id": "4293996e",
   "metadata": {
    "deletable": false,
    "editable": false,
    "id": "744d7639"
   },
   "source": [
    "## Откройте таблицу и изучите общую информацию о данных"
   ]
  },
  {
   "cell_type": "markdown",
   "id": "5b0d0247",
   "metadata": {
    "deletable": false,
    "editable": false,
    "id": "e7a14c31"
   },
   "source": [
    "**Задание 1. Импортируйте библиотеку pandas. Считайте данные из csv-файла в датафрейм и сохраните в переменную `data`. Путь к файлу:**\n",
    "\n",
    "`/datasets/data.csv`"
   ]
  },
  {
   "cell_type": "code",
   "execution_count": 1,
   "id": "90c6d042",
   "metadata": {
    "deletable": false,
    "id": "7bcf75c9"
   },
   "outputs": [],
   "source": [
    "import pandas as pd\n",
    "\n",
    "try:\n",
    "    data = pd.read_csv('/datasets/data.csv')\n",
    "except:\n",
    "    data = pd.read_csv('https://code.s3.yandex.net/datasets/data.csv')"
   ]
  },
  {
   "cell_type": "markdown",
   "id": "dfa0f58a",
   "metadata": {
    "deletable": false,
    "editable": false,
    "id": "b8038fe3"
   },
   "source": [
    "**Задание 2. Выведите первые 20 строчек датафрейма `data` на экран.**"
   ]
  },
  {
   "cell_type": "code",
   "execution_count": 2,
   "id": "f11e6a05",
   "metadata": {
    "deletable": false,
    "id": "2a7cab99",
    "outputId": "1a8f3ef2-d323-4ec2-ddf7-89670b5944c4"
   },
   "outputs": [
    {
     "data": {
      "text/html": [
       "<div>\n",
       "<style scoped>\n",
       "    .dataframe tbody tr th:only-of-type {\n",
       "        vertical-align: middle;\n",
       "    }\n",
       "\n",
       "    .dataframe tbody tr th {\n",
       "        vertical-align: top;\n",
       "    }\n",
       "\n",
       "    .dataframe thead th {\n",
       "        text-align: right;\n",
       "    }\n",
       "</style>\n",
       "<table border=\"1\" class=\"dataframe\">\n",
       "  <thead>\n",
       "    <tr style=\"text-align: right;\">\n",
       "      <th></th>\n",
       "      <th>children</th>\n",
       "      <th>days_employed</th>\n",
       "      <th>dob_years</th>\n",
       "      <th>education</th>\n",
       "      <th>education_id</th>\n",
       "      <th>family_status</th>\n",
       "      <th>family_status_id</th>\n",
       "      <th>gender</th>\n",
       "      <th>income_type</th>\n",
       "      <th>debt</th>\n",
       "      <th>total_income</th>\n",
       "      <th>purpose</th>\n",
       "    </tr>\n",
       "  </thead>\n",
       "  <tbody>\n",
       "    <tr>\n",
       "      <th>0</th>\n",
       "      <td>1</td>\n",
       "      <td>-8437.673028</td>\n",
       "      <td>42</td>\n",
       "      <td>высшее</td>\n",
       "      <td>0</td>\n",
       "      <td>женат / замужем</td>\n",
       "      <td>0</td>\n",
       "      <td>F</td>\n",
       "      <td>сотрудник</td>\n",
       "      <td>0</td>\n",
       "      <td>253875.639453</td>\n",
       "      <td>покупка жилья</td>\n",
       "    </tr>\n",
       "    <tr>\n",
       "      <th>1</th>\n",
       "      <td>1</td>\n",
       "      <td>-4024.803754</td>\n",
       "      <td>36</td>\n",
       "      <td>среднее</td>\n",
       "      <td>1</td>\n",
       "      <td>женат / замужем</td>\n",
       "      <td>0</td>\n",
       "      <td>F</td>\n",
       "      <td>сотрудник</td>\n",
       "      <td>0</td>\n",
       "      <td>112080.014102</td>\n",
       "      <td>приобретение автомобиля</td>\n",
       "    </tr>\n",
       "    <tr>\n",
       "      <th>2</th>\n",
       "      <td>0</td>\n",
       "      <td>-5623.422610</td>\n",
       "      <td>33</td>\n",
       "      <td>Среднее</td>\n",
       "      <td>1</td>\n",
       "      <td>женат / замужем</td>\n",
       "      <td>0</td>\n",
       "      <td>M</td>\n",
       "      <td>сотрудник</td>\n",
       "      <td>0</td>\n",
       "      <td>145885.952297</td>\n",
       "      <td>покупка жилья</td>\n",
       "    </tr>\n",
       "    <tr>\n",
       "      <th>3</th>\n",
       "      <td>3</td>\n",
       "      <td>-4124.747207</td>\n",
       "      <td>32</td>\n",
       "      <td>среднее</td>\n",
       "      <td>1</td>\n",
       "      <td>женат / замужем</td>\n",
       "      <td>0</td>\n",
       "      <td>M</td>\n",
       "      <td>сотрудник</td>\n",
       "      <td>0</td>\n",
       "      <td>267628.550329</td>\n",
       "      <td>дополнительное образование</td>\n",
       "    </tr>\n",
       "    <tr>\n",
       "      <th>4</th>\n",
       "      <td>0</td>\n",
       "      <td>340266.072047</td>\n",
       "      <td>53</td>\n",
       "      <td>среднее</td>\n",
       "      <td>1</td>\n",
       "      <td>гражданский брак</td>\n",
       "      <td>1</td>\n",
       "      <td>F</td>\n",
       "      <td>пенсионер</td>\n",
       "      <td>0</td>\n",
       "      <td>158616.077870</td>\n",
       "      <td>сыграть свадьбу</td>\n",
       "    </tr>\n",
       "    <tr>\n",
       "      <th>5</th>\n",
       "      <td>0</td>\n",
       "      <td>-926.185831</td>\n",
       "      <td>27</td>\n",
       "      <td>высшее</td>\n",
       "      <td>0</td>\n",
       "      <td>гражданский брак</td>\n",
       "      <td>1</td>\n",
       "      <td>M</td>\n",
       "      <td>компаньон</td>\n",
       "      <td>0</td>\n",
       "      <td>255763.565419</td>\n",
       "      <td>покупка жилья</td>\n",
       "    </tr>\n",
       "    <tr>\n",
       "      <th>6</th>\n",
       "      <td>0</td>\n",
       "      <td>-2879.202052</td>\n",
       "      <td>43</td>\n",
       "      <td>высшее</td>\n",
       "      <td>0</td>\n",
       "      <td>женат / замужем</td>\n",
       "      <td>0</td>\n",
       "      <td>F</td>\n",
       "      <td>компаньон</td>\n",
       "      <td>0</td>\n",
       "      <td>240525.971920</td>\n",
       "      <td>операции с жильем</td>\n",
       "    </tr>\n",
       "    <tr>\n",
       "      <th>7</th>\n",
       "      <td>0</td>\n",
       "      <td>-152.779569</td>\n",
       "      <td>50</td>\n",
       "      <td>СРЕДНЕЕ</td>\n",
       "      <td>1</td>\n",
       "      <td>женат / замужем</td>\n",
       "      <td>0</td>\n",
       "      <td>M</td>\n",
       "      <td>сотрудник</td>\n",
       "      <td>0</td>\n",
       "      <td>135823.934197</td>\n",
       "      <td>образование</td>\n",
       "    </tr>\n",
       "    <tr>\n",
       "      <th>8</th>\n",
       "      <td>2</td>\n",
       "      <td>-6929.865299</td>\n",
       "      <td>35</td>\n",
       "      <td>ВЫСШЕЕ</td>\n",
       "      <td>0</td>\n",
       "      <td>гражданский брак</td>\n",
       "      <td>1</td>\n",
       "      <td>F</td>\n",
       "      <td>сотрудник</td>\n",
       "      <td>0</td>\n",
       "      <td>95856.832424</td>\n",
       "      <td>на проведение свадьбы</td>\n",
       "    </tr>\n",
       "    <tr>\n",
       "      <th>9</th>\n",
       "      <td>0</td>\n",
       "      <td>-2188.756445</td>\n",
       "      <td>41</td>\n",
       "      <td>среднее</td>\n",
       "      <td>1</td>\n",
       "      <td>женат / замужем</td>\n",
       "      <td>0</td>\n",
       "      <td>M</td>\n",
       "      <td>сотрудник</td>\n",
       "      <td>0</td>\n",
       "      <td>144425.938277</td>\n",
       "      <td>покупка жилья для семьи</td>\n",
       "    </tr>\n",
       "    <tr>\n",
       "      <th>10</th>\n",
       "      <td>2</td>\n",
       "      <td>-4171.483647</td>\n",
       "      <td>36</td>\n",
       "      <td>высшее</td>\n",
       "      <td>0</td>\n",
       "      <td>женат / замужем</td>\n",
       "      <td>0</td>\n",
       "      <td>M</td>\n",
       "      <td>компаньон</td>\n",
       "      <td>0</td>\n",
       "      <td>113943.491460</td>\n",
       "      <td>покупка недвижимости</td>\n",
       "    </tr>\n",
       "    <tr>\n",
       "      <th>11</th>\n",
       "      <td>0</td>\n",
       "      <td>-792.701887</td>\n",
       "      <td>40</td>\n",
       "      <td>среднее</td>\n",
       "      <td>1</td>\n",
       "      <td>женат / замужем</td>\n",
       "      <td>0</td>\n",
       "      <td>F</td>\n",
       "      <td>сотрудник</td>\n",
       "      <td>0</td>\n",
       "      <td>77069.234271</td>\n",
       "      <td>покупка коммерческой недвижимости</td>\n",
       "    </tr>\n",
       "    <tr>\n",
       "      <th>12</th>\n",
       "      <td>0</td>\n",
       "      <td>NaN</td>\n",
       "      <td>65</td>\n",
       "      <td>среднее</td>\n",
       "      <td>1</td>\n",
       "      <td>гражданский брак</td>\n",
       "      <td>1</td>\n",
       "      <td>M</td>\n",
       "      <td>пенсионер</td>\n",
       "      <td>0</td>\n",
       "      <td>NaN</td>\n",
       "      <td>сыграть свадьбу</td>\n",
       "    </tr>\n",
       "    <tr>\n",
       "      <th>13</th>\n",
       "      <td>0</td>\n",
       "      <td>-1846.641941</td>\n",
       "      <td>54</td>\n",
       "      <td>неоконченное высшее</td>\n",
       "      <td>2</td>\n",
       "      <td>женат / замужем</td>\n",
       "      <td>0</td>\n",
       "      <td>F</td>\n",
       "      <td>сотрудник</td>\n",
       "      <td>0</td>\n",
       "      <td>130458.228857</td>\n",
       "      <td>приобретение автомобиля</td>\n",
       "    </tr>\n",
       "    <tr>\n",
       "      <th>14</th>\n",
       "      <td>0</td>\n",
       "      <td>-1844.956182</td>\n",
       "      <td>56</td>\n",
       "      <td>высшее</td>\n",
       "      <td>0</td>\n",
       "      <td>гражданский брак</td>\n",
       "      <td>1</td>\n",
       "      <td>F</td>\n",
       "      <td>компаньон</td>\n",
       "      <td>1</td>\n",
       "      <td>165127.911772</td>\n",
       "      <td>покупка жилой недвижимости</td>\n",
       "    </tr>\n",
       "    <tr>\n",
       "      <th>15</th>\n",
       "      <td>1</td>\n",
       "      <td>-972.364419</td>\n",
       "      <td>26</td>\n",
       "      <td>среднее</td>\n",
       "      <td>1</td>\n",
       "      <td>женат / замужем</td>\n",
       "      <td>0</td>\n",
       "      <td>F</td>\n",
       "      <td>сотрудник</td>\n",
       "      <td>0</td>\n",
       "      <td>116820.904450</td>\n",
       "      <td>строительство собственной недвижимости</td>\n",
       "    </tr>\n",
       "    <tr>\n",
       "      <th>16</th>\n",
       "      <td>0</td>\n",
       "      <td>-1719.934226</td>\n",
       "      <td>35</td>\n",
       "      <td>среднее</td>\n",
       "      <td>1</td>\n",
       "      <td>женат / замужем</td>\n",
       "      <td>0</td>\n",
       "      <td>F</td>\n",
       "      <td>сотрудник</td>\n",
       "      <td>0</td>\n",
       "      <td>289202.704229</td>\n",
       "      <td>недвижимость</td>\n",
       "    </tr>\n",
       "    <tr>\n",
       "      <th>17</th>\n",
       "      <td>0</td>\n",
       "      <td>-2369.999720</td>\n",
       "      <td>33</td>\n",
       "      <td>высшее</td>\n",
       "      <td>0</td>\n",
       "      <td>гражданский брак</td>\n",
       "      <td>1</td>\n",
       "      <td>M</td>\n",
       "      <td>сотрудник</td>\n",
       "      <td>0</td>\n",
       "      <td>90410.586745</td>\n",
       "      <td>строительство недвижимости</td>\n",
       "    </tr>\n",
       "    <tr>\n",
       "      <th>18</th>\n",
       "      <td>0</td>\n",
       "      <td>400281.136913</td>\n",
       "      <td>53</td>\n",
       "      <td>среднее</td>\n",
       "      <td>1</td>\n",
       "      <td>вдовец / вдова</td>\n",
       "      <td>2</td>\n",
       "      <td>F</td>\n",
       "      <td>пенсионер</td>\n",
       "      <td>0</td>\n",
       "      <td>56823.777243</td>\n",
       "      <td>на покупку подержанного автомобиля</td>\n",
       "    </tr>\n",
       "    <tr>\n",
       "      <th>19</th>\n",
       "      <td>0</td>\n",
       "      <td>-10038.818549</td>\n",
       "      <td>48</td>\n",
       "      <td>СРЕДНЕЕ</td>\n",
       "      <td>1</td>\n",
       "      <td>в разводе</td>\n",
       "      <td>3</td>\n",
       "      <td>F</td>\n",
       "      <td>сотрудник</td>\n",
       "      <td>0</td>\n",
       "      <td>242831.107982</td>\n",
       "      <td>на покупку своего автомобиля</td>\n",
       "    </tr>\n",
       "  </tbody>\n",
       "</table>\n",
       "</div>"
      ],
      "text/plain": [
       "    children  days_employed  dob_years            education  education_id  \\\n",
       "0          1   -8437.673028         42               высшее             0   \n",
       "1          1   -4024.803754         36              среднее             1   \n",
       "2          0   -5623.422610         33              Среднее             1   \n",
       "3          3   -4124.747207         32              среднее             1   \n",
       "4          0  340266.072047         53              среднее             1   \n",
       "5          0    -926.185831         27               высшее             0   \n",
       "6          0   -2879.202052         43               высшее             0   \n",
       "7          0    -152.779569         50              СРЕДНЕЕ             1   \n",
       "8          2   -6929.865299         35               ВЫСШЕЕ             0   \n",
       "9          0   -2188.756445         41              среднее             1   \n",
       "10         2   -4171.483647         36               высшее             0   \n",
       "11         0    -792.701887         40              среднее             1   \n",
       "12         0            NaN         65              среднее             1   \n",
       "13         0   -1846.641941         54  неоконченное высшее             2   \n",
       "14         0   -1844.956182         56               высшее             0   \n",
       "15         1    -972.364419         26              среднее             1   \n",
       "16         0   -1719.934226         35              среднее             1   \n",
       "17         0   -2369.999720         33               высшее             0   \n",
       "18         0  400281.136913         53              среднее             1   \n",
       "19         0  -10038.818549         48              СРЕДНЕЕ             1   \n",
       "\n",
       "       family_status  family_status_id gender income_type  debt  \\\n",
       "0    женат / замужем                 0      F   сотрудник     0   \n",
       "1    женат / замужем                 0      F   сотрудник     0   \n",
       "2    женат / замужем                 0      M   сотрудник     0   \n",
       "3    женат / замужем                 0      M   сотрудник     0   \n",
       "4   гражданский брак                 1      F   пенсионер     0   \n",
       "5   гражданский брак                 1      M   компаньон     0   \n",
       "6    женат / замужем                 0      F   компаньон     0   \n",
       "7    женат / замужем                 0      M   сотрудник     0   \n",
       "8   гражданский брак                 1      F   сотрудник     0   \n",
       "9    женат / замужем                 0      M   сотрудник     0   \n",
       "10   женат / замужем                 0      M   компаньон     0   \n",
       "11   женат / замужем                 0      F   сотрудник     0   \n",
       "12  гражданский брак                 1      M   пенсионер     0   \n",
       "13   женат / замужем                 0      F   сотрудник     0   \n",
       "14  гражданский брак                 1      F   компаньон     1   \n",
       "15   женат / замужем                 0      F   сотрудник     0   \n",
       "16   женат / замужем                 0      F   сотрудник     0   \n",
       "17  гражданский брак                 1      M   сотрудник     0   \n",
       "18    вдовец / вдова                 2      F   пенсионер     0   \n",
       "19         в разводе                 3      F   сотрудник     0   \n",
       "\n",
       "     total_income                                 purpose  \n",
       "0   253875.639453                           покупка жилья  \n",
       "1   112080.014102                 приобретение автомобиля  \n",
       "2   145885.952297                           покупка жилья  \n",
       "3   267628.550329              дополнительное образование  \n",
       "4   158616.077870                         сыграть свадьбу  \n",
       "5   255763.565419                           покупка жилья  \n",
       "6   240525.971920                       операции с жильем  \n",
       "7   135823.934197                             образование  \n",
       "8    95856.832424                   на проведение свадьбы  \n",
       "9   144425.938277                 покупка жилья для семьи  \n",
       "10  113943.491460                    покупка недвижимости  \n",
       "11   77069.234271       покупка коммерческой недвижимости  \n",
       "12            NaN                         сыграть свадьбу  \n",
       "13  130458.228857                 приобретение автомобиля  \n",
       "14  165127.911772              покупка жилой недвижимости  \n",
       "15  116820.904450  строительство собственной недвижимости  \n",
       "16  289202.704229                            недвижимость  \n",
       "17   90410.586745              строительство недвижимости  \n",
       "18   56823.777243      на покупку подержанного автомобиля  \n",
       "19  242831.107982            на покупку своего автомобиля  "
      ]
     },
     "execution_count": 2,
     "metadata": {},
     "output_type": "execute_result"
    }
   ],
   "source": [
    "data.head(20)"
   ]
  },
  {
   "cell_type": "markdown",
   "id": "44229763",
   "metadata": {
    "deletable": false,
    "editable": false,
    "id": "1c12e233"
   },
   "source": [
    "**Задание 3. Выведите основную информацию о датафрейме с помощью метода `info()`.**"
   ]
  },
  {
   "cell_type": "code",
   "execution_count": 3,
   "id": "29ee5bce",
   "metadata": {
    "deletable": false,
    "id": "2b757bca",
    "outputId": "15376089-8dad-46c9-b520-c05248d43158"
   },
   "outputs": [
    {
     "name": "stdout",
     "output_type": "stream",
     "text": [
      "<class 'pandas.core.frame.DataFrame'>\n",
      "RangeIndex: 21525 entries, 0 to 21524\n",
      "Data columns (total 12 columns):\n",
      " #   Column            Non-Null Count  Dtype  \n",
      "---  ------            --------------  -----  \n",
      " 0   children          21525 non-null  int64  \n",
      " 1   days_employed     19351 non-null  float64\n",
      " 2   dob_years         21525 non-null  int64  \n",
      " 3   education         21525 non-null  object \n",
      " 4   education_id      21525 non-null  int64  \n",
      " 5   family_status     21525 non-null  object \n",
      " 6   family_status_id  21525 non-null  int64  \n",
      " 7   gender            21525 non-null  object \n",
      " 8   income_type       21525 non-null  object \n",
      " 9   debt              21525 non-null  int64  \n",
      " 10  total_income      19351 non-null  float64\n",
      " 11  purpose           21525 non-null  object \n",
      "dtypes: float64(2), int64(5), object(5)\n",
      "memory usage: 2.0+ MB\n"
     ]
    }
   ],
   "source": [
    "data.info()"
   ]
  },
  {
   "cell_type": "markdown",
   "id": "fb26c000",
   "metadata": {
    "deletable": false,
    "editable": false,
    "id": "333ec665"
   },
   "source": [
    "## Предобработка данных"
   ]
  },
  {
   "cell_type": "markdown",
   "id": "7f23ec6c",
   "metadata": {
    "deletable": false,
    "editable": false,
    "id": "02d92d53"
   },
   "source": [
    "### Удаление пропусков"
   ]
  },
  {
   "cell_type": "markdown",
   "id": "d9006dd3",
   "metadata": {
    "deletable": false,
    "editable": false,
    "id": "cd84967c"
   },
   "source": [
    "**Задание 4. Выведите количество пропущенных значений для каждого столбца. Используйте комбинацию двух методов.**"
   ]
  },
  {
   "cell_type": "code",
   "execution_count": 4,
   "id": "cb55e254",
   "metadata": {
    "deletable": false,
    "id": "7f9b2309",
    "outputId": "81f4d817-781c-465c-ed15-91ce4446810d"
   },
   "outputs": [
    {
     "data": {
      "text/plain": [
       "children               0\n",
       "days_employed       2174\n",
       "dob_years              0\n",
       "education              0\n",
       "education_id           0\n",
       "family_status          0\n",
       "family_status_id       0\n",
       "gender                 0\n",
       "income_type            0\n",
       "debt                   0\n",
       "total_income        2174\n",
       "purpose                0\n",
       "dtype: int64"
      ]
     },
     "execution_count": 4,
     "metadata": {},
     "output_type": "execute_result"
    }
   ],
   "source": [
    "data.isna().sum()"
   ]
  },
  {
   "cell_type": "markdown",
   "id": "7bfe5173",
   "metadata": {
    "deletable": false,
    "editable": false,
    "id": "db86e27b"
   },
   "source": [
    "**Задание 5. В двух столбцах есть пропущенные значения. Один из них — `days_employed`. Пропуски в этом столбце вы обработаете на следующем этапе. Другой столбец с пропущенными значениями — `total_income` — хранит данные о доходах. На сумму дохода сильнее всего влияет тип занятости, поэтому заполнить пропуски в этом столбце нужно медианным значением по каждому типу из столбца `income_type`. Например, у человека с типом занятости `сотрудник` пропуск в столбце `total_income` должен быть заполнен медианным доходом среди всех записей с тем же типом.**"
   ]
  },
  {
   "cell_type": "code",
   "execution_count": 5,
   "id": "880ab365",
   "metadata": {
    "deletable": false,
    "id": "42006a93"
   },
   "outputs": [],
   "source": [
    "for t in data['income_type'].unique():\n",
    "    data.loc[(data['income_type'] == t) & (data['total_income'].isna()), 'total_income'] = \\\n",
    "    data.loc[(data['income_type'] == t), 'total_income'].median()"
   ]
  },
  {
   "cell_type": "markdown",
   "id": "45a6d8c8",
   "metadata": {
    "deletable": false,
    "editable": false,
    "id": "89da5ece"
   },
   "source": [
    "### Обработка аномальных значений"
   ]
  },
  {
   "cell_type": "markdown",
   "id": "60b495ca",
   "metadata": {
    "deletable": false,
    "editable": false,
    "id": "57964554"
   },
   "source": [
    "**Задание 6. В данных могут встречаться артефакты (аномалии) — значения, которые не отражают действительность и появились по какой-то ошибке. таким артефактом будет отрицательное количество дней трудового стажа в столбце `days_employed`. Для реальных данных это нормально. Обработайте значения в этом столбце: замените все отрицательные значения положительными с помощью метода `abs()`.**"
   ]
  },
  {
   "cell_type": "code",
   "execution_count": 6,
   "id": "d88d7900",
   "metadata": {
    "deletable": false,
    "id": "f6f055bf"
   },
   "outputs": [],
   "source": [
    "data['days_employed'] = data['days_employed'].abs()"
   ]
  },
  {
   "cell_type": "markdown",
   "id": "7b59f850",
   "metadata": {
    "deletable": false,
    "editable": false,
    "id": "6107dd2f"
   },
   "source": [
    "**Задание 7. Для каждого типа занятости выведите медианное значение трудового стажа `days_employed` в днях.**"
   ]
  },
  {
   "cell_type": "code",
   "execution_count": 7,
   "id": "bcfaa7d2",
   "metadata": {
    "deletable": false,
    "id": "85a5faf6",
    "outputId": "801ef80e-522b-4668-f34e-565af7432bcf"
   },
   "outputs": [
    {
     "data": {
      "text/plain": [
       "income_type\n",
       "безработный        366413.652744\n",
       "в декрете            3296.759962\n",
       "госслужащий          2689.368353\n",
       "компаньон            1547.382223\n",
       "пенсионер          365213.306266\n",
       "предприниматель       520.848083\n",
       "сотрудник            1574.202821\n",
       "студент               578.751554\n",
       "Name: days_employed, dtype: float64"
      ]
     },
     "execution_count": 7,
     "metadata": {},
     "output_type": "execute_result"
    }
   ],
   "source": [
    "data.groupby('income_type')['days_employed'].agg('median')"
   ]
  },
  {
   "cell_type": "markdown",
   "id": "faa41235",
   "metadata": {
    "deletable": false,
    "editable": false,
    "id": "38d1a030"
   },
   "source": [
    "У двух типов (безработные и пенсионеры) получатся аномально большие значения. Исправить такие значения сложно, поэтому оставьте их как есть. Тем более этот столбец не понадобится вам для исследования."
   ]
  },
  {
   "cell_type": "markdown",
   "id": "8fd63b5b",
   "metadata": {
    "deletable": false,
    "editable": false,
    "id": "d8a9f147"
   },
   "source": [
    "**Задание 8. Выведите перечень уникальных значений столбца `children`.**"
   ]
  },
  {
   "cell_type": "code",
   "execution_count": 8,
   "id": "72e53a95",
   "metadata": {
    "deletable": false,
    "id": "ef5056eb",
    "outputId": "6975b15c-7f95-4697-d16d-a0c79b657b03"
   },
   "outputs": [
    {
     "data": {
      "text/plain": [
       "array([ 1,  0,  3,  2, -1,  4, 20,  5])"
      ]
     },
     "execution_count": 8,
     "metadata": {},
     "output_type": "execute_result"
    }
   ],
   "source": [
    "data['children'].unique()"
   ]
  },
  {
   "cell_type": "markdown",
   "id": "53ae36d4",
   "metadata": {
    "deletable": false,
    "editable": false,
    "id": "40b9ebf2"
   },
   "source": [
    "**Задание 9. В столбце `children` есть два аномальных значения. Удалите строки, в которых встречаются такие аномальные значения из датафрейма `data`.**"
   ]
  },
  {
   "cell_type": "code",
   "execution_count": 9,
   "id": "834c6e1d",
   "metadata": {
    "deletable": false,
    "id": "3ff9801d"
   },
   "outputs": [],
   "source": [
    "data = data[(data['children'] != -1) & (data['children'] != 20)]"
   ]
  },
  {
   "cell_type": "markdown",
   "id": "46f8d3bc",
   "metadata": {
    "deletable": false,
    "editable": false,
    "id": "bbc4d0ce"
   },
   "source": [
    "**Задание 10. Ещё раз выведите перечень уникальных значений столбца `children`, чтобы убедиться, что артефакты удалены.**"
   ]
  },
  {
   "cell_type": "code",
   "execution_count": 10,
   "id": "51c3b29f",
   "metadata": {
    "deletable": false,
    "id": "ad4fa8b7",
    "outputId": "b2097101-d49d-44d9-901b-32a65c9463d1"
   },
   "outputs": [
    {
     "data": {
      "text/plain": [
       "array([1, 0, 3, 2, 4, 5])"
      ]
     },
     "execution_count": 10,
     "metadata": {},
     "output_type": "execute_result"
    }
   ],
   "source": [
    "data['children'].unique()"
   ]
  },
  {
   "cell_type": "markdown",
   "id": "ed07b94a",
   "metadata": {
    "deletable": false,
    "editable": false,
    "id": "75440b63"
   },
   "source": [
    "### Удаление пропусков (продолжение)"
   ]
  },
  {
   "cell_type": "markdown",
   "id": "ce2b8f8e",
   "metadata": {
    "deletable": false,
    "editable": false,
    "id": "f4ea573f"
   },
   "source": [
    "**Задание 11. Заполните пропуски в столбце `days_employed` медианными значениями по каждого типа занятости `income_type`.**"
   ]
  },
  {
   "cell_type": "code",
   "execution_count": 11,
   "id": "21c1b63a",
   "metadata": {
    "deletable": false,
    "id": "af6b1a7e"
   },
   "outputs": [],
   "source": [
    "for t in data['income_type'].unique():\n",
    "    data.loc[(data['income_type'] == t) & (data['days_employed'].isna()), 'days_employed'] = \\\n",
    "    data.loc[(data['income_type'] == t), 'days_employed'].median()"
   ]
  },
  {
   "cell_type": "markdown",
   "id": "0ddc565e",
   "metadata": {
    "deletable": false,
    "editable": false,
    "id": "2753f40d"
   },
   "source": [
    "**Задание 12. Убедитесь, что все пропуски заполнены. Проверьте себя и ещё раз выведите количество пропущенных значений для каждого столбца с помощью двух методов.**"
   ]
  },
  {
   "cell_type": "code",
   "execution_count": 12,
   "id": "de8e61e3",
   "metadata": {
    "deletable": false,
    "id": "55f78bc2",
    "outputId": "8da1e4e1-358e-4e87-98c9-f261bce0a7b2"
   },
   "outputs": [
    {
     "data": {
      "text/plain": [
       "children            0\n",
       "days_employed       0\n",
       "dob_years           0\n",
       "education           0\n",
       "education_id        0\n",
       "family_status       0\n",
       "family_status_id    0\n",
       "gender              0\n",
       "income_type         0\n",
       "debt                0\n",
       "total_income        0\n",
       "purpose             0\n",
       "dtype: int64"
      ]
     },
     "execution_count": 12,
     "metadata": {},
     "output_type": "execute_result"
    }
   ],
   "source": [
    "data.isna().sum()"
   ]
  },
  {
   "cell_type": "markdown",
   "id": "eae8484f",
   "metadata": {
    "deletable": false,
    "editable": false,
    "id": "ddc81e43"
   },
   "source": [
    "### Изменение типов данных"
   ]
  },
  {
   "cell_type": "markdown",
   "id": "76e802cb",
   "metadata": {
    "deletable": false,
    "editable": false,
    "id": "42d19d24"
   },
   "source": [
    "**Задание 13. Замените вещественный тип данных в столбце `total_income` на целочисленный с помощью метода `astype()`.**"
   ]
  },
  {
   "cell_type": "code",
   "execution_count": 13,
   "id": "7df5eabe",
   "metadata": {
    "deletable": false,
    "id": "920b65ad"
   },
   "outputs": [],
   "source": [
    "data['total_income'] = data['total_income'].astype(int)"
   ]
  },
  {
   "cell_type": "markdown",
   "id": "9a82745e",
   "metadata": {
    "deletable": false,
    "editable": false,
    "id": "80c420ba"
   },
   "source": [
    "### Обработка дубликатов"
   ]
  },
  {
   "cell_type": "markdown",
   "id": "a8a33fcd",
   "metadata": {
    "deletable": false,
    "editable": false
   },
   "source": [
    "**Задание 14. Обработайте неявные дубликаты в столбце `education`. В этом столбце есть одни и те же значения, но записанные по-разному: с использованием заглавных и строчных букв. Приведите их к нижнему регистру. Проверьте остальные столбцы.**"
   ]
  },
  {
   "cell_type": "code",
   "execution_count": 14,
   "id": "354c1924",
   "metadata": {
    "deletable": false
   },
   "outputs": [],
   "source": [
    "data['education'] = data['education'].str.lower()"
   ]
  },
  {
   "cell_type": "markdown",
   "id": "f26d1c60",
   "metadata": {
    "deletable": false,
    "editable": false,
    "id": "dc587695"
   },
   "source": [
    "**Задание 15. Выведите на экран количество строк-дубликатов в данных. Если такие строки присутствуют, удалите их.**"
   ]
  },
  {
   "cell_type": "code",
   "execution_count": 15,
   "id": "a1b140d8",
   "metadata": {
    "deletable": false,
    "id": "3ee445e4",
    "outputId": "9684deba-1934-42d1-99e1-cda61740f822"
   },
   "outputs": [
    {
     "data": {
      "text/plain": [
       "71"
      ]
     },
     "execution_count": 15,
     "metadata": {},
     "output_type": "execute_result"
    }
   ],
   "source": [
    "data.duplicated().sum()"
   ]
  },
  {
   "cell_type": "code",
   "execution_count": 16,
   "id": "cf223829",
   "metadata": {
    "deletable": false,
    "id": "8575fe05"
   },
   "outputs": [],
   "source": [
    "data = data.drop_duplicates()"
   ]
  },
  {
   "cell_type": "markdown",
   "id": "516a7c8d",
   "metadata": {
    "deletable": false,
    "editable": false,
    "id": "9904cf55"
   },
   "source": [
    "### Категоризация данных"
   ]
  },
  {
   "cell_type": "markdown",
   "id": "96474a99",
   "metadata": {
    "deletable": false,
    "editable": false,
    "id": "72fcc8a2"
   },
   "source": [
    "**Задание 16. На основании диапазонов, указанных ниже, создайте в датафрейме `data` столбец `total_income_category` с категориями:**\n",
    "\n",
    "- 0–30000 — `'E'`;\n",
    "- 30001–50000 — `'D'`;\n",
    "- 50001–200000 — `'C'`;\n",
    "- 200001–1000000 — `'B'`;\n",
    "- 1000001 и выше — `'A'`.\n",
    "\n",
    "\n",
    "**Например, кредитополучателю с доходом 25000 нужно назначить категорию `'E'`, а клиенту, получающему 235000, — `'B'`. Используйте собственную функцию с именем `categorize_income()` и метод `apply()`.**"
   ]
  },
  {
   "cell_type": "code",
   "execution_count": 17,
   "id": "1dd6643e",
   "metadata": {
    "deletable": false,
    "id": "e1771346"
   },
   "outputs": [],
   "source": [
    "def categorize_income(income):\n",
    "    try:\n",
    "        if 0 <= income <= 30000:\n",
    "            return 'E'\n",
    "        elif 30001 <= income <= 50000:\n",
    "            return 'D'\n",
    "        elif 50001 <= income <= 200000:\n",
    "            return 'C'\n",
    "        elif 200001 <= income <= 1000000:\n",
    "            return 'B'\n",
    "        elif income >= 1000001:\n",
    "            return 'A'\n",
    "    except:\n",
    "        pass"
   ]
  },
  {
   "cell_type": "code",
   "execution_count": 18,
   "id": "6e95fc71",
   "metadata": {
    "deletable": false,
    "id": "d5f3586d"
   },
   "outputs": [],
   "source": [
    "data['total_income_category'] = data['total_income'].apply(categorize_income)"
   ]
  },
  {
   "cell_type": "markdown",
   "id": "3a9be730",
   "metadata": {
    "deletable": false,
    "editable": false,
    "id": "dde49b5c"
   },
   "source": [
    "**Задание 17. Выведите на экран перечень уникальных целей взятия кредита из столбца `purpose`.**"
   ]
  },
  {
   "cell_type": "code",
   "execution_count": 19,
   "id": "61202f5f",
   "metadata": {
    "deletable": false,
    "id": "f67ce9b3",
    "outputId": "673c12d9-7d7e-4ae0-9812-c622c89dd244"
   },
   "outputs": [
    {
     "data": {
      "text/plain": [
       "array(['покупка жилья', 'приобретение автомобиля',\n",
       "       'дополнительное образование', 'сыграть свадьбу',\n",
       "       'операции с жильем', 'образование', 'на проведение свадьбы',\n",
       "       'покупка жилья для семьи', 'покупка недвижимости',\n",
       "       'покупка коммерческой недвижимости', 'покупка жилой недвижимости',\n",
       "       'строительство собственной недвижимости', 'недвижимость',\n",
       "       'строительство недвижимости', 'на покупку подержанного автомобиля',\n",
       "       'на покупку своего автомобиля',\n",
       "       'операции с коммерческой недвижимостью',\n",
       "       'строительство жилой недвижимости', 'жилье',\n",
       "       'операции со своей недвижимостью', 'автомобили',\n",
       "       'заняться образованием', 'сделка с подержанным автомобилем',\n",
       "       'получение образования', 'автомобиль', 'свадьба',\n",
       "       'получение дополнительного образования', 'покупка своего жилья',\n",
       "       'операции с недвижимостью', 'получение высшего образования',\n",
       "       'свой автомобиль', 'сделка с автомобилем',\n",
       "       'профильное образование', 'высшее образование',\n",
       "       'покупка жилья для сдачи', 'на покупку автомобиля', 'ремонт жилью',\n",
       "       'заняться высшим образованием'], dtype=object)"
      ]
     },
     "execution_count": 19,
     "metadata": {},
     "output_type": "execute_result"
    }
   ],
   "source": [
    "data['purpose'].unique()"
   ]
  },
  {
   "cell_type": "markdown",
   "id": "3e6388b5",
   "metadata": {
    "deletable": false,
    "editable": false,
    "id": "85d0aef0"
   },
   "source": [
    "**Задание 18. Создайте функцию, которая на основании данных из столбца `purpose` сформирует новый столбец `purpose_category`, в который войдут следующие категории:**\n",
    "\n",
    "- `'операции с автомобилем'`,\n",
    "- `'операции с недвижимостью'`,\n",
    "- `'проведение свадьбы'`,\n",
    "- `'получение образования'`.\n",
    "\n",
    "**Например, если в столбце `purpose` находится подстрока `'на покупку автомобиля'`, то в столбце `purpose_category` должна появиться строка `'операции с автомобилем'`.**\n",
    "\n",
    "**Используйте собственную функцию с именем `categorize_purpose()` и метод `apply()`. Изучите данные в столбце `purpose` и определите, какие подстроки помогут вам правильно определить категорию.**"
   ]
  },
  {
   "cell_type": "code",
   "execution_count": 20,
   "id": "75c39fb3",
   "metadata": {
    "deletable": false,
    "id": "e149fab4"
   },
   "outputs": [],
   "source": [
    "def categorize_purpose(row):\n",
    "    try:\n",
    "        if 'автом' in row:\n",
    "            return 'операции с автомобилем'\n",
    "        elif 'жил' in row or 'недвиж' in row:\n",
    "            return 'операции с недвижимостью'\n",
    "        elif 'свад' in row:\n",
    "            return 'проведение свадьбы'\n",
    "        elif 'образов' in row:\n",
    "            return 'получение образования'\n",
    "    except:\n",
    "        return 'нет категории'"
   ]
  },
  {
   "cell_type": "code",
   "execution_count": 21,
   "id": "ce7a476f",
   "metadata": {
    "deletable": false,
    "id": "bf36e69b"
   },
   "outputs": [],
   "source": [
    "data['purpose_category'] = data['purpose'].apply(categorize_purpose)"
   ]
  },
  {
   "cell_type": "markdown",
   "id": "e8486384",
   "metadata": {
    "deletable": false,
    "editable": false,
    "id": "09b242bf"
   },
   "source": [
    "### Шаг 3. Исследуйте данные и ответьте на вопросы"
   ]
  },
  {
   "cell_type": "markdown",
   "id": "1f0dd8e2",
   "metadata": {
    "deletable": false,
    "editable": false,
    "id": "c5d66278"
   },
   "source": [
    "#### 3.1 Есть ли зависимость между количеством детей и возвратом кредита в срок?"
   ]
  },
  {
   "cell_type": "code",
   "execution_count": 22,
   "id": "351e2ff6",
   "metadata": {},
   "outputs": [
    {
     "data": {
      "text/plain": [
       "array([0, 1])"
      ]
     },
     "execution_count": 22,
     "metadata": {},
     "output_type": "execute_result"
    }
   ],
   "source": [
    "data['debt'].unique()"
   ]
  },
  {
   "cell_type": "markdown",
   "id": "218e3d15",
   "metadata": {},
   "source": [
    "Данные в поле `debt` булевы - при 1 была задолжность по возврату кредитов, при 0 - отсутствовала. Для удобства визуального отображения сделаем столбец, который будет называется `is_debt` и иметь два значения - `exist` и `no_debt`."
   ]
  },
  {
   "cell_type": "code",
   "execution_count": 23,
   "id": "75d63d2b",
   "metadata": {},
   "outputs": [],
   "source": [
    "data['is_debt'] = data['debt'].map({0: 'no_debt', 1: 'exist'})"
   ]
  },
  {
   "cell_type": "code",
   "execution_count": 24,
   "id": "357c0315",
   "metadata": {},
   "outputs": [
    {
     "data": {
      "text/plain": [
       "array([1, 0, 3, 2, 4, 5])"
      ]
     },
     "execution_count": 24,
     "metadata": {},
     "output_type": "execute_result"
    }
   ],
   "source": [
    "data['children'].unique()"
   ]
  },
  {
   "cell_type": "markdown",
   "id": "d253971b",
   "metadata": {},
   "source": [
    "Количество детей варьируется от 0 до 5. Для того чтобы увидеть зависимость, построим сводную таблицу количества детей от существования задолжности и посчитаем процент людей, имеющих задолжность по кредиту от общего количества людей с детьми для каждой категории."
   ]
  },
  {
   "cell_type": "code",
   "execution_count": 25,
   "id": "d9a07c30",
   "metadata": {},
   "outputs": [],
   "source": [
    "def create_pivot_table(table, first_column, second_column='is_debt', value='debt'):\n",
    "    pivot = table.pivot_table(index=first_column, columns=second_column, values=value, aggfunc='count', fill_value=0)\n",
    "    pivot['percent'] = round((pivot['exist'] / (pivot['no_debt'] + pivot['exist'])) * 100, 2)\n",
    "    return pivot"
   ]
  },
  {
   "cell_type": "code",
   "execution_count": 26,
   "id": "35e8f311",
   "metadata": {},
   "outputs": [
    {
     "data": {
      "text/html": [
       "<div>\n",
       "<style scoped>\n",
       "    .dataframe tbody tr th:only-of-type {\n",
       "        vertical-align: middle;\n",
       "    }\n",
       "\n",
       "    .dataframe tbody tr th {\n",
       "        vertical-align: top;\n",
       "    }\n",
       "\n",
       "    .dataframe thead th {\n",
       "        text-align: right;\n",
       "    }\n",
       "</style>\n",
       "<table border=\"1\" class=\"dataframe\">\n",
       "  <thead>\n",
       "    <tr style=\"text-align: right;\">\n",
       "      <th>is_debt</th>\n",
       "      <th>exist</th>\n",
       "      <th>no_debt</th>\n",
       "      <th>percent</th>\n",
       "    </tr>\n",
       "    <tr>\n",
       "      <th>children</th>\n",
       "      <th></th>\n",
       "      <th></th>\n",
       "      <th></th>\n",
       "    </tr>\n",
       "  </thead>\n",
       "  <tbody>\n",
       "    <tr>\n",
       "      <th>0</th>\n",
       "      <td>1063</td>\n",
       "      <td>13028</td>\n",
       "      <td>7.54</td>\n",
       "    </tr>\n",
       "    <tr>\n",
       "      <th>1</th>\n",
       "      <td>444</td>\n",
       "      <td>4364</td>\n",
       "      <td>9.23</td>\n",
       "    </tr>\n",
       "    <tr>\n",
       "      <th>2</th>\n",
       "      <td>194</td>\n",
       "      <td>1858</td>\n",
       "      <td>9.45</td>\n",
       "    </tr>\n",
       "    <tr>\n",
       "      <th>3</th>\n",
       "      <td>27</td>\n",
       "      <td>303</td>\n",
       "      <td>8.18</td>\n",
       "    </tr>\n",
       "    <tr>\n",
       "      <th>4</th>\n",
       "      <td>4</td>\n",
       "      <td>37</td>\n",
       "      <td>9.76</td>\n",
       "    </tr>\n",
       "    <tr>\n",
       "      <th>5</th>\n",
       "      <td>0</td>\n",
       "      <td>9</td>\n",
       "      <td>0.00</td>\n",
       "    </tr>\n",
       "  </tbody>\n",
       "</table>\n",
       "</div>"
      ],
      "text/plain": [
       "is_debt   exist  no_debt  percent\n",
       "children                         \n",
       "0          1063    13028     7.54\n",
       "1           444     4364     9.23\n",
       "2           194     1858     9.45\n",
       "3            27      303     8.18\n",
       "4             4       37     9.76\n",
       "5             0        9     0.00"
      ]
     },
     "execution_count": 26,
     "metadata": {},
     "output_type": "execute_result"
    }
   ],
   "source": [
    "children_and_debt = create_pivot_table(data, 'children')\n",
    "children_and_debt"
   ]
  },
  {
   "cell_type": "markdown",
   "id": "e5e6c6ff",
   "metadata": {},
   "source": [
    "На сводной таблице задолжностей для клиентов с пятью детьми не найдено. Проверим данные в таблице для пяти детей."
   ]
  },
  {
   "cell_type": "code",
   "execution_count": 27,
   "id": "fc24d4f0",
   "metadata": {},
   "outputs": [
    {
     "data": {
      "text/html": [
       "<div>\n",
       "<style scoped>\n",
       "    .dataframe tbody tr th:only-of-type {\n",
       "        vertical-align: middle;\n",
       "    }\n",
       "\n",
       "    .dataframe tbody tr th {\n",
       "        vertical-align: top;\n",
       "    }\n",
       "\n",
       "    .dataframe thead th {\n",
       "        text-align: right;\n",
       "    }\n",
       "</style>\n",
       "<table border=\"1\" class=\"dataframe\">\n",
       "  <thead>\n",
       "    <tr style=\"text-align: right;\">\n",
       "      <th></th>\n",
       "      <th>children</th>\n",
       "      <th>debt</th>\n",
       "      <th>is_debt</th>\n",
       "    </tr>\n",
       "  </thead>\n",
       "  <tbody>\n",
       "    <tr>\n",
       "      <th>3979</th>\n",
       "      <td>5</td>\n",
       "      <td>0</td>\n",
       "      <td>no_debt</td>\n",
       "    </tr>\n",
       "    <tr>\n",
       "      <th>4397</th>\n",
       "      <td>5</td>\n",
       "      <td>0</td>\n",
       "      <td>no_debt</td>\n",
       "    </tr>\n",
       "    <tr>\n",
       "      <th>7866</th>\n",
       "      <td>5</td>\n",
       "      <td>0</td>\n",
       "      <td>no_debt</td>\n",
       "    </tr>\n",
       "    <tr>\n",
       "      <th>15822</th>\n",
       "      <td>5</td>\n",
       "      <td>0</td>\n",
       "      <td>no_debt</td>\n",
       "    </tr>\n",
       "    <tr>\n",
       "      <th>15916</th>\n",
       "      <td>5</td>\n",
       "      <td>0</td>\n",
       "      <td>no_debt</td>\n",
       "    </tr>\n",
       "    <tr>\n",
       "      <th>16211</th>\n",
       "      <td>5</td>\n",
       "      <td>0</td>\n",
       "      <td>no_debt</td>\n",
       "    </tr>\n",
       "    <tr>\n",
       "      <th>20452</th>\n",
       "      <td>5</td>\n",
       "      <td>0</td>\n",
       "      <td>no_debt</td>\n",
       "    </tr>\n",
       "    <tr>\n",
       "      <th>20837</th>\n",
       "      <td>5</td>\n",
       "      <td>0</td>\n",
       "      <td>no_debt</td>\n",
       "    </tr>\n",
       "    <tr>\n",
       "      <th>21156</th>\n",
       "      <td>5</td>\n",
       "      <td>0</td>\n",
       "      <td>no_debt</td>\n",
       "    </tr>\n",
       "  </tbody>\n",
       "</table>\n",
       "</div>"
      ],
      "text/plain": [
       "       children  debt  is_debt\n",
       "3979          5     0  no_debt\n",
       "4397          5     0  no_debt\n",
       "7866          5     0  no_debt\n",
       "15822         5     0  no_debt\n",
       "15916         5     0  no_debt\n",
       "16211         5     0  no_debt\n",
       "20452         5     0  no_debt\n",
       "20837         5     0  no_debt\n",
       "21156         5     0  no_debt"
      ]
     },
     "execution_count": 27,
     "metadata": {},
     "output_type": "execute_result"
    }
   ],
   "source": [
    "data.loc[data['children'] == 5, ['children', 'debt', 'is_debt']]"
   ]
  },
  {
   "cell_type": "markdown",
   "id": "23f735a6",
   "metadata": {},
   "source": [
    "Действительно, семьи с пятью детьми не имеют задолжностей по кредитам. Поскольку количество клиентов с различным количеством детей разное, отсортируем полученную таблицу по проценту задолжности относительно группы клиентов с одним количеством детей."
   ]
  },
  {
   "cell_type": "code",
   "execution_count": 28,
   "id": "e09ea290",
   "metadata": {},
   "outputs": [
    {
     "data": {
      "text/html": [
       "<div>\n",
       "<style scoped>\n",
       "    .dataframe tbody tr th:only-of-type {\n",
       "        vertical-align: middle;\n",
       "    }\n",
       "\n",
       "    .dataframe tbody tr th {\n",
       "        vertical-align: top;\n",
       "    }\n",
       "\n",
       "    .dataframe thead th {\n",
       "        text-align: right;\n",
       "    }\n",
       "</style>\n",
       "<table border=\"1\" class=\"dataframe\">\n",
       "  <thead>\n",
       "    <tr style=\"text-align: right;\">\n",
       "      <th>is_debt</th>\n",
       "      <th>exist</th>\n",
       "      <th>no_debt</th>\n",
       "      <th>percent</th>\n",
       "    </tr>\n",
       "    <tr>\n",
       "      <th>children</th>\n",
       "      <th></th>\n",
       "      <th></th>\n",
       "      <th></th>\n",
       "    </tr>\n",
       "  </thead>\n",
       "  <tbody>\n",
       "    <tr>\n",
       "      <th>4</th>\n",
       "      <td>4</td>\n",
       "      <td>37</td>\n",
       "      <td>9.76</td>\n",
       "    </tr>\n",
       "    <tr>\n",
       "      <th>2</th>\n",
       "      <td>194</td>\n",
       "      <td>1858</td>\n",
       "      <td>9.45</td>\n",
       "    </tr>\n",
       "    <tr>\n",
       "      <th>1</th>\n",
       "      <td>444</td>\n",
       "      <td>4364</td>\n",
       "      <td>9.23</td>\n",
       "    </tr>\n",
       "    <tr>\n",
       "      <th>3</th>\n",
       "      <td>27</td>\n",
       "      <td>303</td>\n",
       "      <td>8.18</td>\n",
       "    </tr>\n",
       "    <tr>\n",
       "      <th>0</th>\n",
       "      <td>1063</td>\n",
       "      <td>13028</td>\n",
       "      <td>7.54</td>\n",
       "    </tr>\n",
       "    <tr>\n",
       "      <th>5</th>\n",
       "      <td>0</td>\n",
       "      <td>9</td>\n",
       "      <td>0.00</td>\n",
       "    </tr>\n",
       "  </tbody>\n",
       "</table>\n",
       "</div>"
      ],
      "text/plain": [
       "is_debt   exist  no_debt  percent\n",
       "children                         \n",
       "4             4       37     9.76\n",
       "2           194     1858     9.45\n",
       "1           444     4364     9.23\n",
       "3            27      303     8.18\n",
       "0          1063    13028     7.54\n",
       "5             0        9     0.00"
      ]
     },
     "execution_count": 28,
     "metadata": {},
     "output_type": "execute_result"
    }
   ],
   "source": [
    "children_and_debt.sort_values(by='percent', ascending=False)"
   ]
  },
  {
   "cell_type": "markdown",
   "id": "58097fd4",
   "metadata": {},
   "source": [
    "Относительно группы больший процент не вернувших кредит среди клиентов с 4, 2 и 3 детьми, если делать оценку внутри группы. Однако обратив внимание на количество людей с 4, 3 и 5 детьми, можно сделать вывод, что количества не хватает для объективной оценки. Поэтому для поиска зависимости оставим категории людей с 2, 1 и 0 детей."
   ]
  },
  {
   "cell_type": "code",
   "execution_count": 29,
   "id": "f197975d",
   "metadata": {},
   "outputs": [],
   "source": [
    "children_and_debt = children_and_debt.drop(labels=[4, 3, 5], axis=0)"
   ]
  },
  {
   "cell_type": "code",
   "execution_count": 30,
   "id": "226d54d1",
   "metadata": {},
   "outputs": [
    {
     "data": {
      "text/html": [
       "<div>\n",
       "<style scoped>\n",
       "    .dataframe tbody tr th:only-of-type {\n",
       "        vertical-align: middle;\n",
       "    }\n",
       "\n",
       "    .dataframe tbody tr th {\n",
       "        vertical-align: top;\n",
       "    }\n",
       "\n",
       "    .dataframe thead th {\n",
       "        text-align: right;\n",
       "    }\n",
       "</style>\n",
       "<table border=\"1\" class=\"dataframe\">\n",
       "  <thead>\n",
       "    <tr style=\"text-align: right;\">\n",
       "      <th>is_debt</th>\n",
       "      <th>exist</th>\n",
       "      <th>no_debt</th>\n",
       "      <th>percent</th>\n",
       "    </tr>\n",
       "    <tr>\n",
       "      <th>children</th>\n",
       "      <th></th>\n",
       "      <th></th>\n",
       "      <th></th>\n",
       "    </tr>\n",
       "  </thead>\n",
       "  <tbody>\n",
       "    <tr>\n",
       "      <th>2</th>\n",
       "      <td>194</td>\n",
       "      <td>1858</td>\n",
       "      <td>9.45</td>\n",
       "    </tr>\n",
       "    <tr>\n",
       "      <th>1</th>\n",
       "      <td>444</td>\n",
       "      <td>4364</td>\n",
       "      <td>9.23</td>\n",
       "    </tr>\n",
       "    <tr>\n",
       "      <th>0</th>\n",
       "      <td>1063</td>\n",
       "      <td>13028</td>\n",
       "      <td>7.54</td>\n",
       "    </tr>\n",
       "  </tbody>\n",
       "</table>\n",
       "</div>"
      ],
      "text/plain": [
       "is_debt   exist  no_debt  percent\n",
       "children                         \n",
       "2           194     1858     9.45\n",
       "1           444     4364     9.23\n",
       "0          1063    13028     7.54"
      ]
     },
     "execution_count": 30,
     "metadata": {},
     "output_type": "execute_result"
    }
   ],
   "source": [
    "children_and_debt.sort_values(by='percent', ascending=False)"
   ]
  },
  {
   "cell_type": "markdown",
   "id": "85225941",
   "metadata": {
    "deletable": false,
    "id": "3a6b99ec"
   },
   "source": [
    "**Вывод:** Наибольшее число людей, имеющих задолжность по кредиту среди клиентов, у которых нет детей. При оценке задолжности через отношение количества клиентов с задолжностью к общему количеству клиентов с группировкой по количеству детей больший процент людей, не вернувших кредит вовремя, растет с количеством детей для групп с 1 и 2 детьми соответственно."
   ]
  },
  {
   "cell_type": "markdown",
   "id": "92d26f64",
   "metadata": {
    "deletable": false,
    "editable": false,
    "id": "97be82ca"
   },
   "source": [
    "#### 3.2 Есть ли зависимость между семейным положением и возвратом кредита в срок?"
   ]
  },
  {
   "cell_type": "markdown",
   "id": "ff28aaa6",
   "metadata": {},
   "source": [
    "Для начала рассмотрим данные для анализа: семейное положение - столбец `family_status` и возврат кредита в срок - столбец `debt`"
   ]
  },
  {
   "cell_type": "code",
   "execution_count": 31,
   "id": "f12aac43",
   "metadata": {
    "deletable": false,
    "id": "dc3f7ee8"
   },
   "outputs": [
    {
     "data": {
      "text/plain": [
       "array(['женат / замужем', 'гражданский брак', 'вдовец / вдова',\n",
       "       'в разводе', 'Не женат / не замужем'], dtype=object)"
      ]
     },
     "execution_count": 31,
     "metadata": {},
     "output_type": "execute_result"
    }
   ],
   "source": [
    "data['family_status'].unique()"
   ]
  },
  {
   "cell_type": "code",
   "execution_count": 32,
   "id": "45adcd16",
   "metadata": {},
   "outputs": [
    {
     "data": {
      "text/plain": [
       "array([0, 1])"
      ]
     },
     "execution_count": 32,
     "metadata": {},
     "output_type": "execute_result"
    }
   ],
   "source": [
    "data['debt'].unique()"
   ]
  },
  {
   "cell_type": "markdown",
   "id": "df033177",
   "metadata": {},
   "source": [
    "Данные в поле `debt` булевы - при 1 была задолжность по возврату кредитов, при 0 - отсутствовала. Для удобства визуального отображения сделаем столбец, который будет называется `is_debt` и иметь два значения - `exist` и `no_debt`. \n",
    "Функция и данные были добавлены в предыдущем задании, поэтому заново проделывать подобные махинации нет смысла."
   ]
  },
  {
   "cell_type": "markdown",
   "id": "a8704fe5",
   "metadata": {},
   "source": [
    "Создадим сводную таблицу для данных о семейном положении и статусе возврата кредита. Для оценки добавим колонку `percent`, которая поможет оценить количество задолжностей внутри различных семейных статусов."
   ]
  },
  {
   "cell_type": "code",
   "execution_count": 33,
   "id": "83f13c94",
   "metadata": {},
   "outputs": [],
   "source": [
    "family_status_and_debt = create_pivot_table(data, 'family_status')"
   ]
  },
  {
   "cell_type": "code",
   "execution_count": 34,
   "id": "6140cfe7",
   "metadata": {},
   "outputs": [
    {
     "data": {
      "text/html": [
       "<div>\n",
       "<style scoped>\n",
       "    .dataframe tbody tr th:only-of-type {\n",
       "        vertical-align: middle;\n",
       "    }\n",
       "\n",
       "    .dataframe tbody tr th {\n",
       "        vertical-align: top;\n",
       "    }\n",
       "\n",
       "    .dataframe thead th {\n",
       "        text-align: right;\n",
       "    }\n",
       "</style>\n",
       "<table border=\"1\" class=\"dataframe\">\n",
       "  <thead>\n",
       "    <tr style=\"text-align: right;\">\n",
       "      <th>is_debt</th>\n",
       "      <th>exist</th>\n",
       "      <th>no_debt</th>\n",
       "      <th>percent</th>\n",
       "    </tr>\n",
       "    <tr>\n",
       "      <th>family_status</th>\n",
       "      <th></th>\n",
       "      <th></th>\n",
       "      <th></th>\n",
       "    </tr>\n",
       "  </thead>\n",
       "  <tbody>\n",
       "    <tr>\n",
       "      <th>женат / замужем</th>\n",
       "      <td>927</td>\n",
       "      <td>11334</td>\n",
       "      <td>7.56</td>\n",
       "    </tr>\n",
       "    <tr>\n",
       "      <th>гражданский брак</th>\n",
       "      <td>385</td>\n",
       "      <td>3749</td>\n",
       "      <td>9.31</td>\n",
       "    </tr>\n",
       "    <tr>\n",
       "      <th>Не женат / не замужем</th>\n",
       "      <td>273</td>\n",
       "      <td>2523</td>\n",
       "      <td>9.76</td>\n",
       "    </tr>\n",
       "    <tr>\n",
       "      <th>в разводе</th>\n",
       "      <td>84</td>\n",
       "      <td>1105</td>\n",
       "      <td>7.06</td>\n",
       "    </tr>\n",
       "    <tr>\n",
       "      <th>вдовец / вдова</th>\n",
       "      <td>63</td>\n",
       "      <td>888</td>\n",
       "      <td>6.62</td>\n",
       "    </tr>\n",
       "  </tbody>\n",
       "</table>\n",
       "</div>"
      ],
      "text/plain": [
       "is_debt                exist  no_debt  percent\n",
       "family_status                                 \n",
       "женат / замужем          927    11334     7.56\n",
       "гражданский брак         385     3749     9.31\n",
       "Не женат / не замужем    273     2523     9.76\n",
       "в разводе                 84     1105     7.06\n",
       "вдовец / вдова            63      888     6.62"
      ]
     },
     "execution_count": 34,
     "metadata": {},
     "output_type": "execute_result"
    }
   ],
   "source": [
    "family_status_and_debt.sort_values(by='exist', ascending=False)"
   ]
  },
  {
   "cell_type": "code",
   "execution_count": 35,
   "id": "61b55f75",
   "metadata": {},
   "outputs": [
    {
     "data": {
      "text/html": [
       "<div>\n",
       "<style scoped>\n",
       "    .dataframe tbody tr th:only-of-type {\n",
       "        vertical-align: middle;\n",
       "    }\n",
       "\n",
       "    .dataframe tbody tr th {\n",
       "        vertical-align: top;\n",
       "    }\n",
       "\n",
       "    .dataframe thead th {\n",
       "        text-align: right;\n",
       "    }\n",
       "</style>\n",
       "<table border=\"1\" class=\"dataframe\">\n",
       "  <thead>\n",
       "    <tr style=\"text-align: right;\">\n",
       "      <th>is_debt</th>\n",
       "      <th>exist</th>\n",
       "      <th>no_debt</th>\n",
       "      <th>percent</th>\n",
       "    </tr>\n",
       "    <tr>\n",
       "      <th>family_status</th>\n",
       "      <th></th>\n",
       "      <th></th>\n",
       "      <th></th>\n",
       "    </tr>\n",
       "  </thead>\n",
       "  <tbody>\n",
       "    <tr>\n",
       "      <th>Не женат / не замужем</th>\n",
       "      <td>273</td>\n",
       "      <td>2523</td>\n",
       "      <td>9.76</td>\n",
       "    </tr>\n",
       "    <tr>\n",
       "      <th>гражданский брак</th>\n",
       "      <td>385</td>\n",
       "      <td>3749</td>\n",
       "      <td>9.31</td>\n",
       "    </tr>\n",
       "    <tr>\n",
       "      <th>женат / замужем</th>\n",
       "      <td>927</td>\n",
       "      <td>11334</td>\n",
       "      <td>7.56</td>\n",
       "    </tr>\n",
       "    <tr>\n",
       "      <th>в разводе</th>\n",
       "      <td>84</td>\n",
       "      <td>1105</td>\n",
       "      <td>7.06</td>\n",
       "    </tr>\n",
       "    <tr>\n",
       "      <th>вдовец / вдова</th>\n",
       "      <td>63</td>\n",
       "      <td>888</td>\n",
       "      <td>6.62</td>\n",
       "    </tr>\n",
       "  </tbody>\n",
       "</table>\n",
       "</div>"
      ],
      "text/plain": [
       "is_debt                exist  no_debt  percent\n",
       "family_status                                 \n",
       "Не женат / не замужем    273     2523     9.76\n",
       "гражданский брак         385     3749     9.31\n",
       "женат / замужем          927    11334     7.56\n",
       "в разводе                 84     1105     7.06\n",
       "вдовец / вдова            63      888     6.62"
      ]
     },
     "execution_count": 35,
     "metadata": {},
     "output_type": "execute_result"
    }
   ],
   "source": [
    "family_status_and_debt.sort_values(by='percent', ascending=False)"
   ]
  },
  {
   "cell_type": "markdown",
   "id": "686f6111",
   "metadata": {
    "deletable": false,
    "id": "1cef7837"
   },
   "source": [
    "**Вывод:** Наибольшее количество клиентов с задолжностью среди людей, которые находятся в браке. Однако при оценке процента людей задолжностью при группировке по статусу отношений, количество людей не вернувших долг во время, среди категорий `не женат/не замужем`, `гражданский брак` по убыванию соотвественно. Наименьший процент клиентов с задолжностью среди категорий `вдовец/вдова`, `в разводе`, `женат/замужем`, данные категории более надежны для выдачи кредита, категории указаны в порядке возрастания процента."
   ]
  },
  {
   "cell_type": "markdown",
   "id": "64378bf3",
   "metadata": {
    "deletable": false,
    "editable": false,
    "id": "1e8b2fca"
   },
   "source": [
    "#### 3.3 Есть ли зависимость между уровнем дохода и возвратом кредита в срок?"
   ]
  },
  {
   "cell_type": "markdown",
   "id": "26131437",
   "metadata": {
    "deletable": false,
    "id": "cd7e3720"
   },
   "source": [
    "Для анализа необходимо оценить значения столбцов `total_income_category`, в котором указана категория и столбец `debt`, в котором при помощи булевых значений указано наличие задолжности. Для формирования сводной таблицы будем использовать созданный ранее столбец `is_dept`, где при помощи строковых значений указано наличие и отсутствие задолжности - данные `exist` и `no_debt` соответственно."
   ]
  },
  {
   "cell_type": "code",
   "execution_count": 36,
   "id": "486dc157",
   "metadata": {},
   "outputs": [
    {
     "data": {
      "text/plain": [
       "array(['B', 'C', 'D', 'E', 'A'], dtype=object)"
      ]
     },
     "execution_count": 36,
     "metadata": {},
     "output_type": "execute_result"
    }
   ],
   "source": [
    "data['total_income_category'].unique()"
   ]
  },
  {
   "cell_type": "markdown",
   "id": "d01c8a52",
   "metadata": {},
   "source": [
    "Для удобства анализа вспомним информацию о том, какие диапазоны сумм дохода соответсвуют каждой категории:\n",
    "- 0–30000 — `'E'`;\n",
    "- 30001–50000 — `'D'`;\n",
    "- 50001–200000 — `'C'`;\n",
    "- 200001–1000000 — `'B'`;\n",
    "- 1000001 и выше — `'A'`.\n",
    "Построем сводную таблицу категорий дохода от наличия задолжности"
   ]
  },
  {
   "cell_type": "code",
   "execution_count": 37,
   "id": "39417518",
   "metadata": {},
   "outputs": [
    {
     "data": {
      "text/html": [
       "<div>\n",
       "<style scoped>\n",
       "    .dataframe tbody tr th:only-of-type {\n",
       "        vertical-align: middle;\n",
       "    }\n",
       "\n",
       "    .dataframe tbody tr th {\n",
       "        vertical-align: top;\n",
       "    }\n",
       "\n",
       "    .dataframe thead th {\n",
       "        text-align: right;\n",
       "    }\n",
       "</style>\n",
       "<table border=\"1\" class=\"dataframe\">\n",
       "  <thead>\n",
       "    <tr style=\"text-align: right;\">\n",
       "      <th>is_debt</th>\n",
       "      <th>exist</th>\n",
       "      <th>no_debt</th>\n",
       "      <th>percent</th>\n",
       "    </tr>\n",
       "    <tr>\n",
       "      <th>total_income_category</th>\n",
       "      <th></th>\n",
       "      <th></th>\n",
       "      <th></th>\n",
       "    </tr>\n",
       "  </thead>\n",
       "  <tbody>\n",
       "    <tr>\n",
       "      <th>C</th>\n",
       "      <td>1353</td>\n",
       "      <td>14568</td>\n",
       "      <td>8.50</td>\n",
       "    </tr>\n",
       "    <tr>\n",
       "      <th>B</th>\n",
       "      <td>354</td>\n",
       "      <td>4660</td>\n",
       "      <td>7.06</td>\n",
       "    </tr>\n",
       "    <tr>\n",
       "      <th>D</th>\n",
       "      <td>21</td>\n",
       "      <td>328</td>\n",
       "      <td>6.02</td>\n",
       "    </tr>\n",
       "    <tr>\n",
       "      <th>A</th>\n",
       "      <td>2</td>\n",
       "      <td>23</td>\n",
       "      <td>8.00</td>\n",
       "    </tr>\n",
       "    <tr>\n",
       "      <th>E</th>\n",
       "      <td>2</td>\n",
       "      <td>20</td>\n",
       "      <td>9.09</td>\n",
       "    </tr>\n",
       "  </tbody>\n",
       "</table>\n",
       "</div>"
      ],
      "text/plain": [
       "is_debt                exist  no_debt  percent\n",
       "total_income_category                         \n",
       "C                       1353    14568     8.50\n",
       "B                        354     4660     7.06\n",
       "D                         21      328     6.02\n",
       "A                          2       23     8.00\n",
       "E                          2       20     9.09"
      ]
     },
     "execution_count": 37,
     "metadata": {},
     "output_type": "execute_result"
    }
   ],
   "source": [
    "income_category_and_debt = create_pivot_table(data, 'total_income_category')\n",
    "income_category_and_debt.sort_values(by='exist', ascending=False)"
   ]
  },
  {
   "cell_type": "code",
   "execution_count": 38,
   "id": "467b2ee0",
   "metadata": {},
   "outputs": [
    {
     "data": {
      "text/html": [
       "<div>\n",
       "<style scoped>\n",
       "    .dataframe tbody tr th:only-of-type {\n",
       "        vertical-align: middle;\n",
       "    }\n",
       "\n",
       "    .dataframe tbody tr th {\n",
       "        vertical-align: top;\n",
       "    }\n",
       "\n",
       "    .dataframe thead th {\n",
       "        text-align: right;\n",
       "    }\n",
       "</style>\n",
       "<table border=\"1\" class=\"dataframe\">\n",
       "  <thead>\n",
       "    <tr style=\"text-align: right;\">\n",
       "      <th>is_debt</th>\n",
       "      <th>exist</th>\n",
       "      <th>no_debt</th>\n",
       "      <th>percent</th>\n",
       "    </tr>\n",
       "    <tr>\n",
       "      <th>total_income_category</th>\n",
       "      <th></th>\n",
       "      <th></th>\n",
       "      <th></th>\n",
       "    </tr>\n",
       "  </thead>\n",
       "  <tbody>\n",
       "    <tr>\n",
       "      <th>E</th>\n",
       "      <td>2</td>\n",
       "      <td>20</td>\n",
       "      <td>9.09</td>\n",
       "    </tr>\n",
       "    <tr>\n",
       "      <th>C</th>\n",
       "      <td>1353</td>\n",
       "      <td>14568</td>\n",
       "      <td>8.50</td>\n",
       "    </tr>\n",
       "    <tr>\n",
       "      <th>A</th>\n",
       "      <td>2</td>\n",
       "      <td>23</td>\n",
       "      <td>8.00</td>\n",
       "    </tr>\n",
       "    <tr>\n",
       "      <th>B</th>\n",
       "      <td>354</td>\n",
       "      <td>4660</td>\n",
       "      <td>7.06</td>\n",
       "    </tr>\n",
       "    <tr>\n",
       "      <th>D</th>\n",
       "      <td>21</td>\n",
       "      <td>328</td>\n",
       "      <td>6.02</td>\n",
       "    </tr>\n",
       "  </tbody>\n",
       "</table>\n",
       "</div>"
      ],
      "text/plain": [
       "is_debt                exist  no_debt  percent\n",
       "total_income_category                         \n",
       "E                          2       20     9.09\n",
       "C                       1353    14568     8.50\n",
       "A                          2       23     8.00\n",
       "B                        354     4660     7.06\n",
       "D                         21      328     6.02"
      ]
     },
     "execution_count": 38,
     "metadata": {},
     "output_type": "execute_result"
    }
   ],
   "source": [
    "income_category_and_debt.sort_values(by='percent', ascending=False)"
   ]
  },
  {
   "cell_type": "markdown",
   "id": "00fa847d",
   "metadata": {},
   "source": [
    "Для категорий `A`, `D`, `E` не достаточно данных для оценки возврата кредита в срок. Для простоты анализа уберем данные, не влияющие на итоговый вывод"
   ]
  },
  {
   "cell_type": "code",
   "execution_count": 39,
   "id": "eb195c1e",
   "metadata": {},
   "outputs": [],
   "source": [
    "income_category_and_debt = income_category_and_debt.drop(axis=0, labels=['E', 'A', 'D'])"
   ]
  },
  {
   "cell_type": "code",
   "execution_count": 40,
   "id": "c0894308",
   "metadata": {},
   "outputs": [
    {
     "data": {
      "text/html": [
       "<div>\n",
       "<style scoped>\n",
       "    .dataframe tbody tr th:only-of-type {\n",
       "        vertical-align: middle;\n",
       "    }\n",
       "\n",
       "    .dataframe tbody tr th {\n",
       "        vertical-align: top;\n",
       "    }\n",
       "\n",
       "    .dataframe thead th {\n",
       "        text-align: right;\n",
       "    }\n",
       "</style>\n",
       "<table border=\"1\" class=\"dataframe\">\n",
       "  <thead>\n",
       "    <tr style=\"text-align: right;\">\n",
       "      <th>is_debt</th>\n",
       "      <th>exist</th>\n",
       "      <th>no_debt</th>\n",
       "      <th>percent</th>\n",
       "    </tr>\n",
       "    <tr>\n",
       "      <th>total_income_category</th>\n",
       "      <th></th>\n",
       "      <th></th>\n",
       "      <th></th>\n",
       "    </tr>\n",
       "  </thead>\n",
       "  <tbody>\n",
       "    <tr>\n",
       "      <th>C</th>\n",
       "      <td>1353</td>\n",
       "      <td>14568</td>\n",
       "      <td>8.50</td>\n",
       "    </tr>\n",
       "    <tr>\n",
       "      <th>B</th>\n",
       "      <td>354</td>\n",
       "      <td>4660</td>\n",
       "      <td>7.06</td>\n",
       "    </tr>\n",
       "  </tbody>\n",
       "</table>\n",
       "</div>"
      ],
      "text/plain": [
       "is_debt                exist  no_debt  percent\n",
       "total_income_category                         \n",
       "C                       1353    14568     8.50\n",
       "B                        354     4660     7.06"
      ]
     },
     "execution_count": 40,
     "metadata": {},
     "output_type": "execute_result"
    }
   ],
   "source": [
    "income_category_and_debt.sort_values(by='percent', ascending=False)"
   ]
  },
  {
   "cell_type": "markdown",
   "id": "17b7ca22",
   "metadata": {
    "deletable": false,
    "id": "e8593def"
   },
   "source": [
    "**Вывод:** Наибольшее количество задолжностей среди людей с категорией `С` - доход от 50001 до 200000 и по количественным, и по процентным метрикам. Данных для категорий `A`, `D`, `E` не достаточно для анализа. Более надежной группой для выдачи кредита будут клиенты с категорией дохода `B` - от 200001 до 1000000."
   ]
  },
  {
   "cell_type": "markdown",
   "id": "949744f8",
   "metadata": {
    "deletable": false,
    "editable": false,
    "id": "99ecbd1f"
   },
   "source": [
    "#### 3.4 Как разные цели кредита влияют на его возврат в срок?"
   ]
  },
  {
   "cell_type": "markdown",
   "id": "6f554092",
   "metadata": {
    "deletable": false,
    "id": "2b687290"
   },
   "source": [
    "Для оценки возврата кредита в срок от цели кредита необходимо рассмотреть столбцы с данными `purpose_category` и столбец `debt`, в котором при помощи булевых значений указано наличие задолжности. Для формирования сводной таблицы будем использовать созданный ранее столбец `is_dept`, где при помощи строковых значений указано наличие и отсутствие задолжности - данные `exist` и `no_debt` соответственно."
   ]
  },
  {
   "cell_type": "code",
   "execution_count": 41,
   "id": "1e952bd9",
   "metadata": {},
   "outputs": [
    {
     "data": {
      "text/plain": [
       "array(['операции с недвижимостью', 'операции с автомобилем',\n",
       "       'получение образования', 'проведение свадьбы'], dtype=object)"
      ]
     },
     "execution_count": 41,
     "metadata": {},
     "output_type": "execute_result"
    }
   ],
   "source": [
    "data['purpose_category'].unique()"
   ]
  },
  {
   "cell_type": "markdown",
   "id": "ac800362",
   "metadata": {},
   "source": [
    "Для получения отношения количества клиентов с задолжностью к общему количеству людей внутри категори добавим столбец `percent`"
   ]
  },
  {
   "cell_type": "code",
   "execution_count": 42,
   "id": "8bdf5217",
   "metadata": {},
   "outputs": [],
   "source": [
    "purpose_and_debt = create_pivot_table(data, 'purpose_category')"
   ]
  },
  {
   "cell_type": "code",
   "execution_count": 43,
   "id": "94ed1462",
   "metadata": {},
   "outputs": [
    {
     "data": {
      "text/html": [
       "<div>\n",
       "<style scoped>\n",
       "    .dataframe tbody tr th:only-of-type {\n",
       "        vertical-align: middle;\n",
       "    }\n",
       "\n",
       "    .dataframe tbody tr th {\n",
       "        vertical-align: top;\n",
       "    }\n",
       "\n",
       "    .dataframe thead th {\n",
       "        text-align: right;\n",
       "    }\n",
       "</style>\n",
       "<table border=\"1\" class=\"dataframe\">\n",
       "  <thead>\n",
       "    <tr style=\"text-align: right;\">\n",
       "      <th>is_debt</th>\n",
       "      <th>exist</th>\n",
       "      <th>no_debt</th>\n",
       "      <th>percent</th>\n",
       "    </tr>\n",
       "    <tr>\n",
       "      <th>purpose_category</th>\n",
       "      <th></th>\n",
       "      <th></th>\n",
       "      <th></th>\n",
       "    </tr>\n",
       "  </thead>\n",
       "  <tbody>\n",
       "    <tr>\n",
       "      <th>операции с недвижимостью</th>\n",
       "      <td>780</td>\n",
       "      <td>9971</td>\n",
       "      <td>7.26</td>\n",
       "    </tr>\n",
       "    <tr>\n",
       "      <th>операции с автомобилем</th>\n",
       "      <td>400</td>\n",
       "      <td>3879</td>\n",
       "      <td>9.35</td>\n",
       "    </tr>\n",
       "    <tr>\n",
       "      <th>получение образования</th>\n",
       "      <td>369</td>\n",
       "      <td>3619</td>\n",
       "      <td>9.25</td>\n",
       "    </tr>\n",
       "    <tr>\n",
       "      <th>проведение свадьбы</th>\n",
       "      <td>183</td>\n",
       "      <td>2130</td>\n",
       "      <td>7.91</td>\n",
       "    </tr>\n",
       "  </tbody>\n",
       "</table>\n",
       "</div>"
      ],
      "text/plain": [
       "is_debt                   exist  no_debt  percent\n",
       "purpose_category                                 \n",
       "операции с недвижимостью    780     9971     7.26\n",
       "операции с автомобилем      400     3879     9.35\n",
       "получение образования       369     3619     9.25\n",
       "проведение свадьбы          183     2130     7.91"
      ]
     },
     "execution_count": 43,
     "metadata": {},
     "output_type": "execute_result"
    }
   ],
   "source": [
    "purpose_and_debt.sort_values(by='exist', ascending=False)"
   ]
  },
  {
   "cell_type": "code",
   "execution_count": 44,
   "id": "1b5be77d",
   "metadata": {},
   "outputs": [
    {
     "data": {
      "text/html": [
       "<div>\n",
       "<style scoped>\n",
       "    .dataframe tbody tr th:only-of-type {\n",
       "        vertical-align: middle;\n",
       "    }\n",
       "\n",
       "    .dataframe tbody tr th {\n",
       "        vertical-align: top;\n",
       "    }\n",
       "\n",
       "    .dataframe thead th {\n",
       "        text-align: right;\n",
       "    }\n",
       "</style>\n",
       "<table border=\"1\" class=\"dataframe\">\n",
       "  <thead>\n",
       "    <tr style=\"text-align: right;\">\n",
       "      <th>is_debt</th>\n",
       "      <th>exist</th>\n",
       "      <th>no_debt</th>\n",
       "      <th>percent</th>\n",
       "    </tr>\n",
       "    <tr>\n",
       "      <th>purpose_category</th>\n",
       "      <th></th>\n",
       "      <th></th>\n",
       "      <th></th>\n",
       "    </tr>\n",
       "  </thead>\n",
       "  <tbody>\n",
       "    <tr>\n",
       "      <th>операции с автомобилем</th>\n",
       "      <td>400</td>\n",
       "      <td>3879</td>\n",
       "      <td>9.35</td>\n",
       "    </tr>\n",
       "    <tr>\n",
       "      <th>получение образования</th>\n",
       "      <td>369</td>\n",
       "      <td>3619</td>\n",
       "      <td>9.25</td>\n",
       "    </tr>\n",
       "    <tr>\n",
       "      <th>проведение свадьбы</th>\n",
       "      <td>183</td>\n",
       "      <td>2130</td>\n",
       "      <td>7.91</td>\n",
       "    </tr>\n",
       "    <tr>\n",
       "      <th>операции с недвижимостью</th>\n",
       "      <td>780</td>\n",
       "      <td>9971</td>\n",
       "      <td>7.26</td>\n",
       "    </tr>\n",
       "  </tbody>\n",
       "</table>\n",
       "</div>"
      ],
      "text/plain": [
       "is_debt                   exist  no_debt  percent\n",
       "purpose_category                                 \n",
       "операции с автомобилем      400     3879     9.35\n",
       "получение образования       369     3619     9.25\n",
       "проведение свадьбы          183     2130     7.91\n",
       "операции с недвижимостью    780     9971     7.26"
      ]
     },
     "execution_count": 44,
     "metadata": {},
     "output_type": "execute_result"
    }
   ],
   "source": [
    "purpose_and_debt.sort_values(by='percent', ascending=False)"
   ]
  },
  {
   "cell_type": "markdown",
   "id": "20af4da5",
   "metadata": {
    "deletable": false,
    "id": "b4bb2ce6"
   },
   "source": [
    "**Вывод:** наибольшее количество людей с задолжностью среди людей, которые берут кредит для операций с недвижимостью, однако при оценке возврата кредита в срок внутри категорий, больший процент людей не возвращают кредит во время среди категорий `операций с автомобилем`, `получение образования`, если оценивать процент задолжностей как отношение должников к общему количеству людей внутри категории.\n",
    "\n",
    "На основани этого можно сделать вывод, что клиенты с целью взятия кредита на `проведение свадьбы` и `операции с недвижимостью` более надежны. Тогда как риск возникновения долга среди клиентов с целями `операции с автомобилем`, `получение образования` повышается."
   ]
  },
  {
   "cell_type": "markdown",
   "id": "c63410fb",
   "metadata": {
    "deletable": false,
    "editable": false,
    "id": "09c3ac4c"
   },
   "source": [
    "#### 3.5 Приведите возможные причины появления пропусков в исходных данных."
   ]
  },
  {
   "cell_type": "markdown",
   "id": "515e55e4",
   "metadata": {
    "deletable": false,
    "id": "9da2ceda"
   },
   "source": [
    "*Ответ:* Причины появления пропуска данных могут быть различные - поле являлось не обязательным для заполнения в анкете и человек не стал указывать. Так же пропуски могут быть следствием ошибок при выгрузке данных в scv файл или на аналогичном этапе."
   ]
  },
  {
   "cell_type": "markdown",
   "id": "01551a8b",
   "metadata": {
    "deletable": false,
    "editable": false,
    "id": "7b0487d6"
   },
   "source": [
    "#### 3.6 Объясните, почему заполнить пропуски медианным значением — лучшее решение для количественных переменных."
   ]
  },
  {
   "cell_type": "markdown",
   "id": "755fce9f",
   "metadata": {
    "deletable": false,
    "id": "7ecf2b8e"
   },
   "source": [
    "*Ответ:* поскольку медианное значение дает более объективную оценку среднего, исключая влияние выбросов значений, которые могут находится на краях диапазона и тем самым влиять на среднее значение."
   ]
  },
  {
   "cell_type": "markdown",
   "id": "2198b551",
   "metadata": {
    "deletable": false,
    "editable": false,
    "id": "6db5255a"
   },
   "source": [
    "### Шаг 4: общий вывод."
   ]
  },
  {
   "cell_type": "markdown",
   "id": "69ac92eb",
   "metadata": {
    "deletable": false,
    "id": "bad65432"
   },
   "source": [
    "В ходе анализа была проведена работа с данными, включающая в себя:\n",
    "\n",
    "- Заполнение пропусков данных медианным значением в столбцах `days_employed`, `total_income`, отвечающие за общий трудовой стаж в днях и ежемесячный доход соответственно\n",
    "- Поиск и удаление аномалий в данных - удаление строк, в которых в столбце `children` указано отрицательное количество детей и аномально большое: 20. Для аномалий в виде отрицательного стажа работы в столбце `days_employed` была произведена замена на положительные значения\n",
    "- Для `education` — уровень образования клиента было произведено приведение к единообразному представлению данных, которые являются неявными дубликатами и могут повлиять на дальшнейший анализ\n",
    "- Чтобы произвести оценку зависимостей дохода от задолжностей было проведено категоризирование данных на пять категорий в зависимости от уровня дохода\n",
    "- Для дальнейшего анализа и единообразности данных было произведено категоризирование данных `purpose` — цель получения кредита"
   ]
  },
  {
   "cell_type": "markdown",
   "id": "7fccb03a",
   "metadata": {},
   "source": [
    "Ниже для иллюстрации зависимостей представлены таблицы категорий от наличия задолжностей. \n",
    "\n",
    "Описание данных в таблицах: \n",
    "- `exist` - имеется задолжность, количество клиентов\n",
    "- `no_debt` - отсутствие задолжности, количество клиентов\n",
    "- `percent` - отношение количества клиентов с задолжностью к общему количеству людей в категории в процентах"
   ]
  },
  {
   "cell_type": "markdown",
   "id": "f838c7e9",
   "metadata": {},
   "source": [
    "<b>Зависимость между количеством детей и возвратом кредита в срок </b>\n",
    "\n",
    "Наибольшее количество должников выявленно среди категории клиентов без детей. Однако доля должников увеличивается с увеличением количества детей (1-2)"
   ]
  },
  {
   "cell_type": "code",
   "execution_count": 45,
   "id": "783d181c",
   "metadata": {},
   "outputs": [
    {
     "data": {
      "text/html": [
       "<div>\n",
       "<style scoped>\n",
       "    .dataframe tbody tr th:only-of-type {\n",
       "        vertical-align: middle;\n",
       "    }\n",
       "\n",
       "    .dataframe tbody tr th {\n",
       "        vertical-align: top;\n",
       "    }\n",
       "\n",
       "    .dataframe thead th {\n",
       "        text-align: right;\n",
       "    }\n",
       "</style>\n",
       "<table border=\"1\" class=\"dataframe\">\n",
       "  <thead>\n",
       "    <tr style=\"text-align: right;\">\n",
       "      <th>is_debt</th>\n",
       "      <th>exist</th>\n",
       "      <th>no_debt</th>\n",
       "      <th>percent</th>\n",
       "    </tr>\n",
       "    <tr>\n",
       "      <th>children</th>\n",
       "      <th></th>\n",
       "      <th></th>\n",
       "      <th></th>\n",
       "    </tr>\n",
       "  </thead>\n",
       "  <tbody>\n",
       "    <tr>\n",
       "      <th>2</th>\n",
       "      <td>194</td>\n",
       "      <td>1858</td>\n",
       "      <td>9.45</td>\n",
       "    </tr>\n",
       "    <tr>\n",
       "      <th>1</th>\n",
       "      <td>444</td>\n",
       "      <td>4364</td>\n",
       "      <td>9.23</td>\n",
       "    </tr>\n",
       "    <tr>\n",
       "      <th>0</th>\n",
       "      <td>1063</td>\n",
       "      <td>13028</td>\n",
       "      <td>7.54</td>\n",
       "    </tr>\n",
       "  </tbody>\n",
       "</table>\n",
       "</div>"
      ],
      "text/plain": [
       "is_debt   exist  no_debt  percent\n",
       "children                         \n",
       "2           194     1858     9.45\n",
       "1           444     4364     9.23\n",
       "0          1063    13028     7.54"
      ]
     },
     "execution_count": 45,
     "metadata": {},
     "output_type": "execute_result"
    }
   ],
   "source": [
    "children_and_debt.sort_values(by='percent', ascending=False)"
   ]
  },
  {
   "cell_type": "markdown",
   "id": "840d11ec",
   "metadata": {},
   "source": [
    "<b>Зависимость между семейным положением и возвратом кредита в срок </b>\n",
    "\n",
    "Наибольшая доля должников среди людей, не находящихся в зарегистрированном браке: `Не женат/не замужем`- 9.76%, `Гражданский брак`- 9.31%. Более надежными являются категории людей, уже побывавших в браке: `в разводе` - 7.06%\n",
    "`вдовец/вдова` - 6.62%. Для данных групп возможно влияние возраста\n"
   ]
  },
  {
   "cell_type": "code",
   "execution_count": 46,
   "id": "a81aefec",
   "metadata": {},
   "outputs": [
    {
     "data": {
      "text/html": [
       "<div>\n",
       "<style scoped>\n",
       "    .dataframe tbody tr th:only-of-type {\n",
       "        vertical-align: middle;\n",
       "    }\n",
       "\n",
       "    .dataframe tbody tr th {\n",
       "        vertical-align: top;\n",
       "    }\n",
       "\n",
       "    .dataframe thead th {\n",
       "        text-align: right;\n",
       "    }\n",
       "</style>\n",
       "<table border=\"1\" class=\"dataframe\">\n",
       "  <thead>\n",
       "    <tr style=\"text-align: right;\">\n",
       "      <th>is_debt</th>\n",
       "      <th>exist</th>\n",
       "      <th>no_debt</th>\n",
       "      <th>percent</th>\n",
       "    </tr>\n",
       "    <tr>\n",
       "      <th>family_status</th>\n",
       "      <th></th>\n",
       "      <th></th>\n",
       "      <th></th>\n",
       "    </tr>\n",
       "  </thead>\n",
       "  <tbody>\n",
       "    <tr>\n",
       "      <th>Не женат / не замужем</th>\n",
       "      <td>273</td>\n",
       "      <td>2523</td>\n",
       "      <td>9.76</td>\n",
       "    </tr>\n",
       "    <tr>\n",
       "      <th>гражданский брак</th>\n",
       "      <td>385</td>\n",
       "      <td>3749</td>\n",
       "      <td>9.31</td>\n",
       "    </tr>\n",
       "    <tr>\n",
       "      <th>женат / замужем</th>\n",
       "      <td>927</td>\n",
       "      <td>11334</td>\n",
       "      <td>7.56</td>\n",
       "    </tr>\n",
       "    <tr>\n",
       "      <th>в разводе</th>\n",
       "      <td>84</td>\n",
       "      <td>1105</td>\n",
       "      <td>7.06</td>\n",
       "    </tr>\n",
       "    <tr>\n",
       "      <th>вдовец / вдова</th>\n",
       "      <td>63</td>\n",
       "      <td>888</td>\n",
       "      <td>6.62</td>\n",
       "    </tr>\n",
       "  </tbody>\n",
       "</table>\n",
       "</div>"
      ],
      "text/plain": [
       "is_debt                exist  no_debt  percent\n",
       "family_status                                 \n",
       "Не женат / не замужем    273     2523     9.76\n",
       "гражданский брак         385     3749     9.31\n",
       "женат / замужем          927    11334     7.56\n",
       "в разводе                 84     1105     7.06\n",
       "вдовец / вдова            63      888     6.62"
      ]
     },
     "execution_count": 46,
     "metadata": {},
     "output_type": "execute_result"
    }
   ],
   "source": [
    "family_status_and_debt.sort_values(by='percent', ascending=False)"
   ]
  },
  {
   "cell_type": "markdown",
   "id": "765e82b8",
   "metadata": {},
   "source": [
    "<b>Зависимость между уровнем дохода и возвратом кредита в срок </b>\n",
    "\n",
    "Наибольшее количество и наибольшая доля задолжностей среди людей с категорией С - доход от 50001 до 200000. Данных для категорий A, D, E не достаточно для анализа. Более надежной группой для выдачи кредита будут клиенты с категорией дохода B - от 200001 до 1000000.\n"
   ]
  },
  {
   "cell_type": "code",
   "execution_count": 47,
   "id": "5cad1add",
   "metadata": {},
   "outputs": [
    {
     "data": {
      "text/html": [
       "<div>\n",
       "<style scoped>\n",
       "    .dataframe tbody tr th:only-of-type {\n",
       "        vertical-align: middle;\n",
       "    }\n",
       "\n",
       "    .dataframe tbody tr th {\n",
       "        vertical-align: top;\n",
       "    }\n",
       "\n",
       "    .dataframe thead th {\n",
       "        text-align: right;\n",
       "    }\n",
       "</style>\n",
       "<table border=\"1\" class=\"dataframe\">\n",
       "  <thead>\n",
       "    <tr style=\"text-align: right;\">\n",
       "      <th>is_debt</th>\n",
       "      <th>exist</th>\n",
       "      <th>no_debt</th>\n",
       "      <th>percent</th>\n",
       "    </tr>\n",
       "    <tr>\n",
       "      <th>total_income_category</th>\n",
       "      <th></th>\n",
       "      <th></th>\n",
       "      <th></th>\n",
       "    </tr>\n",
       "  </thead>\n",
       "  <tbody>\n",
       "    <tr>\n",
       "      <th>C</th>\n",
       "      <td>1353</td>\n",
       "      <td>14568</td>\n",
       "      <td>8.50</td>\n",
       "    </tr>\n",
       "    <tr>\n",
       "      <th>B</th>\n",
       "      <td>354</td>\n",
       "      <td>4660</td>\n",
       "      <td>7.06</td>\n",
       "    </tr>\n",
       "  </tbody>\n",
       "</table>\n",
       "</div>"
      ],
      "text/plain": [
       "is_debt                exist  no_debt  percent\n",
       "total_income_category                         \n",
       "C                       1353    14568     8.50\n",
       "B                        354     4660     7.06"
      ]
     },
     "execution_count": 47,
     "metadata": {},
     "output_type": "execute_result"
    }
   ],
   "source": [
    "income_category_and_debt.sort_values(by='percent', ascending=False)"
   ]
  },
  {
   "cell_type": "markdown",
   "id": "7b1ff971",
   "metadata": {},
   "source": [
    "<b>Зависимость между целями кредита и возвратом кредита в срок </b>\n",
    "\n",
    "После проведения анализа наиболее рискованными категориями оказались `операции с автомобилем`, `получение образования` - доля должников для обеих категорий в среднем 9.3%. Более надежными для выдачи кредита являются категории с целями `проведение свадьбы` и `операции с недвижимостью`."
   ]
  },
  {
   "cell_type": "code",
   "execution_count": 48,
   "id": "0602a43a",
   "metadata": {},
   "outputs": [
    {
     "data": {
      "text/html": [
       "<div>\n",
       "<style scoped>\n",
       "    .dataframe tbody tr th:only-of-type {\n",
       "        vertical-align: middle;\n",
       "    }\n",
       "\n",
       "    .dataframe tbody tr th {\n",
       "        vertical-align: top;\n",
       "    }\n",
       "\n",
       "    .dataframe thead th {\n",
       "        text-align: right;\n",
       "    }\n",
       "</style>\n",
       "<table border=\"1\" class=\"dataframe\">\n",
       "  <thead>\n",
       "    <tr style=\"text-align: right;\">\n",
       "      <th>is_debt</th>\n",
       "      <th>exist</th>\n",
       "      <th>no_debt</th>\n",
       "      <th>percent</th>\n",
       "    </tr>\n",
       "    <tr>\n",
       "      <th>purpose_category</th>\n",
       "      <th></th>\n",
       "      <th></th>\n",
       "      <th></th>\n",
       "    </tr>\n",
       "  </thead>\n",
       "  <tbody>\n",
       "    <tr>\n",
       "      <th>операции с автомобилем</th>\n",
       "      <td>400</td>\n",
       "      <td>3879</td>\n",
       "      <td>9.35</td>\n",
       "    </tr>\n",
       "    <tr>\n",
       "      <th>получение образования</th>\n",
       "      <td>369</td>\n",
       "      <td>3619</td>\n",
       "      <td>9.25</td>\n",
       "    </tr>\n",
       "    <tr>\n",
       "      <th>проведение свадьбы</th>\n",
       "      <td>183</td>\n",
       "      <td>2130</td>\n",
       "      <td>7.91</td>\n",
       "    </tr>\n",
       "    <tr>\n",
       "      <th>операции с недвижимостью</th>\n",
       "      <td>780</td>\n",
       "      <td>9971</td>\n",
       "      <td>7.26</td>\n",
       "    </tr>\n",
       "  </tbody>\n",
       "</table>\n",
       "</div>"
      ],
      "text/plain": [
       "is_debt                   exist  no_debt  percent\n",
       "purpose_category                                 \n",
       "операции с автомобилем      400     3879     9.35\n",
       "получение образования       369     3619     9.25\n",
       "проведение свадьбы          183     2130     7.91\n",
       "операции с недвижимостью    780     9971     7.26"
      ]
     },
     "execution_count": 48,
     "metadata": {},
     "output_type": "execute_result"
    }
   ],
   "source": [
    "purpose_and_debt.sort_values(by='percent', ascending=False)"
   ]
  },
  {
   "cell_type": "markdown",
   "id": "54e31fc5",
   "metadata": {},
   "source": [
    "<b>Рекомендации</b>\n",
    "\n",
    "Наиболее надежная категория людей для выдачи кредита - клиент, состоящий в браке или побывавший в нем, не имеющий детей, с доходом в диапазоне 200001 до 1000000 и целью кредита `проведение свадьбы` или `операции с недвижимостью`."
   ]
  },
  {
   "cell_type": "markdown",
   "id": "fba0543f",
   "metadata": {},
   "source": []
  }
 ],
 "metadata": {
  "ExecuteTimeLog": [
   {
    "duration": 484,
    "start_time": "2023-11-24T01:36:55.591Z"
   },
   {
    "duration": 24,
    "start_time": "2023-11-24T01:36:57.443Z"
   },
   {
    "duration": 16,
    "start_time": "2023-11-24T01:36:59.407Z"
   },
   {
    "duration": 492,
    "start_time": "2023-11-24T01:37:05.887Z"
   },
   {
    "duration": 28,
    "start_time": "2023-11-24T01:37:06.381Z"
   },
   {
    "duration": 25,
    "start_time": "2023-11-24T01:37:06.410Z"
   },
   {
    "duration": 11,
    "start_time": "2023-11-24T01:37:06.438Z"
   },
   {
    "duration": 54,
    "start_time": "2023-11-24T01:37:06.450Z"
   },
   {
    "duration": 4,
    "start_time": "2023-11-24T01:37:06.505Z"
   },
   {
    "duration": 32,
    "start_time": "2023-11-24T01:37:06.510Z"
   },
   {
    "duration": 18,
    "start_time": "2023-11-24T01:37:06.544Z"
   },
   {
    "duration": 16,
    "start_time": "2023-11-24T01:37:06.564Z"
   },
   {
    "duration": 17,
    "start_time": "2023-11-24T01:37:06.583Z"
   },
   {
    "duration": 48,
    "start_time": "2023-11-24T01:37:06.601Z"
   },
   {
    "duration": 10,
    "start_time": "2023-11-24T01:37:06.651Z"
   },
   {
    "duration": 16,
    "start_time": "2023-11-24T01:37:06.662Z"
   },
   {
    "duration": 29,
    "start_time": "2023-11-24T01:37:06.680Z"
   },
   {
    "duration": 47,
    "start_time": "2023-11-24T01:37:06.712Z"
   },
   {
    "duration": 28,
    "start_time": "2023-11-24T01:37:06.760Z"
   },
   {
    "duration": 4,
    "start_time": "2023-11-24T01:37:06.790Z"
   },
   {
    "duration": 42,
    "start_time": "2023-11-24T01:37:06.796Z"
   },
   {
    "duration": 19,
    "start_time": "2023-11-24T01:37:06.840Z"
   },
   {
    "duration": 19,
    "start_time": "2023-11-24T01:37:06.861Z"
   },
   {
    "duration": 24,
    "start_time": "2023-11-24T01:37:06.882Z"
   },
   {
    "duration": 12,
    "start_time": "2023-11-24T01:37:06.908Z"
   },
   {
    "duration": 28,
    "start_time": "2023-11-24T01:37:06.922Z"
   },
   {
    "duration": 15,
    "start_time": "2023-11-24T01:37:06.952Z"
   },
   {
    "duration": 17,
    "start_time": "2023-11-24T01:37:06.969Z"
   },
   {
    "duration": 49,
    "start_time": "2023-11-24T17:46:34.576Z"
   },
   {
    "duration": 534,
    "start_time": "2023-11-24T17:46:43.147Z"
   },
   {
    "duration": 23,
    "start_time": "2023-11-24T17:46:44.151Z"
   },
   {
    "duration": 17,
    "start_time": "2023-11-24T17:46:44.725Z"
   },
   {
    "duration": 15,
    "start_time": "2023-11-24T17:46:45.452Z"
   },
   {
    "duration": 37,
    "start_time": "2023-11-24T17:46:45.833Z"
   },
   {
    "duration": 3,
    "start_time": "2023-11-24T17:46:46.364Z"
   },
   {
    "duration": 8,
    "start_time": "2023-11-24T17:46:46.772Z"
   },
   {
    "duration": 5,
    "start_time": "2023-11-24T17:46:47.381Z"
   },
   {
    "duration": 7,
    "start_time": "2023-11-24T17:46:47.771Z"
   },
   {
    "duration": 5,
    "start_time": "2023-11-24T17:46:48.205Z"
   },
   {
    "duration": 37,
    "start_time": "2023-11-24T17:46:48.987Z"
   },
   {
    "duration": 11,
    "start_time": "2023-11-24T17:46:49.589Z"
   },
   {
    "duration": 4,
    "start_time": "2023-11-24T17:46:50.218Z"
   },
   {
    "duration": 12,
    "start_time": "2023-11-24T17:46:50.849Z"
   },
   {
    "duration": 21,
    "start_time": "2023-11-24T17:46:51.237Z"
   },
   {
    "duration": 18,
    "start_time": "2023-11-24T17:46:51.419Z"
   },
   {
    "duration": 4,
    "start_time": "2023-11-24T17:46:52.951Z"
   },
   {
    "duration": 11,
    "start_time": "2023-11-24T17:46:53.133Z"
   },
   {
    "duration": 6,
    "start_time": "2023-11-24T17:46:53.521Z"
   },
   {
    "duration": 3,
    "start_time": "2023-11-24T17:46:53.916Z"
   },
   {
    "duration": 10,
    "start_time": "2023-11-24T17:46:54.665Z"
   },
   {
    "duration": 5,
    "start_time": "2023-11-24T17:46:56.425Z"
   },
   {
    "duration": 7,
    "start_time": "2023-11-24T17:47:21.867Z"
   },
   {
    "duration": 4,
    "start_time": "2023-11-24T17:47:34.135Z"
   },
   {
    "duration": 4,
    "start_time": "2023-11-24T17:50:13.067Z"
   },
   {
    "duration": 41,
    "start_time": "2023-11-24T17:59:25.022Z"
   },
   {
    "duration": 16,
    "start_time": "2023-11-24T17:59:38.134Z"
   },
   {
    "duration": 34,
    "start_time": "2023-11-24T17:59:49.068Z"
   },
   {
    "duration": 3,
    "start_time": "2023-11-24T18:07:00.165Z"
   },
   {
    "duration": 7,
    "start_time": "2023-11-24T18:07:01.515Z"
   },
   {
    "duration": 5,
    "start_time": "2023-11-24T18:07:30.044Z"
   },
   {
    "duration": 8,
    "start_time": "2023-11-24T18:07:31.456Z"
   },
   {
    "duration": 23,
    "start_time": "2023-11-24T18:07:47.548Z"
   },
   {
    "duration": 14,
    "start_time": "2023-11-24T18:08:07.022Z"
   },
   {
    "duration": 17,
    "start_time": "2023-11-24T18:08:31.186Z"
   },
   {
    "duration": 18,
    "start_time": "2023-11-24T18:08:59.510Z"
   },
   {
    "duration": 18,
    "start_time": "2023-11-24T18:09:02.434Z"
   },
   {
    "duration": 18,
    "start_time": "2023-11-24T18:09:24.050Z"
   },
   {
    "duration": 5,
    "start_time": "2023-11-24T18:10:04.072Z"
   },
   {
    "duration": 16,
    "start_time": "2023-11-24T18:10:10.370Z"
   },
   {
    "duration": 19,
    "start_time": "2023-11-24T18:11:11.690Z"
   },
   {
    "duration": 75,
    "start_time": "2023-11-24T18:13:07.125Z"
   },
   {
    "duration": 15,
    "start_time": "2023-11-24T18:13:07.202Z"
   },
   {
    "duration": 41,
    "start_time": "2023-11-24T18:13:07.218Z"
   },
   {
    "duration": 25,
    "start_time": "2023-11-24T18:13:07.261Z"
   },
   {
    "duration": 83,
    "start_time": "2023-11-24T18:13:07.287Z"
   },
   {
    "duration": 3,
    "start_time": "2023-11-24T18:13:07.372Z"
   },
   {
    "duration": 39,
    "start_time": "2023-11-24T18:13:07.376Z"
   },
   {
    "duration": 20,
    "start_time": "2023-11-24T18:13:07.417Z"
   },
   {
    "duration": 37,
    "start_time": "2023-11-24T18:13:07.438Z"
   },
   {
    "duration": 25,
    "start_time": "2023-11-24T18:13:07.478Z"
   },
   {
    "duration": 69,
    "start_time": "2023-11-24T18:13:07.505Z"
   },
   {
    "duration": 16,
    "start_time": "2023-11-24T18:13:07.576Z"
   },
   {
    "duration": 22,
    "start_time": "2023-11-24T18:13:07.593Z"
   },
   {
    "duration": 21,
    "start_time": "2023-11-24T18:13:07.616Z"
   },
   {
    "duration": 47,
    "start_time": "2023-11-24T18:13:07.638Z"
   },
   {
    "duration": 17,
    "start_time": "2023-11-24T18:13:07.687Z"
   },
   {
    "duration": 3,
    "start_time": "2023-11-24T18:13:07.706Z"
   },
   {
    "duration": 21,
    "start_time": "2023-11-24T18:13:07.711Z"
   },
   {
    "duration": 17,
    "start_time": "2023-11-24T18:13:07.734Z"
   },
   {
    "duration": 15,
    "start_time": "2023-11-24T18:13:07.753Z"
   },
   {
    "duration": 30,
    "start_time": "2023-11-24T18:13:07.770Z"
   },
   {
    "duration": 19,
    "start_time": "2023-11-24T18:13:07.801Z"
   },
   {
    "duration": 36,
    "start_time": "2023-11-24T18:13:07.821Z"
   },
   {
    "duration": 17,
    "start_time": "2023-11-24T18:13:07.859Z"
   },
   {
    "duration": 24,
    "start_time": "2023-11-24T18:13:07.878Z"
   },
   {
    "duration": 30,
    "start_time": "2023-11-24T18:13:07.904Z"
   },
   {
    "duration": 9,
    "start_time": "2023-11-24T18:13:59.922Z"
   },
   {
    "duration": 1521,
    "start_time": "2023-11-24T18:17:38.779Z"
   },
   {
    "duration": 14,
    "start_time": "2023-11-24T18:18:44.524Z"
   },
   {
    "duration": 1482,
    "start_time": "2023-11-24T18:19:30.019Z"
   },
   {
    "duration": 1490,
    "start_time": "2023-11-24T18:20:13.462Z"
   },
   {
    "duration": 9,
    "start_time": "2023-11-24T18:21:11.813Z"
   },
   {
    "duration": 9,
    "start_time": "2023-11-24T18:21:55.643Z"
   },
   {
    "duration": 13,
    "start_time": "2023-11-24T18:22:38.348Z"
   },
   {
    "duration": 12,
    "start_time": "2023-11-24T18:23:00.466Z"
   },
   {
    "duration": 11,
    "start_time": "2023-11-24T18:23:58.315Z"
   },
   {
    "duration": 76,
    "start_time": "2023-11-24T18:24:23.475Z"
   },
   {
    "duration": 15,
    "start_time": "2023-11-24T18:24:23.553Z"
   },
   {
    "duration": 26,
    "start_time": "2023-11-24T18:24:23.569Z"
   },
   {
    "duration": 32,
    "start_time": "2023-11-24T18:24:23.597Z"
   },
   {
    "duration": 41,
    "start_time": "2023-11-24T18:24:23.630Z"
   },
   {
    "duration": 4,
    "start_time": "2023-11-24T18:24:23.672Z"
   },
   {
    "duration": 32,
    "start_time": "2023-11-24T18:24:23.678Z"
   },
   {
    "duration": 12,
    "start_time": "2023-11-24T18:24:23.711Z"
   },
   {
    "duration": 7,
    "start_time": "2023-11-24T18:24:23.724Z"
   },
   {
    "duration": 4,
    "start_time": "2023-11-24T18:24:23.734Z"
   },
   {
    "duration": 39,
    "start_time": "2023-11-24T18:24:23.739Z"
   },
   {
    "duration": 12,
    "start_time": "2023-11-24T18:24:23.780Z"
   },
   {
    "duration": 21,
    "start_time": "2023-11-24T18:24:23.794Z"
   },
   {
    "duration": 12,
    "start_time": "2023-11-24T18:24:23.817Z"
   },
   {
    "duration": 21,
    "start_time": "2023-11-24T18:24:23.830Z"
   },
   {
    "duration": 18,
    "start_time": "2023-11-24T18:24:23.853Z"
   },
   {
    "duration": 3,
    "start_time": "2023-11-24T18:24:23.873Z"
   },
   {
    "duration": 40,
    "start_time": "2023-11-24T18:24:23.878Z"
   },
   {
    "duration": 7,
    "start_time": "2023-11-24T18:24:23.920Z"
   },
   {
    "duration": 4,
    "start_time": "2023-11-24T18:24:23.928Z"
   },
   {
    "duration": 11,
    "start_time": "2023-11-24T18:24:23.934Z"
   },
   {
    "duration": 10,
    "start_time": "2023-11-24T18:24:23.947Z"
   },
   {
    "duration": 8,
    "start_time": "2023-11-24T18:24:23.959Z"
   },
   {
    "duration": 10,
    "start_time": "2023-11-24T18:24:23.969Z"
   },
   {
    "duration": 5,
    "start_time": "2023-11-24T18:24:23.981Z"
   },
   {
    "duration": 17,
    "start_time": "2023-11-24T18:24:32.401Z"
   },
   {
    "duration": 10,
    "start_time": "2023-11-24T18:24:34.002Z"
   },
   {
    "duration": 10,
    "start_time": "2023-11-24T18:24:52.018Z"
   },
   {
    "duration": 10,
    "start_time": "2023-11-24T18:25:20.984Z"
   },
   {
    "duration": 9,
    "start_time": "2023-11-24T18:26:14.715Z"
   },
   {
    "duration": 8,
    "start_time": "2023-11-24T18:30:37.466Z"
   },
   {
    "duration": 6,
    "start_time": "2023-11-24T18:39:25.217Z"
   },
   {
    "duration": 4,
    "start_time": "2023-11-24T18:39:47.296Z"
   },
   {
    "duration": 2,
    "start_time": "2023-11-24T18:40:55.356Z"
   },
   {
    "duration": 7,
    "start_time": "2023-11-24T18:40:56.029Z"
   },
   {
    "duration": 18,
    "start_time": "2023-11-24T18:41:17.448Z"
   },
   {
    "duration": 7,
    "start_time": "2023-11-24T18:43:44.385Z"
   },
   {
    "duration": 15,
    "start_time": "2023-11-24T18:43:51.054Z"
   },
   {
    "duration": 99,
    "start_time": "2023-11-24T18:44:15.775Z"
   },
   {
    "duration": 9,
    "start_time": "2023-11-24T18:44:23.184Z"
   },
   {
    "duration": 9,
    "start_time": "2023-11-24T18:44:43.599Z"
   },
   {
    "duration": 2,
    "start_time": "2023-11-24T18:46:32.697Z"
   },
   {
    "duration": 8,
    "start_time": "2023-11-24T18:46:34.122Z"
   },
   {
    "duration": 16,
    "start_time": "2023-11-24T18:46:35.787Z"
   },
   {
    "duration": 5,
    "start_time": "2023-11-24T18:47:48.509Z"
   },
   {
    "duration": 9,
    "start_time": "2023-11-24T18:47:53.235Z"
   },
   {
    "duration": 10,
    "start_time": "2023-11-24T18:48:26.846Z"
   },
   {
    "duration": 14,
    "start_time": "2023-11-24T18:49:21.018Z"
   },
   {
    "duration": 8,
    "start_time": "2023-11-24T18:49:25.502Z"
   },
   {
    "duration": 503,
    "start_time": "2023-11-24T19:35:41.881Z"
   },
   {
    "duration": 23,
    "start_time": "2023-11-24T19:35:42.386Z"
   },
   {
    "duration": 68,
    "start_time": "2023-11-24T19:35:42.410Z"
   },
   {
    "duration": 43,
    "start_time": "2023-11-24T19:35:42.480Z"
   },
   {
    "duration": 40,
    "start_time": "2023-11-24T19:35:42.525Z"
   },
   {
    "duration": 3,
    "start_time": "2023-11-24T19:35:42.567Z"
   },
   {
    "duration": 20,
    "start_time": "2023-11-24T19:35:42.572Z"
   },
   {
    "duration": 14,
    "start_time": "2023-11-24T19:35:42.594Z"
   },
   {
    "duration": 9,
    "start_time": "2023-11-24T19:35:42.612Z"
   },
   {
    "duration": 13,
    "start_time": "2023-11-24T19:35:42.625Z"
   },
   {
    "duration": 42,
    "start_time": "2023-11-24T19:35:42.640Z"
   },
   {
    "duration": 11,
    "start_time": "2023-11-24T19:35:42.684Z"
   },
   {
    "duration": 22,
    "start_time": "2023-11-24T19:35:42.696Z"
   },
   {
    "duration": 13,
    "start_time": "2023-11-24T19:35:42.720Z"
   },
   {
    "duration": 20,
    "start_time": "2023-11-24T19:35:42.735Z"
   },
   {
    "duration": 17,
    "start_time": "2023-11-24T19:35:42.756Z"
   },
   {
    "duration": 4,
    "start_time": "2023-11-24T19:35:42.775Z"
   },
   {
    "duration": 14,
    "start_time": "2023-11-24T19:35:42.813Z"
   },
   {
    "duration": 7,
    "start_time": "2023-11-24T19:35:42.829Z"
   },
   {
    "duration": 4,
    "start_time": "2023-11-24T19:35:42.838Z"
   },
   {
    "duration": 13,
    "start_time": "2023-11-24T19:35:42.844Z"
   },
   {
    "duration": 4,
    "start_time": "2023-11-24T19:35:42.859Z"
   },
   {
    "duration": 8,
    "start_time": "2023-11-24T19:35:42.864Z"
   },
   {
    "duration": 8,
    "start_time": "2023-11-24T19:35:42.874Z"
   },
   {
    "duration": 30,
    "start_time": "2023-11-24T19:35:42.884Z"
   },
   {
    "duration": 20,
    "start_time": "2023-11-24T19:35:42.916Z"
   },
   {
    "duration": 9,
    "start_time": "2023-11-24T19:35:42.938Z"
   },
   {
    "duration": 8,
    "start_time": "2023-11-24T19:35:42.950Z"
   },
   {
    "duration": 11,
    "start_time": "2023-11-24T19:35:42.960Z"
   },
   {
    "duration": 91,
    "start_time": "2023-11-24T19:35:42.973Z"
   },
   {
    "duration": 0,
    "start_time": "2023-11-24T19:35:43.065Z"
   },
   {
    "duration": 0,
    "start_time": "2023-11-24T19:35:43.066Z"
   },
   {
    "duration": 0,
    "start_time": "2023-11-24T19:35:43.068Z"
   },
   {
    "duration": 0,
    "start_time": "2023-11-24T19:35:43.068Z"
   },
   {
    "duration": 0,
    "start_time": "2023-11-24T19:35:43.070Z"
   },
   {
    "duration": 0,
    "start_time": "2023-11-24T19:35:43.071Z"
   },
   {
    "duration": 0,
    "start_time": "2023-11-24T19:35:43.072Z"
   },
   {
    "duration": 16,
    "start_time": "2023-11-24T19:36:35.704Z"
   },
   {
    "duration": 5,
    "start_time": "2023-11-24T19:36:39.903Z"
   },
   {
    "duration": 4,
    "start_time": "2023-11-24T19:36:40.789Z"
   },
   {
    "duration": 9,
    "start_time": "2023-11-24T19:36:47.285Z"
   },
   {
    "duration": 8,
    "start_time": "2023-11-24T19:39:31.992Z"
   },
   {
    "duration": 5,
    "start_time": "2023-11-24T19:49:26.825Z"
   },
   {
    "duration": 87,
    "start_time": "2023-11-24T19:50:43.055Z"
   },
   {
    "duration": 17,
    "start_time": "2023-11-24T19:53:46.133Z"
   },
   {
    "duration": 15,
    "start_time": "2023-11-24T19:55:22.360Z"
   },
   {
    "duration": 26,
    "start_time": "2023-11-24T19:55:30.804Z"
   },
   {
    "duration": 21,
    "start_time": "2023-11-24T19:56:07.543Z"
   },
   {
    "duration": 22,
    "start_time": "2023-11-24T19:56:24.957Z"
   },
   {
    "duration": 23,
    "start_time": "2023-11-24T19:56:40.573Z"
   },
   {
    "duration": 22,
    "start_time": "2023-11-24T19:56:45.563Z"
   },
   {
    "duration": 8,
    "start_time": "2023-11-24T19:57:51.974Z"
   },
   {
    "duration": 6,
    "start_time": "2023-11-24T20:06:11.555Z"
   },
   {
    "duration": 63,
    "start_time": "2023-11-24T20:09:27.400Z"
   },
   {
    "duration": 15,
    "start_time": "2023-11-24T20:09:31.779Z"
   },
   {
    "duration": 9,
    "start_time": "2023-11-24T20:11:12.639Z"
   },
   {
    "duration": 1620,
    "start_time": "2023-11-24T20:11:49.436Z"
   },
   {
    "duration": 18,
    "start_time": "2023-11-24T20:12:22.286Z"
   },
   {
    "duration": 5,
    "start_time": "2023-11-24T20:12:56.845Z"
   },
   {
    "duration": 1414,
    "start_time": "2023-11-24T20:13:06.894Z"
   },
   {
    "duration": 18,
    "start_time": "2023-11-24T20:13:29.954Z"
   },
   {
    "duration": 9,
    "start_time": "2023-11-24T20:13:31.970Z"
   },
   {
    "duration": 8,
    "start_time": "2023-11-24T20:14:27.374Z"
   },
   {
    "duration": 475,
    "start_time": "2023-11-24T21:21:41.934Z"
   },
   {
    "duration": 22,
    "start_time": "2023-11-24T21:21:42.411Z"
   },
   {
    "duration": 28,
    "start_time": "2023-11-24T21:21:42.435Z"
   },
   {
    "duration": 12,
    "start_time": "2023-11-24T21:21:42.466Z"
   },
   {
    "duration": 42,
    "start_time": "2023-11-24T21:21:42.480Z"
   },
   {
    "duration": 4,
    "start_time": "2023-11-24T21:21:42.524Z"
   },
   {
    "duration": 9,
    "start_time": "2023-11-24T21:21:42.530Z"
   },
   {
    "duration": 4,
    "start_time": "2023-11-24T21:21:42.541Z"
   },
   {
    "duration": 7,
    "start_time": "2023-11-24T21:21:42.547Z"
   },
   {
    "duration": 4,
    "start_time": "2023-11-24T21:21:42.556Z"
   },
   {
    "duration": 69,
    "start_time": "2023-11-24T21:21:42.562Z"
   },
   {
    "duration": 11,
    "start_time": "2023-11-24T21:21:42.633Z"
   },
   {
    "duration": 4,
    "start_time": "2023-11-24T21:21:42.646Z"
   },
   {
    "duration": 20,
    "start_time": "2023-11-24T21:21:42.651Z"
   },
   {
    "duration": 22,
    "start_time": "2023-11-24T21:21:42.672Z"
   },
   {
    "duration": 17,
    "start_time": "2023-11-24T21:21:42.714Z"
   },
   {
    "duration": 5,
    "start_time": "2023-11-24T21:21:42.733Z"
   },
   {
    "duration": 12,
    "start_time": "2023-11-24T21:21:42.739Z"
   },
   {
    "duration": 7,
    "start_time": "2023-11-24T21:21:42.753Z"
   },
   {
    "duration": 8,
    "start_time": "2023-11-24T21:21:42.761Z"
   },
   {
    "duration": 22,
    "start_time": "2023-11-24T21:21:42.770Z"
   },
   {
    "duration": 25,
    "start_time": "2023-11-24T21:21:42.793Z"
   },
   {
    "duration": 13,
    "start_time": "2023-11-24T21:21:42.820Z"
   },
   {
    "duration": 13,
    "start_time": "2023-11-24T21:21:42.834Z"
   },
   {
    "duration": 5,
    "start_time": "2023-11-24T21:21:42.849Z"
   },
   {
    "duration": 33,
    "start_time": "2023-11-24T21:21:42.855Z"
   },
   {
    "duration": 8,
    "start_time": "2023-11-24T21:21:42.890Z"
   },
   {
    "duration": 14,
    "start_time": "2023-11-24T21:21:42.901Z"
   },
   {
    "duration": 9,
    "start_time": "2023-11-24T21:21:42.917Z"
   },
   {
    "duration": 6,
    "start_time": "2023-11-24T21:21:42.928Z"
   },
   {
    "duration": 5,
    "start_time": "2023-11-24T21:21:42.936Z"
   },
   {
    "duration": 15,
    "start_time": "2023-11-24T21:21:42.943Z"
   },
   {
    "duration": 10,
    "start_time": "2023-11-24T21:21:42.959Z"
   },
   {
    "duration": 12,
    "start_time": "2023-11-24T21:21:42.970Z"
   },
   {
    "duration": 5,
    "start_time": "2023-11-24T21:21:43.014Z"
   },
   {
    "duration": 28,
    "start_time": "2023-11-24T21:21:43.021Z"
   },
   {
    "duration": 8,
    "start_time": "2023-11-24T21:21:43.050Z"
   },
   {
    "duration": 8,
    "start_time": "2023-11-24T21:21:43.060Z"
   },
   {
    "duration": 50,
    "start_time": "2023-11-24T21:21:43.070Z"
   },
   {
    "duration": 12,
    "start_time": "2023-11-24T21:21:43.122Z"
   },
   {
    "duration": 20,
    "start_time": "2023-11-24T21:21:43.135Z"
   },
   {
    "duration": 699,
    "start_time": "2023-11-24T21:32:58.533Z"
   },
   {
    "duration": 20,
    "start_time": "2023-11-24T21:32:59.234Z"
   },
   {
    "duration": 13,
    "start_time": "2023-11-24T21:32:59.256Z"
   },
   {
    "duration": 8,
    "start_time": "2023-11-24T21:32:59.271Z"
   },
   {
    "duration": 32,
    "start_time": "2023-11-24T21:32:59.281Z"
   },
   {
    "duration": 3,
    "start_time": "2023-11-24T21:32:59.315Z"
   },
   {
    "duration": 9,
    "start_time": "2023-11-24T21:32:59.319Z"
   },
   {
    "duration": 23,
    "start_time": "2023-11-24T21:32:59.330Z"
   },
   {
    "duration": 9,
    "start_time": "2023-11-24T21:32:59.354Z"
   },
   {
    "duration": 5,
    "start_time": "2023-11-24T21:32:59.364Z"
   },
   {
    "duration": 31,
    "start_time": "2023-11-24T21:32:59.371Z"
   },
   {
    "duration": 10,
    "start_time": "2023-11-24T21:32:59.404Z"
   },
   {
    "duration": 4,
    "start_time": "2023-11-24T21:32:59.415Z"
   },
   {
    "duration": 12,
    "start_time": "2023-11-24T21:32:59.454Z"
   },
   {
    "duration": 20,
    "start_time": "2023-11-24T21:32:59.467Z"
   },
   {
    "duration": 15,
    "start_time": "2023-11-24T21:32:59.488Z"
   },
   {
    "duration": 3,
    "start_time": "2023-11-24T21:32:59.505Z"
   },
   {
    "duration": 12,
    "start_time": "2023-11-24T21:32:59.509Z"
   },
   {
    "duration": 32,
    "start_time": "2023-11-24T21:32:59.522Z"
   },
   {
    "duration": 3,
    "start_time": "2023-11-24T21:32:59.555Z"
   },
   {
    "duration": 21,
    "start_time": "2023-11-24T21:32:59.560Z"
   },
   {
    "duration": 3,
    "start_time": "2023-11-24T21:32:59.583Z"
   },
   {
    "duration": 6,
    "start_time": "2023-11-24T21:32:59.588Z"
   },
   {
    "duration": 7,
    "start_time": "2023-11-24T21:32:59.595Z"
   },
   {
    "duration": 4,
    "start_time": "2023-11-24T21:32:59.603Z"
   },
   {
    "duration": 24,
    "start_time": "2023-11-24T21:32:59.608Z"
   },
   {
    "duration": 24,
    "start_time": "2023-11-24T21:32:59.633Z"
   },
   {
    "duration": 8,
    "start_time": "2023-11-24T21:32:59.659Z"
   },
   {
    "duration": 8,
    "start_time": "2023-11-24T21:32:59.668Z"
   },
   {
    "duration": 16,
    "start_time": "2023-11-24T21:32:59.677Z"
   },
   {
    "duration": 3,
    "start_time": "2023-11-24T21:32:59.695Z"
   },
   {
    "duration": 13,
    "start_time": "2023-11-24T21:32:59.699Z"
   },
   {
    "duration": 8,
    "start_time": "2023-11-24T21:32:59.713Z"
   },
   {
    "duration": 7,
    "start_time": "2023-11-24T21:32:59.755Z"
   },
   {
    "duration": 5,
    "start_time": "2023-11-24T21:32:59.763Z"
   },
   {
    "duration": 24,
    "start_time": "2023-11-24T21:32:59.770Z"
   },
   {
    "duration": 9,
    "start_time": "2023-11-24T21:32:59.796Z"
   },
   {
    "duration": 6,
    "start_time": "2023-11-24T21:32:59.806Z"
   },
   {
    "duration": 51,
    "start_time": "2023-11-24T21:32:59.813Z"
   },
   {
    "duration": 8,
    "start_time": "2023-11-24T21:32:59.866Z"
   },
   {
    "duration": 17,
    "start_time": "2023-11-24T21:32:59.877Z"
   },
   {
    "duration": 99,
    "start_time": "2023-11-24T21:35:37.105Z"
   },
   {
    "duration": 5,
    "start_time": "2023-11-24T21:35:52.473Z"
   },
   {
    "duration": 8,
    "start_time": "2023-11-24T21:36:14.863Z"
   },
   {
    "duration": 44,
    "start_time": "2023-11-25T20:26:38.656Z"
   },
   {
    "duration": 763,
    "start_time": "2023-11-25T20:26:52.448Z"
   },
   {
    "duration": 21,
    "start_time": "2023-11-25T20:26:53.213Z"
   },
   {
    "duration": 17,
    "start_time": "2023-11-25T20:26:53.236Z"
   },
   {
    "duration": 10,
    "start_time": "2023-11-25T20:26:53.256Z"
   },
   {
    "duration": 47,
    "start_time": "2023-11-25T20:26:53.267Z"
   },
   {
    "duration": 3,
    "start_time": "2023-11-25T20:26:53.316Z"
   },
   {
    "duration": 19,
    "start_time": "2023-11-25T20:26:53.320Z"
   },
   {
    "duration": 9,
    "start_time": "2023-11-25T20:26:53.340Z"
   },
   {
    "duration": 8,
    "start_time": "2023-11-25T20:26:53.351Z"
   },
   {
    "duration": 4,
    "start_time": "2023-11-25T20:26:53.362Z"
   },
   {
    "duration": 47,
    "start_time": "2023-11-25T20:26:53.367Z"
   },
   {
    "duration": 10,
    "start_time": "2023-11-25T20:26:53.415Z"
   },
   {
    "duration": 9,
    "start_time": "2023-11-25T20:26:53.426Z"
   },
   {
    "duration": 13,
    "start_time": "2023-11-25T20:26:53.436Z"
   },
   {
    "duration": 27,
    "start_time": "2023-11-25T20:26:53.450Z"
   },
   {
    "duration": 17,
    "start_time": "2023-11-25T20:26:53.478Z"
   },
   {
    "duration": 4,
    "start_time": "2023-11-25T20:26:53.496Z"
   },
   {
    "duration": 19,
    "start_time": "2023-11-25T20:26:53.501Z"
   },
   {
    "duration": 8,
    "start_time": "2023-11-25T20:26:53.522Z"
   },
   {
    "duration": 10,
    "start_time": "2023-11-25T20:26:53.531Z"
   },
   {
    "duration": 32,
    "start_time": "2023-11-25T20:26:53.543Z"
   },
   {
    "duration": 35,
    "start_time": "2023-11-25T20:26:53.577Z"
   },
   {
    "duration": 15,
    "start_time": "2023-11-25T20:26:53.614Z"
   },
   {
    "duration": 15,
    "start_time": "2023-11-25T20:26:53.631Z"
   },
   {
    "duration": 29,
    "start_time": "2023-11-25T20:26:53.647Z"
   },
   {
    "duration": 65,
    "start_time": "2023-11-25T20:26:53.678Z"
   },
   {
    "duration": 11,
    "start_time": "2023-11-25T20:26:53.745Z"
   },
   {
    "duration": 23,
    "start_time": "2023-11-25T20:26:53.759Z"
   },
   {
    "duration": 16,
    "start_time": "2023-11-25T20:26:53.784Z"
   },
   {
    "duration": 7,
    "start_time": "2023-11-25T20:26:58.578Z"
   },
   {
    "duration": 8,
    "start_time": "2023-11-25T20:27:42.715Z"
   },
   {
    "duration": 53,
    "start_time": "2023-11-25T20:28:24.749Z"
   },
   {
    "duration": 80,
    "start_time": "2023-11-25T20:28:55.791Z"
   },
   {
    "duration": 15,
    "start_time": "2023-11-25T20:28:55.873Z"
   },
   {
    "duration": 16,
    "start_time": "2023-11-25T20:28:55.890Z"
   },
   {
    "duration": 9,
    "start_time": "2023-11-25T20:28:55.908Z"
   },
   {
    "duration": 34,
    "start_time": "2023-11-25T20:28:55.919Z"
   },
   {
    "duration": 3,
    "start_time": "2023-11-25T20:28:55.954Z"
   },
   {
    "duration": 27,
    "start_time": "2023-11-25T20:28:55.959Z"
   },
   {
    "duration": 4,
    "start_time": "2023-11-25T20:28:55.988Z"
   },
   {
    "duration": 16,
    "start_time": "2023-11-25T20:28:55.993Z"
   },
   {
    "duration": 5,
    "start_time": "2023-11-25T20:28:56.012Z"
   },
   {
    "duration": 50,
    "start_time": "2023-11-25T20:28:56.018Z"
   },
   {
    "duration": 9,
    "start_time": "2023-11-25T20:28:56.069Z"
   },
   {
    "duration": 14,
    "start_time": "2023-11-25T20:28:56.082Z"
   },
   {
    "duration": 11,
    "start_time": "2023-11-25T20:28:56.097Z"
   },
   {
    "duration": 28,
    "start_time": "2023-11-25T20:28:56.109Z"
   },
   {
    "duration": 18,
    "start_time": "2023-11-25T20:28:56.139Z"
   },
   {
    "duration": 4,
    "start_time": "2023-11-25T20:28:56.158Z"
   },
   {
    "duration": 26,
    "start_time": "2023-11-25T20:28:56.163Z"
   },
   {
    "duration": 6,
    "start_time": "2023-11-25T20:28:56.190Z"
   },
   {
    "duration": 3,
    "start_time": "2023-11-25T20:28:56.197Z"
   },
   {
    "duration": 9,
    "start_time": "2023-11-25T20:28:56.202Z"
   },
   {
    "duration": 6,
    "start_time": "2023-11-25T20:28:56.212Z"
   },
   {
    "duration": 3,
    "start_time": "2023-11-25T20:28:56.219Z"
   },
   {
    "duration": 13,
    "start_time": "2023-11-25T20:28:56.223Z"
   },
   {
    "duration": 5,
    "start_time": "2023-11-25T20:28:56.237Z"
   },
   {
    "duration": 47,
    "start_time": "2023-11-25T20:28:56.244Z"
   },
   {
    "duration": 8,
    "start_time": "2023-11-25T20:28:56.292Z"
   },
   {
    "duration": 8,
    "start_time": "2023-11-25T20:28:56.303Z"
   },
   {
    "duration": 8,
    "start_time": "2023-11-25T20:28:56.312Z"
   },
   {
    "duration": 3,
    "start_time": "2023-11-25T20:28:59.418Z"
   },
   {
    "duration": 7,
    "start_time": "2023-11-25T20:29:07.511Z"
   },
   {
    "duration": 78,
    "start_time": "2023-11-25T20:32:07.546Z"
   },
   {
    "duration": 76,
    "start_time": "2023-11-25T20:37:31.371Z"
   },
   {
    "duration": 7,
    "start_time": "2023-11-25T20:41:46.692Z"
   },
   {
    "duration": 449,
    "start_time": "2023-11-25T20:42:08.842Z"
   },
   {
    "duration": 21,
    "start_time": "2023-11-25T20:42:09.293Z"
   },
   {
    "duration": 16,
    "start_time": "2023-11-25T20:42:09.316Z"
   },
   {
    "duration": 10,
    "start_time": "2023-11-25T20:42:09.334Z"
   },
   {
    "duration": 64,
    "start_time": "2023-11-25T20:42:09.346Z"
   },
   {
    "duration": 3,
    "start_time": "2023-11-25T20:42:09.412Z"
   },
   {
    "duration": 14,
    "start_time": "2023-11-25T20:42:09.417Z"
   },
   {
    "duration": 5,
    "start_time": "2023-11-25T20:42:09.432Z"
   },
   {
    "duration": 13,
    "start_time": "2023-11-25T20:42:09.438Z"
   },
   {
    "duration": 4,
    "start_time": "2023-11-25T20:42:09.455Z"
   },
   {
    "duration": 56,
    "start_time": "2023-11-25T20:42:09.461Z"
   },
   {
    "duration": 12,
    "start_time": "2023-11-25T20:42:09.518Z"
   },
   {
    "duration": 4,
    "start_time": "2023-11-25T20:42:09.531Z"
   },
   {
    "duration": 12,
    "start_time": "2023-11-25T20:42:09.536Z"
   },
   {
    "duration": 43,
    "start_time": "2023-11-25T20:42:09.550Z"
   },
   {
    "duration": 18,
    "start_time": "2023-11-25T20:42:09.594Z"
   },
   {
    "duration": 3,
    "start_time": "2023-11-25T20:42:09.614Z"
   },
   {
    "duration": 14,
    "start_time": "2023-11-25T20:42:09.619Z"
   },
   {
    "duration": 7,
    "start_time": "2023-11-25T20:42:09.634Z"
   },
   {
    "duration": 4,
    "start_time": "2023-11-25T20:42:09.643Z"
   },
   {
    "duration": 15,
    "start_time": "2023-11-25T20:42:09.681Z"
   },
   {
    "duration": 6,
    "start_time": "2023-11-25T20:42:09.698Z"
   },
   {
    "duration": 3,
    "start_time": "2023-11-25T20:42:09.706Z"
   },
   {
    "duration": 10,
    "start_time": "2023-11-25T20:42:09.711Z"
   },
   {
    "duration": 6,
    "start_time": "2023-11-25T20:42:09.723Z"
   },
   {
    "duration": 63,
    "start_time": "2023-11-25T20:42:09.731Z"
   },
   {
    "duration": 10,
    "start_time": "2023-11-25T20:42:09.796Z"
   },
   {
    "duration": 13,
    "start_time": "2023-11-25T20:42:09.809Z"
   },
   {
    "duration": 10,
    "start_time": "2023-11-25T20:42:09.823Z"
   },
   {
    "duration": 5,
    "start_time": "2023-11-25T20:42:09.835Z"
   },
   {
    "duration": 12,
    "start_time": "2023-11-25T20:42:09.841Z"
   },
   {
    "duration": 5,
    "start_time": "2023-11-25T20:42:09.882Z"
   },
   {
    "duration": 5,
    "start_time": "2023-11-25T20:42:09.889Z"
   },
   {
    "duration": 15,
    "start_time": "2023-11-25T20:42:09.895Z"
   },
   {
    "duration": 10,
    "start_time": "2023-11-25T20:42:09.912Z"
   },
   {
    "duration": 11,
    "start_time": "2023-11-25T20:42:09.923Z"
   },
   {
    "duration": 46,
    "start_time": "2023-11-25T20:42:09.936Z"
   },
   {
    "duration": 31,
    "start_time": "2023-11-25T20:42:09.984Z"
   },
   {
    "duration": 9,
    "start_time": "2023-11-25T20:42:10.016Z"
   },
   {
    "duration": 9,
    "start_time": "2023-11-25T20:42:10.026Z"
   },
   {
    "duration": 4,
    "start_time": "2023-11-25T20:42:46.094Z"
   },
   {
    "duration": 7,
    "start_time": "2023-11-25T20:43:19.413Z"
   },
   {
    "duration": 3,
    "start_time": "2023-11-25T20:58:40.383Z"
   },
   {
    "duration": 422,
    "start_time": "2023-11-25T21:00:18.235Z"
   },
   {
    "duration": 21,
    "start_time": "2023-11-25T21:00:18.659Z"
   },
   {
    "duration": 23,
    "start_time": "2023-11-25T21:00:18.682Z"
   },
   {
    "duration": 16,
    "start_time": "2023-11-25T21:00:18.707Z"
   },
   {
    "duration": 66,
    "start_time": "2023-11-25T21:00:18.725Z"
   },
   {
    "duration": 4,
    "start_time": "2023-11-25T21:00:18.792Z"
   },
   {
    "duration": 8,
    "start_time": "2023-11-25T21:00:18.797Z"
   },
   {
    "duration": 6,
    "start_time": "2023-11-25T21:00:18.806Z"
   },
   {
    "duration": 17,
    "start_time": "2023-11-25T21:00:18.814Z"
   },
   {
    "duration": 5,
    "start_time": "2023-11-25T21:00:18.836Z"
   },
   {
    "duration": 75,
    "start_time": "2023-11-25T21:00:18.843Z"
   },
   {
    "duration": 10,
    "start_time": "2023-11-25T21:00:18.919Z"
   },
   {
    "duration": 18,
    "start_time": "2023-11-25T21:00:18.931Z"
   },
   {
    "duration": 19,
    "start_time": "2023-11-25T21:00:18.950Z"
   },
   {
    "duration": 18,
    "start_time": "2023-11-25T21:00:18.970Z"
   },
   {
    "duration": 15,
    "start_time": "2023-11-25T21:00:18.990Z"
   },
   {
    "duration": 3,
    "start_time": "2023-11-25T21:00:19.007Z"
   },
   {
    "duration": 16,
    "start_time": "2023-11-25T21:00:19.011Z"
   },
   {
    "duration": 8,
    "start_time": "2023-11-25T21:00:19.029Z"
   },
   {
    "duration": 3,
    "start_time": "2023-11-25T21:00:19.039Z"
   },
   {
    "duration": 12,
    "start_time": "2023-11-25T21:00:19.043Z"
   },
   {
    "duration": 26,
    "start_time": "2023-11-25T21:00:19.056Z"
   },
   {
    "duration": 2,
    "start_time": "2023-11-25T21:00:19.084Z"
   },
   {
    "duration": 7,
    "start_time": "2023-11-25T21:00:19.088Z"
   },
   {
    "duration": 11,
    "start_time": "2023-11-25T21:00:19.097Z"
   },
   {
    "duration": 8,
    "start_time": "2023-11-25T21:00:19.110Z"
   },
   {
    "duration": 17,
    "start_time": "2023-11-25T21:00:19.120Z"
   },
   {
    "duration": 28,
    "start_time": "2023-11-25T21:00:22.209Z"
   },
   {
    "duration": 3,
    "start_time": "2023-11-25T21:02:39.835Z"
   },
   {
    "duration": 19,
    "start_time": "2023-11-25T21:02:40.268Z"
   },
   {
    "duration": 10,
    "start_time": "2023-11-25T21:02:42.520Z"
   },
   {
    "duration": 7,
    "start_time": "2023-11-25T21:02:45.549Z"
   },
   {
    "duration": 3,
    "start_time": "2023-11-25T21:02:46.508Z"
   },
   {
    "duration": 8,
    "start_time": "2023-11-25T21:02:47.212Z"
   },
   {
    "duration": 6,
    "start_time": "2023-11-25T21:02:50.434Z"
   },
   {
    "duration": 4,
    "start_time": "2023-11-25T21:02:50.979Z"
   },
   {
    "duration": 14,
    "start_time": "2023-11-25T21:03:28.165Z"
   },
   {
    "duration": 7,
    "start_time": "2023-11-25T21:03:28.824Z"
   },
   {
    "duration": 8,
    "start_time": "2023-11-25T21:03:33.054Z"
   },
   {
    "duration": 6,
    "start_time": "2023-11-25T21:03:37.808Z"
   },
   {
    "duration": 18,
    "start_time": "2023-11-25T21:03:38.769Z"
   },
   {
    "duration": 17,
    "start_time": "2023-11-25T21:04:14.034Z"
   },
   {
    "duration": 8,
    "start_time": "2023-11-25T21:04:15.264Z"
   },
   {
    "duration": 3,
    "start_time": "2023-11-25T21:04:26.379Z"
   },
   {
    "duration": 7,
    "start_time": "2023-11-25T21:04:26.861Z"
   },
   {
    "duration": 6,
    "start_time": "2023-11-25T21:04:29.484Z"
   },
   {
    "duration": 14,
    "start_time": "2023-11-25T21:05:01.181Z"
   },
   {
    "duration": 7,
    "start_time": "2023-11-25T21:05:02.407Z"
   },
   {
    "duration": 7,
    "start_time": "2023-11-25T21:05:03.597Z"
   },
   {
    "duration": 7,
    "start_time": "2023-11-25T21:08:41.898Z"
   },
   {
    "duration": 8,
    "start_time": "2023-11-25T21:08:59.134Z"
   },
   {
    "duration": 7,
    "start_time": "2023-11-25T21:09:47.466Z"
   },
   {
    "duration": 7,
    "start_time": "2023-11-25T21:09:58.566Z"
   },
   {
    "duration": 448,
    "start_time": "2023-11-25T21:55:46.296Z"
   },
   {
    "duration": 19,
    "start_time": "2023-11-25T21:55:46.746Z"
   },
   {
    "duration": 14,
    "start_time": "2023-11-25T21:55:46.767Z"
   },
   {
    "duration": 10,
    "start_time": "2023-11-25T21:55:46.783Z"
   },
   {
    "duration": 39,
    "start_time": "2023-11-25T21:55:46.794Z"
   },
   {
    "duration": 3,
    "start_time": "2023-11-25T21:55:46.834Z"
   },
   {
    "duration": 8,
    "start_time": "2023-11-25T21:55:46.839Z"
   },
   {
    "duration": 4,
    "start_time": "2023-11-25T21:55:46.848Z"
   },
   {
    "duration": 6,
    "start_time": "2023-11-25T21:55:46.853Z"
   },
   {
    "duration": 4,
    "start_time": "2023-11-25T21:55:46.881Z"
   },
   {
    "duration": 31,
    "start_time": "2023-11-25T21:55:46.886Z"
   },
   {
    "duration": 9,
    "start_time": "2023-11-25T21:55:46.918Z"
   },
   {
    "duration": 4,
    "start_time": "2023-11-25T21:55:46.928Z"
   },
   {
    "duration": 12,
    "start_time": "2023-11-25T21:55:46.933Z"
   },
   {
    "duration": 41,
    "start_time": "2023-11-25T21:55:46.946Z"
   },
   {
    "duration": 15,
    "start_time": "2023-11-25T21:55:46.988Z"
   },
   {
    "duration": 3,
    "start_time": "2023-11-25T21:55:47.004Z"
   },
   {
    "duration": 11,
    "start_time": "2023-11-25T21:55:47.008Z"
   },
   {
    "duration": 6,
    "start_time": "2023-11-25T21:55:47.020Z"
   },
   {
    "duration": 6,
    "start_time": "2023-11-25T21:55:47.028Z"
   },
   {
    "duration": 8,
    "start_time": "2023-11-25T21:55:47.036Z"
   },
   {
    "duration": 4,
    "start_time": "2023-11-25T21:55:47.045Z"
   },
   {
    "duration": 32,
    "start_time": "2023-11-25T21:55:47.050Z"
   },
   {
    "duration": 3,
    "start_time": "2023-11-25T21:55:47.084Z"
   },
   {
    "duration": 9,
    "start_time": "2023-11-25T21:55:47.088Z"
   },
   {
    "duration": 23,
    "start_time": "2023-11-25T21:55:47.098Z"
   },
   {
    "duration": 7,
    "start_time": "2023-11-25T21:55:47.122Z"
   },
   {
    "duration": 15,
    "start_time": "2023-11-25T21:55:47.131Z"
   },
   {
    "duration": 13,
    "start_time": "2023-11-25T21:55:47.147Z"
   },
   {
    "duration": 7,
    "start_time": "2023-11-25T21:55:47.161Z"
   },
   {
    "duration": 13,
    "start_time": "2023-11-25T21:55:47.169Z"
   },
   {
    "duration": 3,
    "start_time": "2023-11-25T21:55:47.183Z"
   },
   {
    "duration": 13,
    "start_time": "2023-11-25T21:55:47.188Z"
   },
   {
    "duration": 6,
    "start_time": "2023-11-25T21:55:47.202Z"
   },
   {
    "duration": 6,
    "start_time": "2023-11-25T21:55:47.210Z"
   },
   {
    "duration": 5,
    "start_time": "2023-11-25T21:55:47.217Z"
   },
   {
    "duration": 17,
    "start_time": "2023-11-25T21:55:47.223Z"
   },
   {
    "duration": 6,
    "start_time": "2023-11-25T21:55:47.241Z"
   },
   {
    "duration": 2,
    "start_time": "2023-11-25T21:55:47.282Z"
   },
   {
    "duration": 20,
    "start_time": "2023-11-25T21:55:47.286Z"
   },
   {
    "duration": 6,
    "start_time": "2023-11-25T21:55:47.307Z"
   },
   {
    "duration": 13,
    "start_time": "2023-11-25T21:55:47.314Z"
   },
   {
    "duration": 6,
    "start_time": "2023-11-25T21:55:47.329Z"
   },
   {
    "duration": 10,
    "start_time": "2023-11-25T21:55:47.336Z"
   },
   {
    "duration": 8,
    "start_time": "2023-11-25T21:55:47.348Z"
   },
   {
    "duration": 8,
    "start_time": "2023-11-25T21:55:47.357Z"
   },
   {
    "duration": 20,
    "start_time": "2023-11-25T21:55:47.366Z"
   },
   {
    "duration": 19,
    "start_time": "2023-11-25T21:55:47.387Z"
   },
   {
    "duration": 82,
    "start_time": "2023-11-25T21:59:02.794Z"
   },
   {
    "duration": 89,
    "start_time": "2023-11-25T22:06:00.196Z"
   },
   {
    "duration": 719,
    "start_time": "2023-11-26T08:46:44.236Z"
   },
   {
    "duration": 25,
    "start_time": "2023-11-26T08:46:44.957Z"
   },
   {
    "duration": 16,
    "start_time": "2023-11-26T08:46:44.983Z"
   },
   {
    "duration": 12,
    "start_time": "2023-11-26T08:46:45.001Z"
   },
   {
    "duration": 73,
    "start_time": "2023-11-26T08:46:45.014Z"
   },
   {
    "duration": 3,
    "start_time": "2023-11-26T08:46:45.089Z"
   },
   {
    "duration": 32,
    "start_time": "2023-11-26T08:46:45.093Z"
   },
   {
    "duration": 7,
    "start_time": "2023-11-26T08:46:45.127Z"
   },
   {
    "duration": 12,
    "start_time": "2023-11-26T08:46:45.135Z"
   },
   {
    "duration": 12,
    "start_time": "2023-11-26T08:46:45.150Z"
   },
   {
    "duration": 41,
    "start_time": "2023-11-26T08:46:45.163Z"
   },
   {
    "duration": 11,
    "start_time": "2023-11-26T08:46:45.206Z"
   },
   {
    "duration": 12,
    "start_time": "2023-11-26T08:46:45.218Z"
   },
   {
    "duration": 21,
    "start_time": "2023-11-26T08:46:45.232Z"
   },
   {
    "duration": 23,
    "start_time": "2023-11-26T08:46:45.254Z"
   },
   {
    "duration": 28,
    "start_time": "2023-11-26T08:46:45.279Z"
   },
   {
    "duration": 5,
    "start_time": "2023-11-26T08:46:45.309Z"
   },
   {
    "duration": 16,
    "start_time": "2023-11-26T08:46:45.316Z"
   },
   {
    "duration": 7,
    "start_time": "2023-11-26T08:46:45.334Z"
   },
   {
    "duration": 4,
    "start_time": "2023-11-26T08:46:45.343Z"
   },
   {
    "duration": 16,
    "start_time": "2023-11-26T08:46:45.349Z"
   },
   {
    "duration": 5,
    "start_time": "2023-11-26T08:46:45.367Z"
   },
   {
    "duration": 36,
    "start_time": "2023-11-26T08:46:45.374Z"
   },
   {
    "duration": 22,
    "start_time": "2023-11-26T08:46:45.412Z"
   },
   {
    "duration": 12,
    "start_time": "2023-11-26T08:46:45.435Z"
   },
   {
    "duration": 35,
    "start_time": "2023-11-26T08:46:45.448Z"
   },
   {
    "duration": 9,
    "start_time": "2023-11-26T08:46:45.484Z"
   },
   {
    "duration": 28,
    "start_time": "2023-11-26T08:46:45.496Z"
   },
   {
    "duration": 31,
    "start_time": "2023-11-26T08:46:45.525Z"
   },
   {
    "duration": 15,
    "start_time": "2023-11-26T08:46:45.558Z"
   },
   {
    "duration": 14,
    "start_time": "2023-11-26T08:46:45.575Z"
   },
   {
    "duration": 4,
    "start_time": "2023-11-26T08:46:45.591Z"
   },
   {
    "duration": 20,
    "start_time": "2023-11-26T08:46:45.597Z"
   },
   {
    "duration": 8,
    "start_time": "2023-11-26T08:46:45.619Z"
   },
   {
    "duration": 16,
    "start_time": "2023-11-26T08:46:45.629Z"
   },
   {
    "duration": 14,
    "start_time": "2023-11-26T08:46:45.647Z"
   },
   {
    "duration": 22,
    "start_time": "2023-11-26T08:46:45.662Z"
   },
   {
    "duration": 8,
    "start_time": "2023-11-26T08:46:45.686Z"
   },
   {
    "duration": 3,
    "start_time": "2023-11-26T08:46:45.707Z"
   },
   {
    "duration": 14,
    "start_time": "2023-11-26T08:46:45.712Z"
   },
   {
    "duration": 21,
    "start_time": "2023-11-26T08:46:45.727Z"
   },
   {
    "duration": 19,
    "start_time": "2023-11-26T08:46:45.750Z"
   },
   {
    "duration": 8,
    "start_time": "2023-11-26T08:46:45.771Z"
   },
   {
    "duration": 16,
    "start_time": "2023-11-26T08:46:45.781Z"
   },
   {
    "duration": 40,
    "start_time": "2023-11-26T08:46:45.798Z"
   },
   {
    "duration": 35,
    "start_time": "2023-11-26T08:46:45.840Z"
   },
   {
    "duration": 17,
    "start_time": "2023-11-26T08:46:45.877Z"
   },
   {
    "duration": 26,
    "start_time": "2023-11-26T08:46:45.895Z"
   }
  ],
  "colab": {
   "name": "dpp_template_part2.ipynb",
   "provenance": []
  },
  "kernelspec": {
   "display_name": "Python 3 (ipykernel)",
   "language": "python",
   "name": "python3"
  },
  "language_info": {
   "codemirror_mode": {
    "name": "ipython",
    "version": 3
   },
   "file_extension": ".py",
   "mimetype": "text/x-python",
   "name": "python",
   "nbconvert_exporter": "python",
   "pygments_lexer": "ipython3",
   "version": "3.9.5"
  },
  "toc": {
   "base_numbering": 1,
   "nav_menu": {},
   "number_sections": true,
   "sideBar": true,
   "skip_h1_title": true,
   "title_cell": "Table of Contents",
   "title_sidebar": "Contents",
   "toc_cell": false,
   "toc_position": {},
   "toc_section_display": true,
   "toc_window_display": false
  }
 },
 "nbformat": 4,
 "nbformat_minor": 5
}
