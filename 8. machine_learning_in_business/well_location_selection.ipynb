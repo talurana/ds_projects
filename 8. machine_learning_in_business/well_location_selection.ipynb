{
 "cells": [
  {
   "cell_type": "markdown",
   "metadata": {},
   "source": [
    "# Определение локации для скважины"
   ]
  },
  {
   "cell_type": "markdown",
   "metadata": {},
   "source": [
    "В компании «ГлавРосГосНефть» необходимо определить, где бурить новую нефтяную скважину.\n",
    "\n",
    "Предоставлены данные о пробах нефти в трех регионах. В каждом регионе исследовано 10 110 месторождений, для которых измерено качество нефти и объем запасов. Задача проекта заключается в разработке модели машинного обучения, которая поможет определить регион, где добыча принесет наибольшую прибыль. Анализ возможной прибыли и рисков осуществляется с помощью техники *Bootstrap*.\n",
    "\n",
    "### Шаги для выбора локации:\n",
    "\n",
    "- В выбранном регионе находятся месторождения, для каждого из которых определяются значения признаков.\n",
    "- Строится модель, оценивающая объем запасов.\n",
    "- Из всех месторождений выбираются те, которые получили самые высокие оценки. Количество месторождений зависит от бюджета компании и стоимости разработки одной скважины.\n",
    "- Рассчитывается прибыль как суммарная прибыль отобранных месторождений.\n",
    "\n",
    "### Описание данных\n",
    "\n",
    "- id — уникальный идентификатор скважины\n",
    "- f0, f1, f2 — три признака месторождений (важны сами признаки)\n",
    "- product — объем запасов в скважине (тыс. баррелей)\n",
    "\n",
    "### Условия задачи:\n",
    "\n",
    "- Для модели используется только линейная регрессия.\n",
    "- В каждом регионе исследуется 500 точек, из которых выбираются 200 лучших для разработки.\n",
    "- Бюджет на разработку скважин в регионе составляет 10 млрд рублей.\n",
    "- Один баррель сырья приносит 450 рублей дохода, а доход с каждой единицы продукта составляет 450 тыс. рублей.\n",
    "- Оставляются только те регионы, где вероятность убытков меньше 2.5%. Далее из них выбирается регион с наибольшей средней прибылью."
   ]
  },
  {
   "cell_type": "markdown",
   "metadata": {},
   "source": [
    "## Подготовка окружения"
   ]
  },
  {
   "cell_type": "code",
   "execution_count": 12,
   "metadata": {},
   "outputs": [
    {
     "name": "stdout",
     "output_type": "stream",
     "text": [
      "\u001b[31mERROR: pip's dependency resolver does not currently take into account all the packages that are installed. This behaviour is the source of the following dependency conflicts.\r\n",
      "numba 0.56.0 requires numpy<1.23,>=1.18, but you have numpy 1.26.4 which is incompatible.\u001b[0m\r\n"
     ]
    }
   ],
   "source": [
    "!pip install --upgrade scikit-learn==1.2.2 -q\n",
    "!pip install --upgrade numpy==1.26.4 -q\n",
    "!pip install --upgrade seaborn==0.13.0 -q\n",
    "!pip install --upgrade shap==0.45.0 -q\n",
    "!pip install --upgrade phik==0.12.4 -q\n",
    "!pip install --upgrade pandas==2.1.4 -q\n",
    "!pip install --upgrade scipy==1.12.0 -q\n",
    "!pip install --upgrade matplotlib==3.8.0 -q"
   ]
  },
  {
   "cell_type": "code",
   "execution_count": 13,
   "metadata": {},
   "outputs": [],
   "source": [
    "import os\n",
    "import seaborn as sns\n",
    "import pandas as pd\n",
    "import matplotlib.pyplot as plt\n",
    "import numpy as np\n",
    "from math import log\n",
    "from sklearn.model_selection import train_test_split, RandomizedSearchCV\n",
    "from sklearn.impute import SimpleImputer\n",
    "from sklearn.preprocessing import StandardScaler, MinMaxScaler, RobustScaler\n",
    "from sklearn.pipeline import Pipeline\n",
    "from sklearn.linear_model import LinearRegression, Lasso, Ridge, ElasticNet\n",
    "from sklearn.metrics import mean_squared_error\n",
    "from numpy.random import RandomState\n",
    "\n"
   ]
  },
  {
   "cell_type": "code",
   "execution_count": 14,
   "metadata": {},
   "outputs": [],
   "source": [
    "sns.set_theme()\n",
    "sns.set_palette('Set2')\n",
    "RANDOM_STATE = 5\n",
    "STATE = RandomState(12345)"
   ]
  },
  {
   "cell_type": "markdown",
   "metadata": {},
   "source": [
    "## Загрузка и подготовка данных"
   ]
  },
  {
   "cell_type": "code",
   "execution_count": 15,
   "metadata": {},
   "outputs": [],
   "source": [
    "def get_info(data: pd.DataFrame) -> None:\n",
    "    '''\n",
    "    Function for printing base information of dataframe\n",
    "    :param data: dataframe for search\n",
    "    '''\n",
    "    print('Info about data:')\n",
    "    data.info()\n",
    "    print('\\nInfo about missing data:\\n', data.isna().sum())\n",
    "    print('\\nInfo about duplicates:\\n', data.duplicated().sum())"
   ]
  },
  {
   "cell_type": "code",
   "execution_count": 16,
   "metadata": {},
   "outputs": [],
   "source": [
    "def count_duplicated(data: pd.DataFrame) -> None:\n",
    "    duplicated = data.loc[data.duplicated(subset=['id'])]['id'].count()\n",
    "    print(f'Процент повторяющихся идентификаторов {round(duplicated/data.shape[1] * 100, 3)}%')"
   ]
  },
  {
   "cell_type": "code",
   "execution_count": 17,
   "metadata": {},
   "outputs": [],
   "source": [
    "if (os.path.exists('/datasets/geo_data_1.csv') and \n",
    "    os.path.exists('/datasets/geo_data_1.csv') and \n",
    "    os.path.exists('/datasets/geo_data_2.csv')):\n",
    "\n",
    "    region_geo_0 = pd.read_csv('/datasets/geo_data_0.csv')\n",
    "    region_geo_1 = pd.read_csv('/datasets/geo_data_1.csv')\n",
    "    region_geo_2 = pd.read_csv('/datasets/geo_data_2.csv')\n",
    "\n",
    "elif (os.path.exists('./datasets/geo_data_0.csv') and \n",
    "      os.path.exists('./datasets/geo_data_1.csv') and \n",
    "      os.path.exists('./datasets/geo_data_2.csv')):\n",
    "    \n",
    "    region_geo_0 = pd.read_csv('./datasets/geo_data_0.csv')\n",
    "    region_geo_1 = pd.read_csv('./datasets/geo_data_1.csv')\n",
    "    region_geo_2 = pd.read_csv('./datasets/geo_data_2.csv')\n",
    "\n",
    "else:\n",
    "    print('Something went wrong')"
   ]
  },
  {
   "cell_type": "markdown",
   "metadata": {},
   "source": [
    "Изучим данные, которые мы получили.\n",
    "### Для начала рассмотрим первый регион"
   ]
  },
  {
   "cell_type": "code",
   "execution_count": 18,
   "metadata": {},
   "outputs": [
    {
     "name": "stdout",
     "output_type": "stream",
     "text": [
      "Info about data:\n",
      "<class 'pandas.core.frame.DataFrame'>\n",
      "RangeIndex: 100000 entries, 0 to 99999\n",
      "Data columns (total 5 columns):\n",
      " #   Column   Non-Null Count   Dtype  \n",
      "---  ------   --------------   -----  \n",
      " 0   id       100000 non-null  object \n",
      " 1   f0       100000 non-null  float64\n",
      " 2   f1       100000 non-null  float64\n",
      " 3   f2       100000 non-null  float64\n",
      " 4   product  100000 non-null  float64\n",
      "dtypes: float64(4), object(1)\n",
      "memory usage: 3.8+ MB\n",
      "\n",
      "Info about missing data:\n",
      " id         0\n",
      "f0         0\n",
      "f1         0\n",
      "f2         0\n",
      "product    0\n",
      "dtype: int64\n",
      "\n",
      "Info about duplicates:\n",
      " 0\n"
     ]
    }
   ],
   "source": [
    "get_info(region_geo_0)"
   ]
  },
  {
   "cell_type": "code",
   "execution_count": 19,
   "metadata": {},
   "outputs": [
    {
     "data": {
      "text/html": [
       "<div>\n",
       "<style scoped>\n",
       "    .dataframe tbody tr th:only-of-type {\n",
       "        vertical-align: middle;\n",
       "    }\n",
       "\n",
       "    .dataframe tbody tr th {\n",
       "        vertical-align: top;\n",
       "    }\n",
       "\n",
       "    .dataframe thead th {\n",
       "        text-align: right;\n",
       "    }\n",
       "</style>\n",
       "<table border=\"1\" class=\"dataframe\">\n",
       "  <thead>\n",
       "    <tr style=\"text-align: right;\">\n",
       "      <th></th>\n",
       "      <th>id</th>\n",
       "      <th>f0</th>\n",
       "      <th>f1</th>\n",
       "      <th>f2</th>\n",
       "      <th>product</th>\n",
       "    </tr>\n",
       "  </thead>\n",
       "  <tbody>\n",
       "    <tr>\n",
       "      <th>17001</th>\n",
       "      <td>CmNRx</td>\n",
       "      <td>0.589938</td>\n",
       "      <td>-0.309241</td>\n",
       "      <td>1.331875</td>\n",
       "      <td>136.905907</td>\n",
       "    </tr>\n",
       "    <tr>\n",
       "      <th>5119</th>\n",
       "      <td>9dqPJ</td>\n",
       "      <td>0.412225</td>\n",
       "      <td>1.066530</td>\n",
       "      <td>-4.698450</td>\n",
       "      <td>34.482986</td>\n",
       "    </tr>\n",
       "    <tr>\n",
       "      <th>15311</th>\n",
       "      <td>xRaYD</td>\n",
       "      <td>1.971423</td>\n",
       "      <td>0.253909</td>\n",
       "      <td>2.269961</td>\n",
       "      <td>151.664080</td>\n",
       "    </tr>\n",
       "    <tr>\n",
       "      <th>27477</th>\n",
       "      <td>qILFi</td>\n",
       "      <td>0.959952</td>\n",
       "      <td>0.184965</td>\n",
       "      <td>2.908647</td>\n",
       "      <td>51.532894</td>\n",
       "    </tr>\n",
       "    <tr>\n",
       "      <th>30428</th>\n",
       "      <td>qVThc</td>\n",
       "      <td>0.910977</td>\n",
       "      <td>0.286879</td>\n",
       "      <td>-0.002091</td>\n",
       "      <td>26.339232</td>\n",
       "    </tr>\n",
       "  </tbody>\n",
       "</table>\n",
       "</div>"
      ],
      "text/plain": [
       "          id        f0        f1        f2     product\n",
       "17001  CmNRx  0.589938 -0.309241  1.331875  136.905907\n",
       "5119   9dqPJ  0.412225  1.066530 -4.698450   34.482986\n",
       "15311  xRaYD  1.971423  0.253909  2.269961  151.664080\n",
       "27477  qILFi  0.959952  0.184965  2.908647   51.532894\n",
       "30428  qVThc  0.910977  0.286879 -0.002091   26.339232"
      ]
     },
     "execution_count": 19,
     "metadata": {},
     "output_type": "execute_result"
    }
   ],
   "source": [
    "region_geo_0.sample(5)"
   ]
  },
  {
   "cell_type": "code",
   "execution_count": 20,
   "metadata": {},
   "outputs": [
    {
     "data": {
      "text/html": [
       "<div>\n",
       "<style scoped>\n",
       "    .dataframe tbody tr th:only-of-type {\n",
       "        vertical-align: middle;\n",
       "    }\n",
       "\n",
       "    .dataframe tbody tr th {\n",
       "        vertical-align: top;\n",
       "    }\n",
       "\n",
       "    .dataframe thead th {\n",
       "        text-align: right;\n",
       "    }\n",
       "</style>\n",
       "<table border=\"1\" class=\"dataframe\">\n",
       "  <thead>\n",
       "    <tr style=\"text-align: right;\">\n",
       "      <th></th>\n",
       "      <th>id</th>\n",
       "      <th>f0</th>\n",
       "      <th>f1</th>\n",
       "      <th>f2</th>\n",
       "      <th>product</th>\n",
       "    </tr>\n",
       "  </thead>\n",
       "  <tbody>\n",
       "    <tr>\n",
       "      <th>0</th>\n",
       "      <td>txEyH</td>\n",
       "      <td>0.705745</td>\n",
       "      <td>-0.497823</td>\n",
       "      <td>1.221170</td>\n",
       "      <td>105.280062</td>\n",
       "    </tr>\n",
       "    <tr>\n",
       "      <th>1</th>\n",
       "      <td>2acmU</td>\n",
       "      <td>1.334711</td>\n",
       "      <td>-0.340164</td>\n",
       "      <td>4.365080</td>\n",
       "      <td>73.037750</td>\n",
       "    </tr>\n",
       "    <tr>\n",
       "      <th>2</th>\n",
       "      <td>409Wp</td>\n",
       "      <td>1.022732</td>\n",
       "      <td>0.151990</td>\n",
       "      <td>1.419926</td>\n",
       "      <td>85.265647</td>\n",
       "    </tr>\n",
       "    <tr>\n",
       "      <th>3</th>\n",
       "      <td>iJLyR</td>\n",
       "      <td>-0.032172</td>\n",
       "      <td>0.139033</td>\n",
       "      <td>2.978566</td>\n",
       "      <td>168.620776</td>\n",
       "    </tr>\n",
       "    <tr>\n",
       "      <th>4</th>\n",
       "      <td>Xdl7t</td>\n",
       "      <td>1.988431</td>\n",
       "      <td>0.155413</td>\n",
       "      <td>4.751769</td>\n",
       "      <td>154.036647</td>\n",
       "    </tr>\n",
       "  </tbody>\n",
       "</table>\n",
       "</div>"
      ],
      "text/plain": [
       "      id        f0        f1        f2     product\n",
       "0  txEyH  0.705745 -0.497823  1.221170  105.280062\n",
       "1  2acmU  1.334711 -0.340164  4.365080   73.037750\n",
       "2  409Wp  1.022732  0.151990  1.419926   85.265647\n",
       "3  iJLyR -0.032172  0.139033  2.978566  168.620776\n",
       "4  Xdl7t  1.988431  0.155413  4.751769  154.036647"
      ]
     },
     "execution_count": 20,
     "metadata": {},
     "output_type": "execute_result"
    }
   ],
   "source": [
    "region_geo_0.head()"
   ]
  },
  {
   "cell_type": "markdown",
   "metadata": {},
   "source": [
    "Проверим, есть дубликаты по `id` скважины"
   ]
  },
  {
   "cell_type": "code",
   "execution_count": 21,
   "metadata": {},
   "outputs": [
    {
     "data": {
      "text/html": [
       "<div>\n",
       "<style scoped>\n",
       "    .dataframe tbody tr th:only-of-type {\n",
       "        vertical-align: middle;\n",
       "    }\n",
       "\n",
       "    .dataframe tbody tr th {\n",
       "        vertical-align: top;\n",
       "    }\n",
       "\n",
       "    .dataframe thead th {\n",
       "        text-align: right;\n",
       "    }\n",
       "</style>\n",
       "<table border=\"1\" class=\"dataframe\">\n",
       "  <thead>\n",
       "    <tr style=\"text-align: right;\">\n",
       "      <th></th>\n",
       "      <th>id</th>\n",
       "      <th>f0</th>\n",
       "      <th>f1</th>\n",
       "      <th>f2</th>\n",
       "      <th>product</th>\n",
       "    </tr>\n",
       "  </thead>\n",
       "  <tbody>\n",
       "    <tr>\n",
       "      <th>7530</th>\n",
       "      <td>HZww2</td>\n",
       "      <td>1.061194</td>\n",
       "      <td>-0.373969</td>\n",
       "      <td>10.430210</td>\n",
       "      <td>158.828695</td>\n",
       "    </tr>\n",
       "    <tr>\n",
       "      <th>41724</th>\n",
       "      <td>bxg6G</td>\n",
       "      <td>-0.823752</td>\n",
       "      <td>0.546319</td>\n",
       "      <td>3.630479</td>\n",
       "      <td>93.007798</td>\n",
       "    </tr>\n",
       "    <tr>\n",
       "      <th>51970</th>\n",
       "      <td>A5aEY</td>\n",
       "      <td>-0.180335</td>\n",
       "      <td>0.935548</td>\n",
       "      <td>-2.094773</td>\n",
       "      <td>33.020205</td>\n",
       "    </tr>\n",
       "    <tr>\n",
       "      <th>63593</th>\n",
       "      <td>QcMuo</td>\n",
       "      <td>0.635635</td>\n",
       "      <td>-0.473422</td>\n",
       "      <td>0.862670</td>\n",
       "      <td>64.578675</td>\n",
       "    </tr>\n",
       "    <tr>\n",
       "      <th>66136</th>\n",
       "      <td>74z30</td>\n",
       "      <td>1.084962</td>\n",
       "      <td>-0.312358</td>\n",
       "      <td>6.990771</td>\n",
       "      <td>127.643327</td>\n",
       "    </tr>\n",
       "    <tr>\n",
       "      <th>69163</th>\n",
       "      <td>AGS9W</td>\n",
       "      <td>-0.933795</td>\n",
       "      <td>0.116194</td>\n",
       "      <td>-3.655896</td>\n",
       "      <td>19.230453</td>\n",
       "    </tr>\n",
       "    <tr>\n",
       "      <th>75715</th>\n",
       "      <td>Tdehs</td>\n",
       "      <td>0.112079</td>\n",
       "      <td>0.430296</td>\n",
       "      <td>3.218993</td>\n",
       "      <td>60.964018</td>\n",
       "    </tr>\n",
       "    <tr>\n",
       "      <th>90815</th>\n",
       "      <td>fiKDv</td>\n",
       "      <td>0.049883</td>\n",
       "      <td>0.841313</td>\n",
       "      <td>6.394613</td>\n",
       "      <td>137.346586</td>\n",
       "    </tr>\n",
       "    <tr>\n",
       "      <th>92341</th>\n",
       "      <td>TtcGQ</td>\n",
       "      <td>0.110711</td>\n",
       "      <td>1.022689</td>\n",
       "      <td>0.911381</td>\n",
       "      <td>101.318008</td>\n",
       "    </tr>\n",
       "    <tr>\n",
       "      <th>97785</th>\n",
       "      <td>bsk9y</td>\n",
       "      <td>0.378429</td>\n",
       "      <td>0.005837</td>\n",
       "      <td>0.160827</td>\n",
       "      <td>160.637302</td>\n",
       "    </tr>\n",
       "  </tbody>\n",
       "</table>\n",
       "</div>"
      ],
      "text/plain": [
       "          id        f0        f1         f2     product\n",
       "7530   HZww2  1.061194 -0.373969  10.430210  158.828695\n",
       "41724  bxg6G -0.823752  0.546319   3.630479   93.007798\n",
       "51970  A5aEY -0.180335  0.935548  -2.094773   33.020205\n",
       "63593  QcMuo  0.635635 -0.473422   0.862670   64.578675\n",
       "66136  74z30  1.084962 -0.312358   6.990771  127.643327\n",
       "69163  AGS9W -0.933795  0.116194  -3.655896   19.230453\n",
       "75715  Tdehs  0.112079  0.430296   3.218993   60.964018\n",
       "90815  fiKDv  0.049883  0.841313   6.394613  137.346586\n",
       "92341  TtcGQ  0.110711  1.022689   0.911381  101.318008\n",
       "97785  bsk9y  0.378429  0.005837   0.160827  160.637302"
      ]
     },
     "execution_count": 21,
     "metadata": {},
     "output_type": "execute_result"
    }
   ],
   "source": [
    "region_geo_0.loc[region_geo_0.duplicated(subset=['id'])]"
   ]
  },
  {
   "cell_type": "code",
   "execution_count": 22,
   "metadata": {},
   "outputs": [
    {
     "name": "stdout",
     "output_type": "stream",
     "text": [
      "Процент повторяющихся идентификаторов 200.0%\n"
     ]
    }
   ],
   "source": [
    "count_duplicated(region_geo_0)"
   ]
  },
  {
   "cell_type": "markdown",
   "metadata": {},
   "source": [
    "Довольно странно, что сущестувуют дубликаты для скважин. Поскольку это уникальный идентификатор скважин, и данные вероятно получены за определенный период, дублирующиеся скважины уберем из датасетов и проверим остальные данные на дублирующиеся скважины."
   ]
  },
  {
   "cell_type": "code",
   "execution_count": 23,
   "metadata": {},
   "outputs": [],
   "source": [
    "region_geo_0.drop_duplicates(subset=['id'], inplace=True)"
   ]
  },
  {
   "cell_type": "code",
   "execution_count": 24,
   "metadata": {},
   "outputs": [],
   "source": [
    "def duplicates_features_product(data: pd.DataFrame) -> None:\n",
    "    features = data.loc[data.duplicated(subset=['f0', 'f1', 'f2'])].count()\n",
    "    product = data.loc[data.duplicated(subset=['product'])].count()\n",
    "    print(f'Duplicated data features: \\n{features}\\nDuplicated data product:\\n{product}')"
   ]
  },
  {
   "cell_type": "code",
   "execution_count": 25,
   "metadata": {},
   "outputs": [
    {
     "name": "stdout",
     "output_type": "stream",
     "text": [
      "Duplicated data features: \n",
      "id         0\n",
      "f0         0\n",
      "f1         0\n",
      "f2         0\n",
      "product    0\n",
      "dtype: int64\n",
      "Duplicated data product:\n",
      "id         0\n",
      "f0         0\n",
      "f1         0\n",
      "f2         0\n",
      "product    0\n",
      "dtype: int64\n"
     ]
    }
   ],
   "source": [
    "duplicates_features_product(region_geo_0)"
   ]
  },
  {
   "cell_type": "markdown",
   "metadata": {},
   "source": [
    "Повторяющийхся данных по признакам точек, а также по объему запасов в скважине не обнаружено"
   ]
  },
  {
   "cell_type": "markdown",
   "metadata": {},
   "source": [
    "### Рассмотрим датасет про второй регион"
   ]
  },
  {
   "cell_type": "code",
   "execution_count": 26,
   "metadata": {},
   "outputs": [
    {
     "name": "stdout",
     "output_type": "stream",
     "text": [
      "Info about data:\n",
      "<class 'pandas.core.frame.DataFrame'>\n",
      "RangeIndex: 100000 entries, 0 to 99999\n",
      "Data columns (total 5 columns):\n",
      " #   Column   Non-Null Count   Dtype  \n",
      "---  ------   --------------   -----  \n",
      " 0   id       100000 non-null  object \n",
      " 1   f0       100000 non-null  float64\n",
      " 2   f1       100000 non-null  float64\n",
      " 3   f2       100000 non-null  float64\n",
      " 4   product  100000 non-null  float64\n",
      "dtypes: float64(4), object(1)\n",
      "memory usage: 3.8+ MB\n",
      "\n",
      "Info about missing data:\n",
      " id         0\n",
      "f0         0\n",
      "f1         0\n",
      "f2         0\n",
      "product    0\n",
      "dtype: int64\n",
      "\n",
      "Info about duplicates:\n",
      " 0\n"
     ]
    }
   ],
   "source": [
    "get_info(region_geo_1)"
   ]
  },
  {
   "cell_type": "code",
   "execution_count": 27,
   "metadata": {},
   "outputs": [
    {
     "data": {
      "text/html": [
       "<div>\n",
       "<style scoped>\n",
       "    .dataframe tbody tr th:only-of-type {\n",
       "        vertical-align: middle;\n",
       "    }\n",
       "\n",
       "    .dataframe tbody tr th {\n",
       "        vertical-align: top;\n",
       "    }\n",
       "\n",
       "    .dataframe thead th {\n",
       "        text-align: right;\n",
       "    }\n",
       "</style>\n",
       "<table border=\"1\" class=\"dataframe\">\n",
       "  <thead>\n",
       "    <tr style=\"text-align: right;\">\n",
       "      <th></th>\n",
       "      <th>id</th>\n",
       "      <th>f0</th>\n",
       "      <th>f1</th>\n",
       "      <th>f2</th>\n",
       "      <th>product</th>\n",
       "    </tr>\n",
       "  </thead>\n",
       "  <tbody>\n",
       "    <tr>\n",
       "      <th>58567</th>\n",
       "      <td>SB73M</td>\n",
       "      <td>1.390099</td>\n",
       "      <td>0.071042</td>\n",
       "      <td>5.002155</td>\n",
       "      <td>137.945408</td>\n",
       "    </tr>\n",
       "    <tr>\n",
       "      <th>7781</th>\n",
       "      <td>DJ9Jp</td>\n",
       "      <td>-12.692365</td>\n",
       "      <td>-3.987592</td>\n",
       "      <td>2.994031</td>\n",
       "      <td>84.038886</td>\n",
       "    </tr>\n",
       "    <tr>\n",
       "      <th>90844</th>\n",
       "      <td>o4jzs</td>\n",
       "      <td>-8.768813</td>\n",
       "      <td>-8.360652</td>\n",
       "      <td>1.999538</td>\n",
       "      <td>57.085625</td>\n",
       "    </tr>\n",
       "    <tr>\n",
       "      <th>35056</th>\n",
       "      <td>UIxvP</td>\n",
       "      <td>-15.444129</td>\n",
       "      <td>-2.555268</td>\n",
       "      <td>1.000488</td>\n",
       "      <td>30.132364</td>\n",
       "    </tr>\n",
       "    <tr>\n",
       "      <th>49670</th>\n",
       "      <td>t9nDV</td>\n",
       "      <td>-5.523133</td>\n",
       "      <td>-7.672688</td>\n",
       "      <td>2.998438</td>\n",
       "      <td>84.038886</td>\n",
       "    </tr>\n",
       "  </tbody>\n",
       "</table>\n",
       "</div>"
      ],
      "text/plain": [
       "          id         f0        f1        f2     product\n",
       "58567  SB73M   1.390099  0.071042  5.002155  137.945408\n",
       "7781   DJ9Jp -12.692365 -3.987592  2.994031   84.038886\n",
       "90844  o4jzs  -8.768813 -8.360652  1.999538   57.085625\n",
       "35056  UIxvP -15.444129 -2.555268  1.000488   30.132364\n",
       "49670  t9nDV  -5.523133 -7.672688  2.998438   84.038886"
      ]
     },
     "execution_count": 27,
     "metadata": {},
     "output_type": "execute_result"
    }
   ],
   "source": [
    "region_geo_1.sample(5)"
   ]
  },
  {
   "cell_type": "code",
   "execution_count": 28,
   "metadata": {},
   "outputs": [
    {
     "data": {
      "text/html": [
       "<div>\n",
       "<style scoped>\n",
       "    .dataframe tbody tr th:only-of-type {\n",
       "        vertical-align: middle;\n",
       "    }\n",
       "\n",
       "    .dataframe tbody tr th {\n",
       "        vertical-align: top;\n",
       "    }\n",
       "\n",
       "    .dataframe thead th {\n",
       "        text-align: right;\n",
       "    }\n",
       "</style>\n",
       "<table border=\"1\" class=\"dataframe\">\n",
       "  <thead>\n",
       "    <tr style=\"text-align: right;\">\n",
       "      <th></th>\n",
       "      <th>id</th>\n",
       "      <th>f0</th>\n",
       "      <th>f1</th>\n",
       "      <th>f2</th>\n",
       "      <th>product</th>\n",
       "    </tr>\n",
       "  </thead>\n",
       "  <tbody>\n",
       "    <tr>\n",
       "      <th>0</th>\n",
       "      <td>kBEdx</td>\n",
       "      <td>-15.001348</td>\n",
       "      <td>-8.276000</td>\n",
       "      <td>-0.005876</td>\n",
       "      <td>3.179103</td>\n",
       "    </tr>\n",
       "    <tr>\n",
       "      <th>1</th>\n",
       "      <td>62mP7</td>\n",
       "      <td>14.272088</td>\n",
       "      <td>-3.475083</td>\n",
       "      <td>0.999183</td>\n",
       "      <td>26.953261</td>\n",
       "    </tr>\n",
       "    <tr>\n",
       "      <th>2</th>\n",
       "      <td>vyE1P</td>\n",
       "      <td>6.263187</td>\n",
       "      <td>-5.948386</td>\n",
       "      <td>5.001160</td>\n",
       "      <td>134.766305</td>\n",
       "    </tr>\n",
       "    <tr>\n",
       "      <th>3</th>\n",
       "      <td>KcrkZ</td>\n",
       "      <td>-13.081196</td>\n",
       "      <td>-11.506057</td>\n",
       "      <td>4.999415</td>\n",
       "      <td>137.945408</td>\n",
       "    </tr>\n",
       "    <tr>\n",
       "      <th>4</th>\n",
       "      <td>AHL4O</td>\n",
       "      <td>12.702195</td>\n",
       "      <td>-8.147433</td>\n",
       "      <td>5.004363</td>\n",
       "      <td>134.766305</td>\n",
       "    </tr>\n",
       "  </tbody>\n",
       "</table>\n",
       "</div>"
      ],
      "text/plain": [
       "      id         f0         f1        f2     product\n",
       "0  kBEdx -15.001348  -8.276000 -0.005876    3.179103\n",
       "1  62mP7  14.272088  -3.475083  0.999183   26.953261\n",
       "2  vyE1P   6.263187  -5.948386  5.001160  134.766305\n",
       "3  KcrkZ -13.081196 -11.506057  4.999415  137.945408\n",
       "4  AHL4O  12.702195  -8.147433  5.004363  134.766305"
      ]
     },
     "execution_count": 28,
     "metadata": {},
     "output_type": "execute_result"
    }
   ],
   "source": [
    "region_geo_1.head()"
   ]
  },
  {
   "cell_type": "code",
   "execution_count": 29,
   "metadata": {},
   "outputs": [
    {
     "data": {
      "text/html": [
       "<div>\n",
       "<style scoped>\n",
       "    .dataframe tbody tr th:only-of-type {\n",
       "        vertical-align: middle;\n",
       "    }\n",
       "\n",
       "    .dataframe tbody tr th {\n",
       "        vertical-align: top;\n",
       "    }\n",
       "\n",
       "    .dataframe thead th {\n",
       "        text-align: right;\n",
       "    }\n",
       "</style>\n",
       "<table border=\"1\" class=\"dataframe\">\n",
       "  <thead>\n",
       "    <tr style=\"text-align: right;\">\n",
       "      <th></th>\n",
       "      <th>id</th>\n",
       "      <th>f0</th>\n",
       "      <th>f1</th>\n",
       "      <th>f2</th>\n",
       "      <th>product</th>\n",
       "    </tr>\n",
       "  </thead>\n",
       "  <tbody>\n",
       "    <tr>\n",
       "      <th>41906</th>\n",
       "      <td>LHZR0</td>\n",
       "      <td>-8.989672</td>\n",
       "      <td>-4.286607</td>\n",
       "      <td>2.009139</td>\n",
       "      <td>57.085625</td>\n",
       "    </tr>\n",
       "    <tr>\n",
       "      <th>82178</th>\n",
       "      <td>bfPNe</td>\n",
       "      <td>-6.202799</td>\n",
       "      <td>-4.820045</td>\n",
       "      <td>2.995107</td>\n",
       "      <td>84.038886</td>\n",
       "    </tr>\n",
       "    <tr>\n",
       "      <th>82873</th>\n",
       "      <td>wt4Uk</td>\n",
       "      <td>10.259972</td>\n",
       "      <td>-9.376355</td>\n",
       "      <td>4.994297</td>\n",
       "      <td>134.766305</td>\n",
       "    </tr>\n",
       "    <tr>\n",
       "      <th>84461</th>\n",
       "      <td>5ltQ6</td>\n",
       "      <td>18.213839</td>\n",
       "      <td>2.191999</td>\n",
       "      <td>3.993869</td>\n",
       "      <td>107.813044</td>\n",
       "    </tr>\n",
       "  </tbody>\n",
       "</table>\n",
       "</div>"
      ],
      "text/plain": [
       "          id         f0        f1        f2     product\n",
       "41906  LHZR0  -8.989672 -4.286607  2.009139   57.085625\n",
       "82178  bfPNe  -6.202799 -4.820045  2.995107   84.038886\n",
       "82873  wt4Uk  10.259972 -9.376355  4.994297  134.766305\n",
       "84461  5ltQ6  18.213839  2.191999  3.993869  107.813044"
      ]
     },
     "execution_count": 29,
     "metadata": {},
     "output_type": "execute_result"
    }
   ],
   "source": [
    "region_geo_1.loc[region_geo_1.duplicated(subset=['id'])]"
   ]
  },
  {
   "cell_type": "code",
   "execution_count": 30,
   "metadata": {},
   "outputs": [
    {
     "name": "stdout",
     "output_type": "stream",
     "text": [
      "Процент повторяющихся идентификаторов 80.0%\n"
     ]
    }
   ],
   "source": [
    "count_duplicated(region_geo_1)"
   ]
  },
  {
   "cell_type": "markdown",
   "metadata": {},
   "source": [
    "Во втором регионе также присутствуют дубликаты скважин, их уникальные идентификаторы не повторяются, что вполне логично. Дубликтов меньше, чем в пером регионе и они составляют малую долю от общего количества данных, поэтому их можно также удалить"
   ]
  },
  {
   "cell_type": "code",
   "execution_count": 31,
   "metadata": {},
   "outputs": [],
   "source": [
    "region_geo_1.drop_duplicates(subset=['id'], inplace=True)"
   ]
  },
  {
   "cell_type": "code",
   "execution_count": 32,
   "metadata": {},
   "outputs": [
    {
     "name": "stdout",
     "output_type": "stream",
     "text": [
      "Duplicated data features: \n",
      "id         0\n",
      "f0         0\n",
      "f1         0\n",
      "f2         0\n",
      "product    0\n",
      "dtype: int64\n",
      "Duplicated data product:\n",
      "id         99984\n",
      "f0         99984\n",
      "f1         99984\n",
      "f2         99984\n",
      "product    99984\n",
      "dtype: int64\n"
     ]
    }
   ],
   "source": [
    "duplicates_features_product(region_geo_1)"
   ]
  },
  {
   "cell_type": "code",
   "execution_count": 33,
   "metadata": {},
   "outputs": [
    {
     "data": {
      "text/html": [
       "<div>\n",
       "<style scoped>\n",
       "    .dataframe tbody tr th:only-of-type {\n",
       "        vertical-align: middle;\n",
       "    }\n",
       "\n",
       "    .dataframe tbody tr th {\n",
       "        vertical-align: top;\n",
       "    }\n",
       "\n",
       "    .dataframe thead th {\n",
       "        text-align: right;\n",
       "    }\n",
       "</style>\n",
       "<table border=\"1\" class=\"dataframe\">\n",
       "  <thead>\n",
       "    <tr style=\"text-align: right;\">\n",
       "      <th></th>\n",
       "      <th>id</th>\n",
       "      <th>f0</th>\n",
       "      <th>f1</th>\n",
       "      <th>f2</th>\n",
       "      <th>product</th>\n",
       "    </tr>\n",
       "  </thead>\n",
       "  <tbody>\n",
       "    <tr>\n",
       "      <th>4</th>\n",
       "      <td>AHL4O</td>\n",
       "      <td>12.702195</td>\n",
       "      <td>-8.147433</td>\n",
       "      <td>5.004363</td>\n",
       "      <td>134.766305</td>\n",
       "    </tr>\n",
       "    <tr>\n",
       "      <th>8</th>\n",
       "      <td>YiRkx</td>\n",
       "      <td>13.355129</td>\n",
       "      <td>-0.332068</td>\n",
       "      <td>4.998647</td>\n",
       "      <td>134.766305</td>\n",
       "    </tr>\n",
       "    <tr>\n",
       "      <th>9</th>\n",
       "      <td>jG6Gi</td>\n",
       "      <td>1.069227</td>\n",
       "      <td>-11.025667</td>\n",
       "      <td>4.997844</td>\n",
       "      <td>137.945408</td>\n",
       "    </tr>\n",
       "    <tr>\n",
       "      <th>10</th>\n",
       "      <td>7uHUe</td>\n",
       "      <td>11.777049</td>\n",
       "      <td>-5.334084</td>\n",
       "      <td>2.003033</td>\n",
       "      <td>53.906522</td>\n",
       "    </tr>\n",
       "    <tr>\n",
       "      <th>13</th>\n",
       "      <td>igmai</td>\n",
       "      <td>6.695604</td>\n",
       "      <td>-0.749449</td>\n",
       "      <td>-0.007630</td>\n",
       "      <td>0.000000</td>\n",
       "    </tr>\n",
       "    <tr>\n",
       "      <th>...</th>\n",
       "      <td>...</td>\n",
       "      <td>...</td>\n",
       "      <td>...</td>\n",
       "      <td>...</td>\n",
       "      <td>...</td>\n",
       "    </tr>\n",
       "    <tr>\n",
       "      <th>99995</th>\n",
       "      <td>QywKC</td>\n",
       "      <td>9.535637</td>\n",
       "      <td>-6.878139</td>\n",
       "      <td>1.998296</td>\n",
       "      <td>53.906522</td>\n",
       "    </tr>\n",
       "    <tr>\n",
       "      <th>99996</th>\n",
       "      <td>ptvty</td>\n",
       "      <td>-10.160631</td>\n",
       "      <td>-12.558096</td>\n",
       "      <td>5.005581</td>\n",
       "      <td>137.945408</td>\n",
       "    </tr>\n",
       "    <tr>\n",
       "      <th>99997</th>\n",
       "      <td>09gWa</td>\n",
       "      <td>-7.378891</td>\n",
       "      <td>-3.084104</td>\n",
       "      <td>4.998651</td>\n",
       "      <td>137.945408</td>\n",
       "    </tr>\n",
       "    <tr>\n",
       "      <th>99998</th>\n",
       "      <td>rqwUm</td>\n",
       "      <td>0.665714</td>\n",
       "      <td>-6.152593</td>\n",
       "      <td>1.000146</td>\n",
       "      <td>30.132364</td>\n",
       "    </tr>\n",
       "    <tr>\n",
       "      <th>99999</th>\n",
       "      <td>relB0</td>\n",
       "      <td>-3.426139</td>\n",
       "      <td>-7.794274</td>\n",
       "      <td>-0.003299</td>\n",
       "      <td>3.179103</td>\n",
       "    </tr>\n",
       "  </tbody>\n",
       "</table>\n",
       "<p>99984 rows × 5 columns</p>\n",
       "</div>"
      ],
      "text/plain": [
       "          id         f0         f1        f2     product\n",
       "4      AHL4O  12.702195  -8.147433  5.004363  134.766305\n",
       "8      YiRkx  13.355129  -0.332068  4.998647  134.766305\n",
       "9      jG6Gi   1.069227 -11.025667  4.997844  137.945408\n",
       "10     7uHUe  11.777049  -5.334084  2.003033   53.906522\n",
       "13     igmai   6.695604  -0.749449 -0.007630    0.000000\n",
       "...      ...        ...        ...       ...         ...\n",
       "99995  QywKC   9.535637  -6.878139  1.998296   53.906522\n",
       "99996  ptvty -10.160631 -12.558096  5.005581  137.945408\n",
       "99997  09gWa  -7.378891  -3.084104  4.998651  137.945408\n",
       "99998  rqwUm   0.665714  -6.152593  1.000146   30.132364\n",
       "99999  relB0  -3.426139  -7.794274 -0.003299    3.179103\n",
       "\n",
       "[99984 rows x 5 columns]"
      ]
     },
     "execution_count": 33,
     "metadata": {},
     "output_type": "execute_result"
    }
   ],
   "source": [
    "region_geo_1.loc[region_geo_1.duplicated(subset=['product'])]"
   ]
  },
  {
   "cell_type": "markdown",
   "metadata": {},
   "source": [
    "Вероятно из-за того, что данные синтезированы, во втором регионе есть дубликаты по запасам в скважине. Эти данные оставим как есть"
   ]
  },
  {
   "cell_type": "markdown",
   "metadata": {},
   "source": [
    "### Рассмотрим данные для третьего региона"
   ]
  },
  {
   "cell_type": "code",
   "execution_count": 34,
   "metadata": {},
   "outputs": [
    {
     "name": "stdout",
     "output_type": "stream",
     "text": [
      "Info about data:\n",
      "<class 'pandas.core.frame.DataFrame'>\n",
      "RangeIndex: 100000 entries, 0 to 99999\n",
      "Data columns (total 5 columns):\n",
      " #   Column   Non-Null Count   Dtype  \n",
      "---  ------   --------------   -----  \n",
      " 0   id       100000 non-null  object \n",
      " 1   f0       100000 non-null  float64\n",
      " 2   f1       100000 non-null  float64\n",
      " 3   f2       100000 non-null  float64\n",
      " 4   product  100000 non-null  float64\n",
      "dtypes: float64(4), object(1)\n",
      "memory usage: 3.8+ MB\n",
      "\n",
      "Info about missing data:\n",
      " id         0\n",
      "f0         0\n",
      "f1         0\n",
      "f2         0\n",
      "product    0\n",
      "dtype: int64\n",
      "\n",
      "Info about duplicates:\n",
      " 0\n"
     ]
    }
   ],
   "source": [
    "get_info(region_geo_2)"
   ]
  },
  {
   "cell_type": "code",
   "execution_count": 35,
   "metadata": {},
   "outputs": [
    {
     "data": {
      "text/html": [
       "<div>\n",
       "<style scoped>\n",
       "    .dataframe tbody tr th:only-of-type {\n",
       "        vertical-align: middle;\n",
       "    }\n",
       "\n",
       "    .dataframe tbody tr th {\n",
       "        vertical-align: top;\n",
       "    }\n",
       "\n",
       "    .dataframe thead th {\n",
       "        text-align: right;\n",
       "    }\n",
       "</style>\n",
       "<table border=\"1\" class=\"dataframe\">\n",
       "  <thead>\n",
       "    <tr style=\"text-align: right;\">\n",
       "      <th></th>\n",
       "      <th>id</th>\n",
       "      <th>f0</th>\n",
       "      <th>f1</th>\n",
       "      <th>f2</th>\n",
       "      <th>product</th>\n",
       "    </tr>\n",
       "  </thead>\n",
       "  <tbody>\n",
       "    <tr>\n",
       "      <th>64120</th>\n",
       "      <td>Z98h6</td>\n",
       "      <td>3.073050</td>\n",
       "      <td>1.729401</td>\n",
       "      <td>2.563300</td>\n",
       "      <td>186.923754</td>\n",
       "    </tr>\n",
       "    <tr>\n",
       "      <th>87550</th>\n",
       "      <td>1pX2b</td>\n",
       "      <td>-0.855153</td>\n",
       "      <td>-2.285856</td>\n",
       "      <td>-0.393036</td>\n",
       "      <td>53.855903</td>\n",
       "    </tr>\n",
       "    <tr>\n",
       "      <th>8832</th>\n",
       "      <td>P7Mul</td>\n",
       "      <td>-1.758736</td>\n",
       "      <td>1.142332</td>\n",
       "      <td>2.820531</td>\n",
       "      <td>96.070275</td>\n",
       "    </tr>\n",
       "    <tr>\n",
       "      <th>74478</th>\n",
       "      <td>AIzxA</td>\n",
       "      <td>-0.077526</td>\n",
       "      <td>-0.653167</td>\n",
       "      <td>-1.772690</td>\n",
       "      <td>89.914064</td>\n",
       "    </tr>\n",
       "    <tr>\n",
       "      <th>52055</th>\n",
       "      <td>oLjAU</td>\n",
       "      <td>-3.657134</td>\n",
       "      <td>1.024838</td>\n",
       "      <td>-5.233848</td>\n",
       "      <td>77.388177</td>\n",
       "    </tr>\n",
       "  </tbody>\n",
       "</table>\n",
       "</div>"
      ],
      "text/plain": [
       "          id        f0        f1        f2     product\n",
       "64120  Z98h6  3.073050  1.729401  2.563300  186.923754\n",
       "87550  1pX2b -0.855153 -2.285856 -0.393036   53.855903\n",
       "8832   P7Mul -1.758736  1.142332  2.820531   96.070275\n",
       "74478  AIzxA -0.077526 -0.653167 -1.772690   89.914064\n",
       "52055  oLjAU -3.657134  1.024838 -5.233848   77.388177"
      ]
     },
     "execution_count": 35,
     "metadata": {},
     "output_type": "execute_result"
    }
   ],
   "source": [
    "region_geo_2.sample(5)"
   ]
  },
  {
   "cell_type": "code",
   "execution_count": 36,
   "metadata": {},
   "outputs": [
    {
     "data": {
      "text/html": [
       "<div>\n",
       "<style scoped>\n",
       "    .dataframe tbody tr th:only-of-type {\n",
       "        vertical-align: middle;\n",
       "    }\n",
       "\n",
       "    .dataframe tbody tr th {\n",
       "        vertical-align: top;\n",
       "    }\n",
       "\n",
       "    .dataframe thead th {\n",
       "        text-align: right;\n",
       "    }\n",
       "</style>\n",
       "<table border=\"1\" class=\"dataframe\">\n",
       "  <thead>\n",
       "    <tr style=\"text-align: right;\">\n",
       "      <th></th>\n",
       "      <th>id</th>\n",
       "      <th>f0</th>\n",
       "      <th>f1</th>\n",
       "      <th>f2</th>\n",
       "      <th>product</th>\n",
       "    </tr>\n",
       "  </thead>\n",
       "  <tbody>\n",
       "    <tr>\n",
       "      <th>0</th>\n",
       "      <td>fwXo0</td>\n",
       "      <td>-1.146987</td>\n",
       "      <td>0.963328</td>\n",
       "      <td>-0.828965</td>\n",
       "      <td>27.758673</td>\n",
       "    </tr>\n",
       "    <tr>\n",
       "      <th>1</th>\n",
       "      <td>WJtFt</td>\n",
       "      <td>0.262778</td>\n",
       "      <td>0.269839</td>\n",
       "      <td>-2.530187</td>\n",
       "      <td>56.069697</td>\n",
       "    </tr>\n",
       "    <tr>\n",
       "      <th>2</th>\n",
       "      <td>ovLUW</td>\n",
       "      <td>0.194587</td>\n",
       "      <td>0.289035</td>\n",
       "      <td>-5.586433</td>\n",
       "      <td>62.871910</td>\n",
       "    </tr>\n",
       "    <tr>\n",
       "      <th>3</th>\n",
       "      <td>q6cA6</td>\n",
       "      <td>2.236060</td>\n",
       "      <td>-0.553760</td>\n",
       "      <td>0.930038</td>\n",
       "      <td>114.572842</td>\n",
       "    </tr>\n",
       "    <tr>\n",
       "      <th>4</th>\n",
       "      <td>WPMUX</td>\n",
       "      <td>-0.515993</td>\n",
       "      <td>1.716266</td>\n",
       "      <td>5.899011</td>\n",
       "      <td>149.600746</td>\n",
       "    </tr>\n",
       "  </tbody>\n",
       "</table>\n",
       "</div>"
      ],
      "text/plain": [
       "      id        f0        f1        f2     product\n",
       "0  fwXo0 -1.146987  0.963328 -0.828965   27.758673\n",
       "1  WJtFt  0.262778  0.269839 -2.530187   56.069697\n",
       "2  ovLUW  0.194587  0.289035 -5.586433   62.871910\n",
       "3  q6cA6  2.236060 -0.553760  0.930038  114.572842\n",
       "4  WPMUX -0.515993  1.716266  5.899011  149.600746"
      ]
     },
     "execution_count": 36,
     "metadata": {},
     "output_type": "execute_result"
    }
   ],
   "source": [
    "region_geo_2.head()"
   ]
  },
  {
   "cell_type": "code",
   "execution_count": 37,
   "metadata": {},
   "outputs": [
    {
     "data": {
      "text/html": [
       "<div>\n",
       "<style scoped>\n",
       "    .dataframe tbody tr th:only-of-type {\n",
       "        vertical-align: middle;\n",
       "    }\n",
       "\n",
       "    .dataframe tbody tr th {\n",
       "        vertical-align: top;\n",
       "    }\n",
       "\n",
       "    .dataframe thead th {\n",
       "        text-align: right;\n",
       "    }\n",
       "</style>\n",
       "<table border=\"1\" class=\"dataframe\">\n",
       "  <thead>\n",
       "    <tr style=\"text-align: right;\">\n",
       "      <th></th>\n",
       "      <th>id</th>\n",
       "      <th>f0</th>\n",
       "      <th>f1</th>\n",
       "      <th>f2</th>\n",
       "      <th>product</th>\n",
       "    </tr>\n",
       "  </thead>\n",
       "  <tbody>\n",
       "    <tr>\n",
       "      <th>43233</th>\n",
       "      <td>xCHr8</td>\n",
       "      <td>-0.847066</td>\n",
       "      <td>2.101796</td>\n",
       "      <td>5.597130</td>\n",
       "      <td>184.388641</td>\n",
       "    </tr>\n",
       "    <tr>\n",
       "      <th>49564</th>\n",
       "      <td>VF7Jo</td>\n",
       "      <td>-0.883115</td>\n",
       "      <td>0.560537</td>\n",
       "      <td>0.723601</td>\n",
       "      <td>136.233420</td>\n",
       "    </tr>\n",
       "    <tr>\n",
       "      <th>55967</th>\n",
       "      <td>KUPhW</td>\n",
       "      <td>1.211150</td>\n",
       "      <td>3.176408</td>\n",
       "      <td>5.543540</td>\n",
       "      <td>132.831802</td>\n",
       "    </tr>\n",
       "    <tr>\n",
       "      <th>95090</th>\n",
       "      <td>Vcm5J</td>\n",
       "      <td>2.587702</td>\n",
       "      <td>1.986875</td>\n",
       "      <td>2.482245</td>\n",
       "      <td>92.327572</td>\n",
       "    </tr>\n",
       "  </tbody>\n",
       "</table>\n",
       "</div>"
      ],
      "text/plain": [
       "          id        f0        f1        f2     product\n",
       "43233  xCHr8 -0.847066  2.101796  5.597130  184.388641\n",
       "49564  VF7Jo -0.883115  0.560537  0.723601  136.233420\n",
       "55967  KUPhW  1.211150  3.176408  5.543540  132.831802\n",
       "95090  Vcm5J  2.587702  1.986875  2.482245   92.327572"
      ]
     },
     "execution_count": 37,
     "metadata": {},
     "output_type": "execute_result"
    }
   ],
   "source": [
    "region_geo_2.loc[region_geo_2.duplicated(subset=['id'])]"
   ]
  },
  {
   "cell_type": "markdown",
   "metadata": {},
   "source": [
    "В третьем регионе также пристутствует незначительное количество дубликтов с одинаковым идентификаторам по скважинам. Их доля составляет малую часть, поэтому их можно удалить, чтобы данные оставались \"чистыми\""
   ]
  },
  {
   "cell_type": "code",
   "execution_count": 38,
   "metadata": {},
   "outputs": [
    {
     "name": "stdout",
     "output_type": "stream",
     "text": [
      "Duplicated data features: \n",
      "id         0\n",
      "f0         0\n",
      "f1         0\n",
      "f2         0\n",
      "product    0\n",
      "dtype: int64\n",
      "Duplicated data product:\n",
      "id         0\n",
      "f0         0\n",
      "f1         0\n",
      "f2         0\n",
      "product    0\n",
      "dtype: int64\n"
     ]
    }
   ],
   "source": [
    "duplicates_features_product(region_geo_2)"
   ]
  },
  {
   "cell_type": "markdown",
   "metadata": {},
   "source": [
    "В третьем регионе не обнаружено повторящихся признаков скважин или запасам скважины."
   ]
  },
  {
   "cell_type": "markdown",
   "metadata": {},
   "source": [
    "**Вывод**:\n",
    "- Были проанализированны датасеты с данными. Среди записей таблицы были обнаружены дубликаты по уникальным идентификаторам скважин, были принято решение удалить эти данные. Всего было удалено 18 записей\n",
    "- В данных второго региона были обнаружены дубликаты в данных по признакам `f1`, `f2`, `f0`, те есть данные повторяются в почти 50 процентов случаев."
   ]
  },
  {
   "cell_type": "markdown",
   "metadata": {},
   "source": [
    "### Проведем исследовательский анализ для всех трех регионов"
   ]
  },
  {
   "cell_type": "code",
   "execution_count": 39,
   "metadata": {},
   "outputs": [],
   "source": [
    "def numerical_plot(df: pd.DataFrame, title: str, features: dict):\n",
    "    '''\n",
    "    function for plotting numerical distribution\n",
    "    params: df: dataframe for research\n",
    "            tltle: name for plot title\n",
    "            features: dict of features to research, keys - eng, values - ru for captions\n",
    "    '''\n",
    "    print(f'Графики количественных признаков для {title}')\n",
    "    for feature, feat_ru in features.items():\n",
    "        fig, axes = plt.subplots(1, 2, figsize=(18, 5))\n",
    "        sns.histplot(data=df, x=feature, kde=True, ax=axes[0], bins=round(log((len(df[feature].unique()) + 1))*2, ))\n",
    "        sns.boxplot(data=df, x=feature, ax=axes[1])\n",
    "        fig.suptitle(f'Распределение для {feat_ru}')\n",
    "        for num in range(2):\n",
    "            axes[num].set_ylabel('Количество')\n",
    "            axes[num].set_xlabel(feat_ru)"
   ]
  },
  {
   "cell_type": "code",
   "execution_count": 40,
   "metadata": {},
   "outputs": [],
   "source": [
    "numerical_features = {\n",
    "    'f0': 'Признак 1',\n",
    "    'f1': 'Признак 2',\n",
    "    'f2': 'Признак 3',\n",
    "    'product': 'объём запасов в скважине'\n",
    "}"
   ]
  },
  {
   "cell_type": "markdown",
   "metadata": {},
   "source": [
    "#### Анализ для первого региона"
   ]
  },
  {
   "cell_type": "code",
   "execution_count": 41,
   "metadata": {},
   "outputs": [
    {
     "data": {
      "text/html": [
       "<div>\n",
       "<style scoped>\n",
       "    .dataframe tbody tr th:only-of-type {\n",
       "        vertical-align: middle;\n",
       "    }\n",
       "\n",
       "    .dataframe tbody tr th {\n",
       "        vertical-align: top;\n",
       "    }\n",
       "\n",
       "    .dataframe thead th {\n",
       "        text-align: right;\n",
       "    }\n",
       "</style>\n",
       "<table border=\"1\" class=\"dataframe\">\n",
       "  <thead>\n",
       "    <tr style=\"text-align: right;\">\n",
       "      <th></th>\n",
       "      <th>f0</th>\n",
       "      <th>f1</th>\n",
       "      <th>f2</th>\n",
       "      <th>product</th>\n",
       "    </tr>\n",
       "  </thead>\n",
       "  <tbody>\n",
       "    <tr>\n",
       "      <th>count</th>\n",
       "      <td>99990.000000</td>\n",
       "      <td>99990.000000</td>\n",
       "      <td>99990.000000</td>\n",
       "      <td>99990.000000</td>\n",
       "    </tr>\n",
       "    <tr>\n",
       "      <th>mean</th>\n",
       "      <td>0.500454</td>\n",
       "      <td>0.250141</td>\n",
       "      <td>2.502629</td>\n",
       "      <td>92.499684</td>\n",
       "    </tr>\n",
       "    <tr>\n",
       "      <th>std</th>\n",
       "      <td>0.871844</td>\n",
       "      <td>0.504430</td>\n",
       "      <td>3.248149</td>\n",
       "      <td>44.288304</td>\n",
       "    </tr>\n",
       "    <tr>\n",
       "      <th>min</th>\n",
       "      <td>-1.408605</td>\n",
       "      <td>-0.848218</td>\n",
       "      <td>-12.088328</td>\n",
       "      <td>0.000000</td>\n",
       "    </tr>\n",
       "    <tr>\n",
       "      <th>25%</th>\n",
       "      <td>-0.072572</td>\n",
       "      <td>-0.200877</td>\n",
       "      <td>0.287784</td>\n",
       "      <td>56.497069</td>\n",
       "    </tr>\n",
       "    <tr>\n",
       "      <th>50%</th>\n",
       "      <td>0.502405</td>\n",
       "      <td>0.250252</td>\n",
       "      <td>2.515969</td>\n",
       "      <td>91.847928</td>\n",
       "    </tr>\n",
       "    <tr>\n",
       "      <th>75%</th>\n",
       "      <td>1.073626</td>\n",
       "      <td>0.700640</td>\n",
       "      <td>4.715035</td>\n",
       "      <td>128.563699</td>\n",
       "    </tr>\n",
       "    <tr>\n",
       "      <th>max</th>\n",
       "      <td>2.362331</td>\n",
       "      <td>1.343769</td>\n",
       "      <td>16.003790</td>\n",
       "      <td>185.364347</td>\n",
       "    </tr>\n",
       "  </tbody>\n",
       "</table>\n",
       "</div>"
      ],
      "text/plain": [
       "                 f0            f1            f2       product\n",
       "count  99990.000000  99990.000000  99990.000000  99990.000000\n",
       "mean       0.500454      0.250141      2.502629     92.499684\n",
       "std        0.871844      0.504430      3.248149     44.288304\n",
       "min       -1.408605     -0.848218    -12.088328      0.000000\n",
       "25%       -0.072572     -0.200877      0.287784     56.497069\n",
       "50%        0.502405      0.250252      2.515969     91.847928\n",
       "75%        1.073626      0.700640      4.715035    128.563699\n",
       "max        2.362331      1.343769     16.003790    185.364347"
      ]
     },
     "execution_count": 41,
     "metadata": {},
     "output_type": "execute_result"
    }
   ],
   "source": [
    "region_geo_0.describe()"
   ]
  },
  {
   "cell_type": "code",
   "execution_count": 42,
   "metadata": {},
   "outputs": [
    {
     "name": "stdout",
     "output_type": "stream",
     "text": [
      "Графики количественных признаков для первого региона\n"
     ]
    },
    {
     "data": {
      "image/png": "[encoded data removed]",
      "text/plain": [
       "<Figure size 1296x360 with 2 Axes>"
      ]
     },
     "metadata": {
      "needs_background": "light"
     },
     "output_type": "display_data"
    },
    {
     "data": {
      "image/png": "[encoded data removed]",
      "text/plain": [
       "<Figure size 1296x360 with 2 Axes>"
      ]
     },
     "metadata": {
      "needs_background": "light"
     },
     "output_type": "display_data"
    },
    {
     "data": {
      "image/png": "[encoded data removed]",
      "text/plain": [
       "<Figure size 1296x360 with 2 Axes>"
      ]
     },
     "metadata": {
      "needs_background": "light"
     },
     "output_type": "display_data"
    },
    {
     "data": {
      "image/png": "[encoded data removed]",
      "text/plain": [
       "<Figure size 1296x360 with 2 Axes>"
      ]
     },
     "metadata": {
      "needs_background": "light"
     },
     "output_type": "display_data"
    }
   ],
   "source": [
    "numerical_plot(region_geo_0, 'первого региона', numerical_features)"
   ]
  },
  {
   "cell_type": "markdown",
   "metadata": {},
   "source": [
    "Данные на графике для второго признака распределены нормально, однако для остальных параметров заметны симметричные максимумы, а для объема запасов нет четкого максимума, наблюдается флуктация"
   ]
  },
  {
   "cell_type": "markdown",
   "metadata": {},
   "source": [
    "#### Анализ для второго региона"
   ]
  },
  {
   "cell_type": "code",
   "execution_count": 43,
   "metadata": {},
   "outputs": [
    {
     "data": {
      "text/html": [
       "<div>\n",
       "<style scoped>\n",
       "    .dataframe tbody tr th:only-of-type {\n",
       "        vertical-align: middle;\n",
       "    }\n",
       "\n",
       "    .dataframe tbody tr th {\n",
       "        vertical-align: top;\n",
       "    }\n",
       "\n",
       "    .dataframe thead th {\n",
       "        text-align: right;\n",
       "    }\n",
       "</style>\n",
       "<table border=\"1\" class=\"dataframe\">\n",
       "  <thead>\n",
       "    <tr style=\"text-align: right;\">\n",
       "      <th></th>\n",
       "      <th>f0</th>\n",
       "      <th>f1</th>\n",
       "      <th>f2</th>\n",
       "      <th>product</th>\n",
       "    </tr>\n",
       "  </thead>\n",
       "  <tbody>\n",
       "    <tr>\n",
       "      <th>count</th>\n",
       "      <td>99996.000000</td>\n",
       "      <td>99996.000000</td>\n",
       "      <td>99996.000000</td>\n",
       "      <td>99996.000000</td>\n",
       "    </tr>\n",
       "    <tr>\n",
       "      <th>mean</th>\n",
       "      <td>1.141209</td>\n",
       "      <td>-4.796608</td>\n",
       "      <td>2.494501</td>\n",
       "      <td>68.823916</td>\n",
       "    </tr>\n",
       "    <tr>\n",
       "      <th>std</th>\n",
       "      <td>8.965815</td>\n",
       "      <td>5.119906</td>\n",
       "      <td>1.703579</td>\n",
       "      <td>45.944663</td>\n",
       "    </tr>\n",
       "    <tr>\n",
       "      <th>min</th>\n",
       "      <td>-31.609576</td>\n",
       "      <td>-26.358598</td>\n",
       "      <td>-0.018144</td>\n",
       "      <td>0.000000</td>\n",
       "    </tr>\n",
       "    <tr>\n",
       "      <th>25%</th>\n",
       "      <td>-6.298551</td>\n",
       "      <td>-8.267985</td>\n",
       "      <td>1.000021</td>\n",
       "      <td>26.953261</td>\n",
       "    </tr>\n",
       "    <tr>\n",
       "      <th>50%</th>\n",
       "      <td>1.153055</td>\n",
       "      <td>-4.813172</td>\n",
       "      <td>2.011475</td>\n",
       "      <td>57.085625</td>\n",
       "    </tr>\n",
       "    <tr>\n",
       "      <th>75%</th>\n",
       "      <td>8.620964</td>\n",
       "      <td>-1.332816</td>\n",
       "      <td>3.999904</td>\n",
       "      <td>107.813044</td>\n",
       "    </tr>\n",
       "    <tr>\n",
       "      <th>max</th>\n",
       "      <td>29.421755</td>\n",
       "      <td>18.734063</td>\n",
       "      <td>5.019721</td>\n",
       "      <td>137.945408</td>\n",
       "    </tr>\n",
       "  </tbody>\n",
       "</table>\n",
       "</div>"
      ],
      "text/plain": [
       "                 f0            f1            f2       product\n",
       "count  99996.000000  99996.000000  99996.000000  99996.000000\n",
       "mean       1.141209     -4.796608      2.494501     68.823916\n",
       "std        8.965815      5.119906      1.703579     45.944663\n",
       "min      -31.609576    -26.358598     -0.018144      0.000000\n",
       "25%       -6.298551     -8.267985      1.000021     26.953261\n",
       "50%        1.153055     -4.813172      2.011475     57.085625\n",
       "75%        8.620964     -1.332816      3.999904    107.813044\n",
       "max       29.421755     18.734063      5.019721    137.945408"
      ]
     },
     "execution_count": 43,
     "metadata": {},
     "output_type": "execute_result"
    }
   ],
   "source": [
    "region_geo_1.describe()"
   ]
  },
  {
   "cell_type": "code",
   "execution_count": 44,
   "metadata": {},
   "outputs": [
    {
     "name": "stdout",
     "output_type": "stream",
     "text": [
      "Графики количественных признаков для второго региона\n"
     ]
    },
    {
     "data": {
      "image/png": "[encoded data removed]",
      "text/plain": [
       "<Figure size 1296x360 with 2 Axes>"
      ]
     },
     "metadata": {
      "needs_background": "light"
     },
     "output_type": "display_data"
    },
    {
     "data": {
      "image/png": "[encoded data removed]",
      "text/plain": [
       "<Figure size 1296x360 with 2 Axes>"
      ]
     },
     "metadata": {
      "needs_background": "light"
     },
     "output_type": "display_data"
    },
    {
     "data": {
      "image/png": "[encoded data removed]",
      "text/plain": [
       "<Figure size 1296x360 with 2 Axes>"
      ]
     },
     "metadata": {
      "needs_background": "light"
     },
     "output_type": "display_data"
    },
    {
     "data": {
      "image/png": "[encoded data removed]",
      "text/plain": [
       "<Figure size 1296x360 with 2 Axes>"
      ]
     },
     "metadata": {
      "needs_background": "light"
     },
     "output_type": "display_data"
    }
   ],
   "source": [
    "numerical_plot(region_geo_1, 'второго региона', numerical_features)"
   ]
  },
  {
   "cell_type": "markdown",
   "metadata": {},
   "source": [
    "Для второго региона можно отметить довольно странные распределения для третьего признака и объема запасов в скважине. По сравнению с первым регионом, данные выглядят довольно странно - нет какого-то центрального пика, данные будто размазаны по промежутку для объема запасов в скважине и для третьего признака распределены как будто дискретно."
   ]
  },
  {
   "cell_type": "markdown",
   "metadata": {},
   "source": [
    "#### Анализ третьего региона"
   ]
  },
  {
   "cell_type": "code",
   "execution_count": 45,
   "metadata": {},
   "outputs": [
    {
     "data": {
      "text/html": [
       "<div>\n",
       "<style scoped>\n",
       "    .dataframe tbody tr th:only-of-type {\n",
       "        vertical-align: middle;\n",
       "    }\n",
       "\n",
       "    .dataframe tbody tr th {\n",
       "        vertical-align: top;\n",
       "    }\n",
       "\n",
       "    .dataframe thead th {\n",
       "        text-align: right;\n",
       "    }\n",
       "</style>\n",
       "<table border=\"1\" class=\"dataframe\">\n",
       "  <thead>\n",
       "    <tr style=\"text-align: right;\">\n",
       "      <th></th>\n",
       "      <th>f0</th>\n",
       "      <th>f1</th>\n",
       "      <th>f2</th>\n",
       "      <th>product</th>\n",
       "    </tr>\n",
       "  </thead>\n",
       "  <tbody>\n",
       "    <tr>\n",
       "      <th>count</th>\n",
       "      <td>100000.000000</td>\n",
       "      <td>100000.000000</td>\n",
       "      <td>100000.000000</td>\n",
       "      <td>100000.000000</td>\n",
       "    </tr>\n",
       "    <tr>\n",
       "      <th>mean</th>\n",
       "      <td>0.002023</td>\n",
       "      <td>-0.002081</td>\n",
       "      <td>2.495128</td>\n",
       "      <td>95.000000</td>\n",
       "    </tr>\n",
       "    <tr>\n",
       "      <th>std</th>\n",
       "      <td>1.732045</td>\n",
       "      <td>1.730417</td>\n",
       "      <td>3.473445</td>\n",
       "      <td>44.749921</td>\n",
       "    </tr>\n",
       "    <tr>\n",
       "      <th>min</th>\n",
       "      <td>-8.760004</td>\n",
       "      <td>-7.084020</td>\n",
       "      <td>-11.970335</td>\n",
       "      <td>0.000000</td>\n",
       "    </tr>\n",
       "    <tr>\n",
       "      <th>25%</th>\n",
       "      <td>-1.162288</td>\n",
       "      <td>-1.174820</td>\n",
       "      <td>0.130359</td>\n",
       "      <td>59.450441</td>\n",
       "    </tr>\n",
       "    <tr>\n",
       "      <th>50%</th>\n",
       "      <td>0.009424</td>\n",
       "      <td>-0.009482</td>\n",
       "      <td>2.484236</td>\n",
       "      <td>94.925613</td>\n",
       "    </tr>\n",
       "    <tr>\n",
       "      <th>75%</th>\n",
       "      <td>1.158535</td>\n",
       "      <td>1.163678</td>\n",
       "      <td>4.858794</td>\n",
       "      <td>130.595027</td>\n",
       "    </tr>\n",
       "    <tr>\n",
       "      <th>max</th>\n",
       "      <td>7.238262</td>\n",
       "      <td>7.844801</td>\n",
       "      <td>16.739402</td>\n",
       "      <td>190.029838</td>\n",
       "    </tr>\n",
       "  </tbody>\n",
       "</table>\n",
       "</div>"
      ],
      "text/plain": [
       "                  f0             f1             f2        product\n",
       "count  100000.000000  100000.000000  100000.000000  100000.000000\n",
       "mean        0.002023      -0.002081       2.495128      95.000000\n",
       "std         1.732045       1.730417       3.473445      44.749921\n",
       "min        -8.760004      -7.084020     -11.970335       0.000000\n",
       "25%        -1.162288      -1.174820       0.130359      59.450441\n",
       "50%         0.009424      -0.009482       2.484236      94.925613\n",
       "75%         1.158535       1.163678       4.858794     130.595027\n",
       "max         7.238262       7.844801      16.739402     190.029838"
      ]
     },
     "execution_count": 45,
     "metadata": {},
     "output_type": "execute_result"
    }
   ],
   "source": [
    "region_geo_2.describe()"
   ]
  },
  {
   "cell_type": "code",
   "execution_count": 46,
   "metadata": {},
   "outputs": [
    {
     "name": "stdout",
     "output_type": "stream",
     "text": [
      "Графики количественных признаков для для третьего региона\n"
     ]
    },
    {
     "data": {
      "image/png": "[encoded data removed]",
      "text/plain": [
       "<Figure size 1296x360 with 2 Axes>"
      ]
     },
     "metadata": {
      "needs_background": "light"
     },
     "output_type": "display_data"
    },
    {
     "data": {
      "image/png": "[encoded data removed]",
      "text/plain": [
       "<Figure size 1296x360 with 2 Axes>"
      ]
     },
     "metadata": {
      "needs_background": "light"
     },
     "output_type": "display_data"
    },
    {
     "data": {
      "image/png": "[encoded data removed]",
      "text/plain": [
       "<Figure size 1296x360 with 2 Axes>"
      ]
     },
     "metadata": {
      "needs_background": "light"
     },
     "output_type": "display_data"
    },
    {
     "data": {
      "image/png": "[encoded data removed]",
      "text/plain": [
       "<Figure size 1296x360 with 2 Axes>"
      ]
     },
     "metadata": {
      "needs_background": "light"
     },
     "output_type": "display_data"
    }
   ],
   "source": [
    "numerical_plot(region_geo_2, 'для третьего региона', numerical_features)"
   ]
  },
  {
   "cell_type": "markdown",
   "metadata": {},
   "source": [
    "Для третьего региона не наблюдается каких-то аномальных распределений или выбросов, три признака распределены нормально, однако у объема запасов в скважине нет четкого максимума и распределение нельзя назвать нормальным"
   ]
  },
  {
   "cell_type": "markdown",
   "metadata": {},
   "source": [
    "**Вывод:** \n",
    "- В зависимости от региона, распределение признаков очень сильно меняется. На графиках присутствует как нормальное распределение, так и графики с аномальными выбросами."
   ]
  },
  {
   "cell_type": "markdown",
   "metadata": {},
   "source": [
    "### Проведем корреляционный анализ признаков"
   ]
  },
  {
   "cell_type": "code",
   "execution_count": 47,
   "metadata": {},
   "outputs": [],
   "source": [
    "def corr_matrix(list_data, df_name: str) -> None:\n",
    "    fig, axes = plt.subplots(1, 3, figsize=(20, 5))\n",
    "    for num, data in enumerate(list_data):\n",
    "        sns.heatmap(data.drop(columns='id').corr(method='spearman', numeric_only=True), \n",
    "                    annot=True, \n",
    "                    cmap='seismic', \n",
    "                    fmt=\".2f\",\n",
    "                    ax=axes[num]\n",
    "                    )\n",
    "        axes[num].set_title(f'для датафрейма {df_name[num]}')\n",
    "    fig.suptitle(f'Матрица корреляции количественных признаков по методу Спирмена')"
   ]
  },
  {
   "cell_type": "code",
   "execution_count": 48,
   "metadata": {},
   "outputs": [
    {
     "data": {
      "image/png": "[encoded data removed]",
      "text/plain": [
       "<Figure size 1440x360 with 6 Axes>"
      ]
     },
     "metadata": {
      "needs_background": "light"
     },
     "output_type": "display_data"
    }
   ],
   "source": [
    "\n",
    "corr_matrix([region_geo_0, region_geo_1, region_geo_2], ['первого региона', 'второго региона', 'третьего региона'])\n"
   ]
  },
  {
   "cell_type": "markdown",
   "metadata": {},
   "source": [
    "**Вывод:**\n",
    "- Для датасета второго региона обнаружена очень высокая корреляционная связь между признаком `f2` и `product` - практически равная 1. Признаки `f0` и `f1` оказывает слабое отрицательное и отсутствие влияние соответственно.\n",
    "- Для датасетов первого и третьего региона для признака `f2` наблюдается умеренная корреляция с таргетом, однако для третьего региона также наблюдается отстутствие корреляции между `f0`, `f1` и `product`, тогда как для первого региона наблюдается слабая положительная и слабая отрицательная связь для признаков `f0` и `f1` соответственно."
   ]
  },
  {
   "cell_type": "markdown",
   "metadata": {},
   "source": [
    "**Итоговый вывод по блоку:**\n",
    "- Были проанализированны датасеты с данными: для каждого региона представлены данные о трех входных признаках и таргете - объеме продукта в баррелях. Среди записей таблицы были обнаружены дубликаты по уникальным идентификаторам скважин, были принято решение удалить эти данные. Всего было удалено 18 записей. Среди данных полных дубликатов или пропусков не было обнаружено.\n",
    "- Для всех трех регионов были построены графики распределения количественных признаков:\n",
    "    - В зависимости от региона, распределение признаков очень сильно меняется. На графиках присутствует как нормальное распределение, так и графики с аномальными выбросами, крайне аномальные распределения для второго региона.\n",
    "- Была построена матрица корреляции для каждого региона:\n",
    "    - Для датасета второго региона обнаружена очень высокая корреляционная связь между признаком `f2` и `product` - практически равная 1.\n",
    "    - Для датасетов первого и третьего региона для признака `f2` наблюдается умеренная корреляция с таргетом"
   ]
  },
  {
   "cell_type": "markdown",
   "metadata": {},
   "source": [
    "## Обучение и проверка модели"
   ]
  },
  {
   "cell_type": "markdown",
   "metadata": {},
   "source": [
    "1. Данные делятся на обучающую и валидационную выборки в соотношении 75:25.\n",
    "2. Обучается модель и делаются предсказания на валидационной выборке.\n",
    "3. Предсказания и правильные ответы на валидационной выборке сохраняются.\n",
    "4. Средний запас предсказанного сырья и _RMSE_ модели выводятся на экран.\n",
    "5. Анализируются результаты."
   ]
  },
  {
   "cell_type": "code",
   "execution_count": 49,
   "metadata": {},
   "outputs": [],
   "source": [
    "preprocessor = Pipeline([('first_imputer', SimpleImputer(missing_values=np.nan, strategy='most_frequent')),\n",
    "                         ('scaler', StandardScaler()),\n",
    "                         ('last_imputer', SimpleImputer(missing_values=np.nan, strategy='most_frequent'))])\n",
    "\n",
    "full_pipeline = Pipeline([('preprocessor', preprocessor),\n",
    "                          ('model', LinearRegression())])"
   ]
  },
  {
   "cell_type": "code",
   "execution_count": 50,
   "metadata": {},
   "outputs": [],
   "source": [
    "params_grid = [\n",
    "    {\n",
    "        'model': [LinearRegression()],\n",
    "        'model__fit_intercept': [True, False],\n",
    "        'preprocessor__scaler': [MinMaxScaler(), RobustScaler(), StandardScaler(), 'passthrough']\n",
    "    },\n",
    "    {\n",
    "        'model': [Lasso(random_state=RANDOM_STATE)],\n",
    "        'model__alpha': np.logspace(-4, 1, 6),\n",
    "        'model__fit_intercept': [True, False],\n",
    "        'preprocessor__scaler': [MinMaxScaler(), RobustScaler(), StandardScaler(), 'passthrough']\n",
    "    },\n",
    "    {\n",
    "        'model': [Ridge(random_state=RANDOM_STATE)],\n",
    "        'model__alpha': np.logspace(-4, 1, 6),\n",
    "        'model__fit_intercept': [True, False],\n",
    "        'preprocessor__scaler': [MinMaxScaler(), RobustScaler(), StandardScaler(), 'passthrough']\n",
    "    },\n",
    "    {\n",
    "        'model': [ElasticNet(random_state=RANDOM_STATE)],\n",
    "        'model__alpha': np.logspace(-4, 1, 6),\n",
    "        'model__l1_ratio': np.linspace(0.1, 0.9, 9),\n",
    "        'model__fit_intercept': [True, False],\n",
    "        'preprocessor__scaler': [MinMaxScaler(), RobustScaler(), StandardScaler(), 'passthrough']\n",
    "    }\n",
    "]"
   ]
  },
  {
   "cell_type": "code",
   "execution_count": 51,
   "metadata": {},
   "outputs": [],
   "source": [
    "def create_model(X: pd.DataFrame, y: pd.Series, pipeline: Pipeline, params: list, scoring: str = 'neg_mean_squared_error') -> Pipeline:\n",
    "    reg_search = RandomizedSearchCV(pipeline,\n",
    "                                  params_grid,\n",
    "                                  cv=5,\n",
    "                                  scoring='neg_mean_squared_error',\n",
    "                                  random_state=RANDOM_STATE,\n",
    "                                  n_iter=10,\n",
    "                                  error_score='raise')\n",
    "    \n",
    "    reg_search.fit(X, y)\n",
    "    return reg_search"
   ]
  },
  {
   "cell_type": "code",
   "execution_count": 52,
   "metadata": {},
   "outputs": [],
   "source": [
    "def fit_model(data: pd.DataFrame, pipeline: Pipeline, params: list):\n",
    "    X_reg = data.set_index('id').drop(columns='product')\n",
    "    y_reg = data.set_index('id')['product']\n",
    "\n",
    "    X_train, X_valid, y_train, y_valid = train_test_split(X_reg,\n",
    "                                                          y_reg,\n",
    "                                                          test_size=0.25,\n",
    "                                                          random_state=RANDOM_STATE)\n",
    "    \n",
    "    reg_search = create_model(X_train, y_train, pipeline, params)\n",
    "    predictions = reg_search.predict(X_valid)\n",
    "    rmse = np.sqrt(mean_squared_error(y_valid, predictions))\n",
    "    \n",
    "    return rmse, predictions, y_valid, reg_search\n"
   ]
  },
  {
   "cell_type": "markdown",
   "metadata": {},
   "source": [
    "**Модель для первого региона**"
   ]
  },
  {
   "cell_type": "code",
   "execution_count": 53,
   "metadata": {},
   "outputs": [],
   "source": [
    "rmse_reg_0, predictions_reg_0, true_label_reg_0, pipeline_reg_0 = fit_model(region_geo_0, full_pipeline, params_grid)\n",
    "metrics = {'reg_0': {\"rmse\": rmse_reg_0, \n",
    "                     \"mean_predictions\": predictions_reg_0.mean(), \n",
    "                     'mean_true': true_label_reg_0.mean()}}\n",
    "values_for_all = {'reg_0': {'true': true_label_reg_0.reset_index(drop=True),\n",
    "                            'pred': predictions_reg_0}}"
   ]
  },
  {
   "cell_type": "code",
   "execution_count": 54,
   "metadata": {},
   "outputs": [
    {
     "data": {
      "text/html": [
       "<div>\n",
       "<style scoped>\n",
       "    .dataframe tbody tr th:only-of-type {\n",
       "        vertical-align: middle;\n",
       "    }\n",
       "\n",
       "    .dataframe tbody tr th {\n",
       "        vertical-align: top;\n",
       "    }\n",
       "\n",
       "    .dataframe thead th {\n",
       "        text-align: right;\n",
       "    }\n",
       "</style>\n",
       "<table border=\"1\" class=\"dataframe\">\n",
       "  <thead>\n",
       "    <tr style=\"text-align: right;\">\n",
       "      <th></th>\n",
       "      <th>mean_fit_time</th>\n",
       "      <th>std_fit_time</th>\n",
       "      <th>mean_score_time</th>\n",
       "      <th>std_score_time</th>\n",
       "      <th>param_preprocessor__scaler</th>\n",
       "      <th>param_model__l1_ratio</th>\n",
       "      <th>param_model__fit_intercept</th>\n",
       "      <th>param_model__alpha</th>\n",
       "      <th>param_model</th>\n",
       "      <th>params</th>\n",
       "      <th>split0_test_score</th>\n",
       "      <th>split1_test_score</th>\n",
       "      <th>split2_test_score</th>\n",
       "      <th>split3_test_score</th>\n",
       "      <th>split4_test_score</th>\n",
       "      <th>mean_test_score</th>\n",
       "      <th>std_test_score</th>\n",
       "      <th>rank_test_score</th>\n",
       "    </tr>\n",
       "  </thead>\n",
       "  <tbody>\n",
       "    <tr>\n",
       "      <th>7</th>\n",
       "      <td>0.184312</td>\n",
       "      <td>0.029874</td>\n",
       "      <td>0.044809</td>\n",
       "      <td>0.051910</td>\n",
       "      <td>passthrough</td>\n",
       "      <td>0.2</td>\n",
       "      <td>True</td>\n",
       "      <td>0.0001</td>\n",
       "      <td>ElasticNet(alpha=0.0001, l1_ratio=0.2, random_...</td>\n",
       "      <td>{'preprocessor__scaler': 'passthrough', 'model...</td>\n",
       "      <td>-1401.101170</td>\n",
       "      <td>-1407.636544</td>\n",
       "      <td>-1426.264573</td>\n",
       "      <td>-1439.570452</td>\n",
       "      <td>-1432.920652</td>\n",
       "      <td>-1421.498678</td>\n",
       "      <td>14.751145</td>\n",
       "      <td>1</td>\n",
       "    </tr>\n",
       "    <tr>\n",
       "      <th>9</th>\n",
       "      <td>0.137611</td>\n",
       "      <td>0.041729</td>\n",
       "      <td>0.014057</td>\n",
       "      <td>0.015752</td>\n",
       "      <td>MinMaxScaler()</td>\n",
       "      <td>NaN</td>\n",
       "      <td>True</td>\n",
       "      <td>0.0001</td>\n",
       "      <td>Ridge(random_state=5)</td>\n",
       "      <td>{'preprocessor__scaler': MinMaxScaler(), 'mode...</td>\n",
       "      <td>-1401.099498</td>\n",
       "      <td>-1407.637988</td>\n",
       "      <td>-1426.264172</td>\n",
       "      <td>-1439.569268</td>\n",
       "      <td>-1432.922575</td>\n",
       "      <td>-1421.498700</td>\n",
       "      <td>14.751318</td>\n",
       "      <td>2</td>\n",
       "    </tr>\n",
       "    <tr>\n",
       "      <th>1</th>\n",
       "      <td>0.203200</td>\n",
       "      <td>0.027895</td>\n",
       "      <td>0.044391</td>\n",
       "      <td>0.059847</td>\n",
       "      <td>StandardScaler()</td>\n",
       "      <td>0.9</td>\n",
       "      <td>True</td>\n",
       "      <td>0.01</td>\n",
       "      <td>ElasticNet(alpha=0.0001, l1_ratio=0.2, random_...</td>\n",
       "      <td>{'preprocessor__scaler': StandardScaler(), 'mo...</td>\n",
       "      <td>-1401.061927</td>\n",
       "      <td>-1407.644934</td>\n",
       "      <td>-1426.303964</td>\n",
       "      <td>-1439.573542</td>\n",
       "      <td>-1432.914426</td>\n",
       "      <td>-1421.499759</td>\n",
       "      <td>14.762776</td>\n",
       "      <td>3</td>\n",
       "    </tr>\n",
       "    <tr>\n",
       "      <th>0</th>\n",
       "      <td>0.148636</td>\n",
       "      <td>0.050367</td>\n",
       "      <td>0.064696</td>\n",
       "      <td>0.052886</td>\n",
       "      <td>MinMaxScaler()</td>\n",
       "      <td>0.4</td>\n",
       "      <td>True</td>\n",
       "      <td>0.0001</td>\n",
       "      <td>ElasticNet(alpha=0.0001, l1_ratio=0.2, random_...</td>\n",
       "      <td>{'preprocessor__scaler': MinMaxScaler(), 'mode...</td>\n",
       "      <td>-1400.984798</td>\n",
       "      <td>-1407.668783</td>\n",
       "      <td>-1426.372721</td>\n",
       "      <td>-1439.612357</td>\n",
       "      <td>-1432.909983</td>\n",
       "      <td>-1421.509729</td>\n",
       "      <td>14.793000</td>\n",
       "      <td>4</td>\n",
       "    </tr>\n",
       "    <tr>\n",
       "      <th>8</th>\n",
       "      <td>0.303593</td>\n",
       "      <td>0.001355</td>\n",
       "      <td>0.063339</td>\n",
       "      <td>0.044681</td>\n",
       "      <td>MinMaxScaler()</td>\n",
       "      <td>0.1</td>\n",
       "      <td>False</td>\n",
       "      <td>0.0001</td>\n",
       "      <td>ElasticNet(alpha=0.0001, l1_ratio=0.2, random_...</td>\n",
       "      <td>{'preprocessor__scaler': MinMaxScaler(), 'mode...</td>\n",
       "      <td>-1413.375482</td>\n",
       "      <td>-1407.486341</td>\n",
       "      <td>-1426.173657</td>\n",
       "      <td>-1440.676572</td>\n",
       "      <td>-1432.995015</td>\n",
       "      <td>-1424.141413</td>\n",
       "      <td>12.241115</td>\n",
       "      <td>5</td>\n",
       "    </tr>\n",
       "  </tbody>\n",
       "</table>\n",
       "</div>"
      ],
      "text/plain": [
       "   mean_fit_time  std_fit_time  mean_score_time  std_score_time  \\\n",
       "7       0.184312      0.029874         0.044809        0.051910   \n",
       "9       0.137611      0.041729         0.014057        0.015752   \n",
       "1       0.203200      0.027895         0.044391        0.059847   \n",
       "0       0.148636      0.050367         0.064696        0.052886   \n",
       "8       0.303593      0.001355         0.063339        0.044681   \n",
       "\n",
       "  param_preprocessor__scaler param_model__l1_ratio param_model__fit_intercept  \\\n",
       "7                passthrough                   0.2                       True   \n",
       "9             MinMaxScaler()                   NaN                       True   \n",
       "1           StandardScaler()                   0.9                       True   \n",
       "0             MinMaxScaler()                   0.4                       True   \n",
       "8             MinMaxScaler()                   0.1                      False   \n",
       "\n",
       "  param_model__alpha                                        param_model  \\\n",
       "7             0.0001  ElasticNet(alpha=0.0001, l1_ratio=0.2, random_...   \n",
       "9             0.0001                              Ridge(random_state=5)   \n",
       "1               0.01  ElasticNet(alpha=0.0001, l1_ratio=0.2, random_...   \n",
       "0             0.0001  ElasticNet(alpha=0.0001, l1_ratio=0.2, random_...   \n",
       "8             0.0001  ElasticNet(alpha=0.0001, l1_ratio=0.2, random_...   \n",
       "\n",
       "                                              params  split0_test_score  \\\n",
       "7  {'preprocessor__scaler': 'passthrough', 'model...       -1401.101170   \n",
       "9  {'preprocessor__scaler': MinMaxScaler(), 'mode...       -1401.099498   \n",
       "1  {'preprocessor__scaler': StandardScaler(), 'mo...       -1401.061927   \n",
       "0  {'preprocessor__scaler': MinMaxScaler(), 'mode...       -1400.984798   \n",
       "8  {'preprocessor__scaler': MinMaxScaler(), 'mode...       -1413.375482   \n",
       "\n",
       "   split1_test_score  split2_test_score  split3_test_score  split4_test_score  \\\n",
       "7       -1407.636544       -1426.264573       -1439.570452       -1432.920652   \n",
       "9       -1407.637988       -1426.264172       -1439.569268       -1432.922575   \n",
       "1       -1407.644934       -1426.303964       -1439.573542       -1432.914426   \n",
       "0       -1407.668783       -1426.372721       -1439.612357       -1432.909983   \n",
       "8       -1407.486341       -1426.173657       -1440.676572       -1432.995015   \n",
       "\n",
       "   mean_test_score  std_test_score  rank_test_score  \n",
       "7     -1421.498678       14.751145                1  \n",
       "9     -1421.498700       14.751318                2  \n",
       "1     -1421.499759       14.762776                3  \n",
       "0     -1421.509729       14.793000                4  \n",
       "8     -1424.141413       12.241115                5  "
      ]
     },
     "execution_count": 54,
     "metadata": {},
     "output_type": "execute_result"
    }
   ],
   "source": [
    "pd.DataFrame(pipeline_reg_0.cv_results_).sort_values(by='rank_test_score', ascending=True).head(5)"
   ]
  },
  {
   "cell_type": "code",
   "execution_count": 55,
   "metadata": {},
   "outputs": [
    {
     "data": {
      "text/plain": [
       "{'preprocessor__scaler': 'passthrough',\n",
       " 'model__l1_ratio': 0.2,\n",
       " 'model__fit_intercept': True,\n",
       " 'model__alpha': 0.0001,\n",
       " 'model': ElasticNet(alpha=0.0001, l1_ratio=0.2, random_state=5)}"
      ]
     },
     "execution_count": 55,
     "metadata": {},
     "output_type": "execute_result"
    }
   ],
   "source": [
    "pipeline_reg_0.best_params_"
   ]
  },
  {
   "cell_type": "code",
   "execution_count": 56,
   "metadata": {},
   "outputs": [
    {
     "data": {
      "text/plain": [
       "{'rmse': 37.669543516164985,\n",
       " 'mean_predictions': 92.34093614569504,\n",
       " 'mean_true': 92.22912217437192}"
      ]
     },
     "execution_count": 56,
     "metadata": {},
     "output_type": "execute_result"
    }
   ],
   "source": [
    "metrics['reg_0']"
   ]
  },
  {
   "cell_type": "markdown",
   "metadata": {},
   "source": [
    "**Модель для второго региона**"
   ]
  },
  {
   "cell_type": "code",
   "execution_count": 57,
   "metadata": {},
   "outputs": [],
   "source": [
    "rmse_reg_1, predictions_reg_1, true_label_reg_1, pipeline_reg_1 = fit_model(region_geo_1, full_pipeline, params_grid)\n",
    "metrics['reg_1'] = {\"rmse\": rmse_reg_1, \n",
    "                    \"mean_predictions\": predictions_reg_1.mean(), \n",
    "                    'mean_true': true_label_reg_1.mean()}\n",
    "\n",
    "values_for_all['reg_1'] = {'true': true_label_reg_1.reset_index(drop=True),\n",
    "                           'pred': predictions_reg_1}"
   ]
  },
  {
   "cell_type": "code",
   "execution_count": 58,
   "metadata": {},
   "outputs": [
    {
     "data": {
      "text/html": [
       "<div>\n",
       "<style scoped>\n",
       "    .dataframe tbody tr th:only-of-type {\n",
       "        vertical-align: middle;\n",
       "    }\n",
       "\n",
       "    .dataframe tbody tr th {\n",
       "        vertical-align: top;\n",
       "    }\n",
       "\n",
       "    .dataframe thead th {\n",
       "        text-align: right;\n",
       "    }\n",
       "</style>\n",
       "<table border=\"1\" class=\"dataframe\">\n",
       "  <thead>\n",
       "    <tr style=\"text-align: right;\">\n",
       "      <th></th>\n",
       "      <th>mean_fit_time</th>\n",
       "      <th>std_fit_time</th>\n",
       "      <th>mean_score_time</th>\n",
       "      <th>std_score_time</th>\n",
       "      <th>param_preprocessor__scaler</th>\n",
       "      <th>param_model__l1_ratio</th>\n",
       "      <th>param_model__fit_intercept</th>\n",
       "      <th>param_model__alpha</th>\n",
       "      <th>param_model</th>\n",
       "      <th>params</th>\n",
       "      <th>split0_test_score</th>\n",
       "      <th>split1_test_score</th>\n",
       "      <th>split2_test_score</th>\n",
       "      <th>split3_test_score</th>\n",
       "      <th>split4_test_score</th>\n",
       "      <th>mean_test_score</th>\n",
       "      <th>std_test_score</th>\n",
       "      <th>rank_test_score</th>\n",
       "    </tr>\n",
       "  </thead>\n",
       "  <tbody>\n",
       "    <tr>\n",
       "      <th>9</th>\n",
       "      <td>0.150180</td>\n",
       "      <td>0.005697</td>\n",
       "      <td>0.011484</td>\n",
       "      <td>0.010408</td>\n",
       "      <td>MinMaxScaler()</td>\n",
       "      <td>NaN</td>\n",
       "      <td>True</td>\n",
       "      <td>0.0001</td>\n",
       "      <td>Ridge(alpha=0.0001, random_state=5)</td>\n",
       "      <td>{'preprocessor__scaler': MinMaxScaler(), 'mode...</td>\n",
       "      <td>-0.799596</td>\n",
       "      <td>-0.780697</td>\n",
       "      <td>-0.790491</td>\n",
       "      <td>-0.810547</td>\n",
       "      <td>-0.788696</td>\n",
       "      <td>-0.794005</td>\n",
       "      <td>0.010223</td>\n",
       "      <td>1</td>\n",
       "    </tr>\n",
       "    <tr>\n",
       "      <th>7</th>\n",
       "      <td>0.149097</td>\n",
       "      <td>0.028736</td>\n",
       "      <td>0.071559</td>\n",
       "      <td>0.066663</td>\n",
       "      <td>passthrough</td>\n",
       "      <td>0.2</td>\n",
       "      <td>True</td>\n",
       "      <td>0.0001</td>\n",
       "      <td>ElasticNet(alpha=0.0001, l1_ratio=0.2, random_...</td>\n",
       "      <td>{'preprocessor__scaler': 'passthrough', 'model...</td>\n",
       "      <td>-0.799578</td>\n",
       "      <td>-0.780706</td>\n",
       "      <td>-0.790513</td>\n",
       "      <td>-0.810541</td>\n",
       "      <td>-0.788697</td>\n",
       "      <td>-0.794007</td>\n",
       "      <td>0.010215</td>\n",
       "      <td>2</td>\n",
       "    </tr>\n",
       "    <tr>\n",
       "      <th>0</th>\n",
       "      <td>0.142281</td>\n",
       "      <td>0.032552</td>\n",
       "      <td>0.045485</td>\n",
       "      <td>0.035982</td>\n",
       "      <td>MinMaxScaler()</td>\n",
       "      <td>0.4</td>\n",
       "      <td>True</td>\n",
       "      <td>0.0001</td>\n",
       "      <td>ElasticNet(alpha=0.0001, l1_ratio=0.2, random_...</td>\n",
       "      <td>{'preprocessor__scaler': MinMaxScaler(), 'mode...</td>\n",
       "      <td>-0.799828</td>\n",
       "      <td>-0.781399</td>\n",
       "      <td>-0.791457</td>\n",
       "      <td>-0.811015</td>\n",
       "      <td>-0.789333</td>\n",
       "      <td>-0.794606</td>\n",
       "      <td>0.010086</td>\n",
       "      <td>3</td>\n",
       "    </tr>\n",
       "    <tr>\n",
       "      <th>1</th>\n",
       "      <td>0.192683</td>\n",
       "      <td>0.040674</td>\n",
       "      <td>0.065141</td>\n",
       "      <td>0.008510</td>\n",
       "      <td>StandardScaler()</td>\n",
       "      <td>0.9</td>\n",
       "      <td>True</td>\n",
       "      <td>0.01</td>\n",
       "      <td>ElasticNet(alpha=0.0001, l1_ratio=0.2, random_...</td>\n",
       "      <td>{'preprocessor__scaler': StandardScaler(), 'mo...</td>\n",
       "      <td>-0.801773</td>\n",
       "      <td>-0.783960</td>\n",
       "      <td>-0.794508</td>\n",
       "      <td>-0.813495</td>\n",
       "      <td>-0.792098</td>\n",
       "      <td>-0.797167</td>\n",
       "      <td>0.009950</td>\n",
       "      <td>4</td>\n",
       "    </tr>\n",
       "    <tr>\n",
       "      <th>8</th>\n",
       "      <td>0.334453</td>\n",
       "      <td>0.047978</td>\n",
       "      <td>0.066075</td>\n",
       "      <td>0.043851</td>\n",
       "      <td>MinMaxScaler()</td>\n",
       "      <td>0.1</td>\n",
       "      <td>False</td>\n",
       "      <td>0.0001</td>\n",
       "      <td>ElasticNet(alpha=0.0001, l1_ratio=0.2, random_...</td>\n",
       "      <td>{'preprocessor__scaler': MinMaxScaler(), 'mode...</td>\n",
       "      <td>-2.132222</td>\n",
       "      <td>-2.124179</td>\n",
       "      <td>-2.145571</td>\n",
       "      <td>-2.077174</td>\n",
       "      <td>-2.146692</td>\n",
       "      <td>-2.125168</td>\n",
       "      <td>0.025431</td>\n",
       "      <td>5</td>\n",
       "    </tr>\n",
       "  </tbody>\n",
       "</table>\n",
       "</div>"
      ],
      "text/plain": [
       "   mean_fit_time  std_fit_time  mean_score_time  std_score_time  \\\n",
       "9       0.150180      0.005697         0.011484        0.010408   \n",
       "7       0.149097      0.028736         0.071559        0.066663   \n",
       "0       0.142281      0.032552         0.045485        0.035982   \n",
       "1       0.192683      0.040674         0.065141        0.008510   \n",
       "8       0.334453      0.047978         0.066075        0.043851   \n",
       "\n",
       "  param_preprocessor__scaler param_model__l1_ratio param_model__fit_intercept  \\\n",
       "9             MinMaxScaler()                   NaN                       True   \n",
       "7                passthrough                   0.2                       True   \n",
       "0             MinMaxScaler()                   0.4                       True   \n",
       "1           StandardScaler()                   0.9                       True   \n",
       "8             MinMaxScaler()                   0.1                      False   \n",
       "\n",
       "  param_model__alpha                                        param_model  \\\n",
       "9             0.0001                Ridge(alpha=0.0001, random_state=5)   \n",
       "7             0.0001  ElasticNet(alpha=0.0001, l1_ratio=0.2, random_...   \n",
       "0             0.0001  ElasticNet(alpha=0.0001, l1_ratio=0.2, random_...   \n",
       "1               0.01  ElasticNet(alpha=0.0001, l1_ratio=0.2, random_...   \n",
       "8             0.0001  ElasticNet(alpha=0.0001, l1_ratio=0.2, random_...   \n",
       "\n",
       "                                              params  split0_test_score  \\\n",
       "9  {'preprocessor__scaler': MinMaxScaler(), 'mode...          -0.799596   \n",
       "7  {'preprocessor__scaler': 'passthrough', 'model...          -0.799578   \n",
       "0  {'preprocessor__scaler': MinMaxScaler(), 'mode...          -0.799828   \n",
       "1  {'preprocessor__scaler': StandardScaler(), 'mo...          -0.801773   \n",
       "8  {'preprocessor__scaler': MinMaxScaler(), 'mode...          -2.132222   \n",
       "\n",
       "   split1_test_score  split2_test_score  split3_test_score  split4_test_score  \\\n",
       "9          -0.780697          -0.790491          -0.810547          -0.788696   \n",
       "7          -0.780706          -0.790513          -0.810541          -0.788697   \n",
       "0          -0.781399          -0.791457          -0.811015          -0.789333   \n",
       "1          -0.783960          -0.794508          -0.813495          -0.792098   \n",
       "8          -2.124179          -2.145571          -2.077174          -2.146692   \n",
       "\n",
       "   mean_test_score  std_test_score  rank_test_score  \n",
       "9        -0.794005        0.010223                1  \n",
       "7        -0.794007        0.010215                2  \n",
       "0        -0.794606        0.010086                3  \n",
       "1        -0.797167        0.009950                4  \n",
       "8        -2.125168        0.025431                5  "
      ]
     },
     "execution_count": 58,
     "metadata": {},
     "output_type": "execute_result"
    }
   ],
   "source": [
    "pd.DataFrame(pipeline_reg_1.cv_results_).sort_values(by='rank_test_score', ascending=True).head(5)"
   ]
  },
  {
   "cell_type": "code",
   "execution_count": 59,
   "metadata": {},
   "outputs": [
    {
     "data": {
      "text/plain": [
       "{'preprocessor__scaler': MinMaxScaler(),\n",
       " 'model__fit_intercept': True,\n",
       " 'model__alpha': 0.0001,\n",
       " 'model': Ridge(alpha=0.0001, random_state=5)}"
      ]
     },
     "execution_count": 59,
     "metadata": {},
     "output_type": "execute_result"
    }
   ],
   "source": [
    "pipeline_reg_1.best_params_"
   ]
  },
  {
   "cell_type": "code",
   "execution_count": 60,
   "metadata": {},
   "outputs": [
    {
     "data": {
      "text/plain": [
       "{'rmse': 0.8884333549762944,\n",
       " 'mean_predictions': 68.85479389979118,\n",
       " 'mean_true': 68.85200925086139}"
      ]
     },
     "execution_count": 60,
     "metadata": {},
     "output_type": "execute_result"
    }
   ],
   "source": [
    "metrics['reg_1']"
   ]
  },
  {
   "cell_type": "markdown",
   "metadata": {},
   "source": [
    "**Модель для третьего региона**"
   ]
  },
  {
   "cell_type": "code",
   "execution_count": 61,
   "metadata": {},
   "outputs": [],
   "source": [
    "rmse_reg_2, predictions_reg_2, true_label_reg_2, pipeline_reg_2 = fit_model(region_geo_2, full_pipeline, params_grid)\n",
    "metrics['reg_2'] = {\"rmse\": rmse_reg_2, \n",
    "                    \"mean_predictions\": predictions_reg_2.mean(), \n",
    "                    'mean_true': true_label_reg_2.mean()}\n",
    "\n",
    "values_for_all['reg_2'] = {'true': true_label_reg_2.reset_index(drop=True),\n",
    "                           'pred': predictions_reg_2}"
   ]
  },
  {
   "cell_type": "code",
   "execution_count": 62,
   "metadata": {},
   "outputs": [
    {
     "data": {
      "text/html": [
       "<div>\n",
       "<style scoped>\n",
       "    .dataframe tbody tr th:only-of-type {\n",
       "        vertical-align: middle;\n",
       "    }\n",
       "\n",
       "    .dataframe tbody tr th {\n",
       "        vertical-align: top;\n",
       "    }\n",
       "\n",
       "    .dataframe thead th {\n",
       "        text-align: right;\n",
       "    }\n",
       "</style>\n",
       "<table border=\"1\" class=\"dataframe\">\n",
       "  <thead>\n",
       "    <tr style=\"text-align: right;\">\n",
       "      <th></th>\n",
       "      <th>mean_fit_time</th>\n",
       "      <th>std_fit_time</th>\n",
       "      <th>mean_score_time</th>\n",
       "      <th>std_score_time</th>\n",
       "      <th>param_preprocessor__scaler</th>\n",
       "      <th>param_model__l1_ratio</th>\n",
       "      <th>param_model__fit_intercept</th>\n",
       "      <th>param_model__alpha</th>\n",
       "      <th>param_model</th>\n",
       "      <th>params</th>\n",
       "      <th>split0_test_score</th>\n",
       "      <th>split1_test_score</th>\n",
       "      <th>split2_test_score</th>\n",
       "      <th>split3_test_score</th>\n",
       "      <th>split4_test_score</th>\n",
       "      <th>mean_test_score</th>\n",
       "      <th>std_test_score</th>\n",
       "      <th>rank_test_score</th>\n",
       "    </tr>\n",
       "  </thead>\n",
       "  <tbody>\n",
       "    <tr>\n",
       "      <th>1</th>\n",
       "      <td>0.183146</td>\n",
       "      <td>0.040167</td>\n",
       "      <td>0.155623</td>\n",
       "      <td>0.043215</td>\n",
       "      <td>StandardScaler()</td>\n",
       "      <td>0.9</td>\n",
       "      <td>True</td>\n",
       "      <td>0.01</td>\n",
       "      <td>ElasticNet(alpha=0.01, l1_ratio=0.9, random_st...</td>\n",
       "      <td>{'preprocessor__scaler': StandardScaler(), 'mo...</td>\n",
       "      <td>-1586.743738</td>\n",
       "      <td>-1616.496433</td>\n",
       "      <td>-1602.901453</td>\n",
       "      <td>-1598.066580</td>\n",
       "      <td>-1589.102618</td>\n",
       "      <td>-1598.662164</td>\n",
       "      <td>10.675404</td>\n",
       "      <td>1</td>\n",
       "    </tr>\n",
       "    <tr>\n",
       "      <th>7</th>\n",
       "      <td>0.152287</td>\n",
       "      <td>0.029235</td>\n",
       "      <td>0.107783</td>\n",
       "      <td>0.055855</td>\n",
       "      <td>passthrough</td>\n",
       "      <td>0.2</td>\n",
       "      <td>True</td>\n",
       "      <td>0.0001</td>\n",
       "      <td>ElasticNet(alpha=0.01, l1_ratio=0.9, random_st...</td>\n",
       "      <td>{'preprocessor__scaler': 'passthrough', 'model...</td>\n",
       "      <td>-1586.753307</td>\n",
       "      <td>-1616.504758</td>\n",
       "      <td>-1602.914534</td>\n",
       "      <td>-1598.079583</td>\n",
       "      <td>-1589.070306</td>\n",
       "      <td>-1598.664498</td>\n",
       "      <td>10.682741</td>\n",
       "      <td>2</td>\n",
       "    </tr>\n",
       "    <tr>\n",
       "      <th>9</th>\n",
       "      <td>0.155268</td>\n",
       "      <td>0.005008</td>\n",
       "      <td>0.006424</td>\n",
       "      <td>0.000312</td>\n",
       "      <td>MinMaxScaler()</td>\n",
       "      <td>NaN</td>\n",
       "      <td>True</td>\n",
       "      <td>0.0001</td>\n",
       "      <td>Ridge(alpha=0.0001, random_state=5)</td>\n",
       "      <td>{'preprocessor__scaler': MinMaxScaler(), 'mode...</td>\n",
       "      <td>-1586.753350</td>\n",
       "      <td>-1616.504796</td>\n",
       "      <td>-1602.914597</td>\n",
       "      <td>-1598.079604</td>\n",
       "      <td>-1589.070179</td>\n",
       "      <td>-1598.664505</td>\n",
       "      <td>10.682772</td>\n",
       "      <td>3</td>\n",
       "    </tr>\n",
       "    <tr>\n",
       "      <th>0</th>\n",
       "      <td>0.130351</td>\n",
       "      <td>0.051532</td>\n",
       "      <td>0.126681</td>\n",
       "      <td>0.049176</td>\n",
       "      <td>MinMaxScaler()</td>\n",
       "      <td>0.4</td>\n",
       "      <td>True</td>\n",
       "      <td>0.0001</td>\n",
       "      <td>ElasticNet(alpha=0.01, l1_ratio=0.9, random_st...</td>\n",
       "      <td>{'preprocessor__scaler': MinMaxScaler(), 'mode...</td>\n",
       "      <td>-1586.738114</td>\n",
       "      <td>-1616.491507</td>\n",
       "      <td>-1602.887005</td>\n",
       "      <td>-1598.088410</td>\n",
       "      <td>-1589.144558</td>\n",
       "      <td>-1598.669919</td>\n",
       "      <td>10.666128</td>\n",
       "      <td>4</td>\n",
       "    </tr>\n",
       "    <tr>\n",
       "      <th>8</th>\n",
       "      <td>0.341177</td>\n",
       "      <td>0.047899</td>\n",
       "      <td>0.082248</td>\n",
       "      <td>0.069295</td>\n",
       "      <td>MinMaxScaler()</td>\n",
       "      <td>0.1</td>\n",
       "      <td>False</td>\n",
       "      <td>0.0001</td>\n",
       "      <td>ElasticNet(alpha=0.01, l1_ratio=0.9, random_st...</td>\n",
       "      <td>{'preprocessor__scaler': MinMaxScaler(), 'mode...</td>\n",
       "      <td>-1589.624352</td>\n",
       "      <td>-1619.789800</td>\n",
       "      <td>-1606.232350</td>\n",
       "      <td>-1599.543061</td>\n",
       "      <td>-1594.952528</td>\n",
       "      <td>-1602.028418</td>\n",
       "      <td>10.423491</td>\n",
       "      <td>5</td>\n",
       "    </tr>\n",
       "  </tbody>\n",
       "</table>\n",
       "</div>"
      ],
      "text/plain": [
       "   mean_fit_time  std_fit_time  mean_score_time  std_score_time  \\\n",
       "1       0.183146      0.040167         0.155623        0.043215   \n",
       "7       0.152287      0.029235         0.107783        0.055855   \n",
       "9       0.155268      0.005008         0.006424        0.000312   \n",
       "0       0.130351      0.051532         0.126681        0.049176   \n",
       "8       0.341177      0.047899         0.082248        0.069295   \n",
       "\n",
       "  param_preprocessor__scaler param_model__l1_ratio param_model__fit_intercept  \\\n",
       "1           StandardScaler()                   0.9                       True   \n",
       "7                passthrough                   0.2                       True   \n",
       "9             MinMaxScaler()                   NaN                       True   \n",
       "0             MinMaxScaler()                   0.4                       True   \n",
       "8             MinMaxScaler()                   0.1                      False   \n",
       "\n",
       "  param_model__alpha                                        param_model  \\\n",
       "1               0.01  ElasticNet(alpha=0.01, l1_ratio=0.9, random_st...   \n",
       "7             0.0001  ElasticNet(alpha=0.01, l1_ratio=0.9, random_st...   \n",
       "9             0.0001                Ridge(alpha=0.0001, random_state=5)   \n",
       "0             0.0001  ElasticNet(alpha=0.01, l1_ratio=0.9, random_st...   \n",
       "8             0.0001  ElasticNet(alpha=0.01, l1_ratio=0.9, random_st...   \n",
       "\n",
       "                                              params  split0_test_score  \\\n",
       "1  {'preprocessor__scaler': StandardScaler(), 'mo...       -1586.743738   \n",
       "7  {'preprocessor__scaler': 'passthrough', 'model...       -1586.753307   \n",
       "9  {'preprocessor__scaler': MinMaxScaler(), 'mode...       -1586.753350   \n",
       "0  {'preprocessor__scaler': MinMaxScaler(), 'mode...       -1586.738114   \n",
       "8  {'preprocessor__scaler': MinMaxScaler(), 'mode...       -1589.624352   \n",
       "\n",
       "   split1_test_score  split2_test_score  split3_test_score  split4_test_score  \\\n",
       "1       -1616.496433       -1602.901453       -1598.066580       -1589.102618   \n",
       "7       -1616.504758       -1602.914534       -1598.079583       -1589.070306   \n",
       "9       -1616.504796       -1602.914597       -1598.079604       -1589.070179   \n",
       "0       -1616.491507       -1602.887005       -1598.088410       -1589.144558   \n",
       "8       -1619.789800       -1606.232350       -1599.543061       -1594.952528   \n",
       "\n",
       "   mean_test_score  std_test_score  rank_test_score  \n",
       "1     -1598.662164       10.675404                1  \n",
       "7     -1598.664498       10.682741                2  \n",
       "9     -1598.664505       10.682772                3  \n",
       "0     -1598.669919       10.666128                4  \n",
       "8     -1602.028418       10.423491                5  "
      ]
     },
     "execution_count": 62,
     "metadata": {},
     "output_type": "execute_result"
    }
   ],
   "source": [
    "pd.DataFrame(pipeline_reg_2.cv_results_).sort_values(by='rank_test_score', ascending=True).head(5)"
   ]
  },
  {
   "cell_type": "code",
   "execution_count": 63,
   "metadata": {},
   "outputs": [
    {
     "data": {
      "text/plain": [
       "{'preprocessor__scaler': StandardScaler(),\n",
       " 'model__l1_ratio': 0.9,\n",
       " 'model__fit_intercept': True,\n",
       " 'model__alpha': 0.01,\n",
       " 'model': ElasticNet(alpha=0.01, l1_ratio=0.9, random_state=5)}"
      ]
     },
     "execution_count": 63,
     "metadata": {},
     "output_type": "execute_result"
    }
   ],
   "source": [
    "pipeline_reg_2.best_params_"
   ]
  },
  {
   "cell_type": "code",
   "execution_count": 64,
   "metadata": {},
   "outputs": [
    {
     "data": {
      "text/plain": [
       "{'rmse': 40.27810298175063,\n",
       " 'mean_predictions': 95.02417147034583,\n",
       " 'mean_true': 95.08866941281924}"
      ]
     },
     "execution_count": 64,
     "metadata": {},
     "output_type": "execute_result"
    }
   ],
   "source": [
    "metrics['reg_2']"
   ]
  },
  {
   "cell_type": "markdown",
   "metadata": {},
   "source": [
    "**Вывод**:\n",
    "- В качестве улучшения кода и гибкости подбора параметров для модели был реализован пайплайн и функции для обучения моделей. \n",
    "- В качестве моделей выступали: `LinearRegression`, `Lasso`, `Ridge`, `ElasticNet`, которые удовлетворяют условиям задачи \"Использование линейной модели\"\n",
    "- Пользуясь парадигмой DRY была реализована функция обучения моделей для каждого региона.\n",
    "- Для первого региона:\n",
    "    - Лучшая модель: `ElasticNet(alpha=0.0001, l1_ratio=0.2, random_state=5)`\n",
    "    - Значение RMSE на валидационной выборке: 37.7\n",
    "    - Средний запас предсказанного сырья: 92.34 тыс.\n",
    "    - Средний запас реального сырья: 92.23 тыс.\n",
    "- Для второго региона:\n",
    "    - Лучшая модель: `Ridge(alpha=0.0001, random_state=5)`\n",
    "    - Значение RMSE на валидационной выборке: 0.88\n",
    "    - Средний запас предсказанного сырья: 68.85 тыс.\n",
    "    - Средний запас реального сырья: 68.85 тыс.\n",
    "- Для третьего региона:\n",
    "    - Лучшая модель: `ElasticNet(alpha=0.01, l1_ratio=0.9, random_state=5)`\n",
    "    - Значение RMSE на валидационной выборке: 40.27\n",
    "    - Средний запас предсказанного сырья: 95.02 тыс.\n",
    "    - Средний запас реального сырья: 95.09 тыс."
   ]
  },
  {
   "cell_type": "markdown",
   "metadata": {},
   "source": [
    "## Подготовка к расчёту прибыли"
   ]
  },
  {
   "cell_type": "markdown",
   "metadata": {},
   "source": [
    "1. Все ключевые значения для расчетов сохраняются в отдельных переменных.\n",
    "2. Рассчитывается достаточный объем сырья для безубыточной разработки новой скважины и сравнивается со средним запасом в каждом регионе.\n",
    "3. Пишутся выводы по этапу подготовки расчёта прибыли."
   ]
  },
  {
   "cell_type": "code",
   "execution_count": 65,
   "metadata": {},
   "outputs": [],
   "source": [
    "# 500 точек и 200 лучших\n",
    "NUMBER = 500  \n",
    "BEST = 200    \n",
    "# Затраты на разработку\n",
    "BUDGET = 10 ** 7 \n",
    "# Доход \n",
    "COST_1_BARREL = 450 \n",
    "# Количество выборок\n",
    "NUM_CIRCLE_BOOSTRAP = 1000 "
   ]
  },
  {
   "cell_type": "markdown",
   "metadata": {},
   "source": [
    "Рассчитаем достаточный объём сырья для безубыточной разработки новой скважины. Сравним полученный объём сырья со средним запасом в каждом регионе."
   ]
  },
  {
   "cell_type": "code",
   "execution_count": 66,
   "metadata": {},
   "outputs": [
    {
     "name": "stdout",
     "output_type": "stream",
     "text": [
      "Точка неубыточности: больше, чем 22222 тыс. баррелей на каждый регион.\n",
      "\n",
      "Средний объем нефти в скважине, для неубыточной работы: больше, чем 111 тыс. баррелей.\n"
     ]
    }
   ],
   "source": [
    "print(\"Точка неубыточности: больше, чем {0:.0f} тыс. баррелей на каждый регион.\\n\". \\\n",
    "      format(BUDGET / COST_1_BARREL))\n",
    "print(\"Средний объем нефти в скважине, для неубыточной работы: больше, чем {0:.0f} тыс. баррелей.\". \\\n",
    "      format(BUDGET / COST_1_BARREL /BEST))"
   ]
  },
  {
   "cell_type": "markdown",
   "metadata": {},
   "source": [
    "Проверим какие объемы нефти предсказаны моделями и действительно существуют."
   ]
  },
  {
   "cell_type": "code",
   "execution_count": 67,
   "metadata": {},
   "outputs": [
    {
     "name": "stdout",
     "output_type": "stream",
     "text": [
      "Для региона reg_0\n",
      "Предсказанные значения меньше, чем необходимые для окупаемости, 92.34 тыс. < 111 тыс.\n",
      "Реальные значения меньше, чем необходимые для окупаемости, 92.23 тыс. < 111 тыс.\n",
      "\n",
      "Для региона reg_1\n",
      "Предсказанные значения меньше, чем необходимые для окупаемости, 68.85 тыс. < 111 тыс.\n",
      "Реальные значения меньше, чем необходимые для окупаемости, 68.85 тыс. < 111 тыс.\n",
      "\n",
      "Для региона reg_2\n",
      "Предсказанные значения меньше, чем необходимые для окупаемости, 95.02 тыс. < 111 тыс.\n",
      "Реальные значения меньше, чем необходимые для окупаемости, 95.09 тыс. < 111 тыс.\n",
      "\n"
     ]
    }
   ],
   "source": [
    "for keys, values in metrics.items():\n",
    "    print(f'Для региона {keys}')\n",
    "    if values['mean_predictions'] < 111:\n",
    "        print(f'Предсказанные значения меньше, чем необходимые для окупаемости, {round(values[\"mean_predictions\"], 2)} тыс. < 111 тыс.')\n",
    "    else:\n",
    "        print(f'Предсказанные значения больше, чем необходимые, разработка окупится, {round(values[\"mean_predictions\"], 2)} тыс. > 111 тыс.')\n",
    "\n",
    "    if values['mean_true'] < 111:\n",
    "        print(f'Реальные значения меньше, чем необходимые для окупаемости, {round(values[\"mean_true\"], 2)} тыс. < 111 тыс.')\n",
    "    else:\n",
    "        print(f'Реальные значения больше, чем необходимые, разработка окупится, {round(values[\"mean_true\"], 2)} тыс. > 111 тыс.')\n",
    "    print()"
   ]
  },
  {
   "cell_type": "markdown",
   "metadata": {},
   "source": [
    "**Вывод**:\n",
    "- Поскольку все средний объём запасов в скважине (тыс. барреле) для всех скважин в каждом регионе меньше, чем необходимый для окупаемости объем, необходимо провести анализ точек и выбрать из них 200 лучших для разработки."
   ]
  },
  {
   "cell_type": "code",
   "execution_count": 68,
   "metadata": {},
   "outputs": [],
   "source": [
    "def calc_profit(target, predictions):\n",
    "    predictions_sorted = pd.Series(predictions).sort_values(ascending=False)\n",
    "    top_indices = predictions_sorted.index[:BEST] \n",
    "    target_selected = target.iloc[top_indices]\n",
    "\n",
    "    return (target_selected.sum() * COST_1_BARREL - BUDGET)"
   ]
  },
  {
   "cell_type": "code",
   "execution_count": 69,
   "metadata": {},
   "outputs": [
    {
     "data": {
      "text/html": [
       "<div>\n",
       "<style scoped>\n",
       "    .dataframe tbody tr th:only-of-type {\n",
       "        vertical-align: middle;\n",
       "    }\n",
       "\n",
       "    .dataframe tbody tr th {\n",
       "        vertical-align: top;\n",
       "    }\n",
       "\n",
       "    .dataframe thead th {\n",
       "        text-align: right;\n",
       "    }\n",
       "</style>\n",
       "<table border=\"1\" class=\"dataframe\">\n",
       "  <thead>\n",
       "    <tr style=\"text-align: right;\">\n",
       "      <th></th>\n",
       "      <th>Регион</th>\n",
       "      <th>Прибыль (в млрд.)</th>\n",
       "    </tr>\n",
       "  </thead>\n",
       "  <tbody>\n",
       "    <tr>\n",
       "      <th>0</th>\n",
       "      <td>reg_0</td>\n",
       "      <td>3.24</td>\n",
       "    </tr>\n",
       "    <tr>\n",
       "      <th>1</th>\n",
       "      <td>reg_1</td>\n",
       "      <td>2.42</td>\n",
       "    </tr>\n",
       "    <tr>\n",
       "      <th>2</th>\n",
       "      <td>reg_2</td>\n",
       "      <td>2.33</td>\n",
       "    </tr>\n",
       "  </tbody>\n",
       "</table>\n",
       "</div>"
      ],
      "text/plain": [
       "  Регион  Прибыль (в млрд.)\n",
       "0  reg_0               3.24\n",
       "1  reg_1               2.42\n",
       "2  reg_2               2.33"
      ]
     },
     "execution_count": 69,
     "metadata": {},
     "output_type": "execute_result"
    }
   ],
   "source": [
    "profit_regions = pd.DataFrame(columns=['Регион', 'Прибыль (в млрд.)'])\n",
    "for keys, values in values_for_all.items():\n",
    "    profit_regions.loc[len(profit_regions)] = keys, round(calc_profit(values['true'], values['pred']) / 10**6, 2)\n",
    "\n",
    "profit_regions"
   ]
  },
  {
   "cell_type": "markdown",
   "metadata": {},
   "source": [
    "**Вывод**:\n",
    "- Все три региона прибыльные, если выбрать наиболее выгодные точки месторождений для разработки"
   ]
  },
  {
   "cell_type": "markdown",
   "metadata": {},
   "source": [
    "## Расчёт прибыли и рисков "
   ]
  },
  {
   "cell_type": "markdown",
   "metadata": {},
   "source": [
    "1. Функция для расчёта прибыли по выбранным скважинам и предсказаниям модели:\n",
    "   - Выбираются скважины с максимальными предсказаниями.\n",
    "   - Суммируется целевое значение объёма сырья, соответствующее этим предсказаниям.\n",
    "   - Рассчитывается прибыль для полученного объёма сырья.\n",
    "\n",
    "2. Риски и прибыль для каждого региона:\n",
    "   - Применяется _Bootstrap_ с 1000 выборок для нахождения распределения прибыли.\n",
    "   - Вычисляются средняя прибыль, 95%-й доверительный интервал и риск убытков. Убыток — отрицательная прибыль.\n",
    "   - Пишутся выводы с предложением региона для разработки скважин и обоснованием этого выбора."
   ]
  },
  {
   "cell_type": "code",
   "execution_count": 70,
   "metadata": {},
   "outputs": [],
   "source": [
    "df_result = pd.DataFrame(columns=['Регион', \n",
    "                                  'Средняя прибыль, млн', \n",
    "                                  'Левая граница 95% дов. инт., млн', \n",
    "                                  'Правая граница 95% дов. инт., млн', \n",
    "                                  'Риски, %'])\n",
    "\n",
    "names_reg = ['1 регион', '2 регион', '3 регион']\n",
    "\n",
    "for num, (key, value) in enumerate(values_for_all.items()):\n",
    "    pred = value['pred']\n",
    "    true_target = value['true']\n",
    "\n",
    "    profit = []\n",
    "    for _ in range(NUM_CIRCLE_BOOSTRAP):\n",
    "        true_sample = true_target.sample(NUMBER, replace=True, random_state=STATE)\n",
    "        pred_sample = pred[true_sample.index]\n",
    "\n",
    "        true_sample.reset_index(drop=True, inplace=True)\n",
    "        \n",
    "        profit.append(calc_profit(true_sample, pred_sample))\n",
    "        \n",
    "    profit = pd.Series(profit)\n",
    "\n",
    "    mean_profit = round(profit.mean() / 1000, 2)\n",
    "    confidence_inteval_start = round(profit.quantile(0.025) / 1000, 2)\n",
    "    confidence_inteval_end = round(profit.quantile(0.975) / 1000, 2)\n",
    "    risk = (profit < 0).mean() * 100\n",
    "\n",
    "    df_result.loc[len(df_result)] = names_reg[num], mean_profit, confidence_inteval_start, confidence_inteval_end, risk"
   ]
  },
  {
   "cell_type": "markdown",
   "metadata": {},
   "source": [
    "\n",
    "<div class=\"alert alert-block alert-success\">\n",
    "<b>Успех:</b> С бутстрапом тоже все в порядке (сэмплирование происходит с возвращением), метрики считаются верным образом!  \n",
    "</div>"
   ]
  },
  {
   "cell_type": "code",
   "execution_count": 71,
   "metadata": {},
   "outputs": [
    {
     "data": {
      "text/html": [
       "<div>\n",
       "<style scoped>\n",
       "    .dataframe tbody tr th:only-of-type {\n",
       "        vertical-align: middle;\n",
       "    }\n",
       "\n",
       "    .dataframe tbody tr th {\n",
       "        vertical-align: top;\n",
       "    }\n",
       "\n",
       "    .dataframe thead th {\n",
       "        text-align: right;\n",
       "    }\n",
       "</style>\n",
       "<table border=\"1\" class=\"dataframe\">\n",
       "  <thead>\n",
       "    <tr style=\"text-align: right;\">\n",
       "      <th></th>\n",
       "      <th>Регион</th>\n",
       "      <th>Средняя прибыль, млн</th>\n",
       "      <th>Левая граница 95% дов. инт., млн</th>\n",
       "      <th>Правая граница 95% дов. инт., млн</th>\n",
       "      <th>Риски, %</th>\n",
       "    </tr>\n",
       "  </thead>\n",
       "  <tbody>\n",
       "    <tr>\n",
       "      <th>0</th>\n",
       "      <td>1 регион</td>\n",
       "      <td>400.75</td>\n",
       "      <td>-105.70</td>\n",
       "      <td>901.52</td>\n",
       "      <td>6.5</td>\n",
       "    </tr>\n",
       "    <tr>\n",
       "      <th>1</th>\n",
       "      <td>2 регион</td>\n",
       "      <td>469.89</td>\n",
       "      <td>63.91</td>\n",
       "      <td>897.94</td>\n",
       "      <td>1.0</td>\n",
       "    </tr>\n",
       "    <tr>\n",
       "      <th>2</th>\n",
       "      <td>3 регион</td>\n",
       "      <td>324.59</td>\n",
       "      <td>-204.97</td>\n",
       "      <td>870.05</td>\n",
       "      <td>10.7</td>\n",
       "    </tr>\n",
       "  </tbody>\n",
       "</table>\n",
       "</div>"
      ],
      "text/plain": [
       "     Регион  Средняя прибыль, млн  Левая граница 95% дов. инт., млн  \\\n",
       "0  1 регион                400.75                           -105.70   \n",
       "1  2 регион                469.89                             63.91   \n",
       "2  3 регион                324.59                           -204.97   \n",
       "\n",
       "   Правая граница 95% дов. инт., млн  Риски, %  \n",
       "0                             901.52       6.5  \n",
       "1                             897.94       1.0  \n",
       "2                             870.05      10.7  "
      ]
     },
     "execution_count": 71,
     "metadata": {},
     "output_type": "execute_result"
    }
   ],
   "source": [
    "df_result"
   ]
  },
  {
   "cell_type": "code",
   "execution_count": 72,
   "metadata": {},
   "outputs": [
    {
     "data": {
      "text/plain": [
       "Text(0.5, 1.0, 'Риски для каждого региона для 200 лучших точек')"
      ]
     },
     "execution_count": 72,
     "metadata": {},
     "output_type": "execute_result"
    },
    {
     "data": {
      "image/png": "[encoded data removed]",
      "text/plain": [
       "<Figure size 432x288 with 1 Axes>"
      ]
     },
     "metadata": {
      "needs_background": "light"
     },
     "output_type": "display_data"
    }
   ],
   "source": [
    "figure = sns.barplot(data=df_result, y='Риски, %', x='Регион')\n",
    "figure.bar_label(figure.containers[0], fontsize=10);\n",
    "figure.set_title('Риски для каждого региона для 200 лучших точек')"
   ]
  },
  {
   "cell_type": "markdown",
   "metadata": {},
   "source": [
    "**Вывод**:\n",
    "- Только для 2 региона вероятность убытков меньше 2,5%\n",
    "- Средняя прибыль для второго региона составляет более 400 млн рублей\n",
    "- Левая граница 95% доверительного интервала не содержит отрицательных значений, в отличие от двух других регионов"
   ]
  },
  {
   "cell_type": "markdown",
   "metadata": {},
   "source": [
    "## Итоговый вывод по проекту:\n",
    "- Были проанализированны датасеты с данными: для каждого региона представлены данные о трех входных признаках и таргете - объеме продукта в баррелях. Среди записей таблицы были обнаружены дубликаты по уникальным идентификаторам скважин, были принято решение удалить эти данные. Всего было удалено 18 записей. Среди данных полных дубликатов или пропусков не было обнаружено.\n",
    "- Для всех трех регионов были построены графики распределения количественных признаков:\n",
    "    - В зависимости от региона, распределение признаков очень сильно меняется. На графиках присутствует как нормальное распределение, так и графики с аномальными выбросами, крайне аномальные распределения для второго региона.\n",
    "- Была построена матрица корреляции для каждого региона:\n",
    "    - Для датасета второго региона обнаружена очень высокая корреляционная связь между признаком `f2` и `product` - практически равная 1.\n",
    "    - Для датасетов первого и третьего региона для признака `f2` наблюдается умеренная корреляция с таргетом\n",
    "    \n",
    "- Было произведено обучение моделей для каждого региона, поскольку данные сильно различаются от региона к региону.\n",
    "    - В качестве улучшения кода и гибкости подбора параметров для модели был реализован пайплайн и функции для обучения моделей. \n",
    "    - В качестве моделей выступали: `LinearRegression`, `Lasso`, `Ridge`, `ElasticNet`, которые удовлетворяют условиям задачи \"Использование линейной модели\"\n",
    "    - Пользуясь парадигмой DRY была реализована функция обучения моделей для каждого региона.\n",
    "    - Для первого региона:\n",
    "        - Лучшая модель: `ElasticNet(alpha=0.0001, l1_ratio=0.2, random_state=5)`\n",
    "        - Значение RMSE на валидационной выборке: 37.7\n",
    "        - Средний запас предсказанного сырья: 92.34 тыс.\n",
    "        - Средний запас реального сырья: 92.23 тыс.\n",
    "    - Для второго региона:\n",
    "        - Лучшая модель: `Ridge(alpha=0.0001, random_state=5)`\n",
    "        - Значение RMSE на валидационной выборке: 0.88\n",
    "        - Средний запас предсказанного сырья: 68.85 тыс.\n",
    "        - Средний запас реального сырья: 68.85 тыс.\n",
    "    - Для третьего региона:\n",
    "        - Лучшая модель: `ElasticNet(alpha=0.01, l1_ratio=0.9, random_state=5)`\n",
    "        - Значение RMSE на валидационной выборке: 40.27\n",
    "        - Средний запас предсказанного сырья: 95.02 тыс.\n",
    "        - Средний запас реального сырья: 95.09 тыс.\n",
    "- Был произведен расчет прибыли, в результате которого было принято решение о прибыльности всех трех регионов, однако необходимо использовать не все 500 точек, а подобрать 200 лучших. В результате получены данные о предполагаемой прибыльности регионов:"
   ]
  },
  {
   "cell_type": "code",
   "execution_count": 73,
   "metadata": {},
   "outputs": [
    {
     "data": {
      "text/html": [
       "<div>\n",
       "<style scoped>\n",
       "    .dataframe tbody tr th:only-of-type {\n",
       "        vertical-align: middle;\n",
       "    }\n",
       "\n",
       "    .dataframe tbody tr th {\n",
       "        vertical-align: top;\n",
       "    }\n",
       "\n",
       "    .dataframe thead th {\n",
       "        text-align: right;\n",
       "    }\n",
       "</style>\n",
       "<table border=\"1\" class=\"dataframe\">\n",
       "  <thead>\n",
       "    <tr style=\"text-align: right;\">\n",
       "      <th></th>\n",
       "      <th>Регион</th>\n",
       "      <th>Прибыль (в млрд.)</th>\n",
       "    </tr>\n",
       "  </thead>\n",
       "  <tbody>\n",
       "    <tr>\n",
       "      <th>0</th>\n",
       "      <td>reg_0</td>\n",
       "      <td>3.24</td>\n",
       "    </tr>\n",
       "    <tr>\n",
       "      <th>1</th>\n",
       "      <td>reg_1</td>\n",
       "      <td>2.42</td>\n",
       "    </tr>\n",
       "    <tr>\n",
       "      <th>2</th>\n",
       "      <td>reg_2</td>\n",
       "      <td>2.33</td>\n",
       "    </tr>\n",
       "  </tbody>\n",
       "</table>\n",
       "</div>"
      ],
      "text/plain": [
       "  Регион  Прибыль (в млрд.)\n",
       "0  reg_0               3.24\n",
       "1  reg_1               2.42\n",
       "2  reg_2               2.33"
      ]
     },
     "execution_count": 73,
     "metadata": {},
     "output_type": "execute_result"
    }
   ],
   "source": [
    "profit_regions"
   ]
  },
  {
   "cell_type": "markdown",
   "metadata": {},
   "source": [
    "Где:\n",
    "- `reg_0` - первый регион\n",
    "- `reg_1` - второй регион\n",
    "- `reg_2` - третий регион"
   ]
  },
  {
   "cell_type": "markdown",
   "metadata": {},
   "source": [
    "- был произведен расчет прибыли и рисков с использованием Bootstrap, в результате которого минимальные риски были обнаружены только у второго региона (меньше 2,5 процентов)\n",
    "- получены результаты о 95% доверительном интервале и средней прибыли с региона."
   ]
  },
  {
   "cell_type": "code",
   "execution_count": 74,
   "metadata": {},
   "outputs": [
    {
     "data": {
      "text/html": [
       "<div>\n",
       "<style scoped>\n",
       "    .dataframe tbody tr th:only-of-type {\n",
       "        vertical-align: middle;\n",
       "    }\n",
       "\n",
       "    .dataframe tbody tr th {\n",
       "        vertical-align: top;\n",
       "    }\n",
       "\n",
       "    .dataframe thead th {\n",
       "        text-align: right;\n",
       "    }\n",
       "</style>\n",
       "<table border=\"1\" class=\"dataframe\">\n",
       "  <thead>\n",
       "    <tr style=\"text-align: right;\">\n",
       "      <th></th>\n",
       "      <th>Регион</th>\n",
       "      <th>Средняя прибыль, млн</th>\n",
       "      <th>Левая граница 95% дов. инт., млн</th>\n",
       "      <th>Правая граница 95% дов. инт., млн</th>\n",
       "      <th>Риски, %</th>\n",
       "    </tr>\n",
       "  </thead>\n",
       "  <tbody>\n",
       "    <tr>\n",
       "      <th>0</th>\n",
       "      <td>1 регион</td>\n",
       "      <td>400.75</td>\n",
       "      <td>-105.70</td>\n",
       "      <td>901.52</td>\n",
       "      <td>6.5</td>\n",
       "    </tr>\n",
       "    <tr>\n",
       "      <th>1</th>\n",
       "      <td>2 регион</td>\n",
       "      <td>469.89</td>\n",
       "      <td>63.91</td>\n",
       "      <td>897.94</td>\n",
       "      <td>1.0</td>\n",
       "    </tr>\n",
       "    <tr>\n",
       "      <th>2</th>\n",
       "      <td>3 регион</td>\n",
       "      <td>324.59</td>\n",
       "      <td>-204.97</td>\n",
       "      <td>870.05</td>\n",
       "      <td>10.7</td>\n",
       "    </tr>\n",
       "  </tbody>\n",
       "</table>\n",
       "</div>"
      ],
      "text/plain": [
       "     Регион  Средняя прибыль, млн  Левая граница 95% дов. инт., млн  \\\n",
       "0  1 регион                400.75                           -105.70   \n",
       "1  2 регион                469.89                             63.91   \n",
       "2  3 регион                324.59                           -204.97   \n",
       "\n",
       "   Правая граница 95% дов. инт., млн  Риски, %  \n",
       "0                             901.52       6.5  \n",
       "1                             897.94       1.0  \n",
       "2                             870.05      10.7  "
      ]
     },
     "execution_count": 74,
     "metadata": {},
     "output_type": "execute_result"
    }
   ],
   "source": [
    "df_result"
   ]
  },
  {
   "cell_type": "markdown",
   "metadata": {},
   "source": [
    "- На основании выполненного эксперимента и рассчетов предлагается использовать для разработки **второй регион**"
   ]
  },
  {
   "cell_type": "code",
   "execution_count": null,
   "metadata": {},
   "outputs": [],
   "source": []
  }
 ],
 "metadata": {
  "ExecuteTimeLog": [
   {
    "duration": 7,
    "start_time": "2024-05-06T14:45:58.743Z"
   },
   {
    "duration": 46,
    "start_time": "2024-05-06T14:46:47.016Z"
   },
   {
    "duration": 5,
    "start_time": "2024-05-06T14:46:53.120Z"
   },
   {
    "duration": 1375,
    "start_time": "2024-05-06T14:48:37.149Z"
   },
   {
    "duration": 4,
    "start_time": "2024-05-06T14:48:38.525Z"
   },
   {
    "duration": 37,
    "start_time": "2024-05-06T14:48:52.389Z"
   },
   {
    "duration": 70,
    "start_time": "2024-05-06T14:49:42.045Z"
   },
   {
    "duration": 51,
    "start_time": "2024-05-06T14:51:11.580Z"
   },
   {
    "duration": 62,
    "start_time": "2024-05-06T14:51:27.493Z"
   },
   {
    "duration": 48,
    "start_time": "2024-05-06T14:56:11.471Z"
   },
   {
    "duration": 106,
    "start_time": "2024-05-06T14:58:23.052Z"
   },
   {
    "duration": 2,
    "start_time": "2024-05-06T14:58:26.594Z"
   },
   {
    "duration": 652,
    "start_time": "2024-05-06T14:58:28.574Z"
   },
   {
    "duration": 4,
    "start_time": "2024-05-06T14:59:08.604Z"
   },
   {
    "duration": 61389,
    "start_time": "2024-05-09T06:09:19.931Z"
   },
   {
    "duration": 1947,
    "start_time": "2024-05-09T06:10:21.323Z"
   },
   {
    "duration": 5,
    "start_time": "2024-05-09T06:10:23.272Z"
   },
   {
    "duration": 31,
    "start_time": "2024-05-09T06:10:23.279Z"
   },
   {
    "duration": 23,
    "start_time": "2024-05-09T06:10:23.312Z"
   },
   {
    "duration": 729,
    "start_time": "2024-05-09T06:10:23.337Z"
   },
   {
    "duration": 131,
    "start_time": "2024-05-09T06:10:24.068Z"
   },
   {
    "duration": 0,
    "start_time": "2024-05-09T06:10:24.202Z"
   },
   {
    "duration": 0,
    "start_time": "2024-05-09T06:10:24.203Z"
   },
   {
    "duration": 0,
    "start_time": "2024-05-09T06:10:24.204Z"
   },
   {
    "duration": 0,
    "start_time": "2024-05-09T06:10:24.205Z"
   },
   {
    "duration": 0,
    "start_time": "2024-05-09T06:10:24.207Z"
   },
   {
    "duration": 0,
    "start_time": "2024-05-09T06:10:24.208Z"
   },
   {
    "duration": 0,
    "start_time": "2024-05-09T06:10:24.209Z"
   },
   {
    "duration": 0,
    "start_time": "2024-05-09T06:10:24.211Z"
   },
   {
    "duration": 0,
    "start_time": "2024-05-09T06:10:24.212Z"
   },
   {
    "duration": 0,
    "start_time": "2024-05-09T06:10:24.231Z"
   },
   {
    "duration": 0,
    "start_time": "2024-05-09T06:10:24.232Z"
   },
   {
    "duration": 0,
    "start_time": "2024-05-09T06:10:24.233Z"
   },
   {
    "duration": 0,
    "start_time": "2024-05-09T06:10:24.234Z"
   },
   {
    "duration": 0,
    "start_time": "2024-05-09T06:10:24.235Z"
   },
   {
    "duration": 0,
    "start_time": "2024-05-09T06:10:24.236Z"
   },
   {
    "duration": 0,
    "start_time": "2024-05-09T06:10:24.237Z"
   },
   {
    "duration": 0,
    "start_time": "2024-05-09T06:10:24.239Z"
   },
   {
    "duration": 0,
    "start_time": "2024-05-09T06:10:24.240Z"
   },
   {
    "duration": 0,
    "start_time": "2024-05-09T06:10:24.241Z"
   },
   {
    "duration": 0,
    "start_time": "2024-05-09T06:10:24.242Z"
   },
   {
    "duration": 0,
    "start_time": "2024-05-09T06:10:24.244Z"
   },
   {
    "duration": 0,
    "start_time": "2024-05-09T06:10:24.245Z"
   },
   {
    "duration": 0,
    "start_time": "2024-05-09T06:10:24.246Z"
   },
   {
    "duration": 0,
    "start_time": "2024-05-09T06:10:24.247Z"
   },
   {
    "duration": 0,
    "start_time": "2024-05-09T06:10:24.248Z"
   },
   {
    "duration": 0,
    "start_time": "2024-05-09T06:10:24.249Z"
   },
   {
    "duration": 0,
    "start_time": "2024-05-09T06:10:24.250Z"
   },
   {
    "duration": 0,
    "start_time": "2024-05-09T06:10:24.251Z"
   },
   {
    "duration": 0,
    "start_time": "2024-05-09T06:10:24.252Z"
   },
   {
    "duration": 0,
    "start_time": "2024-05-09T06:10:24.253Z"
   },
   {
    "duration": 0,
    "start_time": "2024-05-09T06:10:24.254Z"
   },
   {
    "duration": 0,
    "start_time": "2024-05-09T06:10:24.255Z"
   },
   {
    "duration": 0,
    "start_time": "2024-05-09T06:10:24.256Z"
   },
   {
    "duration": 0,
    "start_time": "2024-05-09T06:10:24.257Z"
   },
   {
    "duration": 0,
    "start_time": "2024-05-09T06:10:24.258Z"
   },
   {
    "duration": 0,
    "start_time": "2024-05-09T06:10:24.259Z"
   },
   {
    "duration": 0,
    "start_time": "2024-05-09T06:10:24.261Z"
   },
   {
    "duration": 0,
    "start_time": "2024-05-09T06:10:24.261Z"
   },
   {
    "duration": 0,
    "start_time": "2024-05-09T06:10:24.262Z"
   },
   {
    "duration": 0,
    "start_time": "2024-05-09T06:10:24.264Z"
   },
   {
    "duration": 0,
    "start_time": "2024-05-09T06:10:24.265Z"
   },
   {
    "duration": 0,
    "start_time": "2024-05-09T06:10:24.266Z"
   },
   {
    "duration": 0,
    "start_time": "2024-05-09T06:10:24.267Z"
   },
   {
    "duration": 0,
    "start_time": "2024-05-09T06:10:24.329Z"
   },
   {
    "duration": 0,
    "start_time": "2024-05-09T06:10:24.331Z"
   },
   {
    "duration": 0,
    "start_time": "2024-05-09T06:10:24.332Z"
   },
   {
    "duration": 0,
    "start_time": "2024-05-09T06:10:24.333Z"
   },
   {
    "duration": 0,
    "start_time": "2024-05-09T06:10:24.334Z"
   },
   {
    "duration": 0,
    "start_time": "2024-05-09T06:10:24.335Z"
   },
   {
    "duration": 0,
    "start_time": "2024-05-09T06:10:24.336Z"
   },
   {
    "duration": 0,
    "start_time": "2024-05-09T06:10:24.338Z"
   },
   {
    "duration": 0,
    "start_time": "2024-05-09T06:10:24.339Z"
   },
   {
    "duration": 0,
    "start_time": "2024-05-09T06:10:24.340Z"
   },
   {
    "duration": 0,
    "start_time": "2024-05-09T06:10:24.341Z"
   },
   {
    "duration": 0,
    "start_time": "2024-05-09T06:10:24.343Z"
   },
   {
    "duration": 0,
    "start_time": "2024-05-09T06:10:24.344Z"
   },
   {
    "duration": 12,
    "start_time": "2024-05-09T06:11:23.589Z"
   },
   {
    "duration": 465,
    "start_time": "2024-05-09T06:11:25.686Z"
   },
   {
    "duration": 10,
    "start_time": "2024-05-09T06:11:28.246Z"
   },
   {
    "duration": 441,
    "start_time": "2024-05-09T06:11:38.754Z"
   },
   {
    "duration": 32620,
    "start_time": "2024-05-09T06:11:40.524Z"
   },
   {
    "duration": 5,
    "start_time": "2024-05-09T06:12:13.147Z"
   },
   {
    "duration": 11,
    "start_time": "2024-05-09T06:12:13.153Z"
   },
   {
    "duration": 15,
    "start_time": "2024-05-09T06:12:13.166Z"
   },
   {
    "duration": 6,
    "start_time": "2024-05-09T06:12:13.183Z"
   },
   {
    "duration": 455,
    "start_time": "2024-05-09T06:12:13.191Z"
   },
   {
    "duration": 64,
    "start_time": "2024-05-09T06:12:13.647Z"
   },
   {
    "duration": 30,
    "start_time": "2024-05-09T06:12:13.713Z"
   },
   {
    "duration": 21,
    "start_time": "2024-05-09T06:12:13.745Z"
   },
   {
    "duration": 30,
    "start_time": "2024-05-09T06:12:13.769Z"
   },
   {
    "duration": 15,
    "start_time": "2024-05-09T06:12:13.800Z"
   },
   {
    "duration": 29,
    "start_time": "2024-05-09T06:12:13.818Z"
   },
   {
    "duration": 14,
    "start_time": "2024-05-09T06:12:13.849Z"
   },
   {
    "duration": 31,
    "start_time": "2024-05-09T06:12:13.865Z"
   },
   {
    "duration": 67,
    "start_time": "2024-05-09T06:12:13.898Z"
   },
   {
    "duration": 11,
    "start_time": "2024-05-09T06:12:13.966Z"
   },
   {
    "duration": 10,
    "start_time": "2024-05-09T06:12:13.979Z"
   },
   {
    "duration": 44,
    "start_time": "2024-05-09T06:12:13.990Z"
   },
   {
    "duration": 14,
    "start_time": "2024-05-09T06:12:14.036Z"
   },
   {
    "duration": 27,
    "start_time": "2024-05-09T06:12:14.052Z"
   },
   {
    "duration": 55,
    "start_time": "2024-05-09T06:12:14.080Z"
   },
   {
    "duration": 15,
    "start_time": "2024-05-09T06:12:14.137Z"
   },
   {
    "duration": 76,
    "start_time": "2024-05-09T06:12:14.154Z"
   },
   {
    "duration": 10,
    "start_time": "2024-05-09T06:12:14.232Z"
   },
   {
    "duration": 15,
    "start_time": "2024-05-09T06:12:14.244Z"
   },
   {
    "duration": 58,
    "start_time": "2024-05-09T06:12:14.261Z"
   },
   {
    "duration": 38,
    "start_time": "2024-05-09T06:12:14.321Z"
   },
   {
    "duration": 6,
    "start_time": "2024-05-09T06:12:14.363Z"
   },
   {
    "duration": 20,
    "start_time": "2024-05-09T06:12:14.370Z"
   },
   {
    "duration": 39,
    "start_time": "2024-05-09T06:12:14.392Z"
   },
   {
    "duration": 5555,
    "start_time": "2024-05-09T06:12:14.433Z"
   },
   {
    "duration": 40,
    "start_time": "2024-05-09T06:12:19.990Z"
   },
   {
    "duration": 5432,
    "start_time": "2024-05-09T06:12:20.032Z"
   },
   {
    "duration": 37,
    "start_time": "2024-05-09T06:12:25.466Z"
   },
   {
    "duration": 5447,
    "start_time": "2024-05-09T06:12:25.505Z"
   },
   {
    "duration": 5,
    "start_time": "2024-05-09T06:12:30.953Z"
   },
   {
    "duration": 1542,
    "start_time": "2024-05-09T06:12:30.959Z"
   },
   {
    "duration": 4,
    "start_time": "2024-05-09T06:12:32.502Z"
   },
   {
    "duration": 63,
    "start_time": "2024-05-09T06:12:32.508Z"
   },
   {
    "duration": 94,
    "start_time": "2024-05-09T06:12:32.572Z"
   },
   {
    "duration": 31,
    "start_time": "2024-05-09T06:12:32.667Z"
   },
   {
    "duration": 14332,
    "start_time": "2024-05-09T06:12:32.700Z"
   },
   {
    "duration": 117,
    "start_time": "2024-05-09T06:12:47.034Z"
   },
   {
    "duration": 4,
    "start_time": "2024-05-09T06:12:47.153Z"
   },
   {
    "duration": 16,
    "start_time": "2024-05-09T06:12:47.159Z"
   },
   {
    "duration": 13953,
    "start_time": "2024-05-09T06:12:47.177Z"
   },
   {
    "duration": 25,
    "start_time": "2024-05-09T06:13:01.131Z"
   },
   {
    "duration": 36,
    "start_time": "2024-05-09T06:13:01.157Z"
   },
   {
    "duration": 28,
    "start_time": "2024-05-09T06:13:01.195Z"
   },
   {
    "duration": 15112,
    "start_time": "2024-05-09T06:13:01.225Z"
   },
   {
    "duration": 112,
    "start_time": "2024-05-09T06:13:16.339Z"
   },
   {
    "duration": 19,
    "start_time": "2024-05-09T06:13:16.453Z"
   },
   {
    "duration": 16,
    "start_time": "2024-05-09T06:13:16.474Z"
   },
   {
    "duration": 9,
    "start_time": "2024-05-09T06:13:16.492Z"
   },
   {
    "duration": 6,
    "start_time": "2024-05-09T06:13:16.502Z"
   },
   {
    "duration": 14,
    "start_time": "2024-05-09T06:13:16.510Z"
   },
   {
    "duration": 9,
    "start_time": "2024-05-09T06:13:16.528Z"
   },
   {
    "duration": 22,
    "start_time": "2024-05-09T06:13:16.539Z"
   },
   {
    "duration": 1728,
    "start_time": "2024-05-09T06:13:16.563Z"
   },
   {
    "duration": 9,
    "start_time": "2024-05-09T06:13:18.293Z"
   },
   {
    "duration": 382,
    "start_time": "2024-05-09T06:13:18.304Z"
   },
   {
    "duration": 7,
    "start_time": "2024-05-09T06:13:18.688Z"
   },
   {
    "duration": 10,
    "start_time": "2024-05-09T06:13:18.697Z"
   },
   {
    "duration": 56,
    "start_time": "2024-05-09T07:20:12.312Z"
   }
  ],
  "kernelspec": {
   "display_name": "Python 3 (ipykernel)",
   "language": "python",
   "name": "python3"
  },
  "language_info": {
   "codemirror_mode": {
    "name": "ipython",
    "version": 3
   },
   "file_extension": ".py",
   "mimetype": "text/x-python",
   "name": "python",
   "nbconvert_exporter": "python",
   "pygments_lexer": "ipython3",
   "version": "3.9.5"
  },
  "toc": {
   "base_numbering": 1,
   "nav_menu": {},
   "number_sections": true,
   "sideBar": true,
   "skip_h1_title": true,
   "title_cell": "Table of Contents",
   "title_sidebar": "Contents",
   "toc_cell": false,
   "toc_position": {},
   "toc_section_display": true,
   "toc_window_display": false
  }
 },
 "nbformat": 4,
 "nbformat_minor": 4
}
